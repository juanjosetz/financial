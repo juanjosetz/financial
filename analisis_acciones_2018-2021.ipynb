{
 "cells": [
  {
   "cell_type": "markdown",
   "metadata": {},
   "source": [
    "# Análisis de acciones de empresas ecuatorianas \n",
    "### Junio/2018 - Junio/2021"
   ]
  },
  {
   "cell_type": "markdown",
   "metadata": {},
   "source": [
    "**Autor:   Juan José Triviño Zambrano**  \n",
    "**Fecha:   Junio 30, 2021**"
   ]
  },
  {
   "cell_type": "markdown",
   "metadata": {},
   "source": [
    "Hace exactamente un año ya, de la publicación de mi estudio [Valoración de títulos de renta fija](https://nbviewer.jupyter.org/github/juanjosetz/financial/blob/master/valoracion_titulos.ipynb). Para esta ocasión he creido conveniente hacer en cambio un estudio de renta variable, más especificamente de acciones. Esta vez, no desde la perspectiva de valoración de títulos como se lo hizo en el estudio antes mencionado, sino desde la perspectiva del análisis de los rendimientos históricos que arrojaron las acciones más populares de la década pasada. Para esto haremos uso de ciertos conceptos estadísticos, financieros y bursátiles; todo esto apoyado nuevamente, como no, de nuestra querida \"navaja suiza\" **Python** con sus estupendas librerías para el manejo, análisis y visualización de datos."
   ]
  },
  {
   "cell_type": "markdown",
   "metadata": {},
   "source": [
    "## Fuente de la información\n",
    "### Bolsa de Valores de Guayaquil\n",
    "\n",
    "La Bolsa de Valores de Guayaquil a través de su [sitio web](https://www.bolsadevaloresguayaquil.com/valoracion/index.asp), en el apartado de valoración, publica información referente a títulos de renta fija y renta variable. No es la mejor forma de presentar la información (a través de hojas de cálculo), algo que denota la falta de técnica en la publicación de la información. Hay que decir que esto lo viene realizando desde el año 2007 sin que en todos estos años, hayan innovado o mejorado la forma de proporcionar la información a sus usuarios/clientes, cuando hoy en día existen fabulosas herramientas basadas en web, para trabajar con tablas de datos e inclusive bases de datos relacionales. Aún así, \"es lo que hay\" y se le puede sacar provecho de alguna manera.\n",
    "\n",
    "La información viene presentada en dos vertientes:\n",
    "1. **Diaria:** Que regoge la información a diario, la cual solo está disponible en su último día, pues se actualiza cada día laborable.\n",
    "2. **Histórica:** Que recoge la información mensualmente, para lo cual existe un directorio para todo su historial desde el año 2007."
   ]
  },
  {
   "cell_type": "markdown",
   "metadata": {},
   "source": [
    "## Metodología del análisis\n",
    "\n",
    "El rendimiento de una acción es determinado por dos factores:\n",
    "\n",
    "1. Revalorización del precio de la acción\n",
    "2. Dividendos recibidos\n",
    "\n",
    "En este sentido, seleccionaremos las 10 compañias más representativas en bolsa de los últimos tres años y evaluaremos todas las ganancias de capital y dividendos recibidos a través del período de análisis. Esto no supone mayor difcultad, lo retador es, estructurar todos los datos desde la fuente, dada la rusticidad y desorganización de la información que se presenta."
   ]
  },
  {
   "cell_type": "markdown",
   "metadata": {},
   "source": [
    "## Obtención y preparación de datos"
   ]
  },
  {
   "cell_type": "markdown",
   "metadata": {},
   "source": [
    "### Descarga de los archivos desde el directorio web\n",
    "Lo que necesitamos ahora es toda la data histórica para después agrupar y consolidar la información a través del tiempo y poder construir una suerte de datos de panel. Para esto tenemos que descargar todos estos reportes mensuales contenidos en los archivos *xls*. Aparentemente estos ficheros solo están disponibles para el año actual y el anterior, pues así se muestra en su pestaña `Histórico`. Los demás ficheros de años anteriores si se encuentran disponibles pero permanecen ocultos de la interfaz web. Para tener acceso a ellos debemos primero ingresar al [directorio](https://www.bolsadevaloresguayaquil.com/valoracion/Historico/) donde están alojados todos estos ficheros. Una vez dentro, ya podemos descargar todos los ficheros y así lo haremos, pero no de la forma ortodoxa de ir descargando uno por uno los archivos, sino que diseñaremos una función para que haga el trabajo por nosotros.\n",
    "Además de descargarlos, la diseñaremos para que le dé un nombre más adecuado a los archivos `(aa-mm-dd)`, esto para que estén mejor ordenados con un formato estándar de patrón de fecha, algo que nos servirá para asociar cada reporte de precios a una fecha en concreto."
   ]
  },
  {
   "cell_type": "code",
   "execution_count": 1,
   "metadata": {},
   "outputs": [],
   "source": [
    "from bs4 import BeautifulSoup\n",
    "import requests\n",
    "import re"
   ]
  },
  {
   "cell_type": "code",
   "execution_count": 2,
   "metadata": {},
   "outputs": [],
   "source": [
    "def descargar_archivos():\n",
    "    url = \"https://www.bolsadevaloresguayaquil.com/valoracion/Historico/\"\n",
    "    codigo_html = requests.get(url).text\n",
    "    web = BeautifulSoup(codigo_html, \"lxml\")\n",
    "    links = web.find_all('a')\n",
    "    url_links = [url[:39] + links[href].get('href') for href in range(1,len(links))]\n",
    "    meses = {'Enero':'01', 'Febrero':'02', 'Marzo':'03', 'Abril':'04', 'Mayo':'05', 'Junio':'06',\n",
    "             'Julio':'07', 'Agosto':'08', 'Septiembre':'09', 'Octubre':'10', 'Noviembre':'11', 'Diciembre':'12'}\n",
    "    \n",
    "    for url in url_links:\n",
    "        idx = url.rfind('/')\n",
    "        nombre_ini = url[idx+1:]\n",
    "        lista = re.findall('\\d+|\\D+', nombre_ini)\n",
    "        \n",
    "        if len(lista) == 4:\n",
    "            nombre_fin = f'{lista[2]}-{meses[lista[1]]}-{lista[0]}{lista[3]}'\n",
    "            resp = requests.get(url)\n",
    "            \n",
    "            with open(nombre_fin, 'wb') as output:\n",
    "                output.write(resp.content)"
   ]
  },
  {
   "cell_type": "markdown",
   "metadata": {},
   "source": [
    "## Operaciones con los ficheros descargados"
   ]
  },
  {
   "cell_type": "markdown",
   "metadata": {},
   "source": [
    "### Extrayendo la data de los archivos\n",
    "\n",
    ">Uno de los problemas (de los tantos) de las hojas de cálculo, es que la información suele venir 'desorganizada y sucia'. No hay problema, diseñaremos un programa que nos permita extraer la data relevante para nuestro análisis, descartando la información que no vayamos a utilizar.\n",
    "\n",
    "El algoritmo siguiente extrae los datos relevantes para este análisis de cada uno de los ficheros descargados y los guarda en el objeto `data`:"
   ]
  },
  {
   "cell_type": "code",
   "execution_count": 3,
   "metadata": {},
   "outputs": [],
   "source": [
    "import os\n",
    "import numpy as np\n",
    "import pandas as pd\n",
    "from datetime import datetime"
   ]
  },
  {
   "cell_type": "code",
   "execution_count": 4,
   "metadata": {},
   "outputs": [],
   "source": [
    "directorio = \"archivos/\"\n",
    "data = []\n",
    "\n",
    "for filename in os.listdir(directorio):\n",
    "    fecha = filename[:8]\n",
    "    campos = ['Unnamed: 0', '# RUEDAS', \"PRESENCIA\", \"# RUEDAS.1\", \"PRESENCIA.1\", \"CIERRE NACIONAL\"]\n",
    "    df = pd.read_excel(directorio + filename, 'Precios-Renta Variable', skiprows=8, index_col=0, usecols=campos)\n",
    "    df.dropna(inplace=True)\n",
    "    df['CIERRE NACIONAL'].replace('*', np.nan, inplace=True)\n",
    "    df['FECHA'] = pd.to_datetime(fecha, format='%y-%m-%d', errors='ignore')\n",
    "    data.append(df)\n",
    "    \n",
    "cias = df.index"
   ]
  },
  {
   "cell_type": "markdown",
   "metadata": {},
   "source": [
    "### Consolidando toda la información en un `DataFrame`\n",
    "\n",
    "Una vez con todos los datos agrupados, necesitamos consolidar la información que hay en ella (contiene datos de la Bolsa de Valores de Guayaquil y de la Bolsa de Valores de Quito). Para ello se implementa el siguiente algoritmo:"
   ]
  },
  {
   "cell_type": "code",
   "execution_count": 5,
   "metadata": {},
   "outputs": [],
   "source": [
    "consolidado = pd.concat(data)\n",
    "consolidado = consolidado.astype({'# RUEDAS': int, \"PRESENCIA\": float, \"# RUEDAS.1\": int })\n",
    "nombre_columnas = ['RUEDAS.UIO', 'PRESENCIA.UIO', 'RUEDAS.GYE', 'PRESENCIA.GYE', 'PRECIO', 'FECHA']\n",
    "consolidado.columns = nombre_columnas\n",
    "consolidado['PRESENCIA'] = (consolidado['PRESENCIA.UIO']+consolidado['PRESENCIA.GYE'])/2"
   ]
  },
  {
   "cell_type": "markdown",
   "metadata": {},
   "source": [
    "La información consolidada se presenta en la siguiente tabla, donde los datos que utilizaremos posteriormente son:\n",
    "* **Precios** (Cierre Nacional) y;\n",
    "* **Presencia Bursátil**, que en este caso se ha recogido el promedio entre las dos bolsas Quito y Guayaquil"
   ]
  },
  {
   "cell_type": "code",
   "execution_count": 6,
   "metadata": {
    "tags": []
   },
   "outputs": [
    {
     "data": {
      "text/html": [
       "<div>\n",
       "<style scoped>\n",
       "    .dataframe tbody tr th:only-of-type {\n",
       "        vertical-align: middle;\n",
       "    }\n",
       "\n",
       "    .dataframe tbody tr th {\n",
       "        vertical-align: top;\n",
       "    }\n",
       "\n",
       "    .dataframe thead th {\n",
       "        text-align: right;\n",
       "    }\n",
       "</style>\n",
       "<table border=\"1\" class=\"dataframe\">\n",
       "  <thead>\n",
       "    <tr style=\"text-align: right;\">\n",
       "      <th></th>\n",
       "      <th>RUEDAS.UIO</th>\n",
       "      <th>PRESENCIA.UIO</th>\n",
       "      <th>RUEDAS.GYE</th>\n",
       "      <th>PRESENCIA.GYE</th>\n",
       "      <th>PRECIO</th>\n",
       "      <th>FECHA</th>\n",
       "      <th>PRESENCIA</th>\n",
       "    </tr>\n",
       "  </thead>\n",
       "  <tbody>\n",
       "    <tr>\n",
       "      <th>AGRICOLA INDUSTRIAL TROPICAL</th>\n",
       "      <td>0</td>\n",
       "      <td>0.000000</td>\n",
       "      <td>0</td>\n",
       "      <td>0.000000</td>\n",
       "      <td>NaN</td>\n",
       "      <td>2007-01-31</td>\n",
       "      <td>0.000000</td>\n",
       "    </tr>\n",
       "    <tr>\n",
       "      <th>BANCO AMAZONAS</th>\n",
       "      <td>0</td>\n",
       "      <td>0.000000</td>\n",
       "      <td>0</td>\n",
       "      <td>0.000000</td>\n",
       "      <td>NaN</td>\n",
       "      <td>2007-01-31</td>\n",
       "      <td>0.000000</td>\n",
       "    </tr>\n",
       "    <tr>\n",
       "      <th>BANCO BOLIVARIANO</th>\n",
       "      <td>1</td>\n",
       "      <td>0.016667</td>\n",
       "      <td>7</td>\n",
       "      <td>0.114754</td>\n",
       "      <td>1.10</td>\n",
       "      <td>2007-01-31</td>\n",
       "      <td>0.065710</td>\n",
       "    </tr>\n",
       "    <tr>\n",
       "      <th>BANCO DE GUAYAQUIL</th>\n",
       "      <td>59</td>\n",
       "      <td>0.983333</td>\n",
       "      <td>60</td>\n",
       "      <td>0.983607</td>\n",
       "      <td>3.20</td>\n",
       "      <td>2007-01-31</td>\n",
       "      <td>0.983470</td>\n",
       "    </tr>\n",
       "    <tr>\n",
       "      <th>BANCO SOLIDARIO</th>\n",
       "      <td>10</td>\n",
       "      <td>0.166667</td>\n",
       "      <td>2</td>\n",
       "      <td>0.032787</td>\n",
       "      <td>0.95</td>\n",
       "      <td>2007-01-31</td>\n",
       "      <td>0.099727</td>\n",
       "    </tr>\n",
       "    <tr>\n",
       "      <th>...</th>\n",
       "      <td>...</td>\n",
       "      <td>...</td>\n",
       "      <td>...</td>\n",
       "      <td>...</td>\n",
       "      <td>...</td>\n",
       "      <td>...</td>\n",
       "      <td>...</td>\n",
       "    </tr>\n",
       "    <tr>\n",
       "      <th>SOCIEDAD AGRICOLA E IND. SAN CARLOS</th>\n",
       "      <td>1</td>\n",
       "      <td>0.015625</td>\n",
       "      <td>2</td>\n",
       "      <td>0.031250</td>\n",
       "      <td>0.60</td>\n",
       "      <td>2021-06-30</td>\n",
       "      <td>0.023438</td>\n",
       "    </tr>\n",
       "    <tr>\n",
       "      <th>SUPERDEPORTE</th>\n",
       "      <td>0</td>\n",
       "      <td>0.000000</td>\n",
       "      <td>0</td>\n",
       "      <td>0.000000</td>\n",
       "      <td>NaN</td>\n",
       "      <td>2021-06-30</td>\n",
       "      <td>0.000000</td>\n",
       "    </tr>\n",
       "    <tr>\n",
       "      <th>SURPAPELCORP</th>\n",
       "      <td>0</td>\n",
       "      <td>0.000000</td>\n",
       "      <td>0</td>\n",
       "      <td>0.000000</td>\n",
       "      <td>NaN</td>\n",
       "      <td>2021-06-30</td>\n",
       "      <td>0.000000</td>\n",
       "    </tr>\n",
       "    <tr>\n",
       "      <th>TECATEAK S.A.</th>\n",
       "      <td>0</td>\n",
       "      <td>0.000000</td>\n",
       "      <td>1</td>\n",
       "      <td>0.015625</td>\n",
       "      <td>3.65</td>\n",
       "      <td>2021-06-30</td>\n",
       "      <td>0.007812</td>\n",
       "    </tr>\n",
       "    <tr>\n",
       "      <th>VALLE GRANDE FORESTAL</th>\n",
       "      <td>0</td>\n",
       "      <td>0.000000</td>\n",
       "      <td>1</td>\n",
       "      <td>0.015625</td>\n",
       "      <td>NaN</td>\n",
       "      <td>2021-06-30</td>\n",
       "      <td>0.007812</td>\n",
       "    </tr>\n",
       "  </tbody>\n",
       "</table>\n",
       "<p>8061 rows × 7 columns</p>\n",
       "</div>"
      ],
      "text/plain": [
       "                                     RUEDAS.UIO  PRESENCIA.UIO  RUEDAS.GYE  \\\n",
       "AGRICOLA INDUSTRIAL TROPICAL                  0       0.000000           0   \n",
       "BANCO AMAZONAS                                0       0.000000           0   \n",
       "BANCO BOLIVARIANO                             1       0.016667           7   \n",
       "BANCO DE GUAYAQUIL                           59       0.983333          60   \n",
       "BANCO SOLIDARIO                              10       0.166667           2   \n",
       "...                                         ...            ...         ...   \n",
       "SOCIEDAD AGRICOLA E IND. SAN CARLOS           1       0.015625           2   \n",
       "SUPERDEPORTE                                  0       0.000000           0   \n",
       "SURPAPELCORP                                  0       0.000000           0   \n",
       "TECATEAK S.A.                                 0       0.000000           1   \n",
       "VALLE GRANDE FORESTAL                         0       0.000000           1   \n",
       "\n",
       "                                     PRESENCIA.GYE  PRECIO      FECHA  \\\n",
       "AGRICOLA INDUSTRIAL TROPICAL              0.000000     NaN 2007-01-31   \n",
       "BANCO AMAZONAS                            0.000000     NaN 2007-01-31   \n",
       "BANCO BOLIVARIANO                         0.114754    1.10 2007-01-31   \n",
       "BANCO DE GUAYAQUIL                        0.983607    3.20 2007-01-31   \n",
       "BANCO SOLIDARIO                           0.032787    0.95 2007-01-31   \n",
       "...                                            ...     ...        ...   \n",
       "SOCIEDAD AGRICOLA E IND. SAN CARLOS       0.031250    0.60 2021-06-30   \n",
       "SUPERDEPORTE                              0.000000     NaN 2021-06-30   \n",
       "SURPAPELCORP                              0.000000     NaN 2021-06-30   \n",
       "TECATEAK S.A.                             0.015625    3.65 2021-06-30   \n",
       "VALLE GRANDE FORESTAL                     0.015625     NaN 2021-06-30   \n",
       "\n",
       "                                     PRESENCIA  \n",
       "AGRICOLA INDUSTRIAL TROPICAL          0.000000  \n",
       "BANCO AMAZONAS                        0.000000  \n",
       "BANCO BOLIVARIANO                     0.065710  \n",
       "BANCO DE GUAYAQUIL                    0.983470  \n",
       "BANCO SOLIDARIO                       0.099727  \n",
       "...                                        ...  \n",
       "SOCIEDAD AGRICOLA E IND. SAN CARLOS   0.023438  \n",
       "SUPERDEPORTE                          0.000000  \n",
       "SURPAPELCORP                          0.000000  \n",
       "TECATEAK S.A.                         0.007812  \n",
       "VALLE GRANDE FORESTAL                 0.007812  \n",
       "\n",
       "[8061 rows x 7 columns]"
      ]
     },
     "execution_count": 6,
     "metadata": {},
     "output_type": "execute_result"
    }
   ],
   "source": [
    "consolidado"
   ]
  },
  {
   "cell_type": "markdown",
   "metadata": {},
   "source": [
    "## Precios"
   ]
  },
  {
   "cell_type": "markdown",
   "metadata": {},
   "source": [
    "Del consolidado anterior pivoteamos la tabla para crear una nueva tabla solamente de precios. Esta tabla nos servirá de base para ubicar los precios a través del tiempo.\n",
    "\n",
    ">**Observación:** La periodicidad de los datos es mensual, de tal manera que puede existir alguna imprecisión de los valores para una determinada fecha que no coincida con el corte de fin de mes."
   ]
  },
  {
   "cell_type": "code",
   "execution_count": 7,
   "metadata": {},
   "outputs": [
    {
     "data": {
      "text/html": [
       "<div>\n",
       "<style scoped>\n",
       "    .dataframe tbody tr th:only-of-type {\n",
       "        vertical-align: middle;\n",
       "    }\n",
       "\n",
       "    .dataframe tbody tr th {\n",
       "        vertical-align: top;\n",
       "    }\n",
       "\n",
       "    .dataframe thead th {\n",
       "        text-align: right;\n",
       "    }\n",
       "</style>\n",
       "<table border=\"1\" class=\"dataframe\">\n",
       "  <thead>\n",
       "    <tr style=\"text-align: right;\">\n",
       "      <th></th>\n",
       "      <th>CERVECERIA NACIONAL CN S.A. - PREFERIDAS</th>\n",
       "      <th>FIDEICOMISO HOTEL CIUDAD DEL RIO</th>\n",
       "      <th>CERRO ALTO FORESTAL</th>\n",
       "      <th>INGENIO AZUCARERO DEL NORTE COMPAÑIA DE ECONOMIA MIXTA IANCEM</th>\n",
       "      <th>FIDEICOMISO MERCANTIL  “GM HOTEL”</th>\n",
       "      <th>EL TECAL</th>\n",
       "      <th>CERVECERIA NACIONAL CN S.A.</th>\n",
       "      <th>LA SABANA FORESTAL</th>\n",
       "      <th>HOLCIM ECUADOR VN 3.00</th>\n",
       "      <th>RIO GRANDE FORESTAL</th>\n",
       "      <th>...</th>\n",
       "      <th>HOLDING TONICORP</th>\n",
       "      <th>CRIDESA</th>\n",
       "      <th>CIALCO</th>\n",
       "      <th>CERRO VERDE FORESTAL BIGFOREST</th>\n",
       "      <th>MERIZA</th>\n",
       "      <th>TECATEAK S.A.</th>\n",
       "      <th>CORP.DESARROLLO M.S.HIPOTECAS CTH</th>\n",
       "      <th>BOLSA DE VALORES DE GUAYAQUIL S.A. BVG</th>\n",
       "      <th>CONCLINA CONJUNTO CLINICO NACIONAL -PREFERIDAS A</th>\n",
       "      <th>CORPORACION FAVORITA</th>\n",
       "    </tr>\n",
       "    <tr>\n",
       "      <th>FECHA</th>\n",
       "      <th></th>\n",
       "      <th></th>\n",
       "      <th></th>\n",
       "      <th></th>\n",
       "      <th></th>\n",
       "      <th></th>\n",
       "      <th></th>\n",
       "      <th></th>\n",
       "      <th></th>\n",
       "      <th></th>\n",
       "      <th></th>\n",
       "      <th></th>\n",
       "      <th></th>\n",
       "      <th></th>\n",
       "      <th></th>\n",
       "      <th></th>\n",
       "      <th></th>\n",
       "      <th></th>\n",
       "      <th></th>\n",
       "      <th></th>\n",
       "      <th></th>\n",
       "    </tr>\n",
       "  </thead>\n",
       "  <tbody>\n",
       "    <tr>\n",
       "      <th>2007-01-31</th>\n",
       "      <td>NaN</td>\n",
       "      <td>NaN</td>\n",
       "      <td>NaN</td>\n",
       "      <td>NaN</td>\n",
       "      <td>NaN</td>\n",
       "      <td>17.0</td>\n",
       "      <td>NaN</td>\n",
       "      <td>NaN</td>\n",
       "      <td>NaN</td>\n",
       "      <td>NaN</td>\n",
       "      <td>...</td>\n",
       "      <td>NaN</td>\n",
       "      <td>1.35</td>\n",
       "      <td>4.17</td>\n",
       "      <td>13.00</td>\n",
       "      <td>22.5</td>\n",
       "      <td>NaN</td>\n",
       "      <td>NaN</td>\n",
       "      <td>NaN</td>\n",
       "      <td>NaN</td>\n",
       "      <td>NaN</td>\n",
       "    </tr>\n",
       "    <tr>\n",
       "      <th>2007-02-28</th>\n",
       "      <td>NaN</td>\n",
       "      <td>NaN</td>\n",
       "      <td>NaN</td>\n",
       "      <td>NaN</td>\n",
       "      <td>NaN</td>\n",
       "      <td>17.0</td>\n",
       "      <td>NaN</td>\n",
       "      <td>NaN</td>\n",
       "      <td>NaN</td>\n",
       "      <td>NaN</td>\n",
       "      <td>...</td>\n",
       "      <td>NaN</td>\n",
       "      <td>1.35</td>\n",
       "      <td>4.17</td>\n",
       "      <td>13.00</td>\n",
       "      <td>22.5</td>\n",
       "      <td>NaN</td>\n",
       "      <td>NaN</td>\n",
       "      <td>NaN</td>\n",
       "      <td>NaN</td>\n",
       "      <td>NaN</td>\n",
       "    </tr>\n",
       "    <tr>\n",
       "      <th>2007-03-30</th>\n",
       "      <td>NaN</td>\n",
       "      <td>NaN</td>\n",
       "      <td>NaN</td>\n",
       "      <td>NaN</td>\n",
       "      <td>NaN</td>\n",
       "      <td>17.0</td>\n",
       "      <td>NaN</td>\n",
       "      <td>NaN</td>\n",
       "      <td>NaN</td>\n",
       "      <td>NaN</td>\n",
       "      <td>...</td>\n",
       "      <td>NaN</td>\n",
       "      <td>1.40</td>\n",
       "      <td>4.17</td>\n",
       "      <td>13.00</td>\n",
       "      <td>22.5</td>\n",
       "      <td>NaN</td>\n",
       "      <td>NaN</td>\n",
       "      <td>NaN</td>\n",
       "      <td>NaN</td>\n",
       "      <td>NaN</td>\n",
       "    </tr>\n",
       "    <tr>\n",
       "      <th>2007-04-30</th>\n",
       "      <td>NaN</td>\n",
       "      <td>NaN</td>\n",
       "      <td>NaN</td>\n",
       "      <td>NaN</td>\n",
       "      <td>NaN</td>\n",
       "      <td>17.0</td>\n",
       "      <td>NaN</td>\n",
       "      <td>NaN</td>\n",
       "      <td>NaN</td>\n",
       "      <td>NaN</td>\n",
       "      <td>...</td>\n",
       "      <td>NaN</td>\n",
       "      <td>1.40</td>\n",
       "      <td>4.17</td>\n",
       "      <td>12.75</td>\n",
       "      <td>22.5</td>\n",
       "      <td>NaN</td>\n",
       "      <td>NaN</td>\n",
       "      <td>NaN</td>\n",
       "      <td>NaN</td>\n",
       "      <td>NaN</td>\n",
       "    </tr>\n",
       "    <tr>\n",
       "      <th>2007-05-31</th>\n",
       "      <td>NaN</td>\n",
       "      <td>NaN</td>\n",
       "      <td>NaN</td>\n",
       "      <td>NaN</td>\n",
       "      <td>NaN</td>\n",
       "      <td>17.0</td>\n",
       "      <td>NaN</td>\n",
       "      <td>NaN</td>\n",
       "      <td>NaN</td>\n",
       "      <td>NaN</td>\n",
       "      <td>...</td>\n",
       "      <td>NaN</td>\n",
       "      <td>1.40</td>\n",
       "      <td>4.17</td>\n",
       "      <td>13.75</td>\n",
       "      <td>22.5</td>\n",
       "      <td>NaN</td>\n",
       "      <td>NaN</td>\n",
       "      <td>NaN</td>\n",
       "      <td>NaN</td>\n",
       "      <td>NaN</td>\n",
       "    </tr>\n",
       "    <tr>\n",
       "      <th>...</th>\n",
       "      <td>...</td>\n",
       "      <td>...</td>\n",
       "      <td>...</td>\n",
       "      <td>...</td>\n",
       "      <td>...</td>\n",
       "      <td>...</td>\n",
       "      <td>...</td>\n",
       "      <td>...</td>\n",
       "      <td>...</td>\n",
       "      <td>...</td>\n",
       "      <td>...</td>\n",
       "      <td>...</td>\n",
       "      <td>...</td>\n",
       "      <td>...</td>\n",
       "      <td>...</td>\n",
       "      <td>...</td>\n",
       "      <td>...</td>\n",
       "      <td>...</td>\n",
       "      <td>...</td>\n",
       "      <td>...</td>\n",
       "      <td>...</td>\n",
       "    </tr>\n",
       "    <tr>\n",
       "      <th>2021-02-26</th>\n",
       "      <td>60.0</td>\n",
       "      <td>5000.0</td>\n",
       "      <td>15.05</td>\n",
       "      <td>2.2</td>\n",
       "      <td>4000.0</td>\n",
       "      <td>35.0</td>\n",
       "      <td>85.00</td>\n",
       "      <td>17.0</td>\n",
       "      <td>60.00</td>\n",
       "      <td>2.62</td>\n",
       "      <td>...</td>\n",
       "      <td>4.0</td>\n",
       "      <td>3.50</td>\n",
       "      <td>1.80</td>\n",
       "      <td>31.91</td>\n",
       "      <td>40.0</td>\n",
       "      <td>3.65</td>\n",
       "      <td>1.38</td>\n",
       "      <td>1.10</td>\n",
       "      <td>4500.0</td>\n",
       "      <td>2.35</td>\n",
       "    </tr>\n",
       "    <tr>\n",
       "      <th>2021-03-31</th>\n",
       "      <td>60.0</td>\n",
       "      <td>5000.0</td>\n",
       "      <td>15.05</td>\n",
       "      <td>2.2</td>\n",
       "      <td>4001.0</td>\n",
       "      <td>35.0</td>\n",
       "      <td>84.95</td>\n",
       "      <td>17.0</td>\n",
       "      <td>55.00</td>\n",
       "      <td>2.62</td>\n",
       "      <td>...</td>\n",
       "      <td>4.0</td>\n",
       "      <td>3.50</td>\n",
       "      <td>1.80</td>\n",
       "      <td>31.91</td>\n",
       "      <td>40.0</td>\n",
       "      <td>3.65</td>\n",
       "      <td>1.38</td>\n",
       "      <td>1.10</td>\n",
       "      <td>5500.0</td>\n",
       "      <td>2.24</td>\n",
       "    </tr>\n",
       "    <tr>\n",
       "      <th>2021-04-29</th>\n",
       "      <td>60.0</td>\n",
       "      <td>5000.0</td>\n",
       "      <td>15.05</td>\n",
       "      <td>2.2</td>\n",
       "      <td>4000.0</td>\n",
       "      <td>35.0</td>\n",
       "      <td>82.00</td>\n",
       "      <td>17.0</td>\n",
       "      <td>55.00</td>\n",
       "      <td>2.62</td>\n",
       "      <td>...</td>\n",
       "      <td>4.0</td>\n",
       "      <td>3.50</td>\n",
       "      <td>1.80</td>\n",
       "      <td>31.91</td>\n",
       "      <td>40.0</td>\n",
       "      <td>3.65</td>\n",
       "      <td>1.38</td>\n",
       "      <td>1.10</td>\n",
       "      <td>5500.0</td>\n",
       "      <td>2.41</td>\n",
       "    </tr>\n",
       "    <tr>\n",
       "      <th>2021-05-31</th>\n",
       "      <td>60.0</td>\n",
       "      <td>5000.0</td>\n",
       "      <td>15.05</td>\n",
       "      <td>2.2</td>\n",
       "      <td>4000.0</td>\n",
       "      <td>35.0</td>\n",
       "      <td>82.00</td>\n",
       "      <td>17.0</td>\n",
       "      <td>55.00</td>\n",
       "      <td>2.62</td>\n",
       "      <td>...</td>\n",
       "      <td>4.0</td>\n",
       "      <td>3.15</td>\n",
       "      <td>1.80</td>\n",
       "      <td>31.91</td>\n",
       "      <td>40.0</td>\n",
       "      <td>3.65</td>\n",
       "      <td>1.38</td>\n",
       "      <td>1.07</td>\n",
       "      <td>2500.0</td>\n",
       "      <td>2.25</td>\n",
       "    </tr>\n",
       "    <tr>\n",
       "      <th>2021-06-30</th>\n",
       "      <td>60.0</td>\n",
       "      <td>5000.0</td>\n",
       "      <td>15.05</td>\n",
       "      <td>2.2</td>\n",
       "      <td>4000.0</td>\n",
       "      <td>35.0</td>\n",
       "      <td>81.45</td>\n",
       "      <td>17.0</td>\n",
       "      <td>49.99</td>\n",
       "      <td>2.62</td>\n",
       "      <td>...</td>\n",
       "      <td>4.0</td>\n",
       "      <td>3.15</td>\n",
       "      <td>1.80</td>\n",
       "      <td>31.91</td>\n",
       "      <td>40.0</td>\n",
       "      <td>3.65</td>\n",
       "      <td>1.38</td>\n",
       "      <td>1.10</td>\n",
       "      <td>2500.0</td>\n",
       "      <td>2.27</td>\n",
       "    </tr>\n",
       "  </tbody>\n",
       "</table>\n",
       "<p>143 rows × 61 columns</p>\n",
       "</div>"
      ],
      "text/plain": [
       "            CERVECERIA NACIONAL CN S.A. - PREFERIDAS  \\\n",
       "FECHA                                                  \n",
       "2007-01-31                                       NaN   \n",
       "2007-02-28                                       NaN   \n",
       "2007-03-30                                       NaN   \n",
       "2007-04-30                                       NaN   \n",
       "2007-05-31                                       NaN   \n",
       "...                                              ...   \n",
       "2021-02-26                                      60.0   \n",
       "2021-03-31                                      60.0   \n",
       "2021-04-29                                      60.0   \n",
       "2021-05-31                                      60.0   \n",
       "2021-06-30                                      60.0   \n",
       "\n",
       "            FIDEICOMISO HOTEL CIUDAD DEL RIO  CERRO ALTO FORESTAL  \\\n",
       "FECHA                                                               \n",
       "2007-01-31                               NaN                  NaN   \n",
       "2007-02-28                               NaN                  NaN   \n",
       "2007-03-30                               NaN                  NaN   \n",
       "2007-04-30                               NaN                  NaN   \n",
       "2007-05-31                               NaN                  NaN   \n",
       "...                                      ...                  ...   \n",
       "2021-02-26                            5000.0                15.05   \n",
       "2021-03-31                            5000.0                15.05   \n",
       "2021-04-29                            5000.0                15.05   \n",
       "2021-05-31                            5000.0                15.05   \n",
       "2021-06-30                            5000.0                15.05   \n",
       "\n",
       "            INGENIO AZUCARERO DEL NORTE COMPAÑIA DE ECONOMIA MIXTA IANCEM  \\\n",
       "FECHA                                                                       \n",
       "2007-01-31                                                NaN               \n",
       "2007-02-28                                                NaN               \n",
       "2007-03-30                                                NaN               \n",
       "2007-04-30                                                NaN               \n",
       "2007-05-31                                                NaN               \n",
       "...                                                       ...               \n",
       "2021-02-26                                                2.2               \n",
       "2021-03-31                                                2.2               \n",
       "2021-04-29                                                2.2               \n",
       "2021-05-31                                                2.2               \n",
       "2021-06-30                                                2.2               \n",
       "\n",
       "            FIDEICOMISO MERCANTIL  “GM HOTEL”  EL TECAL  \\\n",
       "FECHA                                                     \n",
       "2007-01-31                                NaN      17.0   \n",
       "2007-02-28                                NaN      17.0   \n",
       "2007-03-30                                NaN      17.0   \n",
       "2007-04-30                                NaN      17.0   \n",
       "2007-05-31                                NaN      17.0   \n",
       "...                                       ...       ...   \n",
       "2021-02-26                             4000.0      35.0   \n",
       "2021-03-31                             4001.0      35.0   \n",
       "2021-04-29                             4000.0      35.0   \n",
       "2021-05-31                             4000.0      35.0   \n",
       "2021-06-30                             4000.0      35.0   \n",
       "\n",
       "            CERVECERIA NACIONAL CN S.A.  LA SABANA FORESTAL  \\\n",
       "FECHA                                                         \n",
       "2007-01-31                          NaN                 NaN   \n",
       "2007-02-28                          NaN                 NaN   \n",
       "2007-03-30                          NaN                 NaN   \n",
       "2007-04-30                          NaN                 NaN   \n",
       "2007-05-31                          NaN                 NaN   \n",
       "...                                 ...                 ...   \n",
       "2021-02-26                        85.00                17.0   \n",
       "2021-03-31                        84.95                17.0   \n",
       "2021-04-29                        82.00                17.0   \n",
       "2021-05-31                        82.00                17.0   \n",
       "2021-06-30                        81.45                17.0   \n",
       "\n",
       "            HOLCIM ECUADOR VN 3.00  RIO GRANDE FORESTAL   ...  \\\n",
       "FECHA                                                     ...   \n",
       "2007-01-31                     NaN                   NaN  ...   \n",
       "2007-02-28                     NaN                   NaN  ...   \n",
       "2007-03-30                     NaN                   NaN  ...   \n",
       "2007-04-30                     NaN                   NaN  ...   \n",
       "2007-05-31                     NaN                   NaN  ...   \n",
       "...                            ...                   ...  ...   \n",
       "2021-02-26                   60.00                  2.62  ...   \n",
       "2021-03-31                   55.00                  2.62  ...   \n",
       "2021-04-29                   55.00                  2.62  ...   \n",
       "2021-05-31                   55.00                  2.62  ...   \n",
       "2021-06-30                   49.99                  2.62  ...   \n",
       "\n",
       "            HOLDING TONICORP  CRIDESA  CIALCO  CERRO VERDE FORESTAL BIGFOREST  \\\n",
       "FECHA                                                                           \n",
       "2007-01-31               NaN     1.35    4.17                           13.00   \n",
       "2007-02-28               NaN     1.35    4.17                           13.00   \n",
       "2007-03-30               NaN     1.40    4.17                           13.00   \n",
       "2007-04-30               NaN     1.40    4.17                           12.75   \n",
       "2007-05-31               NaN     1.40    4.17                           13.75   \n",
       "...                      ...      ...     ...                             ...   \n",
       "2021-02-26               4.0     3.50    1.80                           31.91   \n",
       "2021-03-31               4.0     3.50    1.80                           31.91   \n",
       "2021-04-29               4.0     3.50    1.80                           31.91   \n",
       "2021-05-31               4.0     3.15    1.80                           31.91   \n",
       "2021-06-30               4.0     3.15    1.80                           31.91   \n",
       "\n",
       "            MERIZA  TECATEAK S.A.  CORP.DESARROLLO M.S.HIPOTECAS CTH  \\\n",
       "FECHA                                                                  \n",
       "2007-01-31    22.5            NaN                                NaN   \n",
       "2007-02-28    22.5            NaN                                NaN   \n",
       "2007-03-30    22.5            NaN                                NaN   \n",
       "2007-04-30    22.5            NaN                                NaN   \n",
       "2007-05-31    22.5            NaN                                NaN   \n",
       "...            ...            ...                                ...   \n",
       "2021-02-26    40.0           3.65                               1.38   \n",
       "2021-03-31    40.0           3.65                               1.38   \n",
       "2021-04-29    40.0           3.65                               1.38   \n",
       "2021-05-31    40.0           3.65                               1.38   \n",
       "2021-06-30    40.0           3.65                               1.38   \n",
       "\n",
       "            BOLSA DE VALORES DE GUAYAQUIL S.A. BVG  \\\n",
       "FECHA                                                \n",
       "2007-01-31                                     NaN   \n",
       "2007-02-28                                     NaN   \n",
       "2007-03-30                                     NaN   \n",
       "2007-04-30                                     NaN   \n",
       "2007-05-31                                     NaN   \n",
       "...                                            ...   \n",
       "2021-02-26                                    1.10   \n",
       "2021-03-31                                    1.10   \n",
       "2021-04-29                                    1.10   \n",
       "2021-05-31                                    1.07   \n",
       "2021-06-30                                    1.10   \n",
       "\n",
       "            CONCLINA CONJUNTO CLINICO NACIONAL -PREFERIDAS A  \\\n",
       "FECHA                                                          \n",
       "2007-01-31                                               NaN   \n",
       "2007-02-28                                               NaN   \n",
       "2007-03-30                                               NaN   \n",
       "2007-04-30                                               NaN   \n",
       "2007-05-31                                               NaN   \n",
       "...                                                      ...   \n",
       "2021-02-26                                            4500.0   \n",
       "2021-03-31                                            5500.0   \n",
       "2021-04-29                                            5500.0   \n",
       "2021-05-31                                            2500.0   \n",
       "2021-06-30                                            2500.0   \n",
       "\n",
       "            CORPORACION FAVORITA  \n",
       "FECHA                             \n",
       "2007-01-31                   NaN  \n",
       "2007-02-28                   NaN  \n",
       "2007-03-30                   NaN  \n",
       "2007-04-30                   NaN  \n",
       "2007-05-31                   NaN  \n",
       "...                          ...  \n",
       "2021-02-26                  2.35  \n",
       "2021-03-31                  2.24  \n",
       "2021-04-29                  2.41  \n",
       "2021-05-31                  2.25  \n",
       "2021-06-30                  2.27  \n",
       "\n",
       "[143 rows x 61 columns]"
      ]
     },
     "execution_count": 7,
     "metadata": {},
     "output_type": "execute_result"
    }
   ],
   "source": [
    "precios = pd.pivot_table(consolidado, index='FECHA', columns = consolidado.index, values='PRECIO')\n",
    "precios.ffill(inplace=True)\n",
    "precios = precios[set(cias) & set(precios.columns)]\n",
    "precios"
   ]
  },
  {
   "cell_type": "markdown",
   "metadata": {},
   "source": [
    "## Presencia bursátil\n",
    "\n",
    "Indica el grado de liquidez de la acción. Se lo calcula dividiendo el número de ruedas (sesiones de negociación) en que la acción ha sido transada en el último semestre móvil para el número de ruedas realizadas en total durante el mismo semestre móvil.\n",
    "\n",
    "> Este indicador nos será util para conocer cuales son las acciones que más se tranzan en la bolsa de valores y poder conformar nuestro portafolio de análisis posteriormente.\n",
    "\n",
    "El siguiente programa generará la tabla de presencia bursátil que necesitamos, en el cual aplicaremos algunos filtros necesarios:"
   ]
  },
  {
   "cell_type": "code",
   "execution_count": 8,
   "metadata": {},
   "outputs": [
    {
     "data": {
      "text/html": [
       "<style  type=\"text/css\" >\n",
       "    #T_2f28b_ th {\n",
       "          text-align: left;\n",
       "    }</style><table id=\"T_2f28b_\" ><thead>    <tr>        <th class=\"blank level0\" ></th>        <th class=\"col_heading level0 col0\" >PRESENCIA BURSATIL</th>    </tr></thead><tbody>\n",
       "                <tr>\n",
       "                        <th id=\"T_2f28b_level0_row0\" class=\"row_heading level0 row0\" >CORPORACION FAVORITA</th>\n",
       "                        <td id=\"T_2f28b_row0_col0\" class=\"data row0 col0\" >87%</td>\n",
       "            </tr>\n",
       "            <tr>\n",
       "                        <th id=\"T_2f28b_level0_row1\" class=\"row_heading level0 row1\" >BANCO GUAYAQUIL</th>\n",
       "                        <td id=\"T_2f28b_row1_col0\" class=\"data row1 col0\" >34%</td>\n",
       "            </tr>\n",
       "            <tr>\n",
       "                        <th id=\"T_2f28b_level0_row2\" class=\"row_heading level0 row2\" >BRIKAPITAL</th>\n",
       "                        <td id=\"T_2f28b_row2_col0\" class=\"data row2 col0\" >20%</td>\n",
       "            </tr>\n",
       "            <tr>\n",
       "                        <th id=\"T_2f28b_level0_row3\" class=\"row_heading level0 row3\" >BANCO PRODUBANCO</th>\n",
       "                        <td id=\"T_2f28b_row3_col0\" class=\"data row3 col0\" >19%</td>\n",
       "            </tr>\n",
       "            <tr>\n",
       "                        <th id=\"T_2f28b_level0_row4\" class=\"row_heading level0 row4\" >FIDEICOMISO HOTEL CIUDAD DEL RIO</th>\n",
       "                        <td id=\"T_2f28b_row4_col0\" class=\"data row4 col0\" >17%</td>\n",
       "            </tr>\n",
       "            <tr>\n",
       "                        <th id=\"T_2f28b_level0_row5\" class=\"row_heading level0 row5\" >MUTUALISTA PICHINCHA - CERT. DE APORTACION</th>\n",
       "                        <td id=\"T_2f28b_row5_col0\" class=\"data row5 col0\" >15%</td>\n",
       "            </tr>\n",
       "            <tr>\n",
       "                        <th id=\"T_2f28b_level0_row6\" class=\"row_heading level0 row6\" >NATLUK S.A.</th>\n",
       "                        <td id=\"T_2f28b_row6_col0\" class=\"data row6 col0\" >15%</td>\n",
       "            </tr>\n",
       "            <tr>\n",
       "                        <th id=\"T_2f28b_level0_row7\" class=\"row_heading level0 row7\" >BANCO PICHINCHA</th>\n",
       "                        <td id=\"T_2f28b_row7_col0\" class=\"data row7 col0\" >13%</td>\n",
       "            </tr>\n",
       "            <tr>\n",
       "                        <th id=\"T_2f28b_level0_row8\" class=\"row_heading level0 row8\" >CERVECERIA NACIONAL CN S.A.</th>\n",
       "                        <td id=\"T_2f28b_row8_col0\" class=\"data row8 col0\" >12%</td>\n",
       "            </tr>\n",
       "            <tr>\n",
       "                        <th id=\"T_2f28b_level0_row9\" class=\"row_heading level0 row9\" >BOLSA DE VALORES DE QUITO BVQ SOCIEDAD ANÓNIMA</th>\n",
       "                        <td id=\"T_2f28b_row9_col0\" class=\"data row9 col0\" >12%</td>\n",
       "            </tr>\n",
       "            <tr>\n",
       "                        <th id=\"T_2f28b_level0_row10\" class=\"row_heading level0 row10\" >HOLCIM ECUADOR VN 3.00</th>\n",
       "                        <td id=\"T_2f28b_row10_col0\" class=\"data row10 col0\" >12%</td>\n",
       "            </tr>\n",
       "            <tr>\n",
       "                        <th id=\"T_2f28b_level0_row11\" class=\"row_heading level0 row11\" >SURPAPELCORP</th>\n",
       "                        <td id=\"T_2f28b_row11_col0\" class=\"data row11 col0\" >11%</td>\n",
       "            </tr>\n",
       "            <tr>\n",
       "                        <th id=\"T_2f28b_level0_row12\" class=\"row_heading level0 row12\" >FIDEICOMISO MERCANTIL  “GM HOTEL”</th>\n",
       "                        <td id=\"T_2f28b_row12_col0\" class=\"data row12 col0\" >8%</td>\n",
       "            </tr>\n",
       "            <tr>\n",
       "                        <th id=\"T_2f28b_level0_row13\" class=\"row_heading level0 row13\" >SUPERDEPORTE</th>\n",
       "                        <td id=\"T_2f28b_row13_col0\" class=\"data row13 col0\" >8%</td>\n",
       "            </tr>\n",
       "            <tr>\n",
       "                        <th id=\"T_2f28b_level0_row14\" class=\"row_heading level0 row14\" >FIDEICOMISO TITULARIZACION \"OMNI HOSPITAL\"</th>\n",
       "                        <td id=\"T_2f28b_row14_col0\" class=\"data row14 col0\" >7%</td>\n",
       "            </tr>\n",
       "            <tr>\n",
       "                        <th id=\"T_2f28b_level0_row15\" class=\"row_heading level0 row15\" >SOCIEDAD AGRICOLA E IND. SAN CARLOS</th>\n",
       "                        <td id=\"T_2f28b_row15_col0\" class=\"data row15 col0\" >7%</td>\n",
       "            </tr>\n",
       "            <tr>\n",
       "                        <th id=\"T_2f28b_level0_row16\" class=\"row_heading level0 row16\" >CONCLINA CONJUNTO CLINICO NACIONAL </th>\n",
       "                        <td id=\"T_2f28b_row16_col0\" class=\"data row16 col0\" >5%</td>\n",
       "            </tr>\n",
       "            <tr>\n",
       "                        <th id=\"T_2f28b_level0_row17\" class=\"row_heading level0 row17\" >BOLSA DE VALORES DE GUAYAQUIL S.A. BVG</th>\n",
       "                        <td id=\"T_2f28b_row17_col0\" class=\"data row17 col0\" >5%</td>\n",
       "            </tr>\n",
       "            <tr>\n",
       "                        <th id=\"T_2f28b_level0_row18\" class=\"row_heading level0 row18\" >INDUSTRIAS ALES</th>\n",
       "                        <td id=\"T_2f28b_row18_col0\" class=\"data row18 col0\" >4%</td>\n",
       "            </tr>\n",
       "            <tr>\n",
       "                        <th id=\"T_2f28b_level0_row19\" class=\"row_heading level0 row19\" >BANCO BOLIVARIANO</th>\n",
       "                        <td id=\"T_2f28b_row19_col0\" class=\"data row19 col0\" >4%</td>\n",
       "            </tr>\n",
       "    </tbody></table>"
      ],
      "text/plain": [
       "<pandas.io.formats.style.Styler at 0x1c383d9dca0>"
      ]
     },
     "execution_count": 8,
     "metadata": {},
     "output_type": "execute_result"
    }
   ],
   "source": [
    "presencia = pd.pivot_table(consolidado, index='FECHA', columns = consolidado.index, values='PRESENCIA')\n",
    "presencia = presencia[precios.columns].loc['2018-06-30':]\n",
    "ranking_presencia = presencia.mean().sort_values(ascending=False)\n",
    "\n",
    "pd.DataFrame(ranking_presencia, columns=[\"PRESENCIA BURSATIL\"]).head(20).style.format(\"{:.0%}\").set_table_styles(\n",
    "        [dict(selector='th', props=[('text-align', 'left')])] )"
   ]
  },
  {
   "cell_type": "markdown",
   "metadata": {},
   "source": [
    "## Dividendos\n",
    "\n",
    "Habíamos dicho que además de la revalorización del precio de la acción, la otra forma de obtener ganancias con las acciones es mediante los dividendos. El *precio* ya lo tenemos en un `DataFrame` de precios, proveniente de los archivos en excel que descargamos inicialmente, de donde también se obtuvo la tabla de *Presencia Bursátil*.\n",
    "\n",
    "Para obtener la información referente al reparto de dividendos, es necesario extraer los datos desde otro apartado web, que es el de [Dividendos Entregados](https://www.bolsadevaloresguayaquil.com/dividendos/). En esta página obtendremos además información referente al aumento de capital (capitalización de acciones) y de aumento/disminución de acciones, con lo cual saber si se ha ejecutado un split en algún momento.\n",
    "\n",
    "Con el siguiente código se extrae la información contenida en esa página web, además de limpiar y formatear los datos para poder utilizarlos posteriormente."
   ]
  },
  {
   "cell_type": "code",
   "execution_count": 9,
   "metadata": {},
   "outputs": [],
   "source": [
    "div = pd.read_excel('https://www.bolsadequito.com/uploads/estadisticas/boletines/renta-variable/dividendos.xls',\n",
    "                    skiprows=6, usecols=[0, 1, 2, 7, 10, 14, 15, 16, 17])\n",
    "div.dropna(thresh=4, inplace=True)\n",
    "div = div.astype({'NUMERO ACCIONES ANTIGUAS':int, 'NUMERO ACCIONES TOTALES': int})\n",
    "div.rename(columns={'FECHA DE RESOLUCION':'FECHA', 'DIVIDENDO EF. POR ACCION':'BPA', 'ULTIMO PRECIO': 'PRECIO'}, inplace=True)"
   ]
  },
  {
   "cell_type": "code",
   "execution_count": 10,
   "metadata": {},
   "outputs": [
    {
     "data": {
      "text/html": [
       "<div>\n",
       "<style scoped>\n",
       "    .dataframe tbody tr th:only-of-type {\n",
       "        vertical-align: middle;\n",
       "    }\n",
       "\n",
       "    .dataframe tbody tr th {\n",
       "        vertical-align: top;\n",
       "    }\n",
       "\n",
       "    .dataframe thead th {\n",
       "        text-align: right;\n",
       "    }\n",
       "</style>\n",
       "<table border=\"1\" class=\"dataframe\">\n",
       "  <thead>\n",
       "    <tr style=\"text-align: right;\">\n",
       "      <th></th>\n",
       "      <th></th>\n",
       "      <th>BPA</th>\n",
       "      <th>CAPITAL ANTERIOR</th>\n",
       "      <th>CAPITAL LUEGO DEL EVENTO</th>\n",
       "      <th>CÓDIGO EMISOR</th>\n",
       "      <th>NUMERO ACCIONES ANTIGUAS</th>\n",
       "      <th>NUMERO ACCIONES TOTALES</th>\n",
       "      <th>PRECIO</th>\n",
       "    </tr>\n",
       "    <tr>\n",
       "      <th>EMISOR</th>\n",
       "      <th>FECHA</th>\n",
       "      <th></th>\n",
       "      <th></th>\n",
       "      <th></th>\n",
       "      <th></th>\n",
       "      <th></th>\n",
       "      <th></th>\n",
       "      <th></th>\n",
       "    </tr>\n",
       "  </thead>\n",
       "  <tbody>\n",
       "    <tr>\n",
       "      <th rowspan=\"5\" valign=\"top\">ALICOSTA BK HOLDING S.A.</th>\n",
       "      <th>2014-03-25</th>\n",
       "      <td>0.262830</td>\n",
       "      <td>235000.0</td>\n",
       "      <td>235000.0</td>\n",
       "      <td>NaN</td>\n",
       "      <td>235000.0</td>\n",
       "      <td>235000.0</td>\n",
       "      <td>12.00</td>\n",
       "    </tr>\n",
       "    <tr>\n",
       "      <th>2015-03-31</th>\n",
       "      <td>0.554404</td>\n",
       "      <td>235000.0</td>\n",
       "      <td>235000.0</td>\n",
       "      <td>NaN</td>\n",
       "      <td>235000.0</td>\n",
       "      <td>235000.0</td>\n",
       "      <td>12.00</td>\n",
       "    </tr>\n",
       "    <tr>\n",
       "      <th>2016-03-29</th>\n",
       "      <td>0.253498</td>\n",
       "      <td>235000.0</td>\n",
       "      <td>235000.0</td>\n",
       "      <td>NaN</td>\n",
       "      <td>235000.0</td>\n",
       "      <td>235000.0</td>\n",
       "      <td>12.25</td>\n",
       "    </tr>\n",
       "    <tr>\n",
       "      <th>2017-03-28</th>\n",
       "      <td>0.154766</td>\n",
       "      <td>235000.0</td>\n",
       "      <td>235000.0</td>\n",
       "      <td>NaN</td>\n",
       "      <td>235000.0</td>\n",
       "      <td>235000.0</td>\n",
       "      <td>12.00</td>\n",
       "    </tr>\n",
       "    <tr>\n",
       "      <th>2018-03-27</th>\n",
       "      <td>0.700000</td>\n",
       "      <td>235000.0</td>\n",
       "      <td>235000.0</td>\n",
       "      <td>NaN</td>\n",
       "      <td>235000.0</td>\n",
       "      <td>235000.0</td>\n",
       "      <td>10.00</td>\n",
       "    </tr>\n",
       "    <tr>\n",
       "      <th>...</th>\n",
       "      <th>...</th>\n",
       "      <td>...</td>\n",
       "      <td>...</td>\n",
       "      <td>...</td>\n",
       "      <td>...</td>\n",
       "      <td>...</td>\n",
       "      <td>...</td>\n",
       "      <td>...</td>\n",
       "    </tr>\n",
       "    <tr>\n",
       "      <th rowspan=\"4\" valign=\"top\">UNACEM ECUADOR S.A. (La Farge)</th>\n",
       "      <th>2017-03-14</th>\n",
       "      <td>1.146112</td>\n",
       "      <td>1717000.0</td>\n",
       "      <td>1717000.0</td>\n",
       "      <td>38.0</td>\n",
       "      <td>42925000.0</td>\n",
       "      <td>42925000.0</td>\n",
       "      <td>6.10</td>\n",
       "    </tr>\n",
       "    <tr>\n",
       "      <th>2018-03-27</th>\n",
       "      <td>0.690599</td>\n",
       "      <td>1717000.0</td>\n",
       "      <td>1717000.0</td>\n",
       "      <td>38.0</td>\n",
       "      <td>42925000.0</td>\n",
       "      <td>42925000.0</td>\n",
       "      <td>6.10</td>\n",
       "    </tr>\n",
       "    <tr>\n",
       "      <th>2019-03-29</th>\n",
       "      <td>0.784802</td>\n",
       "      <td>1717000.0</td>\n",
       "      <td>1717000.0</td>\n",
       "      <td>38.0</td>\n",
       "      <td>42925000.0</td>\n",
       "      <td>42925000.0</td>\n",
       "      <td>6.10</td>\n",
       "    </tr>\n",
       "    <tr>\n",
       "      <th>2020-06-15</th>\n",
       "      <td>0.193263</td>\n",
       "      <td>1717000.0</td>\n",
       "      <td>1717000.0</td>\n",
       "      <td>38.0</td>\n",
       "      <td>42925000.0</td>\n",
       "      <td>42925000.0</td>\n",
       "      <td>6.10</td>\n",
       "    </tr>\n",
       "    <tr>\n",
       "      <th>VALLE GRANDE FORESTAL (VALLEYFOREST)</th>\n",
       "      <th>2019-03-26</th>\n",
       "      <td>0.001064</td>\n",
       "      <td>1700000.0</td>\n",
       "      <td>1700000.0</td>\n",
       "      <td>NaN</td>\n",
       "      <td>1700000.0</td>\n",
       "      <td>1700000.0</td>\n",
       "      <td>2.60</td>\n",
       "    </tr>\n",
       "  </tbody>\n",
       "</table>\n",
       "<p>634 rows × 7 columns</p>\n",
       "</div>"
      ],
      "text/plain": [
       "                                                      BPA  CAPITAL ANTERIOR  \\\n",
       "EMISOR                               FECHA                                    \n",
       "ALICOSTA BK HOLDING S.A.             2014-03-25  0.262830          235000.0   \n",
       "                                     2015-03-31  0.554404          235000.0   \n",
       "                                     2016-03-29  0.253498          235000.0   \n",
       "                                     2017-03-28  0.154766          235000.0   \n",
       "                                     2018-03-27  0.700000          235000.0   \n",
       "...                                                   ...               ...   \n",
       "UNACEM ECUADOR S.A. (La Farge)       2017-03-14  1.146112         1717000.0   \n",
       "                                     2018-03-27  0.690599         1717000.0   \n",
       "                                     2019-03-29  0.784802         1717000.0   \n",
       "                                     2020-06-15  0.193263         1717000.0   \n",
       "VALLE GRANDE FORESTAL (VALLEYFOREST) 2019-03-26  0.001064         1700000.0   \n",
       "\n",
       "                                                 CAPITAL LUEGO DEL EVENTO  \\\n",
       "EMISOR                               FECHA                                  \n",
       "ALICOSTA BK HOLDING S.A.             2014-03-25                  235000.0   \n",
       "                                     2015-03-31                  235000.0   \n",
       "                                     2016-03-29                  235000.0   \n",
       "                                     2017-03-28                  235000.0   \n",
       "                                     2018-03-27                  235000.0   \n",
       "...                                                                   ...   \n",
       "UNACEM ECUADOR S.A. (La Farge)       2017-03-14                 1717000.0   \n",
       "                                     2018-03-27                 1717000.0   \n",
       "                                     2019-03-29                 1717000.0   \n",
       "                                     2020-06-15                 1717000.0   \n",
       "VALLE GRANDE FORESTAL (VALLEYFOREST) 2019-03-26                 1700000.0   \n",
       "\n",
       "                                                 CÓDIGO EMISOR  \\\n",
       "EMISOR                               FECHA                       \n",
       "ALICOSTA BK HOLDING S.A.             2014-03-25            NaN   \n",
       "                                     2015-03-31            NaN   \n",
       "                                     2016-03-29            NaN   \n",
       "                                     2017-03-28            NaN   \n",
       "                                     2018-03-27            NaN   \n",
       "...                                                        ...   \n",
       "UNACEM ECUADOR S.A. (La Farge)       2017-03-14           38.0   \n",
       "                                     2018-03-27           38.0   \n",
       "                                     2019-03-29           38.0   \n",
       "                                     2020-06-15           38.0   \n",
       "VALLE GRANDE FORESTAL (VALLEYFOREST) 2019-03-26            NaN   \n",
       "\n",
       "                                                 NUMERO ACCIONES ANTIGUAS  \\\n",
       "EMISOR                               FECHA                                  \n",
       "ALICOSTA BK HOLDING S.A.             2014-03-25                  235000.0   \n",
       "                                     2015-03-31                  235000.0   \n",
       "                                     2016-03-29                  235000.0   \n",
       "                                     2017-03-28                  235000.0   \n",
       "                                     2018-03-27                  235000.0   \n",
       "...                                                                   ...   \n",
       "UNACEM ECUADOR S.A. (La Farge)       2017-03-14                42925000.0   \n",
       "                                     2018-03-27                42925000.0   \n",
       "                                     2019-03-29                42925000.0   \n",
       "                                     2020-06-15                42925000.0   \n",
       "VALLE GRANDE FORESTAL (VALLEYFOREST) 2019-03-26                 1700000.0   \n",
       "\n",
       "                                                 NUMERO ACCIONES TOTALES  \\\n",
       "EMISOR                               FECHA                                 \n",
       "ALICOSTA BK HOLDING S.A.             2014-03-25                 235000.0   \n",
       "                                     2015-03-31                 235000.0   \n",
       "                                     2016-03-29                 235000.0   \n",
       "                                     2017-03-28                 235000.0   \n",
       "                                     2018-03-27                 235000.0   \n",
       "...                                                                  ...   \n",
       "UNACEM ECUADOR S.A. (La Farge)       2017-03-14               42925000.0   \n",
       "                                     2018-03-27               42925000.0   \n",
       "                                     2019-03-29               42925000.0   \n",
       "                                     2020-06-15               42925000.0   \n",
       "VALLE GRANDE FORESTAL (VALLEYFOREST) 2019-03-26                1700000.0   \n",
       "\n",
       "                                                 PRECIO  \n",
       "EMISOR                               FECHA               \n",
       "ALICOSTA BK HOLDING S.A.             2014-03-25   12.00  \n",
       "                                     2015-03-31   12.00  \n",
       "                                     2016-03-29   12.25  \n",
       "                                     2017-03-28   12.00  \n",
       "                                     2018-03-27   10.00  \n",
       "...                                                 ...  \n",
       "UNACEM ECUADOR S.A. (La Farge)       2017-03-14    6.10  \n",
       "                                     2018-03-27    6.10  \n",
       "                                     2019-03-29    6.10  \n",
       "                                     2020-06-15    6.10  \n",
       "VALLE GRANDE FORESTAL (VALLEYFOREST) 2019-03-26    2.60  \n",
       "\n",
       "[634 rows x 7 columns]"
      ]
     },
     "execution_count": 10,
     "metadata": {},
     "output_type": "execute_result"
    }
   ],
   "source": [
    "pivot_div = pd.pivot_table(div, index=['EMISOR', 'FECHA'])\n",
    "pivot_div"
   ]
  },
  {
   "cell_type": "markdown",
   "metadata": {},
   "source": [
    "> Llegado a este punto, tenemos ya toda nuestra información disponible para realizar nuestro análisis, pues tenemos listas nuestras 3 tablas:\n",
    "    > * **Precios** : precios\n",
    "    > * **Presencia Bursátil** : ranking_presencia\n",
    "    > * **Dividendos** : pivot_div\n",
    "\n",
    "Necesitamos cruzar información desde una tabla a otra, en este caso llevar los precios hacia la tabla de dividendos. Habíamos comentado antes de la rusticidad de la información y de lo \"sucia\" y no estandarizada. Pues aquí se presenta un problema, pues para cruzar información desde una tabla a otra se necesita un campo en común (un ID) para poder referenciar bien el cruze de datos. En otras bolsas del mundo esto se consigue a través del `Ticker` que es una abreviatura única para poder identicar a cada acción. En el caso ecuatoriano, no solo que no hay tickers, además los nombres de las compañias difieren entre tablas. Para ejemplificar, se muestran estos 3 casos, aunque casi todos acusan de este problema.\n",
    "\n",
    "| NOMBRE EN TABLA DE PRECIOS | NOMBRE EN TABLA DE DIVIDENDOS         |\n",
    "|----------------------------|---------------------------------------|\n",
    "| BANCO PRODUBANCO           | BANCO DE LA PRODUCCION S.A PRODUBANCO |\n",
    "| CORPORACION FAVORITA       | CORPORACION FAVORITA C.A.             |\n",
    "| CRIDESA                    | CRISTALERIA DEL ECUADOR S.A. CRIDESA  |\n",
    "\n",
    "Para solucionar este problema implementamos el siguiente diccionario:"
   ]
  },
  {
   "cell_type": "code",
   "execution_count": 11,
   "metadata": {},
   "outputs": [],
   "source": [
    "dicc_nombres = {\n",
    "                'CORPORACIÓN FAVORITA C.A.': 'CORPORACION FAVORITA',\n",
    "                'BANCO DE GUAYAQUIL S.A.': 'BANCO GUAYAQUIL',\n",
    "                'BRIKAPITAL SA ': 'BRIKAPITAL',\n",
    "                'BANCO DE LA PRODUCCIÓN S.A. PRODUBANCO': \"BANCO PRODUBANCO\",\n",
    "                'BANCO PICHINCHA C.A.': 'BANCO PICHINCHA',\n",
    "                'COMPAÑÍA DE CERVEZAS NACIONALES': 'CERVECERIA NACIONAL CN S.A.',\n",
    "                'HOLCIM ECUADOR VN 3': 'HOLCIM ECUADOR VN 3.00',\n",
    "                'BOLSA DE VALORES DE QUITO': 'BOLSA DE VALORES DE QUITO BVQ SOCIEDAD ANÓNIMA',\n",
    "                'SUPERDEPORTE S.A.': 'SUPERDEPORTE',\n",
    "                'SAN CARLOS': 'SOCIEDAD AGRICOLA E IND. SAN CARLOS',\n",
    "                }"
   ]
  },
  {
   "cell_type": "markdown",
   "metadata": {},
   "source": [
    "Una vez resuelto el problema de los nombres, procedemos a \"conectar\" las dos tablas a través de ellos y extraer el precio de determinado activo en determinada fecha.\n",
    "\n",
    "> Como ya habíamos comentado anteriormente, al no ser fechas continuas, sino que en la tabla de precios la periodicidad es mensual, las fechas contenidas en la tabla de dividendos dificilmente van a coincidir con las fechas en la tabla de precios, así que lo más conveniente es coger el precio de la fecha más cercana. Esto se puede observar en la implementación del algoritmo que se muestra a continuación donde se usa `method='nearest'`."
   ]
  },
  {
   "cell_type": "code",
   "execution_count": 12,
   "metadata": {},
   "outputs": [],
   "source": [
    "# obtener precio de acciones \n",
    "\n",
    "precios_data = []\n",
    "for emisor, fecha in pivot_div.index:\n",
    "    if emisor in dicc_nombres:\n",
    "        emisor = dicc_nombres[emisor]\n",
    "        precios_data.append([emisor, fecha, precios.iloc[precios[emisor].index.get_loc(fecha, method='nearest')][emisor]])\n",
    "    else:\n",
    "        precios_data.append([emisor, fecha, 0])"
   ]
  },
  {
   "cell_type": "markdown",
   "metadata": {},
   "source": [
    "Se procede a pivotear los precios obtenidos con la función anterior para crear una nueva tabla que pueda unirse con la de dividendos en base a sus indices de: nombre del emisor y fecha. La tabla resultante contendrá todos los datos a utilizar para realizar los cálculos pertinentes."
   ]
  },
  {
   "cell_type": "code",
   "execution_count": 13,
   "metadata": {},
   "outputs": [
    {
     "data": {
      "text/html": [
       "<div>\n",
       "<style scoped>\n",
       "    .dataframe tbody tr th:only-of-type {\n",
       "        vertical-align: middle;\n",
       "    }\n",
       "\n",
       "    .dataframe tbody tr th {\n",
       "        vertical-align: top;\n",
       "    }\n",
       "\n",
       "    .dataframe thead th {\n",
       "        text-align: right;\n",
       "    }\n",
       "</style>\n",
       "<table border=\"1\" class=\"dataframe\">\n",
       "  <thead>\n",
       "    <tr style=\"text-align: right;\">\n",
       "      <th></th>\n",
       "      <th></th>\n",
       "      <th>PRECIO</th>\n",
       "      <th>BPA</th>\n",
       "      <th>AUM.ACC</th>\n",
       "      <th>AUM.CAP</th>\n",
       "      <th>SPLIT</th>\n",
       "    </tr>\n",
       "    <tr>\n",
       "      <th>EMISOR</th>\n",
       "      <th>FECHA</th>\n",
       "      <th></th>\n",
       "      <th></th>\n",
       "      <th></th>\n",
       "      <th></th>\n",
       "      <th></th>\n",
       "    </tr>\n",
       "  </thead>\n",
       "  <tbody>\n",
       "    <tr>\n",
       "      <th rowspan=\"5\" valign=\"top\">ALICOSTA BK HOLDING S.A.</th>\n",
       "      <th>2014-03-25</th>\n",
       "      <td>12.00</td>\n",
       "      <td>0.262830</td>\n",
       "      <td>NaN</td>\n",
       "      <td>NaN</td>\n",
       "      <td>NaN</td>\n",
       "    </tr>\n",
       "    <tr>\n",
       "      <th>2015-03-31</th>\n",
       "      <td>12.00</td>\n",
       "      <td>0.554404</td>\n",
       "      <td>1.000000</td>\n",
       "      <td>1.000000</td>\n",
       "      <td>1.00</td>\n",
       "    </tr>\n",
       "    <tr>\n",
       "      <th>2016-03-29</th>\n",
       "      <td>12.25</td>\n",
       "      <td>0.253498</td>\n",
       "      <td>1.000000</td>\n",
       "      <td>1.000000</td>\n",
       "      <td>1.00</td>\n",
       "    </tr>\n",
       "    <tr>\n",
       "      <th>2017-03-28</th>\n",
       "      <td>12.00</td>\n",
       "      <td>0.154766</td>\n",
       "      <td>1.000000</td>\n",
       "      <td>1.000000</td>\n",
       "      <td>1.00</td>\n",
       "    </tr>\n",
       "    <tr>\n",
       "      <th>2018-03-27</th>\n",
       "      <td>10.00</td>\n",
       "      <td>0.700000</td>\n",
       "      <td>1.000000</td>\n",
       "      <td>1.000000</td>\n",
       "      <td>1.00</td>\n",
       "    </tr>\n",
       "    <tr>\n",
       "      <th>...</th>\n",
       "      <th>...</th>\n",
       "      <td>...</td>\n",
       "      <td>...</td>\n",
       "      <td>...</td>\n",
       "      <td>...</td>\n",
       "      <td>...</td>\n",
       "    </tr>\n",
       "    <tr>\n",
       "      <th rowspan=\"4\" valign=\"top\">UNACEM ECUADOR S.A. (La Farge)</th>\n",
       "      <th>2017-03-14</th>\n",
       "      <td>6.10</td>\n",
       "      <td>1.146112</td>\n",
       "      <td>1.000000</td>\n",
       "      <td>1.000000</td>\n",
       "      <td>1.00</td>\n",
       "    </tr>\n",
       "    <tr>\n",
       "      <th>2018-03-27</th>\n",
       "      <td>6.10</td>\n",
       "      <td>0.690599</td>\n",
       "      <td>1.000000</td>\n",
       "      <td>1.000000</td>\n",
       "      <td>1.00</td>\n",
       "    </tr>\n",
       "    <tr>\n",
       "      <th>2019-03-29</th>\n",
       "      <td>6.10</td>\n",
       "      <td>0.784802</td>\n",
       "      <td>1.000000</td>\n",
       "      <td>1.000000</td>\n",
       "      <td>1.00</td>\n",
       "    </tr>\n",
       "    <tr>\n",
       "      <th>2020-06-15</th>\n",
       "      <td>6.10</td>\n",
       "      <td>0.193263</td>\n",
       "      <td>1.000000</td>\n",
       "      <td>1.000000</td>\n",
       "      <td>1.00</td>\n",
       "    </tr>\n",
       "    <tr>\n",
       "      <th>VALLE GRANDE FORESTAL (VALLEYFOREST)</th>\n",
       "      <th>2019-03-26</th>\n",
       "      <td>2.60</td>\n",
       "      <td>0.001064</td>\n",
       "      <td>0.039604</td>\n",
       "      <td>0.990099</td>\n",
       "      <td>0.04</td>\n",
       "    </tr>\n",
       "  </tbody>\n",
       "</table>\n",
       "<p>634 rows × 5 columns</p>\n",
       "</div>"
      ],
      "text/plain": [
       "                                                 PRECIO       BPA   AUM.ACC  \\\n",
       "EMISOR                               FECHA                                    \n",
       "ALICOSTA BK HOLDING S.A.             2014-03-25   12.00  0.262830       NaN   \n",
       "                                     2015-03-31   12.00  0.554404  1.000000   \n",
       "                                     2016-03-29   12.25  0.253498  1.000000   \n",
       "                                     2017-03-28   12.00  0.154766  1.000000   \n",
       "                                     2018-03-27   10.00  0.700000  1.000000   \n",
       "...                                                 ...       ...       ...   \n",
       "UNACEM ECUADOR S.A. (La Farge)       2017-03-14    6.10  1.146112  1.000000   \n",
       "                                     2018-03-27    6.10  0.690599  1.000000   \n",
       "                                     2019-03-29    6.10  0.784802  1.000000   \n",
       "                                     2020-06-15    6.10  0.193263  1.000000   \n",
       "VALLE GRANDE FORESTAL (VALLEYFOREST) 2019-03-26    2.60  0.001064  0.039604   \n",
       "\n",
       "                                                  AUM.CAP  SPLIT  \n",
       "EMISOR                               FECHA                        \n",
       "ALICOSTA BK HOLDING S.A.             2014-03-25       NaN    NaN  \n",
       "                                     2015-03-31  1.000000   1.00  \n",
       "                                     2016-03-29  1.000000   1.00  \n",
       "                                     2017-03-28  1.000000   1.00  \n",
       "                                     2018-03-27  1.000000   1.00  \n",
       "...                                                   ...    ...  \n",
       "UNACEM ECUADOR S.A. (La Farge)       2017-03-14  1.000000   1.00  \n",
       "                                     2018-03-27  1.000000   1.00  \n",
       "                                     2019-03-29  1.000000   1.00  \n",
       "                                     2020-06-15  1.000000   1.00  \n",
       "VALLE GRANDE FORESTAL (VALLEYFOREST) 2019-03-26  0.990099   0.04  \n",
       "\n",
       "[634 rows x 5 columns]"
      ]
     },
     "execution_count": 13,
     "metadata": {},
     "output_type": "execute_result"
    }
   ],
   "source": [
    "pivot_price = pd.DataFrame(precios_data, columns=['EMISOR', 'FECHA', 'PRECIO']).set_index(['EMISOR', 'FECHA'])\n",
    "pivot_div.rename(index=dicc_nombres, inplace=True)\n",
    "\n",
    "pivot_div['AUM.ACC'] = pivot_div['NUMERO ACCIONES TOTALES'] / pivot_div['NUMERO ACCIONES TOTALES'].shift(1)\n",
    "pivot_div['AUM.CAP'] = pivot_div['CAPITAL LUEGO DEL EVENTO'] / pivot_div['CAPITAL LUEGO DEL EVENTO'].shift(1)\n",
    "pivot_div['SPLIT'] = pivot_div['AUM.ACC'] / pivot_div['AUM.CAP']\n",
    "pivot_div = pivot_div[['PRECIO', 'BPA', 'AUM.ACC', 'AUM.CAP', 'SPLIT']]\n",
    "pivot_div"
   ]
  },
  {
   "cell_type": "markdown",
   "metadata": {},
   "source": [
    "## Creación del reporte"
   ]
  },
  {
   "cell_type": "code",
   "execution_count": 14,
   "metadata": {},
   "outputs": [],
   "source": [
    "class Reporte(object):\n",
    "    \n",
    "    def __init__(self, seleccion, monto, inicio, fin):\n",
    "        \n",
    "        self.seleccion = seleccion\n",
    "        self.monto = monto / len(seleccion)\n",
    "        self.inicio = datetime.strptime(inicio, '%Y-%m-%d')\n",
    "        self.fin    = datetime.strptime(fin   , '%Y-%m-%d')\n",
    "        self.plazo = (self.fin-self.inicio).days / 365\n",
    "    \n",
    "    def balance(self, emisor):\n",
    "        \n",
    "        final = pivot_div.loc[emisor].loc[inicio:fin]\n",
    "\n",
    "        precio_inicial = precios.iloc[precios[emisor].index.get_loc(inicio, method='nearest')][emisor]\n",
    "        precio_final   = precios.iloc[precios[emisor].index.get_loc(fin   , method='nearest')][emisor]\n",
    "\n",
    "        final.loc[self.inicio] = [precio_inicial, 0, 1, 1, 1]\n",
    "        final.loc[self.fin] = [precio_final, 0, 1, 1, 1]\n",
    "\n",
    "        final.sort_index(inplace=True)\n",
    "\n",
    "        final['ACC.POS'] = self.monto / precio_inicial * final['AUM.ACC'].cumprod()\n",
    "        final['DIVIDENDO'] = final['BPA'] * final['ACC.POS']\n",
    "        final['BALANCE'] = (final['PRECIO'] * final['ACC.POS'])\n",
    "        final['REV.PRECIO'] = (final['BALANCE'] -  self.monto).diff()\n",
    "\n",
    "        return final\n",
    "    \n",
    "    def resultados(self):\n",
    "        \n",
    "        pd.options.display.float_format = '{:,.2f}'.format\n",
    "        \n",
    "        lista_df = []\n",
    "\n",
    "        for cia in self.seleccion:\n",
    "            \n",
    "            final = self.balance(cia)\n",
    "            dividendos = final['DIVIDENDO'].sum()\n",
    "            acciones = final['BALANCE'][-1]\n",
    "            total = dividendos + acciones\n",
    "            rendimiento = 100 * (total / self.monto)**(1/self.plazo)-100\n",
    "            \n",
    "            df = pd.DataFrame({cia:[dividendos, acciones, total, rendimiento]},\n",
    "                              index=['DIVIDENDOS', 'REV. ACCIONES', 'TOTAL', 'RENDIMIENTO']).T\n",
    "            \n",
    "            lista_df.append(df)\n",
    "        \n",
    "        resultados = pd.concat(lista_df)\n",
    "        \n",
    "        return resultados"
   ]
  },
  {
   "cell_type": "markdown",
   "metadata": {},
   "source": [
    "## Datos de la inversión\n",
    "\n",
    "Para nuestro análisis asumiremos el siguiente escenario, aunque no es necesario fijar un monto en concreto ya que podemos trabajar con los precios y sacar rentabilidades relativas (porcentuales), pero creo que con un ejemplo se podrá ver mejor el análisis."
   ]
  },
  {
   "cell_type": "code",
   "execution_count": 15,
   "metadata": {},
   "outputs": [],
   "source": [
    "monto_invertido = 100_000\n",
    "inicio = '2018-06-30'\n",
    "fin    = '2021-06-30'"
   ]
  },
  {
   "cell_type": "markdown",
   "metadata": {},
   "source": [
    "### Selección del portafolio\n",
    "\n",
    "El BVG index selecciona a sus componentes basado en 3 indicadores bursátiles, de acuerdo a la siguientre fórmula: $W = 0.7P_b + 0.2P_m + 0.1P_c$, donde $P_b$ es la presencia bursátil. Las otras 2 variables corresponden a la participación de la acción en el total negociado y en la capitalización bursátil. Como no tenemos datos de estos dos últimos indicadores para todo el período de análisis, utilizaremos de base solo a la presencia bursátil (que es el 70% del peso en la fórmula) como determinante para seleccionar a las compañias, que para efectos prácticos serán 10.\n",
    "\n",
    "Dentro del ranking de presencia bursátil, aparecerán compañias que empezaron a cotizar en bolsa después después del inicio del período de análisis. Sería injusto seleccionarlas porque estariamos evaluando su rentabilidad de una fracción de la década, asi pues seguiremos los siguientes pasos:\n",
    "\n",
    "* A través del método `first_valid_index()` obtendremos la fecha en donde empezaron a marcar precio las acciones de cada compañía.\n",
    "* Se crea una tabla de datos donde se incluya los campos de presencia bursátil y la fecha de inicio en bolsa, obtenida en el paso anterior.\n",
    "* Se seleccionan solo las empresas que aparecen en la tabla de dividendos y que empezaron a cotizar antes de la fecha de inicio del análisis.\n",
    "* Removemos del listado a empresas que no se tenga información suficiente en la tabla de dividendos.\n",
    "* Las 10 primeras de las empresas, luego de aplicar todos los filtros anteriores, serian las seleccionadas.\n",
    "* Asumiremos que el monto a invertir será repartido en partes iguales para cada acción seleccionada.\n"
   ]
  },
  {
   "cell_type": "code",
   "execution_count": 16,
   "metadata": {},
   "outputs": [
    {
     "data": {
      "text/html": [
       "<style  type=\"text/css\" >\n",
       "</style><table id=\"T_430a4_\" ><thead>    <tr>        <th class=\"blank level0\" ></th>        <th class=\"col_heading level0 col0\" >PORTAFOLIO</th>        <th class=\"col_heading level0 col1\" >PONDERADORES</th>    </tr></thead><tbody>\n",
       "                <tr>\n",
       "                        <th id=\"T_430a4_level0_row0\" class=\"row_heading level0 row0\" >1</th>\n",
       "                        <td id=\"T_430a4_row0_col0\" class=\"data row0 col0\" >CORPORACION FAVORITA</td>\n",
       "                        <td id=\"T_430a4_row0_col1\" class=\"data row0 col1\" >10%</td>\n",
       "            </tr>\n",
       "            <tr>\n",
       "                        <th id=\"T_430a4_level0_row1\" class=\"row_heading level0 row1\" >2</th>\n",
       "                        <td id=\"T_430a4_row1_col0\" class=\"data row1 col0\" >BANCO GUAYAQUIL</td>\n",
       "                        <td id=\"T_430a4_row1_col1\" class=\"data row1 col1\" >10%</td>\n",
       "            </tr>\n",
       "            <tr>\n",
       "                        <th id=\"T_430a4_level0_row2\" class=\"row_heading level0 row2\" >3</th>\n",
       "                        <td id=\"T_430a4_row2_col0\" class=\"data row2 col0\" >BRIKAPITAL</td>\n",
       "                        <td id=\"T_430a4_row2_col1\" class=\"data row2 col1\" >10%</td>\n",
       "            </tr>\n",
       "            <tr>\n",
       "                        <th id=\"T_430a4_level0_row3\" class=\"row_heading level0 row3\" >4</th>\n",
       "                        <td id=\"T_430a4_row3_col0\" class=\"data row3 col0\" >BANCO PRODUBANCO</td>\n",
       "                        <td id=\"T_430a4_row3_col1\" class=\"data row3 col1\" >10%</td>\n",
       "            </tr>\n",
       "            <tr>\n",
       "                        <th id=\"T_430a4_level0_row4\" class=\"row_heading level0 row4\" >5</th>\n",
       "                        <td id=\"T_430a4_row4_col0\" class=\"data row4 col0\" >BANCO PICHINCHA</td>\n",
       "                        <td id=\"T_430a4_row4_col1\" class=\"data row4 col1\" >10%</td>\n",
       "            </tr>\n",
       "            <tr>\n",
       "                        <th id=\"T_430a4_level0_row5\" class=\"row_heading level0 row5\" >6</th>\n",
       "                        <td id=\"T_430a4_row5_col0\" class=\"data row5 col0\" >CERVECERIA NACIONAL CN S.A.</td>\n",
       "                        <td id=\"T_430a4_row5_col1\" class=\"data row5 col1\" >10%</td>\n",
       "            </tr>\n",
       "            <tr>\n",
       "                        <th id=\"T_430a4_level0_row6\" class=\"row_heading level0 row6\" >7</th>\n",
       "                        <td id=\"T_430a4_row6_col0\" class=\"data row6 col0\" >BOLSA DE VALORES DE QUITO BVQ SOCIEDAD ANÓNIMA</td>\n",
       "                        <td id=\"T_430a4_row6_col1\" class=\"data row6 col1\" >10%</td>\n",
       "            </tr>\n",
       "            <tr>\n",
       "                        <th id=\"T_430a4_level0_row7\" class=\"row_heading level0 row7\" >8</th>\n",
       "                        <td id=\"T_430a4_row7_col0\" class=\"data row7 col0\" >HOLCIM ECUADOR VN 3.00</td>\n",
       "                        <td id=\"T_430a4_row7_col1\" class=\"data row7 col1\" >10%</td>\n",
       "            </tr>\n",
       "            <tr>\n",
       "                        <th id=\"T_430a4_level0_row8\" class=\"row_heading level0 row8\" >9</th>\n",
       "                        <td id=\"T_430a4_row8_col0\" class=\"data row8 col0\" >SUPERDEPORTE</td>\n",
       "                        <td id=\"T_430a4_row8_col1\" class=\"data row8 col1\" >10%</td>\n",
       "            </tr>\n",
       "            <tr>\n",
       "                        <th id=\"T_430a4_level0_row9\" class=\"row_heading level0 row9\" >10</th>\n",
       "                        <td id=\"T_430a4_row9_col0\" class=\"data row9 col0\" >SOCIEDAD AGRICOLA E IND. SAN CARLOS</td>\n",
       "                        <td id=\"T_430a4_row9_col1\" class=\"data row9 col1\" >10%</td>\n",
       "            </tr>\n",
       "    </tbody></table>"
      ],
      "text/plain": [
       "<pandas.io.formats.style.Styler at 0x1c3825d6ac0>"
      ]
     },
     "execution_count": 16,
     "metadata": {},
     "output_type": "execute_result"
    }
   ],
   "source": [
    "num_activos = 10\n",
    "\n",
    "#Hay que buscar cuando empezaron a cotizar las acciones en bolsa\n",
    "firstTrade = pd.Series({cia:precios[cia].first_valid_index() for cia in precios})\n",
    "#Construendo un DataFrame de presencia bursátil y fecha inicial de cotización\n",
    "df_pre = pd.DataFrame({'Presencia':ranking_presencia, 'FirstTradeDate':firstTrade})\n",
    "#Filtrando el DataFrame anterior por las empresas que estan en la tabla de dividendos\n",
    "df_pre = df_pre.loc[dicc_nombres.values()]\n",
    "#Filtrando las compañias que empezaron a cotizar antes de la fecha inicial del analisis\n",
    "df_pre = df_pre[df_pre['FirstTradeDate'] < inicio ].sort_values('Presencia', ascending=False)\n",
    "\n",
    "\n",
    "lista_empresas = list(df_pre.index)\n",
    "seleccionadas = lista_empresas[:num_activos]\n",
    "ponderadores = np.ones(num_activos) / num_activos\n",
    "\n",
    "formato = {\"PORTAFOLIO\":\"{:}\",\"PONDERADORES\": \"{:.0%}\"}\n",
    "pd.DataFrame({'PORTAFOLIO':seleccionadas, 'PONDERADORES':ponderadores}, index=range(1,num_activos+1)).style.format(formato)"
   ]
  },
  {
   "cell_type": "markdown",
   "metadata": {},
   "source": [
    "## Presentación de Resultados"
   ]
  },
  {
   "cell_type": "code",
   "execution_count": 17,
   "metadata": {},
   "outputs": [],
   "source": [
    "reporte = Reporte(seleccion=seleccionadas, monto=monto_invertido, inicio=inicio, fin=fin)"
   ]
  },
  {
   "cell_type": "code",
   "execution_count": 18,
   "metadata": {},
   "outputs": [
    {
     "data": {
      "text/html": [
       "<div>\n",
       "<style scoped>\n",
       "    .dataframe tbody tr th:only-of-type {\n",
       "        vertical-align: middle;\n",
       "    }\n",
       "\n",
       "    .dataframe tbody tr th {\n",
       "        vertical-align: top;\n",
       "    }\n",
       "\n",
       "    .dataframe thead th {\n",
       "        text-align: right;\n",
       "    }\n",
       "</style>\n",
       "<table border=\"1\" class=\"dataframe\">\n",
       "  <thead>\n",
       "    <tr style=\"text-align: right;\">\n",
       "      <th></th>\n",
       "      <th>DIVIDENDOS</th>\n",
       "      <th>REV. ACCIONES</th>\n",
       "      <th>TOTAL</th>\n",
       "      <th>RENDIMIENTO</th>\n",
       "    </tr>\n",
       "  </thead>\n",
       "  <tbody>\n",
       "    <tr>\n",
       "      <th>CORPORACION FAVORITA</th>\n",
       "      <td>412.91</td>\n",
       "      <td>10,019.58</td>\n",
       "      <td>10,432.49</td>\n",
       "      <td>1.42</td>\n",
       "    </tr>\n",
       "    <tr>\n",
       "      <th>BANCO GUAYAQUIL</th>\n",
       "      <td>2,878.12</td>\n",
       "      <td>15,706.55</td>\n",
       "      <td>18,584.67</td>\n",
       "      <td>22.92</td>\n",
       "    </tr>\n",
       "    <tr>\n",
       "      <th>BRIKAPITAL</th>\n",
       "      <td>0.00</td>\n",
       "      <td>9,390.00</td>\n",
       "      <td>9,390.00</td>\n",
       "      <td>-2.07</td>\n",
       "    </tr>\n",
       "    <tr>\n",
       "      <th>BANCO PRODUBANCO</th>\n",
       "      <td>2,131.65</td>\n",
       "      <td>13,212.14</td>\n",
       "      <td>15,343.79</td>\n",
       "      <td>15.32</td>\n",
       "    </tr>\n",
       "    <tr>\n",
       "      <th>BANCO PICHINCHA</th>\n",
       "      <td>1,506.25</td>\n",
       "      <td>13,992.27</td>\n",
       "      <td>15,498.52</td>\n",
       "      <td>15.71</td>\n",
       "    </tr>\n",
       "    <tr>\n",
       "      <th>CERVECERIA NACIONAL CN S.A.</th>\n",
       "      <td>1,433.49</td>\n",
       "      <td>8,950.55</td>\n",
       "      <td>10,384.04</td>\n",
       "      <td>1.26</td>\n",
       "    </tr>\n",
       "    <tr>\n",
       "      <th>BOLSA DE VALORES DE QUITO BVQ SOCIEDAD ANÓNIMA</th>\n",
       "      <td>4,107.64</td>\n",
       "      <td>13,199.79</td>\n",
       "      <td>17,307.43</td>\n",
       "      <td>20.04</td>\n",
       "    </tr>\n",
       "    <tr>\n",
       "      <th>HOLCIM ECUADOR VN 3.00</th>\n",
       "      <td>1,554.84</td>\n",
       "      <td>7,351.47</td>\n",
       "      <td>8,906.31</td>\n",
       "      <td>-3.78</td>\n",
       "    </tr>\n",
       "    <tr>\n",
       "      <th>SUPERDEPORTE</th>\n",
       "      <td>190.40</td>\n",
       "      <td>12,276.35</td>\n",
       "      <td>12,466.75</td>\n",
       "      <td>7.62</td>\n",
       "    </tr>\n",
       "    <tr>\n",
       "      <th>SOCIEDAD AGRICOLA E IND. SAN CARLOS</th>\n",
       "      <td>54.81</td>\n",
       "      <td>6,600.00</td>\n",
       "      <td>6,654.81</td>\n",
       "      <td>-12.68</td>\n",
       "    </tr>\n",
       "  </tbody>\n",
       "</table>\n",
       "</div>"
      ],
      "text/plain": [
       "                                                DIVIDENDOS  REV. ACCIONES  \\\n",
       "CORPORACION FAVORITA                                412.91      10,019.58   \n",
       "BANCO GUAYAQUIL                                   2,878.12      15,706.55   \n",
       "BRIKAPITAL                                            0.00       9,390.00   \n",
       "BANCO PRODUBANCO                                  2,131.65      13,212.14   \n",
       "BANCO PICHINCHA                                   1,506.25      13,992.27   \n",
       "CERVECERIA NACIONAL CN S.A.                       1,433.49       8,950.55   \n",
       "BOLSA DE VALORES DE QUITO BVQ SOCIEDAD ANÓNIMA    4,107.64      13,199.79   \n",
       "HOLCIM ECUADOR VN 3.00                            1,554.84       7,351.47   \n",
       "SUPERDEPORTE                                        190.40      12,276.35   \n",
       "SOCIEDAD AGRICOLA E IND. SAN CARLOS                  54.81       6,600.00   \n",
       "\n",
       "                                                   TOTAL  RENDIMIENTO  \n",
       "CORPORACION FAVORITA                           10,432.49         1.42  \n",
       "BANCO GUAYAQUIL                                18,584.67        22.92  \n",
       "BRIKAPITAL                                      9,390.00        -2.07  \n",
       "BANCO PRODUBANCO                               15,343.79        15.32  \n",
       "BANCO PICHINCHA                                15,498.52        15.71  \n",
       "CERVECERIA NACIONAL CN S.A.                    10,384.04         1.26  \n",
       "BOLSA DE VALORES DE QUITO BVQ SOCIEDAD ANÓNIMA 17,307.43        20.04  \n",
       "HOLCIM ECUADOR VN 3.00                          8,906.31        -3.78  \n",
       "SUPERDEPORTE                                   12,466.75         7.62  \n",
       "SOCIEDAD AGRICOLA E IND. SAN CARLOS             6,654.81       -12.68  "
      ]
     },
     "execution_count": 18,
     "metadata": {},
     "output_type": "execute_result"
    }
   ],
   "source": [
    "reporte.resultados()"
   ]
  },
  {
   "cell_type": "code",
   "execution_count": 19,
   "metadata": {},
   "outputs": [
    {
     "data": {
      "text/html": [
       "<style  type=\"text/css\" >\n",
       "</style><table id=\"T_1eb31_\" ><thead>    <tr>        <th class=\"blank level0\" ></th>        <th class=\"col_heading level0 col0\" >TOTAL</th>        <th class=\"col_heading level0 col1\" >TEA</th>    </tr></thead><tbody>\n",
       "                <tr>\n",
       "                        <th id=\"T_1eb31_level0_row0\" class=\"row_heading level0 row0\" >RESULTADOS</th>\n",
       "                        <td id=\"T_1eb31_row0_col0\" class=\"data row0 col0\" >$124,968.81</td>\n",
       "                        <td id=\"T_1eb31_row0_col1\" class=\"data row0 col1\" >7.71%</td>\n",
       "            </tr>\n",
       "    </tbody></table>"
      ],
      "text/plain": [
       "<pandas.io.formats.style.Styler at 0x1c3847b4070>"
      ]
     },
     "execution_count": 19,
     "metadata": {},
     "output_type": "execute_result"
    }
   ],
   "source": [
    "plazo = (reporte.fin - reporte.inicio).days / 365\n",
    "beneficio = reporte.resultados()['TOTAL'].sum()\n",
    "rend = (beneficio / monto_invertido) ** (1/plazo) - 1\n",
    "pd.DataFrame({'TOTAL': beneficio, 'TEA': rend}, index=['RESULTADOS']).style.format({\"TOTAL\":\"${:,.2f}\",\"TEA\": \"{:.2%}\"})"
   ]
  },
  {
   "cell_type": "markdown",
   "metadata": {},
   "source": [
    "## Ajuste de rentabilidad por concepto de dividendos pagados\n",
    "\n",
    "La rentabilidad obtenida en los resultados corresponde a la suma de la revalorización total de las acciones y de los dividendos recibidos. Está es la forma como hace el cálculo la bolsa de valores de Quito, en su [Calculadora de Rendimientos](http://www.bolsadequito.com/index.php/mercados-bursatiles/mercado-en-linea/calculadora-de-rendimientos). Sería algo injusto, evaluar la rentabilidad de esta forma, ya que los dividendos son entregados no al final del período de inversión sino en diferentes momentos dentro de este y como sabemos del valor del dinero en el tiempo, no podemos pasar por alto algo tan obvio.\n",
    "\n",
    "Corresponde entonces evaluar esos dividendos en el momento que se recibieron y a rasgos generales pueden existir 2 enfoques:\n",
    "\n",
    "1. Reinvertir todas los dividendos recibidos en la compra de más activos que generen más rendimientos.\n",
    "2. Evaluar los dividendos recibidos como un flujo de caja y sacar el rendimiento de estos (TIR)"
   ]
  },
  {
   "cell_type": "markdown",
   "metadata": {},
   "source": [
    "### Reinversión en acciones\n",
    "\n",
    "En este caso asumimos que los dividendos recibidos fueron reinvertidos en la compra de más de la mismas acciones."
   ]
  },
  {
   "cell_type": "code",
   "execution_count": 20,
   "metadata": {},
   "outputs": [],
   "source": [
    "def balance_ajustado(emisor):\n",
    "    \n",
    "    df = reporte.balance(emisor)\n",
    "    df['REINVERSION'] = df['DIVIDENDO'] / df['PRECIO']\n",
    "    df['TOTAL.ACCIONES'] = df['ACC.POS'] + df['REINVERSION'].cumsum() * df['SPLIT'].cumprod()\n",
    "    df['BALANCE.AJUST'] = df['PRECIO'] * df['TOTAL.ACCIONES']\n",
    "    return df\n",
    "\n",
    "def resultados_ajustados(seleccion):\n",
    "        \n",
    "    pd.options.display.float_format = '{:,.2f}'.format\n",
    "    lista_df = []\n",
    "\n",
    "    for cia in seleccion:\n",
    "            \n",
    "        final = balance_ajustado(cia)\n",
    "        acciones = final['BALANCE.AJUST'][-1]\n",
    "        rendimiento = 100 * (acciones / monto_invertido*len(seleccion))**(1/plazo) - 100\n",
    "            \n",
    "        df = pd.DataFrame({cia:[acciones, rendimiento]}, index=['REV. ACCIONES', 'RENDIMIENTO']).T          \n",
    "        lista_df.append(df)\n",
    "        \n",
    "    resultados = pd.concat(lista_df)\n",
    "        \n",
    "    return resultados"
   ]
  },
  {
   "cell_type": "code",
   "execution_count": 21,
   "metadata": {},
   "outputs": [
    {
     "data": {
      "text/html": [
       "<div>\n",
       "<style scoped>\n",
       "    .dataframe tbody tr th:only-of-type {\n",
       "        vertical-align: middle;\n",
       "    }\n",
       "\n",
       "    .dataframe tbody tr th {\n",
       "        vertical-align: top;\n",
       "    }\n",
       "\n",
       "    .dataframe thead th {\n",
       "        text-align: right;\n",
       "    }\n",
       "</style>\n",
       "<table border=\"1\" class=\"dataframe\">\n",
       "  <thead>\n",
       "    <tr style=\"text-align: right;\">\n",
       "      <th></th>\n",
       "      <th>REV. ACCIONES</th>\n",
       "      <th>RENDIMIENTO</th>\n",
       "    </tr>\n",
       "  </thead>\n",
       "  <tbody>\n",
       "    <tr>\n",
       "      <th>CORPORACION FAVORITA</th>\n",
       "      <td>10,381.48</td>\n",
       "      <td>1.25</td>\n",
       "    </tr>\n",
       "    <tr>\n",
       "      <th>BANCO GUAYAQUIL</th>\n",
       "      <td>18,057.84</td>\n",
       "      <td>21.75</td>\n",
       "    </tr>\n",
       "    <tr>\n",
       "      <th>BRIKAPITAL</th>\n",
       "      <td>9,390.00</td>\n",
       "      <td>-2.07</td>\n",
       "    </tr>\n",
       "    <tr>\n",
       "      <th>BANCO PRODUBANCO</th>\n",
       "      <td>14,881.43</td>\n",
       "      <td>14.16</td>\n",
       "    </tr>\n",
       "    <tr>\n",
       "      <th>BANCO PICHINCHA</th>\n",
       "      <td>15,441.74</td>\n",
       "      <td>15.57</td>\n",
       "    </tr>\n",
       "    <tr>\n",
       "      <th>CERVECERIA NACIONAL CN S.A.</th>\n",
       "      <td>10,241.20</td>\n",
       "      <td>0.80</td>\n",
       "    </tr>\n",
       "    <tr>\n",
       "      <th>BOLSA DE VALORES DE QUITO BVQ SOCIEDAD ANÓNIMA</th>\n",
       "      <td>17,456.94</td>\n",
       "      <td>20.39</td>\n",
       "    </tr>\n",
       "    <tr>\n",
       "      <th>HOLCIM ECUADOR VN 3.00</th>\n",
       "      <td>8,711.64</td>\n",
       "      <td>-4.49</td>\n",
       "    </tr>\n",
       "    <tr>\n",
       "      <th>SUPERDEPORTE</th>\n",
       "      <td>12,466.75</td>\n",
       "      <td>7.62</td>\n",
       "    </tr>\n",
       "    <tr>\n",
       "      <th>SOCIEDAD AGRICOLA E IND. SAN CARLOS</th>\n",
       "      <td>6,650.60</td>\n",
       "      <td>-12.70</td>\n",
       "    </tr>\n",
       "  </tbody>\n",
       "</table>\n",
       "</div>"
      ],
      "text/plain": [
       "                                                REV. ACCIONES  RENDIMIENTO\n",
       "CORPORACION FAVORITA                                10,381.48         1.25\n",
       "BANCO GUAYAQUIL                                     18,057.84        21.75\n",
       "BRIKAPITAL                                           9,390.00        -2.07\n",
       "BANCO PRODUBANCO                                    14,881.43        14.16\n",
       "BANCO PICHINCHA                                     15,441.74        15.57\n",
       "CERVECERIA NACIONAL CN S.A.                         10,241.20         0.80\n",
       "BOLSA DE VALORES DE QUITO BVQ SOCIEDAD ANÓNIMA      17,456.94        20.39\n",
       "HOLCIM ECUADOR VN 3.00                               8,711.64        -4.49\n",
       "SUPERDEPORTE                                        12,466.75         7.62\n",
       "SOCIEDAD AGRICOLA E IND. SAN CARLOS                  6,650.60       -12.70"
      ]
     },
     "execution_count": 21,
     "metadata": {},
     "output_type": "execute_result"
    }
   ],
   "source": [
    "resultados_ajustados(seleccionadas)"
   ]
  },
  {
   "cell_type": "code",
   "execution_count": 22,
   "metadata": {},
   "outputs": [
    {
     "data": {
      "text/html": [
       "<style  type=\"text/css\" >\n",
       "</style><table id=\"T_14b7a_\" ><thead>    <tr>        <th class=\"blank level0\" ></th>        <th class=\"col_heading level0 col0\" >TOTAL</th>        <th class=\"col_heading level0 col1\" >TEA</th>    </tr></thead><tbody>\n",
       "                <tr>\n",
       "                        <th id=\"T_14b7a_level0_row0\" class=\"row_heading level0 row0\" >RESULTADOS</th>\n",
       "                        <td id=\"T_14b7a_row0_col0\" class=\"data row0 col0\" >$123,679.60</td>\n",
       "                        <td id=\"T_14b7a_row0_col1\" class=\"data row0 col1\" >7.33%</td>\n",
       "            </tr>\n",
       "    </tbody></table>"
      ],
      "text/plain": [
       "<pandas.io.formats.style.Styler at 0x1c383c73850>"
      ]
     },
     "execution_count": 22,
     "metadata": {},
     "output_type": "execute_result"
    }
   ],
   "source": [
    "total = resultados_ajustados(seleccionadas)['REV. ACCIONES'].sum()\n",
    "rend = (total / monto_invertido) ** (1/plazo) - 1\n",
    "pd.DataFrame({'TOTAL': total, 'TEA': rend}, index=['RESULTADOS']).style.format({\"TOTAL\":\"${:,.2f}\",\"TEA\": \"{:.2%}\"})"
   ]
  },
  {
   "cell_type": "markdown",
   "metadata": {},
   "source": [
    "### Evaluación del flujo de caja resultante"
   ]
  },
  {
   "cell_type": "markdown",
   "metadata": {},
   "source": [
    "Lo más común es que los dividendos recibidos sean destinados al consumo, así que el enfoque de la **Tasa Interna de Retorno**, sirve como indicador del rendimiento de la inversión, independientemente de lo que se haga con los dividendos recibidos en el plazo de la inversión, lo que se evalua es cuanto y cuando se ingresaron los flujos por concepto de dividendos.\n",
    "\n",
    "> La fórmula de la TIR cuando los pagos son periódicos, es decir los intervalos entre fechas son iguales, por ejemplo mensual, semestral, etc es:  $$\\large\\sum\\limits_{t=0}^{n}{{{C_{t}}\\over{{\\left({1+r}\\right)}^{t}}}}=0$$\n",
    ">\n",
    "> Sin embargo en este caso los flujos de caja generados por el reparto de dividendos son en fechas completamente irregulares. Para este caso la fórmula que aplica es: $$\\large\\sum\\limits_{t=0}^{n}{{{C_{t}}\\over{{\\left({1+r}\\right)}^{\\left({{{d_{t}-d_{1}}\\over{365}}}\\right)}}}}=0$$\n",
    ">> * $d_t$: *Fecha del t-ésimo flujo*\n",
    ">> * $d_1$: *Fecha del 1er flujo*"
   ]
  },
  {
   "cell_type": "markdown",
   "metadata": {},
   "source": [
    "Esta función en específico no viene disponible en el paquete de numpy financial, solamente está la de la TIR con flujos periódicos. Hay que programar la función entonces y para esto es necesario primero implementar la del valor presente neto para flujos no periódicos, ya que la necesitamos en las iteraciones para calcular la TIR de flujos irregulares."
   ]
  },
  {
   "cell_type": "code",
   "execution_count": 23,
   "metadata": {},
   "outputs": [],
   "source": [
    "import scipy.optimize\n",
    "\n",
    "def xvan(tasa, valores, fechas):\n",
    "    '''Equivalente a la función VNA.NO.PER de Excel'''\n",
    "    \n",
    "    if tasa <= -1.0:\n",
    "        return float('inf')\n",
    "    d0 = fechas[0]    # o min(fechas)\n",
    "    return sum([ vi / (1.0 + tasa)**((di - d0).days / 365.0) for vi, di in zip(valores, fechas)])\n",
    "\n",
    "def xtir(valores, fechas):\n",
    "    '''Equivalente a la función TIR.NO.PER de Excel'''\n",
    "    \n",
    "    try:                              \n",
    "        return scipy.optimize.newton(lambda r: xvan(r, valores, fechas), 0.0)\n",
    "    except RuntimeError:    # Por si no puede converger\n",
    "        return scipy.optimize.brentq(lambda r: xvan(r, valores, fechas), -1.0, 1e10)\n",
    "\n",
    "def balance_tir(seleccion):\n",
    "    \n",
    "    lista_df = []\n",
    "    \n",
    "    for emisor in seleccion:\n",
    "    \n",
    "        df = reporte.balance(emisor)\n",
    "        df['FLUJO DE CAJA'] = df['DIVIDENDO']\n",
    "        df['FLUJO DE CAJA'][ 0] = - df['BALANCE'][ 0]\n",
    "        df['FLUJO DE CAJA'][-1] =   df['BALANCE'][-1]\n",
    "        df['EMISOR'] = emisor\n",
    "        lista_df.append(df)\n",
    "    \n",
    "    return pd.concat(lista_df)"
   ]
  },
  {
   "cell_type": "code",
   "execution_count": 24,
   "metadata": {},
   "outputs": [
    {
     "data": {
      "text/html": [
       "<div>\n",
       "<style scoped>\n",
       "    .dataframe tbody tr th:only-of-type {\n",
       "        vertical-align: middle;\n",
       "    }\n",
       "\n",
       "    .dataframe tbody tr th {\n",
       "        vertical-align: top;\n",
       "    }\n",
       "\n",
       "    .dataframe thead th {\n",
       "        text-align: right;\n",
       "    }\n",
       "</style>\n",
       "<table border=\"1\" class=\"dataframe\">\n",
       "  <thead>\n",
       "    <tr style=\"text-align: right;\">\n",
       "      <th></th>\n",
       "      <th>PRECIO</th>\n",
       "      <th>BPA</th>\n",
       "      <th>AUM.ACC</th>\n",
       "      <th>AUM.CAP</th>\n",
       "      <th>SPLIT</th>\n",
       "      <th>ACC.POS</th>\n",
       "      <th>DIVIDENDO</th>\n",
       "      <th>BALANCE</th>\n",
       "      <th>REV.PRECIO</th>\n",
       "      <th>FLUJO DE CAJA</th>\n",
       "      <th>EMISOR</th>\n",
       "    </tr>\n",
       "    <tr>\n",
       "      <th>FECHA</th>\n",
       "      <th></th>\n",
       "      <th></th>\n",
       "      <th></th>\n",
       "      <th></th>\n",
       "      <th></th>\n",
       "      <th></th>\n",
       "      <th></th>\n",
       "      <th></th>\n",
       "      <th></th>\n",
       "      <th></th>\n",
       "      <th></th>\n",
       "    </tr>\n",
       "  </thead>\n",
       "  <tbody>\n",
       "    <tr>\n",
       "      <th>2018-06-30</th>\n",
       "      <td>2.43</td>\n",
       "      <td>0.00</td>\n",
       "      <td>1.00</td>\n",
       "      <td>1.00</td>\n",
       "      <td>1.00</td>\n",
       "      <td>4,115.23</td>\n",
       "      <td>0.00</td>\n",
       "      <td>10,000.00</td>\n",
       "      <td>NaN</td>\n",
       "      <td>-10,000.00</td>\n",
       "      <td>CORPORACION FAVORITA</td>\n",
       "    </tr>\n",
       "    <tr>\n",
       "      <th>2019-03-27</th>\n",
       "      <td>2.59</td>\n",
       "      <td>0.09</td>\n",
       "      <td>1.07</td>\n",
       "      <td>1.07</td>\n",
       "      <td>1.00</td>\n",
       "      <td>4,413.91</td>\n",
       "      <td>412.91</td>\n",
       "      <td>11,432.03</td>\n",
       "      <td>1,432.03</td>\n",
       "      <td>412.91</td>\n",
       "      <td>CORPORACION FAVORITA</td>\n",
       "    </tr>\n",
       "    <tr>\n",
       "      <th>2021-06-30</th>\n",
       "      <td>2.27</td>\n",
       "      <td>0.00</td>\n",
       "      <td>1.00</td>\n",
       "      <td>1.00</td>\n",
       "      <td>1.00</td>\n",
       "      <td>4,413.91</td>\n",
       "      <td>0.00</td>\n",
       "      <td>10,019.58</td>\n",
       "      <td>-1,412.45</td>\n",
       "      <td>10,019.58</td>\n",
       "      <td>CORPORACION FAVORITA</td>\n",
       "    </tr>\n",
       "    <tr>\n",
       "      <th>2018-06-30</th>\n",
       "      <td>0.65</td>\n",
       "      <td>0.00</td>\n",
       "      <td>1.00</td>\n",
       "      <td>1.00</td>\n",
       "      <td>1.00</td>\n",
       "      <td>15,384.62</td>\n",
       "      <td>0.00</td>\n",
       "      <td>10,000.00</td>\n",
       "      <td>NaN</td>\n",
       "      <td>-10,000.00</td>\n",
       "      <td>BANCO GUAYAQUIL</td>\n",
       "    </tr>\n",
       "    <tr>\n",
       "      <th>2018-07-25</th>\n",
       "      <td>0.70</td>\n",
       "      <td>0.01</td>\n",
       "      <td>1.00</td>\n",
       "      <td>1.00</td>\n",
       "      <td>1.00</td>\n",
       "      <td>15,384.62</td>\n",
       "      <td>207.80</td>\n",
       "      <td>10,769.23</td>\n",
       "      <td>769.23</td>\n",
       "      <td>207.80</td>\n",
       "      <td>BANCO GUAYAQUIL</td>\n",
       "    </tr>\n",
       "    <tr>\n",
       "      <th>2019-02-05</th>\n",
       "      <td>1.00</td>\n",
       "      <td>0.04</td>\n",
       "      <td>1.03</td>\n",
       "      <td>1.03</td>\n",
       "      <td>1.00</td>\n",
       "      <td>15,836.28</td>\n",
       "      <td>590.38</td>\n",
       "      <td>15,836.28</td>\n",
       "      <td>5,067.05</td>\n",
       "      <td>590.38</td>\n",
       "      <td>BANCO GUAYAQUIL</td>\n",
       "    </tr>\n",
       "    <tr>\n",
       "      <th>2019-06-07</th>\n",
       "      <td>0.95</td>\n",
       "      <td>0.01</td>\n",
       "      <td>1.03</td>\n",
       "      <td>1.03</td>\n",
       "      <td>1.00</td>\n",
       "      <td>16,287.94</td>\n",
       "      <td>207.80</td>\n",
       "      <td>15,473.55</td>\n",
       "      <td>-362.73</td>\n",
       "      <td>207.80</td>\n",
       "      <td>BANCO GUAYAQUIL</td>\n",
       "    </tr>\n",
       "    <tr>\n",
       "      <th>2020-02-04</th>\n",
       "      <td>1.10</td>\n",
       "      <td>0.09</td>\n",
       "      <td>1.00</td>\n",
       "      <td>1.00</td>\n",
       "      <td>1.00</td>\n",
       "      <td>16,287.94</td>\n",
       "      <td>1,508.66</td>\n",
       "      <td>17,916.74</td>\n",
       "      <td>2,443.19</td>\n",
       "      <td>1,508.66</td>\n",
       "      <td>BANCO GUAYAQUIL</td>\n",
       "    </tr>\n",
       "    <tr>\n",
       "      <th>2020-05-13</th>\n",
       "      <td>0.85</td>\n",
       "      <td>0.00</td>\n",
       "      <td>1.09</td>\n",
       "      <td>1.09</td>\n",
       "      <td>1.00</td>\n",
       "      <td>17,799.10</td>\n",
       "      <td>0.00</td>\n",
       "      <td>15,129.23</td>\n",
       "      <td>-2,787.50</td>\n",
       "      <td>0.00</td>\n",
       "      <td>BANCO GUAYAQUIL</td>\n",
       "    </tr>\n",
       "    <tr>\n",
       "      <th>2021-02-18</th>\n",
       "      <td>1.13</td>\n",
       "      <td>0.02</td>\n",
       "      <td>1.05</td>\n",
       "      <td>1.05</td>\n",
       "      <td>1.00</td>\n",
       "      <td>18,698.27</td>\n",
       "      <td>363.47</td>\n",
       "      <td>21,129.04</td>\n",
       "      <td>5,999.81</td>\n",
       "      <td>363.47</td>\n",
       "      <td>BANCO GUAYAQUIL</td>\n",
       "    </tr>\n",
       "    <tr>\n",
       "      <th>2021-06-30</th>\n",
       "      <td>0.84</td>\n",
       "      <td>0.00</td>\n",
       "      <td>1.00</td>\n",
       "      <td>1.00</td>\n",
       "      <td>1.00</td>\n",
       "      <td>18,698.27</td>\n",
       "      <td>0.00</td>\n",
       "      <td>15,706.55</td>\n",
       "      <td>-5,422.50</td>\n",
       "      <td>15,706.55</td>\n",
       "      <td>BANCO GUAYAQUIL</td>\n",
       "    </tr>\n",
       "    <tr>\n",
       "      <th>2018-06-30</th>\n",
       "      <td>1,000.00</td>\n",
       "      <td>0.00</td>\n",
       "      <td>1.00</td>\n",
       "      <td>1.00</td>\n",
       "      <td>1.00</td>\n",
       "      <td>10.00</td>\n",
       "      <td>0.00</td>\n",
       "      <td>10,000.00</td>\n",
       "      <td>NaN</td>\n",
       "      <td>-10,000.00</td>\n",
       "      <td>BRIKAPITAL</td>\n",
       "    </tr>\n",
       "    <tr>\n",
       "      <th>2021-06-30</th>\n",
       "      <td>939.00</td>\n",
       "      <td>0.00</td>\n",
       "      <td>1.00</td>\n",
       "      <td>1.00</td>\n",
       "      <td>1.00</td>\n",
       "      <td>10.00</td>\n",
       "      <td>0.00</td>\n",
       "      <td>9,390.00</td>\n",
       "      <td>-610.00</td>\n",
       "      <td>9,390.00</td>\n",
       "      <td>BRIKAPITAL</td>\n",
       "    </tr>\n",
       "    <tr>\n",
       "      <th>2018-06-30</th>\n",
       "      <td>0.59</td>\n",
       "      <td>0.00</td>\n",
       "      <td>1.00</td>\n",
       "      <td>1.00</td>\n",
       "      <td>1.00</td>\n",
       "      <td>16,949.15</td>\n",
       "      <td>0.00</td>\n",
       "      <td>10,000.00</td>\n",
       "      <td>NaN</td>\n",
       "      <td>-10,000.00</td>\n",
       "      <td>BANCO PRODUBANCO</td>\n",
       "    </tr>\n",
       "    <tr>\n",
       "      <th>2019-03-14</th>\n",
       "      <td>0.70</td>\n",
       "      <td>0.05</td>\n",
       "      <td>1.00</td>\n",
       "      <td>1.00</td>\n",
       "      <td>1.00</td>\n",
       "      <td>16,949.15</td>\n",
       "      <td>896.38</td>\n",
       "      <td>11,864.41</td>\n",
       "      <td>1,864.41</td>\n",
       "      <td>896.38</td>\n",
       "      <td>BANCO PRODUBANCO</td>\n",
       "    </tr>\n",
       "    <tr>\n",
       "      <th>2019-04-25</th>\n",
       "      <td>0.70</td>\n",
       "      <td>0.00</td>\n",
       "      <td>1.12</td>\n",
       "      <td>1.12</td>\n",
       "      <td>1.00</td>\n",
       "      <td>19,047.65</td>\n",
       "      <td>0.00</td>\n",
       "      <td>13,333.35</td>\n",
       "      <td>1,468.95</td>\n",
       "      <td>0.00</td>\n",
       "      <td>BANCO PRODUBANCO</td>\n",
       "    </tr>\n",
       "    <tr>\n",
       "      <th>2020-03-31</th>\n",
       "      <td>0.87</td>\n",
       "      <td>0.05</td>\n",
       "      <td>1.11</td>\n",
       "      <td>1.11</td>\n",
       "      <td>1.00</td>\n",
       "      <td>21,203.59</td>\n",
       "      <td>1,025.12</td>\n",
       "      <td>18,447.13</td>\n",
       "      <td>5,113.77</td>\n",
       "      <td>1,025.12</td>\n",
       "      <td>BANCO PRODUBANCO</td>\n",
       "    </tr>\n",
       "    <tr>\n",
       "      <th>2021-03-25</th>\n",
       "      <td>0.65</td>\n",
       "      <td>0.01</td>\n",
       "      <td>1.04</td>\n",
       "      <td>1.04</td>\n",
       "      <td>1.00</td>\n",
       "      <td>22,020.23</td>\n",
       "      <td>210.15</td>\n",
       "      <td>14,313.15</td>\n",
       "      <td>-4,133.98</td>\n",
       "      <td>210.15</td>\n",
       "      <td>BANCO PRODUBANCO</td>\n",
       "    </tr>\n",
       "    <tr>\n",
       "      <th>2021-06-30</th>\n",
       "      <td>0.60</td>\n",
       "      <td>0.00</td>\n",
       "      <td>1.00</td>\n",
       "      <td>1.00</td>\n",
       "      <td>1.00</td>\n",
       "      <td>22,020.23</td>\n",
       "      <td>0.00</td>\n",
       "      <td>13,212.14</td>\n",
       "      <td>-1,101.01</td>\n",
       "      <td>13,212.14</td>\n",
       "      <td>BANCO PRODUBANCO</td>\n",
       "    </tr>\n",
       "    <tr>\n",
       "      <th>2018-06-30</th>\n",
       "      <td>70.02</td>\n",
       "      <td>0.00</td>\n",
       "      <td>1.00</td>\n",
       "      <td>1.00</td>\n",
       "      <td>1.00</td>\n",
       "      <td>142.82</td>\n",
       "      <td>0.00</td>\n",
       "      <td>10,000.00</td>\n",
       "      <td>NaN</td>\n",
       "      <td>-10,000.00</td>\n",
       "      <td>BANCO PICHINCHA</td>\n",
       "    </tr>\n",
       "    <tr>\n",
       "      <th>2019-03-12</th>\n",
       "      <td>97.00</td>\n",
       "      <td>4.13</td>\n",
       "      <td>1.00</td>\n",
       "      <td>1.00</td>\n",
       "      <td>1.00</td>\n",
       "      <td>142.82</td>\n",
       "      <td>590.43</td>\n",
       "      <td>13,853.18</td>\n",
       "      <td>3,853.18</td>\n",
       "      <td>590.43</td>\n",
       "      <td>BANCO PICHINCHA</td>\n",
       "    </tr>\n",
       "    <tr>\n",
       "      <th>2019-10-01</th>\n",
       "      <td>0.00</td>\n",
       "      <td>0.00</td>\n",
       "      <td>1.11</td>\n",
       "      <td>1.11</td>\n",
       "      <td>1.00</td>\n",
       "      <td>158.10</td>\n",
       "      <td>0.00</td>\n",
       "      <td>0.00</td>\n",
       "      <td>-13,853.18</td>\n",
       "      <td>0.00</td>\n",
       "      <td>BANCO PICHINCHA</td>\n",
       "    </tr>\n",
       "    <tr>\n",
       "      <th>2020-12-14</th>\n",
       "      <td>87.50</td>\n",
       "      <td>4.39</td>\n",
       "      <td>1.00</td>\n",
       "      <td>1.00</td>\n",
       "      <td>1.00</td>\n",
       "      <td>158.10</td>\n",
       "      <td>694.06</td>\n",
       "      <td>13,834.17</td>\n",
       "      <td>13,834.17</td>\n",
       "      <td>694.06</td>\n",
       "      <td>BANCO PICHINCHA</td>\n",
       "    </tr>\n",
       "    <tr>\n",
       "      <th>2021-03-11</th>\n",
       "      <td>94.00</td>\n",
       "      <td>1.40</td>\n",
       "      <td>1.00</td>\n",
       "      <td>1.00</td>\n",
       "      <td>1.00</td>\n",
       "      <td>158.10</td>\n",
       "      <td>221.75</td>\n",
       "      <td>14,861.85</td>\n",
       "      <td>1,027.68</td>\n",
       "      <td>221.75</td>\n",
       "      <td>BANCO PICHINCHA</td>\n",
       "    </tr>\n",
       "    <tr>\n",
       "      <th>2021-06-30</th>\n",
       "      <td>88.50</td>\n",
       "      <td>0.00</td>\n",
       "      <td>1.00</td>\n",
       "      <td>1.00</td>\n",
       "      <td>1.00</td>\n",
       "      <td>158.10</td>\n",
       "      <td>0.00</td>\n",
       "      <td>13,992.27</td>\n",
       "      <td>-869.58</td>\n",
       "      <td>13,992.27</td>\n",
       "      <td>BANCO PICHINCHA</td>\n",
       "    </tr>\n",
       "    <tr>\n",
       "      <th>2018-06-30</th>\n",
       "      <td>91.00</td>\n",
       "      <td>0.00</td>\n",
       "      <td>1.00</td>\n",
       "      <td>1.00</td>\n",
       "      <td>1.00</td>\n",
       "      <td>109.89</td>\n",
       "      <td>0.00</td>\n",
       "      <td>10,000.00</td>\n",
       "      <td>NaN</td>\n",
       "      <td>-10,000.00</td>\n",
       "      <td>CERVECERIA NACIONAL CN S.A.</td>\n",
       "    </tr>\n",
       "    <tr>\n",
       "      <th>2019-03-27</th>\n",
       "      <td>92.00</td>\n",
       "      <td>5.59</td>\n",
       "      <td>1.00</td>\n",
       "      <td>1.00</td>\n",
       "      <td>1.00</td>\n",
       "      <td>109.89</td>\n",
       "      <td>613.92</td>\n",
       "      <td>10,109.89</td>\n",
       "      <td>109.89</td>\n",
       "      <td>613.92</td>\n",
       "      <td>CERVECERIA NACIONAL CN S.A.</td>\n",
       "    </tr>\n",
       "    <tr>\n",
       "      <th>2020-06-23</th>\n",
       "      <td>92.00</td>\n",
       "      <td>4.79</td>\n",
       "      <td>1.00</td>\n",
       "      <td>1.00</td>\n",
       "      <td>1.00</td>\n",
       "      <td>109.89</td>\n",
       "      <td>526.28</td>\n",
       "      <td>10,109.89</td>\n",
       "      <td>0.00</td>\n",
       "      <td>526.28</td>\n",
       "      <td>CERVECERIA NACIONAL CN S.A.</td>\n",
       "    </tr>\n",
       "    <tr>\n",
       "      <th>2021-03-25</th>\n",
       "      <td>84.95</td>\n",
       "      <td>2.67</td>\n",
       "      <td>1.00</td>\n",
       "      <td>1.00</td>\n",
       "      <td>1.00</td>\n",
       "      <td>109.89</td>\n",
       "      <td>293.29</td>\n",
       "      <td>9,335.16</td>\n",
       "      <td>-774.73</td>\n",
       "      <td>293.29</td>\n",
       "      <td>CERVECERIA NACIONAL CN S.A.</td>\n",
       "    </tr>\n",
       "    <tr>\n",
       "      <th>2021-06-30</th>\n",
       "      <td>81.45</td>\n",
       "      <td>0.00</td>\n",
       "      <td>1.00</td>\n",
       "      <td>1.00</td>\n",
       "      <td>1.00</td>\n",
       "      <td>109.89</td>\n",
       "      <td>0.00</td>\n",
       "      <td>8,950.55</td>\n",
       "      <td>-384.62</td>\n",
       "      <td>8,950.55</td>\n",
       "      <td>CERVECERIA NACIONAL CN S.A.</td>\n",
       "    </tr>\n",
       "    <tr>\n",
       "      <th>2018-06-30</th>\n",
       "      <td>0.89</td>\n",
       "      <td>0.00</td>\n",
       "      <td>1.00</td>\n",
       "      <td>1.00</td>\n",
       "      <td>1.00</td>\n",
       "      <td>11,235.96</td>\n",
       "      <td>0.00</td>\n",
       "      <td>10,000.00</td>\n",
       "      <td>NaN</td>\n",
       "      <td>-10,000.00</td>\n",
       "      <td>BOLSA DE VALORES DE QUITO BVQ SOCIEDAD ANÓNIMA</td>\n",
       "    </tr>\n",
       "    <tr>\n",
       "      <th>2018-11-21</th>\n",
       "      <td>1.00</td>\n",
       "      <td>0.06</td>\n",
       "      <td>1.00</td>\n",
       "      <td>1.00</td>\n",
       "      <td>1.00</td>\n",
       "      <td>11,235.96</td>\n",
       "      <td>655.57</td>\n",
       "      <td>11,235.96</td>\n",
       "      <td>1,235.96</td>\n",
       "      <td>655.57</td>\n",
       "      <td>BOLSA DE VALORES DE QUITO BVQ SOCIEDAD ANÓNIMA</td>\n",
       "    </tr>\n",
       "    <tr>\n",
       "      <th>2018-12-18</th>\n",
       "      <td>1.00</td>\n",
       "      <td>0.00</td>\n",
       "      <td>1.05</td>\n",
       "      <td>1.05</td>\n",
       "      <td>1.00</td>\n",
       "      <td>11,785.53</td>\n",
       "      <td>0.00</td>\n",
       "      <td>11,785.53</td>\n",
       "      <td>549.57</td>\n",
       "      <td>0.00</td>\n",
       "      <td>BOLSA DE VALORES DE QUITO BVQ SOCIEDAD ANÓNIMA</td>\n",
       "    </tr>\n",
       "    <tr>\n",
       "      <th>2019-03-28</th>\n",
       "      <td>1.01</td>\n",
       "      <td>0.05</td>\n",
       "      <td>1.00</td>\n",
       "      <td>1.00</td>\n",
       "      <td>1.00</td>\n",
       "      <td>11,785.53</td>\n",
       "      <td>546.96</td>\n",
       "      <td>11,903.38</td>\n",
       "      <td>117.86</td>\n",
       "      <td>546.96</td>\n",
       "      <td>BOLSA DE VALORES DE QUITO BVQ SOCIEDAD ANÓNIMA</td>\n",
       "    </tr>\n",
       "    <tr>\n",
       "      <th>2019-11-27</th>\n",
       "      <td>1.12</td>\n",
       "      <td>0.08</td>\n",
       "      <td>1.00</td>\n",
       "      <td>1.00</td>\n",
       "      <td>1.00</td>\n",
       "      <td>11,785.53</td>\n",
       "      <td>917.80</td>\n",
       "      <td>13,199.79</td>\n",
       "      <td>1,296.41</td>\n",
       "      <td>917.80</td>\n",
       "      <td>BOLSA DE VALORES DE QUITO BVQ SOCIEDAD ANÓNIMA</td>\n",
       "    </tr>\n",
       "    <tr>\n",
       "      <th>2020-04-13</th>\n",
       "      <td>1.14</td>\n",
       "      <td>0.07</td>\n",
       "      <td>1.00</td>\n",
       "      <td>1.00</td>\n",
       "      <td>1.00</td>\n",
       "      <td>11,785.53</td>\n",
       "      <td>791.88</td>\n",
       "      <td>13,376.57</td>\n",
       "      <td>176.78</td>\n",
       "      <td>791.88</td>\n",
       "      <td>BOLSA DE VALORES DE QUITO BVQ SOCIEDAD ANÓNIMA</td>\n",
       "    </tr>\n",
       "    <tr>\n",
       "      <th>2021-03-25</th>\n",
       "      <td>1.10</td>\n",
       "      <td>0.10</td>\n",
       "      <td>1.00</td>\n",
       "      <td>1.00</td>\n",
       "      <td>1.00</td>\n",
       "      <td>11,785.53</td>\n",
       "      <td>1,195.43</td>\n",
       "      <td>12,964.08</td>\n",
       "      <td>-412.49</td>\n",
       "      <td>1,195.43</td>\n",
       "      <td>BOLSA DE VALORES DE QUITO BVQ SOCIEDAD ANÓNIMA</td>\n",
       "    </tr>\n",
       "    <tr>\n",
       "      <th>2021-06-30</th>\n",
       "      <td>1.12</td>\n",
       "      <td>0.00</td>\n",
       "      <td>1.00</td>\n",
       "      <td>1.00</td>\n",
       "      <td>1.00</td>\n",
       "      <td>11,785.53</td>\n",
       "      <td>0.00</td>\n",
       "      <td>13,199.79</td>\n",
       "      <td>235.71</td>\n",
       "      <td>13,199.79</td>\n",
       "      <td>BOLSA DE VALORES DE QUITO BVQ SOCIEDAD ANÓNIMA</td>\n",
       "    </tr>\n",
       "    <tr>\n",
       "      <th>2018-06-30</th>\n",
       "      <td>68.00</td>\n",
       "      <td>0.00</td>\n",
       "      <td>1.00</td>\n",
       "      <td>1.00</td>\n",
       "      <td>1.00</td>\n",
       "      <td>147.06</td>\n",
       "      <td>0.00</td>\n",
       "      <td>10,000.00</td>\n",
       "      <td>NaN</td>\n",
       "      <td>-10,000.00</td>\n",
       "      <td>HOLCIM ECUADOR VN 3.00</td>\n",
       "    </tr>\n",
       "    <tr>\n",
       "      <th>2019-03-22</th>\n",
       "      <td>68.00</td>\n",
       "      <td>1.50</td>\n",
       "      <td>1.00</td>\n",
       "      <td>1.00</td>\n",
       "      <td>1.00</td>\n",
       "      <td>147.06</td>\n",
       "      <td>220.85</td>\n",
       "      <td>10,000.00</td>\n",
       "      <td>0.00</td>\n",
       "      <td>220.85</td>\n",
       "      <td>HOLCIM ECUADOR VN 3.00</td>\n",
       "    </tr>\n",
       "    <tr>\n",
       "      <th>2019-12-09</th>\n",
       "      <td>56.00</td>\n",
       "      <td>6.15</td>\n",
       "      <td>1.00</td>\n",
       "      <td>1.00</td>\n",
       "      <td>1.00</td>\n",
       "      <td>147.06</td>\n",
       "      <td>903.82</td>\n",
       "      <td>8,235.29</td>\n",
       "      <td>-1,764.71</td>\n",
       "      <td>903.82</td>\n",
       "      <td>HOLCIM ECUADOR VN 3.00</td>\n",
       "    </tr>\n",
       "    <tr>\n",
       "      <th>2020-06-29</th>\n",
       "      <td>55.00</td>\n",
       "      <td>1.67</td>\n",
       "      <td>1.00</td>\n",
       "      <td>1.00</td>\n",
       "      <td>1.00</td>\n",
       "      <td>147.06</td>\n",
       "      <td>245.13</td>\n",
       "      <td>8,088.24</td>\n",
       "      <td>-147.06</td>\n",
       "      <td>245.13</td>\n",
       "      <td>HOLCIM ECUADOR VN 3.00</td>\n",
       "    </tr>\n",
       "    <tr>\n",
       "      <th>2021-03-30</th>\n",
       "      <td>55.00</td>\n",
       "      <td>1.26</td>\n",
       "      <td>1.00</td>\n",
       "      <td>1.00</td>\n",
       "      <td>1.00</td>\n",
       "      <td>147.06</td>\n",
       "      <td>185.04</td>\n",
       "      <td>8,088.24</td>\n",
       "      <td>0.00</td>\n",
       "      <td>185.04</td>\n",
       "      <td>HOLCIM ECUADOR VN 3.00</td>\n",
       "    </tr>\n",
       "    <tr>\n",
       "      <th>2021-06-30</th>\n",
       "      <td>49.99</td>\n",
       "      <td>0.00</td>\n",
       "      <td>1.00</td>\n",
       "      <td>1.00</td>\n",
       "      <td>1.00</td>\n",
       "      <td>147.06</td>\n",
       "      <td>0.00</td>\n",
       "      <td>7,351.47</td>\n",
       "      <td>-736.76</td>\n",
       "      <td>7,351.47</td>\n",
       "      <td>HOLCIM ECUADOR VN 3.00</td>\n",
       "    </tr>\n",
       "    <tr>\n",
       "      <th>2018-06-30</th>\n",
       "      <td>6.05</td>\n",
       "      <td>0.00</td>\n",
       "      <td>1.00</td>\n",
       "      <td>1.00</td>\n",
       "      <td>1.00</td>\n",
       "      <td>1,652.89</td>\n",
       "      <td>0.00</td>\n",
       "      <td>10,000.00</td>\n",
       "      <td>NaN</td>\n",
       "      <td>-10,000.00</td>\n",
       "      <td>SUPERDEPORTE</td>\n",
       "    </tr>\n",
       "    <tr>\n",
       "      <th>2019-03-29</th>\n",
       "      <td>6.05</td>\n",
       "      <td>0.06</td>\n",
       "      <td>1.00</td>\n",
       "      <td>1.00</td>\n",
       "      <td>1.00</td>\n",
       "      <td>1,652.89</td>\n",
       "      <td>107.02</td>\n",
       "      <td>10,000.00</td>\n",
       "      <td>0.00</td>\n",
       "      <td>107.02</td>\n",
       "      <td>SUPERDEPORTE</td>\n",
       "    </tr>\n",
       "    <tr>\n",
       "      <th>2019-06-04</th>\n",
       "      <td>6.05</td>\n",
       "      <td>0.00</td>\n",
       "      <td>1.23</td>\n",
       "      <td>1.23</td>\n",
       "      <td>1.00</td>\n",
       "      <td>2,029.15</td>\n",
       "      <td>0.00</td>\n",
       "      <td>12,276.35</td>\n",
       "      <td>2,276.35</td>\n",
       "      <td>0.00</td>\n",
       "      <td>SUPERDEPORTE</td>\n",
       "    </tr>\n",
       "    <tr>\n",
       "      <th>2020-03-17</th>\n",
       "      <td>6.05</td>\n",
       "      <td>0.04</td>\n",
       "      <td>1.00</td>\n",
       "      <td>1.00</td>\n",
       "      <td>1.00</td>\n",
       "      <td>2,029.15</td>\n",
       "      <td>83.38</td>\n",
       "      <td>12,276.35</td>\n",
       "      <td>0.00</td>\n",
       "      <td>83.38</td>\n",
       "      <td>SUPERDEPORTE</td>\n",
       "    </tr>\n",
       "    <tr>\n",
       "      <th>2021-06-30</th>\n",
       "      <td>6.05</td>\n",
       "      <td>0.00</td>\n",
       "      <td>1.00</td>\n",
       "      <td>1.00</td>\n",
       "      <td>1.00</td>\n",
       "      <td>2,029.15</td>\n",
       "      <td>0.00</td>\n",
       "      <td>12,276.35</td>\n",
       "      <td>0.00</td>\n",
       "      <td>12,276.35</td>\n",
       "      <td>SUPERDEPORTE</td>\n",
       "    </tr>\n",
       "    <tr>\n",
       "      <th>2018-06-30</th>\n",
       "      <td>1.00</td>\n",
       "      <td>0.00</td>\n",
       "      <td>1.00</td>\n",
       "      <td>1.00</td>\n",
       "      <td>1.00</td>\n",
       "      <td>10,000.00</td>\n",
       "      <td>0.00</td>\n",
       "      <td>10,000.00</td>\n",
       "      <td>NaN</td>\n",
       "      <td>-10,000.00</td>\n",
       "      <td>SOCIEDAD AGRICOLA E IND. SAN CARLOS</td>\n",
       "    </tr>\n",
       "    <tr>\n",
       "      <th>2019-04-15</th>\n",
       "      <td>0.70</td>\n",
       "      <td>0.00</td>\n",
       "      <td>1.10</td>\n",
       "      <td>1.10</td>\n",
       "      <td>1.00</td>\n",
       "      <td>11,000.00</td>\n",
       "      <td>0.00</td>\n",
       "      <td>7,700.00</td>\n",
       "      <td>-2,300.00</td>\n",
       "      <td>0.00</td>\n",
       "      <td>SOCIEDAD AGRICOLA E IND. SAN CARLOS</td>\n",
       "    </tr>\n",
       "    <tr>\n",
       "      <th>2020-03-13</th>\n",
       "      <td>0.65</td>\n",
       "      <td>0.00</td>\n",
       "      <td>1.00</td>\n",
       "      <td>1.00</td>\n",
       "      <td>1.00</td>\n",
       "      <td>11,000.00</td>\n",
       "      <td>54.81</td>\n",
       "      <td>7,150.00</td>\n",
       "      <td>-550.00</td>\n",
       "      <td>54.81</td>\n",
       "      <td>SOCIEDAD AGRICOLA E IND. SAN CARLOS</td>\n",
       "    </tr>\n",
       "    <tr>\n",
       "      <th>2021-06-30</th>\n",
       "      <td>0.60</td>\n",
       "      <td>0.00</td>\n",
       "      <td>1.00</td>\n",
       "      <td>1.00</td>\n",
       "      <td>1.00</td>\n",
       "      <td>11,000.00</td>\n",
       "      <td>0.00</td>\n",
       "      <td>6,600.00</td>\n",
       "      <td>-550.00</td>\n",
       "      <td>6,600.00</td>\n",
       "      <td>SOCIEDAD AGRICOLA E IND. SAN CARLOS</td>\n",
       "    </tr>\n",
       "  </tbody>\n",
       "</table>\n",
       "</div>"
      ],
      "text/plain": [
       "             PRECIO  BPA  AUM.ACC  AUM.CAP  SPLIT   ACC.POS  DIVIDENDO  \\\n",
       "FECHA                                                                    \n",
       "2018-06-30     2.43 0.00     1.00     1.00   1.00  4,115.23       0.00   \n",
       "2019-03-27     2.59 0.09     1.07     1.07   1.00  4,413.91     412.91   \n",
       "2021-06-30     2.27 0.00     1.00     1.00   1.00  4,413.91       0.00   \n",
       "2018-06-30     0.65 0.00     1.00     1.00   1.00 15,384.62       0.00   \n",
       "2018-07-25     0.70 0.01     1.00     1.00   1.00 15,384.62     207.80   \n",
       "2019-02-05     1.00 0.04     1.03     1.03   1.00 15,836.28     590.38   \n",
       "2019-06-07     0.95 0.01     1.03     1.03   1.00 16,287.94     207.80   \n",
       "2020-02-04     1.10 0.09     1.00     1.00   1.00 16,287.94   1,508.66   \n",
       "2020-05-13     0.85 0.00     1.09     1.09   1.00 17,799.10       0.00   \n",
       "2021-02-18     1.13 0.02     1.05     1.05   1.00 18,698.27     363.47   \n",
       "2021-06-30     0.84 0.00     1.00     1.00   1.00 18,698.27       0.00   \n",
       "2018-06-30 1,000.00 0.00     1.00     1.00   1.00     10.00       0.00   \n",
       "2021-06-30   939.00 0.00     1.00     1.00   1.00     10.00       0.00   \n",
       "2018-06-30     0.59 0.00     1.00     1.00   1.00 16,949.15       0.00   \n",
       "2019-03-14     0.70 0.05     1.00     1.00   1.00 16,949.15     896.38   \n",
       "2019-04-25     0.70 0.00     1.12     1.12   1.00 19,047.65       0.00   \n",
       "2020-03-31     0.87 0.05     1.11     1.11   1.00 21,203.59   1,025.12   \n",
       "2021-03-25     0.65 0.01     1.04     1.04   1.00 22,020.23     210.15   \n",
       "2021-06-30     0.60 0.00     1.00     1.00   1.00 22,020.23       0.00   \n",
       "2018-06-30    70.02 0.00     1.00     1.00   1.00    142.82       0.00   \n",
       "2019-03-12    97.00 4.13     1.00     1.00   1.00    142.82     590.43   \n",
       "2019-10-01     0.00 0.00     1.11     1.11   1.00    158.10       0.00   \n",
       "2020-12-14    87.50 4.39     1.00     1.00   1.00    158.10     694.06   \n",
       "2021-03-11    94.00 1.40     1.00     1.00   1.00    158.10     221.75   \n",
       "2021-06-30    88.50 0.00     1.00     1.00   1.00    158.10       0.00   \n",
       "2018-06-30    91.00 0.00     1.00     1.00   1.00    109.89       0.00   \n",
       "2019-03-27    92.00 5.59     1.00     1.00   1.00    109.89     613.92   \n",
       "2020-06-23    92.00 4.79     1.00     1.00   1.00    109.89     526.28   \n",
       "2021-03-25    84.95 2.67     1.00     1.00   1.00    109.89     293.29   \n",
       "2021-06-30    81.45 0.00     1.00     1.00   1.00    109.89       0.00   \n",
       "2018-06-30     0.89 0.00     1.00     1.00   1.00 11,235.96       0.00   \n",
       "2018-11-21     1.00 0.06     1.00     1.00   1.00 11,235.96     655.57   \n",
       "2018-12-18     1.00 0.00     1.05     1.05   1.00 11,785.53       0.00   \n",
       "2019-03-28     1.01 0.05     1.00     1.00   1.00 11,785.53     546.96   \n",
       "2019-11-27     1.12 0.08     1.00     1.00   1.00 11,785.53     917.80   \n",
       "2020-04-13     1.14 0.07     1.00     1.00   1.00 11,785.53     791.88   \n",
       "2021-03-25     1.10 0.10     1.00     1.00   1.00 11,785.53   1,195.43   \n",
       "2021-06-30     1.12 0.00     1.00     1.00   1.00 11,785.53       0.00   \n",
       "2018-06-30    68.00 0.00     1.00     1.00   1.00    147.06       0.00   \n",
       "2019-03-22    68.00 1.50     1.00     1.00   1.00    147.06     220.85   \n",
       "2019-12-09    56.00 6.15     1.00     1.00   1.00    147.06     903.82   \n",
       "2020-06-29    55.00 1.67     1.00     1.00   1.00    147.06     245.13   \n",
       "2021-03-30    55.00 1.26     1.00     1.00   1.00    147.06     185.04   \n",
       "2021-06-30    49.99 0.00     1.00     1.00   1.00    147.06       0.00   \n",
       "2018-06-30     6.05 0.00     1.00     1.00   1.00  1,652.89       0.00   \n",
       "2019-03-29     6.05 0.06     1.00     1.00   1.00  1,652.89     107.02   \n",
       "2019-06-04     6.05 0.00     1.23     1.23   1.00  2,029.15       0.00   \n",
       "2020-03-17     6.05 0.04     1.00     1.00   1.00  2,029.15      83.38   \n",
       "2021-06-30     6.05 0.00     1.00     1.00   1.00  2,029.15       0.00   \n",
       "2018-06-30     1.00 0.00     1.00     1.00   1.00 10,000.00       0.00   \n",
       "2019-04-15     0.70 0.00     1.10     1.10   1.00 11,000.00       0.00   \n",
       "2020-03-13     0.65 0.00     1.00     1.00   1.00 11,000.00      54.81   \n",
       "2021-06-30     0.60 0.00     1.00     1.00   1.00 11,000.00       0.00   \n",
       "\n",
       "             BALANCE  REV.PRECIO  FLUJO DE CAJA  \\\n",
       "FECHA                                             \n",
       "2018-06-30 10,000.00         NaN     -10,000.00   \n",
       "2019-03-27 11,432.03    1,432.03         412.91   \n",
       "2021-06-30 10,019.58   -1,412.45      10,019.58   \n",
       "2018-06-30 10,000.00         NaN     -10,000.00   \n",
       "2018-07-25 10,769.23      769.23         207.80   \n",
       "2019-02-05 15,836.28    5,067.05         590.38   \n",
       "2019-06-07 15,473.55     -362.73         207.80   \n",
       "2020-02-04 17,916.74    2,443.19       1,508.66   \n",
       "2020-05-13 15,129.23   -2,787.50           0.00   \n",
       "2021-02-18 21,129.04    5,999.81         363.47   \n",
       "2021-06-30 15,706.55   -5,422.50      15,706.55   \n",
       "2018-06-30 10,000.00         NaN     -10,000.00   \n",
       "2021-06-30  9,390.00     -610.00       9,390.00   \n",
       "2018-06-30 10,000.00         NaN     -10,000.00   \n",
       "2019-03-14 11,864.41    1,864.41         896.38   \n",
       "2019-04-25 13,333.35    1,468.95           0.00   \n",
       "2020-03-31 18,447.13    5,113.77       1,025.12   \n",
       "2021-03-25 14,313.15   -4,133.98         210.15   \n",
       "2021-06-30 13,212.14   -1,101.01      13,212.14   \n",
       "2018-06-30 10,000.00         NaN     -10,000.00   \n",
       "2019-03-12 13,853.18    3,853.18         590.43   \n",
       "2019-10-01      0.00  -13,853.18           0.00   \n",
       "2020-12-14 13,834.17   13,834.17         694.06   \n",
       "2021-03-11 14,861.85    1,027.68         221.75   \n",
       "2021-06-30 13,992.27     -869.58      13,992.27   \n",
       "2018-06-30 10,000.00         NaN     -10,000.00   \n",
       "2019-03-27 10,109.89      109.89         613.92   \n",
       "2020-06-23 10,109.89        0.00         526.28   \n",
       "2021-03-25  9,335.16     -774.73         293.29   \n",
       "2021-06-30  8,950.55     -384.62       8,950.55   \n",
       "2018-06-30 10,000.00         NaN     -10,000.00   \n",
       "2018-11-21 11,235.96    1,235.96         655.57   \n",
       "2018-12-18 11,785.53      549.57           0.00   \n",
       "2019-03-28 11,903.38      117.86         546.96   \n",
       "2019-11-27 13,199.79    1,296.41         917.80   \n",
       "2020-04-13 13,376.57      176.78         791.88   \n",
       "2021-03-25 12,964.08     -412.49       1,195.43   \n",
       "2021-06-30 13,199.79      235.71      13,199.79   \n",
       "2018-06-30 10,000.00         NaN     -10,000.00   \n",
       "2019-03-22 10,000.00        0.00         220.85   \n",
       "2019-12-09  8,235.29   -1,764.71         903.82   \n",
       "2020-06-29  8,088.24     -147.06         245.13   \n",
       "2021-03-30  8,088.24        0.00         185.04   \n",
       "2021-06-30  7,351.47     -736.76       7,351.47   \n",
       "2018-06-30 10,000.00         NaN     -10,000.00   \n",
       "2019-03-29 10,000.00        0.00         107.02   \n",
       "2019-06-04 12,276.35    2,276.35           0.00   \n",
       "2020-03-17 12,276.35        0.00          83.38   \n",
       "2021-06-30 12,276.35        0.00      12,276.35   \n",
       "2018-06-30 10,000.00         NaN     -10,000.00   \n",
       "2019-04-15  7,700.00   -2,300.00           0.00   \n",
       "2020-03-13  7,150.00     -550.00          54.81   \n",
       "2021-06-30  6,600.00     -550.00       6,600.00   \n",
       "\n",
       "                                                    EMISOR  \n",
       "FECHA                                                       \n",
       "2018-06-30                            CORPORACION FAVORITA  \n",
       "2019-03-27                            CORPORACION FAVORITA  \n",
       "2021-06-30                            CORPORACION FAVORITA  \n",
       "2018-06-30                                 BANCO GUAYAQUIL  \n",
       "2018-07-25                                 BANCO GUAYAQUIL  \n",
       "2019-02-05                                 BANCO GUAYAQUIL  \n",
       "2019-06-07                                 BANCO GUAYAQUIL  \n",
       "2020-02-04                                 BANCO GUAYAQUIL  \n",
       "2020-05-13                                 BANCO GUAYAQUIL  \n",
       "2021-02-18                                 BANCO GUAYAQUIL  \n",
       "2021-06-30                                 BANCO GUAYAQUIL  \n",
       "2018-06-30                                      BRIKAPITAL  \n",
       "2021-06-30                                      BRIKAPITAL  \n",
       "2018-06-30                                BANCO PRODUBANCO  \n",
       "2019-03-14                                BANCO PRODUBANCO  \n",
       "2019-04-25                                BANCO PRODUBANCO  \n",
       "2020-03-31                                BANCO PRODUBANCO  \n",
       "2021-03-25                                BANCO PRODUBANCO  \n",
       "2021-06-30                                BANCO PRODUBANCO  \n",
       "2018-06-30                                 BANCO PICHINCHA  \n",
       "2019-03-12                                 BANCO PICHINCHA  \n",
       "2019-10-01                                 BANCO PICHINCHA  \n",
       "2020-12-14                                 BANCO PICHINCHA  \n",
       "2021-03-11                                 BANCO PICHINCHA  \n",
       "2021-06-30                                 BANCO PICHINCHA  \n",
       "2018-06-30                     CERVECERIA NACIONAL CN S.A.  \n",
       "2019-03-27                     CERVECERIA NACIONAL CN S.A.  \n",
       "2020-06-23                     CERVECERIA NACIONAL CN S.A.  \n",
       "2021-03-25                     CERVECERIA NACIONAL CN S.A.  \n",
       "2021-06-30                     CERVECERIA NACIONAL CN S.A.  \n",
       "2018-06-30  BOLSA DE VALORES DE QUITO BVQ SOCIEDAD ANÓNIMA  \n",
       "2018-11-21  BOLSA DE VALORES DE QUITO BVQ SOCIEDAD ANÓNIMA  \n",
       "2018-12-18  BOLSA DE VALORES DE QUITO BVQ SOCIEDAD ANÓNIMA  \n",
       "2019-03-28  BOLSA DE VALORES DE QUITO BVQ SOCIEDAD ANÓNIMA  \n",
       "2019-11-27  BOLSA DE VALORES DE QUITO BVQ SOCIEDAD ANÓNIMA  \n",
       "2020-04-13  BOLSA DE VALORES DE QUITO BVQ SOCIEDAD ANÓNIMA  \n",
       "2021-03-25  BOLSA DE VALORES DE QUITO BVQ SOCIEDAD ANÓNIMA  \n",
       "2021-06-30  BOLSA DE VALORES DE QUITO BVQ SOCIEDAD ANÓNIMA  \n",
       "2018-06-30                          HOLCIM ECUADOR VN 3.00  \n",
       "2019-03-22                          HOLCIM ECUADOR VN 3.00  \n",
       "2019-12-09                          HOLCIM ECUADOR VN 3.00  \n",
       "2020-06-29                          HOLCIM ECUADOR VN 3.00  \n",
       "2021-03-30                          HOLCIM ECUADOR VN 3.00  \n",
       "2021-06-30                          HOLCIM ECUADOR VN 3.00  \n",
       "2018-06-30                                    SUPERDEPORTE  \n",
       "2019-03-29                                    SUPERDEPORTE  \n",
       "2019-06-04                                    SUPERDEPORTE  \n",
       "2020-03-17                                    SUPERDEPORTE  \n",
       "2021-06-30                                    SUPERDEPORTE  \n",
       "2018-06-30             SOCIEDAD AGRICOLA E IND. SAN CARLOS  \n",
       "2019-04-15             SOCIEDAD AGRICOLA E IND. SAN CARLOS  \n",
       "2020-03-13             SOCIEDAD AGRICOLA E IND. SAN CARLOS  \n",
       "2021-06-30             SOCIEDAD AGRICOLA E IND. SAN CARLOS  "
      ]
     },
     "execution_count": 24,
     "metadata": {},
     "output_type": "execute_result"
    }
   ],
   "source": [
    "balance_tir(seleccionadas)"
   ]
  },
  {
   "cell_type": "code",
   "execution_count": 25,
   "metadata": {},
   "outputs": [
    {
     "data": {
      "text/plain": [
       "'La TIR es 8.22%'"
      ]
     },
     "execution_count": 25,
     "metadata": {},
     "output_type": "execute_result"
    }
   ],
   "source": [
    "flujo_final = balance_tir(seleccionadas).groupby('FECHA').sum()['FLUJO DE CAJA']\n",
    "tir = xtir(valores = flujo_final.values, fechas = flujo_final.index)\n",
    "f'La TIR es {tir:.2%}'"
   ]
  },
  {
   "cell_type": "markdown",
   "metadata": {},
   "source": [
    "## Resumen de beneficios"
   ]
  },
  {
   "cell_type": "code",
   "execution_count": 26,
   "metadata": {},
   "outputs": [
    {
     "data": {
      "text/html": [
       "        <script type=\"text/javascript\">\n",
       "        window.PlotlyConfig = {MathJaxConfig: 'local'};\n",
       "        if (window.MathJax) {MathJax.Hub.Config({SVG: {font: \"STIX-Web\"}});}\n",
       "        if (typeof require !== 'undefined') {\n",
       "        require.undef(\"plotly\");\n",
       "        requirejs.config({\n",
       "            paths: {\n",
       "                'plotly': ['https://cdn.plot.ly/plotly-latest.min']\n",
       "            }\n",
       "        });\n",
       "        require(['plotly'], function(Plotly) {\n",
       "            window._Plotly = Plotly;\n",
       "        });\n",
       "        }\n",
       "        </script>\n",
       "        "
      ]
     },
     "metadata": {},
     "output_type": "display_data"
    },
    {
     "data": {
      "application/vnd.plotly.v1+json": {
       "config": {
        "plotlyServerURL": "https://plotly.com"
       },
       "data": [
        {
         "hovertemplate": "%{y:$.0f}<extra></extra>",
         "marker": {
          "color": "rgba(255, 0, 0, 0.5)",
          "line": {
           "color": "rgb (255, 0, 0)",
           "width": 1.5
          }
         },
         "name": "Rojo",
         "type": "bar",
         "uid": "3378c748-64a2-4e4d-9088-cbd3358c4810",
         "width": 0.5,
         "x": [
          "SOCIEDAD AGRICOLA E IND. SAN CARLOS",
          "HOLCIM ECUADOR VN 3.00",
          "BRIKAPITAL"
         ],
         "y": [
          -3345.188608695652,
          -1093.6865856950571,
          -610
         ]
        },
        {
         "hovertemplate": "%{y:$.0f}<extra></extra>",
         "marker": {
          "color": "rgba(0, 255, 0, 0.5)",
          "line": {
           "color": "rgb (0, 255, 0)",
           "width": 1.5
          }
         },
         "name": "Verde",
         "type": "bar",
         "uid": "d4306e68-5a93-44d6-812f-5f36f2b6f9ac",
         "width": 0.5,
         "x": [
          "CERVECERIA NACIONAL CN S.A.",
          "CORPORACION FAVORITA",
          "SUPERDEPORTE",
          "BANCO PRODUBANCO",
          "BANCO PICHINCHA",
          "BOLSA DE VALORES DE QUITO BVQ SOCIEDAD ANÓNIMA",
          "BANCO GUAYAQUIL"
         ],
         "y": [
          384.0394579168624,
          432.4948720254524,
          2466.7455579765465,
          5343.792218261511,
          5498.517084535122,
          7307.428321262112,
          8584.67119297617
         ]
        }
       ],
       "layout": {
        "height": 600,
        "plot_bgcolor": "rgb(0, 0, 0)",
        "showlegend": false,
        "template": {
         "data": {
          "bar": [
           {
            "error_x": {
             "color": "#2a3f5f"
            },
            "error_y": {
             "color": "#2a3f5f"
            },
            "marker": {
             "line": {
              "color": "#E5ECF6",
              "width": 0.5
             }
            },
            "type": "bar"
           }
          ],
          "barpolar": [
           {
            "marker": {
             "line": {
              "color": "#E5ECF6",
              "width": 0.5
             }
            },
            "type": "barpolar"
           }
          ],
          "carpet": [
           {
            "aaxis": {
             "endlinecolor": "#2a3f5f",
             "gridcolor": "white",
             "linecolor": "white",
             "minorgridcolor": "white",
             "startlinecolor": "#2a3f5f"
            },
            "baxis": {
             "endlinecolor": "#2a3f5f",
             "gridcolor": "white",
             "linecolor": "white",
             "minorgridcolor": "white",
             "startlinecolor": "#2a3f5f"
            },
            "type": "carpet"
           }
          ],
          "choropleth": [
           {
            "colorbar": {
             "outlinewidth": 0,
             "ticks": ""
            },
            "type": "choropleth"
           }
          ],
          "contour": [
           {
            "colorbar": {
             "outlinewidth": 0,
             "ticks": ""
            },
            "colorscale": [
             [
              0,
              "#0d0887"
             ],
             [
              0.1111111111111111,
              "#46039f"
             ],
             [
              0.2222222222222222,
              "#7201a8"
             ],
             [
              0.3333333333333333,
              "#9c179e"
             ],
             [
              0.4444444444444444,
              "#bd3786"
             ],
             [
              0.5555555555555556,
              "#d8576b"
             ],
             [
              0.6666666666666666,
              "#ed7953"
             ],
             [
              0.7777777777777778,
              "#fb9f3a"
             ],
             [
              0.8888888888888888,
              "#fdca26"
             ],
             [
              1,
              "#f0f921"
             ]
            ],
            "type": "contour"
           }
          ],
          "contourcarpet": [
           {
            "colorbar": {
             "outlinewidth": 0,
             "ticks": ""
            },
            "type": "contourcarpet"
           }
          ],
          "heatmap": [
           {
            "colorbar": {
             "outlinewidth": 0,
             "ticks": ""
            },
            "colorscale": [
             [
              0,
              "#0d0887"
             ],
             [
              0.1111111111111111,
              "#46039f"
             ],
             [
              0.2222222222222222,
              "#7201a8"
             ],
             [
              0.3333333333333333,
              "#9c179e"
             ],
             [
              0.4444444444444444,
              "#bd3786"
             ],
             [
              0.5555555555555556,
              "#d8576b"
             ],
             [
              0.6666666666666666,
              "#ed7953"
             ],
             [
              0.7777777777777778,
              "#fb9f3a"
             ],
             [
              0.8888888888888888,
              "#fdca26"
             ],
             [
              1,
              "#f0f921"
             ]
            ],
            "type": "heatmap"
           }
          ],
          "heatmapgl": [
           {
            "colorbar": {
             "outlinewidth": 0,
             "ticks": ""
            },
            "colorscale": [
             [
              0,
              "#0d0887"
             ],
             [
              0.1111111111111111,
              "#46039f"
             ],
             [
              0.2222222222222222,
              "#7201a8"
             ],
             [
              0.3333333333333333,
              "#9c179e"
             ],
             [
              0.4444444444444444,
              "#bd3786"
             ],
             [
              0.5555555555555556,
              "#d8576b"
             ],
             [
              0.6666666666666666,
              "#ed7953"
             ],
             [
              0.7777777777777778,
              "#fb9f3a"
             ],
             [
              0.8888888888888888,
              "#fdca26"
             ],
             [
              1,
              "#f0f921"
             ]
            ],
            "type": "heatmapgl"
           }
          ],
          "histogram": [
           {
            "marker": {
             "colorbar": {
              "outlinewidth": 0,
              "ticks": ""
             }
            },
            "type": "histogram"
           }
          ],
          "histogram2d": [
           {
            "colorbar": {
             "outlinewidth": 0,
             "ticks": ""
            },
            "colorscale": [
             [
              0,
              "#0d0887"
             ],
             [
              0.1111111111111111,
              "#46039f"
             ],
             [
              0.2222222222222222,
              "#7201a8"
             ],
             [
              0.3333333333333333,
              "#9c179e"
             ],
             [
              0.4444444444444444,
              "#bd3786"
             ],
             [
              0.5555555555555556,
              "#d8576b"
             ],
             [
              0.6666666666666666,
              "#ed7953"
             ],
             [
              0.7777777777777778,
              "#fb9f3a"
             ],
             [
              0.8888888888888888,
              "#fdca26"
             ],
             [
              1,
              "#f0f921"
             ]
            ],
            "type": "histogram2d"
           }
          ],
          "histogram2dcontour": [
           {
            "colorbar": {
             "outlinewidth": 0,
             "ticks": ""
            },
            "colorscale": [
             [
              0,
              "#0d0887"
             ],
             [
              0.1111111111111111,
              "#46039f"
             ],
             [
              0.2222222222222222,
              "#7201a8"
             ],
             [
              0.3333333333333333,
              "#9c179e"
             ],
             [
              0.4444444444444444,
              "#bd3786"
             ],
             [
              0.5555555555555556,
              "#d8576b"
             ],
             [
              0.6666666666666666,
              "#ed7953"
             ],
             [
              0.7777777777777778,
              "#fb9f3a"
             ],
             [
              0.8888888888888888,
              "#fdca26"
             ],
             [
              1,
              "#f0f921"
             ]
            ],
            "type": "histogram2dcontour"
           }
          ],
          "mesh3d": [
           {
            "colorbar": {
             "outlinewidth": 0,
             "ticks": ""
            },
            "type": "mesh3d"
           }
          ],
          "parcoords": [
           {
            "line": {
             "colorbar": {
              "outlinewidth": 0,
              "ticks": ""
             }
            },
            "type": "parcoords"
           }
          ],
          "pie": [
           {
            "automargin": true,
            "type": "pie"
           }
          ],
          "scatter": [
           {
            "marker": {
             "colorbar": {
              "outlinewidth": 0,
              "ticks": ""
             }
            },
            "type": "scatter"
           }
          ],
          "scatter3d": [
           {
            "line": {
             "colorbar": {
              "outlinewidth": 0,
              "ticks": ""
             }
            },
            "marker": {
             "colorbar": {
              "outlinewidth": 0,
              "ticks": ""
             }
            },
            "type": "scatter3d"
           }
          ],
          "scattercarpet": [
           {
            "marker": {
             "colorbar": {
              "outlinewidth": 0,
              "ticks": ""
             }
            },
            "type": "scattercarpet"
           }
          ],
          "scattergeo": [
           {
            "marker": {
             "colorbar": {
              "outlinewidth": 0,
              "ticks": ""
             }
            },
            "type": "scattergeo"
           }
          ],
          "scattergl": [
           {
            "marker": {
             "colorbar": {
              "outlinewidth": 0,
              "ticks": ""
             }
            },
            "type": "scattergl"
           }
          ],
          "scattermapbox": [
           {
            "marker": {
             "colorbar": {
              "outlinewidth": 0,
              "ticks": ""
             }
            },
            "type": "scattermapbox"
           }
          ],
          "scatterpolar": [
           {
            "marker": {
             "colorbar": {
              "outlinewidth": 0,
              "ticks": ""
             }
            },
            "type": "scatterpolar"
           }
          ],
          "scatterpolargl": [
           {
            "marker": {
             "colorbar": {
              "outlinewidth": 0,
              "ticks": ""
             }
            },
            "type": "scatterpolargl"
           }
          ],
          "scatterternary": [
           {
            "marker": {
             "colorbar": {
              "outlinewidth": 0,
              "ticks": ""
             }
            },
            "type": "scatterternary"
           }
          ],
          "surface": [
           {
            "colorbar": {
             "outlinewidth": 0,
             "ticks": ""
            },
            "colorscale": [
             [
              0,
              "#0d0887"
             ],
             [
              0.1111111111111111,
              "#46039f"
             ],
             [
              0.2222222222222222,
              "#7201a8"
             ],
             [
              0.3333333333333333,
              "#9c179e"
             ],
             [
              0.4444444444444444,
              "#bd3786"
             ],
             [
              0.5555555555555556,
              "#d8576b"
             ],
             [
              0.6666666666666666,
              "#ed7953"
             ],
             [
              0.7777777777777778,
              "#fb9f3a"
             ],
             [
              0.8888888888888888,
              "#fdca26"
             ],
             [
              1,
              "#f0f921"
             ]
            ],
            "type": "surface"
           }
          ],
          "table": [
           {
            "cells": {
             "fill": {
              "color": "#EBF0F8"
             },
             "line": {
              "color": "white"
             }
            },
            "header": {
             "fill": {
              "color": "#C8D4E3"
             },
             "line": {
              "color": "white"
             }
            },
            "type": "table"
           }
          ]
         },
         "layout": {
          "annotationdefaults": {
           "arrowcolor": "#2a3f5f",
           "arrowhead": 0,
           "arrowwidth": 1
          },
          "autotypenumbers": "strict",
          "coloraxis": {
           "colorbar": {
            "outlinewidth": 0,
            "ticks": ""
           }
          },
          "colorscale": {
           "diverging": [
            [
             0,
             "#8e0152"
            ],
            [
             0.1,
             "#c51b7d"
            ],
            [
             0.2,
             "#de77ae"
            ],
            [
             0.3,
             "#f1b6da"
            ],
            [
             0.4,
             "#fde0ef"
            ],
            [
             0.5,
             "#f7f7f7"
            ],
            [
             0.6,
             "#e6f5d0"
            ],
            [
             0.7,
             "#b8e186"
            ],
            [
             0.8,
             "#7fbc41"
            ],
            [
             0.9,
             "#4d9221"
            ],
            [
             1,
             "#276419"
            ]
           ],
           "sequential": [
            [
             0,
             "#0d0887"
            ],
            [
             0.1111111111111111,
             "#46039f"
            ],
            [
             0.2222222222222222,
             "#7201a8"
            ],
            [
             0.3333333333333333,
             "#9c179e"
            ],
            [
             0.4444444444444444,
             "#bd3786"
            ],
            [
             0.5555555555555556,
             "#d8576b"
            ],
            [
             0.6666666666666666,
             "#ed7953"
            ],
            [
             0.7777777777777778,
             "#fb9f3a"
            ],
            [
             0.8888888888888888,
             "#fdca26"
            ],
            [
             1,
             "#f0f921"
            ]
           ],
           "sequentialminus": [
            [
             0,
             "#0d0887"
            ],
            [
             0.1111111111111111,
             "#46039f"
            ],
            [
             0.2222222222222222,
             "#7201a8"
            ],
            [
             0.3333333333333333,
             "#9c179e"
            ],
            [
             0.4444444444444444,
             "#bd3786"
            ],
            [
             0.5555555555555556,
             "#d8576b"
            ],
            [
             0.6666666666666666,
             "#ed7953"
            ],
            [
             0.7777777777777778,
             "#fb9f3a"
            ],
            [
             0.8888888888888888,
             "#fdca26"
            ],
            [
             1,
             "#f0f921"
            ]
           ]
          },
          "colorway": [
           "#636efa",
           "#EF553B",
           "#00cc96",
           "#ab63fa",
           "#FFA15A",
           "#19d3f3",
           "#FF6692",
           "#B6E880",
           "#FF97FF",
           "#FECB52"
          ],
          "font": {
           "color": "#2a3f5f"
          },
          "geo": {
           "bgcolor": "white",
           "lakecolor": "white",
           "landcolor": "#E5ECF6",
           "showlakes": true,
           "showland": true,
           "subunitcolor": "white"
          },
          "hoverlabel": {
           "align": "left"
          },
          "hovermode": "closest",
          "mapbox": {
           "style": "light"
          },
          "paper_bgcolor": "white",
          "plot_bgcolor": "#E5ECF6",
          "polar": {
           "angularaxis": {
            "gridcolor": "white",
            "linecolor": "white",
            "ticks": ""
           },
           "bgcolor": "#E5ECF6",
           "radialaxis": {
            "gridcolor": "white",
            "linecolor": "white",
            "ticks": ""
           }
          },
          "scene": {
           "xaxis": {
            "backgroundcolor": "#E5ECF6",
            "gridcolor": "white",
            "gridwidth": 2,
            "linecolor": "white",
            "showbackground": true,
            "ticks": "",
            "zerolinecolor": "white"
           },
           "yaxis": {
            "backgroundcolor": "#E5ECF6",
            "gridcolor": "white",
            "gridwidth": 2,
            "linecolor": "white",
            "showbackground": true,
            "ticks": "",
            "zerolinecolor": "white"
           },
           "zaxis": {
            "backgroundcolor": "#E5ECF6",
            "gridcolor": "white",
            "gridwidth": 2,
            "linecolor": "white",
            "showbackground": true,
            "ticks": "",
            "zerolinecolor": "white"
           }
          },
          "shapedefaults": {
           "line": {
            "color": "#2a3f5f"
           }
          },
          "ternary": {
           "aaxis": {
            "gridcolor": "white",
            "linecolor": "white",
            "ticks": ""
           },
           "baxis": {
            "gridcolor": "white",
            "linecolor": "white",
            "ticks": ""
           },
           "bgcolor": "#E5ECF6",
           "caxis": {
            "gridcolor": "white",
            "linecolor": "white",
            "ticks": ""
           }
          },
          "title": {
           "x": 0.05
          },
          "xaxis": {
           "automargin": true,
           "gridcolor": "white",
           "linecolor": "white",
           "ticks": "",
           "title": {
            "standoff": 15
           },
           "zerolinecolor": "white",
           "zerolinewidth": 2
          },
          "yaxis": {
           "automargin": true,
           "gridcolor": "white",
           "linecolor": "white",
           "ticks": "",
           "title": {
            "standoff": 15
           },
           "zerolinecolor": "white",
           "zerolinewidth": 2
          }
         }
        },
        "title": {
         "text": "BENEFICIOS TOTALES POR COMPAÑIA"
        },
        "width": 900,
        "xaxis": {
         "autorange": true,
         "range": [
          -0.5,
          9.5
         ],
         "type": "category"
        },
        "yaxis": {
         "autorange": true,
         "range": [
          -4007.9585976774197,
          9247.441181957938
         ],
         "type": "linear"
        }
       }
      },
      "image/png": "[encoded data removed]",
      "text/html": [
       "<div>                            <div id=\"0b2f026a-6bb1-4578-9658-fbd0d564f3c3\" class=\"plotly-graph-div\" style=\"height:600px; width:900px;\"></div>            <script type=\"text/javascript\">                require([\"plotly\"], function(Plotly) {                    window.PLOTLYENV=window.PLOTLYENV || {};                                    if (document.getElementById(\"0b2f026a-6bb1-4578-9658-fbd0d564f3c3\")) {                    Plotly.newPlot(                        \"0b2f026a-6bb1-4578-9658-fbd0d564f3c3\",                        [{\"hovertemplate\": \"%{y:$.0f}<extra></extra>\", \"marker\": {\"color\": \"rgba(255, 0, 0, 0.5)\", \"line\": {\"color\": \"rgb (255, 0, 0)\", \"width\": 1.5}}, \"name\": \"Rojo\", \"type\": \"bar\", \"uid\": \"3378c748-64a2-4e4d-9088-cbd3358c4810\", \"width\": 0.5, \"x\": [\"SOCIEDAD AGRICOLA E IND. SAN CARLOS\", \"HOLCIM ECUADOR VN 3.00\", \"BRIKAPITAL\"], \"y\": [-3345.188608695652, -1093.6865856950571, -610.0]}, {\"hovertemplate\": \"%{y:$.0f}<extra></extra>\", \"marker\": {\"color\": \"rgba(0, 255, 0, 0.5)\", \"line\": {\"color\": \"rgb (0, 255, 0)\", \"width\": 1.5}}, \"name\": \"Verde\", \"type\": \"bar\", \"uid\": \"d4306e68-5a93-44d6-812f-5f36f2b6f9ac\", \"width\": 0.5, \"x\": [\"CERVECERIA NACIONAL CN S.A.\", \"CORPORACION FAVORITA\", \"SUPERDEPORTE\", \"BANCO PRODUBANCO\", \"BANCO PICHINCHA\", \"BOLSA DE VALORES DE QUITO BVQ SOCIEDAD AN\\u00d3NIMA\", \"BANCO GUAYAQUIL\"], \"y\": [384.0394579168624, 432.4948720254524, 2466.7455579765465, 5343.792218261511, 5498.517084535122, 7307.428321262112, 8584.67119297617]}],                        {\"height\": 600, \"plot_bgcolor\": \"rgb (0, 0, 0)\", \"showlegend\": false, \"template\": {\"data\": {\"bar\": [{\"error_x\": {\"color\": \"#2a3f5f\"}, \"error_y\": {\"color\": \"#2a3f5f\"}, \"marker\": {\"line\": {\"color\": \"#E5ECF6\", \"width\": 0.5}}, \"type\": \"bar\"}], \"barpolar\": [{\"marker\": {\"line\": {\"color\": \"#E5ECF6\", \"width\": 0.5}}, \"type\": \"barpolar\"}], \"carpet\": [{\"aaxis\": {\"endlinecolor\": \"#2a3f5f\", \"gridcolor\": \"white\", \"linecolor\": \"white\", \"minorgridcolor\": \"white\", \"startlinecolor\": \"#2a3f5f\"}, \"baxis\": {\"endlinecolor\": \"#2a3f5f\", \"gridcolor\": \"white\", \"linecolor\": \"white\", \"minorgridcolor\": \"white\", \"startlinecolor\": \"#2a3f5f\"}, \"type\": \"carpet\"}], \"choropleth\": [{\"colorbar\": {\"outlinewidth\": 0, \"ticks\": \"\"}, \"type\": \"choropleth\"}], \"contour\": [{\"colorbar\": {\"outlinewidth\": 0, \"ticks\": \"\"}, \"colorscale\": [[0.0, \"#0d0887\"], [0.1111111111111111, \"#46039f\"], [0.2222222222222222, \"#7201a8\"], [0.3333333333333333, \"#9c179e\"], [0.4444444444444444, \"#bd3786\"], [0.5555555555555556, \"#d8576b\"], [0.6666666666666666, \"#ed7953\"], [0.7777777777777778, \"#fb9f3a\"], [0.8888888888888888, \"#fdca26\"], [1.0, \"#f0f921\"]], \"type\": \"contour\"}], \"contourcarpet\": [{\"colorbar\": {\"outlinewidth\": 0, \"ticks\": \"\"}, \"type\": \"contourcarpet\"}], \"heatmap\": [{\"colorbar\": {\"outlinewidth\": 0, \"ticks\": \"\"}, \"colorscale\": [[0.0, \"#0d0887\"], [0.1111111111111111, \"#46039f\"], [0.2222222222222222, \"#7201a8\"], [0.3333333333333333, \"#9c179e\"], [0.4444444444444444, \"#bd3786\"], [0.5555555555555556, \"#d8576b\"], [0.6666666666666666, \"#ed7953\"], [0.7777777777777778, \"#fb9f3a\"], [0.8888888888888888, \"#fdca26\"], [1.0, \"#f0f921\"]], \"type\": \"heatmap\"}], \"heatmapgl\": [{\"colorbar\": {\"outlinewidth\": 0, \"ticks\": \"\"}, \"colorscale\": [[0.0, \"#0d0887\"], [0.1111111111111111, \"#46039f\"], [0.2222222222222222, \"#7201a8\"], [0.3333333333333333, \"#9c179e\"], [0.4444444444444444, \"#bd3786\"], [0.5555555555555556, \"#d8576b\"], [0.6666666666666666, \"#ed7953\"], [0.7777777777777778, \"#fb9f3a\"], [0.8888888888888888, \"#fdca26\"], [1.0, \"#f0f921\"]], \"type\": \"heatmapgl\"}], \"histogram\": [{\"marker\": {\"colorbar\": {\"outlinewidth\": 0, \"ticks\": \"\"}}, \"type\": \"histogram\"}], \"histogram2d\": [{\"colorbar\": {\"outlinewidth\": 0, \"ticks\": \"\"}, \"colorscale\": [[0.0, \"#0d0887\"], [0.1111111111111111, \"#46039f\"], [0.2222222222222222, \"#7201a8\"], [0.3333333333333333, \"#9c179e\"], [0.4444444444444444, \"#bd3786\"], [0.5555555555555556, \"#d8576b\"], [0.6666666666666666, \"#ed7953\"], [0.7777777777777778, \"#fb9f3a\"], [0.8888888888888888, \"#fdca26\"], [1.0, \"#f0f921\"]], \"type\": \"histogram2d\"}], \"histogram2dcontour\": [{\"colorbar\": {\"outlinewidth\": 0, \"ticks\": \"\"}, \"colorscale\": [[0.0, \"#0d0887\"], [0.1111111111111111, \"#46039f\"], [0.2222222222222222, \"#7201a8\"], [0.3333333333333333, \"#9c179e\"], [0.4444444444444444, \"#bd3786\"], [0.5555555555555556, \"#d8576b\"], [0.6666666666666666, \"#ed7953\"], [0.7777777777777778, \"#fb9f3a\"], [0.8888888888888888, \"#fdca26\"], [1.0, \"#f0f921\"]], \"type\": \"histogram2dcontour\"}], \"mesh3d\": [{\"colorbar\": {\"outlinewidth\": 0, \"ticks\": \"\"}, \"type\": \"mesh3d\"}], \"parcoords\": [{\"line\": {\"colorbar\": {\"outlinewidth\": 0, \"ticks\": \"\"}}, \"type\": \"parcoords\"}], \"pie\": [{\"automargin\": true, \"type\": \"pie\"}], \"scatter\": [{\"marker\": {\"colorbar\": {\"outlinewidth\": 0, \"ticks\": \"\"}}, \"type\": \"scatter\"}], \"scatter3d\": [{\"line\": {\"colorbar\": {\"outlinewidth\": 0, \"ticks\": \"\"}}, \"marker\": {\"colorbar\": {\"outlinewidth\": 0, \"ticks\": \"\"}}, \"type\": \"scatter3d\"}], \"scattercarpet\": [{\"marker\": {\"colorbar\": {\"outlinewidth\": 0, \"ticks\": \"\"}}, \"type\": \"scattercarpet\"}], \"scattergeo\": [{\"marker\": {\"colorbar\": {\"outlinewidth\": 0, \"ticks\": \"\"}}, \"type\": \"scattergeo\"}], \"scattergl\": [{\"marker\": {\"colorbar\": {\"outlinewidth\": 0, \"ticks\": \"\"}}, \"type\": \"scattergl\"}], \"scattermapbox\": [{\"marker\": {\"colorbar\": {\"outlinewidth\": 0, \"ticks\": \"\"}}, \"type\": \"scattermapbox\"}], \"scatterpolar\": [{\"marker\": {\"colorbar\": {\"outlinewidth\": 0, \"ticks\": \"\"}}, \"type\": \"scatterpolar\"}], \"scatterpolargl\": [{\"marker\": {\"colorbar\": {\"outlinewidth\": 0, \"ticks\": \"\"}}, \"type\": \"scatterpolargl\"}], \"scatterternary\": [{\"marker\": {\"colorbar\": {\"outlinewidth\": 0, \"ticks\": \"\"}}, \"type\": \"scatterternary\"}], \"surface\": [{\"colorbar\": {\"outlinewidth\": 0, \"ticks\": \"\"}, \"colorscale\": [[0.0, \"#0d0887\"], [0.1111111111111111, \"#46039f\"], [0.2222222222222222, \"#7201a8\"], [0.3333333333333333, \"#9c179e\"], [0.4444444444444444, \"#bd3786\"], [0.5555555555555556, \"#d8576b\"], [0.6666666666666666, \"#ed7953\"], [0.7777777777777778, \"#fb9f3a\"], [0.8888888888888888, \"#fdca26\"], [1.0, \"#f0f921\"]], \"type\": \"surface\"}], \"table\": [{\"cells\": {\"fill\": {\"color\": \"#EBF0F8\"}, \"line\": {\"color\": \"white\"}}, \"header\": {\"fill\": {\"color\": \"#C8D4E3\"}, \"line\": {\"color\": \"white\"}}, \"type\": \"table\"}]}, \"layout\": {\"annotationdefaults\": {\"arrowcolor\": \"#2a3f5f\", \"arrowhead\": 0, \"arrowwidth\": 1}, \"autotypenumbers\": \"strict\", \"coloraxis\": {\"colorbar\": {\"outlinewidth\": 0, \"ticks\": \"\"}}, \"colorscale\": {\"diverging\": [[0, \"#8e0152\"], [0.1, \"#c51b7d\"], [0.2, \"#de77ae\"], [0.3, \"#f1b6da\"], [0.4, \"#fde0ef\"], [0.5, \"#f7f7f7\"], [0.6, \"#e6f5d0\"], [0.7, \"#b8e186\"], [0.8, \"#7fbc41\"], [0.9, \"#4d9221\"], [1, \"#276419\"]], \"sequential\": [[0.0, \"#0d0887\"], [0.1111111111111111, \"#46039f\"], [0.2222222222222222, \"#7201a8\"], [0.3333333333333333, \"#9c179e\"], [0.4444444444444444, \"#bd3786\"], [0.5555555555555556, \"#d8576b\"], [0.6666666666666666, \"#ed7953\"], [0.7777777777777778, \"#fb9f3a\"], [0.8888888888888888, \"#fdca26\"], [1.0, \"#f0f921\"]], \"sequentialminus\": [[0.0, \"#0d0887\"], [0.1111111111111111, \"#46039f\"], [0.2222222222222222, \"#7201a8\"], [0.3333333333333333, \"#9c179e\"], [0.4444444444444444, \"#bd3786\"], [0.5555555555555556, \"#d8576b\"], [0.6666666666666666, \"#ed7953\"], [0.7777777777777778, \"#fb9f3a\"], [0.8888888888888888, \"#fdca26\"], [1.0, \"#f0f921\"]]}, \"colorway\": [\"#636efa\", \"#EF553B\", \"#00cc96\", \"#ab63fa\", \"#FFA15A\", \"#19d3f3\", \"#FF6692\", \"#B6E880\", \"#FF97FF\", \"#FECB52\"], \"font\": {\"color\": \"#2a3f5f\"}, \"geo\": {\"bgcolor\": \"white\", \"lakecolor\": \"white\", \"landcolor\": \"#E5ECF6\", \"showlakes\": true, \"showland\": true, \"subunitcolor\": \"white\"}, \"hoverlabel\": {\"align\": \"left\"}, \"hovermode\": \"closest\", \"mapbox\": {\"style\": \"light\"}, \"paper_bgcolor\": \"white\", \"plot_bgcolor\": \"#E5ECF6\", \"polar\": {\"angularaxis\": {\"gridcolor\": \"white\", \"linecolor\": \"white\", \"ticks\": \"\"}, \"bgcolor\": \"#E5ECF6\", \"radialaxis\": {\"gridcolor\": \"white\", \"linecolor\": \"white\", \"ticks\": \"\"}}, \"scene\": {\"xaxis\": {\"backgroundcolor\": \"#E5ECF6\", \"gridcolor\": \"white\", \"gridwidth\": 2, \"linecolor\": \"white\", \"showbackground\": true, \"ticks\": \"\", \"zerolinecolor\": \"white\"}, \"yaxis\": {\"backgroundcolor\": \"#E5ECF6\", \"gridcolor\": \"white\", \"gridwidth\": 2, \"linecolor\": \"white\", \"showbackground\": true, \"ticks\": \"\", \"zerolinecolor\": \"white\"}, \"zaxis\": {\"backgroundcolor\": \"#E5ECF6\", \"gridcolor\": \"white\", \"gridwidth\": 2, \"linecolor\": \"white\", \"showbackground\": true, \"ticks\": \"\", \"zerolinecolor\": \"white\"}}, \"shapedefaults\": {\"line\": {\"color\": \"#2a3f5f\"}}, \"ternary\": {\"aaxis\": {\"gridcolor\": \"white\", \"linecolor\": \"white\", \"ticks\": \"\"}, \"baxis\": {\"gridcolor\": \"white\", \"linecolor\": \"white\", \"ticks\": \"\"}, \"bgcolor\": \"#E5ECF6\", \"caxis\": {\"gridcolor\": \"white\", \"linecolor\": \"white\", \"ticks\": \"\"}}, \"title\": {\"x\": 0.05}, \"xaxis\": {\"automargin\": true, \"gridcolor\": \"white\", \"linecolor\": \"white\", \"ticks\": \"\", \"title\": {\"standoff\": 15}, \"zerolinecolor\": \"white\", \"zerolinewidth\": 2}, \"yaxis\": {\"automargin\": true, \"gridcolor\": \"white\", \"linecolor\": \"white\", \"ticks\": \"\", \"title\": {\"standoff\": 15}, \"zerolinecolor\": \"white\", \"zerolinewidth\": 2}}}, \"title\": {\"text\": \"BENEFICIOS TOTALES POR COMPA\\u00d1IA\"}, \"width\": 900},                        {\"responsive\": true}                    ).then(function(){\n",
       "                            \n",
       "var gd = document.getElementById('0b2f026a-6bb1-4578-9658-fbd0d564f3c3');\n",
       "var x = new MutationObserver(function (mutations, observer) {{\n",
       "        var display = window.getComputedStyle(gd).display;\n",
       "        if (!display || display === 'none') {{\n",
       "            console.log([gd, 'removed!']);\n",
       "            Plotly.purge(gd);\n",
       "            observer.disconnect();\n",
       "        }}\n",
       "}});\n",
       "\n",
       "// Listen for the removal of the full notebook cells\n",
       "var notebookContainer = gd.closest('#notebook-container');\n",
       "if (notebookContainer) {{\n",
       "    x.observe(notebookContainer, {childList: true});\n",
       "}}\n",
       "\n",
       "// Listen for the clearing of the current output cell\n",
       "var outputEl = gd.closest('.output');\n",
       "if (outputEl) {{\n",
       "    x.observe(outputEl, {childList: true});\n",
       "}}\n",
       "\n",
       "                        })                };                });            </script>        </div>"
      ]
     },
     "metadata": {},
     "output_type": "display_data"
    }
   ],
   "source": [
    "import chart_studio.plotly as py\n",
    "import plotly.graph_objects as go\n",
    "from plotly.offline import init_notebook_mode, iplot\n",
    "init_notebook_mode(connected=True)\n",
    "\n",
    "resultados_cias = (reporte.resultados()['TOTAL']-monto_invertido/num_activos).sort_values()\n",
    "\n",
    "x = resultados_cias.index\n",
    "y = resultados_cias.values\n",
    "\n",
    "bins = [-100_000, 0, 100_000]\n",
    "labels = ['Rojo', 'Verde']\n",
    "\n",
    "colors = {'Rojo': 'rgba(255, 0, 0, 0.5)',\n",
    "          'Verde': 'rgba(0, 255, 0, 0.5)'}\n",
    "\n",
    "df = pd.DataFrame({'y': y,\n",
    "                   'x': x,\n",
    "                   'label': pd.cut(y, bins=bins, labels=labels)})\n",
    "\n",
    "bars = []\n",
    "for label, label_df in df.groupby('label'):\n",
    "    bars.append(go.Bar(x=label_df.x,\n",
    "                       y=label_df.y,\n",
    "                       name=label,\n",
    "                       marker={'color': colors[label],}))\n",
    "    \n",
    "layout = { \"title\": \"BENEFICIOS TOTALES POR COMPAÑIA\", \n",
    "          \"width\": 900, \n",
    "          \"height\": 600,\n",
    "          \"plot_bgcolor\": 'rgb (0, 0, 0)'}#None}\n",
    "\n",
    "fig = go.FigureWidget(data=bars, layout=layout)   \n",
    "fig.update_layout(showlegend=False)\n",
    "\n",
    "fig.update_traces( marker_line_color='rgb (0, 255, 0)',\n",
    "                  marker_line_width=1.5, width=0.5, hovertemplate = '%{y:$.0f}<extra></extra>',\n",
    "                  selector={'marker_color': 'rgba(0, 255, 0, 0.5)'})\n",
    "\n",
    "fig.update_traces( marker_line_color='rgb (255, 0, 0)',\n",
    "                  marker_line_width=1.5, width=0.5, hovertemplate = '%{y:$.0f}<extra></extra>',\n",
    "                  selector={'marker_color': 'rgba(255, 0, 0, 0.5)'})\n",
    "\n",
    "fig.show()"
   ]
  },
  {
   "cell_type": "markdown",
   "metadata": {},
   "source": [
    "### Revalorización del precio de la acción VS ingresos por dividendos recibidos"
   ]
  },
  {
   "cell_type": "code",
   "execution_count": 27,
   "metadata": {},
   "outputs": [
    {
     "data": {
      "application/vnd.plotly.v1+json": {
       "config": {
        "plotlyServerURL": "https://plotly.com"
       },
       "data": [
        {
         "hovertemplate": "%{y:$.0f}<extra></extra>",
         "marker": {
          "color": "aqua"
         },
         "name": "Dividendos",
         "type": "bar",
         "x": [
          "CORPORACION FAVORITA",
          "BANCO GUAYAQUIL",
          "BRIKAPITAL",
          "BANCO PRODUBANCO",
          "BANCO PICHINCHA",
          "CERVECERIA NACIONAL CN S.A.",
          "BOLSA DE VALORES DE QUITO BVQ SOCIEDAD ANÓNIMA",
          "HOLCIM ECUADOR VN 3.00",
          "SUPERDEPORTE",
          "SOCIEDAD AGRICOLA E IND. SAN CARLOS"
         ],
         "y": [
          412.91435961339994,
          2878.1247205653617,
          0,
          2131.6530885058028,
          1506.245974142181,
          1433.4900073674123,
          4107.63938500702,
          1554.8428260696483,
          190.3999289890964,
          54.81139130434782
         ]
        },
        {
         "hovertemplate": "%{y:$.0f}<extra></extra>",
         "marker": {
          "color": "deeppink"
         },
         "name": "Rev.Precio",
         "type": "bar",
         "x": [
          "CORPORACION FAVORITA",
          "BANCO GUAYAQUIL",
          "BRIKAPITAL",
          "BANCO PRODUBANCO",
          "BANCO PICHINCHA",
          "CERVECERIA NACIONAL CN S.A.",
          "BOLSA DE VALORES DE QUITO BVQ SOCIEDAD ANÓNIMA",
          "HOLCIM ECUADOR VN 3.00",
          "SUPERDEPORTE",
          "SOCIEDAD AGRICOLA E IND. SAN CARLOS"
         ],
         "y": [
          19.580512412052485,
          5706.546472410808,
          -610,
          3212.1391297557075,
          3992.2711103929414,
          -1049.4505494505502,
          3199.7889362550923,
          -2648.5294117647054,
          2276.3456289874503,
          -3400
         ]
        }
       ],
       "layout": {
        "barmode": "group",
        "height": 600,
        "legend": {
         "x": 0.01,
         "xanchor": "left",
         "y": 0.99,
         "yanchor": "top"
        },
        "template": {
         "data": {
          "bar": [
           {
            "error_x": {
             "color": "#2a3f5f"
            },
            "error_y": {
             "color": "#2a3f5f"
            },
            "marker": {
             "line": {
              "color": "#E5ECF6",
              "width": 0.5
             }
            },
            "type": "bar"
           }
          ],
          "barpolar": [
           {
            "marker": {
             "line": {
              "color": "#E5ECF6",
              "width": 0.5
             }
            },
            "type": "barpolar"
           }
          ],
          "carpet": [
           {
            "aaxis": {
             "endlinecolor": "#2a3f5f",
             "gridcolor": "white",
             "linecolor": "white",
             "minorgridcolor": "white",
             "startlinecolor": "#2a3f5f"
            },
            "baxis": {
             "endlinecolor": "#2a3f5f",
             "gridcolor": "white",
             "linecolor": "white",
             "minorgridcolor": "white",
             "startlinecolor": "#2a3f5f"
            },
            "type": "carpet"
           }
          ],
          "choropleth": [
           {
            "colorbar": {
             "outlinewidth": 0,
             "ticks": ""
            },
            "type": "choropleth"
           }
          ],
          "contour": [
           {
            "colorbar": {
             "outlinewidth": 0,
             "ticks": ""
            },
            "colorscale": [
             [
              0,
              "#0d0887"
             ],
             [
              0.1111111111111111,
              "#46039f"
             ],
             [
              0.2222222222222222,
              "#7201a8"
             ],
             [
              0.3333333333333333,
              "#9c179e"
             ],
             [
              0.4444444444444444,
              "#bd3786"
             ],
             [
              0.5555555555555556,
              "#d8576b"
             ],
             [
              0.6666666666666666,
              "#ed7953"
             ],
             [
              0.7777777777777778,
              "#fb9f3a"
             ],
             [
              0.8888888888888888,
              "#fdca26"
             ],
             [
              1,
              "#f0f921"
             ]
            ],
            "type": "contour"
           }
          ],
          "contourcarpet": [
           {
            "colorbar": {
             "outlinewidth": 0,
             "ticks": ""
            },
            "type": "contourcarpet"
           }
          ],
          "heatmap": [
           {
            "colorbar": {
             "outlinewidth": 0,
             "ticks": ""
            },
            "colorscale": [
             [
              0,
              "#0d0887"
             ],
             [
              0.1111111111111111,
              "#46039f"
             ],
             [
              0.2222222222222222,
              "#7201a8"
             ],
             [
              0.3333333333333333,
              "#9c179e"
             ],
             [
              0.4444444444444444,
              "#bd3786"
             ],
             [
              0.5555555555555556,
              "#d8576b"
             ],
             [
              0.6666666666666666,
              "#ed7953"
             ],
             [
              0.7777777777777778,
              "#fb9f3a"
             ],
             [
              0.8888888888888888,
              "#fdca26"
             ],
             [
              1,
              "#f0f921"
             ]
            ],
            "type": "heatmap"
           }
          ],
          "heatmapgl": [
           {
            "colorbar": {
             "outlinewidth": 0,
             "ticks": ""
            },
            "colorscale": [
             [
              0,
              "#0d0887"
             ],
             [
              0.1111111111111111,
              "#46039f"
             ],
             [
              0.2222222222222222,
              "#7201a8"
             ],
             [
              0.3333333333333333,
              "#9c179e"
             ],
             [
              0.4444444444444444,
              "#bd3786"
             ],
             [
              0.5555555555555556,
              "#d8576b"
             ],
             [
              0.6666666666666666,
              "#ed7953"
             ],
             [
              0.7777777777777778,
              "#fb9f3a"
             ],
             [
              0.8888888888888888,
              "#fdca26"
             ],
             [
              1,
              "#f0f921"
             ]
            ],
            "type": "heatmapgl"
           }
          ],
          "histogram": [
           {
            "marker": {
             "colorbar": {
              "outlinewidth": 0,
              "ticks": ""
             }
            },
            "type": "histogram"
           }
          ],
          "histogram2d": [
           {
            "colorbar": {
             "outlinewidth": 0,
             "ticks": ""
            },
            "colorscale": [
             [
              0,
              "#0d0887"
             ],
             [
              0.1111111111111111,
              "#46039f"
             ],
             [
              0.2222222222222222,
              "#7201a8"
             ],
             [
              0.3333333333333333,
              "#9c179e"
             ],
             [
              0.4444444444444444,
              "#bd3786"
             ],
             [
              0.5555555555555556,
              "#d8576b"
             ],
             [
              0.6666666666666666,
              "#ed7953"
             ],
             [
              0.7777777777777778,
              "#fb9f3a"
             ],
             [
              0.8888888888888888,
              "#fdca26"
             ],
             [
              1,
              "#f0f921"
             ]
            ],
            "type": "histogram2d"
           }
          ],
          "histogram2dcontour": [
           {
            "colorbar": {
             "outlinewidth": 0,
             "ticks": ""
            },
            "colorscale": [
             [
              0,
              "#0d0887"
             ],
             [
              0.1111111111111111,
              "#46039f"
             ],
             [
              0.2222222222222222,
              "#7201a8"
             ],
             [
              0.3333333333333333,
              "#9c179e"
             ],
             [
              0.4444444444444444,
              "#bd3786"
             ],
             [
              0.5555555555555556,
              "#d8576b"
             ],
             [
              0.6666666666666666,
              "#ed7953"
             ],
             [
              0.7777777777777778,
              "#fb9f3a"
             ],
             [
              0.8888888888888888,
              "#fdca26"
             ],
             [
              1,
              "#f0f921"
             ]
            ],
            "type": "histogram2dcontour"
           }
          ],
          "mesh3d": [
           {
            "colorbar": {
             "outlinewidth": 0,
             "ticks": ""
            },
            "type": "mesh3d"
           }
          ],
          "parcoords": [
           {
            "line": {
             "colorbar": {
              "outlinewidth": 0,
              "ticks": ""
             }
            },
            "type": "parcoords"
           }
          ],
          "pie": [
           {
            "automargin": true,
            "type": "pie"
           }
          ],
          "scatter": [
           {
            "marker": {
             "colorbar": {
              "outlinewidth": 0,
              "ticks": ""
             }
            },
            "type": "scatter"
           }
          ],
          "scatter3d": [
           {
            "line": {
             "colorbar": {
              "outlinewidth": 0,
              "ticks": ""
             }
            },
            "marker": {
             "colorbar": {
              "outlinewidth": 0,
              "ticks": ""
             }
            },
            "type": "scatter3d"
           }
          ],
          "scattercarpet": [
           {
            "marker": {
             "colorbar": {
              "outlinewidth": 0,
              "ticks": ""
             }
            },
            "type": "scattercarpet"
           }
          ],
          "scattergeo": [
           {
            "marker": {
             "colorbar": {
              "outlinewidth": 0,
              "ticks": ""
             }
            },
            "type": "scattergeo"
           }
          ],
          "scattergl": [
           {
            "marker": {
             "colorbar": {
              "outlinewidth": 0,
              "ticks": ""
             }
            },
            "type": "scattergl"
           }
          ],
          "scattermapbox": [
           {
            "marker": {
             "colorbar": {
              "outlinewidth": 0,
              "ticks": ""
             }
            },
            "type": "scattermapbox"
           }
          ],
          "scatterpolar": [
           {
            "marker": {
             "colorbar": {
              "outlinewidth": 0,
              "ticks": ""
             }
            },
            "type": "scatterpolar"
           }
          ],
          "scatterpolargl": [
           {
            "marker": {
             "colorbar": {
              "outlinewidth": 0,
              "ticks": ""
             }
            },
            "type": "scatterpolargl"
           }
          ],
          "scatterternary": [
           {
            "marker": {
             "colorbar": {
              "outlinewidth": 0,
              "ticks": ""
             }
            },
            "type": "scatterternary"
           }
          ],
          "surface": [
           {
            "colorbar": {
             "outlinewidth": 0,
             "ticks": ""
            },
            "colorscale": [
             [
              0,
              "#0d0887"
             ],
             [
              0.1111111111111111,
              "#46039f"
             ],
             [
              0.2222222222222222,
              "#7201a8"
             ],
             [
              0.3333333333333333,
              "#9c179e"
             ],
             [
              0.4444444444444444,
              "#bd3786"
             ],
             [
              0.5555555555555556,
              "#d8576b"
             ],
             [
              0.6666666666666666,
              "#ed7953"
             ],
             [
              0.7777777777777778,
              "#fb9f3a"
             ],
             [
              0.8888888888888888,
              "#fdca26"
             ],
             [
              1,
              "#f0f921"
             ]
            ],
            "type": "surface"
           }
          ],
          "table": [
           {
            "cells": {
             "fill": {
              "color": "#EBF0F8"
             },
             "line": {
              "color": "white"
             }
            },
            "header": {
             "fill": {
              "color": "#C8D4E3"
             },
             "line": {
              "color": "white"
             }
            },
            "type": "table"
           }
          ]
         },
         "layout": {
          "annotationdefaults": {
           "arrowcolor": "#2a3f5f",
           "arrowhead": 0,
           "arrowwidth": 1
          },
          "autotypenumbers": "strict",
          "coloraxis": {
           "colorbar": {
            "outlinewidth": 0,
            "ticks": ""
           }
          },
          "colorscale": {
           "diverging": [
            [
             0,
             "#8e0152"
            ],
            [
             0.1,
             "#c51b7d"
            ],
            [
             0.2,
             "#de77ae"
            ],
            [
             0.3,
             "#f1b6da"
            ],
            [
             0.4,
             "#fde0ef"
            ],
            [
             0.5,
             "#f7f7f7"
            ],
            [
             0.6,
             "#e6f5d0"
            ],
            [
             0.7,
             "#b8e186"
            ],
            [
             0.8,
             "#7fbc41"
            ],
            [
             0.9,
             "#4d9221"
            ],
            [
             1,
             "#276419"
            ]
           ],
           "sequential": [
            [
             0,
             "#0d0887"
            ],
            [
             0.1111111111111111,
             "#46039f"
            ],
            [
             0.2222222222222222,
             "#7201a8"
            ],
            [
             0.3333333333333333,
             "#9c179e"
            ],
            [
             0.4444444444444444,
             "#bd3786"
            ],
            [
             0.5555555555555556,
             "#d8576b"
            ],
            [
             0.6666666666666666,
             "#ed7953"
            ],
            [
             0.7777777777777778,
             "#fb9f3a"
            ],
            [
             0.8888888888888888,
             "#fdca26"
            ],
            [
             1,
             "#f0f921"
            ]
           ],
           "sequentialminus": [
            [
             0,
             "#0d0887"
            ],
            [
             0.1111111111111111,
             "#46039f"
            ],
            [
             0.2222222222222222,
             "#7201a8"
            ],
            [
             0.3333333333333333,
             "#9c179e"
            ],
            [
             0.4444444444444444,
             "#bd3786"
            ],
            [
             0.5555555555555556,
             "#d8576b"
            ],
            [
             0.6666666666666666,
             "#ed7953"
            ],
            [
             0.7777777777777778,
             "#fb9f3a"
            ],
            [
             0.8888888888888888,
             "#fdca26"
            ],
            [
             1,
             "#f0f921"
            ]
           ]
          },
          "colorway": [
           "#636efa",
           "#EF553B",
           "#00cc96",
           "#ab63fa",
           "#FFA15A",
           "#19d3f3",
           "#FF6692",
           "#B6E880",
           "#FF97FF",
           "#FECB52"
          ],
          "font": {
           "color": "#2a3f5f"
          },
          "geo": {
           "bgcolor": "white",
           "lakecolor": "white",
           "landcolor": "#E5ECF6",
           "showlakes": true,
           "showland": true,
           "subunitcolor": "white"
          },
          "hoverlabel": {
           "align": "left"
          },
          "hovermode": "closest",
          "mapbox": {
           "style": "light"
          },
          "paper_bgcolor": "white",
          "plot_bgcolor": "#E5ECF6",
          "polar": {
           "angularaxis": {
            "gridcolor": "white",
            "linecolor": "white",
            "ticks": ""
           },
           "bgcolor": "#E5ECF6",
           "radialaxis": {
            "gridcolor": "white",
            "linecolor": "white",
            "ticks": ""
           }
          },
          "scene": {
           "xaxis": {
            "backgroundcolor": "#E5ECF6",
            "gridcolor": "white",
            "gridwidth": 2,
            "linecolor": "white",
            "showbackground": true,
            "ticks": "",
            "zerolinecolor": "white"
           },
           "yaxis": {
            "backgroundcolor": "#E5ECF6",
            "gridcolor": "white",
            "gridwidth": 2,
            "linecolor": "white",
            "showbackground": true,
            "ticks": "",
            "zerolinecolor": "white"
           },
           "zaxis": {
            "backgroundcolor": "#E5ECF6",
            "gridcolor": "white",
            "gridwidth": 2,
            "linecolor": "white",
            "showbackground": true,
            "ticks": "",
            "zerolinecolor": "white"
           }
          },
          "shapedefaults": {
           "line": {
            "color": "#2a3f5f"
           }
          },
          "ternary": {
           "aaxis": {
            "gridcolor": "white",
            "linecolor": "white",
            "ticks": ""
           },
           "baxis": {
            "gridcolor": "white",
            "linecolor": "white",
            "ticks": ""
           },
           "bgcolor": "#E5ECF6",
           "caxis": {
            "gridcolor": "white",
            "linecolor": "white",
            "ticks": ""
           }
          },
          "title": {
           "x": 0.05
          },
          "xaxis": {
           "automargin": true,
           "gridcolor": "white",
           "linecolor": "white",
           "ticks": "",
           "title": {
            "standoff": 15
           },
           "zerolinecolor": "white",
           "zerolinewidth": 2
          },
          "yaxis": {
           "automargin": true,
           "gridcolor": "white",
           "linecolor": "white",
           "ticks": "",
           "title": {
            "standoff": 15
           },
           "zerolinecolor": "white",
           "zerolinewidth": 2
          }
         }
        },
        "width": 920,
        "xaxis": {
         "autorange": true,
         "range": [
          -0.5,
          9.5
         ],
         "tickangle": -45,
         "type": "category"
        },
        "yaxis": {
         "autorange": true,
         "range": [
          -3905.919248467267,
          6212.465720878075
         ],
         "type": "linear"
        }
       }
      },
      "image/png": "[encoded data removed]",
      "text/html": [
       "<div>                            <div id=\"887c27f4-90a9-4051-b75b-4560a48e1723\" class=\"plotly-graph-div\" style=\"height:600px; width:920px;\"></div>            <script type=\"text/javascript\">                require([\"plotly\"], function(Plotly) {                    window.PLOTLYENV=window.PLOTLYENV || {};                                    if (document.getElementById(\"887c27f4-90a9-4051-b75b-4560a48e1723\")) {                    Plotly.newPlot(                        \"887c27f4-90a9-4051-b75b-4560a48e1723\",                        [{\"hovertemplate\": \"%{y:$.0f}<extra></extra>\", \"marker\": {\"color\": \"aqua\"}, \"name\": \"Dividendos\", \"type\": \"bar\", \"x\": [\"CORPORACION FAVORITA\", \"BANCO GUAYAQUIL\", \"BRIKAPITAL\", \"BANCO PRODUBANCO\", \"BANCO PICHINCHA\", \"CERVECERIA NACIONAL CN S.A.\", \"BOLSA DE VALORES DE QUITO BVQ SOCIEDAD AN\\u00d3NIMA\", \"HOLCIM ECUADOR VN 3.00\", \"SUPERDEPORTE\", \"SOCIEDAD AGRICOLA E IND. SAN CARLOS\"], \"y\": [412.91435961339994, 2878.1247205653617, 0.0, 2131.6530885058028, 1506.245974142181, 1433.4900073674123, 4107.63938500702, 1554.8428260696483, 190.3999289890964, 54.81139130434782]}, {\"hovertemplate\": \"%{y:$.0f}<extra></extra>\", \"marker\": {\"color\": \"deeppink\"}, \"name\": \"Rev.Precio\", \"type\": \"bar\", \"x\": [\"CORPORACION FAVORITA\", \"BANCO GUAYAQUIL\", \"BRIKAPITAL\", \"BANCO PRODUBANCO\", \"BANCO PICHINCHA\", \"CERVECERIA NACIONAL CN S.A.\", \"BOLSA DE VALORES DE QUITO BVQ SOCIEDAD AN\\u00d3NIMA\", \"HOLCIM ECUADOR VN 3.00\", \"SUPERDEPORTE\", \"SOCIEDAD AGRICOLA E IND. SAN CARLOS\"], \"y\": [19.580512412052485, 5706.546472410808, -610.0, 3212.1391297557075, 3992.2711103929414, -1049.4505494505502, 3199.7889362550923, -2648.5294117647054, 2276.3456289874503, -3400.0]}],                        {\"barmode\": \"group\", \"height\": 600, \"legend\": {\"x\": 0.01, \"xanchor\": \"left\", \"y\": 0.99, \"yanchor\": \"top\"}, \"template\": {\"data\": {\"bar\": [{\"error_x\": {\"color\": \"#2a3f5f\"}, \"error_y\": {\"color\": \"#2a3f5f\"}, \"marker\": {\"line\": {\"color\": \"#E5ECF6\", \"width\": 0.5}}, \"type\": \"bar\"}], \"barpolar\": [{\"marker\": {\"line\": {\"color\": \"#E5ECF6\", \"width\": 0.5}}, \"type\": \"barpolar\"}], \"carpet\": [{\"aaxis\": {\"endlinecolor\": \"#2a3f5f\", \"gridcolor\": \"white\", \"linecolor\": \"white\", \"minorgridcolor\": \"white\", \"startlinecolor\": \"#2a3f5f\"}, \"baxis\": {\"endlinecolor\": \"#2a3f5f\", \"gridcolor\": \"white\", \"linecolor\": \"white\", \"minorgridcolor\": \"white\", \"startlinecolor\": \"#2a3f5f\"}, \"type\": \"carpet\"}], \"choropleth\": [{\"colorbar\": {\"outlinewidth\": 0, \"ticks\": \"\"}, \"type\": \"choropleth\"}], \"contour\": [{\"colorbar\": {\"outlinewidth\": 0, \"ticks\": \"\"}, \"colorscale\": [[0.0, \"#0d0887\"], [0.1111111111111111, \"#46039f\"], [0.2222222222222222, \"#7201a8\"], [0.3333333333333333, \"#9c179e\"], [0.4444444444444444, \"#bd3786\"], [0.5555555555555556, \"#d8576b\"], [0.6666666666666666, \"#ed7953\"], [0.7777777777777778, \"#fb9f3a\"], [0.8888888888888888, \"#fdca26\"], [1.0, \"#f0f921\"]], \"type\": \"contour\"}], \"contourcarpet\": [{\"colorbar\": {\"outlinewidth\": 0, \"ticks\": \"\"}, \"type\": \"contourcarpet\"}], \"heatmap\": [{\"colorbar\": {\"outlinewidth\": 0, \"ticks\": \"\"}, \"colorscale\": [[0.0, \"#0d0887\"], [0.1111111111111111, \"#46039f\"], [0.2222222222222222, \"#7201a8\"], [0.3333333333333333, \"#9c179e\"], [0.4444444444444444, \"#bd3786\"], [0.5555555555555556, \"#d8576b\"], [0.6666666666666666, \"#ed7953\"], [0.7777777777777778, \"#fb9f3a\"], [0.8888888888888888, \"#fdca26\"], [1.0, \"#f0f921\"]], \"type\": \"heatmap\"}], \"heatmapgl\": [{\"colorbar\": {\"outlinewidth\": 0, \"ticks\": \"\"}, \"colorscale\": [[0.0, \"#0d0887\"], [0.1111111111111111, \"#46039f\"], [0.2222222222222222, \"#7201a8\"], [0.3333333333333333, \"#9c179e\"], [0.4444444444444444, \"#bd3786\"], [0.5555555555555556, \"#d8576b\"], [0.6666666666666666, \"#ed7953\"], [0.7777777777777778, \"#fb9f3a\"], [0.8888888888888888, \"#fdca26\"], [1.0, \"#f0f921\"]], \"type\": \"heatmapgl\"}], \"histogram\": [{\"marker\": {\"colorbar\": {\"outlinewidth\": 0, \"ticks\": \"\"}}, \"type\": \"histogram\"}], \"histogram2d\": [{\"colorbar\": {\"outlinewidth\": 0, \"ticks\": \"\"}, \"colorscale\": [[0.0, \"#0d0887\"], [0.1111111111111111, \"#46039f\"], [0.2222222222222222, \"#7201a8\"], [0.3333333333333333, \"#9c179e\"], [0.4444444444444444, \"#bd3786\"], [0.5555555555555556, \"#d8576b\"], [0.6666666666666666, \"#ed7953\"], [0.7777777777777778, \"#fb9f3a\"], [0.8888888888888888, \"#fdca26\"], [1.0, \"#f0f921\"]], \"type\": \"histogram2d\"}], \"histogram2dcontour\": [{\"colorbar\": {\"outlinewidth\": 0, \"ticks\": \"\"}, \"colorscale\": [[0.0, \"#0d0887\"], [0.1111111111111111, \"#46039f\"], [0.2222222222222222, \"#7201a8\"], [0.3333333333333333, \"#9c179e\"], [0.4444444444444444, \"#bd3786\"], [0.5555555555555556, \"#d8576b\"], [0.6666666666666666, \"#ed7953\"], [0.7777777777777778, \"#fb9f3a\"], [0.8888888888888888, \"#fdca26\"], [1.0, \"#f0f921\"]], \"type\": \"histogram2dcontour\"}], \"mesh3d\": [{\"colorbar\": {\"outlinewidth\": 0, \"ticks\": \"\"}, \"type\": \"mesh3d\"}], \"parcoords\": [{\"line\": {\"colorbar\": {\"outlinewidth\": 0, \"ticks\": \"\"}}, \"type\": \"parcoords\"}], \"pie\": [{\"automargin\": true, \"type\": \"pie\"}], \"scatter\": [{\"marker\": {\"colorbar\": {\"outlinewidth\": 0, \"ticks\": \"\"}}, \"type\": \"scatter\"}], \"scatter3d\": [{\"line\": {\"colorbar\": {\"outlinewidth\": 0, \"ticks\": \"\"}}, \"marker\": {\"colorbar\": {\"outlinewidth\": 0, \"ticks\": \"\"}}, \"type\": \"scatter3d\"}], \"scattercarpet\": [{\"marker\": {\"colorbar\": {\"outlinewidth\": 0, \"ticks\": \"\"}}, \"type\": \"scattercarpet\"}], \"scattergeo\": [{\"marker\": {\"colorbar\": {\"outlinewidth\": 0, \"ticks\": \"\"}}, \"type\": \"scattergeo\"}], \"scattergl\": [{\"marker\": {\"colorbar\": {\"outlinewidth\": 0, \"ticks\": \"\"}}, \"type\": \"scattergl\"}], \"scattermapbox\": [{\"marker\": {\"colorbar\": {\"outlinewidth\": 0, \"ticks\": \"\"}}, \"type\": \"scattermapbox\"}], \"scatterpolar\": [{\"marker\": {\"colorbar\": {\"outlinewidth\": 0, \"ticks\": \"\"}}, \"type\": \"scatterpolar\"}], \"scatterpolargl\": [{\"marker\": {\"colorbar\": {\"outlinewidth\": 0, \"ticks\": \"\"}}, \"type\": \"scatterpolargl\"}], \"scatterternary\": [{\"marker\": {\"colorbar\": {\"outlinewidth\": 0, \"ticks\": \"\"}}, \"type\": \"scatterternary\"}], \"surface\": [{\"colorbar\": {\"outlinewidth\": 0, \"ticks\": \"\"}, \"colorscale\": [[0.0, \"#0d0887\"], [0.1111111111111111, \"#46039f\"], [0.2222222222222222, \"#7201a8\"], [0.3333333333333333, \"#9c179e\"], [0.4444444444444444, \"#bd3786\"], [0.5555555555555556, \"#d8576b\"], [0.6666666666666666, \"#ed7953\"], [0.7777777777777778, \"#fb9f3a\"], [0.8888888888888888, \"#fdca26\"], [1.0, \"#f0f921\"]], \"type\": \"surface\"}], \"table\": [{\"cells\": {\"fill\": {\"color\": \"#EBF0F8\"}, \"line\": {\"color\": \"white\"}}, \"header\": {\"fill\": {\"color\": \"#C8D4E3\"}, \"line\": {\"color\": \"white\"}}, \"type\": \"table\"}]}, \"layout\": {\"annotationdefaults\": {\"arrowcolor\": \"#2a3f5f\", \"arrowhead\": 0, \"arrowwidth\": 1}, \"autotypenumbers\": \"strict\", \"coloraxis\": {\"colorbar\": {\"outlinewidth\": 0, \"ticks\": \"\"}}, \"colorscale\": {\"diverging\": [[0, \"#8e0152\"], [0.1, \"#c51b7d\"], [0.2, \"#de77ae\"], [0.3, \"#f1b6da\"], [0.4, \"#fde0ef\"], [0.5, \"#f7f7f7\"], [0.6, \"#e6f5d0\"], [0.7, \"#b8e186\"], [0.8, \"#7fbc41\"], [0.9, \"#4d9221\"], [1, \"#276419\"]], \"sequential\": [[0.0, \"#0d0887\"], [0.1111111111111111, \"#46039f\"], [0.2222222222222222, \"#7201a8\"], [0.3333333333333333, \"#9c179e\"], [0.4444444444444444, \"#bd3786\"], [0.5555555555555556, \"#d8576b\"], [0.6666666666666666, \"#ed7953\"], [0.7777777777777778, \"#fb9f3a\"], [0.8888888888888888, \"#fdca26\"], [1.0, \"#f0f921\"]], \"sequentialminus\": [[0.0, \"#0d0887\"], [0.1111111111111111, \"#46039f\"], [0.2222222222222222, \"#7201a8\"], [0.3333333333333333, \"#9c179e\"], [0.4444444444444444, \"#bd3786\"], [0.5555555555555556, \"#d8576b\"], [0.6666666666666666, \"#ed7953\"], [0.7777777777777778, \"#fb9f3a\"], [0.8888888888888888, \"#fdca26\"], [1.0, \"#f0f921\"]]}, \"colorway\": [\"#636efa\", \"#EF553B\", \"#00cc96\", \"#ab63fa\", \"#FFA15A\", \"#19d3f3\", \"#FF6692\", \"#B6E880\", \"#FF97FF\", \"#FECB52\"], \"font\": {\"color\": \"#2a3f5f\"}, \"geo\": {\"bgcolor\": \"white\", \"lakecolor\": \"white\", \"landcolor\": \"#E5ECF6\", \"showlakes\": true, \"showland\": true, \"subunitcolor\": \"white\"}, \"hoverlabel\": {\"align\": \"left\"}, \"hovermode\": \"closest\", \"mapbox\": {\"style\": \"light\"}, \"paper_bgcolor\": \"white\", \"plot_bgcolor\": \"#E5ECF6\", \"polar\": {\"angularaxis\": {\"gridcolor\": \"white\", \"linecolor\": \"white\", \"ticks\": \"\"}, \"bgcolor\": \"#E5ECF6\", \"radialaxis\": {\"gridcolor\": \"white\", \"linecolor\": \"white\", \"ticks\": \"\"}}, \"scene\": {\"xaxis\": {\"backgroundcolor\": \"#E5ECF6\", \"gridcolor\": \"white\", \"gridwidth\": 2, \"linecolor\": \"white\", \"showbackground\": true, \"ticks\": \"\", \"zerolinecolor\": \"white\"}, \"yaxis\": {\"backgroundcolor\": \"#E5ECF6\", \"gridcolor\": \"white\", \"gridwidth\": 2, \"linecolor\": \"white\", \"showbackground\": true, \"ticks\": \"\", \"zerolinecolor\": \"white\"}, \"zaxis\": {\"backgroundcolor\": \"#E5ECF6\", \"gridcolor\": \"white\", \"gridwidth\": 2, \"linecolor\": \"white\", \"showbackground\": true, \"ticks\": \"\", \"zerolinecolor\": \"white\"}}, \"shapedefaults\": {\"line\": {\"color\": \"#2a3f5f\"}}, \"ternary\": {\"aaxis\": {\"gridcolor\": \"white\", \"linecolor\": \"white\", \"ticks\": \"\"}, \"baxis\": {\"gridcolor\": \"white\", \"linecolor\": \"white\", \"ticks\": \"\"}, \"bgcolor\": \"#E5ECF6\", \"caxis\": {\"gridcolor\": \"white\", \"linecolor\": \"white\", \"ticks\": \"\"}}, \"title\": {\"x\": 0.05}, \"xaxis\": {\"automargin\": true, \"gridcolor\": \"white\", \"linecolor\": \"white\", \"ticks\": \"\", \"title\": {\"standoff\": 15}, \"zerolinecolor\": \"white\", \"zerolinewidth\": 2}, \"yaxis\": {\"automargin\": true, \"gridcolor\": \"white\", \"linecolor\": \"white\", \"ticks\": \"\", \"title\": {\"standoff\": 15}, \"zerolinecolor\": \"white\", \"zerolinewidth\": 2}}}, \"width\": 920, \"xaxis\": {\"tickangle\": -45}},                        {\"responsive\": true}                    ).then(function(){\n",
       "                            \n",
       "var gd = document.getElementById('887c27f4-90a9-4051-b75b-4560a48e1723');\n",
       "var x = new MutationObserver(function (mutations, observer) {{\n",
       "        var display = window.getComputedStyle(gd).display;\n",
       "        if (!display || display === 'none') {{\n",
       "            console.log([gd, 'removed!']);\n",
       "            Plotly.purge(gd);\n",
       "            observer.disconnect();\n",
       "        }}\n",
       "}});\n",
       "\n",
       "// Listen for the removal of the full notebook cells\n",
       "var notebookContainer = gd.closest('#notebook-container');\n",
       "if (notebookContainer) {{\n",
       "    x.observe(notebookContainer, {childList: true});\n",
       "}}\n",
       "\n",
       "// Listen for the clearing of the current output cell\n",
       "var outputEl = gd.closest('.output');\n",
       "if (outputEl) {{\n",
       "    x.observe(outputEl, {childList: true});\n",
       "}}\n",
       "\n",
       "                        })                };                });            </script>        </div>"
      ]
     },
     "metadata": {},
     "output_type": "display_data"
    }
   ],
   "source": [
    "div_vs_precio = reporte.resultados()[['DIVIDENDOS', 'REV. ACCIONES']]\n",
    "div_vs_precio[\"REV. ACCIONES\"] -= monto_invertido / num_activos\n",
    "\n",
    "cias = div_vs_precio.index\n",
    "\n",
    "fig2 = go.Figure()\n",
    "fig2.add_trace(go.Bar(\n",
    "    x=cias,\n",
    "    y=div_vs_precio['DIVIDENDOS'],\n",
    "    name='Dividendos',\n",
    "    marker_color='aqua'\n",
    "))\n",
    "fig2.add_trace(go.Bar(\n",
    "    x=cias,\n",
    "    y=div_vs_precio['REV. ACCIONES'],\n",
    "    name='Rev.Precio',\n",
    "    marker_color='deeppink'\n",
    "))\n",
    "\n",
    "\n",
    "fig2.update_layout(barmode='group', xaxis_tickangle=-45, height=600, width=920, legend=dict(yanchor=\"top\",\n",
    "    y=0.99, xanchor=\"left\",x=0.01))\n",
    "fig2.update_traces( hovertemplate = '%{y:$.0f}<extra></extra>')\n",
    "fig2.show()"
   ]
  },
  {
   "cell_type": "markdown",
   "metadata": {},
   "source": [
    "## Comparación con otras alternativas de inversión\n",
    "\n",
    "Para evaluar mejor el desempeño de las principales acciones de compañias ecuatorianas en la decada pasada, lo debemos hacer comparando con otra/s alternativa/s que hubiesen sido posibles. Como se trata de renta variable las compararemos con los principales indices bursátiles de la bolsa estadounidense."
   ]
  },
  {
   "cell_type": "markdown",
   "metadata": {},
   "source": [
    "|      INDICES ACCIONARIOS     | TICKER |\n",
    "|------------------------------|--------|\n",
    "| S&P 500                      | ^GSPC  |\n",
    "| Dow Jones Industrial Average | ^DJI   |\n",
    "| NASDAQ Composite             | ^IXIC  |\n",
    "| NASDAQ 100                   | ^NDX   |"
   ]
  },
  {
   "cell_type": "code",
   "execution_count": 28,
   "metadata": {},
   "outputs": [],
   "source": [
    "import pandas_datareader as pdr\n",
    "\n",
    "us_indices = ['^GSPC', '^DJI', '^IXIC', '^NDX']\n",
    "data = pdr.get_data_yahoo(us_indices, start=inicio, end=fin, interval = 'd')['Adj Close']"
   ]
  },
  {
   "cell_type": "code",
   "execution_count": 29,
   "metadata": {},
   "outputs": [],
   "source": [
    "def balance_cias(seleccion):\n",
    "\n",
    "    balances = pd.DataFrame()\n",
    "    lista_flujos = []\n",
    "    \n",
    "    for emisor in seleccion:\n",
    "\n",
    "        df = reporte.balance(emisor)\n",
    "        df['REINVERSION'] = df['DIVIDENDO'] / df['PRECIO']\n",
    "        df['TOTAL.ACCIONES'] = df['ACC.POS'] + df['REINVERSION'].cumsum() * df['SPLIT'].cumprod()\n",
    "        df['BALANCE.AJUST'] = df['PRECIO'] * df['TOTAL.ACCIONES']\n",
    "        lista_flujos.append(df['BALANCE.AJUST'].rename(emisor))\n",
    "\n",
    "    return balances.append(lista_flujos).T"
   ]
  },
  {
   "cell_type": "code",
   "execution_count": 30,
   "metadata": {},
   "outputs": [
    {
     "data": {
      "text/html": [
       "\n",
       "    <div class=\"bk-root\">\n",
       "        <a href=\"https://bokeh.org\" target=\"_blank\" class=\"bk-logo bk-logo-small bk-logo-notebook\"></a>\n",
       "        <span id=\"1002\">Loading BokehJS ...</span>\n",
       "    </div>"
      ]
     },
     "metadata": {},
     "output_type": "display_data"
    },
    {
     "data": {
      "application/javascript": [
       "\n",
       "(function(root) {\n",
       "  function now() {\n",
       "    return new Date();\n",
       "  }\n",
       "\n",
       "  var force = true;\n",
       "\n",
       "  if (typeof root._bokeh_onload_callbacks === \"undefined\" || force === true) {\n",
       "    root._bokeh_onload_callbacks = [];\n",
       "    root._bokeh_is_loading = undefined;\n",
       "  }\n",
       "\n",
       "  var JS_MIME_TYPE = 'application/javascript';\n",
       "  var HTML_MIME_TYPE = 'text/html';\n",
       "  var EXEC_MIME_TYPE = 'application/vnd.bokehjs_exec.v0+json';\n",
       "  var CLASS_NAME = 'output_bokeh rendered_html';\n",
       "\n",
       "  /**\n",
       "   * Render data to the DOM node\n",
       "   */\n",
       "  function render(props, node) {\n",
       "    var script = document.createElement(\"script\");\n",
       "    node.appendChild(script);\n",
       "  }\n",
       "\n",
       "  /**\n",
       "   * Handle when an output is cleared or removed\n",
       "   */\n",
       "  function handleClearOutput(event, handle) {\n",
       "    var cell = handle.cell;\n",
       "\n",
       "    var id = cell.output_area._bokeh_element_id;\n",
       "    var server_id = cell.output_area._bokeh_server_id;\n",
       "    // Clean up Bokeh references\n",
       "    if (id != null && id in Bokeh.index) {\n",
       "      Bokeh.index[id].model.document.clear();\n",
       "      delete Bokeh.index[id];\n",
       "    }\n",
       "\n",
       "    if (server_id !== undefined) {\n",
       "      // Clean up Bokeh references\n",
       "      var cmd = \"from bokeh.io.state import curstate; print(curstate().uuid_to_server['\" + server_id + \"'].get_sessions()[0].document.roots[0]._id)\";\n",
       "      cell.notebook.kernel.execute(cmd, {\n",
       "        iopub: {\n",
       "          output: function(msg) {\n",
       "            var id = msg.content.text.trim();\n",
       "            if (id in Bokeh.index) {\n",
       "              Bokeh.index[id].model.document.clear();\n",
       "              delete Bokeh.index[id];\n",
       "            }\n",
       "          }\n",
       "        }\n",
       "      });\n",
       "      // Destroy server and session\n",
       "      var cmd = \"import bokeh.io.notebook as ion; ion.destroy_server('\" + server_id + \"')\";\n",
       "      cell.notebook.kernel.execute(cmd);\n",
       "    }\n",
       "  }\n",
       "\n",
       "  /**\n",
       "   * Handle when a new output is added\n",
       "   */\n",
       "  function handleAddOutput(event, handle) {\n",
       "    var output_area = handle.output_area;\n",
       "    var output = handle.output;\n",
       "\n",
       "    // limit handleAddOutput to display_data with EXEC_MIME_TYPE content only\n",
       "    if ((output.output_type != \"display_data\") || (!Object.prototype.hasOwnProperty.call(output.data, EXEC_MIME_TYPE))) {\n",
       "      return\n",
       "    }\n",
       "\n",
       "    var toinsert = output_area.element.find(\".\" + CLASS_NAME.split(' ')[0]);\n",
       "\n",
       "    if (output.metadata[EXEC_MIME_TYPE][\"id\"] !== undefined) {\n",
       "      toinsert[toinsert.length - 1].firstChild.textContent = output.data[JS_MIME_TYPE];\n",
       "      // store reference to embed id on output_area\n",
       "      output_area._bokeh_element_id = output.metadata[EXEC_MIME_TYPE][\"id\"];\n",
       "    }\n",
       "    if (output.metadata[EXEC_MIME_TYPE][\"server_id\"] !== undefined) {\n",
       "      var bk_div = document.createElement(\"div\");\n",
       "      bk_div.innerHTML = output.data[HTML_MIME_TYPE];\n",
       "      var script_attrs = bk_div.children[0].attributes;\n",
       "      for (var i = 0; i < script_attrs.length; i++) {\n",
       "        toinsert[toinsert.length - 1].firstChild.setAttribute(script_attrs[i].name, script_attrs[i].value);\n",
       "        toinsert[toinsert.length - 1].firstChild.textContent = bk_div.children[0].textContent\n",
       "      }\n",
       "      // store reference to server id on output_area\n",
       "      output_area._bokeh_server_id = output.metadata[EXEC_MIME_TYPE][\"server_id\"];\n",
       "    }\n",
       "  }\n",
       "\n",
       "  function register_renderer(events, OutputArea) {\n",
       "\n",
       "    function append_mime(data, metadata, element) {\n",
       "      // create a DOM node to render to\n",
       "      var toinsert = this.create_output_subarea(\n",
       "        metadata,\n",
       "        CLASS_NAME,\n",
       "        EXEC_MIME_TYPE\n",
       "      );\n",
       "      this.keyboard_manager.register_events(toinsert);\n",
       "      // Render to node\n",
       "      var props = {data: data, metadata: metadata[EXEC_MIME_TYPE]};\n",
       "      render(props, toinsert[toinsert.length - 1]);\n",
       "      element.append(toinsert);\n",
       "      return toinsert\n",
       "    }\n",
       "\n",
       "    /* Handle when an output is cleared or removed */\n",
       "    events.on('clear_output.CodeCell', handleClearOutput);\n",
       "    events.on('delete.Cell', handleClearOutput);\n",
       "\n",
       "    /* Handle when a new output is added */\n",
       "    events.on('output_added.OutputArea', handleAddOutput);\n",
       "\n",
       "    /**\n",
       "     * Register the mime type and append_mime function with output_area\n",
       "     */\n",
       "    OutputArea.prototype.register_mime_type(EXEC_MIME_TYPE, append_mime, {\n",
       "      /* Is output safe? */\n",
       "      safe: true,\n",
       "      /* Index of renderer in `output_area.display_order` */\n",
       "      index: 0\n",
       "    });\n",
       "  }\n",
       "\n",
       "  // register the mime type if in Jupyter Notebook environment and previously unregistered\n",
       "  if (root.Jupyter !== undefined) {\n",
       "    var events = require('base/js/events');\n",
       "    var OutputArea = require('notebook/js/outputarea').OutputArea;\n",
       "\n",
       "    if (OutputArea.prototype.mime_types().indexOf(EXEC_MIME_TYPE) == -1) {\n",
       "      register_renderer(events, OutputArea);\n",
       "    }\n",
       "  }\n",
       "\n",
       "  \n",
       "  if (typeof (root._bokeh_timeout) === \"undefined\" || force === true) {\n",
       "    root._bokeh_timeout = Date.now() + 5000;\n",
       "    root._bokeh_failed_load = false;\n",
       "  }\n",
       "\n",
       "  var NB_LOAD_WARNING = {'data': {'text/html':\n",
       "     \"<div style='background-color: #fdd'>\\n\"+\n",
       "     \"<p>\\n\"+\n",
       "     \"BokehJS does not appear to have successfully loaded. If loading BokehJS from CDN, this \\n\"+\n",
       "     \"may be due to a slow or bad network connection. Possible fixes:\\n\"+\n",
       "     \"</p>\\n\"+\n",
       "     \"<ul>\\n\"+\n",
       "     \"<li>re-rerun `output_notebook()` to attempt to load from CDN again, or</li>\\n\"+\n",
       "     \"<li>use INLINE resources instead, as so:</li>\\n\"+\n",
       "     \"</ul>\\n\"+\n",
       "     \"<code>\\n\"+\n",
       "     \"from bokeh.resources import INLINE\\n\"+\n",
       "     \"output_notebook(resources=INLINE)\\n\"+\n",
       "     \"</code>\\n\"+\n",
       "     \"</div>\"}};\n",
       "\n",
       "  function display_loaded() {\n",
       "    var el = document.getElementById(\"1002\");\n",
       "    if (el != null) {\n",
       "      el.textContent = \"BokehJS is loading...\";\n",
       "    }\n",
       "    if (root.Bokeh !== undefined) {\n",
       "      if (el != null) {\n",
       "        el.textContent = \"BokehJS \" + root.Bokeh.version + \" successfully loaded.\";\n",
       "      }\n",
       "    } else if (Date.now() < root._bokeh_timeout) {\n",
       "      setTimeout(display_loaded, 100)\n",
       "    }\n",
       "  }\n",
       "\n",
       "\n",
       "  function run_callbacks() {\n",
       "    try {\n",
       "      root._bokeh_onload_callbacks.forEach(function(callback) {\n",
       "        if (callback != null)\n",
       "          callback();\n",
       "      });\n",
       "    } finally {\n",
       "      delete root._bokeh_onload_callbacks\n",
       "    }\n",
       "    console.debug(\"Bokeh: all callbacks have finished\");\n",
       "  }\n",
       "\n",
       "  function load_libs(css_urls, js_urls, callback) {\n",
       "    if (css_urls == null) css_urls = [];\n",
       "    if (js_urls == null) js_urls = [];\n",
       "\n",
       "    root._bokeh_onload_callbacks.push(callback);\n",
       "    if (root._bokeh_is_loading > 0) {\n",
       "      console.debug(\"Bokeh: BokehJS is being loaded, scheduling callback at\", now());\n",
       "      return null;\n",
       "    }\n",
       "    if (js_urls == null || js_urls.length === 0) {\n",
       "      run_callbacks();\n",
       "      return null;\n",
       "    }\n",
       "    console.debug(\"Bokeh: BokehJS not loaded, scheduling load and callback at\", now());\n",
       "    root._bokeh_is_loading = css_urls.length + js_urls.length;\n",
       "\n",
       "    function on_load() {\n",
       "      root._bokeh_is_loading--;\n",
       "      if (root._bokeh_is_loading === 0) {\n",
       "        console.debug(\"Bokeh: all BokehJS libraries/stylesheets loaded\");\n",
       "        run_callbacks()\n",
       "      }\n",
       "    }\n",
       "\n",
       "    function on_error(url) {\n",
       "      console.error(\"failed to load \" + url);\n",
       "    }\n",
       "\n",
       "    for (let i = 0; i < css_urls.length; i++) {\n",
       "      const url = css_urls[i];\n",
       "      const element = document.createElement(\"link\");\n",
       "      element.onload = on_load;\n",
       "      element.onerror = on_error.bind(null, url);\n",
       "      element.rel = \"stylesheet\";\n",
       "      element.type = \"text/css\";\n",
       "      element.href = url;\n",
       "      console.debug(\"Bokeh: injecting link tag for BokehJS stylesheet: \", url);\n",
       "      document.body.appendChild(element);\n",
       "    }\n",
       "\n",
       "    const hashes = {\"https://cdn.bokeh.org/bokeh/release/bokeh-2.3.2.min.js\": \"XypntL49z55iwGVUW4qsEu83zKL3XEcz0MjuGOQ9SlaaQ68X/g+k1FcioZi7oQAc\", \"https://cdn.bokeh.org/bokeh/release/bokeh-tables-2.3.2.min.js\": \"bEsM86IHGDTLCS0Zod8a8WM6Y4+lafAL/eSiyQcuPzinmWNgNO2/olUF0Z2Dkn5i\", \"https://cdn.bokeh.org/bokeh/release/bokeh-widgets-2.3.2.min.js\": \"TX0gSQTdXTTeScqxj6PVQxTiRW8DOoGVwinyi1D3kxv7wuxQ02XkOxv0xwiypcAH\"};\n",
       "\n",
       "    for (let i = 0; i < js_urls.length; i++) {\n",
       "      const url = js_urls[i];\n",
       "      const element = document.createElement('script');\n",
       "      element.onload = on_load;\n",
       "      element.onerror = on_error.bind(null, url);\n",
       "      element.async = false;\n",
       "      element.src = url;\n",
       "      if (url in hashes) {\n",
       "        element.crossOrigin = \"anonymous\";\n",
       "        element.integrity = \"sha384-\" + hashes[url];\n",
       "      }\n",
       "      console.debug(\"Bokeh: injecting script tag for BokehJS library: \", url);\n",
       "      document.head.appendChild(element);\n",
       "    }\n",
       "  };\n",
       "\n",
       "  function inject_raw_css(css) {\n",
       "    const element = document.createElement(\"style\");\n",
       "    element.appendChild(document.createTextNode(css));\n",
       "    document.body.appendChild(element);\n",
       "  }\n",
       "\n",
       "  \n",
       "  var js_urls = [\"https://cdn.bokeh.org/bokeh/release/bokeh-2.3.2.min.js\", \"https://cdn.bokeh.org/bokeh/release/bokeh-widgets-2.3.2.min.js\", \"https://cdn.bokeh.org/bokeh/release/bokeh-tables-2.3.2.min.js\"];\n",
       "  var css_urls = [];\n",
       "  \n",
       "\n",
       "  var inline_js = [\n",
       "    function(Bokeh) {\n",
       "      Bokeh.set_log_level(\"info\");\n",
       "    },\n",
       "    function(Bokeh) {\n",
       "    \n",
       "    \n",
       "    }\n",
       "  ];\n",
       "\n",
       "  function run_inline_js() {\n",
       "    \n",
       "    if (root.Bokeh !== undefined || force === true) {\n",
       "      \n",
       "    for (var i = 0; i < inline_js.length; i++) {\n",
       "      inline_js[i].call(root, root.Bokeh);\n",
       "    }\n",
       "    if (force === true) {\n",
       "        display_loaded();\n",
       "      }} else if (Date.now() < root._bokeh_timeout) {\n",
       "      setTimeout(run_inline_js, 100);\n",
       "    } else if (!root._bokeh_failed_load) {\n",
       "      console.log(\"Bokeh: BokehJS failed to load within specified timeout.\");\n",
       "      root._bokeh_failed_load = true;\n",
       "    } else if (force !== true) {\n",
       "      var cell = $(document.getElementById(\"1002\")).parents('.cell').data().cell;\n",
       "      cell.output_area.append_execute_result(NB_LOAD_WARNING)\n",
       "    }\n",
       "\n",
       "  }\n",
       "\n",
       "  if (root._bokeh_is_loading === 0) {\n",
       "    console.debug(\"Bokeh: BokehJS loaded, going straight to plotting\");\n",
       "    run_inline_js();\n",
       "  } else {\n",
       "    load_libs(css_urls, js_urls, function() {\n",
       "      console.debug(\"Bokeh: BokehJS plotting callback run at\", now());\n",
       "      run_inline_js();\n",
       "    });\n",
       "  }\n",
       "}(window));"
      ],
      "application/vnd.bokehjs_load.v0+json": "\n(function(root) {\n  function now() {\n    return new Date();\n  }\n\n  var force = true;\n\n  if (typeof root._bokeh_onload_callbacks === \"undefined\" || force === true) {\n    root._bokeh_onload_callbacks = [];\n    root._bokeh_is_loading = undefined;\n  }\n\n  \n\n  \n  if (typeof (root._bokeh_timeout) === \"undefined\" || force === true) {\n    root._bokeh_timeout = Date.now() + 5000;\n    root._bokeh_failed_load = false;\n  }\n\n  var NB_LOAD_WARNING = {'data': {'text/html':\n     \"<div style='background-color: #fdd'>\\n\"+\n     \"<p>\\n\"+\n     \"BokehJS does not appear to have successfully loaded. If loading BokehJS from CDN, this \\n\"+\n     \"may be due to a slow or bad network connection. Possible fixes:\\n\"+\n     \"</p>\\n\"+\n     \"<ul>\\n\"+\n     \"<li>re-rerun `output_notebook()` to attempt to load from CDN again, or</li>\\n\"+\n     \"<li>use INLINE resources instead, as so:</li>\\n\"+\n     \"</ul>\\n\"+\n     \"<code>\\n\"+\n     \"from bokeh.resources import INLINE\\n\"+\n     \"output_notebook(resources=INLINE)\\n\"+\n     \"</code>\\n\"+\n     \"</div>\"}};\n\n  function display_loaded() {\n    var el = document.getElementById(\"1002\");\n    if (el != null) {\n      el.textContent = \"BokehJS is loading...\";\n    }\n    if (root.Bokeh !== undefined) {\n      if (el != null) {\n        el.textContent = \"BokehJS \" + root.Bokeh.version + \" successfully loaded.\";\n      }\n    } else if (Date.now() < root._bokeh_timeout) {\n      setTimeout(display_loaded, 100)\n    }\n  }\n\n\n  function run_callbacks() {\n    try {\n      root._bokeh_onload_callbacks.forEach(function(callback) {\n        if (callback != null)\n          callback();\n      });\n    } finally {\n      delete root._bokeh_onload_callbacks\n    }\n    console.debug(\"Bokeh: all callbacks have finished\");\n  }\n\n  function load_libs(css_urls, js_urls, callback) {\n    if (css_urls == null) css_urls = [];\n    if (js_urls == null) js_urls = [];\n\n    root._bokeh_onload_callbacks.push(callback);\n    if (root._bokeh_is_loading > 0) {\n      console.debug(\"Bokeh: BokehJS is being loaded, scheduling callback at\", now());\n      return null;\n    }\n    if (js_urls == null || js_urls.length === 0) {\n      run_callbacks();\n      return null;\n    }\n    console.debug(\"Bokeh: BokehJS not loaded, scheduling load and callback at\", now());\n    root._bokeh_is_loading = css_urls.length + js_urls.length;\n\n    function on_load() {\n      root._bokeh_is_loading--;\n      if (root._bokeh_is_loading === 0) {\n        console.debug(\"Bokeh: all BokehJS libraries/stylesheets loaded\");\n        run_callbacks()\n      }\n    }\n\n    function on_error(url) {\n      console.error(\"failed to load \" + url);\n    }\n\n    for (let i = 0; i < css_urls.length; i++) {\n      const url = css_urls[i];\n      const element = document.createElement(\"link\");\n      element.onload = on_load;\n      element.onerror = on_error.bind(null, url);\n      element.rel = \"stylesheet\";\n      element.type = \"text/css\";\n      element.href = url;\n      console.debug(\"Bokeh: injecting link tag for BokehJS stylesheet: \", url);\n      document.body.appendChild(element);\n    }\n\n    const hashes = {\"https://cdn.bokeh.org/bokeh/release/bokeh-2.3.2.min.js\": \"XypntL49z55iwGVUW4qsEu83zKL3XEcz0MjuGOQ9SlaaQ68X/g+k1FcioZi7oQAc\", \"https://cdn.bokeh.org/bokeh/release/bokeh-tables-2.3.2.min.js\": \"bEsM86IHGDTLCS0Zod8a8WM6Y4+lafAL/eSiyQcuPzinmWNgNO2/olUF0Z2Dkn5i\", \"https://cdn.bokeh.org/bokeh/release/bokeh-widgets-2.3.2.min.js\": \"TX0gSQTdXTTeScqxj6PVQxTiRW8DOoGVwinyi1D3kxv7wuxQ02XkOxv0xwiypcAH\"};\n\n    for (let i = 0; i < js_urls.length; i++) {\n      const url = js_urls[i];\n      const element = document.createElement('script');\n      element.onload = on_load;\n      element.onerror = on_error.bind(null, url);\n      element.async = false;\n      element.src = url;\n      if (url in hashes) {\n        element.crossOrigin = \"anonymous\";\n        element.integrity = \"sha384-\" + hashes[url];\n      }\n      console.debug(\"Bokeh: injecting script tag for BokehJS library: \", url);\n      document.head.appendChild(element);\n    }\n  };\n\n  function inject_raw_css(css) {\n    const element = document.createElement(\"style\");\n    element.appendChild(document.createTextNode(css));\n    document.body.appendChild(element);\n  }\n\n  \n  var js_urls = [\"https://cdn.bokeh.org/bokeh/release/bokeh-2.3.2.min.js\", \"https://cdn.bokeh.org/bokeh/release/bokeh-widgets-2.3.2.min.js\", \"https://cdn.bokeh.org/bokeh/release/bokeh-tables-2.3.2.min.js\"];\n  var css_urls = [];\n  \n\n  var inline_js = [\n    function(Bokeh) {\n      Bokeh.set_log_level(\"info\");\n    },\n    function(Bokeh) {\n    \n    \n    }\n  ];\n\n  function run_inline_js() {\n    \n    if (root.Bokeh !== undefined || force === true) {\n      \n    for (var i = 0; i < inline_js.length; i++) {\n      inline_js[i].call(root, root.Bokeh);\n    }\n    if (force === true) {\n        display_loaded();\n      }} else if (Date.now() < root._bokeh_timeout) {\n      setTimeout(run_inline_js, 100);\n    } else if (!root._bokeh_failed_load) {\n      console.log(\"Bokeh: BokehJS failed to load within specified timeout.\");\n      root._bokeh_failed_load = true;\n    } else if (force !== true) {\n      var cell = $(document.getElementById(\"1002\")).parents('.cell').data().cell;\n      cell.output_area.append_execute_result(NB_LOAD_WARNING)\n    }\n\n  }\n\n  if (root._bokeh_is_loading === 0) {\n    console.debug(\"Bokeh: BokehJS loaded, going straight to plotting\");\n    run_inline_js();\n  } else {\n    load_libs(css_urls, js_urls, function() {\n      console.debug(\"Bokeh: BokehJS plotting callback run at\", now());\n      run_inline_js();\n    });\n  }\n}(window));"
     },
     "metadata": {},
     "output_type": "display_data"
    },
    {
     "data": {
      "text/html": [
       "\n",
       "\n",
       "\n",
       "\n",
       "\n",
       "\n",
       "  <div class=\"bk-root\" id=\"7102bff7-8852-4a65-8dc9-a20b9db02b4a\" data-root-id=\"1003\"></div>\n"
      ]
     },
     "metadata": {},
     "output_type": "display_data"
    },
    {
     "data": {
      "application/javascript": [
       "(function(root) {\n",
       "  function embed_document(root) {\n",
       "    \n",
       "  var docs_json = {\"af2fe0f3-9896-463e-a283-74289e87e9ed\":{\"defs\":[],\"roots\":{\"references\":[{\"attributes\":{\"below\":[{\"id\":\"1014\"}],\"center\":[{\"id\":\"1017\"},{\"id\":\"1021\"},{\"id\":\"1064\"}],\"height\":480,\"left\":[{\"id\":\"1018\"}],\"output_backend\":\"webgl\",\"renderers\":[{\"id\":\"1040\"},{\"id\":\"1072\"},{\"id\":\"1105\"},{\"id\":\"1140\"},{\"id\":\"1177\"}],\"sizing_mode\":\"fixed\",\"title\":{\"id\":\"1004\"},\"toolbar\":{\"id\":\"1029\"},\"width\":800,\"x_range\":{\"id\":\"1006\"},\"x_scale\":{\"id\":\"1010\"},\"y_range\":{\"id\":\"1008\"},\"y_scale\":{\"id\":\"1012\"}},\"id\":\"1003\",\"subtype\":\"Figure\",\"type\":\"Plot\"},{\"attributes\":{\"click_policy\":\"hide\",\"items\":[{\"id\":\"1065\"},{\"id\":\"1098\"},{\"id\":\"1133\"},{\"id\":\"1170\"},{\"id\":\"1209\"}],\"location\":\"top_left\"},\"id\":\"1064\",\"type\":\"Legend\"},{\"attributes\":{},\"id\":\"1047\",\"type\":\"AllLabels\"},{\"attributes\":{},\"id\":\"1130\",\"type\":\"UnionRenderers\"},{\"attributes\":{\"label\":{\"value\":\" EMP. EC\"},\"renderers\":[{\"id\":\"1040\"}]},\"id\":\"1065\",\"type\":\"LegendItem\"},{\"attributes\":{},\"id\":\"1206\",\"type\":\"UnionRenderers\"},{\"attributes\":{},\"id\":\"1048\",\"type\":\"BasicTickFormatter\"},{\"attributes\":{},\"id\":\"1131\",\"type\":\"Selection\"},{\"attributes\":{},\"id\":\"1207\",\"type\":\"Selection\"},{\"attributes\":{\"mantissas\":[1,2,5],\"max_interval\":500.0,\"num_minor_ticks\":0},\"id\":\"1049\",\"type\":\"AdaptiveTicker\"},{\"attributes\":{\"base\":60,\"mantissas\":[1,2,5,10,15,20,30],\"max_interval\":1800000.0,\"min_interval\":1000.0,\"num_minor_ticks\":0},\"id\":\"1050\",\"type\":\"AdaptiveTicker\"},{\"attributes\":{\"bottom_units\":\"screen\",\"fill_alpha\":0.5,\"fill_color\":\"lightgrey\",\"left_units\":\"screen\",\"level\":\"overlay\",\"line_alpha\":1.0,\"line_color\":\"black\",\"line_dash\":[4,4],\"line_width\":2,\"right_units\":\"screen\",\"syncable\":false,\"top_units\":\"screen\"},\"id\":\"1028\",\"type\":\"BoxAnnotation\"},{\"attributes\":{\"days\":[1,2,3,4,5,6,7,8,9,10,11,12,13,14,15,16,17,18,19,20,21,22,23,24,25,26,27,28,29,30,31]},\"id\":\"1052\",\"type\":\"DaysTicker\"},{\"attributes\":{\"base\":24,\"mantissas\":[1,2,4,6,8,12],\"max_interval\":43200000.0,\"min_interval\":3600000.0,\"num_minor_ticks\":0},\"id\":\"1051\",\"type\":\"AdaptiveTicker\"},{\"attributes\":{\"months\":[0,1,2,3,4,5,6,7,8,9,10,11]},\"id\":\"1056\",\"type\":\"MonthsTicker\"},{\"attributes\":{\"months\":[0,2,4,6,8,10]},\"id\":\"1057\",\"type\":\"MonthsTicker\"},{\"attributes\":{\"days\":[1,4,7,10,13,16,19,22,25,28]},\"id\":\"1053\",\"type\":\"DaysTicker\"},{\"attributes\":{\"days\":[1,15]},\"id\":\"1055\",\"type\":\"DaysTicker\"},{\"attributes\":{\"months\":[0,6]},\"id\":\"1059\",\"type\":\"MonthsTicker\"},{\"attributes\":{\"days\":[1,8,15,22]},\"id\":\"1054\",\"type\":\"DaysTicker\"},{\"attributes\":{},\"id\":\"1060\",\"type\":\"YearsTicker\"},{\"attributes\":{},\"id\":\"1012\",\"type\":\"LinearScale\"},{\"attributes\":{\"months\":[0,4,8]},\"id\":\"1058\",\"type\":\"MonthsTicker\"},{\"attributes\":{\"ticks\":[0,0.25,0.5,0.75,1]},\"id\":\"1212\",\"type\":\"FixedTicker\"},{\"attributes\":{\"data_source\":{\"id\":\"1136\"},\"glyph\":{\"id\":\"1138\"},\"hover_glyph\":null,\"muted_glyph\":null,\"nonselection_glyph\":{\"id\":\"1139\"},\"view\":{\"id\":\"1141\"}},\"id\":\"1140\",\"type\":\"GlyphRenderer\"},{\"attributes\":{\"data\":{\"DOW JONES\":{\"__ndarray__\":\"AAAAAAAAAAAAAAAAAAAAAEBi+owfuJo/wOUsuZe2qT8AGEn+cN+ZP4CO6Hl2/oY/kEk6UZwJqL9wtJCAMtGgv8DLrh1nt5k/AMtK0kuEnj9gYsWs7yytP4BxXbDwbJ8/AATw8Mw5qD/AAXrLkKK1P0BM9ryaIKY/YFnq0MCysz8QwkJ1/gWyPzA/fDDL47w/yLQApjtXwD/A2Z5ok/7DP5AMEfL1JcI/8J7jX6T9t79Ayw/QOEOxvyATKaQY/py/oHg2VHA4pj/AlQGoTtqsP/AVAxabI70/YOsCX8s8vD8gMQfcrgW/PwB3jMe5PsU/eLtTEMl+yj8ge1nbXvHNP6AjjUoXKNA/cGWha6by0j/QZKPaoJzWP1ifroP2ztc/qLAQadHb1z8=\",\"dtype\":\"float64\",\"order\":\"little\",\"shape\":[37]},\"EMP. EC\":{\"__ndarray__\":\"AAAAAAAAAACA11DZegKEPwD3zhDEX50/APfOEMRfnT8A984QxF+dPwD3zhDEX50/QCzsYjeAoT+gD/klIHa3P6AP+SUgdrc/GDRnXVCBxj94eGYn+YPHP8hAfQXoPcs/yEB9Beg9yz/QCgEnQR3LP9AKASdBHcs/0AoBJ0Edyz/QCgEnQR3LP+BKhc70Hc4/OG+LeRf3zD/Y/VPAMh7RP9j9U8AyHtE/zNSo5lMx0j/cjPba2Y/VP5AcEBOrYdM/EDk+u1a+0z/AOeDq6CnUP8A54OroKdQ/wDng6ugp1D/AOeDq6CnUP8A54OroKdQ/wDng6ugp1D9EdQRDIK7YP0R1BEMgrtg/NBzdbDW51z+I03zIVE/OP4jTfMhUT84/iNN8yFRPzj8=\",\"dtype\":\"float64\",\"order\":\"little\",\"shape\":[37]},\"NASDAQ 100\":{\"__ndarray__\":\"AAAAAAAAAAAAAAAAAAAAAEBaRAFF9ZU/gPQmq+Q7oD9Aju3re4yRv9AJEgiM/K6/kMFB5S0FvL94kUId2763v9DacVM9VqO/gBbvEVvUd7+gs/Cn3YmpPwAKAwpq35k/gL2LnJBDnT+AGegb1Be1P+DtlBd+rKY/8AJYWIQmsj8A0+l2WsGzP+AuhJ2/U8E/kDSwFgqXxT9IJm6ae23OP4hxr6e4jNE/0EUSkIDnsj8Yf5ncPAHEP2hgC33ew9A/kHWs8MbS1j+cfvEeZXzdP2iqedsxBuI/2MED5EGx4T/GhbXkCOXiPwCifke3KOQ/KGUnpfJa5z90D6GUNjnpPxC5NFIoF+s/cF46Ni+T6D+8kHVQuKnsPxJbhd3TE+s//kziF1qu7T8=\",\"dtype\":\"float64\",\"order\":\"little\",\"shape\":[37]},\"NASDAQ Composite\":{\"__ndarray__\":\"AAAAAAAAAAAAAAAAAAAAAMDeCE/U3pE/QEgNxK7knT8gqK3nb1Wev7C1pj35L7G/KN6iypQbv79Q8xb/dKa5v8Dfhz7kkaW/gNiQ98fUkL+AkvOUKW2fPwDllOvYUnk/gNX6HVwcgj8gpinuhJ6tP8AbvUjKVpQ/IA4D6lHWpT+Ax0+nA0ilP2DlBh4ZG7k/uN2R6yzcwD9YLTi/Sl3IP7DHvLLfbMs/ALBQFN4zYD9g2RFnr6yxP3BfHJHRQcY/4D8/Pu0v0T+gSIzHvqHWP8CS5uSHgtw/wNoAAXF92z+0KERSblneP+Zr9ywYqOA/Dkrm1PAO5D+Ez5xsVWbmP8xk6ZMHrOg/FPXBoopT5j8Adk6sNVjpP4hQWxWsxuc/hPFrDvon6j8=\",\"dtype\":\"float64\",\"order\":\"little\",\"shape\":[37]},\"S&P 500\":{\"__ndarray__\":\"AAAAAAAAAAAAAAAAAAAAAMAH+8gchpc/IHBdmm/Eoz8AYO9Zjftnv6AHpJMqz5m/aPNS7pu9tL/oSMDwTxGxv0DqXH7AbYy/ADwxq25Sbj+geo52UjCkP4CHvNrbYZY/QEDwk6SwoT8AnNeYvo2yP0AxWFFqBqM/cFHJF1BGsT8AtNacMt2wPwA5Y7ndhbw/OLxdYKONwT+IDH0+ojPGPzAaW8c1KcY/QMjHgyXjqb9AF7LgNjeHv+Acfk8GFqc/0NLXByeAvD+AQHr4uPfCPzCgyK8DZ8s/EBWdp8czyj8Qa1LLl6PMP6SoaqvtTdE/hHleCQuo1D8gYo/vW+nWP6DF5LNU99g/gFzKJyCW2T8Q/r8D797eP1CnUKxde98/brdUYdOM4D8=\",\"dtype\":\"float64\",\"order\":\"little\",\"shape\":[37]},\"__x__values\":{\"__ndarray__\":\"AAAA1N9EdkIAAEAm2k52QgAAgHjUWHZCAAAAZXxidkIAAEC3dmx2QgAAwKMednZCAAAA9hiAdkIAAEBIE4p2QgAAQGkWk3ZCAACAuxCddkIAAACouKZ2QgAAQPqysHZCAADA5lq6dkIAAAA5VcR2QgAAQItPznZCAADAd/fXdkIAAADK8eF2QgAAgLaZ63ZCAADACJT1dkIAAABbjv92QgAAwOHjCHdCAAAANN4Sd0IAAIAghhx3QgAAwHKAJndCAABAXygwd0IAAICxIjp3QgAAwAMdRHdCAABA8MRNd0IAAIBCv1d3QgAAAC9nYXdCAABAgWFrd0IAAIDTW3V3QgAAgPRefndCAADARlmId0IAAEAzAZJ3QgAAgIX7m3dCAAAAcqOld0I=\",\"dtype\":\"float64\",\"order\":\"little\",\"shape\":[37]},\"__x__values_original\":{\"__ndarray__\":\"AAAA1N9EdkIAAEAm2k52QgAAgHjUWHZCAAAAZXxidkIAAEC3dmx2QgAAwKMednZCAAAA9hiAdkIAAEBIE4p2QgAAQGkWk3ZCAACAuxCddkIAAACouKZ2QgAAQPqysHZCAADA5lq6dkIAAAA5VcR2QgAAQItPznZCAADAd/fXdkIAAADK8eF2QgAAgLaZ63ZCAADACJT1dkIAAABbjv92QgAAwOHjCHdCAAAANN4Sd0IAAIAghhx3QgAAwHKAJndCAABAXygwd0IAAICxIjp3QgAAwAMdRHdCAABA8MRNd0IAAIBCv1d3QgAAAC9nYXdCAABAgWFrd0IAAIDTW3V3QgAAgPRefndCAADARlmId0IAAEAzAZJ3QgAAgIX7m3dCAAAAcqOld0I=\",\"dtype\":\"float64\",\"order\":\"little\",\"shape\":[37]}},\"selected\":{\"id\":\"1168\"},\"selection_policy\":{\"id\":\"1167\"}},\"id\":\"1136\",\"type\":\"ColumnDataSource\"},{\"attributes\":{\"line_color\":\"orange\",\"line_width\":2,\"x\":{\"field\":\"__x__values\"},\"y\":{\"field\":\"NASDAQ Composite\"}},\"id\":\"1138\",\"type\":\"Line\"},{\"attributes\":{\"line_alpha\":0.1,\"line_color\":\"orange\",\"line_width\":2,\"x\":{\"field\":\"__x__values\"},\"y\":{\"field\":\"NASDAQ Composite\"}},\"id\":\"1139\",\"type\":\"Line\"},{\"attributes\":{\"source\":{\"id\":\"1136\"}},\"id\":\"1141\",\"type\":\"CDSView\"},{\"attributes\":{\"label\":{\"value\":\" NASDAQ Composite\"},\"renderers\":[{\"id\":\"1140\"}]},\"id\":\"1170\",\"type\":\"LegendItem\"},{\"attributes\":{},\"id\":\"1061\",\"type\":\"UnionRenderers\"},{\"attributes\":{\"days\":[\"%d %B %Y\"],\"hours\":[\"%H:%M:%S\"],\"milliseconds\":[\"%H:%M:%S.%f\"],\"minutes\":[\"%H:%M:%S\"],\"months\":[\"%d %B %Y\"],\"seconds\":[\"%H:%M:%S\"],\"years\":[\"%d %B %Y\"]},\"id\":\"1214\",\"type\":\"DatetimeTickFormatter\"},{\"attributes\":{},\"id\":\"1062\",\"type\":\"Selection\"},{\"attributes\":{},\"id\":\"1167\",\"type\":\"UnionRenderers\"},{\"attributes\":{\"callback\":null,\"formatters\":{\"@__x__values_original\":\"datetime\"},\"mode\":\"vline\",\"renderers\":[{\"id\":\"1040\"}],\"tooltips\":[[\"Fecha\",\"@__x__values_original{%F}\"],[\"EMP. EC\",\"@{EMP. EC}{1%}\"]]},\"id\":\"1066\",\"type\":\"HoverTool\"},{\"attributes\":{\"data\":{\"DOW JONES\":{\"__ndarray__\":\"AAAAAAAAAAAAAAAAAAAAAEBi+owfuJo/wOUsuZe2qT8AGEn+cN+ZP4CO6Hl2/oY/kEk6UZwJqL9wtJCAMtGgv8DLrh1nt5k/AMtK0kuEnj9gYsWs7yytP4BxXbDwbJ8/AATw8Mw5qD/AAXrLkKK1P0BM9ryaIKY/YFnq0MCysz8QwkJ1/gWyPzA/fDDL47w/yLQApjtXwD/A2Z5ok/7DP5AMEfL1JcI/8J7jX6T9t79Ayw/QOEOxvyATKaQY/py/oHg2VHA4pj/AlQGoTtqsP/AVAxabI70/YOsCX8s8vD8gMQfcrgW/PwB3jMe5PsU/eLtTEMl+yj8ge1nbXvHNP6AjjUoXKNA/cGWha6by0j/QZKPaoJzWP1ifroP2ztc/qLAQadHb1z8=\",\"dtype\":\"float64\",\"order\":\"little\",\"shape\":[37]},\"EMP. EC\":{\"__ndarray__\":\"AAAAAAAAAACA11DZegKEPwD3zhDEX50/APfOEMRfnT8A984QxF+dPwD3zhDEX50/QCzsYjeAoT+gD/klIHa3P6AP+SUgdrc/GDRnXVCBxj94eGYn+YPHP8hAfQXoPcs/yEB9Beg9yz/QCgEnQR3LP9AKASdBHcs/0AoBJ0Edyz/QCgEnQR3LP+BKhc70Hc4/OG+LeRf3zD/Y/VPAMh7RP9j9U8AyHtE/zNSo5lMx0j/cjPba2Y/VP5AcEBOrYdM/EDk+u1a+0z/AOeDq6CnUP8A54OroKdQ/wDng6ugp1D/AOeDq6CnUP8A54OroKdQ/wDng6ugp1D9EdQRDIK7YP0R1BEMgrtg/NBzdbDW51z+I03zIVE/OP4jTfMhUT84/iNN8yFRPzj8=\",\"dtype\":\"float64\",\"order\":\"little\",\"shape\":[37]},\"NASDAQ 100\":{\"__ndarray__\":\"AAAAAAAAAAAAAAAAAAAAAEBaRAFF9ZU/gPQmq+Q7oD9Aju3re4yRv9AJEgiM/K6/kMFB5S0FvL94kUId2763v9DacVM9VqO/gBbvEVvUd7+gs/Cn3YmpPwAKAwpq35k/gL2LnJBDnT+AGegb1Be1P+DtlBd+rKY/8AJYWIQmsj8A0+l2WsGzP+AuhJ2/U8E/kDSwFgqXxT9IJm6ae23OP4hxr6e4jNE/0EUSkIDnsj8Yf5ncPAHEP2hgC33ew9A/kHWs8MbS1j+cfvEeZXzdP2iqedsxBuI/2MED5EGx4T/GhbXkCOXiPwCifke3KOQ/KGUnpfJa5z90D6GUNjnpPxC5NFIoF+s/cF46Ni+T6D+8kHVQuKnsPxJbhd3TE+s//kziF1qu7T8=\",\"dtype\":\"float64\",\"order\":\"little\",\"shape\":[37]},\"NASDAQ Composite\":{\"__ndarray__\":\"AAAAAAAAAAAAAAAAAAAAAMDeCE/U3pE/QEgNxK7knT8gqK3nb1Wev7C1pj35L7G/KN6iypQbv79Q8xb/dKa5v8Dfhz7kkaW/gNiQ98fUkL+AkvOUKW2fPwDllOvYUnk/gNX6HVwcgj8gpinuhJ6tP8AbvUjKVpQ/IA4D6lHWpT+Ax0+nA0ilP2DlBh4ZG7k/uN2R6yzcwD9YLTi/Sl3IP7DHvLLfbMs/ALBQFN4zYD9g2RFnr6yxP3BfHJHRQcY/4D8/Pu0v0T+gSIzHvqHWP8CS5uSHgtw/wNoAAXF92z+0KERSblneP+Zr9ywYqOA/Dkrm1PAO5D+Ez5xsVWbmP8xk6ZMHrOg/FPXBoopT5j8Adk6sNVjpP4hQWxWsxuc/hPFrDvon6j8=\",\"dtype\":\"float64\",\"order\":\"little\",\"shape\":[37]},\"S&P 500\":{\"__ndarray__\":\"AAAAAAAAAAAAAAAAAAAAAMAH+8gchpc/IHBdmm/Eoz8AYO9Zjftnv6AHpJMqz5m/aPNS7pu9tL/oSMDwTxGxv0DqXH7AbYy/ADwxq25Sbj+geo52UjCkP4CHvNrbYZY/QEDwk6SwoT8AnNeYvo2yP0AxWFFqBqM/cFHJF1BGsT8AtNacMt2wPwA5Y7ndhbw/OLxdYKONwT+IDH0+ojPGPzAaW8c1KcY/QMjHgyXjqb9AF7LgNjeHv+Acfk8GFqc/0NLXByeAvD+AQHr4uPfCPzCgyK8DZ8s/EBWdp8czyj8Qa1LLl6PMP6SoaqvtTdE/hHleCQuo1D8gYo/vW+nWP6DF5LNU99g/gFzKJyCW2T8Q/r8D797eP1CnUKxde98/brdUYdOM4D8=\",\"dtype\":\"float64\",\"order\":\"little\",\"shape\":[37]},\"__x__values\":{\"__ndarray__\":\"AAAA1N9EdkIAAEAm2k52QgAAgHjUWHZCAAAAZXxidkIAAEC3dmx2QgAAwKMednZCAAAA9hiAdkIAAEBIE4p2QgAAQGkWk3ZCAACAuxCddkIAAACouKZ2QgAAQPqysHZCAADA5lq6dkIAAAA5VcR2QgAAQItPznZCAADAd/fXdkIAAADK8eF2QgAAgLaZ63ZCAADACJT1dkIAAABbjv92QgAAwOHjCHdCAAAANN4Sd0IAAIAghhx3QgAAwHKAJndCAABAXygwd0IAAICxIjp3QgAAwAMdRHdCAABA8MRNd0IAAIBCv1d3QgAAAC9nYXdCAABAgWFrd0IAAIDTW3V3QgAAgPRefndCAADARlmId0IAAEAzAZJ3QgAAgIX7m3dCAAAAcqOld0I=\",\"dtype\":\"float64\",\"order\":\"little\",\"shape\":[37]},\"__x__values_original\":{\"__ndarray__\":\"AAAA1N9EdkIAAEAm2k52QgAAgHjUWHZCAAAAZXxidkIAAEC3dmx2QgAAwKMednZCAAAA9hiAdkIAAEBIE4p2QgAAQGkWk3ZCAACAuxCddkIAAACouKZ2QgAAQPqysHZCAADA5lq6dkIAAAA5VcR2QgAAQItPznZCAADAd/fXdkIAAADK8eF2QgAAgLaZ63ZCAADACJT1dkIAAABbjv92QgAAwOHjCHdCAAAANN4Sd0IAAIAghhx3QgAAwHKAJndCAABAXygwd0IAAICxIjp3QgAAwAMdRHdCAABA8MRNd0IAAIBCv1d3QgAAAC9nYXdCAABAgWFrd0IAAIDTW3V3QgAAgPRefndCAADARlmId0IAAEAzAZJ3QgAAgIX7m3dCAAAAcqOld0I=\",\"dtype\":\"float64\",\"order\":\"little\",\"shape\":[37]}},\"selected\":{\"id\":\"1062\"},\"selection_policy\":{\"id\":\"1061\"}},\"id\":\"1036\",\"type\":\"ColumnDataSource\"},{\"attributes\":{},\"id\":\"1168\",\"type\":\"Selection\"},{\"attributes\":{\"source\":{\"id\":\"1036\"}},\"id\":\"1041\",\"type\":\"CDSView\"},{\"attributes\":{},\"id\":\"1044\",\"type\":\"AllLabels\"},{\"attributes\":{\"callback\":null,\"formatters\":{\"@__x__values_original\":\"datetime\"},\"mode\":\"vline\",\"renderers\":[{\"id\":\"1177\"}],\"tooltips\":[[\"Fecha\",\"@__x__values_original{%F}\"],[\"NASDAQ 100\",\"@{NASDAQ 100}{1%}\"]]},\"id\":\"1210\",\"type\":\"HoverTool\"},{\"attributes\":{\"data_source\":{\"id\":\"1173\"},\"glyph\":{\"id\":\"1175\"},\"hover_glyph\":null,\"muted_glyph\":null,\"nonselection_glyph\":{\"id\":\"1176\"},\"view\":{\"id\":\"1178\"}},\"id\":\"1177\",\"type\":\"GlyphRenderer\"},{\"attributes\":{\"label\":{\"value\":\" NASDAQ 100\"},\"renderers\":[{\"id\":\"1177\"}]},\"id\":\"1209\",\"type\":\"LegendItem\"},{\"attributes\":{\"data\":{\"DOW JONES\":{\"__ndarray__\":\"AAAAAAAAAAAAAAAAAAAAAEBi+owfuJo/wOUsuZe2qT8AGEn+cN+ZP4CO6Hl2/oY/kEk6UZwJqL9wtJCAMtGgv8DLrh1nt5k/AMtK0kuEnj9gYsWs7yytP4BxXbDwbJ8/AATw8Mw5qD/AAXrLkKK1P0BM9ryaIKY/YFnq0MCysz8QwkJ1/gWyPzA/fDDL47w/yLQApjtXwD/A2Z5ok/7DP5AMEfL1JcI/8J7jX6T9t79Ayw/QOEOxvyATKaQY/py/oHg2VHA4pj/AlQGoTtqsP/AVAxabI70/YOsCX8s8vD8gMQfcrgW/PwB3jMe5PsU/eLtTEMl+yj8ge1nbXvHNP6AjjUoXKNA/cGWha6by0j/QZKPaoJzWP1ifroP2ztc/qLAQadHb1z8=\",\"dtype\":\"float64\",\"order\":\"little\",\"shape\":[37]},\"EMP. EC\":{\"__ndarray__\":\"AAAAAAAAAACA11DZegKEPwD3zhDEX50/APfOEMRfnT8A984QxF+dPwD3zhDEX50/QCzsYjeAoT+gD/klIHa3P6AP+SUgdrc/GDRnXVCBxj94eGYn+YPHP8hAfQXoPcs/yEB9Beg9yz/QCgEnQR3LP9AKASdBHcs/0AoBJ0Edyz/QCgEnQR3LP+BKhc70Hc4/OG+LeRf3zD/Y/VPAMh7RP9j9U8AyHtE/zNSo5lMx0j/cjPba2Y/VP5AcEBOrYdM/EDk+u1a+0z/AOeDq6CnUP8A54OroKdQ/wDng6ugp1D/AOeDq6CnUP8A54OroKdQ/wDng6ugp1D9EdQRDIK7YP0R1BEMgrtg/NBzdbDW51z+I03zIVE/OP4jTfMhUT84/iNN8yFRPzj8=\",\"dtype\":\"float64\",\"order\":\"little\",\"shape\":[37]},\"NASDAQ 100\":{\"__ndarray__\":\"AAAAAAAAAAAAAAAAAAAAAEBaRAFF9ZU/gPQmq+Q7oD9Aju3re4yRv9AJEgiM/K6/kMFB5S0FvL94kUId2763v9DacVM9VqO/gBbvEVvUd7+gs/Cn3YmpPwAKAwpq35k/gL2LnJBDnT+AGegb1Be1P+DtlBd+rKY/8AJYWIQmsj8A0+l2WsGzP+AuhJ2/U8E/kDSwFgqXxT9IJm6ae23OP4hxr6e4jNE/0EUSkIDnsj8Yf5ncPAHEP2hgC33ew9A/kHWs8MbS1j+cfvEeZXzdP2iqedsxBuI/2MED5EGx4T/GhbXkCOXiPwCifke3KOQ/KGUnpfJa5z90D6GUNjnpPxC5NFIoF+s/cF46Ni+T6D+8kHVQuKnsPxJbhd3TE+s//kziF1qu7T8=\",\"dtype\":\"float64\",\"order\":\"little\",\"shape\":[37]},\"NASDAQ Composite\":{\"__ndarray__\":\"AAAAAAAAAAAAAAAAAAAAAMDeCE/U3pE/QEgNxK7knT8gqK3nb1Wev7C1pj35L7G/KN6iypQbv79Q8xb/dKa5v8Dfhz7kkaW/gNiQ98fUkL+AkvOUKW2fPwDllOvYUnk/gNX6HVwcgj8gpinuhJ6tP8AbvUjKVpQ/IA4D6lHWpT+Ax0+nA0ilP2DlBh4ZG7k/uN2R6yzcwD9YLTi/Sl3IP7DHvLLfbMs/ALBQFN4zYD9g2RFnr6yxP3BfHJHRQcY/4D8/Pu0v0T+gSIzHvqHWP8CS5uSHgtw/wNoAAXF92z+0KERSblneP+Zr9ywYqOA/Dkrm1PAO5D+Ez5xsVWbmP8xk6ZMHrOg/FPXBoopT5j8Adk6sNVjpP4hQWxWsxuc/hPFrDvon6j8=\",\"dtype\":\"float64\",\"order\":\"little\",\"shape\":[37]},\"S&P 500\":{\"__ndarray__\":\"AAAAAAAAAAAAAAAAAAAAAMAH+8gchpc/IHBdmm/Eoz8AYO9Zjftnv6AHpJMqz5m/aPNS7pu9tL/oSMDwTxGxv0DqXH7AbYy/ADwxq25Sbj+geo52UjCkP4CHvNrbYZY/QEDwk6SwoT8AnNeYvo2yP0AxWFFqBqM/cFHJF1BGsT8AtNacMt2wPwA5Y7ndhbw/OLxdYKONwT+IDH0+ojPGPzAaW8c1KcY/QMjHgyXjqb9AF7LgNjeHv+Acfk8GFqc/0NLXByeAvD+AQHr4uPfCPzCgyK8DZ8s/EBWdp8czyj8Qa1LLl6PMP6SoaqvtTdE/hHleCQuo1D8gYo/vW+nWP6DF5LNU99g/gFzKJyCW2T8Q/r8D797eP1CnUKxde98/brdUYdOM4D8=\",\"dtype\":\"float64\",\"order\":\"little\",\"shape\":[37]},\"__x__values\":{\"__ndarray__\":\"AAAA1N9EdkIAAEAm2k52QgAAgHjUWHZCAAAAZXxidkIAAEC3dmx2QgAAwKMednZCAAAA9hiAdkIAAEBIE4p2QgAAQGkWk3ZCAACAuxCddkIAAACouKZ2QgAAQPqysHZCAADA5lq6dkIAAAA5VcR2QgAAQItPznZCAADAd/fXdkIAAADK8eF2QgAAgLaZ63ZCAADACJT1dkIAAABbjv92QgAAwOHjCHdCAAAANN4Sd0IAAIAghhx3QgAAwHKAJndCAABAXygwd0IAAICxIjp3QgAAwAMdRHdCAABA8MRNd0IAAIBCv1d3QgAAAC9nYXdCAABAgWFrd0IAAIDTW3V3QgAAgPRefndCAADARlmId0IAAEAzAZJ3QgAAgIX7m3dCAAAAcqOld0I=\",\"dtype\":\"float64\",\"order\":\"little\",\"shape\":[37]},\"__x__values_original\":{\"__ndarray__\":\"AAAA1N9EdkIAAEAm2k52QgAAgHjUWHZCAAAAZXxidkIAAEC3dmx2QgAAwKMednZCAAAA9hiAdkIAAEBIE4p2QgAAQGkWk3ZCAACAuxCddkIAAACouKZ2QgAAQPqysHZCAADA5lq6dkIAAAA5VcR2QgAAQItPznZCAADAd/fXdkIAAADK8eF2QgAAgLaZ63ZCAADACJT1dkIAAABbjv92QgAAwOHjCHdCAAAANN4Sd0IAAIAghhx3QgAAwHKAJndCAABAXygwd0IAAICxIjp3QgAAwAMdRHdCAABA8MRNd0IAAIBCv1d3QgAAAC9nYXdCAABAgWFrd0IAAIDTW3V3QgAAgPRefndCAADARlmId0IAAEAzAZJ3QgAAgIX7m3dCAAAAcqOld0I=\",\"dtype\":\"float64\",\"order\":\"little\",\"shape\":[37]}},\"selected\":{\"id\":\"1207\"},\"selection_policy\":{\"id\":\"1206\"}},\"id\":\"1173\",\"type\":\"ColumnDataSource\"},{\"attributes\":{\"line_color\":\"cyan\",\"line_width\":2,\"x\":{\"field\":\"__x__values\"},\"y\":{\"field\":\"NASDAQ 100\"}},\"id\":\"1175\",\"type\":\"Line\"},{\"attributes\":{\"line_alpha\":0.1,\"line_color\":\"cyan\",\"line_width\":2,\"x\":{\"field\":\"__x__values\"},\"y\":{\"field\":\"NASDAQ 100\"}},\"id\":\"1176\",\"type\":\"Line\"},{\"attributes\":{\"source\":{\"id\":\"1173\"}},\"id\":\"1178\",\"type\":\"CDSView\"},{\"attributes\":{\"callback\":null,\"formatters\":{\"@__x__values_original\":\"datetime\"},\"mode\":\"vline\",\"renderers\":[{\"id\":\"1072\"}],\"tooltips\":[[\"Fecha\",\"@__x__values_original{%F}\"],[\"S&P 500\",\"@{S&P 500}{1%}\"]]},\"id\":\"1099\",\"type\":\"HoverTool\"},{\"attributes\":{\"data_source\":{\"id\":\"1068\"},\"glyph\":{\"id\":\"1070\"},\"hover_glyph\":null,\"muted_glyph\":null,\"nonselection_glyph\":{\"id\":\"1071\"},\"view\":{\"id\":\"1073\"}},\"id\":\"1072\",\"type\":\"GlyphRenderer\"},{\"attributes\":{\"data\":{\"DOW JONES\":{\"__ndarray__\":\"AAAAAAAAAAAAAAAAAAAAAEBi+owfuJo/wOUsuZe2qT8AGEn+cN+ZP4CO6Hl2/oY/kEk6UZwJqL9wtJCAMtGgv8DLrh1nt5k/AMtK0kuEnj9gYsWs7yytP4BxXbDwbJ8/AATw8Mw5qD/AAXrLkKK1P0BM9ryaIKY/YFnq0MCysz8QwkJ1/gWyPzA/fDDL47w/yLQApjtXwD/A2Z5ok/7DP5AMEfL1JcI/8J7jX6T9t79Ayw/QOEOxvyATKaQY/py/oHg2VHA4pj/AlQGoTtqsP/AVAxabI70/YOsCX8s8vD8gMQfcrgW/PwB3jMe5PsU/eLtTEMl+yj8ge1nbXvHNP6AjjUoXKNA/cGWha6by0j/QZKPaoJzWP1ifroP2ztc/qLAQadHb1z8=\",\"dtype\":\"float64\",\"order\":\"little\",\"shape\":[37]},\"EMP. EC\":{\"__ndarray__\":\"AAAAAAAAAACA11DZegKEPwD3zhDEX50/APfOEMRfnT8A984QxF+dPwD3zhDEX50/QCzsYjeAoT+gD/klIHa3P6AP+SUgdrc/GDRnXVCBxj94eGYn+YPHP8hAfQXoPcs/yEB9Beg9yz/QCgEnQR3LP9AKASdBHcs/0AoBJ0Edyz/QCgEnQR3LP+BKhc70Hc4/OG+LeRf3zD/Y/VPAMh7RP9j9U8AyHtE/zNSo5lMx0j/cjPba2Y/VP5AcEBOrYdM/EDk+u1a+0z/AOeDq6CnUP8A54OroKdQ/wDng6ugp1D/AOeDq6CnUP8A54OroKdQ/wDng6ugp1D9EdQRDIK7YP0R1BEMgrtg/NBzdbDW51z+I03zIVE/OP4jTfMhUT84/iNN8yFRPzj8=\",\"dtype\":\"float64\",\"order\":\"little\",\"shape\":[37]},\"NASDAQ 100\":{\"__ndarray__\":\"AAAAAAAAAAAAAAAAAAAAAEBaRAFF9ZU/gPQmq+Q7oD9Aju3re4yRv9AJEgiM/K6/kMFB5S0FvL94kUId2763v9DacVM9VqO/gBbvEVvUd7+gs/Cn3YmpPwAKAwpq35k/gL2LnJBDnT+AGegb1Be1P+DtlBd+rKY/8AJYWIQmsj8A0+l2WsGzP+AuhJ2/U8E/kDSwFgqXxT9IJm6ae23OP4hxr6e4jNE/0EUSkIDnsj8Yf5ncPAHEP2hgC33ew9A/kHWs8MbS1j+cfvEeZXzdP2iqedsxBuI/2MED5EGx4T/GhbXkCOXiPwCifke3KOQ/KGUnpfJa5z90D6GUNjnpPxC5NFIoF+s/cF46Ni+T6D+8kHVQuKnsPxJbhd3TE+s//kziF1qu7T8=\",\"dtype\":\"float64\",\"order\":\"little\",\"shape\":[37]},\"NASDAQ Composite\":{\"__ndarray__\":\"AAAAAAAAAAAAAAAAAAAAAMDeCE/U3pE/QEgNxK7knT8gqK3nb1Wev7C1pj35L7G/KN6iypQbv79Q8xb/dKa5v8Dfhz7kkaW/gNiQ98fUkL+AkvOUKW2fPwDllOvYUnk/gNX6HVwcgj8gpinuhJ6tP8AbvUjKVpQ/IA4D6lHWpT+Ax0+nA0ilP2DlBh4ZG7k/uN2R6yzcwD9YLTi/Sl3IP7DHvLLfbMs/ALBQFN4zYD9g2RFnr6yxP3BfHJHRQcY/4D8/Pu0v0T+gSIzHvqHWP8CS5uSHgtw/wNoAAXF92z+0KERSblneP+Zr9ywYqOA/Dkrm1PAO5D+Ez5xsVWbmP8xk6ZMHrOg/FPXBoopT5j8Adk6sNVjpP4hQWxWsxuc/hPFrDvon6j8=\",\"dtype\":\"float64\",\"order\":\"little\",\"shape\":[37]},\"S&P 500\":{\"__ndarray__\":\"AAAAAAAAAAAAAAAAAAAAAMAH+8gchpc/IHBdmm/Eoz8AYO9Zjftnv6AHpJMqz5m/aPNS7pu9tL/oSMDwTxGxv0DqXH7AbYy/ADwxq25Sbj+geo52UjCkP4CHvNrbYZY/QEDwk6SwoT8AnNeYvo2yP0AxWFFqBqM/cFHJF1BGsT8AtNacMt2wPwA5Y7ndhbw/OLxdYKONwT+IDH0+ojPGPzAaW8c1KcY/QMjHgyXjqb9AF7LgNjeHv+Acfk8GFqc/0NLXByeAvD+AQHr4uPfCPzCgyK8DZ8s/EBWdp8czyj8Qa1LLl6PMP6SoaqvtTdE/hHleCQuo1D8gYo/vW+nWP6DF5LNU99g/gFzKJyCW2T8Q/r8D797eP1CnUKxde98/brdUYdOM4D8=\",\"dtype\":\"float64\",\"order\":\"little\",\"shape\":[37]},\"__x__values\":{\"__ndarray__\":\"AAAA1N9EdkIAAEAm2k52QgAAgHjUWHZCAAAAZXxidkIAAEC3dmx2QgAAwKMednZCAAAA9hiAdkIAAEBIE4p2QgAAQGkWk3ZCAACAuxCddkIAAACouKZ2QgAAQPqysHZCAADA5lq6dkIAAAA5VcR2QgAAQItPznZCAADAd/fXdkIAAADK8eF2QgAAgLaZ63ZCAADACJT1dkIAAABbjv92QgAAwOHjCHdCAAAANN4Sd0IAAIAghhx3QgAAwHKAJndCAABAXygwd0IAAICxIjp3QgAAwAMdRHdCAABA8MRNd0IAAIBCv1d3QgAAAC9nYXdCAABAgWFrd0IAAIDTW3V3QgAAgPRefndCAADARlmId0IAAEAzAZJ3QgAAgIX7m3dCAAAAcqOld0I=\",\"dtype\":\"float64\",\"order\":\"little\",\"shape\":[37]},\"__x__values_original\":{\"__ndarray__\":\"AAAA1N9EdkIAAEAm2k52QgAAgHjUWHZCAAAAZXxidkIAAEC3dmx2QgAAwKMednZCAAAA9hiAdkIAAEBIE4p2QgAAQGkWk3ZCAACAuxCddkIAAACouKZ2QgAAQPqysHZCAADA5lq6dkIAAAA5VcR2QgAAQItPznZCAADAd/fXdkIAAADK8eF2QgAAgLaZ63ZCAADACJT1dkIAAABbjv92QgAAwOHjCHdCAAAANN4Sd0IAAIAghhx3QgAAwHKAJndCAABAXygwd0IAAICxIjp3QgAAwAMdRHdCAABA8MRNd0IAAIBCv1d3QgAAAC9nYXdCAABAgWFrd0IAAIDTW3V3QgAAgPRefndCAADARlmId0IAAEAzAZJ3QgAAgIX7m3dCAAAAcqOld0I=\",\"dtype\":\"float64\",\"order\":\"little\",\"shape\":[37]}},\"selected\":{\"id\":\"1096\"},\"selection_policy\":{\"id\":\"1095\"}},\"id\":\"1068\",\"type\":\"ColumnDataSource\"},{\"attributes\":{\"line_color\":\"blue\",\"line_width\":2,\"x\":{\"field\":\"__x__values\"},\"y\":{\"field\":\"S&P 500\"}},\"id\":\"1070\",\"type\":\"Line\"},{\"attributes\":{\"line_alpha\":0.1,\"line_color\":\"blue\",\"line_width\":2,\"x\":{\"field\":\"__x__values\"},\"y\":{\"field\":\"S&P 500\"}},\"id\":\"1071\",\"type\":\"Line\"},{\"attributes\":{\"label\":{\"value\":\" S&P 500\"},\"renderers\":[{\"id\":\"1072\"}]},\"id\":\"1098\",\"type\":\"LegendItem\"},{\"attributes\":{\"num_minor_ticks\":5,\"tickers\":[{\"id\":\"1049\"},{\"id\":\"1050\"},{\"id\":\"1051\"},{\"id\":\"1052\"},{\"id\":\"1053\"},{\"id\":\"1054\"},{\"id\":\"1055\"},{\"id\":\"1056\"},{\"id\":\"1057\"},{\"id\":\"1058\"},{\"id\":\"1059\"},{\"id\":\"1060\"}]},\"id\":\"1015\",\"type\":\"DatetimeTicker\"},{\"attributes\":{\"source\":{\"id\":\"1068\"}},\"id\":\"1073\",\"type\":\"CDSView\"},{\"attributes\":{},\"id\":\"1025\",\"type\":\"SaveTool\"},{\"attributes\":{},\"id\":\"1027\",\"type\":\"HelpTool\"},{\"attributes\":{},\"id\":\"1010\",\"type\":\"LinearScale\"},{\"attributes\":{\"axis\":{\"id\":\"1014\"},\"ticker\":null},\"id\":\"1017\",\"type\":\"Grid\"},{\"attributes\":{\"line_color\":\"red\",\"line_width\":2,\"x\":{\"field\":\"__x__values\"},\"y\":{\"field\":\"EMP. EC\"}},\"id\":\"1038\",\"type\":\"Line\"},{\"attributes\":{\"axis_label\":\"Rendimiento\",\"formatter\":{\"id\":\"1048\"},\"major_label_policy\":{\"id\":\"1047\"},\"ticker\":{\"id\":\"1212\"}},\"id\":\"1018\",\"type\":\"LinearAxis\"},{\"attributes\":{},\"id\":\"1026\",\"type\":\"ResetTool\"},{\"attributes\":{},\"id\":\"1006\",\"type\":\"DataRange1d\"},{\"attributes\":{\"data_source\":{\"id\":\"1036\"},\"glyph\":{\"id\":\"1038\"},\"hover_glyph\":null,\"muted_glyph\":null,\"nonselection_glyph\":{\"id\":\"1039\"},\"view\":{\"id\":\"1041\"}},\"id\":\"1040\",\"type\":\"GlyphRenderer\"},{\"attributes\":{},\"id\":\"1095\",\"type\":\"UnionRenderers\"},{\"attributes\":{},\"id\":\"1022\",\"type\":\"PanTool\"},{\"attributes\":{\"active_multi\":null,\"active_scroll\":{\"id\":\"1023\"},\"tools\":[{\"id\":\"1022\"},{\"id\":\"1023\"},{\"id\":\"1024\"},{\"id\":\"1025\"},{\"id\":\"1026\"},{\"id\":\"1027\"},{\"id\":\"1066\"},{\"id\":\"1099\"},{\"id\":\"1134\"},{\"id\":\"1171\"},{\"id\":\"1210\"}]},\"id\":\"1029\",\"type\":\"Toolbar\"},{\"attributes\":{},\"id\":\"1023\",\"type\":\"WheelZoomTool\"},{\"attributes\":{\"start\":-0.25},\"id\":\"1008\",\"type\":\"Range1d\"},{\"attributes\":{\"axis_label\":\"Fecha\",\"formatter\":{\"id\":\"1214\"},\"major_label_policy\":{\"id\":\"1044\"},\"ticker\":{\"id\":\"1015\"}},\"id\":\"1014\",\"type\":\"DatetimeAxis\"},{\"attributes\":{},\"id\":\"1096\",\"type\":\"Selection\"},{\"attributes\":{\"text\":\"Empresas ecuatorianas VS Indices americanos\"},\"id\":\"1004\",\"type\":\"Title\"},{\"attributes\":{\"axis\":{\"id\":\"1018\"},\"dimension\":1,\"ticker\":null},\"id\":\"1021\",\"type\":\"Grid\"},{\"attributes\":{\"overlay\":{\"id\":\"1028\"}},\"id\":\"1024\",\"type\":\"BoxZoomTool\"},{\"attributes\":{\"line_alpha\":0.1,\"line_color\":\"red\",\"line_width\":2,\"x\":{\"field\":\"__x__values\"},\"y\":{\"field\":\"EMP. EC\"}},\"id\":\"1039\",\"type\":\"Line\"},{\"attributes\":{\"callback\":null,\"formatters\":{\"@__x__values_original\":\"datetime\"},\"mode\":\"vline\",\"renderers\":[{\"id\":\"1105\"}],\"tooltips\":[[\"Fecha\",\"@__x__values_original{%F}\"],[\"DOW JONES\",\"@{DOW JONES}{1%}\"]]},\"id\":\"1134\",\"type\":\"HoverTool\"},{\"attributes\":{\"data_source\":{\"id\":\"1101\"},\"glyph\":{\"id\":\"1103\"},\"hover_glyph\":null,\"muted_glyph\":null,\"nonselection_glyph\":{\"id\":\"1104\"},\"view\":{\"id\":\"1106\"}},\"id\":\"1105\",\"type\":\"GlyphRenderer\"},{\"attributes\":{\"callback\":null,\"formatters\":{\"@__x__values_original\":\"datetime\"},\"mode\":\"vline\",\"renderers\":[{\"id\":\"1140\"}],\"tooltips\":[[\"Fecha\",\"@__x__values_original{%F}\"],[\"NASDAQ Composite\",\"@{NASDAQ Composite}{1%}\"]]},\"id\":\"1171\",\"type\":\"HoverTool\"},{\"attributes\":{\"data\":{\"DOW JONES\":{\"__ndarray__\":\"AAAAAAAAAAAAAAAAAAAAAEBi+owfuJo/wOUsuZe2qT8AGEn+cN+ZP4CO6Hl2/oY/kEk6UZwJqL9wtJCAMtGgv8DLrh1nt5k/AMtK0kuEnj9gYsWs7yytP4BxXbDwbJ8/AATw8Mw5qD/AAXrLkKK1P0BM9ryaIKY/YFnq0MCysz8QwkJ1/gWyPzA/fDDL47w/yLQApjtXwD/A2Z5ok/7DP5AMEfL1JcI/8J7jX6T9t79Ayw/QOEOxvyATKaQY/py/oHg2VHA4pj/AlQGoTtqsP/AVAxabI70/YOsCX8s8vD8gMQfcrgW/PwB3jMe5PsU/eLtTEMl+yj8ge1nbXvHNP6AjjUoXKNA/cGWha6by0j/QZKPaoJzWP1ifroP2ztc/qLAQadHb1z8=\",\"dtype\":\"float64\",\"order\":\"little\",\"shape\":[37]},\"EMP. EC\":{\"__ndarray__\":\"AAAAAAAAAACA11DZegKEPwD3zhDEX50/APfOEMRfnT8A984QxF+dPwD3zhDEX50/QCzsYjeAoT+gD/klIHa3P6AP+SUgdrc/GDRnXVCBxj94eGYn+YPHP8hAfQXoPcs/yEB9Beg9yz/QCgEnQR3LP9AKASdBHcs/0AoBJ0Edyz/QCgEnQR3LP+BKhc70Hc4/OG+LeRf3zD/Y/VPAMh7RP9j9U8AyHtE/zNSo5lMx0j/cjPba2Y/VP5AcEBOrYdM/EDk+u1a+0z/AOeDq6CnUP8A54OroKdQ/wDng6ugp1D/AOeDq6CnUP8A54OroKdQ/wDng6ugp1D9EdQRDIK7YP0R1BEMgrtg/NBzdbDW51z+I03zIVE/OP4jTfMhUT84/iNN8yFRPzj8=\",\"dtype\":\"float64\",\"order\":\"little\",\"shape\":[37]},\"NASDAQ 100\":{\"__ndarray__\":\"AAAAAAAAAAAAAAAAAAAAAEBaRAFF9ZU/gPQmq+Q7oD9Aju3re4yRv9AJEgiM/K6/kMFB5S0FvL94kUId2763v9DacVM9VqO/gBbvEVvUd7+gs/Cn3YmpPwAKAwpq35k/gL2LnJBDnT+AGegb1Be1P+DtlBd+rKY/8AJYWIQmsj8A0+l2WsGzP+AuhJ2/U8E/kDSwFgqXxT9IJm6ae23OP4hxr6e4jNE/0EUSkIDnsj8Yf5ncPAHEP2hgC33ew9A/kHWs8MbS1j+cfvEeZXzdP2iqedsxBuI/2MED5EGx4T/GhbXkCOXiPwCifke3KOQ/KGUnpfJa5z90D6GUNjnpPxC5NFIoF+s/cF46Ni+T6D+8kHVQuKnsPxJbhd3TE+s//kziF1qu7T8=\",\"dtype\":\"float64\",\"order\":\"little\",\"shape\":[37]},\"NASDAQ Composite\":{\"__ndarray__\":\"AAAAAAAAAAAAAAAAAAAAAMDeCE/U3pE/QEgNxK7knT8gqK3nb1Wev7C1pj35L7G/KN6iypQbv79Q8xb/dKa5v8Dfhz7kkaW/gNiQ98fUkL+AkvOUKW2fPwDllOvYUnk/gNX6HVwcgj8gpinuhJ6tP8AbvUjKVpQ/IA4D6lHWpT+Ax0+nA0ilP2DlBh4ZG7k/uN2R6yzcwD9YLTi/Sl3IP7DHvLLfbMs/ALBQFN4zYD9g2RFnr6yxP3BfHJHRQcY/4D8/Pu0v0T+gSIzHvqHWP8CS5uSHgtw/wNoAAXF92z+0KERSblneP+Zr9ywYqOA/Dkrm1PAO5D+Ez5xsVWbmP8xk6ZMHrOg/FPXBoopT5j8Adk6sNVjpP4hQWxWsxuc/hPFrDvon6j8=\",\"dtype\":\"float64\",\"order\":\"little\",\"shape\":[37]},\"S&P 500\":{\"__ndarray__\":\"AAAAAAAAAAAAAAAAAAAAAMAH+8gchpc/IHBdmm/Eoz8AYO9Zjftnv6AHpJMqz5m/aPNS7pu9tL/oSMDwTxGxv0DqXH7AbYy/ADwxq25Sbj+geo52UjCkP4CHvNrbYZY/QEDwk6SwoT8AnNeYvo2yP0AxWFFqBqM/cFHJF1BGsT8AtNacMt2wPwA5Y7ndhbw/OLxdYKONwT+IDH0+ojPGPzAaW8c1KcY/QMjHgyXjqb9AF7LgNjeHv+Acfk8GFqc/0NLXByeAvD+AQHr4uPfCPzCgyK8DZ8s/EBWdp8czyj8Qa1LLl6PMP6SoaqvtTdE/hHleCQuo1D8gYo/vW+nWP6DF5LNU99g/gFzKJyCW2T8Q/r8D797eP1CnUKxde98/brdUYdOM4D8=\",\"dtype\":\"float64\",\"order\":\"little\",\"shape\":[37]},\"__x__values\":{\"__ndarray__\":\"AAAA1N9EdkIAAEAm2k52QgAAgHjUWHZCAAAAZXxidkIAAEC3dmx2QgAAwKMednZCAAAA9hiAdkIAAEBIE4p2QgAAQGkWk3ZCAACAuxCddkIAAACouKZ2QgAAQPqysHZCAADA5lq6dkIAAAA5VcR2QgAAQItPznZCAADAd/fXdkIAAADK8eF2QgAAgLaZ63ZCAADACJT1dkIAAABbjv92QgAAwOHjCHdCAAAANN4Sd0IAAIAghhx3QgAAwHKAJndCAABAXygwd0IAAICxIjp3QgAAwAMdRHdCAABA8MRNd0IAAIBCv1d3QgAAAC9nYXdCAABAgWFrd0IAAIDTW3V3QgAAgPRefndCAADARlmId0IAAEAzAZJ3QgAAgIX7m3dCAAAAcqOld0I=\",\"dtype\":\"float64\",\"order\":\"little\",\"shape\":[37]},\"__x__values_original\":{\"__ndarray__\":\"AAAA1N9EdkIAAEAm2k52QgAAgHjUWHZCAAAAZXxidkIAAEC3dmx2QgAAwKMednZCAAAA9hiAdkIAAEBIE4p2QgAAQGkWk3ZCAACAuxCddkIAAACouKZ2QgAAQPqysHZCAADA5lq6dkIAAAA5VcR2QgAAQItPznZCAADAd/fXdkIAAADK8eF2QgAAgLaZ63ZCAADACJT1dkIAAABbjv92QgAAwOHjCHdCAAAANN4Sd0IAAIAghhx3QgAAwHKAJndCAABAXygwd0IAAICxIjp3QgAAwAMdRHdCAABA8MRNd0IAAIBCv1d3QgAAAC9nYXdCAABAgWFrd0IAAIDTW3V3QgAAgPRefndCAADARlmId0IAAEAzAZJ3QgAAgIX7m3dCAAAAcqOld0I=\",\"dtype\":\"float64\",\"order\":\"little\",\"shape\":[37]}},\"selected\":{\"id\":\"1131\"},\"selection_policy\":{\"id\":\"1130\"}},\"id\":\"1101\",\"type\":\"ColumnDataSource\"},{\"attributes\":{\"line_color\":\"green\",\"line_width\":2,\"x\":{\"field\":\"__x__values\"},\"y\":{\"field\":\"DOW JONES\"}},\"id\":\"1103\",\"type\":\"Line\"},{\"attributes\":{\"line_alpha\":0.1,\"line_color\":\"green\",\"line_width\":2,\"x\":{\"field\":\"__x__values\"},\"y\":{\"field\":\"DOW JONES\"}},\"id\":\"1104\",\"type\":\"Line\"},{\"attributes\":{\"source\":{\"id\":\"1101\"}},\"id\":\"1106\",\"type\":\"CDSView\"},{\"attributes\":{\"label\":{\"value\":\" DOW JONES\"},\"renderers\":[{\"id\":\"1105\"}]},\"id\":\"1133\",\"type\":\"LegendItem\"}],\"root_ids\":[\"1003\"]},\"title\":\"Bokeh Application\",\"version\":\"2.3.2\"}};\n",
       "  var render_items = [{\"docid\":\"af2fe0f3-9896-463e-a283-74289e87e9ed\",\"root_ids\":[\"1003\"],\"roots\":{\"1003\":\"7102bff7-8852-4a65-8dc9-a20b9db02b4a\"}}];\n",
       "  root.Bokeh.embed.embed_items_notebook(docs_json, render_items);\n",
       "\n",
       "  }\n",
       "  if (root.Bokeh !== undefined) {\n",
       "    embed_document(root);\n",
       "  } else {\n",
       "    var attempts = 0;\n",
       "    var timer = setInterval(function(root) {\n",
       "      if (root.Bokeh !== undefined) {\n",
       "        clearInterval(timer);\n",
       "        embed_document(root);\n",
       "      } else {\n",
       "        attempts++;\n",
       "        if (attempts > 100) {\n",
       "          clearInterval(timer);\n",
       "          console.log(\"Bokeh: ERROR: Unable to run BokehJS code because BokehJS library is missing\");\n",
       "        }\n",
       "      }\n",
       "    }, 10, root)\n",
       "  }\n",
       "})(window);"
      ],
      "application/vnd.bokehjs_exec.v0+json": ""
     },
     "metadata": {
      "application/vnd.bokehjs_exec.v0+json": {
       "id": "1003"
      }
     },
     "output_type": "display_data"
    }
   ],
   "source": [
    "import pandas_bokeh\n",
    "pandas_bokeh.output_notebook()\n",
    "\n",
    "balances = balance_cias(seleccionadas)\n",
    "balances_consolidados = pd.DataFrame(balances.ffill().sum(axis=1), columns=['EMP. EC'])\n",
    "balances_consolidados.index.rename(\"Date\", inplace=True)\n",
    "indices = pd.merge(balances_consolidados, data, on=\"Date\", how='outer').groupby(pd.Grouper(freq='m')).mean().bfill()\n",
    "indices.rename(columns={'^GSPC': 'S&P 500','^DJI': 'DOW JONES','^IXIC': 'NASDAQ Composite','^NDX': 'NASDAQ 100'}, inplace=True)\n",
    "\n",
    "plot=(indices/indices.iloc[0]-1).plot_bokeh(\n",
    "    kind=\"line\",\n",
    "    title=\"Empresas ecuatorianas VS Indices americanos\",\n",
    "    xlabel=\"Fecha\",\n",
    "    ylabel=\"Rendimiento\",\n",
    "    yticks=[0, 0.25, 0.5, 0.75, 1],\n",
    "    ylim=(-0.25, 1),\n",
    "    colormap=[\"red\", \"blue\", \"green\", 'orange', 'cyan'],\n",
    "    number_format=\"1%\",\n",
    "    legend = \"top_left\",\n",
    "    figsize=(800,480))"
   ]
  },
  {
   "cell_type": "markdown",
   "metadata": {},
   "source": [
    "## Conclusiones"
   ]
  },
  {
   "cell_type": "markdown",
   "metadata": {},
   "source": [
    "En esta ocasión, las 10 acciones más cotizadas de los últimos 3 años, mostró un desempeño un poco por debajo comparado al de la década pasada, aún así obtuvo un rendimiento parecido al mercado de bonos. Tengo poco más que agregar con respecto a las conclusiones del análisis de la década pasada.\n",
    "\n",
    ">La acción de **CORPORACION FAVORITA** vuelve a decepcionar esta vez con más fuerza aún con un paupérrimo 1.4%. **Cervecería Nacional** ha sufrido el deterioro de su negocio, en los últimos 3 años, sin llegar a alcanzar ni un 1% de rentabilidad anual, después de un final de década de ensueño para sus accionistas. Lo que si vemos es el repunte  del sector bancario, cuyas acciones de las empresas de este sector fueron las más rentables de los últimos años.\n"
   ]
  }
 ],
 "metadata": {
  "kernelspec": {
   "display_name": "Python 3",
   "language": "python",
   "name": "python3"
  },
  "language_info": {
   "codemirror_mode": {
    "name": "ipython",
    "version": 3
   },
   "file_extension": ".py",
   "mimetype": "text/x-python",
   "name": "python",
   "nbconvert_exporter": "python",
   "pygments_lexer": "ipython3",
   "version": "3.8.8"
  },
  "toc-autonumbering": true,
  "toc-showmarkdowntxt": true,
  "widgets": {
   "application/vnd.jupyter.widget-state+json": {
    "state": {},
    "version_major": 2,
    "version_minor": 0
   }
  }
 },
 "nbformat": 4,
 "nbformat_minor": 4
}
