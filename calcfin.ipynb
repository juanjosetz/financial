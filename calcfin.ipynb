{
 "cells": [
  {
   "cell_type": "code",
   "execution_count": 1,
   "metadata": {},
   "outputs": [],
   "source": [
    "import numpy_financial as npf\n",
    "import numpy as np"
   ]
  },
  {
   "cell_type": "markdown",
   "metadata": {},
   "source": [
    "## Cálculo considerando seguro y dispositivo\n",
    "### Datos"
   ]
  },
  {
   "cell_type": "code",
   "execution_count": 5,
   "metadata": {},
   "outputs": [],
   "source": [
    "vehiculo = 37990\n",
    "entrada = 12000\n",
    "cuota = 751.61\n",
    "periodos = 60\n",
    "\n",
    "#adicionales\n",
    "seguro = 1200\n",
    "dispositivo = 600"
   ]
  },
  {
   "cell_type": "markdown",
   "metadata": {},
   "source": [
    "### Pagos"
   ]
  },
  {
   "cell_type": "code",
   "execution_count": 6,
   "metadata": {},
   "outputs": [
    {
     "data": {
      "text/plain": [
       "array([-12000.  ,   -751.61,   -751.61,   -751.61,   -751.61,   -751.61,\n",
       "         -751.61,   -751.61,   -751.61,   -751.61,   -751.61,   -751.61,\n",
       "         -751.61,   -751.61,   -751.61,   -751.61,   -751.61,   -751.61,\n",
       "         -751.61,   -751.61,   -751.61,   -751.61,   -751.61,   -751.61,\n",
       "         -751.61,   -751.61,   -751.61,   -751.61,   -751.61,   -751.61,\n",
       "         -751.61,   -751.61,   -751.61,   -751.61,   -751.61,   -751.61,\n",
       "         -751.61,   -751.61,   -751.61,   -751.61,   -751.61,   -751.61,\n",
       "         -751.61,   -751.61,   -751.61,   -751.61,   -751.61,   -751.61,\n",
       "         -751.61,   -751.61,   -751.61,   -751.61,   -751.61,   -751.61,\n",
       "         -751.61,   -751.61,   -751.61,   -751.61,   -751.61,   -751.61,\n",
       "         -751.61])"
      ]
     },
     "execution_count": 6,
     "metadata": {},
     "output_type": "execute_result"
    }
   ],
   "source": [
    "debitos = -np.ones(periodos)*cuota # 60 pagos mensuales\n",
    "debitos = np.insert(debitos,0,-entrada) # 1er pago sería la entrada\n",
    "debitos"
   ]
  },
  {
   "cell_type": "markdown",
   "metadata": {},
   "source": [
    "### Productos a recibir"
   ]
  },
  {
   "cell_type": "code",
   "execution_count": 7,
   "metadata": {},
   "outputs": [
    {
     "data": {
      "text/plain": [
       "array([39790.,     0.,     0.,     0.,     0.,     0.,     0.,     0.,\n",
       "           0.,     0.,     0.,     0.,  1200.,     0.,     0.,     0.,\n",
       "           0.,     0.,     0.,     0.,     0.,     0.,     0.,     0.,\n",
       "        1200.,     0.,     0.,     0.,     0.,     0.,     0.,     0.,\n",
       "           0.,     0.,     0.,     0.,  1200.,     0.,     0.,     0.,\n",
       "           0.,     0.,     0.,     0.,     0.,     0.,     0.,     0.,\n",
       "        1200.,     0.,     0.,     0.,     0.,     0.,     0.,     0.,\n",
       "           0.,     0.,     0.,     0.,     0.])"
      ]
     },
     "execution_count": 7,
     "metadata": {},
     "output_type": "execute_result"
    }
   ],
   "source": [
    "creditos = np.zeros(periodos+1)\n",
    "creditos[0] = vehiculo + seguro + dispositivo # lo que se recibe en el momento de la compra\n",
    "creditos[12] = seguro # seguro del 2do año\n",
    "creditos[24] = seguro # seguro del 3er año\n",
    "creditos[36] = seguro # seguro del 4to año\n",
    "creditos[48] = seguro # seguro del 5to año\n",
    "creditos"
   ]
  },
  {
   "cell_type": "markdown",
   "metadata": {},
   "source": [
    "### Calculando la tasa de interés"
   ]
  },
  {
   "cell_type": "code",
   "execution_count": 8,
   "metadata": {},
   "outputs": [
    {
     "data": {
      "text/plain": [
       "'La tasa anual es: 16.92%'"
      ]
     },
     "execution_count": 8,
     "metadata": {},
     "output_type": "execute_result"
    }
   ],
   "source": [
    "tasa_mensual = npf.irr(creditos+debitos)\n",
    "tasa_anual = (1 + tasa_mensual)**12-1\n",
    "f'La tasa anual es: {tasa_anual:.2%}'"
   ]
  }
 ],
 "metadata": {
  "kernelspec": {
   "display_name": "Python 3",
   "language": "python",
   "name": "python3"
  },
  "language_info": {
   "codemirror_mode": {
    "name": "ipython",
    "version": 3
   },
   "file_extension": ".py",
   "mimetype": "text/x-python",
   "name": "python",
   "nbconvert_exporter": "python",
   "pygments_lexer": "ipython3",
   "version": "3.8.8"
  }
 },
 "nbformat": 4,
 "nbformat_minor": 4
}
