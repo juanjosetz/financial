{
 "cells": [
  {
   "cell_type": "markdown",
   "metadata": {},
   "source": [
    "# Valoración de Títulos"
   ]
  },
  {
   "cell_type": "markdown",
   "metadata": {},
   "source": [
    "**Autor:   Juan José Triviño Zambrano**  \n",
    "**Fecha:   Mayo 30, 2020**\n"
   ]
  },
  {
   "cell_type": "markdown",
   "metadata": {},
   "source": [
    "Valorar un instrumento financiero es un proceso que lo realizan por lo general los analistas financieros solamente, pues es una técnica que aunque no es dificil de implementarla, esta lejos del conocimiento común de los inversores. Es más, los analistas persé pueden encontrar dificultades/complicaciones a la hora de analizar estos instrumentos, ya que es muy común utilizar herramientas ortodoxas en donde el manejo de la información es demasiado manual, generando complicaciones y/o errores en el proceso.\n",
    "\n",
    "En este documento crearé un sistema automatizado utilizando **Python** en conjunto con sus potentes librerías de análisis de datos y visualización gráfica, entre otras, que resuelva el análisis de títulos de inversión en cuestión de segundos."
   ]
  },
  {
   "cell_type": "markdown",
   "metadata": {},
   "source": [
    "## Fuente de la información\n",
    "### Bolsa de Valores de Guayaquil\n",
    "\n",
    "La Bolsa de Valores de Guayaquil a través de su [sitio web](https://www.bolsadevaloresguayaquil.com/valoracion/index.asp), en el apartado de valoración, publica información referente a títulos de renta fija y renta variable. No es la mejor forma de presentar la información(a través de hojas de cálculo), que en sí denota la falta de técnica en la publicación de la información, hay que decir que esta forma anticuada la viene realizando desde el año 2006 sin que en todos estos años, hayan innovado o mejorado la forma de proporcionar la información a sus usuarios/clientes. Aún así, \"es lo que hay\" y se le puede sacar provecho de alguna manera.\n",
    "\n",
    "La información viene presentada en dos vertientes:\n",
    "1. **Diaria:** Que regoge la información diaria de los títulos, la cuál solo está disponible en su último día, actualizándose cada dia laborable.\n",
    "2. **Histórica:** Que recoge la información de forma trimestral, para cual existe un directorio para todo su historial desde el año 2006."
   ]
  },
  {
   "cell_type": "markdown",
   "metadata": {},
   "source": [
    "## Echando mano al código\n",
    "### Descargando los archivos desde el directorio web\n",
    "Nos vamos a centrar ahora en descargar toda esa información `Histórica` y lo haremos no de la forma ortodoxa que casi todo el mundo haría, sino que diseñaremos una función para que haga el trabajo por nosotros.\n",
    "Además de descargarlos, la diseñaremos para que le dé un nombre más adecuado a los archivos `(aa-mm-dd)`, para que estén mejor ordenado y tengan un formato de fecha conforme lo exigen los estándares."
   ]
  },
  {
   "cell_type": "code",
   "execution_count": 1,
   "metadata": {},
   "outputs": [],
   "source": [
    "from bs4 import BeautifulSoup\n",
    "import requests\n",
    "import re"
   ]
  },
  {
   "cell_type": "code",
   "execution_count": 2,
   "metadata": {},
   "outputs": [],
   "source": [
    "def descargar_archivos():\n",
    "    url = \"https://www.bolsadevaloresguayaquil.com/valoracion/Historico/\"\n",
    "    codigo_html = requests.get(url).text\n",
    "    web = BeautifulSoup(codigo_html, \"lxml\")\n",
    "    links = web.find_all('a')\n",
    "    url_links = [url[:39] + links[href].get('href') for href in range(1,len(links))]\n",
    "    meses = {'Enero':'01', 'Febrero':'02', 'Marzo':'03', 'Abril':'04', 'Mayo':'05', 'Junio':'06',\n",
    "             'Julio':'07', 'Agosto':'08', 'Septiembre':'09', 'Octubre':'10', 'Noviembre':'11', 'Diciembre':'12'}   \n",
    "    for url in url_links:\n",
    "        idx = url.rfind('/')\n",
    "        nombre_ini = url[idx+1:]\n",
    "        lista = re.findall('\\d+|\\D+', nombre_ini)\n",
    "        if len(lista) == 4:\n",
    "            nombre_fin = f'{lista[2]}-{meses[lista[1]]}-{lista[0]}{lista[3]}'\n",
    "            resp = requests.get(url)\n",
    "            with open(nombre_fin, 'wb') as output:\n",
    "                output.write(resp.content)"
   ]
  },
  {
   "cell_type": "markdown",
   "metadata": {},
   "source": [
    "## Operaciones con los datos extraídos\n",
    "Ya con la data disponible, se podría hacer un modelado dinámico, ya que tenemos información a través del tiempo, con lo cual armar sin problemas un panel de datos donde la librería `pandas` es una herramienta muy poderosa, de hecho su nombre deriva de '*panel data*'. Pero dejaremos ese trabajo para otra ocasión, en un posterior análisis.\n",
    "\n",
    "Por esta vez nos vamos a concentrar en analizar la información contenida en un solo fichero de datos, para lo cual necesitamos extraer la información relevante que vamos a utilizar.\n",
    "\n",
    "Uno de los problemas(de los tantos) de las hojas de cálculo, es que la información puede venir 'desorganizada y sucia'. No hay problema, diseñaremos una función que nos permita extraer la data relevante para nuestro análisis, descartando la información que no vayamos a utilizar."
   ]
  },
  {
   "cell_type": "markdown",
   "metadata": {},
   "source": [
    "Lo primero será importar la librerias que vamos a necesitar:"
   ]
  },
  {
   "cell_type": "code",
   "execution_count": 1,
   "metadata": {},
   "outputs": [],
   "source": [
    "import numpy as np\n",
    "import pandas as pd\n",
    "import sympy as sym\n",
    "import matplotlib.pyplot as plt\n",
    "from scipy import stats\n",
    "from scipy.optimize import minimize\n",
    "import warnings\n",
    "%matplotlib inline\n",
    "warnings.filterwarnings('ignore')"
   ]
  },
  {
   "cell_type": "markdown",
   "metadata": {},
   "source": [
    "### Extrayendo los datos de un archivo\n",
    "Dentro del proceso de valoración descrito en el [Manual Operativo](https://www.bolsadevaloresguayaquil.com/valoracion/vectores/res_cnv_003_2005.pdf) para la valoración a precios de mercado, publicado por el Consejo Nacional de Valores, se indica que estos instrumentos tienen que ser categorizados de acuerdo a sus características intrínsecas:\n",
    "- Clase;\n",
    "- Calificación;\n",
    "- Tipo de tasa;\n",
    "- Moneda; y,\n",
    "- Días a vencimiento\n",
    "\n",
    "Considerando que el tipo de tasa es fija, que la moneda también es fija y que los días a vencimiento es la variable explicativa que vamos a trabajar, entonces la categorización ha de hacerse bajo los parámetros de clase y calificación de riesgo."
   ]
  },
  {
   "cell_type": "markdown",
   "metadata": {},
   "source": [
    "#### Clase de título \n",
    "Los parámetros asignados a la agrupación por clase de título son los siguientes:"
   ]
  },
  {
   "cell_type": "markdown",
   "metadata": {},
   "source": [
    "<style type=\"text/css\">\n",
    ".tg  {border-collapse:collapse;border-spacing:0;}\n",
    ".tg td{border-color:black;border-style:solid;border-width:1px;font-family:Arial, sans-serif;font-size:14px;\n",
    "  overflow:hidden;padding:10px 5px;word-break:normal;}\n",
    ".tg th{border-color:black;border-style:solid;border-width:1px;font-family:Arial, sans-serif;font-size:14px;\n",
    "  font-weight:normal;overflow:hidden;padding:10px 5px;word-break:normal;}\n",
    ".tg .tg-c3ow{border-color:inherit;text-align:center;vertical-align:top}\n",
    ".tg .tg-kq0l{background-color:#38fff8;border-color:inherit;font-weight:bold;text-align:center;vertical-align:top}\n",
    "</style>\n",
    "<table class=\"tg\">\n",
    "<thead>\n",
    "  <tr> \n",
    "    <th class=\"tg-kq0l\">Código</th>\n",
    "    <th class=\"tg-kq0l\">Clase</th>\n",
    "  </tr>\n",
    "</thead>\n",
    "<tbody>\n",
    "  <tr>\n",
    "    <td class=\"tg-c3ow\">00001</td>\n",
    "    <td class=\"tg-c3ow\">Min. Fin. / Bco. Central</td>\n",
    "  </tr>\n",
    "  <tr>\n",
    "    <td class=\"tg-c3ow\">00002</td>\n",
    "    <td class=\"tg-c3ow\">Otros sector público</td>\n",
    "  </tr>\n",
    "  <tr>\n",
    "    <td class=\"tg-c3ow\">00003</td>\n",
    "    <td class=\"tg-c3ow\">Sector privado financiero</td>\n",
    "  </tr>\n",
    "  <tr>\n",
    "    <td class=\"tg-c3ow\">00004</td>\n",
    "    <td class=\"tg-c3ow\">Sector privado no financiero</td>\n",
    "  </tr>\n",
    "  <tr>\n",
    "    <td class=\"tg-c3ow\">00005</td>\n",
    "    <td class=\"tg-c3ow\">Multilaterales y supranacionales</td>\n",
    "  </tr>\n",
    "</tbody>\n",
    "</table>"
   ]
  },
  {
   "cell_type": "markdown",
   "metadata": {},
   "source": [
    "#### Calificación de Riesgo\n",
    "Los parámetros asignados a la agrupación por calificación de riesgo son los siguientes:"
   ]
  },
  {
   "cell_type": "markdown",
   "metadata": {},
   "source": [
    "<style type=\"text/css\">\n",
    ".tg  {border-collapse:collapse;border-spacing:0;}\n",
    ".tg td{border-style:solid;border-width:0px;font-family:Arial, sans-serif;font-size:14px;overflow:hidden;\n",
    "  padding:10px 5px;word-break:normal;}\n",
    ".tg th{border-style:solid;border-width:0px;font-family:Arial, sans-serif;font-size:14px;font-weight:normal;\n",
    "  overflow:hidden;padding:10px 5px;word-break:normal;}\n",
    ".tg .tg-c3ow{border-color:inherit;text-align:center;vertical-align:top}\n",
    ".tg .tg-kq0l{background-color:#38fff8;border-color:inherit;font-weight:bold;text-align:center;vertical-align:top}\n",
    "</style>\n",
    "<table class=\"tg\">\n",
    "<thead>\n",
    "  <tr>\n",
    "    <th class=\"tg-kq0l\">Código</th>\n",
    "    <th class=\"tg-kq0l\">Calificación</th>\n",
    "  </tr>\n",
    "</thead>\n",
    "<tbody>\n",
    "  <tr>\n",
    "    <td class=\"tg-c3ow\">01000</td>\n",
    "    <td class=\"tg-c3ow\">AAA+, AAA, AAA-</td>\n",
    "  </tr>\n",
    "  <tr>\n",
    "    <td class=\"tg-c3ow\">02000</td>\n",
    "    <td class=\"tg-c3ow\">AA+, AA, AA-</td>\n",
    "  </tr>\n",
    "  <tr>\n",
    "    <td class=\"tg-c3ow\">03000</td>\n",
    "    <td class=\"tg-c3ow\">A+, A, A-</td>\n",
    "  </tr>\n",
    "  <tr>\n",
    "    <td class=\"tg-c3ow\">04000</td>\n",
    "    <td class=\"tg-c3ow\">BBB+, BBB, BBB-</td>\n",
    "  </tr>\n",
    "  <tr>\n",
    "    <td class=\"tg-c3ow\">05000</td>\n",
    "    <td class=\"tg-c3ow\">Menor a BBB-</td>\n",
    "  </tr>\n",
    "  <tr>\n",
    "    <td class=\"tg-c3ow\">06000</td>\n",
    "    <td class=\"tg-c3ow\">Sin Calificación</td>\n",
    "  </tr>\n",
    "</tbody>\n",
    "</table>"
   ]
  },
  {
   "cell_type": "markdown",
   "metadata": {},
   "source": [
    "Dado lo anterior, se necesitará crear una función que permita extraer los datos considerando los filtros indicados.\n",
    "Por defecto seleccionaremos los que sean del sector privado financiero(Obligaciones y que pertenezcan a la categoría más alta de calificación de riesgo. Aunque esto es perfectamente parametrizable."
   ]
  },
  {
   "cell_type": "code",
   "execution_count": 2,
   "metadata": {},
   "outputs": [],
   "source": [
    "def extraer_datos(archivo, calificacion, titulo):\n",
    "    \"\"\"\n",
    "    Extrae los datos de Plazo al vencimiento y Tasa nominal equibvalente desde un fichero excel\n",
    "\n",
    "    Parameters\n",
    "    ----------\n",
    "    archivo : str\n",
    "        Nombre o ruta donde se encuentra alojado el archivo\n",
    "    calificacion : list-like\n",
    "        Calificación o categoría de calificaciones de riesgo\n",
    "    titulo : str\n",
    "        Clase de titulo dada la naturaleza de su emisor\n",
    "        \n",
    "    Returns\n",
    "    -------\n",
    "    plazo_rend: DataFrame\n",
    "        Compuesto de tiempo para el vencimiento y su tasa nominal\n",
    "\n",
    "    \"\"\"\n",
    "    df = pd.read_excel(archivo, header = 6, index_col=0)\n",
    "    df.dropna(how='all', inplace=True)\n",
    "    df = df.loc[df.index.dropna()]\n",
    "    df.index=df.index.astype(int)\n",
    "    homogeneos = df[(df['CALIFICACION'].isin(calificacion)) & (df['TITULO'].str.contains(titulo))]\n",
    "    homogeneos = homogeneos[['EMISOR', 'PLAZO POR VENCER', 'TASA NOMINAL EQUIVALENTE %']]\n",
    "    homogeneos.sort_values('PLAZO POR VENCER', inplace=True)\n",
    "    return homogeneos"
   ]
  },
  {
   "cell_type": "markdown",
   "metadata": {},
   "source": [
    "#### Tabla de Calificaciones\n",
    "Generamos una tabla de datos con las calificaciones categorizadas según lo visto anteriormente, para luego hacer uso de ella seleccionando las categorías que vayamos a analizar."
   ]
  },
  {
   "cell_type": "code",
   "execution_count": 141,
   "metadata": {},
   "outputs": [
    {
     "data": {
      "text/html": [
       "<div>\n",
       "<style scoped>\n",
       "    .dataframe tbody tr th:only-of-type {\n",
       "        vertical-align: middle;\n",
       "    }\n",
       "\n",
       "    .dataframe tbody tr th {\n",
       "        vertical-align: top;\n",
       "    }\n",
       "\n",
       "    .dataframe thead th {\n",
       "        text-align: right;\n",
       "    }\n",
       "</style>\n",
       "<table border=\"1\" class=\"dataframe\">\n",
       "  <thead>\n",
       "    <tr style=\"text-align: right;\">\n",
       "      <th></th>\n",
       "      <th>Calificacion</th>\n",
       "    </tr>\n",
       "    <tr>\n",
       "      <th>Codigo</th>\n",
       "      <th></th>\n",
       "    </tr>\n",
       "  </thead>\n",
       "  <tbody>\n",
       "    <tr>\n",
       "      <th>01000</th>\n",
       "      <td>[AAA+, AAA, AAA-]</td>\n",
       "    </tr>\n",
       "    <tr>\n",
       "      <th>02000</th>\n",
       "      <td>[AA+, AA, AA-]</td>\n",
       "    </tr>\n",
       "    <tr>\n",
       "      <th>03000</th>\n",
       "      <td>[A+, A,  A-]</td>\n",
       "    </tr>\n",
       "    <tr>\n",
       "      <th>04000</th>\n",
       "      <td>[BBB+, BBB, BBB-]</td>\n",
       "    </tr>\n",
       "    <tr>\n",
       "      <th>05000</th>\n",
       "      <td>[BB, B, C, D, E]</td>\n",
       "    </tr>\n",
       "  </tbody>\n",
       "</table>\n",
       "</div>"
      ],
      "text/plain": [
       "             Calificacion\n",
       "Codigo                   \n",
       "01000   [AAA+, AAA, AAA-]\n",
       "02000      [AA+, AA, AA-]\n",
       "03000        [A+, A,  A-]\n",
       "04000   [BBB+, BBB, BBB-]\n",
       "05000    [BB, B, C, D, E]"
      ]
     },
     "execution_count": 141,
     "metadata": {},
     "output_type": "execute_result"
    }
   ],
   "source": [
    "cal = {'Codigo':['01000','02000', '03000','04000', '05000'], 'Calificacion': [[\"AAA+\", \"AAA\", \"AAA-\"],\\\n",
    "                                                                        [\"AA+\", \"AA\", \"AA-\"],\\\n",
    "                                                                        [\"A+\", \"A\",\" A-\"],\\\n",
    "                                                                        [\"BBB+\", \"BBB\", \"BBB-\"],\\\n",
    "                                                                        [\"BB\", \"B\", \"C\", \"D\", \"E\"]]}\n",
    "tabla_calificaciones = pd.DataFrame(cal).set_index('Codigo')\n",
    "tabla_calificaciones"
   ]
  },
  {
   "cell_type": "code",
   "execution_count": 172,
   "metadata": {},
   "outputs": [],
   "source": [
    "# Extrayendo las calificaciones según categoría escogida\n",
    "from pandas.core.common import flatten\n",
    "categorias_seleccionadas = ['01000']\n",
    "calificaciones_seleccionadas = tabla_calificaciones.loc[categorias_seleccionadas].values\n",
    "\n",
    "# Parámetros\n",
    "archivo = 'archivos/20-04-30.xls'\n",
    "calificaciones = list(flatten(calificaciones_seleccionadas))\n",
    "tipo = \"OBLIGACIONES\""
   ]
  },
  {
   "cell_type": "markdown",
   "metadata": {},
   "source": [
    "#### Demostración de la función"
   ]
  },
  {
   "cell_type": "code",
   "execution_count": 173,
   "metadata": {},
   "outputs": [
    {
     "data": {
      "text/html": [
       "<div>\n",
       "<style scoped>\n",
       "    .dataframe tbody tr th:only-of-type {\n",
       "        vertical-align: middle;\n",
       "    }\n",
       "\n",
       "    .dataframe tbody tr th {\n",
       "        vertical-align: top;\n",
       "    }\n",
       "\n",
       "    .dataframe thead th {\n",
       "        text-align: right;\n",
       "    }\n",
       "</style>\n",
       "<table border=\"1\" class=\"dataframe\">\n",
       "  <thead>\n",
       "    <tr style=\"text-align: right;\">\n",
       "      <th></th>\n",
       "      <th>EMISOR</th>\n",
       "      <th>PLAZO POR VENCER</th>\n",
       "      <th>TASA NOMINAL EQUIVALENTE %</th>\n",
       "    </tr>\n",
       "  </thead>\n",
       "  <tbody>\n",
       "    <tr>\n",
       "      <th>278</th>\n",
       "      <td>LA FABRIL S.A.</td>\n",
       "      <td>371.0</td>\n",
       "      <td>6.685069</td>\n",
       "    </tr>\n",
       "    <tr>\n",
       "      <th>90</th>\n",
       "      <td>CORPORACION JCEVCORP CIA. LTDA</td>\n",
       "      <td>397.0</td>\n",
       "      <td>6.290200</td>\n",
       "    </tr>\n",
       "    <tr>\n",
       "      <th>834</th>\n",
       "      <td>RYC S.A.</td>\n",
       "      <td>405.0</td>\n",
       "      <td>6.336718</td>\n",
       "    </tr>\n",
       "    <tr>\n",
       "      <th>778</th>\n",
       "      <td>MUNDO DEPORTIVO MEDEPORT S.A.</td>\n",
       "      <td>408.0</td>\n",
       "      <td>6.353914</td>\n",
       "    </tr>\n",
       "    <tr>\n",
       "      <th>56</th>\n",
       "      <td>CEPSA S.A.</td>\n",
       "      <td>412.0</td>\n",
       "      <td>6.376635</td>\n",
       "    </tr>\n",
       "    <tr>\n",
       "      <th>...</th>\n",
       "      <td>...</td>\n",
       "      <td>...</td>\n",
       "      <td>...</td>\n",
       "    </tr>\n",
       "    <tr>\n",
       "      <th>267</th>\n",
       "      <td>INMOBILIARIA LAVIE S.A.</td>\n",
       "      <td>2127.0</td>\n",
       "      <td>7.543234</td>\n",
       "    </tr>\n",
       "    <tr>\n",
       "      <th>113</th>\n",
       "      <td>DISTRIBUIDORA FARMACEUTICA ECUATORIANA DIFARE ...</td>\n",
       "      <td>2133.0</td>\n",
       "      <td>7.548182</td>\n",
       "    </tr>\n",
       "    <tr>\n",
       "      <th>880</th>\n",
       "      <td>TIENDAS INDUSTRIALES ASOCIADAS TIA S.A.</td>\n",
       "      <td>2160.0</td>\n",
       "      <td>7.570212</td>\n",
       "    </tr>\n",
       "    <tr>\n",
       "      <th>284</th>\n",
       "      <td>LA FABRIL S.A.</td>\n",
       "      <td>2364.0</td>\n",
       "      <td>7.675633</td>\n",
       "    </tr>\n",
       "    <tr>\n",
       "      <th>881</th>\n",
       "      <td>TIENDAS INDUSTRIALES ASOCIADAS TIA S.A.</td>\n",
       "      <td>2693.0</td>\n",
       "      <td>6.961877</td>\n",
       "    </tr>\n",
       "  </tbody>\n",
       "</table>\n",
       "<p>138 rows × 3 columns</p>\n",
       "</div>"
      ],
      "text/plain": [
       "                                                EMISOR  PLAZO POR VENCER  \\\n",
       "278                                     LA FABRIL S.A.             371.0   \n",
       "90                      CORPORACION JCEVCORP CIA. LTDA             397.0   \n",
       "834                                           RYC S.A.             405.0   \n",
       "778                      MUNDO DEPORTIVO MEDEPORT S.A.             408.0   \n",
       "56                                          CEPSA S.A.             412.0   \n",
       "..                                                 ...               ...   \n",
       "267                            INMOBILIARIA LAVIE S.A.            2127.0   \n",
       "113  DISTRIBUIDORA FARMACEUTICA ECUATORIANA DIFARE ...            2133.0   \n",
       "880            TIENDAS INDUSTRIALES ASOCIADAS TIA S.A.            2160.0   \n",
       "284                                     LA FABRIL S.A.            2364.0   \n",
       "881            TIENDAS INDUSTRIALES ASOCIADAS TIA S.A.            2693.0   \n",
       "\n",
       "     TASA NOMINAL EQUIVALENTE %  \n",
       "278                    6.685069  \n",
       "90                     6.290200  \n",
       "834                    6.336718  \n",
       "778                    6.353914  \n",
       "56                     6.376635  \n",
       "..                          ...  \n",
       "267                    7.543234  \n",
       "113                    7.548182  \n",
       "880                    7.570212  \n",
       "284                    7.675633  \n",
       "881                    6.961877  \n",
       "\n",
       "[138 rows x 3 columns]"
      ]
     },
     "execution_count": 173,
     "metadata": {},
     "output_type": "execute_result"
    }
   ],
   "source": [
    "datos = extraer_datos(archivo, calificacion=calificaciones, titulo=tipo)\n",
    "datos"
   ]
  },
  {
   "cell_type": "markdown",
   "metadata": {},
   "source": [
    "La tabla anterior contiene los datos de plazo al vencimiento y tasa nominal equivalente de los títulos, filtrados según lo especificado en la función"
   ]
  },
  {
   "cell_type": "markdown",
   "metadata": {},
   "source": [
    "## Valoración\n",
    "### Modelos de regresión \n",
    "\n",
    "Es común trabajar con modelos matemáticos para estimar variables en función de otra/s, los modelos de regresión más comunes son:"
   ]
  },
  {
   "cell_type": "markdown",
   "metadata": {},
   "source": [
    "\\begin{aligned}\n",
    "Modelo\\:lineal :\\: &\\large r = \\beta_0 + \\beta_1 t + \\epsilon \\\\\n",
    "Modelo\\:lin-log :\\:  &\\large r = \\beta_0 + \\beta_1 \\ln(t) + \\epsilon\n",
    "\\end{aligned}\n",
    "\n",
    "donde:\n",
    "- r = Rendimiento esperado del título\n",
    "- t = Tiempo al vencimiento del título"
   ]
  },
  {
   "cell_type": "markdown",
   "metadata": {},
   "source": [
    "Ahora una función que me permita correr estas dos regresiones:"
   ]
  },
  {
   "cell_type": "code",
   "execution_count": 6,
   "metadata": {},
   "outputs": [],
   "source": [
    "def regresiones(datos):\n",
    "    r = datos['TASA NOMINAL EQUIVALENTE %']\n",
    "    t = datos['PLAZO POR VENCER']\n",
    "    # Elimino valores extremos que se salen de los limites de control(outliers)\n",
    "    datos = datos[r.isin(r[r.between(r.quantile(.025), r.quantile(0.975))])]\n",
    "    datos = datos[t.isin(t[t.between(t.quantile(.025), t.quantile(0.95))])]\n",
    "    # Actualizar los datos\n",
    "    r = datos['TASA NOMINAL EQUIVALENTE %']\n",
    "    t = datos['PLAZO POR VENCER']\n",
    "    # Correr las regresiones\n",
    "    reg_lin = stats.linregress(t, r)\n",
    "    reg_log = stats.linregress(np.log(t), r)  \n",
    "    # Generar las gráficas\n",
    "    plt.figure(figsize=(12,6))\n",
    "    plt.plot(t, r, 'o', label='Datos')\n",
    "    plt.plot(t, reg_lin[0]*t + reg_lin[1], 'r',\n",
    "             label=f'${round(reg_lin[0],3)}t+{round(reg_lin[1], 3)};\\\n",
    "             ;R^{2}={round(reg_lin[2]**2,4)}$')\n",
    "    plt.plot(t, reg_log[0]*np.log(t) + reg_log[1], 'g',\n",
    "             label=f'${round(reg_log[0],3)}\\cdot ln(t){round(reg_log[1], 3)};\\\n",
    "             ;R^{2}={round(reg_log[2]**2,4)}$')\n",
    "    plt.legend()\n",
    "    plt.show()"
   ]
  },
  {
   "cell_type": "code",
   "execution_count": 7,
   "metadata": {},
   "outputs": [
    {
     "data": {
      "application/javascript": [
       "/* Put everything inside the global mpl namespace */\n",
       "window.mpl = {};\n",
       "\n",
       "\n",
       "mpl.get_websocket_type = function() {\n",
       "    if (typeof(WebSocket) !== 'undefined') {\n",
       "        return WebSocket;\n",
       "    } else if (typeof(MozWebSocket) !== 'undefined') {\n",
       "        return MozWebSocket;\n",
       "    } else {\n",
       "        alert('Your browser does not have WebSocket support. ' +\n",
       "              'Please try Chrome, Safari or Firefox ≥ 6. ' +\n",
       "              'Firefox 4 and 5 are also supported but you ' +\n",
       "              'have to enable WebSockets in about:config.');\n",
       "    };\n",
       "}\n",
       "\n",
       "mpl.figure = function(figure_id, websocket, ondownload, parent_element) {\n",
       "    this.id = figure_id;\n",
       "\n",
       "    this.ws = websocket;\n",
       "\n",
       "    this.supports_binary = (this.ws.binaryType != undefined);\n",
       "\n",
       "    if (!this.supports_binary) {\n",
       "        var warnings = document.getElementById(\"mpl-warnings\");\n",
       "        if (warnings) {\n",
       "            warnings.style.display = 'block';\n",
       "            warnings.textContent = (\n",
       "                \"This browser does not support binary websocket messages. \" +\n",
       "                    \"Performance may be slow.\");\n",
       "        }\n",
       "    }\n",
       "\n",
       "    this.imageObj = new Image();\n",
       "\n",
       "    this.context = undefined;\n",
       "    this.message = undefined;\n",
       "    this.canvas = undefined;\n",
       "    this.rubberband_canvas = undefined;\n",
       "    this.rubberband_context = undefined;\n",
       "    this.format_dropdown = undefined;\n",
       "\n",
       "    this.image_mode = 'full';\n",
       "\n",
       "    this.root = $('<div/>');\n",
       "    this._root_extra_style(this.root)\n",
       "    this.root.attr('style', 'display: inline-block');\n",
       "\n",
       "    $(parent_element).append(this.root);\n",
       "\n",
       "    this._init_header(this);\n",
       "    this._init_canvas(this);\n",
       "    this._init_toolbar(this);\n",
       "\n",
       "    var fig = this;\n",
       "\n",
       "    this.waiting = false;\n",
       "\n",
       "    this.ws.onopen =  function () {\n",
       "            fig.send_message(\"supports_binary\", {value: fig.supports_binary});\n",
       "            fig.send_message(\"send_image_mode\", {});\n",
       "            if (mpl.ratio != 1) {\n",
       "                fig.send_message(\"set_dpi_ratio\", {'dpi_ratio': mpl.ratio});\n",
       "            }\n",
       "            fig.send_message(\"refresh\", {});\n",
       "        }\n",
       "\n",
       "    this.imageObj.onload = function() {\n",
       "            if (fig.image_mode == 'full') {\n",
       "                // Full images could contain transparency (where diff images\n",
       "                // almost always do), so we need to clear the canvas so that\n",
       "                // there is no ghosting.\n",
       "                fig.context.clearRect(0, 0, fig.canvas.width, fig.canvas.height);\n",
       "            }\n",
       "            fig.context.drawImage(fig.imageObj, 0, 0);\n",
       "        };\n",
       "\n",
       "    this.imageObj.onunload = function() {\n",
       "        fig.ws.close();\n",
       "    }\n",
       "\n",
       "    this.ws.onmessage = this._make_on_message_function(this);\n",
       "\n",
       "    this.ondownload = ondownload;\n",
       "}\n",
       "\n",
       "mpl.figure.prototype._init_header = function() {\n",
       "    var titlebar = $(\n",
       "        '<div class=\"ui-dialog-titlebar ui-widget-header ui-corner-all ' +\n",
       "        'ui-helper-clearfix\"/>');\n",
       "    var titletext = $(\n",
       "        '<div class=\"ui-dialog-title\" style=\"width: 100%; ' +\n",
       "        'text-align: center; padding: 3px;\"/>');\n",
       "    titlebar.append(titletext)\n",
       "    this.root.append(titlebar);\n",
       "    this.header = titletext[0];\n",
       "}\n",
       "\n",
       "\n",
       "\n",
       "mpl.figure.prototype._canvas_extra_style = function(canvas_div) {\n",
       "\n",
       "}\n",
       "\n",
       "\n",
       "mpl.figure.prototype._root_extra_style = function(canvas_div) {\n",
       "\n",
       "}\n",
       "\n",
       "mpl.figure.prototype._init_canvas = function() {\n",
       "    var fig = this;\n",
       "\n",
       "    var canvas_div = $('<div/>');\n",
       "\n",
       "    canvas_div.attr('style', 'position: relative; clear: both; outline: 0');\n",
       "\n",
       "    function canvas_keyboard_event(event) {\n",
       "        return fig.key_event(event, event['data']);\n",
       "    }\n",
       "\n",
       "    canvas_div.keydown('key_press', canvas_keyboard_event);\n",
       "    canvas_div.keyup('key_release', canvas_keyboard_event);\n",
       "    this.canvas_div = canvas_div\n",
       "    this._canvas_extra_style(canvas_div)\n",
       "    this.root.append(canvas_div);\n",
       "\n",
       "    var canvas = $('<canvas/>');\n",
       "    canvas.addClass('mpl-canvas');\n",
       "    canvas.attr('style', \"left: 0; top: 0; z-index: 0; outline: 0\")\n",
       "\n",
       "    this.canvas = canvas[0];\n",
       "    this.context = canvas[0].getContext(\"2d\");\n",
       "\n",
       "    var backingStore = this.context.backingStorePixelRatio ||\n",
       "\tthis.context.webkitBackingStorePixelRatio ||\n",
       "\tthis.context.mozBackingStorePixelRatio ||\n",
       "\tthis.context.msBackingStorePixelRatio ||\n",
       "\tthis.context.oBackingStorePixelRatio ||\n",
       "\tthis.context.backingStorePixelRatio || 1;\n",
       "\n",
       "    mpl.ratio = (window.devicePixelRatio || 1) / backingStore;\n",
       "\n",
       "    var rubberband = $('<canvas/>');\n",
       "    rubberband.attr('style', \"position: absolute; left: 0; top: 0; z-index: 1;\")\n",
       "\n",
       "    var pass_mouse_events = true;\n",
       "\n",
       "    canvas_div.resizable({\n",
       "        start: function(event, ui) {\n",
       "            pass_mouse_events = false;\n",
       "        },\n",
       "        resize: function(event, ui) {\n",
       "            fig.request_resize(ui.size.width, ui.size.height);\n",
       "        },\n",
       "        stop: function(event, ui) {\n",
       "            pass_mouse_events = true;\n",
       "            fig.request_resize(ui.size.width, ui.size.height);\n",
       "        },\n",
       "    });\n",
       "\n",
       "    function mouse_event_fn(event) {\n",
       "        if (pass_mouse_events)\n",
       "            return fig.mouse_event(event, event['data']);\n",
       "    }\n",
       "\n",
       "    rubberband.mousedown('button_press', mouse_event_fn);\n",
       "    rubberband.mouseup('button_release', mouse_event_fn);\n",
       "    // Throttle sequential mouse events to 1 every 20ms.\n",
       "    rubberband.mousemove('motion_notify', mouse_event_fn);\n",
       "\n",
       "    rubberband.mouseenter('figure_enter', mouse_event_fn);\n",
       "    rubberband.mouseleave('figure_leave', mouse_event_fn);\n",
       "\n",
       "    canvas_div.on(\"wheel\", function (event) {\n",
       "        event = event.originalEvent;\n",
       "        event['data'] = 'scroll'\n",
       "        if (event.deltaY < 0) {\n",
       "            event.step = 1;\n",
       "        } else {\n",
       "            event.step = -1;\n",
       "        }\n",
       "        mouse_event_fn(event);\n",
       "    });\n",
       "\n",
       "    canvas_div.append(canvas);\n",
       "    canvas_div.append(rubberband);\n",
       "\n",
       "    this.rubberband = rubberband;\n",
       "    this.rubberband_canvas = rubberband[0];\n",
       "    this.rubberband_context = rubberband[0].getContext(\"2d\");\n",
       "    this.rubberband_context.strokeStyle = \"#000000\";\n",
       "\n",
       "    this._resize_canvas = function(width, height) {\n",
       "        // Keep the size of the canvas, canvas container, and rubber band\n",
       "        // canvas in synch.\n",
       "        canvas_div.css('width', width)\n",
       "        canvas_div.css('height', height)\n",
       "\n",
       "        canvas.attr('width', width * mpl.ratio);\n",
       "        canvas.attr('height', height * mpl.ratio);\n",
       "        canvas.attr('style', 'width: ' + width + 'px; height: ' + height + 'px;');\n",
       "\n",
       "        rubberband.attr('width', width);\n",
       "        rubberband.attr('height', height);\n",
       "    }\n",
       "\n",
       "    // Set the figure to an initial 600x600px, this will subsequently be updated\n",
       "    // upon first draw.\n",
       "    this._resize_canvas(600, 600);\n",
       "\n",
       "    // Disable right mouse context menu.\n",
       "    $(this.rubberband_canvas).bind(\"contextmenu\",function(e){\n",
       "        return false;\n",
       "    });\n",
       "\n",
       "    function set_focus () {\n",
       "        canvas.focus();\n",
       "        canvas_div.focus();\n",
       "    }\n",
       "\n",
       "    window.setTimeout(set_focus, 100);\n",
       "}\n",
       "\n",
       "mpl.figure.prototype._init_toolbar = function() {\n",
       "    var fig = this;\n",
       "\n",
       "    var nav_element = $('<div/>');\n",
       "    nav_element.attr('style', 'width: 100%');\n",
       "    this.root.append(nav_element);\n",
       "\n",
       "    // Define a callback function for later on.\n",
       "    function toolbar_event(event) {\n",
       "        return fig.toolbar_button_onclick(event['data']);\n",
       "    }\n",
       "    function toolbar_mouse_event(event) {\n",
       "        return fig.toolbar_button_onmouseover(event['data']);\n",
       "    }\n",
       "\n",
       "    for(var toolbar_ind in mpl.toolbar_items) {\n",
       "        var name = mpl.toolbar_items[toolbar_ind][0];\n",
       "        var tooltip = mpl.toolbar_items[toolbar_ind][1];\n",
       "        var image = mpl.toolbar_items[toolbar_ind][2];\n",
       "        var method_name = mpl.toolbar_items[toolbar_ind][3];\n",
       "\n",
       "        if (!name) {\n",
       "            // put a spacer in here.\n",
       "            continue;\n",
       "        }\n",
       "        var button = $('<button/>');\n",
       "        button.addClass('ui-button ui-widget ui-state-default ui-corner-all ' +\n",
       "                        'ui-button-icon-only');\n",
       "        button.attr('role', 'button');\n",
       "        button.attr('aria-disabled', 'false');\n",
       "        button.click(method_name, toolbar_event);\n",
       "        button.mouseover(tooltip, toolbar_mouse_event);\n",
       "\n",
       "        var icon_img = $('<span/>');\n",
       "        icon_img.addClass('ui-button-icon-primary ui-icon');\n",
       "        icon_img.addClass(image);\n",
       "        icon_img.addClass('ui-corner-all');\n",
       "\n",
       "        var tooltip_span = $('<span/>');\n",
       "        tooltip_span.addClass('ui-button-text');\n",
       "        tooltip_span.html(tooltip);\n",
       "\n",
       "        button.append(icon_img);\n",
       "        button.append(tooltip_span);\n",
       "\n",
       "        nav_element.append(button);\n",
       "    }\n",
       "\n",
       "    var fmt_picker_span = $('<span/>');\n",
       "\n",
       "    var fmt_picker = $('<select/>');\n",
       "    fmt_picker.addClass('mpl-toolbar-option ui-widget ui-widget-content');\n",
       "    fmt_picker_span.append(fmt_picker);\n",
       "    nav_element.append(fmt_picker_span);\n",
       "    this.format_dropdown = fmt_picker[0];\n",
       "\n",
       "    for (var ind in mpl.extensions) {\n",
       "        var fmt = mpl.extensions[ind];\n",
       "        var option = $(\n",
       "            '<option/>', {selected: fmt === mpl.default_extension}).html(fmt);\n",
       "        fmt_picker.append(option);\n",
       "    }\n",
       "\n",
       "    // Add hover states to the ui-buttons\n",
       "    $( \".ui-button\" ).hover(\n",
       "        function() { $(this).addClass(\"ui-state-hover\");},\n",
       "        function() { $(this).removeClass(\"ui-state-hover\");}\n",
       "    );\n",
       "\n",
       "    var status_bar = $('<span class=\"mpl-message\"/>');\n",
       "    nav_element.append(status_bar);\n",
       "    this.message = status_bar[0];\n",
       "}\n",
       "\n",
       "mpl.figure.prototype.request_resize = function(x_pixels, y_pixels) {\n",
       "    // Request matplotlib to resize the figure. Matplotlib will then trigger a resize in the client,\n",
       "    // which will in turn request a refresh of the image.\n",
       "    this.send_message('resize', {'width': x_pixels, 'height': y_pixels});\n",
       "}\n",
       "\n",
       "mpl.figure.prototype.send_message = function(type, properties) {\n",
       "    properties['type'] = type;\n",
       "    properties['figure_id'] = this.id;\n",
       "    this.ws.send(JSON.stringify(properties));\n",
       "}\n",
       "\n",
       "mpl.figure.prototype.send_draw_message = function() {\n",
       "    if (!this.waiting) {\n",
       "        this.waiting = true;\n",
       "        this.ws.send(JSON.stringify({type: \"draw\", figure_id: this.id}));\n",
       "    }\n",
       "}\n",
       "\n",
       "\n",
       "mpl.figure.prototype.handle_save = function(fig, msg) {\n",
       "    var format_dropdown = fig.format_dropdown;\n",
       "    var format = format_dropdown.options[format_dropdown.selectedIndex].value;\n",
       "    fig.ondownload(fig, format);\n",
       "}\n",
       "\n",
       "\n",
       "mpl.figure.prototype.handle_resize = function(fig, msg) {\n",
       "    var size = msg['size'];\n",
       "    if (size[0] != fig.canvas.width || size[1] != fig.canvas.height) {\n",
       "        fig._resize_canvas(size[0], size[1]);\n",
       "        fig.send_message(\"refresh\", {});\n",
       "    };\n",
       "}\n",
       "\n",
       "mpl.figure.prototype.handle_rubberband = function(fig, msg) {\n",
       "    var x0 = msg['x0'] / mpl.ratio;\n",
       "    var y0 = (fig.canvas.height - msg['y0']) / mpl.ratio;\n",
       "    var x1 = msg['x1'] / mpl.ratio;\n",
       "    var y1 = (fig.canvas.height - msg['y1']) / mpl.ratio;\n",
       "    x0 = Math.floor(x0) + 0.5;\n",
       "    y0 = Math.floor(y0) + 0.5;\n",
       "    x1 = Math.floor(x1) + 0.5;\n",
       "    y1 = Math.floor(y1) + 0.5;\n",
       "    var min_x = Math.min(x0, x1);\n",
       "    var min_y = Math.min(y0, y1);\n",
       "    var width = Math.abs(x1 - x0);\n",
       "    var height = Math.abs(y1 - y0);\n",
       "\n",
       "    fig.rubberband_context.clearRect(\n",
       "        0, 0, fig.canvas.width / mpl.ratio, fig.canvas.height / mpl.ratio);\n",
       "\n",
       "    fig.rubberband_context.strokeRect(min_x, min_y, width, height);\n",
       "}\n",
       "\n",
       "mpl.figure.prototype.handle_figure_label = function(fig, msg) {\n",
       "    // Updates the figure title.\n",
       "    fig.header.textContent = msg['label'];\n",
       "}\n",
       "\n",
       "mpl.figure.prototype.handle_cursor = function(fig, msg) {\n",
       "    var cursor = msg['cursor'];\n",
       "    switch(cursor)\n",
       "    {\n",
       "    case 0:\n",
       "        cursor = 'pointer';\n",
       "        break;\n",
       "    case 1:\n",
       "        cursor = 'default';\n",
       "        break;\n",
       "    case 2:\n",
       "        cursor = 'crosshair';\n",
       "        break;\n",
       "    case 3:\n",
       "        cursor = 'move';\n",
       "        break;\n",
       "    }\n",
       "    fig.rubberband_canvas.style.cursor = cursor;\n",
       "}\n",
       "\n",
       "mpl.figure.prototype.handle_message = function(fig, msg) {\n",
       "    fig.message.textContent = msg['message'];\n",
       "}\n",
       "\n",
       "mpl.figure.prototype.handle_draw = function(fig, msg) {\n",
       "    // Request the server to send over a new figure.\n",
       "    fig.send_draw_message();\n",
       "}\n",
       "\n",
       "mpl.figure.prototype.handle_image_mode = function(fig, msg) {\n",
       "    fig.image_mode = msg['mode'];\n",
       "}\n",
       "\n",
       "mpl.figure.prototype.updated_canvas_event = function() {\n",
       "    // Called whenever the canvas gets updated.\n",
       "    this.send_message(\"ack\", {});\n",
       "}\n",
       "\n",
       "// A function to construct a web socket function for onmessage handling.\n",
       "// Called in the figure constructor.\n",
       "mpl.figure.prototype._make_on_message_function = function(fig) {\n",
       "    return function socket_on_message(evt) {\n",
       "        if (evt.data instanceof Blob) {\n",
       "            /* FIXME: We get \"Resource interpreted as Image but\n",
       "             * transferred with MIME type text/plain:\" errors on\n",
       "             * Chrome.  But how to set the MIME type?  It doesn't seem\n",
       "             * to be part of the websocket stream */\n",
       "            evt.data.type = \"image/png\";\n",
       "\n",
       "            /* Free the memory for the previous frames */\n",
       "            if (fig.imageObj.src) {\n",
       "                (window.URL || window.webkitURL).revokeObjectURL(\n",
       "                    fig.imageObj.src);\n",
       "            }\n",
       "\n",
       "            fig.imageObj.src = (window.URL || window.webkitURL).createObjectURL(\n",
       "                evt.data);\n",
       "            fig.updated_canvas_event();\n",
       "            fig.waiting = false;\n",
       "            return;\n",
       "        }\n",
       "        else if (typeof evt.data === 'string' && evt.data.slice(0, 21) == \"data:image/png;base64\") {\n",
       "            fig.imageObj.src = evt.data;\n",
       "            fig.updated_canvas_event();\n",
       "            fig.waiting = false;\n",
       "            return;\n",
       "        }\n",
       "\n",
       "        var msg = JSON.parse(evt.data);\n",
       "        var msg_type = msg['type'];\n",
       "\n",
       "        // Call the  \"handle_{type}\" callback, which takes\n",
       "        // the figure and JSON message as its only arguments.\n",
       "        try {\n",
       "            var callback = fig[\"handle_\" + msg_type];\n",
       "        } catch (e) {\n",
       "            console.log(\"No handler for the '\" + msg_type + \"' message type: \", msg);\n",
       "            return;\n",
       "        }\n",
       "\n",
       "        if (callback) {\n",
       "            try {\n",
       "                // console.log(\"Handling '\" + msg_type + \"' message: \", msg);\n",
       "                callback(fig, msg);\n",
       "            } catch (e) {\n",
       "                console.log(\"Exception inside the 'handler_\" + msg_type + \"' callback:\", e, e.stack, msg);\n",
       "            }\n",
       "        }\n",
       "    };\n",
       "}\n",
       "\n",
       "// from http://stackoverflow.com/questions/1114465/getting-mouse-location-in-canvas\n",
       "mpl.findpos = function(e) {\n",
       "    //this section is from http://www.quirksmode.org/js/events_properties.html\n",
       "    var targ;\n",
       "    if (!e)\n",
       "        e = window.event;\n",
       "    if (e.target)\n",
       "        targ = e.target;\n",
       "    else if (e.srcElement)\n",
       "        targ = e.srcElement;\n",
       "    if (targ.nodeType == 3) // defeat Safari bug\n",
       "        targ = targ.parentNode;\n",
       "\n",
       "    // jQuery normalizes the pageX and pageY\n",
       "    // pageX,Y are the mouse positions relative to the document\n",
       "    // offset() returns the position of the element relative to the document\n",
       "    var x = e.pageX - $(targ).offset().left;\n",
       "    var y = e.pageY - $(targ).offset().top;\n",
       "\n",
       "    return {\"x\": x, \"y\": y};\n",
       "};\n",
       "\n",
       "/*\n",
       " * return a copy of an object with only non-object keys\n",
       " * we need this to avoid circular references\n",
       " * http://stackoverflow.com/a/24161582/3208463\n",
       " */\n",
       "function simpleKeys (original) {\n",
       "  return Object.keys(original).reduce(function (obj, key) {\n",
       "    if (typeof original[key] !== 'object')\n",
       "        obj[key] = original[key]\n",
       "    return obj;\n",
       "  }, {});\n",
       "}\n",
       "\n",
       "mpl.figure.prototype.mouse_event = function(event, name) {\n",
       "    var canvas_pos = mpl.findpos(event)\n",
       "\n",
       "    if (name === 'button_press')\n",
       "    {\n",
       "        this.canvas.focus();\n",
       "        this.canvas_div.focus();\n",
       "    }\n",
       "\n",
       "    var x = canvas_pos.x * mpl.ratio;\n",
       "    var y = canvas_pos.y * mpl.ratio;\n",
       "\n",
       "    this.send_message(name, {x: x, y: y, button: event.button,\n",
       "                             step: event.step,\n",
       "                             guiEvent: simpleKeys(event)});\n",
       "\n",
       "    /* This prevents the web browser from automatically changing to\n",
       "     * the text insertion cursor when the button is pressed.  We want\n",
       "     * to control all of the cursor setting manually through the\n",
       "     * 'cursor' event from matplotlib */\n",
       "    event.preventDefault();\n",
       "    return false;\n",
       "}\n",
       "\n",
       "mpl.figure.prototype._key_event_extra = function(event, name) {\n",
       "    // Handle any extra behaviour associated with a key event\n",
       "}\n",
       "\n",
       "mpl.figure.prototype.key_event = function(event, name) {\n",
       "\n",
       "    // Prevent repeat events\n",
       "    if (name == 'key_press')\n",
       "    {\n",
       "        if (event.which === this._key)\n",
       "            return;\n",
       "        else\n",
       "            this._key = event.which;\n",
       "    }\n",
       "    if (name == 'key_release')\n",
       "        this._key = null;\n",
       "\n",
       "    var value = '';\n",
       "    if (event.ctrlKey && event.which != 17)\n",
       "        value += \"ctrl+\";\n",
       "    if (event.altKey && event.which != 18)\n",
       "        value += \"alt+\";\n",
       "    if (event.shiftKey && event.which != 16)\n",
       "        value += \"shift+\";\n",
       "\n",
       "    value += 'k';\n",
       "    value += event.which.toString();\n",
       "\n",
       "    this._key_event_extra(event, name);\n",
       "\n",
       "    this.send_message(name, {key: value,\n",
       "                             guiEvent: simpleKeys(event)});\n",
       "    return false;\n",
       "}\n",
       "\n",
       "mpl.figure.prototype.toolbar_button_onclick = function(name) {\n",
       "    if (name == 'download') {\n",
       "        this.handle_save(this, null);\n",
       "    } else {\n",
       "        this.send_message(\"toolbar_button\", {name: name});\n",
       "    }\n",
       "};\n",
       "\n",
       "mpl.figure.prototype.toolbar_button_onmouseover = function(tooltip) {\n",
       "    this.message.textContent = tooltip;\n",
       "};\n",
       "mpl.toolbar_items = [[\"Home\", \"Reset original view\", \"fa fa-home icon-home\", \"home\"], [\"Back\", \"Back to previous view\", \"fa fa-arrow-left icon-arrow-left\", \"back\"], [\"Forward\", \"Forward to next view\", \"fa fa-arrow-right icon-arrow-right\", \"forward\"], [\"\", \"\", \"\", \"\"], [\"Pan\", \"Pan axes with left mouse, zoom with right\", \"fa fa-arrows icon-move\", \"pan\"], [\"Zoom\", \"Zoom to rectangle\", \"fa fa-square-o icon-check-empty\", \"zoom\"], [\"\", \"\", \"\", \"\"], [\"Download\", \"Download plot\", \"fa fa-floppy-o icon-save\", \"download\"]];\n",
       "\n",
       "mpl.extensions = [\"eps\", \"jpeg\", \"pdf\", \"png\", \"ps\", \"raw\", \"svg\", \"tif\"];\n",
       "\n",
       "mpl.default_extension = \"png\";var comm_websocket_adapter = function(comm) {\n",
       "    // Create a \"websocket\"-like object which calls the given IPython comm\n",
       "    // object with the appropriate methods. Currently this is a non binary\n",
       "    // socket, so there is still some room for performance tuning.\n",
       "    var ws = {};\n",
       "\n",
       "    ws.close = function() {\n",
       "        comm.close()\n",
       "    };\n",
       "    ws.send = function(m) {\n",
       "        //console.log('sending', m);\n",
       "        comm.send(m);\n",
       "    };\n",
       "    // Register the callback with on_msg.\n",
       "    comm.on_msg(function(msg) {\n",
       "        //console.log('receiving', msg['content']['data'], msg);\n",
       "        // Pass the mpl event to the overridden (by mpl) onmessage function.\n",
       "        ws.onmessage(msg['content']['data'])\n",
       "    });\n",
       "    return ws;\n",
       "}\n",
       "\n",
       "mpl.mpl_figure_comm = function(comm, msg) {\n",
       "    // This is the function which gets called when the mpl process\n",
       "    // starts-up an IPython Comm through the \"matplotlib\" channel.\n",
       "\n",
       "    var id = msg.content.data.id;\n",
       "    // Get hold of the div created by the display call when the Comm\n",
       "    // socket was opened in Python.\n",
       "    var element = $(\"#\" + id);\n",
       "    var ws_proxy = comm_websocket_adapter(comm)\n",
       "\n",
       "    function ondownload(figure, format) {\n",
       "        window.open(figure.imageObj.src);\n",
       "    }\n",
       "\n",
       "    var fig = new mpl.figure(id, ws_proxy,\n",
       "                           ondownload,\n",
       "                           element.get(0));\n",
       "\n",
       "    // Call onopen now - mpl needs it, as it is assuming we've passed it a real\n",
       "    // web socket which is closed, not our websocket->open comm proxy.\n",
       "    ws_proxy.onopen();\n",
       "\n",
       "    fig.parent_element = element.get(0);\n",
       "    fig.cell_info = mpl.find_output_cell(\"<div id='\" + id + \"'></div>\");\n",
       "    if (!fig.cell_info) {\n",
       "        console.error(\"Failed to find cell for figure\", id, fig);\n",
       "        return;\n",
       "    }\n",
       "\n",
       "    var output_index = fig.cell_info[2]\n",
       "    var cell = fig.cell_info[0];\n",
       "\n",
       "};\n",
       "\n",
       "mpl.figure.prototype.handle_close = function(fig, msg) {\n",
       "    var width = fig.canvas.width/mpl.ratio\n",
       "    fig.root.unbind('remove')\n",
       "\n",
       "    // Update the output cell to use the data from the current canvas.\n",
       "    fig.push_to_output();\n",
       "    var dataURL = fig.canvas.toDataURL();\n",
       "    // Re-enable the keyboard manager in IPython - without this line, in FF,\n",
       "    // the notebook keyboard shortcuts fail.\n",
       "    IPython.keyboard_manager.enable()\n",
       "    $(fig.parent_element).html('<img src=\"' + dataURL + '\" width=\"' + width + '\">');\n",
       "    fig.close_ws(fig, msg);\n",
       "}\n",
       "\n",
       "mpl.figure.prototype.close_ws = function(fig, msg){\n",
       "    fig.send_message('closing', msg);\n",
       "    // fig.ws.close()\n",
       "}\n",
       "\n",
       "mpl.figure.prototype.push_to_output = function(remove_interactive) {\n",
       "    // Turn the data on the canvas into data in the output cell.\n",
       "    var width = this.canvas.width/mpl.ratio\n",
       "    var dataURL = this.canvas.toDataURL();\n",
       "    this.cell_info[1]['text/html'] = '<img src=\"' + dataURL + '\" width=\"' + width + '\">';\n",
       "}\n",
       "\n",
       "mpl.figure.prototype.updated_canvas_event = function() {\n",
       "    // Tell IPython that the notebook contents must change.\n",
       "    IPython.notebook.set_dirty(true);\n",
       "    this.send_message(\"ack\", {});\n",
       "    var fig = this;\n",
       "    // Wait a second, then push the new image to the DOM so\n",
       "    // that it is saved nicely (might be nice to debounce this).\n",
       "    setTimeout(function () { fig.push_to_output() }, 1000);\n",
       "}\n",
       "\n",
       "mpl.figure.prototype._init_toolbar = function() {\n",
       "    var fig = this;\n",
       "\n",
       "    var nav_element = $('<div/>');\n",
       "    nav_element.attr('style', 'width: 100%');\n",
       "    this.root.append(nav_element);\n",
       "\n",
       "    // Define a callback function for later on.\n",
       "    function toolbar_event(event) {\n",
       "        return fig.toolbar_button_onclick(event['data']);\n",
       "    }\n",
       "    function toolbar_mouse_event(event) {\n",
       "        return fig.toolbar_button_onmouseover(event['data']);\n",
       "    }\n",
       "\n",
       "    for(var toolbar_ind in mpl.toolbar_items){\n",
       "        var name = mpl.toolbar_items[toolbar_ind][0];\n",
       "        var tooltip = mpl.toolbar_items[toolbar_ind][1];\n",
       "        var image = mpl.toolbar_items[toolbar_ind][2];\n",
       "        var method_name = mpl.toolbar_items[toolbar_ind][3];\n",
       "\n",
       "        if (!name) { continue; };\n",
       "\n",
       "        var button = $('<button class=\"btn btn-default\" href=\"#\" title=\"' + name + '\"><i class=\"fa ' + image + ' fa-lg\"></i></button>');\n",
       "        button.click(method_name, toolbar_event);\n",
       "        button.mouseover(tooltip, toolbar_mouse_event);\n",
       "        nav_element.append(button);\n",
       "    }\n",
       "\n",
       "    // Add the status bar.\n",
       "    var status_bar = $('<span class=\"mpl-message\" style=\"text-align:right; float: right;\"/>');\n",
       "    nav_element.append(status_bar);\n",
       "    this.message = status_bar[0];\n",
       "\n",
       "    // Add the close button to the window.\n",
       "    var buttongrp = $('<div class=\"btn-group inline pull-right\"></div>');\n",
       "    var button = $('<button class=\"btn btn-mini btn-primary\" href=\"#\" title=\"Stop Interaction\"><i class=\"fa fa-power-off icon-remove icon-large\"></i></button>');\n",
       "    button.click(function (evt) { fig.handle_close(fig, {}); } );\n",
       "    button.mouseover('Stop Interaction', toolbar_mouse_event);\n",
       "    buttongrp.append(button);\n",
       "    var titlebar = this.root.find($('.ui-dialog-titlebar'));\n",
       "    titlebar.prepend(buttongrp);\n",
       "}\n",
       "\n",
       "mpl.figure.prototype._root_extra_style = function(el){\n",
       "    var fig = this\n",
       "    el.on(\"remove\", function(){\n",
       "\tfig.close_ws(fig, {});\n",
       "    });\n",
       "}\n",
       "\n",
       "mpl.figure.prototype._canvas_extra_style = function(el){\n",
       "    // this is important to make the div 'focusable\n",
       "    el.attr('tabindex', 0)\n",
       "    // reach out to IPython and tell the keyboard manager to turn it's self\n",
       "    // off when our div gets focus\n",
       "\n",
       "    // location in version 3\n",
       "    if (IPython.notebook.keyboard_manager) {\n",
       "        IPython.notebook.keyboard_manager.register_events(el);\n",
       "    }\n",
       "    else {\n",
       "        // location in version 2\n",
       "        IPython.keyboard_manager.register_events(el);\n",
       "    }\n",
       "\n",
       "}\n",
       "\n",
       "mpl.figure.prototype._key_event_extra = function(event, name) {\n",
       "    var manager = IPython.notebook.keyboard_manager;\n",
       "    if (!manager)\n",
       "        manager = IPython.keyboard_manager;\n",
       "\n",
       "    // Check for shift+enter\n",
       "    if (event.shiftKey && event.which == 13) {\n",
       "        this.canvas_div.blur();\n",
       "        // select the cell after this one\n",
       "        var index = IPython.notebook.find_cell_index(this.cell_info[0]);\n",
       "        IPython.notebook.select(index + 1);\n",
       "    }\n",
       "}\n",
       "\n",
       "mpl.figure.prototype.handle_save = function(fig, msg) {\n",
       "    fig.ondownload(fig, null);\n",
       "}\n",
       "\n",
       "\n",
       "mpl.find_output_cell = function(html_output) {\n",
       "    // Return the cell and output element which can be found *uniquely* in the notebook.\n",
       "    // Note - this is a bit hacky, but it is done because the \"notebook_saving.Notebook\"\n",
       "    // IPython event is triggered only after the cells have been serialised, which for\n",
       "    // our purposes (turning an active figure into a static one), is too late.\n",
       "    var cells = IPython.notebook.get_cells();\n",
       "    var ncells = cells.length;\n",
       "    for (var i=0; i<ncells; i++) {\n",
       "        var cell = cells[i];\n",
       "        if (cell.cell_type === 'code'){\n",
       "            for (var j=0; j<cell.output_area.outputs.length; j++) {\n",
       "                var data = cell.output_area.outputs[j];\n",
       "                if (data.data) {\n",
       "                    // IPython >= 3 moved mimebundle to data attribute of output\n",
       "                    data = data.data;\n",
       "                }\n",
       "                if (data['text/html'] == html_output) {\n",
       "                    return [cell, data, j];\n",
       "                }\n",
       "            }\n",
       "        }\n",
       "    }\n",
       "}\n",
       "\n",
       "// Register the function which deals with the matplotlib target/channel.\n",
       "// The kernel may be null if the page has been refreshed.\n",
       "if (IPython.notebook.kernel != null) {\n",
       "    IPython.notebook.kernel.comm_manager.register_target('matplotlib', mpl.mpl_figure_comm);\n",
       "}\n"
      ],
      "text/plain": [
       "<IPython.core.display.Javascript object>"
      ]
     },
     "metadata": {},
     "output_type": "display_data"
    },
    {
     "data": {
      "text/html": [
       "<img src=\"data:image/png;base64,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\" width=\"1200\">"
      ],
      "text/plain": [
       "<IPython.core.display.HTML object>"
      ]
     },
     "metadata": {},
     "output_type": "display_data"
    }
   ],
   "source": [
    "regresiones(datos)"
   ]
  },
  {
   "cell_type": "markdown",
   "metadata": {},
   "source": [
    "### Modelo de regresión log-lin-log\n",
    "Este es el modelo que utiliza la BVG para ajustar la curva de rendimientos en sus informes:"
   ]
  },
  {
   "cell_type": "markdown",
   "metadata": {},
   "source": [
    "$$\\large \\ln(1+r)=\\beta_{0}+\\beta_{1}t+\\beta_{2}\\ln(t)$$"
   ]
  },
  {
   "cell_type": "markdown",
   "metadata": {},
   "source": [
    "A decir verdad no conocía este modelo econométrico, vamos que noy economista, provengo de Administración de Empresas, me he puesto a investigar, no encontré nada por cierto. Aún asi, pude programar la función ya que no deja de ser un modelo matemático.\n",
    "\n",
    "PD: Lo de log-lin-log se lo puse intuitivamente dado la forma que presenta, pues contiene el término lineal $\\normalsize\\beta_{1}t$, pero no sé a ciencia cierta como se llama."
   ]
  },
  {
   "cell_type": "code",
   "execution_count": 8,
   "metadata": {
    "scrolled": true
   },
   "outputs": [],
   "source": [
    "def loglinlog(datos):\n",
    "\n",
    "    # cargar datos\n",
    "    xm = datos['PLAZO POR VENCER']\n",
    "    ym = datos['TASA NOMINAL EQUIVALENTE %']\n",
    "    # Elimino valores extremos que se salen de los limites de control(outliers)\n",
    "    datos = datos[ym.isin(ym[ym.between(ym.quantile(.025), ym.quantile(0.975))])]\n",
    "    datos = datos[xm.isin(xm[xm.between(xm.quantile(.025), xm.quantile(0.95))])]\n",
    "    # Actualizar los datos  \n",
    "    xm = datos['PLAZO POR VENCER']\n",
    "    ym = datos['TASA NOMINAL EQUIVALENTE %']\n",
    "\n",
    "    # calcular y\n",
    "    def calc_y(x):\n",
    "        a,b,c = x\n",
    "        y = xm**c*np.exp(a+b*xm)-1\n",
    "        return y\n",
    "\n",
    "    # definir objetivo\n",
    "    def objetivo(x):\n",
    "        return np.sum(((calc_y(x)-ym)/ym)**2)\n",
    "\n",
    "    # valores iniciales\n",
    "    x0 = np.zeros(3)\n",
    "\n",
    "    # optimización\n",
    "    # limites de las variables\n",
    "    bnds100 = (-100.0, 100.0)\n",
    "    no_bnds = (-1.0e10, 1.0e10)\n",
    "    bnds = (no_bnds, no_bnds, bnds100)\n",
    "    solucion = minimize(objetivo,x0,method='SLSQP',bounds=bnds)\n",
    "    x = solucion.x\n",
    "    y = calc_y(x)\n",
    "\n",
    "    # solución\n",
    "    r_cuad = calc_y(x).var()/ym.var()\n",
    "    b0 = x[0]\n",
    "    b1 = x[1]\n",
    "    b2 = x[2]\n",
    "\n",
    "    # graficar solucion\n",
    "\n",
    "    fmt = lambda x: \"{:.2f}%\".format(x)  # formatea numeros\n",
    "    eje_x = np.arange(xm.min(),xm.max(),180) # valores para etiquetas\n",
    "    eje_y = np.arange(ym.min(),ym.max(),0.5)\n",
    "\n",
    "    font = {'family': 'sans-serif',\n",
    "            'color':  'darkred',\n",
    "            'weight': 'normal',\n",
    "            'size': 12,\n",
    "            }\n",
    "\n",
    "    fig = plt.figure(1, figsize=(12,8))\n",
    "    ax = fig.add_subplot()\n",
    "    fig.subplots_adjust(top=0.85)\n",
    "    plt.plot(xm,ym,'ro')\n",
    "    plt.plot(xm,y,lw=5);\n",
    "    plt.title('Curva de rendimiento')\n",
    "    plt.xlabel('Plazo al vencimiento')\n",
    "    plt.ylabel('Rendimiento')\n",
    "    plt.xticks(eje_x, rotation=90)\n",
    "    plt.yticks(eje_y, [fmt(i) for i in eje_y])\n",
    "    plt.legend(['Muestra','Predicción'],loc='best')\n",
    "    ax.text(xm.quantile(.70), ym.min(), f'$\\ln(1+r)=\n",
    "            {round(b0,4)}+{round(b1,4)}t+{round(b2,4)}\\ln(t)$\\n$R^{2}={round(r_cuad,4)}$', font,\n",
    "            bbox={'facecolor': 'w', 'alpha': 0.7, 'pad': 10})\n",
    "    plt.savefig('resultados.png')\n",
    "    plt.show()"
   ]
  },
  {
   "cell_type": "code",
   "execution_count": 9,
   "metadata": {},
   "outputs": [
    {
     "data": {
      "image/png": "[encoded data removed]",
      "text/plain": [
       "<Figure size 864x576 with 1 Axes>"
      ]
     },
     "metadata": {
      "needs_background": "light"
     },
     "output_type": "display_data"
    }
   ],
   "source": [
    "loglinlog(datos)"
   ]
  },
  {
   "cell_type": "markdown",
   "metadata": {},
   "source": [
    "## Profundizando con análisis gráficos\n",
    "\n",
    "Veamos el comportamiento de los bonos, en sus diferentes categorías de riesgo."
   ]
  },
  {
   "cell_type": "code",
   "execution_count": null,
   "metadata": {},
   "outputs": [],
   "source": [
    "import chart_studio\n",
    "import chart_studio.plotly as py\n",
    "import plotly.graph_objects as go\n",
    "\n",
    "chart_studio.tools.set_credentials_file(username='juanjosetz', api_key='KFjO9CweWoYgKlApPsPz')"
   ]
  },
  {
   "cell_type": "code",
   "execution_count": 166,
   "metadata": {
    "scrolled": true
   },
   "outputs": [
    {
     "data": {
      "application/vnd.plotly.v1+json": {
       "config": {
        "plotlyServerURL": "https://plotly.com"
       },
       "data": [
        {
         "marker": {
          "color": "DarkOrange"
         },
         "mode": "markers",
         "type": "scatter",
         "x": [
          371,
          397,
          405,
          408,
          412,
          419,
          430,
          437,
          472,
          480,
          480,
          490,
          494,
          499,
          502,
          506,
          509,
          532,
          533,
          541,
          548,
          552,
          597,
          618,
          651,
          657,
          670,
          673,
          680,
          692,
          697,
          731,
          734,
          750,
          750,
          758,
          765,
          770,
          775,
          777,
          778,
          778,
          797,
          835,
          849,
          856,
          857,
          865,
          881,
          882,
          889,
          893,
          895,
          899,
          900,
          916,
          922,
          934,
          950,
          957,
          978,
          984,
          1011,
          1018,
          1024,
          1033,
          1034,
          1052,
          1053,
          1055,
          1072,
          1078,
          1079,
          1079,
          1079,
          1084,
          1100,
          1110,
          1132,
          1135,
          1137,
          1137,
          1139,
          1183,
          1184,
          1246,
          1256,
          1260,
          1289,
          1317,
          1344,
          1357,
          1363,
          1367,
          1378,
          1394,
          1395,
          1406,
          1409,
          1413,
          1432,
          1439,
          1439,
          1440,
          1457,
          1470,
          1503,
          1511,
          1546,
          1606,
          1607,
          1612,
          1616,
          1620,
          1642,
          1667,
          1670,
          1670,
          1670,
          1695,
          1695,
          1710,
          1731,
          1743,
          1751,
          1765,
          1776,
          1925,
          2008,
          2061,
          2064,
          2070,
          2105,
          2127,
          2133,
          2160,
          2364,
          2693
         ],
         "y": [
          6.685068601910604,
          6.29020042756725,
          6.33671834664824,
          6.353913751226781,
          6.376634976721363,
          6.467297140776562,
          6.476081347364726,
          6.51357314686809,
          6.691965023336799,
          6.7307680610787735,
          6.7307680610787735,
          6.778315114928457,
          6.7970451526199405,
          6.820231545943667,
          6.834024689985796,
          6.852279265421313,
          6.86586932338944,
          6.967296281116209,
          7.032352995220181,
          7.0057120892919045,
          7.035119635321152,
          7.051743231221419,
          7.230279169190723,
          7.308676076313514,
          7.426201035569235,
          7.4468704523313,
          7.561098070627503,
          7.500995535792487,
          7.524233880758047,
          7.563467163254867,
          7.579594413461255,
          7.366680085865429,
          7.375797561087261,
          7.423737953771781,
          7.423737953771781,
          7.447285122167102,
          7.467663817084347,
          7.482093640884457,
          7.496419682795263,
          7.50212133951722,
          7.504966047175188,
          7.458512166151454,
          7.558254516054053,
          7.660697245515902,
          8.500003593868666,
          7.715090951479198,
          7.79209609646081,
          7.737944430375077,
          7.777917901141951,
          7.78038895579245,
          7.797598069260214,
          7.807363114936017,
          7.812227073564415,
          7.821918137334194,
          7.82433326519385,
          7.86256616033727,
          7.87670824421669,
          7.904680682044152,
          8.999970179596861,
          7.957166112868563,
          8.003842176421028,
          8.016967267556385,
          7.9999849228418185,
          8.089643339749752,
          8.250035795761956,
          8.120820675384532,
          8.122880508111674,
          8.159567330905304,
          8.161584086247853,
          8.165610928141742,
          8.199484550873315,
          8.21129081859766,
          8.21325107746933,
          8.21325107746933,
          8.21325107746933,
          8.223020668244008,
          7.8155861338659705,
          7.834619853726021,
          7.875794884090315,
          7.881336710577536,
          7.885021688707905,
          7.885021688707905,
          7.888699039850966,
          7.9677236750377745,
          7.973729075169267,
          8.074991301341328,
          8.091420974942487,
          8.097948923588127,
          9.499975393452509,
          8.601568544334537,
          8.229524038594604,
          8.999971521142491,
          8.257903069165895,
          8.26381604024391,
          8.500003346867313,
          8.303181952528327,
          8.304621942290513,
          8.32037850989904,
          8.324649432646059,
          7.699887960419627,
          8.357024851458128,
          8.366750874715478,
          8.366750874715478,
          8.368135524168174,
          8.391493729142141,
          8.4871398994105,
          8.601568544334537,
          8.463497145798904,
          8.508466308137574,
          8.582640919333873,
          8.715664940813284,
          8.589864347349785,
          8.594660933286669,
          8.599442380572775,
          8.69405227111315,
          8.654515457881917,
          5.757303454796148,
          8.657962864883029,
          9.101235972468436,
          9.749988846780955,
          8.69405227111315,
          8.703177211907587,
          8.999981511350796,
          9.031427462805919,
          9.01943013765365,
          7.75003637186753,
          8.77485217381917,
          7.364419604736394,
          7.440880091394941,
          7.487477528650377,
          7.490065561454262,
          7.495226015700229,
          7.676383537654452,
          7.543233736837429,
          7.548182483800492,
          7.570211930665671,
          7.6756331806287825,
          6.961877461625132
         ]
        },
        {
         "marker": {
          "color": "Crimson"
         },
         "mode": "markers",
         "type": "scatter",
         "x": [
          364,
          370,
          370,
          380,
          383,
          396,
          396,
          403,
          410,
          434,
          440,
          450,
          464,
          475,
          480,
          481,
          491,
          493,
          493,
          494,
          494,
          508,
          509,
          512,
          526,
          536,
          536,
          537,
          549,
          563,
          574,
          581,
          582,
          583,
          584,
          590,
          591,
          591,
          598,
          603,
          606,
          610,
          618,
          623,
          625,
          628,
          630,
          631,
          632,
          635,
          637,
          638,
          640,
          646,
          652,
          657,
          658,
          666,
          666,
          674,
          677,
          678,
          686,
          687,
          714,
          714,
          715,
          730,
          735,
          743,
          743,
          750,
          751,
          756,
          756,
          761,
          770,
          776,
          776,
          787,
          794,
          800,
          804,
          805,
          810,
          832,
          837,
          837,
          852,
          853,
          854,
          854,
          855,
          868,
          869,
          874,
          895,
          896,
          896,
          900,
          913,
          916,
          916,
          920,
          923,
          934,
          940,
          941,
          941,
          946,
          953,
          956,
          958,
          963,
          963,
          981,
          990,
          990,
          995,
          995,
          1004,
          1011,
          1012,
          1015,
          1016,
          1021,
          1041,
          1068,
          1074,
          1086,
          1096,
          1100,
          1103,
          1149,
          1151,
          1159,
          1162,
          1164,
          1172,
          1177,
          1186,
          1187,
          1192,
          1197,
          1197,
          1200,
          1209,
          1260,
          1260,
          1267,
          1274,
          1275,
          1275,
          1286,
          1294,
          1314,
          1318,
          1320,
          1356,
          1381,
          1401,
          1411,
          1411,
          1414,
          1417,
          1450,
          1460,
          1511,
          1530,
          1544,
          1633,
          1674,
          1677,
          1677,
          1704,
          1716,
          1947
         ],
         "y": [
          6.818248533022775,
          6.856604612494888,
          6.856604612494888,
          6.9191061492206885,
          6.937520744999315,
          7.01560513271291,
          7.01560513271291,
          7.056542307044733,
          7.096737987112345,
          7.229256059946199,
          7.327082853707534,
          7.798875442866149,
          7.384407820801631,
          7.438646305132757,
          7.462860312467257,
          7.4676709033202116,
          7.51519915329899,
          7.524580987459739,
          7.524580987459739,
          7.529256699003994,
          7.600118832053315,
          7.5936761249433715,
          7.598204749366744,
          7.611733777685803,
          7.747376046718468,
          7.717004279099715,
          7.717004279099715,
          7.72128027920731,
          7.771935305684341,
          7.495735530815928,
          7.8737450268852704,
          7.901396434990993,
          7.905317247320287,
          7.909230787943056,
          7.913137081702892,
          7.936424035474854,
          7.940280286242896,
          7.940280286242896,
          7.967077888742136,
          7.98601189305197,
          7.997290807278468,
          8.01223553655328,
          8.041808529263328,
          8.060081279755416,
          8.067345794459957,
          8.07819530303382,
          8.08539703283726,
          8.088988574329647,
          8.092573926380986,
          8.103293040506543,
          9.559674823484077,
          8.113957146443518,
          8.121036244636759,
          8.142129722878177,
          8.163010567404694,
          8.180251647298675,
          8.183682661302605,
          8.29520140212745,
          8.210927244362143,
          8.237816093695383,
          8.247809417000251,
          8.251129744825558,
          8.277500591952336,
          8.28077320834284,
          8.454719966789881,
          8.367207269917643,
          8.370339113031466,
          8.416745235982326,
          8.753666564762863,
          7.474840147166706,
          7.474840147166706,
          7.495677082091401,
          7.498636191160379,
          7.513366507777253,
          7.513366507777253,
          7.527989157035542,
          7.554043073113537,
          7.571225020407191,
          7.571225020407191,
          7.602344620953705,
          7.621896709826004,
          7.638503195757718,
          7.649497110192005,
          7.652236041911653,
          7.665873890098407,
          7.7247809274239465,
          7.7379253946402216,
          7.7379253946402216,
          7.776835554977168,
          7.779402117686907,
          7.857664024684263,
          7.781965294871007,
          7.7845250944272415,
          7.76711678248887,
          7.8200119950733615,
          7.832529841962987,
          7.884234797712075,
          7.886662588692062,
          7.886662588692062,
          7.134285638109894,
          7.927470915456869,
          7.934582772896892,
          7.934582772896892,
          8.999987721011227,
          7.951074599881558,
          7.9767047307978345,
          7.990540182882988,
          7.992836293147576,
          7.992836293147576,
          8.004275205923594,
          8.020174155602433,
          8.026947162321996,
          8.03144900397701,
          8.042656698109418,
          8.042656698109418,
          8.500003481609397,
          8.102046875318969,
          8.102046875318969,
          8.112840752544326,
          8.195113483889482,
          8.132113231539861,
          6.871239400411344,
          8.149077852864473,
          8.15539972248267,
          8.157502218403767,
          8.167978954303479,
          8.209300112679596,
          8.263645534804898,
          8.275505315718412,
          8.327560762995635,
          8.351996823597041,
          8.973296264482666,
          8.365416349544308,
          8.451185477534917,
          8.454822467859202,
          8.469296154770678,
          8.47469337736726,
          8.478282379095159,
          8.492565753127579,
          8.501434348571024,
          8.517285796968732,
          8.519038253053246,
          8.527774307134184,
          8.536466918019947,
          8.536466918019947,
          8.54166178216591,
          8.557154086531682,
          8.642416875076542,
          8.642416875076542,
          8.653796222531618,
          8.665100172158091,
          8.66670891536696,
          8.66670891536696,
          8.684305321320807,
          8.696989004949884,
          8.72828761711233,
          8.734478091333742,
          8.737564785944762,
          9.06767831738593,
          9.356920114908052,
          8.85799048509961,
          8.872264691053822,
          8.872264691053822,
          8.87652266188299,
          8.880769505733532,
          8.926763613785216,
          8.940445686865672,
          9.008452797096211,
          9.033058010193873,
          9.050943563189406,
          9.160036046721931,
          9.207768221846013,
          9.211201638315814,
          9.211201638315814,
          9.241749343619876,
          8.874249667644118,
          6.485778141066767
         ]
        },
        {
         "marker": {
          "color": "RebeccaPurple"
         },
         "mode": "markers",
         "type": "scatter",
         "x": [
          501,
          631,
          991,
          1101
         ],
         "y": [
          10.220330495393792,
          10.751052033982944,
          7.66290409748116,
          9.109493791112122
         ]
        }
       ],
       "layout": {
        "template": {
         "data": {
          "bar": [
           {
            "error_x": {
             "color": "#2a3f5f"
            },
            "error_y": {
             "color": "#2a3f5f"
            },
            "marker": {
             "line": {
              "color": "#E5ECF6",
              "width": 0.5
             }
            },
            "type": "bar"
           }
          ],
          "barpolar": [
           {
            "marker": {
             "line": {
              "color": "#E5ECF6",
              "width": 0.5
             }
            },
            "type": "barpolar"
           }
          ],
          "carpet": [
           {
            "aaxis": {
             "endlinecolor": "#2a3f5f",
             "gridcolor": "white",
             "linecolor": "white",
             "minorgridcolor": "white",
             "startlinecolor": "#2a3f5f"
            },
            "baxis": {
             "endlinecolor": "#2a3f5f",
             "gridcolor": "white",
             "linecolor": "white",
             "minorgridcolor": "white",
             "startlinecolor": "#2a3f5f"
            },
            "type": "carpet"
           }
          ],
          "choropleth": [
           {
            "colorbar": {
             "outlinewidth": 0,
             "ticks": ""
            },
            "type": "choropleth"
           }
          ],
          "contour": [
           {
            "colorbar": {
             "outlinewidth": 0,
             "ticks": ""
            },
            "colorscale": [
             [
              0,
              "#0d0887"
             ],
             [
              0.1111111111111111,
              "#46039f"
             ],
             [
              0.2222222222222222,
              "#7201a8"
             ],
             [
              0.3333333333333333,
              "#9c179e"
             ],
             [
              0.4444444444444444,
              "#bd3786"
             ],
             [
              0.5555555555555556,
              "#d8576b"
             ],
             [
              0.6666666666666666,
              "#ed7953"
             ],
             [
              0.7777777777777778,
              "#fb9f3a"
             ],
             [
              0.8888888888888888,
              "#fdca26"
             ],
             [
              1,
              "#f0f921"
             ]
            ],
            "type": "contour"
           }
          ],
          "contourcarpet": [
           {
            "colorbar": {
             "outlinewidth": 0,
             "ticks": ""
            },
            "type": "contourcarpet"
           }
          ],
          "heatmap": [
           {
            "colorbar": {
             "outlinewidth": 0,
             "ticks": ""
            },
            "colorscale": [
             [
              0,
              "#0d0887"
             ],
             [
              0.1111111111111111,
              "#46039f"
             ],
             [
              0.2222222222222222,
              "#7201a8"
             ],
             [
              0.3333333333333333,
              "#9c179e"
             ],
             [
              0.4444444444444444,
              "#bd3786"
             ],
             [
              0.5555555555555556,
              "#d8576b"
             ],
             [
              0.6666666666666666,
              "#ed7953"
             ],
             [
              0.7777777777777778,
              "#fb9f3a"
             ],
             [
              0.8888888888888888,
              "#fdca26"
             ],
             [
              1,
              "#f0f921"
             ]
            ],
            "type": "heatmap"
           }
          ],
          "heatmapgl": [
           {
            "colorbar": {
             "outlinewidth": 0,
             "ticks": ""
            },
            "colorscale": [
             [
              0,
              "#0d0887"
             ],
             [
              0.1111111111111111,
              "#46039f"
             ],
             [
              0.2222222222222222,
              "#7201a8"
             ],
             [
              0.3333333333333333,
              "#9c179e"
             ],
             [
              0.4444444444444444,
              "#bd3786"
             ],
             [
              0.5555555555555556,
              "#d8576b"
             ],
             [
              0.6666666666666666,
              "#ed7953"
             ],
             [
              0.7777777777777778,
              "#fb9f3a"
             ],
             [
              0.8888888888888888,
              "#fdca26"
             ],
             [
              1,
              "#f0f921"
             ]
            ],
            "type": "heatmapgl"
           }
          ],
          "histogram": [
           {
            "marker": {
             "colorbar": {
              "outlinewidth": 0,
              "ticks": ""
             }
            },
            "type": "histogram"
           }
          ],
          "histogram2d": [
           {
            "colorbar": {
             "outlinewidth": 0,
             "ticks": ""
            },
            "colorscale": [
             [
              0,
              "#0d0887"
             ],
             [
              0.1111111111111111,
              "#46039f"
             ],
             [
              0.2222222222222222,
              "#7201a8"
             ],
             [
              0.3333333333333333,
              "#9c179e"
             ],
             [
              0.4444444444444444,
              "#bd3786"
             ],
             [
              0.5555555555555556,
              "#d8576b"
             ],
             [
              0.6666666666666666,
              "#ed7953"
             ],
             [
              0.7777777777777778,
              "#fb9f3a"
             ],
             [
              0.8888888888888888,
              "#fdca26"
             ],
             [
              1,
              "#f0f921"
             ]
            ],
            "type": "histogram2d"
           }
          ],
          "histogram2dcontour": [
           {
            "colorbar": {
             "outlinewidth": 0,
             "ticks": ""
            },
            "colorscale": [
             [
              0,
              "#0d0887"
             ],
             [
              0.1111111111111111,
              "#46039f"
             ],
             [
              0.2222222222222222,
              "#7201a8"
             ],
             [
              0.3333333333333333,
              "#9c179e"
             ],
             [
              0.4444444444444444,
              "#bd3786"
             ],
             [
              0.5555555555555556,
              "#d8576b"
             ],
             [
              0.6666666666666666,
              "#ed7953"
             ],
             [
              0.7777777777777778,
              "#fb9f3a"
             ],
             [
              0.8888888888888888,
              "#fdca26"
             ],
             [
              1,
              "#f0f921"
             ]
            ],
            "type": "histogram2dcontour"
           }
          ],
          "mesh3d": [
           {
            "colorbar": {
             "outlinewidth": 0,
             "ticks": ""
            },
            "type": "mesh3d"
           }
          ],
          "parcoords": [
           {
            "line": {
             "colorbar": {
              "outlinewidth": 0,
              "ticks": ""
             }
            },
            "type": "parcoords"
           }
          ],
          "pie": [
           {
            "automargin": true,
            "type": "pie"
           }
          ],
          "scatter": [
           {
            "marker": {
             "colorbar": {
              "outlinewidth": 0,
              "ticks": ""
             }
            },
            "type": "scatter"
           }
          ],
          "scatter3d": [
           {
            "line": {
             "colorbar": {
              "outlinewidth": 0,
              "ticks": ""
             }
            },
            "marker": {
             "colorbar": {
              "outlinewidth": 0,
              "ticks": ""
             }
            },
            "type": "scatter3d"
           }
          ],
          "scattercarpet": [
           {
            "marker": {
             "colorbar": {
              "outlinewidth": 0,
              "ticks": ""
             }
            },
            "type": "scattercarpet"
           }
          ],
          "scattergeo": [
           {
            "marker": {
             "colorbar": {
              "outlinewidth": 0,
              "ticks": ""
             }
            },
            "type": "scattergeo"
           }
          ],
          "scattergl": [
           {
            "marker": {
             "colorbar": {
              "outlinewidth": 0,
              "ticks": ""
             }
            },
            "type": "scattergl"
           }
          ],
          "scattermapbox": [
           {
            "marker": {
             "colorbar": {
              "outlinewidth": 0,
              "ticks": ""
             }
            },
            "type": "scattermapbox"
           }
          ],
          "scatterpolar": [
           {
            "marker": {
             "colorbar": {
              "outlinewidth": 0,
              "ticks": ""
             }
            },
            "type": "scatterpolar"
           }
          ],
          "scatterpolargl": [
           {
            "marker": {
             "colorbar": {
              "outlinewidth": 0,
              "ticks": ""
             }
            },
            "type": "scatterpolargl"
           }
          ],
          "scatterternary": [
           {
            "marker": {
             "colorbar": {
              "outlinewidth": 0,
              "ticks": ""
             }
            },
            "type": "scatterternary"
           }
          ],
          "surface": [
           {
            "colorbar": {
             "outlinewidth": 0,
             "ticks": ""
            },
            "colorscale": [
             [
              0,
              "#0d0887"
             ],
             [
              0.1111111111111111,
              "#46039f"
             ],
             [
              0.2222222222222222,
              "#7201a8"
             ],
             [
              0.3333333333333333,
              "#9c179e"
             ],
             [
              0.4444444444444444,
              "#bd3786"
             ],
             [
              0.5555555555555556,
              "#d8576b"
             ],
             [
              0.6666666666666666,
              "#ed7953"
             ],
             [
              0.7777777777777778,
              "#fb9f3a"
             ],
             [
              0.8888888888888888,
              "#fdca26"
             ],
             [
              1,
              "#f0f921"
             ]
            ],
            "type": "surface"
           }
          ],
          "table": [
           {
            "cells": {
             "fill": {
              "color": "#EBF0F8"
             },
             "line": {
              "color": "white"
             }
            },
            "header": {
             "fill": {
              "color": "#C8D4E3"
             },
             "line": {
              "color": "white"
             }
            },
            "type": "table"
           }
          ]
         },
         "layout": {
          "annotationdefaults": {
           "arrowcolor": "#2a3f5f",
           "arrowhead": 0,
           "arrowwidth": 1
          },
          "coloraxis": {
           "colorbar": {
            "outlinewidth": 0,
            "ticks": ""
           }
          },
          "colorscale": {
           "diverging": [
            [
             0,
             "#8e0152"
            ],
            [
             0.1,
             "#c51b7d"
            ],
            [
             0.2,
             "#de77ae"
            ],
            [
             0.3,
             "#f1b6da"
            ],
            [
             0.4,
             "#fde0ef"
            ],
            [
             0.5,
             "#f7f7f7"
            ],
            [
             0.6,
             "#e6f5d0"
            ],
            [
             0.7,
             "#b8e186"
            ],
            [
             0.8,
             "#7fbc41"
            ],
            [
             0.9,
             "#4d9221"
            ],
            [
             1,
             "#276419"
            ]
           ],
           "sequential": [
            [
             0,
             "#0d0887"
            ],
            [
             0.1111111111111111,
             "#46039f"
            ],
            [
             0.2222222222222222,
             "#7201a8"
            ],
            [
             0.3333333333333333,
             "#9c179e"
            ],
            [
             0.4444444444444444,
             "#bd3786"
            ],
            [
             0.5555555555555556,
             "#d8576b"
            ],
            [
             0.6666666666666666,
             "#ed7953"
            ],
            [
             0.7777777777777778,
             "#fb9f3a"
            ],
            [
             0.8888888888888888,
             "#fdca26"
            ],
            [
             1,
             "#f0f921"
            ]
           ],
           "sequentialminus": [
            [
             0,
             "#0d0887"
            ],
            [
             0.1111111111111111,
             "#46039f"
            ],
            [
             0.2222222222222222,
             "#7201a8"
            ],
            [
             0.3333333333333333,
             "#9c179e"
            ],
            [
             0.4444444444444444,
             "#bd3786"
            ],
            [
             0.5555555555555556,
             "#d8576b"
            ],
            [
             0.6666666666666666,
             "#ed7953"
            ],
            [
             0.7777777777777778,
             "#fb9f3a"
            ],
            [
             0.8888888888888888,
             "#fdca26"
            ],
            [
             1,
             "#f0f921"
            ]
           ]
          },
          "colorway": [
           "#636efa",
           "#EF553B",
           "#00cc96",
           "#ab63fa",
           "#FFA15A",
           "#19d3f3",
           "#FF6692",
           "#B6E880",
           "#FF97FF",
           "#FECB52"
          ],
          "font": {
           "color": "#2a3f5f"
          },
          "geo": {
           "bgcolor": "white",
           "lakecolor": "white",
           "landcolor": "#E5ECF6",
           "showlakes": true,
           "showland": true,
           "subunitcolor": "white"
          },
          "hoverlabel": {
           "align": "left"
          },
          "hovermode": "closest",
          "mapbox": {
           "style": "light"
          },
          "paper_bgcolor": "white",
          "plot_bgcolor": "#E5ECF6",
          "polar": {
           "angularaxis": {
            "gridcolor": "white",
            "linecolor": "white",
            "ticks": ""
           },
           "bgcolor": "#E5ECF6",
           "radialaxis": {
            "gridcolor": "white",
            "linecolor": "white",
            "ticks": ""
           }
          },
          "scene": {
           "xaxis": {
            "backgroundcolor": "#E5ECF6",
            "gridcolor": "white",
            "gridwidth": 2,
            "linecolor": "white",
            "showbackground": true,
            "ticks": "",
            "zerolinecolor": "white"
           },
           "yaxis": {
            "backgroundcolor": "#E5ECF6",
            "gridcolor": "white",
            "gridwidth": 2,
            "linecolor": "white",
            "showbackground": true,
            "ticks": "",
            "zerolinecolor": "white"
           },
           "zaxis": {
            "backgroundcolor": "#E5ECF6",
            "gridcolor": "white",
            "gridwidth": 2,
            "linecolor": "white",
            "showbackground": true,
            "ticks": "",
            "zerolinecolor": "white"
           }
          },
          "shapedefaults": {
           "line": {
            "color": "#2a3f5f"
           }
          },
          "ternary": {
           "aaxis": {
            "gridcolor": "white",
            "linecolor": "white",
            "ticks": ""
           },
           "baxis": {
            "gridcolor": "white",
            "linecolor": "white",
            "ticks": ""
           },
           "bgcolor": "#E5ECF6",
           "caxis": {
            "gridcolor": "white",
            "linecolor": "white",
            "ticks": ""
           }
          },
          "title": {
           "x": 0.05
          },
          "xaxis": {
           "automargin": true,
           "gridcolor": "white",
           "linecolor": "white",
           "ticks": "",
           "title": {
            "standoff": 15
           },
           "zerolinecolor": "white",
           "zerolinewidth": 2
          },
          "yaxis": {
           "automargin": true,
           "gridcolor": "white",
           "linecolor": "white",
           "ticks": "",
           "title": {
            "standoff": 15
           },
           "zerolinecolor": "white",
           "zerolinewidth": 2
          }
         }
        },
        "title": {
         "text": "Gráfico de dispersión Plazo al vencimiento Vs Rentabilidad"
        },
        "updatemenus": [
         {
          "active": 0,
          "buttons": [
           {
            "args": [
             {
              "visible": [
               false,
               false,
               false,
               false
              ]
             },
             {
              "annotations": [],
              "title": "Rendimiento/Plazo"
             }
            ],
            "label": "Ninguna",
            "method": "update"
           },
           {
            "args": [
             {
              "visible": [
               true,
               false,
               false,
               false
              ]
             },
             {
              "annotations": [
               {
                "x": [
                 371,
                 397,
                 405,
                 408,
                 412,
                 419,
                 430,
                 437,
                 472,
                 480,
                 480,
                 490,
                 494,
                 499,
                 502,
                 506,
                 509,
                 532,
                 533,
                 541,
                 548,
                 552,
                 597,
                 618,
                 651,
                 657,
                 670,
                 673,
                 680,
                 692,
                 697,
                 731,
                 734,
                 750,
                 750,
                 758,
                 765,
                 770,
                 775,
                 777,
                 778,
                 778,
                 797,
                 835,
                 849,
                 856,
                 857,
                 865,
                 881,
                 882,
                 889,
                 893,
                 895,
                 899,
                 900,
                 916,
                 922,
                 934,
                 950,
                 957,
                 978,
                 984,
                 1011,
                 1018,
                 1024,
                 1033,
                 1034,
                 1052,
                 1053,
                 1055,
                 1072,
                 1078,
                 1079,
                 1079,
                 1079,
                 1084,
                 1100,
                 1110,
                 1132,
                 1135,
                 1137,
                 1137,
                 1139,
                 1183,
                 1184,
                 1246,
                 1256,
                 1260,
                 1289,
                 1317,
                 1344,
                 1357,
                 1363,
                 1367,
                 1378,
                 1394,
                 1395,
                 1406,
                 1409,
                 1413,
                 1432,
                 1439,
                 1439,
                 1440,
                 1457,
                 1470,
                 1503,
                 1511,
                 1546,
                 1606,
                 1607,
                 1612,
                 1616,
                 1620,
                 1642,
                 1667,
                 1670,
                 1670,
                 1670,
                 1695,
                 1695,
                 1710,
                 1731,
                 1743,
                 1751,
                 1765,
                 1776,
                 1925,
                 2008,
                 2061,
                 2064,
                 2070,
                 2105,
                 2127,
                 2133,
                 2160,
                 2364,
                 2693
                ],
                "xref": "x",
                "y": [
                 6.685068601910604,
                 6.29020042756725,
                 6.33671834664824,
                 6.353913751226781,
                 6.376634976721363,
                 6.467297140776562,
                 6.476081347364726,
                 6.51357314686809,
                 6.691965023336799,
                 6.7307680610787735,
                 6.7307680610787735,
                 6.778315114928457,
                 6.7970451526199405,
                 6.820231545943667,
                 6.834024689985796,
                 6.852279265421313,
                 6.86586932338944,
                 6.967296281116209,
                 7.032352995220181,
                 7.0057120892919045,
                 7.035119635321152,
                 7.051743231221419,
                 7.230279169190723,
                 7.308676076313514,
                 7.426201035569235,
                 7.4468704523313,
                 7.561098070627503,
                 7.500995535792487,
                 7.524233880758047,
                 7.563467163254867,
                 7.579594413461255,
                 7.366680085865429,
                 7.375797561087261,
                 7.423737953771781,
                 7.423737953771781,
                 7.447285122167102,
                 7.467663817084347,
                 7.482093640884457,
                 7.496419682795263,
                 7.50212133951722,
                 7.504966047175188,
                 7.458512166151454,
                 7.558254516054053,
                 7.660697245515902,
                 8.500003593868666,
                 7.715090951479198,
                 7.79209609646081,
                 7.737944430375077,
                 7.777917901141951,
                 7.78038895579245,
                 7.797598069260214,
                 7.807363114936017,
                 7.812227073564415,
                 7.821918137334194,
                 7.82433326519385,
                 7.86256616033727,
                 7.87670824421669,
                 7.904680682044152,
                 8.999970179596861,
                 7.957166112868563,
                 8.003842176421028,
                 8.016967267556385,
                 7.9999849228418185,
                 8.089643339749752,
                 8.250035795761956,
                 8.120820675384532,
                 8.122880508111674,
                 8.159567330905304,
                 8.161584086247853,
                 8.165610928141742,
                 8.199484550873315,
                 8.21129081859766,
                 8.21325107746933,
                 8.21325107746933,
                 8.21325107746933,
                 8.223020668244008,
                 7.8155861338659705,
                 7.834619853726021,
                 7.875794884090315,
                 7.881336710577536,
                 7.885021688707905,
                 7.885021688707905,
                 7.888699039850966,
                 7.9677236750377745,
                 7.973729075169267,
                 8.074991301341328,
                 8.091420974942487,
                 8.097948923588127,
                 9.499975393452509,
                 8.601568544334537,
                 8.229524038594604,
                 8.999971521142491,
                 8.257903069165895,
                 8.26381604024391,
                 8.500003346867313,
                 8.303181952528327,
                 8.304621942290513,
                 8.32037850989904,
                 8.324649432646059,
                 7.699887960419627,
                 8.357024851458128,
                 8.366750874715478,
                 8.366750874715478,
                 8.368135524168174,
                 8.391493729142141,
                 8.4871398994105,
                 8.601568544334537,
                 8.463497145798904,
                 8.508466308137574,
                 8.582640919333873,
                 8.715664940813284,
                 8.589864347349785,
                 8.594660933286669,
                 8.599442380572775,
                 8.69405227111315,
                 8.654515457881917,
                 5.757303454796148,
                 8.657962864883029,
                 9.101235972468436,
                 9.749988846780955,
                 8.69405227111315,
                 8.703177211907587,
                 8.999981511350796,
                 9.031427462805919,
                 9.01943013765365,
                 7.75003637186753,
                 8.77485217381917,
                 7.364419604736394,
                 7.440880091394941,
                 7.487477528650377,
                 7.490065561454262,
                 7.495226015700229,
                 7.676383537654452,
                 7.543233736837429,
                 7.548182483800492,
                 7.570211930665671,
                 7.6756331806287825,
                 6.961877461625132
                ],
                "yref": "y"
               }
              ],
              "title": "Categoría 01000: ['AAA+', 'AAA', 'AAA-']"
             }
            ],
            "label": "01000",
            "method": "update"
           },
           {
            "args": [
             {
              "visible": [
               false,
               true,
               false,
               false
              ]
             },
             {
              "annotations": [
               {
                "x": [
                 364,
                 370,
                 370,
                 380,
                 383,
                 396,
                 396,
                 403,
                 410,
                 434,
                 440,
                 450,
                 464,
                 475,
                 480,
                 481,
                 491,
                 493,
                 493,
                 494,
                 494,
                 508,
                 509,
                 512,
                 526,
                 536,
                 536,
                 537,
                 549,
                 563,
                 574,
                 581,
                 582,
                 583,
                 584,
                 590,
                 591,
                 591,
                 598,
                 603,
                 606,
                 610,
                 618,
                 623,
                 625,
                 628,
                 630,
                 631,
                 632,
                 635,
                 637,
                 638,
                 640,
                 646,
                 652,
                 657,
                 658,
                 666,
                 666,
                 674,
                 677,
                 678,
                 686,
                 687,
                 714,
                 714,
                 715,
                 730,
                 735,
                 743,
                 743,
                 750,
                 751,
                 756,
                 756,
                 761,
                 770,
                 776,
                 776,
                 787,
                 794,
                 800,
                 804,
                 805,
                 810,
                 832,
                 837,
                 837,
                 852,
                 853,
                 854,
                 854,
                 855,
                 868,
                 869,
                 874,
                 895,
                 896,
                 896,
                 900,
                 913,
                 916,
                 916,
                 920,
                 923,
                 934,
                 940,
                 941,
                 941,
                 946,
                 953,
                 956,
                 958,
                 963,
                 963,
                 981,
                 990,
                 990,
                 995,
                 995,
                 1004,
                 1011,
                 1012,
                 1015,
                 1016,
                 1021,
                 1041,
                 1068,
                 1074,
                 1086,
                 1096,
                 1100,
                 1103,
                 1149,
                 1151,
                 1159,
                 1162,
                 1164,
                 1172,
                 1177,
                 1186,
                 1187,
                 1192,
                 1197,
                 1197,
                 1200,
                 1209,
                 1260,
                 1260,
                 1267,
                 1274,
                 1275,
                 1275,
                 1286,
                 1294,
                 1314,
                 1318,
                 1320,
                 1356,
                 1381,
                 1401,
                 1411,
                 1411,
                 1414,
                 1417,
                 1450,
                 1460,
                 1511,
                 1530,
                 1544,
                 1633,
                 1674,
                 1677,
                 1677,
                 1704,
                 1716,
                 1947
                ],
                "xref": "x",
                "y": [
                 6.818248533022775,
                 6.856604612494888,
                 6.856604612494888,
                 6.9191061492206885,
                 6.937520744999315,
                 7.01560513271291,
                 7.01560513271291,
                 7.056542307044733,
                 7.096737987112345,
                 7.229256059946199,
                 7.327082853707534,
                 7.798875442866149,
                 7.384407820801631,
                 7.438646305132757,
                 7.462860312467257,
                 7.4676709033202116,
                 7.51519915329899,
                 7.524580987459739,
                 7.524580987459739,
                 7.529256699003994,
                 7.600118832053315,
                 7.5936761249433715,
                 7.598204749366744,
                 7.611733777685803,
                 7.747376046718468,
                 7.717004279099715,
                 7.717004279099715,
                 7.72128027920731,
                 7.771935305684341,
                 7.495735530815928,
                 7.8737450268852704,
                 7.901396434990993,
                 7.905317247320287,
                 7.909230787943056,
                 7.913137081702892,
                 7.936424035474854,
                 7.940280286242896,
                 7.940280286242896,
                 7.967077888742136,
                 7.98601189305197,
                 7.997290807278468,
                 8.01223553655328,
                 8.041808529263328,
                 8.060081279755416,
                 8.067345794459957,
                 8.07819530303382,
                 8.08539703283726,
                 8.088988574329647,
                 8.092573926380986,
                 8.103293040506543,
                 9.559674823484077,
                 8.113957146443518,
                 8.121036244636759,
                 8.142129722878177,
                 8.163010567404694,
                 8.180251647298675,
                 8.183682661302605,
                 8.29520140212745,
                 8.210927244362143,
                 8.237816093695383,
                 8.247809417000251,
                 8.251129744825558,
                 8.277500591952336,
                 8.28077320834284,
                 8.454719966789881,
                 8.367207269917643,
                 8.370339113031466,
                 8.416745235982326,
                 8.753666564762863,
                 7.474840147166706,
                 7.474840147166706,
                 7.495677082091401,
                 7.498636191160379,
                 7.513366507777253,
                 7.513366507777253,
                 7.527989157035542,
                 7.554043073113537,
                 7.571225020407191,
                 7.571225020407191,
                 7.602344620953705,
                 7.621896709826004,
                 7.638503195757718,
                 7.649497110192005,
                 7.652236041911653,
                 7.665873890098407,
                 7.7247809274239465,
                 7.7379253946402216,
                 7.7379253946402216,
                 7.776835554977168,
                 7.779402117686907,
                 7.857664024684263,
                 7.781965294871007,
                 7.7845250944272415,
                 7.76711678248887,
                 7.8200119950733615,
                 7.832529841962987,
                 7.884234797712075,
                 7.886662588692062,
                 7.886662588692062,
                 7.134285638109894,
                 7.927470915456869,
                 7.934582772896892,
                 7.934582772896892,
                 8.999987721011227,
                 7.951074599881558,
                 7.9767047307978345,
                 7.990540182882988,
                 7.992836293147576,
                 7.992836293147576,
                 8.004275205923594,
                 8.020174155602433,
                 8.026947162321996,
                 8.03144900397701,
                 8.042656698109418,
                 8.042656698109418,
                 8.500003481609397,
                 8.102046875318969,
                 8.102046875318969,
                 8.112840752544326,
                 8.195113483889482,
                 8.132113231539861,
                 6.871239400411344,
                 8.149077852864473,
                 8.15539972248267,
                 8.157502218403767,
                 8.167978954303479,
                 8.209300112679596,
                 8.263645534804898,
                 8.275505315718412,
                 8.327560762995635,
                 8.351996823597041,
                 8.973296264482666,
                 8.365416349544308,
                 8.451185477534917,
                 8.454822467859202,
                 8.469296154770678,
                 8.47469337736726,
                 8.478282379095159,
                 8.492565753127579,
                 8.501434348571024,
                 8.517285796968732,
                 8.519038253053246,
                 8.527774307134184,
                 8.536466918019947,
                 8.536466918019947,
                 8.54166178216591,
                 8.557154086531682,
                 8.642416875076542,
                 8.642416875076542,
                 8.653796222531618,
                 8.665100172158091,
                 8.66670891536696,
                 8.66670891536696,
                 8.684305321320807,
                 8.696989004949884,
                 8.72828761711233,
                 8.734478091333742,
                 8.737564785944762,
                 9.06767831738593,
                 9.356920114908052,
                 8.85799048509961,
                 8.872264691053822,
                 8.872264691053822,
                 8.87652266188299,
                 8.880769505733532,
                 8.926763613785216,
                 8.940445686865672,
                 9.008452797096211,
                 9.033058010193873,
                 9.050943563189406,
                 9.160036046721931,
                 9.207768221846013,
                 9.211201638315814,
                 9.211201638315814,
                 9.241749343619876,
                 8.874249667644118,
                 6.485778141066767
                ],
                "yref": "y"
               }
              ],
              "title": "Categoría 02000: ['AA+', 'AA', 'AA-']"
             }
            ],
            "label": "02000",
            "method": "update"
           },
           {
            "args": [
             {
              "visible": [
               false,
               false,
               true,
               false
              ]
             },
             {
              "annotations": [
               {
                "x": [
                 501,
                 631,
                 991,
                 1101
                ],
                "xref": "x",
                "y": [
                 10.220330495393792,
                 10.751052033982944,
                 7.66290409748116,
                 9.109493791112122
                ],
                "yref": "y"
               }
              ],
              "title": "Categoría 03000: ['A+', 'A', ' A-']"
             }
            ],
            "label": "03000",
            "method": "update"
           },
           {
            "args": [
             {
              "visible": [
               true,
               true,
               true,
               true
              ]
             },
             {
              "annotations": [
               {
                "x": [
                 371,
                 397,
                 405,
                 408,
                 412,
                 419,
                 430,
                 437,
                 472,
                 480,
                 480,
                 490,
                 494,
                 499,
                 502,
                 506,
                 509,
                 532,
                 533,
                 541,
                 548,
                 552,
                 597,
                 618,
                 651,
                 657,
                 670,
                 673,
                 680,
                 692,
                 697,
                 731,
                 734,
                 750,
                 750,
                 758,
                 765,
                 770,
                 775,
                 777,
                 778,
                 778,
                 797,
                 835,
                 849,
                 856,
                 857,
                 865,
                 881,
                 882,
                 889,
                 893,
                 895,
                 899,
                 900,
                 916,
                 922,
                 934,
                 950,
                 957,
                 978,
                 984,
                 1011,
                 1018,
                 1024,
                 1033,
                 1034,
                 1052,
                 1053,
                 1055,
                 1072,
                 1078,
                 1079,
                 1079,
                 1079,
                 1084,
                 1100,
                 1110,
                 1132,
                 1135,
                 1137,
                 1137,
                 1139,
                 1183,
                 1184,
                 1246,
                 1256,
                 1260,
                 1289,
                 1317,
                 1344,
                 1357,
                 1363,
                 1367,
                 1378,
                 1394,
                 1395,
                 1406,
                 1409,
                 1413,
                 1432,
                 1439,
                 1439,
                 1440,
                 1457,
                 1470,
                 1503,
                 1511,
                 1546,
                 1606,
                 1607,
                 1612,
                 1616,
                 1620,
                 1642,
                 1667,
                 1670,
                 1670,
                 1670,
                 1695,
                 1695,
                 1710,
                 1731,
                 1743,
                 1751,
                 1765,
                 1776,
                 1925,
                 2008,
                 2061,
                 2064,
                 2070,
                 2105,
                 2127,
                 2133,
                 2160,
                 2364,
                 2693
                ],
                "xref": "x",
                "y": [
                 6.685068601910604,
                 6.29020042756725,
                 6.33671834664824,
                 6.353913751226781,
                 6.376634976721363,
                 6.467297140776562,
                 6.476081347364726,
                 6.51357314686809,
                 6.691965023336799,
                 6.7307680610787735,
                 6.7307680610787735,
                 6.778315114928457,
                 6.7970451526199405,
                 6.820231545943667,
                 6.834024689985796,
                 6.852279265421313,
                 6.86586932338944,
                 6.967296281116209,
                 7.032352995220181,
                 7.0057120892919045,
                 7.035119635321152,
                 7.051743231221419,
                 7.230279169190723,
                 7.308676076313514,
                 7.426201035569235,
                 7.4468704523313,
                 7.561098070627503,
                 7.500995535792487,
                 7.524233880758047,
                 7.563467163254867,
                 7.579594413461255,
                 7.366680085865429,
                 7.375797561087261,
                 7.423737953771781,
                 7.423737953771781,
                 7.447285122167102,
                 7.467663817084347,
                 7.482093640884457,
                 7.496419682795263,
                 7.50212133951722,
                 7.504966047175188,
                 7.458512166151454,
                 7.558254516054053,
                 7.660697245515902,
                 8.500003593868666,
                 7.715090951479198,
                 7.79209609646081,
                 7.737944430375077,
                 7.777917901141951,
                 7.78038895579245,
                 7.797598069260214,
                 7.807363114936017,
                 7.812227073564415,
                 7.821918137334194,
                 7.82433326519385,
                 7.86256616033727,
                 7.87670824421669,
                 7.904680682044152,
                 8.999970179596861,
                 7.957166112868563,
                 8.003842176421028,
                 8.016967267556385,
                 7.9999849228418185,
                 8.089643339749752,
                 8.250035795761956,
                 8.120820675384532,
                 8.122880508111674,
                 8.159567330905304,
                 8.161584086247853,
                 8.165610928141742,
                 8.199484550873315,
                 8.21129081859766,
                 8.21325107746933,
                 8.21325107746933,
                 8.21325107746933,
                 8.223020668244008,
                 7.8155861338659705,
                 7.834619853726021,
                 7.875794884090315,
                 7.881336710577536,
                 7.885021688707905,
                 7.885021688707905,
                 7.888699039850966,
                 7.9677236750377745,
                 7.973729075169267,
                 8.074991301341328,
                 8.091420974942487,
                 8.097948923588127,
                 9.499975393452509,
                 8.601568544334537,
                 8.229524038594604,
                 8.999971521142491,
                 8.257903069165895,
                 8.26381604024391,
                 8.500003346867313,
                 8.303181952528327,
                 8.304621942290513,
                 8.32037850989904,
                 8.324649432646059,
                 7.699887960419627,
                 8.357024851458128,
                 8.366750874715478,
                 8.366750874715478,
                 8.368135524168174,
                 8.391493729142141,
                 8.4871398994105,
                 8.601568544334537,
                 8.463497145798904,
                 8.508466308137574,
                 8.582640919333873,
                 8.715664940813284,
                 8.589864347349785,
                 8.594660933286669,
                 8.599442380572775,
                 8.69405227111315,
                 8.654515457881917,
                 5.757303454796148,
                 8.657962864883029,
                 9.101235972468436,
                 9.749988846780955,
                 8.69405227111315,
                 8.703177211907587,
                 8.999981511350796,
                 9.031427462805919,
                 9.01943013765365,
                 7.75003637186753,
                 8.77485217381917,
                 7.364419604736394,
                 7.440880091394941,
                 7.487477528650377,
                 7.490065561454262,
                 7.495226015700229,
                 7.676383537654452,
                 7.543233736837429,
                 7.548182483800492,
                 7.570211930665671,
                 7.6756331806287825,
                 6.961877461625132
                ],
                "yref": "y"
               },
               {
                "x": [
                 364,
                 370,
                 370,
                 380,
                 383,
                 396,
                 396,
                 403,
                 410,
                 434,
                 440,
                 450,
                 464,
                 475,
                 480,
                 481,
                 491,
                 493,
                 493,
                 494,
                 494,
                 508,
                 509,
                 512,
                 526,
                 536,
                 536,
                 537,
                 549,
                 563,
                 574,
                 581,
                 582,
                 583,
                 584,
                 590,
                 591,
                 591,
                 598,
                 603,
                 606,
                 610,
                 618,
                 623,
                 625,
                 628,
                 630,
                 631,
                 632,
                 635,
                 637,
                 638,
                 640,
                 646,
                 652,
                 657,
                 658,
                 666,
                 666,
                 674,
                 677,
                 678,
                 686,
                 687,
                 714,
                 714,
                 715,
                 730,
                 735,
                 743,
                 743,
                 750,
                 751,
                 756,
                 756,
                 761,
                 770,
                 776,
                 776,
                 787,
                 794,
                 800,
                 804,
                 805,
                 810,
                 832,
                 837,
                 837,
                 852,
                 853,
                 854,
                 854,
                 855,
                 868,
                 869,
                 874,
                 895,
                 896,
                 896,
                 900,
                 913,
                 916,
                 916,
                 920,
                 923,
                 934,
                 940,
                 941,
                 941,
                 946,
                 953,
                 956,
                 958,
                 963,
                 963,
                 981,
                 990,
                 990,
                 995,
                 995,
                 1004,
                 1011,
                 1012,
                 1015,
                 1016,
                 1021,
                 1041,
                 1068,
                 1074,
                 1086,
                 1096,
                 1100,
                 1103,
                 1149,
                 1151,
                 1159,
                 1162,
                 1164,
                 1172,
                 1177,
                 1186,
                 1187,
                 1192,
                 1197,
                 1197,
                 1200,
                 1209,
                 1260,
                 1260,
                 1267,
                 1274,
                 1275,
                 1275,
                 1286,
                 1294,
                 1314,
                 1318,
                 1320,
                 1356,
                 1381,
                 1401,
                 1411,
                 1411,
                 1414,
                 1417,
                 1450,
                 1460,
                 1511,
                 1530,
                 1544,
                 1633,
                 1674,
                 1677,
                 1677,
                 1704,
                 1716,
                 1947
                ],
                "xref": "x",
                "y": [
                 6.818248533022775,
                 6.856604612494888,
                 6.856604612494888,
                 6.9191061492206885,
                 6.937520744999315,
                 7.01560513271291,
                 7.01560513271291,
                 7.056542307044733,
                 7.096737987112345,
                 7.229256059946199,
                 7.327082853707534,
                 7.798875442866149,
                 7.384407820801631,
                 7.438646305132757,
                 7.462860312467257,
                 7.4676709033202116,
                 7.51519915329899,
                 7.524580987459739,
                 7.524580987459739,
                 7.529256699003994,
                 7.600118832053315,
                 7.5936761249433715,
                 7.598204749366744,
                 7.611733777685803,
                 7.747376046718468,
                 7.717004279099715,
                 7.717004279099715,
                 7.72128027920731,
                 7.771935305684341,
                 7.495735530815928,
                 7.8737450268852704,
                 7.901396434990993,
                 7.905317247320287,
                 7.909230787943056,
                 7.913137081702892,
                 7.936424035474854,
                 7.940280286242896,
                 7.940280286242896,
                 7.967077888742136,
                 7.98601189305197,
                 7.997290807278468,
                 8.01223553655328,
                 8.041808529263328,
                 8.060081279755416,
                 8.067345794459957,
                 8.07819530303382,
                 8.08539703283726,
                 8.088988574329647,
                 8.092573926380986,
                 8.103293040506543,
                 9.559674823484077,
                 8.113957146443518,
                 8.121036244636759,
                 8.142129722878177,
                 8.163010567404694,
                 8.180251647298675,
                 8.183682661302605,
                 8.29520140212745,
                 8.210927244362143,
                 8.237816093695383,
                 8.247809417000251,
                 8.251129744825558,
                 8.277500591952336,
                 8.28077320834284,
                 8.454719966789881,
                 8.367207269917643,
                 8.370339113031466,
                 8.416745235982326,
                 8.753666564762863,
                 7.474840147166706,
                 7.474840147166706,
                 7.495677082091401,
                 7.498636191160379,
                 7.513366507777253,
                 7.513366507777253,
                 7.527989157035542,
                 7.554043073113537,
                 7.571225020407191,
                 7.571225020407191,
                 7.602344620953705,
                 7.621896709826004,
                 7.638503195757718,
                 7.649497110192005,
                 7.652236041911653,
                 7.665873890098407,
                 7.7247809274239465,
                 7.7379253946402216,
                 7.7379253946402216,
                 7.776835554977168,
                 7.779402117686907,
                 7.857664024684263,
                 7.781965294871007,
                 7.7845250944272415,
                 7.76711678248887,
                 7.8200119950733615,
                 7.832529841962987,
                 7.884234797712075,
                 7.886662588692062,
                 7.886662588692062,
                 7.134285638109894,
                 7.927470915456869,
                 7.934582772896892,
                 7.934582772896892,
                 8.999987721011227,
                 7.951074599881558,
                 7.9767047307978345,
                 7.990540182882988,
                 7.992836293147576,
                 7.992836293147576,
                 8.004275205923594,
                 8.020174155602433,
                 8.026947162321996,
                 8.03144900397701,
                 8.042656698109418,
                 8.042656698109418,
                 8.500003481609397,
                 8.102046875318969,
                 8.102046875318969,
                 8.112840752544326,
                 8.195113483889482,
                 8.132113231539861,
                 6.871239400411344,
                 8.149077852864473,
                 8.15539972248267,
                 8.157502218403767,
                 8.167978954303479,
                 8.209300112679596,
                 8.263645534804898,
                 8.275505315718412,
                 8.327560762995635,
                 8.351996823597041,
                 8.973296264482666,
                 8.365416349544308,
                 8.451185477534917,
                 8.454822467859202,
                 8.469296154770678,
                 8.47469337736726,
                 8.478282379095159,
                 8.492565753127579,
                 8.501434348571024,
                 8.517285796968732,
                 8.519038253053246,
                 8.527774307134184,
                 8.536466918019947,
                 8.536466918019947,
                 8.54166178216591,
                 8.557154086531682,
                 8.642416875076542,
                 8.642416875076542,
                 8.653796222531618,
                 8.665100172158091,
                 8.66670891536696,
                 8.66670891536696,
                 8.684305321320807,
                 8.696989004949884,
                 8.72828761711233,
                 8.734478091333742,
                 8.737564785944762,
                 9.06767831738593,
                 9.356920114908052,
                 8.85799048509961,
                 8.872264691053822,
                 8.872264691053822,
                 8.87652266188299,
                 8.880769505733532,
                 8.926763613785216,
                 8.940445686865672,
                 9.008452797096211,
                 9.033058010193873,
                 9.050943563189406,
                 9.160036046721931,
                 9.207768221846013,
                 9.211201638315814,
                 9.211201638315814,
                 9.241749343619876,
                 8.874249667644118,
                 6.485778141066767
                ],
                "yref": "y"
               },
               {
                "x": [
                 501,
                 631,
                 991,
                 1101
                ],
                "xref": "x",
                "y": [
                 10.220330495393792,
                 10.751052033982944,
                 7.66290409748116,
                 9.109493791112122
                ],
                "yref": "y"
               }
              ],
              "title": "Todas las categorías"
             }
            ],
            "label": "Todas",
            "method": "update"
           }
          ]
         }
        ]
       }
      },
      "text/html": [
       "<div>\n",
       "        \n",
       "        \n",
       "            <div id=\"59982b03-a7e9-4f42-820a-38ee29be3728\" class=\"plotly-graph-div\" style=\"height:525px; width:100%;\"></div>\n",
       "            <script type=\"text/javascript\">\n",
       "                require([\"plotly\"], function(Plotly) {\n",
       "                    window.PLOTLYENV=window.PLOTLYENV || {};\n",
       "                    \n",
       "                if (document.getElementById(\"59982b03-a7e9-4f42-820a-38ee29be3728\")) {\n",
       "                    Plotly.newPlot(\n",
       "                        '59982b03-a7e9-4f42-820a-38ee29be3728',\n",
       "                        [{\"marker\": {\"color\": \"DarkOrange\"}, \"mode\": \"markers\", \"type\": \"scatter\", \"x\": [371.0, 397.0, 405.0, 408.0, 412.0, 419.0, 430.0, 437.0, 472.0, 480.0, 480.0, 490.0, 494.0, 499.0, 502.0, 506.0, 509.0, 532.0, 533.0, 541.0, 548.0, 552.0, 597.0, 618.0, 651.0, 657.0, 670.0, 673.0, 680.0, 692.0, 697.0, 731.0, 734.0, 750.0, 750.0, 758.0, 765.0, 770.0, 775.0, 777.0, 778.0, 778.0, 797.0, 835.0, 849.0, 856.0, 857.0, 865.0, 881.0, 882.0, 889.0, 893.0, 895.0, 899.0, 900.0, 916.0, 922.0, 934.0, 950.0, 957.0, 978.0, 984.0, 1011.0, 1018.0, 1024.0, 1033.0, 1034.0, 1052.0, 1053.0, 1055.0, 1072.0, 1078.0, 1079.0, 1079.0, 1079.0, 1084.0, 1100.0, 1110.0, 1132.0, 1135.0, 1137.0, 1137.0, 1139.0, 1183.0, 1184.0, 1246.0, 1256.0, 1260.0, 1289.0, 1317.0, 1344.0, 1357.0, 1363.0, 1367.0, 1378.0, 1394.0, 1395.0, 1406.0, 1409.0, 1413.0, 1432.0, 1439.0, 1439.0, 1440.0, 1457.0, 1470.0, 1503.0, 1511.0, 1546.0, 1606.0, 1607.0, 1612.0, 1616.0, 1620.0, 1642.0, 1667.0, 1670.0, 1670.0, 1670.0, 1695.0, 1695.0, 1710.0, 1731.0, 1743.0, 1751.0, 1765.0, 1776.0, 1925.0, 2008.0, 2061.0, 2064.0, 2070.0, 2105.0, 2127.0, 2133.0, 2160.0, 2364.0, 2693.0], \"y\": [6.685068601910604, 6.29020042756725, 6.33671834664824, 6.353913751226781, 6.376634976721363, 6.467297140776562, 6.476081347364726, 6.51357314686809, 6.691965023336799, 6.7307680610787735, 6.7307680610787735, 6.778315114928457, 6.7970451526199405, 6.820231545943667, 6.834024689985796, 6.852279265421313, 6.86586932338944, 6.967296281116209, 7.032352995220181, 7.0057120892919045, 7.035119635321152, 7.051743231221419, 7.230279169190723, 7.308676076313514, 7.426201035569235, 7.4468704523313, 7.561098070627503, 7.500995535792487, 7.524233880758047, 7.563467163254867, 7.579594413461255, 7.366680085865429, 7.375797561087261, 7.423737953771781, 7.423737953771781, 7.447285122167102, 7.467663817084347, 7.482093640884457, 7.496419682795263, 7.50212133951722, 7.504966047175188, 7.458512166151454, 7.558254516054053, 7.660697245515902, 8.500003593868666, 7.715090951479198, 7.79209609646081, 7.737944430375077, 7.777917901141951, 7.78038895579245, 7.797598069260214, 7.807363114936017, 7.812227073564415, 7.821918137334194, 7.82433326519385, 7.86256616033727, 7.87670824421669, 7.904680682044152, 8.999970179596861, 7.957166112868563, 8.003842176421028, 8.016967267556385, 7.9999849228418185, 8.089643339749752, 8.250035795761956, 8.120820675384532, 8.122880508111674, 8.159567330905304, 8.161584086247853, 8.165610928141742, 8.199484550873315, 8.21129081859766, 8.21325107746933, 8.21325107746933, 8.21325107746933, 8.223020668244008, 7.8155861338659705, 7.834619853726021, 7.875794884090315, 7.881336710577536, 7.885021688707905, 7.885021688707905, 7.888699039850966, 7.9677236750377745, 7.973729075169267, 8.074991301341328, 8.091420974942487, 8.097948923588127, 9.499975393452509, 8.601568544334537, 8.229524038594604, 8.999971521142491, 8.257903069165895, 8.26381604024391, 8.500003346867313, 8.303181952528327, 8.304621942290513, 8.32037850989904, 8.324649432646059, 7.699887960419627, 8.357024851458128, 8.366750874715478, 8.366750874715478, 8.368135524168174, 8.391493729142141, 8.4871398994105, 8.601568544334537, 8.463497145798904, 8.508466308137574, 8.582640919333873, 8.715664940813284, 8.589864347349785, 8.594660933286669, 8.599442380572775, 8.69405227111315, 8.654515457881917, 5.757303454796148, 8.657962864883029, 9.101235972468436, 9.749988846780955, 8.69405227111315, 8.703177211907587, 8.999981511350796, 9.031427462805919, 9.01943013765365, 7.75003637186753, 8.77485217381917, 7.364419604736394, 7.440880091394941, 7.487477528650377, 7.490065561454262, 7.495226015700229, 7.676383537654452, 7.543233736837429, 7.548182483800492, 7.570211930665671, 7.6756331806287825, 6.961877461625132]}, {\"marker\": {\"color\": \"Crimson\"}, \"mode\": \"markers\", \"type\": \"scatter\", \"x\": [364.0, 370.0, 370.0, 380.0, 383.0, 396.0, 396.0, 403.0, 410.0, 434.0, 440.0, 450.0, 464.0, 475.0, 480.0, 481.0, 491.0, 493.0, 493.0, 494.0, 494.0, 508.0, 509.0, 512.0, 526.0, 536.0, 536.0, 537.0, 549.0, 563.0, 574.0, 581.0, 582.0, 583.0, 584.0, 590.0, 591.0, 591.0, 598.0, 603.0, 606.0, 610.0, 618.0, 623.0, 625.0, 628.0, 630.0, 631.0, 632.0, 635.0, 637.0, 638.0, 640.0, 646.0, 652.0, 657.0, 658.0, 666.0, 666.0, 674.0, 677.0, 678.0, 686.0, 687.0, 714.0, 714.0, 715.0, 730.0, 735.0, 743.0, 743.0, 750.0, 751.0, 756.0, 756.0, 761.0, 770.0, 776.0, 776.0, 787.0, 794.0, 800.0, 804.0, 805.0, 810.0, 832.0, 837.0, 837.0, 852.0, 853.0, 854.0, 854.0, 855.0, 868.0, 869.0, 874.0, 895.0, 896.0, 896.0, 900.0, 913.0, 916.0, 916.0, 920.0, 923.0, 934.0, 940.0, 941.0, 941.0, 946.0, 953.0, 956.0, 958.0, 963.0, 963.0, 981.0, 990.0, 990.0, 995.0, 995.0, 1004.0, 1011.0, 1012.0, 1015.0, 1016.0, 1021.0, 1041.0, 1068.0, 1074.0, 1086.0, 1096.0, 1100.0, 1103.0, 1149.0, 1151.0, 1159.0, 1162.0, 1164.0, 1172.0, 1177.0, 1186.0, 1187.0, 1192.0, 1197.0, 1197.0, 1200.0, 1209.0, 1260.0, 1260.0, 1267.0, 1274.0, 1275.0, 1275.0, 1286.0, 1294.0, 1314.0, 1318.0, 1320.0, 1356.0, 1381.0, 1401.0, 1411.0, 1411.0, 1414.0, 1417.0, 1450.0, 1460.0, 1511.0, 1530.0, 1544.0, 1633.0, 1674.0, 1677.0, 1677.0, 1704.0, 1716.0, 1947.0], \"y\": [6.818248533022775, 6.856604612494888, 6.856604612494888, 6.9191061492206885, 6.937520744999315, 7.01560513271291, 7.01560513271291, 7.056542307044733, 7.096737987112345, 7.229256059946199, 7.327082853707534, 7.798875442866149, 7.384407820801631, 7.438646305132757, 7.462860312467257, 7.4676709033202116, 7.51519915329899, 7.524580987459739, 7.524580987459739, 7.529256699003994, 7.600118832053315, 7.5936761249433715, 7.598204749366744, 7.611733777685803, 7.747376046718468, 7.717004279099715, 7.717004279099715, 7.72128027920731, 7.771935305684341, 7.495735530815928, 7.8737450268852704, 7.901396434990993, 7.905317247320287, 7.909230787943056, 7.913137081702892, 7.936424035474854, 7.940280286242896, 7.940280286242896, 7.967077888742136, 7.98601189305197, 7.997290807278468, 8.01223553655328, 8.041808529263328, 8.060081279755416, 8.067345794459957, 8.07819530303382, 8.08539703283726, 8.088988574329647, 8.092573926380986, 8.103293040506543, 9.559674823484077, 8.113957146443518, 8.121036244636759, 8.142129722878177, 8.163010567404694, 8.180251647298675, 8.183682661302605, 8.29520140212745, 8.210927244362143, 8.237816093695383, 8.247809417000251, 8.251129744825558, 8.277500591952336, 8.28077320834284, 8.454719966789881, 8.367207269917643, 8.370339113031466, 8.416745235982326, 8.753666564762863, 7.474840147166706, 7.474840147166706, 7.495677082091401, 7.498636191160379, 7.513366507777253, 7.513366507777253, 7.527989157035542, 7.554043073113537, 7.571225020407191, 7.571225020407191, 7.602344620953705, 7.621896709826004, 7.638503195757718, 7.649497110192005, 7.652236041911653, 7.665873890098407, 7.7247809274239465, 7.7379253946402216, 7.7379253946402216, 7.776835554977168, 7.779402117686907, 7.857664024684263, 7.781965294871007, 7.7845250944272415, 7.76711678248887, 7.8200119950733615, 7.832529841962987, 7.884234797712075, 7.886662588692062, 7.886662588692062, 7.134285638109894, 7.927470915456869, 7.934582772896892, 7.934582772896892, 8.999987721011227, 7.951074599881558, 7.9767047307978345, 7.990540182882988, 7.992836293147576, 7.992836293147576, 8.004275205923594, 8.020174155602433, 8.026947162321996, 8.03144900397701, 8.042656698109418, 8.042656698109418, 8.500003481609397, 8.102046875318969, 8.102046875318969, 8.112840752544326, 8.195113483889482, 8.132113231539861, 6.871239400411344, 8.149077852864473, 8.15539972248267, 8.157502218403767, 8.167978954303479, 8.209300112679596, 8.263645534804898, 8.275505315718412, 8.327560762995635, 8.351996823597041, 8.973296264482666, 8.365416349544308, 8.451185477534917, 8.454822467859202, 8.469296154770678, 8.47469337736726, 8.478282379095159, 8.492565753127579, 8.501434348571024, 8.517285796968732, 8.519038253053246, 8.527774307134184, 8.536466918019947, 8.536466918019947, 8.54166178216591, 8.557154086531682, 8.642416875076542, 8.642416875076542, 8.653796222531618, 8.665100172158091, 8.66670891536696, 8.66670891536696, 8.684305321320807, 8.696989004949884, 8.72828761711233, 8.734478091333742, 8.737564785944762, 9.06767831738593, 9.356920114908052, 8.85799048509961, 8.872264691053822, 8.872264691053822, 8.87652266188299, 8.880769505733532, 8.926763613785216, 8.940445686865672, 9.008452797096211, 9.033058010193873, 9.050943563189406, 9.160036046721931, 9.207768221846013, 9.211201638315814, 9.211201638315814, 9.241749343619876, 8.874249667644118, 6.485778141066767]}, {\"marker\": {\"color\": \"RebeccaPurple\"}, \"mode\": \"markers\", \"type\": \"scatter\", \"x\": [501.0, 631.0, 991.0, 1101.0], \"y\": [10.220330495393792, 10.751052033982944, 7.66290409748116, 9.109493791112122]}],\n",
       "                        {\"template\": {\"data\": {\"bar\": [{\"error_x\": {\"color\": \"#2a3f5f\"}, \"error_y\": {\"color\": \"#2a3f5f\"}, \"marker\": {\"line\": {\"color\": \"#E5ECF6\", \"width\": 0.5}}, \"type\": \"bar\"}], \"barpolar\": [{\"marker\": {\"line\": {\"color\": \"#E5ECF6\", \"width\": 0.5}}, \"type\": \"barpolar\"}], \"carpet\": [{\"aaxis\": {\"endlinecolor\": \"#2a3f5f\", \"gridcolor\": \"white\", \"linecolor\": \"white\", \"minorgridcolor\": \"white\", \"startlinecolor\": \"#2a3f5f\"}, \"baxis\": {\"endlinecolor\": \"#2a3f5f\", \"gridcolor\": \"white\", \"linecolor\": \"white\", \"minorgridcolor\": \"white\", \"startlinecolor\": \"#2a3f5f\"}, \"type\": \"carpet\"}], \"choropleth\": [{\"colorbar\": {\"outlinewidth\": 0, \"ticks\": \"\"}, \"type\": \"choropleth\"}], \"contour\": [{\"colorbar\": {\"outlinewidth\": 0, \"ticks\": \"\"}, \"colorscale\": [[0.0, \"#0d0887\"], [0.1111111111111111, \"#46039f\"], [0.2222222222222222, \"#7201a8\"], [0.3333333333333333, \"#9c179e\"], [0.4444444444444444, \"#bd3786\"], [0.5555555555555556, \"#d8576b\"], [0.6666666666666666, \"#ed7953\"], [0.7777777777777778, \"#fb9f3a\"], [0.8888888888888888, \"#fdca26\"], [1.0, \"#f0f921\"]], \"type\": \"contour\"}], \"contourcarpet\": [{\"colorbar\": {\"outlinewidth\": 0, \"ticks\": \"\"}, \"type\": \"contourcarpet\"}], \"heatmap\": [{\"colorbar\": {\"outlinewidth\": 0, \"ticks\": \"\"}, \"colorscale\": [[0.0, \"#0d0887\"], [0.1111111111111111, \"#46039f\"], [0.2222222222222222, \"#7201a8\"], [0.3333333333333333, \"#9c179e\"], [0.4444444444444444, \"#bd3786\"], [0.5555555555555556, \"#d8576b\"], [0.6666666666666666, \"#ed7953\"], [0.7777777777777778, \"#fb9f3a\"], [0.8888888888888888, \"#fdca26\"], [1.0, \"#f0f921\"]], \"type\": \"heatmap\"}], \"heatmapgl\": [{\"colorbar\": {\"outlinewidth\": 0, \"ticks\": \"\"}, \"colorscale\": [[0.0, \"#0d0887\"], [0.1111111111111111, \"#46039f\"], [0.2222222222222222, \"#7201a8\"], [0.3333333333333333, \"#9c179e\"], [0.4444444444444444, \"#bd3786\"], [0.5555555555555556, \"#d8576b\"], [0.6666666666666666, \"#ed7953\"], [0.7777777777777778, \"#fb9f3a\"], [0.8888888888888888, \"#fdca26\"], [1.0, \"#f0f921\"]], \"type\": \"heatmapgl\"}], \"histogram\": [{\"marker\": {\"colorbar\": {\"outlinewidth\": 0, \"ticks\": \"\"}}, \"type\": \"histogram\"}], \"histogram2d\": [{\"colorbar\": {\"outlinewidth\": 0, \"ticks\": \"\"}, \"colorscale\": [[0.0, \"#0d0887\"], [0.1111111111111111, \"#46039f\"], [0.2222222222222222, \"#7201a8\"], [0.3333333333333333, \"#9c179e\"], [0.4444444444444444, \"#bd3786\"], [0.5555555555555556, \"#d8576b\"], [0.6666666666666666, \"#ed7953\"], [0.7777777777777778, \"#fb9f3a\"], [0.8888888888888888, \"#fdca26\"], [1.0, \"#f0f921\"]], \"type\": \"histogram2d\"}], \"histogram2dcontour\": [{\"colorbar\": {\"outlinewidth\": 0, \"ticks\": \"\"}, \"colorscale\": [[0.0, \"#0d0887\"], [0.1111111111111111, \"#46039f\"], [0.2222222222222222, \"#7201a8\"], [0.3333333333333333, \"#9c179e\"], [0.4444444444444444, \"#bd3786\"], [0.5555555555555556, \"#d8576b\"], [0.6666666666666666, \"#ed7953\"], [0.7777777777777778, \"#fb9f3a\"], [0.8888888888888888, \"#fdca26\"], [1.0, \"#f0f921\"]], \"type\": \"histogram2dcontour\"}], \"mesh3d\": [{\"colorbar\": {\"outlinewidth\": 0, \"ticks\": \"\"}, \"type\": \"mesh3d\"}], \"parcoords\": [{\"line\": {\"colorbar\": {\"outlinewidth\": 0, \"ticks\": \"\"}}, \"type\": \"parcoords\"}], \"pie\": [{\"automargin\": true, \"type\": \"pie\"}], \"scatter\": [{\"marker\": {\"colorbar\": {\"outlinewidth\": 0, \"ticks\": \"\"}}, \"type\": \"scatter\"}], \"scatter3d\": [{\"line\": {\"colorbar\": {\"outlinewidth\": 0, \"ticks\": \"\"}}, \"marker\": {\"colorbar\": {\"outlinewidth\": 0, \"ticks\": \"\"}}, \"type\": \"scatter3d\"}], \"scattercarpet\": [{\"marker\": {\"colorbar\": {\"outlinewidth\": 0, \"ticks\": \"\"}}, \"type\": \"scattercarpet\"}], \"scattergeo\": [{\"marker\": {\"colorbar\": {\"outlinewidth\": 0, \"ticks\": \"\"}}, \"type\": \"scattergeo\"}], \"scattergl\": [{\"marker\": {\"colorbar\": {\"outlinewidth\": 0, \"ticks\": \"\"}}, \"type\": \"scattergl\"}], \"scattermapbox\": [{\"marker\": {\"colorbar\": {\"outlinewidth\": 0, \"ticks\": \"\"}}, \"type\": \"scattermapbox\"}], \"scatterpolar\": [{\"marker\": {\"colorbar\": {\"outlinewidth\": 0, \"ticks\": \"\"}}, \"type\": \"scatterpolar\"}], \"scatterpolargl\": [{\"marker\": {\"colorbar\": {\"outlinewidth\": 0, \"ticks\": \"\"}}, \"type\": \"scatterpolargl\"}], \"scatterternary\": [{\"marker\": {\"colorbar\": {\"outlinewidth\": 0, \"ticks\": \"\"}}, \"type\": \"scatterternary\"}], \"surface\": [{\"colorbar\": {\"outlinewidth\": 0, \"ticks\": \"\"}, \"colorscale\": [[0.0, \"#0d0887\"], [0.1111111111111111, \"#46039f\"], [0.2222222222222222, \"#7201a8\"], [0.3333333333333333, \"#9c179e\"], [0.4444444444444444, \"#bd3786\"], [0.5555555555555556, \"#d8576b\"], [0.6666666666666666, \"#ed7953\"], [0.7777777777777778, \"#fb9f3a\"], [0.8888888888888888, \"#fdca26\"], [1.0, \"#f0f921\"]], \"type\": \"surface\"}], \"table\": [{\"cells\": {\"fill\": {\"color\": \"#EBF0F8\"}, \"line\": {\"color\": \"white\"}}, \"header\": {\"fill\": {\"color\": \"#C8D4E3\"}, \"line\": {\"color\": \"white\"}}, \"type\": \"table\"}]}, \"layout\": {\"annotationdefaults\": {\"arrowcolor\": \"#2a3f5f\", \"arrowhead\": 0, \"arrowwidth\": 1}, \"coloraxis\": {\"colorbar\": {\"outlinewidth\": 0, \"ticks\": \"\"}}, \"colorscale\": {\"diverging\": [[0, \"#8e0152\"], [0.1, \"#c51b7d\"], [0.2, \"#de77ae\"], [0.3, \"#f1b6da\"], [0.4, \"#fde0ef\"], [0.5, \"#f7f7f7\"], [0.6, \"#e6f5d0\"], [0.7, \"#b8e186\"], [0.8, \"#7fbc41\"], [0.9, \"#4d9221\"], [1, \"#276419\"]], \"sequential\": [[0.0, \"#0d0887\"], [0.1111111111111111, \"#46039f\"], [0.2222222222222222, \"#7201a8\"], [0.3333333333333333, \"#9c179e\"], [0.4444444444444444, \"#bd3786\"], [0.5555555555555556, \"#d8576b\"], [0.6666666666666666, \"#ed7953\"], [0.7777777777777778, \"#fb9f3a\"], [0.8888888888888888, \"#fdca26\"], [1.0, \"#f0f921\"]], \"sequentialminus\": [[0.0, \"#0d0887\"], [0.1111111111111111, \"#46039f\"], [0.2222222222222222, \"#7201a8\"], [0.3333333333333333, \"#9c179e\"], [0.4444444444444444, \"#bd3786\"], [0.5555555555555556, \"#d8576b\"], [0.6666666666666666, \"#ed7953\"], [0.7777777777777778, \"#fb9f3a\"], [0.8888888888888888, \"#fdca26\"], [1.0, \"#f0f921\"]]}, \"colorway\": [\"#636efa\", \"#EF553B\", \"#00cc96\", \"#ab63fa\", \"#FFA15A\", \"#19d3f3\", \"#FF6692\", \"#B6E880\", \"#FF97FF\", \"#FECB52\"], \"font\": {\"color\": \"#2a3f5f\"}, \"geo\": {\"bgcolor\": \"white\", \"lakecolor\": \"white\", \"landcolor\": \"#E5ECF6\", \"showlakes\": true, \"showland\": true, \"subunitcolor\": \"white\"}, \"hoverlabel\": {\"align\": \"left\"}, \"hovermode\": \"closest\", \"mapbox\": {\"style\": \"light\"}, \"paper_bgcolor\": \"white\", \"plot_bgcolor\": \"#E5ECF6\", \"polar\": {\"angularaxis\": {\"gridcolor\": \"white\", \"linecolor\": \"white\", \"ticks\": \"\"}, \"bgcolor\": \"#E5ECF6\", \"radialaxis\": {\"gridcolor\": \"white\", \"linecolor\": \"white\", \"ticks\": \"\"}}, \"scene\": {\"xaxis\": {\"backgroundcolor\": \"#E5ECF6\", \"gridcolor\": \"white\", \"gridwidth\": 2, \"linecolor\": \"white\", \"showbackground\": true, \"ticks\": \"\", \"zerolinecolor\": \"white\"}, \"yaxis\": {\"backgroundcolor\": \"#E5ECF6\", \"gridcolor\": \"white\", \"gridwidth\": 2, \"linecolor\": \"white\", \"showbackground\": true, \"ticks\": \"\", \"zerolinecolor\": \"white\"}, \"zaxis\": {\"backgroundcolor\": \"#E5ECF6\", \"gridcolor\": \"white\", \"gridwidth\": 2, \"linecolor\": \"white\", \"showbackground\": true, \"ticks\": \"\", \"zerolinecolor\": \"white\"}}, \"shapedefaults\": {\"line\": {\"color\": \"#2a3f5f\"}}, \"ternary\": {\"aaxis\": {\"gridcolor\": \"white\", \"linecolor\": \"white\", \"ticks\": \"\"}, \"baxis\": {\"gridcolor\": \"white\", \"linecolor\": \"white\", \"ticks\": \"\"}, \"bgcolor\": \"#E5ECF6\", \"caxis\": {\"gridcolor\": \"white\", \"linecolor\": \"white\", \"ticks\": \"\"}}, \"title\": {\"x\": 0.05}, \"xaxis\": {\"automargin\": true, \"gridcolor\": \"white\", \"linecolor\": \"white\", \"ticks\": \"\", \"title\": {\"standoff\": 15}, \"zerolinecolor\": \"white\", \"zerolinewidth\": 2}, \"yaxis\": {\"automargin\": true, \"gridcolor\": \"white\", \"linecolor\": \"white\", \"ticks\": \"\", \"title\": {\"standoff\": 15}, \"zerolinecolor\": \"white\", \"zerolinewidth\": 2}}}, \"title\": {\"text\": \"Gr\\u00e1fico de dispersi\\u00f3n Plazo al vencimiento Vs Rentabilidad\"}, \"updatemenus\": [{\"active\": 0, \"buttons\": [{\"args\": [{\"visible\": [false, false, false, false]}, {\"annotations\": [], \"title\": \"Rendimiento/Plazo\"}], \"label\": \"Ninguna\", \"method\": \"update\"}, {\"args\": [{\"visible\": [true, false, false, false]}, {\"annotations\": [{\"x\": [371.0, 397.0, 405.0, 408.0, 412.0, 419.0, 430.0, 437.0, 472.0, 480.0, 480.0, 490.0, 494.0, 499.0, 502.0, 506.0, 509.0, 532.0, 533.0, 541.0, 548.0, 552.0, 597.0, 618.0, 651.0, 657.0, 670.0, 673.0, 680.0, 692.0, 697.0, 731.0, 734.0, 750.0, 750.0, 758.0, 765.0, 770.0, 775.0, 777.0, 778.0, 778.0, 797.0, 835.0, 849.0, 856.0, 857.0, 865.0, 881.0, 882.0, 889.0, 893.0, 895.0, 899.0, 900.0, 916.0, 922.0, 934.0, 950.0, 957.0, 978.0, 984.0, 1011.0, 1018.0, 1024.0, 1033.0, 1034.0, 1052.0, 1053.0, 1055.0, 1072.0, 1078.0, 1079.0, 1079.0, 1079.0, 1084.0, 1100.0, 1110.0, 1132.0, 1135.0, 1137.0, 1137.0, 1139.0, 1183.0, 1184.0, 1246.0, 1256.0, 1260.0, 1289.0, 1317.0, 1344.0, 1357.0, 1363.0, 1367.0, 1378.0, 1394.0, 1395.0, 1406.0, 1409.0, 1413.0, 1432.0, 1439.0, 1439.0, 1440.0, 1457.0, 1470.0, 1503.0, 1511.0, 1546.0, 1606.0, 1607.0, 1612.0, 1616.0, 1620.0, 1642.0, 1667.0, 1670.0, 1670.0, 1670.0, 1695.0, 1695.0, 1710.0, 1731.0, 1743.0, 1751.0, 1765.0, 1776.0, 1925.0, 2008.0, 2061.0, 2064.0, 2070.0, 2105.0, 2127.0, 2133.0, 2160.0, 2364.0, 2693.0], \"xref\": \"x\", \"y\": [6.685068601910604, 6.29020042756725, 6.33671834664824, 6.353913751226781, 6.376634976721363, 6.467297140776562, 6.476081347364726, 6.51357314686809, 6.691965023336799, 6.7307680610787735, 6.7307680610787735, 6.778315114928457, 6.7970451526199405, 6.820231545943667, 6.834024689985796, 6.852279265421313, 6.86586932338944, 6.967296281116209, 7.032352995220181, 7.0057120892919045, 7.035119635321152, 7.051743231221419, 7.230279169190723, 7.308676076313514, 7.426201035569235, 7.4468704523313, 7.561098070627503, 7.500995535792487, 7.524233880758047, 7.563467163254867, 7.579594413461255, 7.366680085865429, 7.375797561087261, 7.423737953771781, 7.423737953771781, 7.447285122167102, 7.467663817084347, 7.482093640884457, 7.496419682795263, 7.50212133951722, 7.504966047175188, 7.458512166151454, 7.558254516054053, 7.660697245515902, 8.500003593868666, 7.715090951479198, 7.79209609646081, 7.737944430375077, 7.777917901141951, 7.78038895579245, 7.797598069260214, 7.807363114936017, 7.812227073564415, 7.821918137334194, 7.82433326519385, 7.86256616033727, 7.87670824421669, 7.904680682044152, 8.999970179596861, 7.957166112868563, 8.003842176421028, 8.016967267556385, 7.9999849228418185, 8.089643339749752, 8.250035795761956, 8.120820675384532, 8.122880508111674, 8.159567330905304, 8.161584086247853, 8.165610928141742, 8.199484550873315, 8.21129081859766, 8.21325107746933, 8.21325107746933, 8.21325107746933, 8.223020668244008, 7.8155861338659705, 7.834619853726021, 7.875794884090315, 7.881336710577536, 7.885021688707905, 7.885021688707905, 7.888699039850966, 7.9677236750377745, 7.973729075169267, 8.074991301341328, 8.091420974942487, 8.097948923588127, 9.499975393452509, 8.601568544334537, 8.229524038594604, 8.999971521142491, 8.257903069165895, 8.26381604024391, 8.500003346867313, 8.303181952528327, 8.304621942290513, 8.32037850989904, 8.324649432646059, 7.699887960419627, 8.357024851458128, 8.366750874715478, 8.366750874715478, 8.368135524168174, 8.391493729142141, 8.4871398994105, 8.601568544334537, 8.463497145798904, 8.508466308137574, 8.582640919333873, 8.715664940813284, 8.589864347349785, 8.594660933286669, 8.599442380572775, 8.69405227111315, 8.654515457881917, 5.757303454796148, 8.657962864883029, 9.101235972468436, 9.749988846780955, 8.69405227111315, 8.703177211907587, 8.999981511350796, 9.031427462805919, 9.01943013765365, 7.75003637186753, 8.77485217381917, 7.364419604736394, 7.440880091394941, 7.487477528650377, 7.490065561454262, 7.495226015700229, 7.676383537654452, 7.543233736837429, 7.548182483800492, 7.570211930665671, 7.6756331806287825, 6.961877461625132], \"yref\": \"y\"}], \"title\": \"Categor\\u00eda 01000: ['AAA+', 'AAA', 'AAA-']\"}], \"label\": \"01000\", \"method\": \"update\"}, {\"args\": [{\"visible\": [false, true, false, false]}, {\"annotations\": [{\"x\": [364.0, 370.0, 370.0, 380.0, 383.0, 396.0, 396.0, 403.0, 410.0, 434.0, 440.0, 450.0, 464.0, 475.0, 480.0, 481.0, 491.0, 493.0, 493.0, 494.0, 494.0, 508.0, 509.0, 512.0, 526.0, 536.0, 536.0, 537.0, 549.0, 563.0, 574.0, 581.0, 582.0, 583.0, 584.0, 590.0, 591.0, 591.0, 598.0, 603.0, 606.0, 610.0, 618.0, 623.0, 625.0, 628.0, 630.0, 631.0, 632.0, 635.0, 637.0, 638.0, 640.0, 646.0, 652.0, 657.0, 658.0, 666.0, 666.0, 674.0, 677.0, 678.0, 686.0, 687.0, 714.0, 714.0, 715.0, 730.0, 735.0, 743.0, 743.0, 750.0, 751.0, 756.0, 756.0, 761.0, 770.0, 776.0, 776.0, 787.0, 794.0, 800.0, 804.0, 805.0, 810.0, 832.0, 837.0, 837.0, 852.0, 853.0, 854.0, 854.0, 855.0, 868.0, 869.0, 874.0, 895.0, 896.0, 896.0, 900.0, 913.0, 916.0, 916.0, 920.0, 923.0, 934.0, 940.0, 941.0, 941.0, 946.0, 953.0, 956.0, 958.0, 963.0, 963.0, 981.0, 990.0, 990.0, 995.0, 995.0, 1004.0, 1011.0, 1012.0, 1015.0, 1016.0, 1021.0, 1041.0, 1068.0, 1074.0, 1086.0, 1096.0, 1100.0, 1103.0, 1149.0, 1151.0, 1159.0, 1162.0, 1164.0, 1172.0, 1177.0, 1186.0, 1187.0, 1192.0, 1197.0, 1197.0, 1200.0, 1209.0, 1260.0, 1260.0, 1267.0, 1274.0, 1275.0, 1275.0, 1286.0, 1294.0, 1314.0, 1318.0, 1320.0, 1356.0, 1381.0, 1401.0, 1411.0, 1411.0, 1414.0, 1417.0, 1450.0, 1460.0, 1511.0, 1530.0, 1544.0, 1633.0, 1674.0, 1677.0, 1677.0, 1704.0, 1716.0, 1947.0], \"xref\": \"x\", \"y\": [6.818248533022775, 6.856604612494888, 6.856604612494888, 6.9191061492206885, 6.937520744999315, 7.01560513271291, 7.01560513271291, 7.056542307044733, 7.096737987112345, 7.229256059946199, 7.327082853707534, 7.798875442866149, 7.384407820801631, 7.438646305132757, 7.462860312467257, 7.4676709033202116, 7.51519915329899, 7.524580987459739, 7.524580987459739, 7.529256699003994, 7.600118832053315, 7.5936761249433715, 7.598204749366744, 7.611733777685803, 7.747376046718468, 7.717004279099715, 7.717004279099715, 7.72128027920731, 7.771935305684341, 7.495735530815928, 7.8737450268852704, 7.901396434990993, 7.905317247320287, 7.909230787943056, 7.913137081702892, 7.936424035474854, 7.940280286242896, 7.940280286242896, 7.967077888742136, 7.98601189305197, 7.997290807278468, 8.01223553655328, 8.041808529263328, 8.060081279755416, 8.067345794459957, 8.07819530303382, 8.08539703283726, 8.088988574329647, 8.092573926380986, 8.103293040506543, 9.559674823484077, 8.113957146443518, 8.121036244636759, 8.142129722878177, 8.163010567404694, 8.180251647298675, 8.183682661302605, 8.29520140212745, 8.210927244362143, 8.237816093695383, 8.247809417000251, 8.251129744825558, 8.277500591952336, 8.28077320834284, 8.454719966789881, 8.367207269917643, 8.370339113031466, 8.416745235982326, 8.753666564762863, 7.474840147166706, 7.474840147166706, 7.495677082091401, 7.498636191160379, 7.513366507777253, 7.513366507777253, 7.527989157035542, 7.554043073113537, 7.571225020407191, 7.571225020407191, 7.602344620953705, 7.621896709826004, 7.638503195757718, 7.649497110192005, 7.652236041911653, 7.665873890098407, 7.7247809274239465, 7.7379253946402216, 7.7379253946402216, 7.776835554977168, 7.779402117686907, 7.857664024684263, 7.781965294871007, 7.7845250944272415, 7.76711678248887, 7.8200119950733615, 7.832529841962987, 7.884234797712075, 7.886662588692062, 7.886662588692062, 7.134285638109894, 7.927470915456869, 7.934582772896892, 7.934582772896892, 8.999987721011227, 7.951074599881558, 7.9767047307978345, 7.990540182882988, 7.992836293147576, 7.992836293147576, 8.004275205923594, 8.020174155602433, 8.026947162321996, 8.03144900397701, 8.042656698109418, 8.042656698109418, 8.500003481609397, 8.102046875318969, 8.102046875318969, 8.112840752544326, 8.195113483889482, 8.132113231539861, 6.871239400411344, 8.149077852864473, 8.15539972248267, 8.157502218403767, 8.167978954303479, 8.209300112679596, 8.263645534804898, 8.275505315718412, 8.327560762995635, 8.351996823597041, 8.973296264482666, 8.365416349544308, 8.451185477534917, 8.454822467859202, 8.469296154770678, 8.47469337736726, 8.478282379095159, 8.492565753127579, 8.501434348571024, 8.517285796968732, 8.519038253053246, 8.527774307134184, 8.536466918019947, 8.536466918019947, 8.54166178216591, 8.557154086531682, 8.642416875076542, 8.642416875076542, 8.653796222531618, 8.665100172158091, 8.66670891536696, 8.66670891536696, 8.684305321320807, 8.696989004949884, 8.72828761711233, 8.734478091333742, 8.737564785944762, 9.06767831738593, 9.356920114908052, 8.85799048509961, 8.872264691053822, 8.872264691053822, 8.87652266188299, 8.880769505733532, 8.926763613785216, 8.940445686865672, 9.008452797096211, 9.033058010193873, 9.050943563189406, 9.160036046721931, 9.207768221846013, 9.211201638315814, 9.211201638315814, 9.241749343619876, 8.874249667644118, 6.485778141066767], \"yref\": \"y\"}], \"title\": \"Categor\\u00eda 02000: ['AA+', 'AA', 'AA-']\"}], \"label\": \"02000\", \"method\": \"update\"}, {\"args\": [{\"visible\": [false, false, true, false]}, {\"annotations\": [{\"x\": [501.0, 631.0, 991.0, 1101.0], \"xref\": \"x\", \"y\": [10.220330495393792, 10.751052033982944, 7.66290409748116, 9.109493791112122], \"yref\": \"y\"}], \"title\": \"Categor\\u00eda 03000: ['A+', 'A', ' A-']\"}], \"label\": \"03000\", \"method\": \"update\"}, {\"args\": [{\"visible\": [true, true, true, true]}, {\"annotations\": [{\"x\": [371.0, 397.0, 405.0, 408.0, 412.0, 419.0, 430.0, 437.0, 472.0, 480.0, 480.0, 490.0, 494.0, 499.0, 502.0, 506.0, 509.0, 532.0, 533.0, 541.0, 548.0, 552.0, 597.0, 618.0, 651.0, 657.0, 670.0, 673.0, 680.0, 692.0, 697.0, 731.0, 734.0, 750.0, 750.0, 758.0, 765.0, 770.0, 775.0, 777.0, 778.0, 778.0, 797.0, 835.0, 849.0, 856.0, 857.0, 865.0, 881.0, 882.0, 889.0, 893.0, 895.0, 899.0, 900.0, 916.0, 922.0, 934.0, 950.0, 957.0, 978.0, 984.0, 1011.0, 1018.0, 1024.0, 1033.0, 1034.0, 1052.0, 1053.0, 1055.0, 1072.0, 1078.0, 1079.0, 1079.0, 1079.0, 1084.0, 1100.0, 1110.0, 1132.0, 1135.0, 1137.0, 1137.0, 1139.0, 1183.0, 1184.0, 1246.0, 1256.0, 1260.0, 1289.0, 1317.0, 1344.0, 1357.0, 1363.0, 1367.0, 1378.0, 1394.0, 1395.0, 1406.0, 1409.0, 1413.0, 1432.0, 1439.0, 1439.0, 1440.0, 1457.0, 1470.0, 1503.0, 1511.0, 1546.0, 1606.0, 1607.0, 1612.0, 1616.0, 1620.0, 1642.0, 1667.0, 1670.0, 1670.0, 1670.0, 1695.0, 1695.0, 1710.0, 1731.0, 1743.0, 1751.0, 1765.0, 1776.0, 1925.0, 2008.0, 2061.0, 2064.0, 2070.0, 2105.0, 2127.0, 2133.0, 2160.0, 2364.0, 2693.0], \"xref\": \"x\", \"y\": [6.685068601910604, 6.29020042756725, 6.33671834664824, 6.353913751226781, 6.376634976721363, 6.467297140776562, 6.476081347364726, 6.51357314686809, 6.691965023336799, 6.7307680610787735, 6.7307680610787735, 6.778315114928457, 6.7970451526199405, 6.820231545943667, 6.834024689985796, 6.852279265421313, 6.86586932338944, 6.967296281116209, 7.032352995220181, 7.0057120892919045, 7.035119635321152, 7.051743231221419, 7.230279169190723, 7.308676076313514, 7.426201035569235, 7.4468704523313, 7.561098070627503, 7.500995535792487, 7.524233880758047, 7.563467163254867, 7.579594413461255, 7.366680085865429, 7.375797561087261, 7.423737953771781, 7.423737953771781, 7.447285122167102, 7.467663817084347, 7.482093640884457, 7.496419682795263, 7.50212133951722, 7.504966047175188, 7.458512166151454, 7.558254516054053, 7.660697245515902, 8.500003593868666, 7.715090951479198, 7.79209609646081, 7.737944430375077, 7.777917901141951, 7.78038895579245, 7.797598069260214, 7.807363114936017, 7.812227073564415, 7.821918137334194, 7.82433326519385, 7.86256616033727, 7.87670824421669, 7.904680682044152, 8.999970179596861, 7.957166112868563, 8.003842176421028, 8.016967267556385, 7.9999849228418185, 8.089643339749752, 8.250035795761956, 8.120820675384532, 8.122880508111674, 8.159567330905304, 8.161584086247853, 8.165610928141742, 8.199484550873315, 8.21129081859766, 8.21325107746933, 8.21325107746933, 8.21325107746933, 8.223020668244008, 7.8155861338659705, 7.834619853726021, 7.875794884090315, 7.881336710577536, 7.885021688707905, 7.885021688707905, 7.888699039850966, 7.9677236750377745, 7.973729075169267, 8.074991301341328, 8.091420974942487, 8.097948923588127, 9.499975393452509, 8.601568544334537, 8.229524038594604, 8.999971521142491, 8.257903069165895, 8.26381604024391, 8.500003346867313, 8.303181952528327, 8.304621942290513, 8.32037850989904, 8.324649432646059, 7.699887960419627, 8.357024851458128, 8.366750874715478, 8.366750874715478, 8.368135524168174, 8.391493729142141, 8.4871398994105, 8.601568544334537, 8.463497145798904, 8.508466308137574, 8.582640919333873, 8.715664940813284, 8.589864347349785, 8.594660933286669, 8.599442380572775, 8.69405227111315, 8.654515457881917, 5.757303454796148, 8.657962864883029, 9.101235972468436, 9.749988846780955, 8.69405227111315, 8.703177211907587, 8.999981511350796, 9.031427462805919, 9.01943013765365, 7.75003637186753, 8.77485217381917, 7.364419604736394, 7.440880091394941, 7.487477528650377, 7.490065561454262, 7.495226015700229, 7.676383537654452, 7.543233736837429, 7.548182483800492, 7.570211930665671, 7.6756331806287825, 6.961877461625132], \"yref\": \"y\"}, {\"x\": [364.0, 370.0, 370.0, 380.0, 383.0, 396.0, 396.0, 403.0, 410.0, 434.0, 440.0, 450.0, 464.0, 475.0, 480.0, 481.0, 491.0, 493.0, 493.0, 494.0, 494.0, 508.0, 509.0, 512.0, 526.0, 536.0, 536.0, 537.0, 549.0, 563.0, 574.0, 581.0, 582.0, 583.0, 584.0, 590.0, 591.0, 591.0, 598.0, 603.0, 606.0, 610.0, 618.0, 623.0, 625.0, 628.0, 630.0, 631.0, 632.0, 635.0, 637.0, 638.0, 640.0, 646.0, 652.0, 657.0, 658.0, 666.0, 666.0, 674.0, 677.0, 678.0, 686.0, 687.0, 714.0, 714.0, 715.0, 730.0, 735.0, 743.0, 743.0, 750.0, 751.0, 756.0, 756.0, 761.0, 770.0, 776.0, 776.0, 787.0, 794.0, 800.0, 804.0, 805.0, 810.0, 832.0, 837.0, 837.0, 852.0, 853.0, 854.0, 854.0, 855.0, 868.0, 869.0, 874.0, 895.0, 896.0, 896.0, 900.0, 913.0, 916.0, 916.0, 920.0, 923.0, 934.0, 940.0, 941.0, 941.0, 946.0, 953.0, 956.0, 958.0, 963.0, 963.0, 981.0, 990.0, 990.0, 995.0, 995.0, 1004.0, 1011.0, 1012.0, 1015.0, 1016.0, 1021.0, 1041.0, 1068.0, 1074.0, 1086.0, 1096.0, 1100.0, 1103.0, 1149.0, 1151.0, 1159.0, 1162.0, 1164.0, 1172.0, 1177.0, 1186.0, 1187.0, 1192.0, 1197.0, 1197.0, 1200.0, 1209.0, 1260.0, 1260.0, 1267.0, 1274.0, 1275.0, 1275.0, 1286.0, 1294.0, 1314.0, 1318.0, 1320.0, 1356.0, 1381.0, 1401.0, 1411.0, 1411.0, 1414.0, 1417.0, 1450.0, 1460.0, 1511.0, 1530.0, 1544.0, 1633.0, 1674.0, 1677.0, 1677.0, 1704.0, 1716.0, 1947.0], \"xref\": \"x\", \"y\": [6.818248533022775, 6.856604612494888, 6.856604612494888, 6.9191061492206885, 6.937520744999315, 7.01560513271291, 7.01560513271291, 7.056542307044733, 7.096737987112345, 7.229256059946199, 7.327082853707534, 7.798875442866149, 7.384407820801631, 7.438646305132757, 7.462860312467257, 7.4676709033202116, 7.51519915329899, 7.524580987459739, 7.524580987459739, 7.529256699003994, 7.600118832053315, 7.5936761249433715, 7.598204749366744, 7.611733777685803, 7.747376046718468, 7.717004279099715, 7.717004279099715, 7.72128027920731, 7.771935305684341, 7.495735530815928, 7.8737450268852704, 7.901396434990993, 7.905317247320287, 7.909230787943056, 7.913137081702892, 7.936424035474854, 7.940280286242896, 7.940280286242896, 7.967077888742136, 7.98601189305197, 7.997290807278468, 8.01223553655328, 8.041808529263328, 8.060081279755416, 8.067345794459957, 8.07819530303382, 8.08539703283726, 8.088988574329647, 8.092573926380986, 8.103293040506543, 9.559674823484077, 8.113957146443518, 8.121036244636759, 8.142129722878177, 8.163010567404694, 8.180251647298675, 8.183682661302605, 8.29520140212745, 8.210927244362143, 8.237816093695383, 8.247809417000251, 8.251129744825558, 8.277500591952336, 8.28077320834284, 8.454719966789881, 8.367207269917643, 8.370339113031466, 8.416745235982326, 8.753666564762863, 7.474840147166706, 7.474840147166706, 7.495677082091401, 7.498636191160379, 7.513366507777253, 7.513366507777253, 7.527989157035542, 7.554043073113537, 7.571225020407191, 7.571225020407191, 7.602344620953705, 7.621896709826004, 7.638503195757718, 7.649497110192005, 7.652236041911653, 7.665873890098407, 7.7247809274239465, 7.7379253946402216, 7.7379253946402216, 7.776835554977168, 7.779402117686907, 7.857664024684263, 7.781965294871007, 7.7845250944272415, 7.76711678248887, 7.8200119950733615, 7.832529841962987, 7.884234797712075, 7.886662588692062, 7.886662588692062, 7.134285638109894, 7.927470915456869, 7.934582772896892, 7.934582772896892, 8.999987721011227, 7.951074599881558, 7.9767047307978345, 7.990540182882988, 7.992836293147576, 7.992836293147576, 8.004275205923594, 8.020174155602433, 8.026947162321996, 8.03144900397701, 8.042656698109418, 8.042656698109418, 8.500003481609397, 8.102046875318969, 8.102046875318969, 8.112840752544326, 8.195113483889482, 8.132113231539861, 6.871239400411344, 8.149077852864473, 8.15539972248267, 8.157502218403767, 8.167978954303479, 8.209300112679596, 8.263645534804898, 8.275505315718412, 8.327560762995635, 8.351996823597041, 8.973296264482666, 8.365416349544308, 8.451185477534917, 8.454822467859202, 8.469296154770678, 8.47469337736726, 8.478282379095159, 8.492565753127579, 8.501434348571024, 8.517285796968732, 8.519038253053246, 8.527774307134184, 8.536466918019947, 8.536466918019947, 8.54166178216591, 8.557154086531682, 8.642416875076542, 8.642416875076542, 8.653796222531618, 8.665100172158091, 8.66670891536696, 8.66670891536696, 8.684305321320807, 8.696989004949884, 8.72828761711233, 8.734478091333742, 8.737564785944762, 9.06767831738593, 9.356920114908052, 8.85799048509961, 8.872264691053822, 8.872264691053822, 8.87652266188299, 8.880769505733532, 8.926763613785216, 8.940445686865672, 9.008452797096211, 9.033058010193873, 9.050943563189406, 9.160036046721931, 9.207768221846013, 9.211201638315814, 9.211201638315814, 9.241749343619876, 8.874249667644118, 6.485778141066767], \"yref\": \"y\"}, {\"x\": [501.0, 631.0, 991.0, 1101.0], \"xref\": \"x\", \"y\": [10.220330495393792, 10.751052033982944, 7.66290409748116, 9.109493791112122], \"yref\": \"y\"}], \"title\": \"Todas las categor\\u00edas\"}], \"label\": \"Todas\", \"method\": \"update\"}]}]},\n",
       "                        {\"responsive\": true}\n",
       "                    ).then(function(){\n",
       "                            \n",
       "var gd = document.getElementById('59982b03-a7e9-4f42-820a-38ee29be3728');\n",
       "var x = new MutationObserver(function (mutations, observer) {{\n",
       "        var display = window.getComputedStyle(gd).display;\n",
       "        if (!display || display === 'none') {{\n",
       "            console.log([gd, 'removed!']);\n",
       "            Plotly.purge(gd);\n",
       "            observer.disconnect();\n",
       "        }}\n",
       "}});\n",
       "\n",
       "// Listen for the removal of the full notebook cells\n",
       "var notebookContainer = gd.closest('#notebook-container');\n",
       "if (notebookContainer) {{\n",
       "    x.observe(notebookContainer, {childList: true});\n",
       "}}\n",
       "\n",
       "// Listen for the clearing of the current output cell\n",
       "var outputEl = gd.closest('.output');\n",
       "if (outputEl) {{\n",
       "    x.observe(outputEl, {childList: true});\n",
       "}}\n",
       "\n",
       "                        })\n",
       "                };\n",
       "                });\n",
       "            </script>\n",
       "        </div>"
      ]
     },
     "metadata": {},
     "output_type": "display_data"
    }
   ],
   "source": [
    "data = [extraer_datos(archivo, calificacion=tabla_calificaciones.loc[i]['Calificacion'], titulo='OBLIGACIONES')\n",
    "        for i in tabla_calificaciones.index]\n",
    "\n",
    "x0 = data[0]['PLAZO POR VENCER'] \n",
    "y0 = data[0]['TASA NOMINAL EQUIVALENTE %'] \n",
    "\n",
    "x1 = data[1]['PLAZO POR VENCER'] \n",
    "y1 = data[1]['TASA NOMINAL EQUIVALENTE %'] \n",
    "\n",
    "x2 = data[2]['PLAZO POR VENCER'] \n",
    "y2 = data[2]['TASA NOMINAL EQUIVALENTE %'] \n",
    "\n",
    "# Inicializar figura\n",
    "fig = go.Figure()\n",
    "\n",
    "# Añadir gráficas\n",
    "\n",
    "fig.add_trace(\n",
    "        go.Scatter(\n",
    "        x=x0,\n",
    "        y=y0,\n",
    "        mode=\"markers\",\n",
    "        marker=dict(color=\"DarkOrange\")\n",
    "    )\n",
    ")\n",
    "fig.add_trace(\n",
    "        go.Scatter(\n",
    "        x=x1,\n",
    "        y=y1,\n",
    "        mode=\"markers\",\n",
    "        marker=dict(color=\"Crimson\")\n",
    "    )\n",
    ")\n",
    "fig.add_trace(\n",
    "        go.Scatter(\n",
    "        x=x2,\n",
    "        y=y2,\n",
    "        mode=\"markers\",\n",
    "        marker=dict(color=\"RebeccaPurple\")\n",
    "    )\n",
    ")\n",
    "\n",
    "# Crear botones\n",
    "cat1 = [dict(x=x0,y=y0, xref=\"x\", yref=\"y\")]\n",
    "                         #text=\"High Max:<br> %.3f\" % df.High.max(),\n",
    "                         #ax=0, ay=-40)]\n",
    "cat2 = [dict(x=x1, y=y1, xref=\"x\", yref=\"y\")]\n",
    "                        #text=\"Low Min:<br> %.3f\" % df.Low.min(),\n",
    "                        #ax=0, ay=40)]\n",
    "cat3 = [dict(x=x2, y=y2, xref=\"x\", yref=\"y\")]\n",
    "                        #text=\"Low Min:<br> %.3f\" % df.Low.min(),\n",
    "                        #ax=0, ay=40)]\n",
    "fig.update_layout(\n",
    "    updatemenus=[\n",
    "        dict(\n",
    "            active=0,\n",
    "            buttons=list([\n",
    "                dict(label=\"Ninguna\",\n",
    "                     method=\"update\",\n",
    "                     args=[{\"visible\": [False, False, False, False]},\n",
    "                           {\"title\": \"Rendimiento/Plazo\",\n",
    "                            \"annotations\": []}]),\n",
    "                dict(label=\"01000\",\n",
    "                     method=\"update\",\n",
    "                     args=[{\"visible\": [True, False, False, False]},\n",
    "                           {\"title\": \"Categoría 01000: ['AAA+', 'AAA', 'AAA-']\",\n",
    "                            \"annotations\": cat1}]),\n",
    "                dict(label=\"02000\",\n",
    "                     method=\"update\",\n",
    "                     args=[{\"visible\": [False, True, False, False]},\n",
    "                           {\"title\": \"Categoría 02000: ['AA+', 'AA', 'AA-']\",\n",
    "                            \"annotations\": cat2}]),\n",
    "                dict(label=\"03000\",\n",
    "                     method=\"update\",\n",
    "                     args=[{\"visible\": [False, False, True, False]},\n",
    "                           {\"title\": \"Categoría 03000: ['A+', 'A', ' A-']\",\n",
    "                            \"annotations\": cat3}]),\n",
    "                dict(label=\"Todas\",\n",
    "                     method=\"update\",\n",
    "                     args=[{\"visible\": [True, True, True, True]},\n",
    "                           {\"title\": \"Todas las categorías\",\n",
    "                            \"annotations\": cat1 + cat2 + cat3}]),\n",
    "            ]),\n",
    "        )\n",
    "    ])\n",
    "\n",
    "# Título\n",
    "fig.update_layout(title_text=\"Gráfico de dispersión Plazo al vencimiento Vs Rentabilidad\")\n",
    "fig.show()"
   ]
  },
  {
   "cell_type": "markdown",
   "metadata": {},
   "source": [
    "Ahora analizaremos una categoría, la más alta (**`01000`**) para saber más de cerca que es lo que sucede:"
   ]
  },
  {
   "cell_type": "code",
   "execution_count": 95,
   "metadata": {},
   "outputs": [
    {
     "data": {
      "application/vnd.plotly.v1+json": {
       "config": {
        "plotlyServerURL": "https://plotly.com"
       },
       "data": [
        {
         "marker": {
          "color": "lightgray"
         },
         "mode": "markers",
         "text": [
          "CORPORACION JCEVCORP CIA. LTDA",
          "RYC S.A.",
          "MUNDO DEPORTIVO MEDEPORT S.A.",
          "CEPSA S.A.",
          "MEGAPROFER S.A.",
          "TOYOTA DEL ECUADOR S.A.",
          "INMOBILIARIA LAVIE S.A.",
          "FISA FUNDICIONES INDUSTRIALES S.A.",
          "FIRMESA INDUSTRIAL CIA. LTDA.",
          "DIPAC MANTA S.A.",
          "AGRIPAC S.A.",
          "PLASTICOS RIVAL CIA. LTDA.",
          "MAREAUTO S.A.",
          "MAREAUTO S.A.",
          "CORPORACION JARRIN HERRERA CIA. LTDA.",
          "MAREAUTO S.A.",
          "SOUTH ECUAMERIDIAN S.A.",
          "SOCIEDAD INDUSTRIAL GANADERA ELORDEÑO S.A.",
          "HUMANITAS S.A.",
          "CORPORACION JARRIN HERRERA CIA. LTDA.",
          "SURPAPELCORP S.A.",
          "CORPORACION EL ROSADO S.A.",
          "LA FABRIL S.A.",
          "PRODUCTORA CARTONERA S.A.",
          "RIPCONCIV CONSTRUCCIONES CIVILES CIA. LTDA.",
          "COMPANIA AZUCARERA VALDEZ S.A.",
          "COMPAÑIA PETROLEOS DE LOS RIOS PETROLRIOS C.A.",
          "TIENDAS INDUSTRIALES ASOCIADAS TIA S.A.",
          "DOLTREX S.A.",
          "UNIVERSAL SWEET INDUSTRIES S.A."
         ],
         "type": "scatter",
         "x": [
          397,
          405,
          408,
          412,
          419,
          430,
          437,
          472,
          480,
          480,
          490,
          494,
          499,
          502,
          506,
          509,
          532,
          533,
          541,
          548,
          552,
          597,
          618,
          651,
          657,
          670,
          673,
          680,
          692,
          697
         ],
         "y": [
          6.29020042756725,
          6.33671834664824,
          6.353913751226781,
          6.376634976721363,
          6.467297140776562,
          6.476081347364726,
          6.51357314686809,
          6.691965023336799,
          6.7307680610787735,
          6.7307680610787735,
          6.778315114928457,
          6.7970451526199405,
          6.820231545943667,
          6.834024689985796,
          6.852279265421313,
          6.86586932338944,
          6.967296281116209,
          7.032352995220181,
          7.0057120892919045,
          7.035119635321152,
          7.051743231221419,
          7.230279169190723,
          7.308676076313514,
          7.426201035569235,
          7.4468704523313,
          7.561098070627503,
          7.500995535792487,
          7.524233880758047,
          7.563467163254867,
          7.579594413461255
         ]
        },
        {
         "marker": {
          "color": "lightslategrey"
         },
         "mode": "markers",
         "text": [
          "LA FABRIL S.A.",
          "SERTECPET S.A.",
          "SUPERDEPORTE S.A.",
          "SERTECPET S.A.",
          "INDUSTRIA LOJANA DE ESPECERIAS ILE C.A.",
          "RYC S.A.",
          "EDESA S.A.",
          "SUMESA S.A",
          "MAREAUTO S.A.",
          "EMPRESA DURINI INDUSTRIA DE MADERA C.A. EDIMCA",
          "EDESA S.A.",
          "INMOBILIARIA LAVIE S.A.",
          "SOUTH ECUAMERIDIAN S.A.",
          "EDESA S.A.",
          "SOCIEDAD INDUSTRIAL GANADERA ELORDEÑO S.A.",
          "CORPORACION JARRIN HERRERA CIA. LTDA.",
          "DIPAC MANTA S.A.",
          "PREDUCA S.A.",
          "PLASTICOS RIVAL CIA. LTDA.",
          "IMPORTADORA VEGA S.A.",
          "MEGAPRODUCTOS S.A.",
          "SURPAPELCORP S.A.",
          "CORPORACION JARRIN HERRERA CIA. LTDA.",
          "DISTRIBUIDORA DE LIBROS Y PAPELERIA DILIPA CIA. LTDA.",
          "FIRMESA INDUSTRIAL CIA. LTDA.",
          "SUPERDEPORTE S.A.",
          "CORPORACION EL ROSADO S.A.",
          "LA FABRIL S.A.",
          "CONSTRUCTORA COVIGON C.A.",
          "PRODUCTORA CARTONERA S.A.",
          "MINUTOCORP S.A.",
          "DISTRIBUIDORA DE LIBROS Y PAPELERIA DILIPA CIA. LTDA.",
          "ROMERO & PAZMIÑO INGENIERÍA INMOBILIARIA S.A.",
          "ELECTROCABLES C.A.",
          "DOLTREX S.A.",
          "LA FABRIL S.A.",
          "ADITIVOS Y ALIMENTOS S.A. ADILISA",
          "REYLACTEOS C.L.",
          "ADITIVOS Y ALIMENTOS S.A. ADILISA",
          "TUBERIAS PACIFICO S.A. TUPASA",
          "COMPAÑIA PETROLEOS DE LOS RIOS PETROLRIOS C.A.",
          "INDUSTRIAS DACAR CIA LTDA",
          "PROMOTORES INMOBILIARIOS PRONOBIS S.A."
         ],
         "type": "scatter",
         "x": [
          731,
          734,
          750,
          750,
          758,
          765,
          770,
          775,
          777,
          778,
          778,
          797,
          835,
          856,
          857,
          865,
          881,
          882,
          889,
          893,
          895,
          899,
          900,
          916,
          922,
          934,
          957,
          978,
          984,
          1011,
          1018,
          1024,
          1033,
          1034,
          1052,
          1053,
          1055,
          1072,
          1078,
          1079,
          1079,
          1079,
          1084
         ],
         "y": [
          7.366680085865429,
          7.375797561087261,
          7.423737953771781,
          7.423737953771781,
          7.447285122167102,
          7.467663817084347,
          7.482093640884457,
          7.496419682795263,
          7.50212133951722,
          7.504966047175188,
          7.458512166151454,
          7.558254516054053,
          7.660697245515902,
          7.715090951479198,
          7.79209609646081,
          7.737944430375077,
          7.777917901141951,
          7.78038895579245,
          7.797598069260214,
          7.807363114936017,
          7.812227073564415,
          7.821918137334194,
          7.82433326519385,
          7.86256616033727,
          7.87670824421669,
          7.904680682044152,
          7.957166112868563,
          8.003842176421028,
          8.016967267556385,
          7.9999849228418185,
          8.089643339749752,
          8.250035795761956,
          8.120820675384532,
          8.122880508111674,
          8.159567330905304,
          8.161584086247853,
          8.165610928141742,
          8.199484550873315,
          8.21129081859766,
          8.21325107746933,
          8.21325107746933,
          8.21325107746933,
          8.223020668244008
         ]
        },
        {
         "marker": {
          "color": "darkslategrey"
         },
         "mode": "markers",
         "text": [
          "BASESURCORP S.A.",
          "SUPERDEPORTE S.A.",
          "CEPSA S.A.",
          "SUMESA S.A",
          "CORPORACION JCEVCORP CIA. LTDA",
          "MAREAUTO S.A.",
          "SUMESA S.A",
          "COMPAÑIA GENERAL DE COMERCIO Y MANDATO S.A.",
          "PROMOTORES INMOBILIARIOS PRONOBIS S.A.",
          "EDESA S.A.",
          "FUNDAMETZ S.A.",
          "CORPORACION EL ROSADO S.A.",
          "CONSTRUCTORA COVIGON C.A.",
          "COMPAÑIA PETROLEOS DE LOS RIOS PETROLRIOS C.A.",
          "INVESTEAM S.A.",
          "PRODUCTORA CARTONERA S.A.",
          "ELECTROCABLES C.A.",
          "PROMOTORES INMOBILIARIOS PRONOBIS S.A.",
          "DISTRIBUIDORA FARMACEUTICA ECUATORIANA DIFARE S.A.",
          "ADITIVOS Y ALIMENTOS S.A. ADILISA",
          "REYLACTEOS C.L.",
          "TUBERIAS PACIFICO S.A. TUPASA",
          "INDUSTRIAS DACAR CIA LTDA",
          "TIENDAS INDUSTRIALES ASOCIADAS TIA S.A.",
          "RIPCONCIV CONSTRUCCIONES CIVILES CIA. LTDA.",
          "COMPANIA AZUCARERA VALDEZ S.A.",
          "BANCO GENERAL RUMIÑAHUI S.A.",
          "ELECTROCABLES C.A.",
          "PLASTICSACKS CÍA. LTDA.",
          "EDESA S.A.",
          "CAJA CENTRAL FINANCOOP",
          "CORPORACION JARRIN HERRERA CIA. LTDA.",
          "FUNDAMETZ S.A.",
          "UNIVERSAL SWEET INDUSTRIES S.A.",
          "BANCO GUAYAQUIL S.A.",
          "AGROINDUSTRIAS DAJAHU S.A.",
          "INVESTEAM S.A.",
          "BANCO BOLIVARIANO C.A.",
          "EXTRACTORA AGRICOLA RIO MANSO EXA S.A.",
          "PRODUCTORA CARTONERA S.A.",
          "ALPHA FACTORING DEL ECUADOR ALLFACTOR S.A.",
          "PROMOTORES INMOBILIARIOS PRONOBIS S.A.",
          "DISTRIBUIDORA FARMACEUTICA ECUATORIANA DIFARE S.A."
         ],
         "type": "scatter",
         "x": [
          1100,
          1110,
          1132,
          1135,
          1137,
          1137,
          1139,
          1183,
          1184,
          1246,
          1256,
          1260,
          1344,
          1363,
          1367,
          1378,
          1394,
          1395,
          1406,
          1409,
          1432,
          1439,
          1439,
          1440,
          1457,
          1470,
          1503,
          1511,
          1546,
          1606,
          1607,
          1612,
          1616,
          1620,
          1642,
          1667,
          1670,
          1695,
          1710,
          1731,
          1743,
          1751,
          1776
         ],
         "y": [
          7.8155861338659705,
          7.834619853726021,
          7.875794884090315,
          7.881336710577536,
          7.885021688707905,
          7.885021688707905,
          7.888699039850966,
          7.9677236750377745,
          7.973729075169267,
          8.074991301341328,
          8.091420974942487,
          8.097948923588127,
          8.229524038594604,
          8.257903069165895,
          8.26381604024391,
          8.500003346867313,
          8.303181952528327,
          8.304621942290513,
          8.32037850989904,
          8.324649432646059,
          8.357024851458128,
          8.366750874715478,
          8.366750874715478,
          8.368135524168174,
          8.391493729142141,
          8.4871398994105,
          8.601568544334537,
          8.463497145798904,
          8.508466308137574,
          8.582640919333873,
          8.715664940813284,
          8.589864347349785,
          8.594660933286669,
          8.599442380572775,
          8.69405227111315,
          8.654515457881917,
          8.657962864883029,
          8.69405227111315,
          8.703177211907587,
          8.999981511350796,
          9.031427462805919,
          9.01943013765365,
          8.77485217381917
         ]
        },
        {
         "marker": {
          "color": "lime"
         },
         "mode": "markers",
         "text": [
          "LA FABRIL S.A.",
          "CONSTRUCTORA E INMOBILIARIA CONSTRUECUADOR S.A.",
          "COMPAÑIA GENERAL DE COMERCIO Y MANDATO S.A.",
          "SUPERDEPORTE S.A.",
          "BANCO GENERAL RUMIÑAHUI S.A.",
          "MAQUINARIAS Y VEHICULOS S.A.  MAVESA",
          "EMPACADORA GRUPO GRANMAR S.A. EMPAGRAN",
          "SUPERDEPORTE S.A."
         ],
         "type": "scatter",
         "x": [
          371,
          849,
          950,
          1289,
          1317,
          1357,
          1670,
          1695
         ],
         "y": [
          6.685068601910604,
          8.500003593868666,
          8.999970179596861,
          9.499975393452509,
          8.601568544334537,
          8.999971521142491,
          9.101235972468436,
          9.749988846780955
         ]
        },
        {
         "marker": {
          "color": "red"
         },
         "mode": "markers",
         "text": [
          "LA FABRIL S.A.",
          "BANCO PICHINCHA C.A.",
          "FABRICA DE ENVASES S.A. FADESA",
          "TIENDAS INDUSTRIALES ASOCIADAS TIA S.A.",
          "AGROINDUSTRIAS DAJAHU S.A.",
          "DISTRIBUIDORA FARMACEUTICA ECUATORIANA DIFARE S.A.",
          "DISTRIBUIDORA FARMACEUTICA ECUATORIANA DIFARE S.A.",
          "DISTRIBUIDORA FARMACEUTICA ECUATORIANA DIFARE S.A.",
          "DISTRIBUIDORA FARMACEUTICA ECUATORIANA DIFARE S.A.",
          "INMOBILIARIA LAVIE S.A.",
          "DISTRIBUIDORA FARMACEUTICA ECUATORIANA DIFARE S.A.",
          "TIENDAS INDUSTRIALES ASOCIADAS TIA S.A.",
          "LA FABRIL S.A.",
          "TIENDAS INDUSTRIALES ASOCIADAS TIA S.A."
         ],
         "type": "scatter",
         "x": [
          1413,
          1670,
          1765,
          1925,
          2008,
          2061,
          2064,
          2070,
          2105,
          2127,
          2133,
          2160,
          2364,
          2693
         ],
         "y": [
          7.699887960419627,
          5.757303454796148,
          7.75003637186753,
          7.364419604736394,
          7.440880091394941,
          7.487477528650377,
          7.490065561454262,
          7.495226015700229,
          7.676383537654452,
          7.543233736837429,
          7.548182483800492,
          7.570211930665671,
          7.6756331806287825,
          6.961877461625132
         ]
        }
       ],
       "layout": {
        "showlegend": false,
        "template": {
         "data": {
          "bar": [
           {
            "error_x": {
             "color": "#2a3f5f"
            },
            "error_y": {
             "color": "#2a3f5f"
            },
            "marker": {
             "line": {
              "color": "#E5ECF6",
              "width": 0.5
             }
            },
            "type": "bar"
           }
          ],
          "barpolar": [
           {
            "marker": {
             "line": {
              "color": "#E5ECF6",
              "width": 0.5
             }
            },
            "type": "barpolar"
           }
          ],
          "carpet": [
           {
            "aaxis": {
             "endlinecolor": "#2a3f5f",
             "gridcolor": "white",
             "linecolor": "white",
             "minorgridcolor": "white",
             "startlinecolor": "#2a3f5f"
            },
            "baxis": {
             "endlinecolor": "#2a3f5f",
             "gridcolor": "white",
             "linecolor": "white",
             "minorgridcolor": "white",
             "startlinecolor": "#2a3f5f"
            },
            "type": "carpet"
           }
          ],
          "choropleth": [
           {
            "colorbar": {
             "outlinewidth": 0,
             "ticks": ""
            },
            "type": "choropleth"
           }
          ],
          "contour": [
           {
            "colorbar": {
             "outlinewidth": 0,
             "ticks": ""
            },
            "colorscale": [
             [
              0,
              "#0d0887"
             ],
             [
              0.1111111111111111,
              "#46039f"
             ],
             [
              0.2222222222222222,
              "#7201a8"
             ],
             [
              0.3333333333333333,
              "#9c179e"
             ],
             [
              0.4444444444444444,
              "#bd3786"
             ],
             [
              0.5555555555555556,
              "#d8576b"
             ],
             [
              0.6666666666666666,
              "#ed7953"
             ],
             [
              0.7777777777777778,
              "#fb9f3a"
             ],
             [
              0.8888888888888888,
              "#fdca26"
             ],
             [
              1,
              "#f0f921"
             ]
            ],
            "type": "contour"
           }
          ],
          "contourcarpet": [
           {
            "colorbar": {
             "outlinewidth": 0,
             "ticks": ""
            },
            "type": "contourcarpet"
           }
          ],
          "heatmap": [
           {
            "colorbar": {
             "outlinewidth": 0,
             "ticks": ""
            },
            "colorscale": [
             [
              0,
              "#0d0887"
             ],
             [
              0.1111111111111111,
              "#46039f"
             ],
             [
              0.2222222222222222,
              "#7201a8"
             ],
             [
              0.3333333333333333,
              "#9c179e"
             ],
             [
              0.4444444444444444,
              "#bd3786"
             ],
             [
              0.5555555555555556,
              "#d8576b"
             ],
             [
              0.6666666666666666,
              "#ed7953"
             ],
             [
              0.7777777777777778,
              "#fb9f3a"
             ],
             [
              0.8888888888888888,
              "#fdca26"
             ],
             [
              1,
              "#f0f921"
             ]
            ],
            "type": "heatmap"
           }
          ],
          "heatmapgl": [
           {
            "colorbar": {
             "outlinewidth": 0,
             "ticks": ""
            },
            "colorscale": [
             [
              0,
              "#0d0887"
             ],
             [
              0.1111111111111111,
              "#46039f"
             ],
             [
              0.2222222222222222,
              "#7201a8"
             ],
             [
              0.3333333333333333,
              "#9c179e"
             ],
             [
              0.4444444444444444,
              "#bd3786"
             ],
             [
              0.5555555555555556,
              "#d8576b"
             ],
             [
              0.6666666666666666,
              "#ed7953"
             ],
             [
              0.7777777777777778,
              "#fb9f3a"
             ],
             [
              0.8888888888888888,
              "#fdca26"
             ],
             [
              1,
              "#f0f921"
             ]
            ],
            "type": "heatmapgl"
           }
          ],
          "histogram": [
           {
            "marker": {
             "colorbar": {
              "outlinewidth": 0,
              "ticks": ""
             }
            },
            "type": "histogram"
           }
          ],
          "histogram2d": [
           {
            "colorbar": {
             "outlinewidth": 0,
             "ticks": ""
            },
            "colorscale": [
             [
              0,
              "#0d0887"
             ],
             [
              0.1111111111111111,
              "#46039f"
             ],
             [
              0.2222222222222222,
              "#7201a8"
             ],
             [
              0.3333333333333333,
              "#9c179e"
             ],
             [
              0.4444444444444444,
              "#bd3786"
             ],
             [
              0.5555555555555556,
              "#d8576b"
             ],
             [
              0.6666666666666666,
              "#ed7953"
             ],
             [
              0.7777777777777778,
              "#fb9f3a"
             ],
             [
              0.8888888888888888,
              "#fdca26"
             ],
             [
              1,
              "#f0f921"
             ]
            ],
            "type": "histogram2d"
           }
          ],
          "histogram2dcontour": [
           {
            "colorbar": {
             "outlinewidth": 0,
             "ticks": ""
            },
            "colorscale": [
             [
              0,
              "#0d0887"
             ],
             [
              0.1111111111111111,
              "#46039f"
             ],
             [
              0.2222222222222222,
              "#7201a8"
             ],
             [
              0.3333333333333333,
              "#9c179e"
             ],
             [
              0.4444444444444444,
              "#bd3786"
             ],
             [
              0.5555555555555556,
              "#d8576b"
             ],
             [
              0.6666666666666666,
              "#ed7953"
             ],
             [
              0.7777777777777778,
              "#fb9f3a"
             ],
             [
              0.8888888888888888,
              "#fdca26"
             ],
             [
              1,
              "#f0f921"
             ]
            ],
            "type": "histogram2dcontour"
           }
          ],
          "mesh3d": [
           {
            "colorbar": {
             "outlinewidth": 0,
             "ticks": ""
            },
            "type": "mesh3d"
           }
          ],
          "parcoords": [
           {
            "line": {
             "colorbar": {
              "outlinewidth": 0,
              "ticks": ""
             }
            },
            "type": "parcoords"
           }
          ],
          "pie": [
           {
            "automargin": true,
            "type": "pie"
           }
          ],
          "scatter": [
           {
            "marker": {
             "colorbar": {
              "outlinewidth": 0,
              "ticks": ""
             }
            },
            "type": "scatter"
           }
          ],
          "scatter3d": [
           {
            "line": {
             "colorbar": {
              "outlinewidth": 0,
              "ticks": ""
             }
            },
            "marker": {
             "colorbar": {
              "outlinewidth": 0,
              "ticks": ""
             }
            },
            "type": "scatter3d"
           }
          ],
          "scattercarpet": [
           {
            "marker": {
             "colorbar": {
              "outlinewidth": 0,
              "ticks": ""
             }
            },
            "type": "scattercarpet"
           }
          ],
          "scattergeo": [
           {
            "marker": {
             "colorbar": {
              "outlinewidth": 0,
              "ticks": ""
             }
            },
            "type": "scattergeo"
           }
          ],
          "scattergl": [
           {
            "marker": {
             "colorbar": {
              "outlinewidth": 0,
              "ticks": ""
             }
            },
            "type": "scattergl"
           }
          ],
          "scattermapbox": [
           {
            "marker": {
             "colorbar": {
              "outlinewidth": 0,
              "ticks": ""
             }
            },
            "type": "scattermapbox"
           }
          ],
          "scatterpolar": [
           {
            "marker": {
             "colorbar": {
              "outlinewidth": 0,
              "ticks": ""
             }
            },
            "type": "scatterpolar"
           }
          ],
          "scatterpolargl": [
           {
            "marker": {
             "colorbar": {
              "outlinewidth": 0,
              "ticks": ""
             }
            },
            "type": "scatterpolargl"
           }
          ],
          "scatterternary": [
           {
            "marker": {
             "colorbar": {
              "outlinewidth": 0,
              "ticks": ""
             }
            },
            "type": "scatterternary"
           }
          ],
          "surface": [
           {
            "colorbar": {
             "outlinewidth": 0,
             "ticks": ""
            },
            "colorscale": [
             [
              0,
              "#0d0887"
             ],
             [
              0.1111111111111111,
              "#46039f"
             ],
             [
              0.2222222222222222,
              "#7201a8"
             ],
             [
              0.3333333333333333,
              "#9c179e"
             ],
             [
              0.4444444444444444,
              "#bd3786"
             ],
             [
              0.5555555555555556,
              "#d8576b"
             ],
             [
              0.6666666666666666,
              "#ed7953"
             ],
             [
              0.7777777777777778,
              "#fb9f3a"
             ],
             [
              0.8888888888888888,
              "#fdca26"
             ],
             [
              1,
              "#f0f921"
             ]
            ],
            "type": "surface"
           }
          ],
          "table": [
           {
            "cells": {
             "fill": {
              "color": "#EBF0F8"
             },
             "line": {
              "color": "white"
             }
            },
            "header": {
             "fill": {
              "color": "#C8D4E3"
             },
             "line": {
              "color": "white"
             }
            },
            "type": "table"
           }
          ]
         },
         "layout": {
          "annotationdefaults": {
           "arrowcolor": "#2a3f5f",
           "arrowhead": 0,
           "arrowwidth": 1
          },
          "coloraxis": {
           "colorbar": {
            "outlinewidth": 0,
            "ticks": ""
           }
          },
          "colorscale": {
           "diverging": [
            [
             0,
             "#8e0152"
            ],
            [
             0.1,
             "#c51b7d"
            ],
            [
             0.2,
             "#de77ae"
            ],
            [
             0.3,
             "#f1b6da"
            ],
            [
             0.4,
             "#fde0ef"
            ],
            [
             0.5,
             "#f7f7f7"
            ],
            [
             0.6,
             "#e6f5d0"
            ],
            [
             0.7,
             "#b8e186"
            ],
            [
             0.8,
             "#7fbc41"
            ],
            [
             0.9,
             "#4d9221"
            ],
            [
             1,
             "#276419"
            ]
           ],
           "sequential": [
            [
             0,
             "#0d0887"
            ],
            [
             0.1111111111111111,
             "#46039f"
            ],
            [
             0.2222222222222222,
             "#7201a8"
            ],
            [
             0.3333333333333333,
             "#9c179e"
            ],
            [
             0.4444444444444444,
             "#bd3786"
            ],
            [
             0.5555555555555556,
             "#d8576b"
            ],
            [
             0.6666666666666666,
             "#ed7953"
            ],
            [
             0.7777777777777778,
             "#fb9f3a"
            ],
            [
             0.8888888888888888,
             "#fdca26"
            ],
            [
             1,
             "#f0f921"
            ]
           ],
           "sequentialminus": [
            [
             0,
             "#0d0887"
            ],
            [
             0.1111111111111111,
             "#46039f"
            ],
            [
             0.2222222222222222,
             "#7201a8"
            ],
            [
             0.3333333333333333,
             "#9c179e"
            ],
            [
             0.4444444444444444,
             "#bd3786"
            ],
            [
             0.5555555555555556,
             "#d8576b"
            ],
            [
             0.6666666666666666,
             "#ed7953"
            ],
            [
             0.7777777777777778,
             "#fb9f3a"
            ],
            [
             0.8888888888888888,
             "#fdca26"
            ],
            [
             1,
             "#f0f921"
            ]
           ]
          },
          "colorway": [
           "#636efa",
           "#EF553B",
           "#00cc96",
           "#ab63fa",
           "#FFA15A",
           "#19d3f3",
           "#FF6692",
           "#B6E880",
           "#FF97FF",
           "#FECB52"
          ],
          "font": {
           "color": "#2a3f5f"
          },
          "geo": {
           "bgcolor": "white",
           "lakecolor": "white",
           "landcolor": "#E5ECF6",
           "showlakes": true,
           "showland": true,
           "subunitcolor": "white"
          },
          "hoverlabel": {
           "align": "left"
          },
          "hovermode": "closest",
          "mapbox": {
           "style": "light"
          },
          "paper_bgcolor": "white",
          "plot_bgcolor": "#E5ECF6",
          "polar": {
           "angularaxis": {
            "gridcolor": "white",
            "linecolor": "white",
            "ticks": ""
           },
           "bgcolor": "#E5ECF6",
           "radialaxis": {
            "gridcolor": "white",
            "linecolor": "white",
            "ticks": ""
           }
          },
          "scene": {
           "xaxis": {
            "backgroundcolor": "#E5ECF6",
            "gridcolor": "white",
            "gridwidth": 2,
            "linecolor": "white",
            "showbackground": true,
            "ticks": "",
            "zerolinecolor": "white"
           },
           "yaxis": {
            "backgroundcolor": "#E5ECF6",
            "gridcolor": "white",
            "gridwidth": 2,
            "linecolor": "white",
            "showbackground": true,
            "ticks": "",
            "zerolinecolor": "white"
           },
           "zaxis": {
            "backgroundcolor": "#E5ECF6",
            "gridcolor": "white",
            "gridwidth": 2,
            "linecolor": "white",
            "showbackground": true,
            "ticks": "",
            "zerolinecolor": "white"
           }
          },
          "shapedefaults": {
           "line": {
            "color": "#2a3f5f"
           }
          },
          "ternary": {
           "aaxis": {
            "gridcolor": "white",
            "linecolor": "white",
            "ticks": ""
           },
           "baxis": {
            "gridcolor": "white",
            "linecolor": "white",
            "ticks": ""
           },
           "bgcolor": "#E5ECF6",
           "caxis": {
            "gridcolor": "white",
            "linecolor": "white",
            "ticks": ""
           }
          },
          "title": {
           "x": 0.05
          },
          "xaxis": {
           "automargin": true,
           "gridcolor": "white",
           "linecolor": "white",
           "ticks": "",
           "title": {
            "standoff": 15
           },
           "zerolinecolor": "white",
           "zerolinewidth": 2
          },
          "yaxis": {
           "automargin": true,
           "gridcolor": "white",
           "linecolor": "white",
           "ticks": "",
           "title": {
            "standoff": 15
           },
           "zerolinecolor": "white",
           "zerolinewidth": 2
          }
         }
        },
        "title": {
         "text": "Análisis Gráfico de las Emisiones de Primera Categoría"
        },
        "updatemenus": [
         {
          "buttons": [
           {
            "args": [
             "shapes",
             []
            ],
            "label": "Ninguno",
            "method": "relayout"
           },
           {
            "args": [
             "shapes",
             [
              {
               "line": {
                "color": "lightgray"
               },
               "type": "square",
               "x0": 397,
               "x1": 697,
               "xref": "x",
               "y0": 6.29020042756725,
               "y1": 7.579594413461255,
               "yref": "y"
              }
             ]
            ],
            "label": "Grupo 1",
            "method": "relayout"
           },
           {
            "args": [
             "shapes",
             [
              {
               "line": {
                "color": "lightslategrey"
               },
               "type": "square",
               "x0": 731,
               "x1": 1084,
               "xref": "x",
               "y0": 7.366680085865429,
               "y1": 8.250035795761956,
               "yref": "y"
              }
             ]
            ],
            "label": "Grupo 2",
            "method": "relayout"
           },
           {
            "args": [
             "shapes",
             [
              {
               "line": {
                "color": "darkslategrey"
               },
               "type": "square",
               "x0": 1100,
               "x1": 1776,
               "xref": "x",
               "y0": 7.8155861338659705,
               "y1": 9.031427462805919,
               "yref": "y"
              }
             ]
            ],
            "label": "Grupo 3",
            "method": "relayout"
           },
           {
            "args": [
             "shapes",
             [
              {
               "line": {
                "color": "lime"
               },
               "type": "square",
               "x0": 341,
               "x1": 401,
               "xref": "x",
               "y0": 6.585068601910605,
               "y1": 6.785068601910604,
               "yref": "y"
              },
              {
               "line": {
                "color": "lime"
               },
               "type": "square",
               "x0": 819,
               "x1": 879,
               "xref": "x",
               "y0": 8.400003593868666,
               "y1": 8.600003593868665,
               "yref": "y"
              },
              {
               "line": {
                "color": "lime"
               },
               "type": "square",
               "x0": 920,
               "x1": 980,
               "xref": "x",
               "y0": 8.899970179596862,
               "y1": 9.09997017959686,
               "yref": "y"
              },
              {
               "line": {
                "color": "lime"
               },
               "type": "square",
               "x0": 1259,
               "x1": 1319,
               "xref": "x",
               "y0": 9.39997539345251,
               "y1": 9.599975393452508,
               "yref": "y"
              },
              {
               "line": {
                "color": "lime"
               },
               "type": "square",
               "x0": 1287,
               "x1": 1347,
               "xref": "x",
               "y0": 8.501568544334537,
               "y1": 8.701568544334537,
               "yref": "y"
              },
              {
               "line": {
                "color": "lime"
               },
               "type": "square",
               "x0": 1327,
               "x1": 1387,
               "xref": "x",
               "y0": 8.899971521142492,
               "y1": 9.099971521142491,
               "yref": "y"
              },
              {
               "line": {
                "color": "lime"
               },
               "type": "square",
               "x0": 1640,
               "x1": 1700,
               "xref": "x",
               "y0": 9.001235972468436,
               "y1": 9.201235972468435,
               "yref": "y"
              },
              {
               "line": {
                "color": "lime"
               },
               "type": "square",
               "x0": 1665,
               "x1": 1725,
               "xref": "x",
               "y0": 9.649988846780955,
               "y1": 9.849988846780954,
               "yref": "y"
              }
             ]
            ],
            "label": "Subvaloradas",
            "method": "relayout"
           },
           {
            "args": [
             "shapes",
             [
              {
               "line": {
                "color": "red"
               },
               "type": "square",
               "x0": 1383,
               "x1": 1443,
               "xref": "x",
               "y0": 7.599887960419627,
               "y1": 7.7998879604196265,
               "yref": "y"
              },
              {
               "line": {
                "color": "red"
               },
               "type": "square",
               "x0": 1640,
               "x1": 1700,
               "xref": "x",
               "y0": 5.657303454796148,
               "y1": 5.857303454796147,
               "yref": "y"
              },
              {
               "line": {
                "color": "red"
               },
               "type": "square",
               "x0": 1735,
               "x1": 1795,
               "xref": "x",
               "y0": 7.650036371867531,
               "y1": 7.85003637186753,
               "yref": "y"
              },
              {
               "line": {
                "color": "red"
               },
               "type": "square",
               "x0": 1895,
               "x1": 1955,
               "xref": "x",
               "y0": 7.2644196047363945,
               "y1": 7.464419604736394,
               "yref": "y"
              },
              {
               "line": {
                "color": "red"
               },
               "type": "square",
               "x0": 1978,
               "x1": 2038,
               "xref": "x",
               "y0": 7.340880091394942,
               "y1": 7.540880091394941,
               "yref": "y"
              },
              {
               "line": {
                "color": "red"
               },
               "type": "square",
               "x0": 2031,
               "x1": 2091,
               "xref": "x",
               "y0": 7.387477528650377,
               "y1": 7.587477528650377,
               "yref": "y"
              },
              {
               "line": {
                "color": "red"
               },
               "type": "square",
               "x0": 2034,
               "x1": 2094,
               "xref": "x",
               "y0": 7.3900655614542625,
               "y1": 7.590065561454262,
               "yref": "y"
              },
              {
               "line": {
                "color": "red"
               },
               "type": "square",
               "x0": 2040,
               "x1": 2100,
               "xref": "x",
               "y0": 7.39522601570023,
               "y1": 7.595226015700229,
               "yref": "y"
              },
              {
               "line": {
                "color": "red"
               },
               "type": "square",
               "x0": 2075,
               "x1": 2135,
               "xref": "x",
               "y0": 7.576383537654452,
               "y1": 7.776383537654452,
               "yref": "y"
              },
              {
               "line": {
                "color": "red"
               },
               "type": "square",
               "x0": 2097,
               "x1": 2157,
               "xref": "x",
               "y0": 7.4432337368374295,
               "y1": 7.643233736837429,
               "yref": "y"
              },
              {
               "line": {
                "color": "red"
               },
               "type": "square",
               "x0": 2103,
               "x1": 2163,
               "xref": "x",
               "y0": 7.448182483800492,
               "y1": 7.6481824838004915,
               "yref": "y"
              },
              {
               "line": {
                "color": "red"
               },
               "type": "square",
               "x0": 2130,
               "x1": 2190,
               "xref": "x",
               "y0": 7.470211930665672,
               "y1": 7.670211930665671,
               "yref": "y"
              },
              {
               "line": {
                "color": "red"
               },
               "type": "square",
               "x0": 2334,
               "x1": 2394,
               "xref": "x",
               "y0": 7.575633180628783,
               "y1": 7.775633180628782,
               "yref": "y"
              },
              {
               "line": {
                "color": "red"
               },
               "type": "square",
               "x0": 2663,
               "x1": 2723,
               "xref": "x",
               "y0": 6.861877461625133,
               "y1": 7.061877461625132,
               "yref": "y"
              }
             ]
            ],
            "label": "Sobrevaloradas",
            "method": "relayout"
           },
           {
            "args": [
             "shapes",
             [
              {
               "line": {
                "color": "lightgray"
               },
               "type": "square",
               "x0": 397,
               "x1": 697,
               "xref": "x",
               "y0": 6.29020042756725,
               "y1": 7.579594413461255,
               "yref": "y"
              },
              {
               "line": {
                "color": "lightslategrey"
               },
               "type": "square",
               "x0": 731,
               "x1": 1084,
               "xref": "x",
               "y0": 7.366680085865429,
               "y1": 8.250035795761956,
               "yref": "y"
              },
              {
               "line": {
                "color": "darkslategrey"
               },
               "type": "square",
               "x0": 1100,
               "x1": 1776,
               "xref": "x",
               "y0": 7.8155861338659705,
               "y1": 9.031427462805919,
               "yref": "y"
              },
              {
               "line": {
                "color": "lime"
               },
               "type": "square",
               "x0": 341,
               "x1": 401,
               "xref": "x",
               "y0": 6.585068601910605,
               "y1": 6.785068601910604,
               "yref": "y"
              },
              {
               "line": {
                "color": "lime"
               },
               "type": "square",
               "x0": 819,
               "x1": 879,
               "xref": "x",
               "y0": 8.400003593868666,
               "y1": 8.600003593868665,
               "yref": "y"
              },
              {
               "line": {
                "color": "lime"
               },
               "type": "square",
               "x0": 920,
               "x1": 980,
               "xref": "x",
               "y0": 8.899970179596862,
               "y1": 9.09997017959686,
               "yref": "y"
              },
              {
               "line": {
                "color": "lime"
               },
               "type": "square",
               "x0": 1259,
               "x1": 1319,
               "xref": "x",
               "y0": 9.39997539345251,
               "y1": 9.599975393452508,
               "yref": "y"
              },
              {
               "line": {
                "color": "lime"
               },
               "type": "square",
               "x0": 1287,
               "x1": 1347,
               "xref": "x",
               "y0": 8.501568544334537,
               "y1": 8.701568544334537,
               "yref": "y"
              },
              {
               "line": {
                "color": "lime"
               },
               "type": "square",
               "x0": 1327,
               "x1": 1387,
               "xref": "x",
               "y0": 8.899971521142492,
               "y1": 9.099971521142491,
               "yref": "y"
              },
              {
               "line": {
                "color": "lime"
               },
               "type": "square",
               "x0": 1640,
               "x1": 1700,
               "xref": "x",
               "y0": 9.001235972468436,
               "y1": 9.201235972468435,
               "yref": "y"
              },
              {
               "line": {
                "color": "lime"
               },
               "type": "square",
               "x0": 1665,
               "x1": 1725,
               "xref": "x",
               "y0": 9.649988846780955,
               "y1": 9.849988846780954,
               "yref": "y"
              },
              {
               "line": {
                "color": "red"
               },
               "type": "square",
               "x0": 1383,
               "x1": 1443,
               "xref": "x",
               "y0": 7.599887960419627,
               "y1": 7.7998879604196265,
               "yref": "y"
              },
              {
               "line": {
                "color": "red"
               },
               "type": "square",
               "x0": 1640,
               "x1": 1700,
               "xref": "x",
               "y0": 5.657303454796148,
               "y1": 5.857303454796147,
               "yref": "y"
              },
              {
               "line": {
                "color": "red"
               },
               "type": "square",
               "x0": 1735,
               "x1": 1795,
               "xref": "x",
               "y0": 7.650036371867531,
               "y1": 7.85003637186753,
               "yref": "y"
              },
              {
               "line": {
                "color": "red"
               },
               "type": "square",
               "x0": 1895,
               "x1": 1955,
               "xref": "x",
               "y0": 7.2644196047363945,
               "y1": 7.464419604736394,
               "yref": "y"
              },
              {
               "line": {
                "color": "red"
               },
               "type": "square",
               "x0": 1978,
               "x1": 2038,
               "xref": "x",
               "y0": 7.340880091394942,
               "y1": 7.540880091394941,
               "yref": "y"
              },
              {
               "line": {
                "color": "red"
               },
               "type": "square",
               "x0": 2031,
               "x1": 2091,
               "xref": "x",
               "y0": 7.387477528650377,
               "y1": 7.587477528650377,
               "yref": "y"
              },
              {
               "line": {
                "color": "red"
               },
               "type": "square",
               "x0": 2034,
               "x1": 2094,
               "xref": "x",
               "y0": 7.3900655614542625,
               "y1": 7.590065561454262,
               "yref": "y"
              },
              {
               "line": {
                "color": "red"
               },
               "type": "square",
               "x0": 2040,
               "x1": 2100,
               "xref": "x",
               "y0": 7.39522601570023,
               "y1": 7.595226015700229,
               "yref": "y"
              },
              {
               "line": {
                "color": "red"
               },
               "type": "square",
               "x0": 2075,
               "x1": 2135,
               "xref": "x",
               "y0": 7.576383537654452,
               "y1": 7.776383537654452,
               "yref": "y"
              },
              {
               "line": {
                "color": "red"
               },
               "type": "square",
               "x0": 2097,
               "x1": 2157,
               "xref": "x",
               "y0": 7.4432337368374295,
               "y1": 7.643233736837429,
               "yref": "y"
              },
              {
               "line": {
                "color": "red"
               },
               "type": "square",
               "x0": 2103,
               "x1": 2163,
               "xref": "x",
               "y0": 7.448182483800492,
               "y1": 7.6481824838004915,
               "yref": "y"
              },
              {
               "line": {
                "color": "red"
               },
               "type": "square",
               "x0": 2130,
               "x1": 2190,
               "xref": "x",
               "y0": 7.470211930665672,
               "y1": 7.670211930665671,
               "yref": "y"
              },
              {
               "line": {
                "color": "red"
               },
               "type": "square",
               "x0": 2334,
               "x1": 2394,
               "xref": "x",
               "y0": 7.575633180628783,
               "y1": 7.775633180628782,
               "yref": "y"
              },
              {
               "line": {
                "color": "red"
               },
               "type": "square",
               "x0": 2663,
               "x1": 2723,
               "xref": "x",
               "y0": 6.861877461625133,
               "y1": 7.061877461625132,
               "yref": "y"
              }
             ]
            ],
            "label": "Todos",
            "method": "relayout"
           }
          ],
          "type": "buttons"
         }
        ]
       }
      },
      "text/html": [
       "<div>\n",
       "        \n",
       "        \n",
       "            <div id=\"5a21f6b4-0915-4054-9dff-ee797a1eda1d\" class=\"plotly-graph-div\" style=\"height:525px; width:100%;\"></div>\n",
       "            <script type=\"text/javascript\">\n",
       "                require([\"plotly\"], function(Plotly) {\n",
       "                    window.PLOTLYENV=window.PLOTLYENV || {};\n",
       "                    \n",
       "                if (document.getElementById(\"5a21f6b4-0915-4054-9dff-ee797a1eda1d\")) {\n",
       "                    Plotly.newPlot(\n",
       "                        '5a21f6b4-0915-4054-9dff-ee797a1eda1d',\n",
       "                        [{\"marker\": {\"color\": \"lightgray\"}, \"mode\": \"markers\", \"text\": [\"CORPORACION JCEVCORP CIA. LTDA\", \"RYC S.A.\", \"MUNDO DEPORTIVO MEDEPORT S.A.\", \"CEPSA S.A.\", \"MEGAPROFER S.A.\", \"TOYOTA DEL ECUADOR S.A.\", \"INMOBILIARIA LAVIE S.A.\", \"FISA FUNDICIONES INDUSTRIALES S.A.\", \"FIRMESA INDUSTRIAL CIA. LTDA.\", \"DIPAC MANTA S.A.\", \"AGRIPAC S.A.\", \"PLASTICOS RIVAL CIA. LTDA.\", \"MAREAUTO S.A.\", \"MAREAUTO S.A.\", \"CORPORACION JARRIN HERRERA CIA. LTDA.\", \"MAREAUTO S.A.\", \"SOUTH ECUAMERIDIAN S.A.\", \"SOCIEDAD INDUSTRIAL GANADERA ELORDE\\u00d1O S.A.\", \"HUMANITAS S.A.\", \"CORPORACION JARRIN HERRERA CIA. LTDA.\", \"SURPAPELCORP S.A.\", \"CORPORACION EL ROSADO S.A.\", \"LA FABRIL S.A.\", \"PRODUCTORA CARTONERA S.A.\", \"RIPCONCIV CONSTRUCCIONES CIVILES CIA. LTDA.\", \"COMPANIA AZUCARERA VALDEZ S.A.\", \"COMPA\\u00d1IA PETROLEOS DE LOS RIOS PETROLRIOS C.A.\", \"TIENDAS INDUSTRIALES ASOCIADAS TIA S.A.\", \"DOLTREX S.A.\", \"UNIVERSAL SWEET INDUSTRIES S.A.\"], \"type\": \"scatter\", \"x\": [397.0, 405.0, 408.0, 412.0, 419.0, 430.0, 437.0, 472.0, 480.0, 480.0, 490.0, 494.0, 499.0, 502.0, 506.0, 509.0, 532.0, 533.0, 541.0, 548.0, 552.0, 597.0, 618.0, 651.0, 657.0, 670.0, 673.0, 680.0, 692.0, 697.0], \"y\": [6.29020042756725, 6.33671834664824, 6.353913751226781, 6.376634976721363, 6.467297140776562, 6.476081347364726, 6.51357314686809, 6.691965023336799, 6.7307680610787735, 6.7307680610787735, 6.778315114928457, 6.7970451526199405, 6.820231545943667, 6.834024689985796, 6.852279265421313, 6.86586932338944, 6.967296281116209, 7.032352995220181, 7.0057120892919045, 7.035119635321152, 7.051743231221419, 7.230279169190723, 7.308676076313514, 7.426201035569235, 7.4468704523313, 7.561098070627503, 7.500995535792487, 7.524233880758047, 7.563467163254867, 7.579594413461255]}, {\"marker\": {\"color\": \"lightslategrey\"}, \"mode\": \"markers\", \"text\": [\"LA FABRIL S.A.\", \"SERTECPET S.A.\", \"SUPERDEPORTE S.A.\", \"SERTECPET S.A.\", \"INDUSTRIA LOJANA DE ESPECERIAS ILE C.A.\", \"RYC S.A.\", \"EDESA S.A.\", \"SUMESA S.A\", \"MAREAUTO S.A.\", \"EMPRESA DURINI INDUSTRIA DE MADERA C.A. EDIMCA\", \"EDESA S.A.\", \"INMOBILIARIA LAVIE S.A.\", \"SOUTH ECUAMERIDIAN S.A.\", \"EDESA S.A.\", \"SOCIEDAD INDUSTRIAL GANADERA ELORDE\\u00d1O S.A.\", \"CORPORACION JARRIN HERRERA CIA. LTDA.\", \"DIPAC MANTA S.A.\", \"PREDUCA S.A.\", \"PLASTICOS RIVAL CIA. LTDA.\", \"IMPORTADORA VEGA S.A.\", \"MEGAPRODUCTOS S.A.\", \"SURPAPELCORP S.A.\", \"CORPORACION JARRIN HERRERA CIA. LTDA.\", \"DISTRIBUIDORA DE LIBROS Y PAPELERIA DILIPA CIA. LTDA.\", \"FIRMESA INDUSTRIAL CIA. LTDA.\", \"SUPERDEPORTE S.A.\", \"CORPORACION EL ROSADO S.A.\", \"LA FABRIL S.A.\", \"CONSTRUCTORA COVIGON C.A.\", \"PRODUCTORA CARTONERA S.A.\", \"MINUTOCORP S.A.\", \"DISTRIBUIDORA DE LIBROS Y PAPELERIA DILIPA CIA. LTDA.\", \"ROMERO & PAZMI\\u00d1O INGENIER\\u00cdA INMOBILIARIA S.A.\", \"ELECTROCABLES C.A.\", \"DOLTREX S.A.\", \"LA FABRIL S.A.\", \"ADITIVOS Y ALIMENTOS S.A. ADILISA\", \"REYLACTEOS C.L.\", \"ADITIVOS Y ALIMENTOS S.A. ADILISA\", \"TUBERIAS PACIFICO S.A. TUPASA\", \"COMPA\\u00d1IA PETROLEOS DE LOS RIOS PETROLRIOS C.A.\", \"INDUSTRIAS DACAR CIA LTDA\", \"PROMOTORES INMOBILIARIOS PRONOBIS S.A.\"], \"type\": \"scatter\", \"x\": [731.0, 734.0, 750.0, 750.0, 758.0, 765.0, 770.0, 775.0, 777.0, 778.0, 778.0, 797.0, 835.0, 856.0, 857.0, 865.0, 881.0, 882.0, 889.0, 893.0, 895.0, 899.0, 900.0, 916.0, 922.0, 934.0, 957.0, 978.0, 984.0, 1011.0, 1018.0, 1024.0, 1033.0, 1034.0, 1052.0, 1053.0, 1055.0, 1072.0, 1078.0, 1079.0, 1079.0, 1079.0, 1084.0], \"y\": [7.366680085865429, 7.375797561087261, 7.423737953771781, 7.423737953771781, 7.447285122167102, 7.467663817084347, 7.482093640884457, 7.496419682795263, 7.50212133951722, 7.504966047175188, 7.458512166151454, 7.558254516054053, 7.660697245515902, 7.715090951479198, 7.79209609646081, 7.737944430375077, 7.777917901141951, 7.78038895579245, 7.797598069260214, 7.807363114936017, 7.812227073564415, 7.821918137334194, 7.82433326519385, 7.86256616033727, 7.87670824421669, 7.904680682044152, 7.957166112868563, 8.003842176421028, 8.016967267556385, 7.9999849228418185, 8.089643339749752, 8.250035795761956, 8.120820675384532, 8.122880508111674, 8.159567330905304, 8.161584086247853, 8.165610928141742, 8.199484550873315, 8.21129081859766, 8.21325107746933, 8.21325107746933, 8.21325107746933, 8.223020668244008]}, {\"marker\": {\"color\": \"darkslategrey\"}, \"mode\": \"markers\", \"text\": [\"BASESURCORP S.A.\", \"SUPERDEPORTE S.A.\", \"CEPSA S.A.\", \"SUMESA S.A\", \"CORPORACION JCEVCORP CIA. LTDA\", \"MAREAUTO S.A.\", \"SUMESA S.A\", \"COMPA\\u00d1IA GENERAL DE COMERCIO Y MANDATO S.A.\", \"PROMOTORES INMOBILIARIOS PRONOBIS S.A.\", \"EDESA S.A.\", \"FUNDAMETZ S.A.\", \"CORPORACION EL ROSADO S.A.\", \"CONSTRUCTORA COVIGON C.A.\", \"COMPA\\u00d1IA PETROLEOS DE LOS RIOS PETROLRIOS C.A.\", \"INVESTEAM S.A.\", \"PRODUCTORA CARTONERA S.A.\", \"ELECTROCABLES C.A.\", \"PROMOTORES INMOBILIARIOS PRONOBIS S.A.\", \"DISTRIBUIDORA FARMACEUTICA ECUATORIANA DIFARE S.A.\", \"ADITIVOS Y ALIMENTOS S.A. ADILISA\", \"REYLACTEOS C.L.\", \"TUBERIAS PACIFICO S.A. TUPASA\", \"INDUSTRIAS DACAR CIA LTDA\", \"TIENDAS INDUSTRIALES ASOCIADAS TIA S.A.\", \"RIPCONCIV CONSTRUCCIONES CIVILES CIA. LTDA.\", \"COMPANIA AZUCARERA VALDEZ S.A.\", \"BANCO GENERAL RUMI\\u00d1AHUI S.A.\", \"ELECTROCABLES C.A.\", \"PLASTICSACKS C\\u00cdA. LTDA.\", \"EDESA S.A.\", \"CAJA CENTRAL FINANCOOP\", \"CORPORACION JARRIN HERRERA CIA. LTDA.\", \"FUNDAMETZ S.A.\", \"UNIVERSAL SWEET INDUSTRIES S.A.\", \"BANCO GUAYAQUIL S.A.\", \"AGROINDUSTRIAS DAJAHU S.A.\", \"INVESTEAM S.A.\", \"BANCO BOLIVARIANO C.A.\", \"EXTRACTORA AGRICOLA RIO MANSO EXA S.A.\", \"PRODUCTORA CARTONERA S.A.\", \"ALPHA FACTORING DEL ECUADOR ALLFACTOR S.A.\", \"PROMOTORES INMOBILIARIOS PRONOBIS S.A.\", \"DISTRIBUIDORA FARMACEUTICA ECUATORIANA DIFARE S.A.\"], \"type\": \"scatter\", \"x\": [1100.0, 1110.0, 1132.0, 1135.0, 1137.0, 1137.0, 1139.0, 1183.0, 1184.0, 1246.0, 1256.0, 1260.0, 1344.0, 1363.0, 1367.0, 1378.0, 1394.0, 1395.0, 1406.0, 1409.0, 1432.0, 1439.0, 1439.0, 1440.0, 1457.0, 1470.0, 1503.0, 1511.0, 1546.0, 1606.0, 1607.0, 1612.0, 1616.0, 1620.0, 1642.0, 1667.0, 1670.0, 1695.0, 1710.0, 1731.0, 1743.0, 1751.0, 1776.0], \"y\": [7.8155861338659705, 7.834619853726021, 7.875794884090315, 7.881336710577536, 7.885021688707905, 7.885021688707905, 7.888699039850966, 7.9677236750377745, 7.973729075169267, 8.074991301341328, 8.091420974942487, 8.097948923588127, 8.229524038594604, 8.257903069165895, 8.26381604024391, 8.500003346867313, 8.303181952528327, 8.304621942290513, 8.32037850989904, 8.324649432646059, 8.357024851458128, 8.366750874715478, 8.366750874715478, 8.368135524168174, 8.391493729142141, 8.4871398994105, 8.601568544334537, 8.463497145798904, 8.508466308137574, 8.582640919333873, 8.715664940813284, 8.589864347349785, 8.594660933286669, 8.599442380572775, 8.69405227111315, 8.654515457881917, 8.657962864883029, 8.69405227111315, 8.703177211907587, 8.999981511350796, 9.031427462805919, 9.01943013765365, 8.77485217381917]}, {\"marker\": {\"color\": \"lime\"}, \"mode\": \"markers\", \"text\": [\"LA FABRIL S.A.\", \"CONSTRUCTORA E INMOBILIARIA CONSTRUECUADOR S.A.\", \"COMPA\\u00d1IA GENERAL DE COMERCIO Y MANDATO S.A.\", \"SUPERDEPORTE S.A.\", \"BANCO GENERAL RUMI\\u00d1AHUI S.A.\", \"MAQUINARIAS Y VEHICULOS S.A.  MAVESA\", \"EMPACADORA GRUPO GRANMAR S.A. EMPAGRAN\", \"SUPERDEPORTE S.A.\"], \"type\": \"scatter\", \"x\": [371.0, 849.0, 950.0, 1289.0, 1317.0, 1357.0, 1670.0, 1695.0], \"y\": [6.685068601910604, 8.500003593868666, 8.999970179596861, 9.499975393452509, 8.601568544334537, 8.999971521142491, 9.101235972468436, 9.749988846780955]}, {\"marker\": {\"color\": \"red\"}, \"mode\": \"markers\", \"text\": [\"LA FABRIL S.A.\", \"BANCO PICHINCHA C.A.\", \"FABRICA DE ENVASES S.A. FADESA\", \"TIENDAS INDUSTRIALES ASOCIADAS TIA S.A.\", \"AGROINDUSTRIAS DAJAHU S.A.\", \"DISTRIBUIDORA FARMACEUTICA ECUATORIANA DIFARE S.A.\", \"DISTRIBUIDORA FARMACEUTICA ECUATORIANA DIFARE S.A.\", \"DISTRIBUIDORA FARMACEUTICA ECUATORIANA DIFARE S.A.\", \"DISTRIBUIDORA FARMACEUTICA ECUATORIANA DIFARE S.A.\", \"INMOBILIARIA LAVIE S.A.\", \"DISTRIBUIDORA FARMACEUTICA ECUATORIANA DIFARE S.A.\", \"TIENDAS INDUSTRIALES ASOCIADAS TIA S.A.\", \"LA FABRIL S.A.\", \"TIENDAS INDUSTRIALES ASOCIADAS TIA S.A.\"], \"type\": \"scatter\", \"x\": [1413.0, 1670.0, 1765.0, 1925.0, 2008.0, 2061.0, 2064.0, 2070.0, 2105.0, 2127.0, 2133.0, 2160.0, 2364.0, 2693.0], \"y\": [7.699887960419627, 5.757303454796148, 7.75003637186753, 7.364419604736394, 7.440880091394941, 7.487477528650377, 7.490065561454262, 7.495226015700229, 7.676383537654452, 7.543233736837429, 7.548182483800492, 7.570211930665671, 7.6756331806287825, 6.961877461625132]}],\n",
       "                        {\"showlegend\": false, \"template\": {\"data\": {\"bar\": [{\"error_x\": {\"color\": \"#2a3f5f\"}, \"error_y\": {\"color\": \"#2a3f5f\"}, \"marker\": {\"line\": {\"color\": \"#E5ECF6\", \"width\": 0.5}}, \"type\": \"bar\"}], \"barpolar\": [{\"marker\": {\"line\": {\"color\": \"#E5ECF6\", \"width\": 0.5}}, \"type\": \"barpolar\"}], \"carpet\": [{\"aaxis\": {\"endlinecolor\": \"#2a3f5f\", \"gridcolor\": \"white\", \"linecolor\": \"white\", \"minorgridcolor\": \"white\", \"startlinecolor\": \"#2a3f5f\"}, \"baxis\": {\"endlinecolor\": \"#2a3f5f\", \"gridcolor\": \"white\", \"linecolor\": \"white\", \"minorgridcolor\": \"white\", \"startlinecolor\": \"#2a3f5f\"}, \"type\": \"carpet\"}], \"choropleth\": [{\"colorbar\": {\"outlinewidth\": 0, \"ticks\": \"\"}, \"type\": \"choropleth\"}], \"contour\": [{\"colorbar\": {\"outlinewidth\": 0, \"ticks\": \"\"}, \"colorscale\": [[0.0, \"#0d0887\"], [0.1111111111111111, \"#46039f\"], [0.2222222222222222, \"#7201a8\"], [0.3333333333333333, \"#9c179e\"], [0.4444444444444444, \"#bd3786\"], [0.5555555555555556, \"#d8576b\"], [0.6666666666666666, \"#ed7953\"], [0.7777777777777778, \"#fb9f3a\"], [0.8888888888888888, \"#fdca26\"], [1.0, \"#f0f921\"]], \"type\": \"contour\"}], \"contourcarpet\": [{\"colorbar\": {\"outlinewidth\": 0, \"ticks\": \"\"}, \"type\": \"contourcarpet\"}], \"heatmap\": [{\"colorbar\": {\"outlinewidth\": 0, \"ticks\": \"\"}, \"colorscale\": [[0.0, \"#0d0887\"], [0.1111111111111111, \"#46039f\"], [0.2222222222222222, \"#7201a8\"], [0.3333333333333333, \"#9c179e\"], [0.4444444444444444, \"#bd3786\"], [0.5555555555555556, \"#d8576b\"], [0.6666666666666666, \"#ed7953\"], [0.7777777777777778, \"#fb9f3a\"], [0.8888888888888888, \"#fdca26\"], [1.0, \"#f0f921\"]], \"type\": \"heatmap\"}], \"heatmapgl\": [{\"colorbar\": {\"outlinewidth\": 0, \"ticks\": \"\"}, \"colorscale\": [[0.0, \"#0d0887\"], [0.1111111111111111, \"#46039f\"], [0.2222222222222222, \"#7201a8\"], [0.3333333333333333, \"#9c179e\"], [0.4444444444444444, \"#bd3786\"], [0.5555555555555556, \"#d8576b\"], [0.6666666666666666, \"#ed7953\"], [0.7777777777777778, \"#fb9f3a\"], [0.8888888888888888, \"#fdca26\"], [1.0, \"#f0f921\"]], \"type\": \"heatmapgl\"}], \"histogram\": [{\"marker\": {\"colorbar\": {\"outlinewidth\": 0, \"ticks\": \"\"}}, \"type\": \"histogram\"}], \"histogram2d\": [{\"colorbar\": {\"outlinewidth\": 0, \"ticks\": \"\"}, \"colorscale\": [[0.0, \"#0d0887\"], [0.1111111111111111, \"#46039f\"], [0.2222222222222222, \"#7201a8\"], [0.3333333333333333, \"#9c179e\"], [0.4444444444444444, \"#bd3786\"], [0.5555555555555556, \"#d8576b\"], [0.6666666666666666, \"#ed7953\"], [0.7777777777777778, \"#fb9f3a\"], [0.8888888888888888, \"#fdca26\"], [1.0, \"#f0f921\"]], \"type\": \"histogram2d\"}], \"histogram2dcontour\": [{\"colorbar\": {\"outlinewidth\": 0, \"ticks\": \"\"}, \"colorscale\": [[0.0, \"#0d0887\"], [0.1111111111111111, \"#46039f\"], [0.2222222222222222, \"#7201a8\"], [0.3333333333333333, \"#9c179e\"], [0.4444444444444444, \"#bd3786\"], [0.5555555555555556, \"#d8576b\"], [0.6666666666666666, \"#ed7953\"], [0.7777777777777778, \"#fb9f3a\"], [0.8888888888888888, \"#fdca26\"], [1.0, \"#f0f921\"]], \"type\": \"histogram2dcontour\"}], \"mesh3d\": [{\"colorbar\": {\"outlinewidth\": 0, \"ticks\": \"\"}, \"type\": \"mesh3d\"}], \"parcoords\": [{\"line\": {\"colorbar\": {\"outlinewidth\": 0, \"ticks\": \"\"}}, \"type\": \"parcoords\"}], \"pie\": [{\"automargin\": true, \"type\": \"pie\"}], \"scatter\": [{\"marker\": {\"colorbar\": {\"outlinewidth\": 0, \"ticks\": \"\"}}, \"type\": \"scatter\"}], \"scatter3d\": [{\"line\": {\"colorbar\": {\"outlinewidth\": 0, \"ticks\": \"\"}}, \"marker\": {\"colorbar\": {\"outlinewidth\": 0, \"ticks\": \"\"}}, \"type\": \"scatter3d\"}], \"scattercarpet\": [{\"marker\": {\"colorbar\": {\"outlinewidth\": 0, \"ticks\": \"\"}}, \"type\": \"scattercarpet\"}], \"scattergeo\": [{\"marker\": {\"colorbar\": {\"outlinewidth\": 0, \"ticks\": \"\"}}, \"type\": \"scattergeo\"}], \"scattergl\": [{\"marker\": {\"colorbar\": {\"outlinewidth\": 0, \"ticks\": \"\"}}, \"type\": \"scattergl\"}], \"scattermapbox\": [{\"marker\": {\"colorbar\": {\"outlinewidth\": 0, \"ticks\": \"\"}}, \"type\": \"scattermapbox\"}], \"scatterpolar\": [{\"marker\": {\"colorbar\": {\"outlinewidth\": 0, \"ticks\": \"\"}}, \"type\": \"scatterpolar\"}], \"scatterpolargl\": [{\"marker\": {\"colorbar\": {\"outlinewidth\": 0, \"ticks\": \"\"}}, \"type\": \"scatterpolargl\"}], \"scatterternary\": [{\"marker\": {\"colorbar\": {\"outlinewidth\": 0, \"ticks\": \"\"}}, \"type\": \"scatterternary\"}], \"surface\": [{\"colorbar\": {\"outlinewidth\": 0, \"ticks\": \"\"}, \"colorscale\": [[0.0, \"#0d0887\"], [0.1111111111111111, \"#46039f\"], [0.2222222222222222, \"#7201a8\"], [0.3333333333333333, \"#9c179e\"], [0.4444444444444444, \"#bd3786\"], [0.5555555555555556, \"#d8576b\"], [0.6666666666666666, \"#ed7953\"], [0.7777777777777778, \"#fb9f3a\"], [0.8888888888888888, \"#fdca26\"], [1.0, \"#f0f921\"]], \"type\": \"surface\"}], \"table\": [{\"cells\": {\"fill\": {\"color\": \"#EBF0F8\"}, \"line\": {\"color\": \"white\"}}, \"header\": {\"fill\": {\"color\": \"#C8D4E3\"}, \"line\": {\"color\": \"white\"}}, \"type\": \"table\"}]}, \"layout\": {\"annotationdefaults\": {\"arrowcolor\": \"#2a3f5f\", \"arrowhead\": 0, \"arrowwidth\": 1}, \"coloraxis\": {\"colorbar\": {\"outlinewidth\": 0, \"ticks\": \"\"}}, \"colorscale\": {\"diverging\": [[0, \"#8e0152\"], [0.1, \"#c51b7d\"], [0.2, \"#de77ae\"], [0.3, \"#f1b6da\"], [0.4, \"#fde0ef\"], [0.5, \"#f7f7f7\"], [0.6, \"#e6f5d0\"], [0.7, \"#b8e186\"], [0.8, \"#7fbc41\"], [0.9, \"#4d9221\"], [1, \"#276419\"]], \"sequential\": [[0.0, \"#0d0887\"], [0.1111111111111111, \"#46039f\"], [0.2222222222222222, \"#7201a8\"], [0.3333333333333333, \"#9c179e\"], [0.4444444444444444, \"#bd3786\"], [0.5555555555555556, \"#d8576b\"], [0.6666666666666666, \"#ed7953\"], [0.7777777777777778, \"#fb9f3a\"], [0.8888888888888888, \"#fdca26\"], [1.0, \"#f0f921\"]], \"sequentialminus\": [[0.0, \"#0d0887\"], [0.1111111111111111, \"#46039f\"], [0.2222222222222222, \"#7201a8\"], [0.3333333333333333, \"#9c179e\"], [0.4444444444444444, \"#bd3786\"], [0.5555555555555556, \"#d8576b\"], [0.6666666666666666, \"#ed7953\"], [0.7777777777777778, \"#fb9f3a\"], [0.8888888888888888, \"#fdca26\"], [1.0, \"#f0f921\"]]}, \"colorway\": [\"#636efa\", \"#EF553B\", \"#00cc96\", \"#ab63fa\", \"#FFA15A\", \"#19d3f3\", \"#FF6692\", \"#B6E880\", \"#FF97FF\", \"#FECB52\"], \"font\": {\"color\": \"#2a3f5f\"}, \"geo\": {\"bgcolor\": \"white\", \"lakecolor\": \"white\", \"landcolor\": \"#E5ECF6\", \"showlakes\": true, \"showland\": true, \"subunitcolor\": \"white\"}, \"hoverlabel\": {\"align\": \"left\"}, \"hovermode\": \"closest\", \"mapbox\": {\"style\": \"light\"}, \"paper_bgcolor\": \"white\", \"plot_bgcolor\": \"#E5ECF6\", \"polar\": {\"angularaxis\": {\"gridcolor\": \"white\", \"linecolor\": \"white\", \"ticks\": \"\"}, \"bgcolor\": \"#E5ECF6\", \"radialaxis\": {\"gridcolor\": \"white\", \"linecolor\": \"white\", \"ticks\": \"\"}}, \"scene\": {\"xaxis\": {\"backgroundcolor\": \"#E5ECF6\", \"gridcolor\": \"white\", \"gridwidth\": 2, \"linecolor\": \"white\", \"showbackground\": true, \"ticks\": \"\", \"zerolinecolor\": \"white\"}, \"yaxis\": {\"backgroundcolor\": \"#E5ECF6\", \"gridcolor\": \"white\", \"gridwidth\": 2, \"linecolor\": \"white\", \"showbackground\": true, \"ticks\": \"\", \"zerolinecolor\": \"white\"}, \"zaxis\": {\"backgroundcolor\": \"#E5ECF6\", \"gridcolor\": \"white\", \"gridwidth\": 2, \"linecolor\": \"white\", \"showbackground\": true, \"ticks\": \"\", \"zerolinecolor\": \"white\"}}, \"shapedefaults\": {\"line\": {\"color\": \"#2a3f5f\"}}, \"ternary\": {\"aaxis\": {\"gridcolor\": \"white\", \"linecolor\": \"white\", \"ticks\": \"\"}, \"baxis\": {\"gridcolor\": \"white\", \"linecolor\": \"white\", \"ticks\": \"\"}, \"bgcolor\": \"#E5ECF6\", \"caxis\": {\"gridcolor\": \"white\", \"linecolor\": \"white\", \"ticks\": \"\"}}, \"title\": {\"x\": 0.05}, \"xaxis\": {\"automargin\": true, \"gridcolor\": \"white\", \"linecolor\": \"white\", \"ticks\": \"\", \"title\": {\"standoff\": 15}, \"zerolinecolor\": \"white\", \"zerolinewidth\": 2}, \"yaxis\": {\"automargin\": true, \"gridcolor\": \"white\", \"linecolor\": \"white\", \"ticks\": \"\", \"title\": {\"standoff\": 15}, \"zerolinecolor\": \"white\", \"zerolinewidth\": 2}}}, \"title\": {\"text\": \"An\\u00e1lisis Gr\\u00e1fico de las Emisiones de Primera Categor\\u00eda\"}, \"updatemenus\": [{\"buttons\": [{\"args\": [\"shapes\", []], \"label\": \"Ninguno\", \"method\": \"relayout\"}, {\"args\": [\"shapes\", [{\"line\": {\"color\": \"lightgray\"}, \"type\": \"square\", \"x0\": 397.0, \"x1\": 697.0, \"xref\": \"x\", \"y0\": 6.29020042756725, \"y1\": 7.579594413461255, \"yref\": \"y\"}]], \"label\": \"Grupo 1\", \"method\": \"relayout\"}, {\"args\": [\"shapes\", [{\"line\": {\"color\": \"lightslategrey\"}, \"type\": \"square\", \"x0\": 731.0, \"x1\": 1084.0, \"xref\": \"x\", \"y0\": 7.366680085865429, \"y1\": 8.250035795761956, \"yref\": \"y\"}]], \"label\": \"Grupo 2\", \"method\": \"relayout\"}, {\"args\": [\"shapes\", [{\"line\": {\"color\": \"darkslategrey\"}, \"type\": \"square\", \"x0\": 1100.0, \"x1\": 1776.0, \"xref\": \"x\", \"y0\": 7.8155861338659705, \"y1\": 9.031427462805919, \"yref\": \"y\"}]], \"label\": \"Grupo 3\", \"method\": \"relayout\"}, {\"args\": [\"shapes\", [{\"line\": {\"color\": \"lime\"}, \"type\": \"square\", \"x0\": 341.0, \"x1\": 401.0, \"xref\": \"x\", \"y0\": 6.585068601910605, \"y1\": 6.785068601910604, \"yref\": \"y\"}, {\"line\": {\"color\": \"lime\"}, \"type\": \"square\", \"x0\": 819.0, \"x1\": 879.0, \"xref\": \"x\", \"y0\": 8.400003593868666, \"y1\": 8.600003593868665, \"yref\": \"y\"}, {\"line\": {\"color\": \"lime\"}, \"type\": \"square\", \"x0\": 920.0, \"x1\": 980.0, \"xref\": \"x\", \"y0\": 8.899970179596862, \"y1\": 9.09997017959686, \"yref\": \"y\"}, {\"line\": {\"color\": \"lime\"}, \"type\": \"square\", \"x0\": 1259.0, \"x1\": 1319.0, \"xref\": \"x\", \"y0\": 9.39997539345251, \"y1\": 9.599975393452508, \"yref\": \"y\"}, {\"line\": {\"color\": \"lime\"}, \"type\": \"square\", \"x0\": 1287.0, \"x1\": 1347.0, \"xref\": \"x\", \"y0\": 8.501568544334537, \"y1\": 8.701568544334537, \"yref\": \"y\"}, {\"line\": {\"color\": \"lime\"}, \"type\": \"square\", \"x0\": 1327.0, \"x1\": 1387.0, \"xref\": \"x\", \"y0\": 8.899971521142492, \"y1\": 9.099971521142491, \"yref\": \"y\"}, {\"line\": {\"color\": \"lime\"}, \"type\": \"square\", \"x0\": 1640.0, \"x1\": 1700.0, \"xref\": \"x\", \"y0\": 9.001235972468436, \"y1\": 9.201235972468435, \"yref\": \"y\"}, {\"line\": {\"color\": \"lime\"}, \"type\": \"square\", \"x0\": 1665.0, \"x1\": 1725.0, \"xref\": \"x\", \"y0\": 9.649988846780955, \"y1\": 9.849988846780954, \"yref\": \"y\"}]], \"label\": \"Subvaloradas\", \"method\": \"relayout\"}, {\"args\": [\"shapes\", [{\"line\": {\"color\": \"red\"}, \"type\": \"square\", \"x0\": 1383.0, \"x1\": 1443.0, \"xref\": \"x\", \"y0\": 7.599887960419627, \"y1\": 7.7998879604196265, \"yref\": \"y\"}, {\"line\": {\"color\": \"red\"}, \"type\": \"square\", \"x0\": 1640.0, \"x1\": 1700.0, \"xref\": \"x\", \"y0\": 5.657303454796148, \"y1\": 5.857303454796147, \"yref\": \"y\"}, {\"line\": {\"color\": \"red\"}, \"type\": \"square\", \"x0\": 1735.0, \"x1\": 1795.0, \"xref\": \"x\", \"y0\": 7.650036371867531, \"y1\": 7.85003637186753, \"yref\": \"y\"}, {\"line\": {\"color\": \"red\"}, \"type\": \"square\", \"x0\": 1895.0, \"x1\": 1955.0, \"xref\": \"x\", \"y0\": 7.2644196047363945, \"y1\": 7.464419604736394, \"yref\": \"y\"}, {\"line\": {\"color\": \"red\"}, \"type\": \"square\", \"x0\": 1978.0, \"x1\": 2038.0, \"xref\": \"x\", \"y0\": 7.340880091394942, \"y1\": 7.540880091394941, \"yref\": \"y\"}, {\"line\": {\"color\": \"red\"}, \"type\": \"square\", \"x0\": 2031.0, \"x1\": 2091.0, \"xref\": \"x\", \"y0\": 7.387477528650377, \"y1\": 7.587477528650377, \"yref\": \"y\"}, {\"line\": {\"color\": \"red\"}, \"type\": \"square\", \"x0\": 2034.0, \"x1\": 2094.0, \"xref\": \"x\", \"y0\": 7.3900655614542625, \"y1\": 7.590065561454262, \"yref\": \"y\"}, {\"line\": {\"color\": \"red\"}, \"type\": \"square\", \"x0\": 2040.0, \"x1\": 2100.0, \"xref\": \"x\", \"y0\": 7.39522601570023, \"y1\": 7.595226015700229, \"yref\": \"y\"}, {\"line\": {\"color\": \"red\"}, \"type\": \"square\", \"x0\": 2075.0, \"x1\": 2135.0, \"xref\": \"x\", \"y0\": 7.576383537654452, \"y1\": 7.776383537654452, \"yref\": \"y\"}, {\"line\": {\"color\": \"red\"}, \"type\": \"square\", \"x0\": 2097.0, \"x1\": 2157.0, \"xref\": \"x\", \"y0\": 7.4432337368374295, \"y1\": 7.643233736837429, \"yref\": \"y\"}, {\"line\": {\"color\": \"red\"}, \"type\": \"square\", \"x0\": 2103.0, \"x1\": 2163.0, \"xref\": \"x\", \"y0\": 7.448182483800492, \"y1\": 7.6481824838004915, \"yref\": \"y\"}, {\"line\": {\"color\": \"red\"}, \"type\": \"square\", \"x0\": 2130.0, \"x1\": 2190.0, \"xref\": \"x\", \"y0\": 7.470211930665672, \"y1\": 7.670211930665671, \"yref\": \"y\"}, {\"line\": {\"color\": \"red\"}, \"type\": \"square\", \"x0\": 2334.0, \"x1\": 2394.0, \"xref\": \"x\", \"y0\": 7.575633180628783, \"y1\": 7.775633180628782, \"yref\": \"y\"}, {\"line\": {\"color\": \"red\"}, \"type\": \"square\", \"x0\": 2663.0, \"x1\": 2723.0, \"xref\": \"x\", \"y0\": 6.861877461625133, \"y1\": 7.061877461625132, \"yref\": \"y\"}]], \"label\": \"Sobrevaloradas\", \"method\": \"relayout\"}, {\"args\": [\"shapes\", [{\"line\": {\"color\": \"lightgray\"}, \"type\": \"square\", \"x0\": 397.0, \"x1\": 697.0, \"xref\": \"x\", \"y0\": 6.29020042756725, \"y1\": 7.579594413461255, \"yref\": \"y\"}, {\"line\": {\"color\": \"lightslategrey\"}, \"type\": \"square\", \"x0\": 731.0, \"x1\": 1084.0, \"xref\": \"x\", \"y0\": 7.366680085865429, \"y1\": 8.250035795761956, \"yref\": \"y\"}, {\"line\": {\"color\": \"darkslategrey\"}, \"type\": \"square\", \"x0\": 1100.0, \"x1\": 1776.0, \"xref\": \"x\", \"y0\": 7.8155861338659705, \"y1\": 9.031427462805919, \"yref\": \"y\"}, {\"line\": {\"color\": \"lime\"}, \"type\": \"square\", \"x0\": 341.0, \"x1\": 401.0, \"xref\": \"x\", \"y0\": 6.585068601910605, \"y1\": 6.785068601910604, \"yref\": \"y\"}, {\"line\": {\"color\": \"lime\"}, \"type\": \"square\", \"x0\": 819.0, \"x1\": 879.0, \"xref\": \"x\", \"y0\": 8.400003593868666, \"y1\": 8.600003593868665, \"yref\": \"y\"}, {\"line\": {\"color\": \"lime\"}, \"type\": \"square\", \"x0\": 920.0, \"x1\": 980.0, \"xref\": \"x\", \"y0\": 8.899970179596862, \"y1\": 9.09997017959686, \"yref\": \"y\"}, {\"line\": {\"color\": \"lime\"}, \"type\": \"square\", \"x0\": 1259.0, \"x1\": 1319.0, \"xref\": \"x\", \"y0\": 9.39997539345251, \"y1\": 9.599975393452508, \"yref\": \"y\"}, {\"line\": {\"color\": \"lime\"}, \"type\": \"square\", \"x0\": 1287.0, \"x1\": 1347.0, \"xref\": \"x\", \"y0\": 8.501568544334537, \"y1\": 8.701568544334537, \"yref\": \"y\"}, {\"line\": {\"color\": \"lime\"}, \"type\": \"square\", \"x0\": 1327.0, \"x1\": 1387.0, \"xref\": \"x\", \"y0\": 8.899971521142492, \"y1\": 9.099971521142491, \"yref\": \"y\"}, {\"line\": {\"color\": \"lime\"}, \"type\": \"square\", \"x0\": 1640.0, \"x1\": 1700.0, \"xref\": \"x\", \"y0\": 9.001235972468436, \"y1\": 9.201235972468435, \"yref\": \"y\"}, {\"line\": {\"color\": \"lime\"}, \"type\": \"square\", \"x0\": 1665.0, \"x1\": 1725.0, \"xref\": \"x\", \"y0\": 9.649988846780955, \"y1\": 9.849988846780954, \"yref\": \"y\"}, {\"line\": {\"color\": \"red\"}, \"type\": \"square\", \"x0\": 1383.0, \"x1\": 1443.0, \"xref\": \"x\", \"y0\": 7.599887960419627, \"y1\": 7.7998879604196265, \"yref\": \"y\"}, {\"line\": {\"color\": \"red\"}, \"type\": \"square\", \"x0\": 1640.0, \"x1\": 1700.0, \"xref\": \"x\", \"y0\": 5.657303454796148, \"y1\": 5.857303454796147, \"yref\": \"y\"}, {\"line\": {\"color\": \"red\"}, \"type\": \"square\", \"x0\": 1735.0, \"x1\": 1795.0, \"xref\": \"x\", \"y0\": 7.650036371867531, \"y1\": 7.85003637186753, \"yref\": \"y\"}, {\"line\": {\"color\": \"red\"}, \"type\": \"square\", \"x0\": 1895.0, \"x1\": 1955.0, \"xref\": \"x\", \"y0\": 7.2644196047363945, \"y1\": 7.464419604736394, \"yref\": \"y\"}, {\"line\": {\"color\": \"red\"}, \"type\": \"square\", \"x0\": 1978.0, \"x1\": 2038.0, \"xref\": \"x\", \"y0\": 7.340880091394942, \"y1\": 7.540880091394941, \"yref\": \"y\"}, {\"line\": {\"color\": \"red\"}, \"type\": \"square\", \"x0\": 2031.0, \"x1\": 2091.0, \"xref\": \"x\", \"y0\": 7.387477528650377, \"y1\": 7.587477528650377, \"yref\": \"y\"}, {\"line\": {\"color\": \"red\"}, \"type\": \"square\", \"x0\": 2034.0, \"x1\": 2094.0, \"xref\": \"x\", \"y0\": 7.3900655614542625, \"y1\": 7.590065561454262, \"yref\": \"y\"}, {\"line\": {\"color\": \"red\"}, \"type\": \"square\", \"x0\": 2040.0, \"x1\": 2100.0, \"xref\": \"x\", \"y0\": 7.39522601570023, \"y1\": 7.595226015700229, \"yref\": \"y\"}, {\"line\": {\"color\": \"red\"}, \"type\": \"square\", \"x0\": 2075.0, \"x1\": 2135.0, \"xref\": \"x\", \"y0\": 7.576383537654452, \"y1\": 7.776383537654452, \"yref\": \"y\"}, {\"line\": {\"color\": \"red\"}, \"type\": \"square\", \"x0\": 2097.0, \"x1\": 2157.0, \"xref\": \"x\", \"y0\": 7.4432337368374295, \"y1\": 7.643233736837429, \"yref\": \"y\"}, {\"line\": {\"color\": \"red\"}, \"type\": \"square\", \"x0\": 2103.0, \"x1\": 2163.0, \"xref\": \"x\", \"y0\": 7.448182483800492, \"y1\": 7.6481824838004915, \"yref\": \"y\"}, {\"line\": {\"color\": \"red\"}, \"type\": \"square\", \"x0\": 2130.0, \"x1\": 2190.0, \"xref\": \"x\", \"y0\": 7.470211930665672, \"y1\": 7.670211930665671, \"yref\": \"y\"}, {\"line\": {\"color\": \"red\"}, \"type\": \"square\", \"x0\": 2334.0, \"x1\": 2394.0, \"xref\": \"x\", \"y0\": 7.575633180628783, \"y1\": 7.775633180628782, \"yref\": \"y\"}, {\"line\": {\"color\": \"red\"}, \"type\": \"square\", \"x0\": 2663.0, \"x1\": 2723.0, \"xref\": \"x\", \"y0\": 6.861877461625133, \"y1\": 7.061877461625132, \"yref\": \"y\"}]], \"label\": \"Todos\", \"method\": \"relayout\"}], \"type\": \"buttons\"}]},\n",
       "                        {\"responsive\": true}\n",
       "                    ).then(function(){\n",
       "                            \n",
       "var gd = document.getElementById('5a21f6b4-0915-4054-9dff-ee797a1eda1d');\n",
       "var x = new MutationObserver(function (mutations, observer) {{\n",
       "        var display = window.getComputedStyle(gd).display;\n",
       "        if (!display || display === 'none') {{\n",
       "            console.log([gd, 'removed!']);\n",
       "            Plotly.purge(gd);\n",
       "            observer.disconnect();\n",
       "        }}\n",
       "}});\n",
       "\n",
       "// Listen for the removal of the full notebook cells\n",
       "var notebookContainer = gd.closest('#notebook-container');\n",
       "if (notebookContainer) {{\n",
       "    x.observe(notebookContainer, {childList: true});\n",
       "}}\n",
       "\n",
       "// Listen for the clearing of the current output cell\n",
       "var outputEl = gd.closest('.output');\n",
       "if (outputEl) {{\n",
       "    x.observe(outputEl, {childList: true});\n",
       "}}\n",
       "\n",
       "                        })\n",
       "                };\n",
       "                });\n",
       "            </script>\n",
       "        </div>"
      ]
     },
     "metadata": {},
     "output_type": "display_data"
    }
   ],
   "source": [
    "### # Generando el dataset\n",
    "\n",
    "g1 = [90,834,778,56,300,883,265,235,233,102,14,795,294,295,89,296,856,854,245,85,873,82,\n",
    "     279,808,830,62,67,877,114,888]\n",
    "g2 = [280,838,865,839,257,835,124,860,297,133,127,266,857,125,855,86,103,798,796,251,299,\n",
    "     874,87,105,234,867,83,281,74,812,776,106,833,129,115,282,3,827,4,885,69,263,819]\n",
    "g3 = [47,868,57,861,91,298,862,66,820,128,236,84,75,70,274,813,130,821,107,5,828,886,264,\n",
    "     878,831,63,43,131,797,126,48,88,237,889,44,15,275,41,146,814,22,818,108]\n",
    "\n",
    "subvaloradas = [278,78,65,869,42,293,132,870]\n",
    "sobrevaloradas = [283,45,148,879,16,109,110,111,112,267,113,880,284,881]\n",
    "\n",
    "x1 = datos.loc[g1]['PLAZO POR VENCER'] \n",
    "y1 = datos.loc[g1]['TASA NOMINAL EQUIVALENTE %'] \n",
    "x2 = datos.loc[g2]['PLAZO POR VENCER'] \n",
    "y2 = datos.loc[g2]['TASA NOMINAL EQUIVALENTE %'] \n",
    "x3 = datos.loc[g3]['PLAZO POR VENCER'] \n",
    "y3 = datos.loc[g3]['TASA NOMINAL EQUIVALENTE %']\n",
    "\n",
    "x4 = datos.loc[subvaloradas]['PLAZO POR VENCER'] \n",
    "y4 = datos.loc[subvaloradas]['TASA NOMINAL EQUIVALENTE %'] \n",
    "x5 = datos.loc[sobrevaloradas]['PLAZO POR VENCER'] \n",
    "y5 = datos.loc[sobrevaloradas]['TASA NOMINAL EQUIVALENTE %']\n",
    "\n",
    "# Creando el gráfico\n",
    "fig = go.Figure()\n",
    "\n",
    "# Añadiendo los trazos\n",
    "fig.add_trace(\n",
    "    go.Scatter(\n",
    "        x=x1,\n",
    "        y=y1,\n",
    "        mode=\"markers\",\n",
    "        text=datos.loc[g1]['EMISOR'],\n",
    "        marker=dict(color=\"lightgray\")\n",
    "    )\n",
    ")\n",
    "\n",
    "fig.add_trace(\n",
    "    go.Scatter(\n",
    "        x=x2,\n",
    "        y=y2,\n",
    "        mode=\"markers\",\n",
    "        text=datos.loc[g2]['EMISOR'],\n",
    "        marker=dict(color=\"lightslategrey\")\n",
    "    )\n",
    ")\n",
    "\n",
    "fig.add_trace(\n",
    "    go.Scatter(\n",
    "        x=x3,\n",
    "        y=y3,\n",
    "        mode=\"markers\",\n",
    "        text=datos.loc[g3]['EMISOR'],\n",
    "        marker=dict(color=\"darkslategrey\")\n",
    "    )\n",
    ")\n",
    "\n",
    "fig.add_trace(\n",
    "    go.Scatter(\n",
    "        x=x4,\n",
    "        y=y4,\n",
    "        mode=\"markers\",\n",
    "        text=datos.loc[subvaloradas]['EMISOR'],\n",
    "        marker=dict(color=\"lime\")\n",
    "    )\n",
    ")\n",
    "\n",
    "fig.add_trace(\n",
    "    go.Scatter(\n",
    "        x=x5,\n",
    "        y=y5,\n",
    "        mode=\"markers\",\n",
    "        text=datos.loc[sobrevaloradas]['EMISOR'],\n",
    "        marker=dict(color=\"red\")\n",
    "    )\n",
    ")\n",
    "\n",
    "# Creando los botones que añaden los poligonos\n",
    "cluster1 = [dict(type=\"square\",\n",
    "                            xref=\"x\", yref=\"y\",\n",
    "                            x0=min(x1), y0=min(y1),\n",
    "                            x1=max(x1), y1=max(y1),\n",
    "                            line=dict(color=\"lightgray\"))]\n",
    "cluster2 = [dict(type=\"square\",\n",
    "                            xref=\"x\", yref=\"y\",\n",
    "                            x0=min(x2), y0=min(y2),\n",
    "                            x1=max(x2), y1=max(y2),\n",
    "                            line=dict(color=\"lightslategrey\"))]\n",
    "cluster3 = [dict(type=\"square\",\n",
    "                            xref=\"x\", yref=\"y\",\n",
    "                            x0=min(x3), y0=min(y3),\n",
    "                            x1=max(x3), y1=max(y3),\n",
    "                            line=dict(color=\"darkslategrey\"))]\n",
    "\n",
    "\n",
    "cluster4 = [dict(type=\"square\",\n",
    "                            xref=\"x\", yref=\"y\",\n",
    "                            x0=x-30, y0=y-0.1,\n",
    "                            x1=x+30, y1=y+0.1,\n",
    "                            line=dict(color=\"lime\")) for x,y in zip(x4,y4)]\n",
    "\n",
    "cluster5 = [dict(type=\"square\",\n",
    "                            xref=\"x\", yref=\"y\",\n",
    "                            x0=x-30, y0=y-0.1,\n",
    "                            x1=x+30, y1=y+0.1,\n",
    "                            line=dict(color=\"red\")) for x,y in zip(x5,y5)]\n",
    "\n",
    "\n",
    "fig.update_layout(\n",
    "    updatemenus=[\n",
    "        dict(\n",
    "            type=\"buttons\",\n",
    "            buttons=[\n",
    "                dict(label=\"Ninguno\",\n",
    "                     method=\"relayout\",\n",
    "                     args=[\"shapes\", []]),\n",
    "                dict(label=\"Grupo 1\",\n",
    "                     method=\"relayout\",\n",
    "                     args=[\"shapes\", cluster1]),\n",
    "                dict(label=\"Grupo 2\",\n",
    "                     method=\"relayout\",\n",
    "                     args=[\"shapes\", cluster2]),\n",
    "                dict(label=\"Grupo 3\",\n",
    "                     method=\"relayout\",\n",
    "                     args=[\"shapes\", cluster3]),\n",
    "                dict(label=\"Subvaloradas\",\n",
    "                     method=\"relayout\",\n",
    "                     args=[\"shapes\", cluster4]),\n",
    "                dict(label=\"Sobrevaloradas\",\n",
    "                     method=\"relayout\",\n",
    "                     args=[\"shapes\", cluster5]),                \n",
    "                dict(label=\"Todos\",\n",
    "                     method=\"relayout\",\n",
    "                     args=[\"shapes\", cluster1 + cluster2 + cluster3 + cluster4 + cluster5])\n",
    "            ],\n",
    "        )\n",
    "    ]\n",
    ")\n",
    "\n",
    "fig.update_layout(\n",
    "    title_text=\"Análisis Gráfico de las Emisiones de Primera Categoría\",\n",
    "    showlegend=False,\n",
    ")\n",
    "\n",
    "fig.show()"
   ]
  },
  {
   "cell_type": "markdown",
   "metadata": {},
   "source": [
    "## Conclusiones"
   ]
  },
  {
   "cell_type": "markdown",
   "metadata": {},
   "source": [
    "Si bien es cierto hemos demostrado, con una pequeña muestra, lo poderosa que puede ser esta herramienta para el análisis de datos financieros, sin embargo todo esto se ve un poco apañado dado los pobres resultados de ajuste en los modelos descritos. No es objeto de estudio de este trabajo responder los porques de esta situación, pero me atrevería a decir que el pobre desarrollo de nuestro mercado de valores hacen que existan estas inconsistencias de datos (tiempo vs rendimiento). Pues se debería encontrar consistencia dada la relación existente de riesgo, tiempo y rendimiento, donde las calificaciones de riesgos emitidas por los entes destinados para este efecto, deberian servir para homogeneizar este tipo de análisis, pero según por lo que se ve existen hasta 3 patrones/tendencias distintas o por lo menos traslapadas para instrumentos con \"supuestamente\" el mismo nivel de riesgo."
   ]
  }
 ],
 "metadata": {
  "kernelspec": {
   "display_name": "Python 3",
   "language": "python",
   "name": "python3"
  },
  "language_info": {
   "codemirror_mode": {
    "name": "ipython",
    "version": 3
   },
   "file_extension": ".py",
   "mimetype": "text/x-python",
   "name": "python",
   "nbconvert_exporter": "python",
   "pygments_lexer": "ipython3",
   "version": "3.7.6"
  }
 },
 "nbformat": 4,
 "nbformat_minor": 4
}
