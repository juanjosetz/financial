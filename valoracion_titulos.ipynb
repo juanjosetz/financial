{
 "cells": [
  {
   "cell_type": "markdown",
   "metadata": {},
   "source": [
    "# Valoración de Títulos"
   ]
  },
  {
   "cell_type": "markdown",
   "metadata": {},
   "source": [
    "**Autor:   Juan José Triviño Zambrano**  \n",
    "**Fecha:   Mayo 30, 2020**\n"
   ]
  },
  {
   "cell_type": "markdown",
   "metadata": {},
   "source": [
    "Valorar un instrumento financiero es un proceso que lo realizan por lo general los analistas financieros solamente, pues es una técnica que aunque no es dificil de implementarla, esta lejos del conocimiento común de los inversores. Es más, los analistas persé pueden encontrar dificultades/complicaciones a la hora de analizar estos instrumentos, ya que es muy común utilizar herramientas ortodoxas en donde el manejo de la información es demasiado manual, generando complicaciones y/o errores en el proceso.\n",
    "\n",
    "En este documento crearé un sistema automatizado utilizando **Python** en conjunto con sus potentes librerías de análisis de datos y visualización gráfica, entre otras, que resuelva el análisis de títulos de inversión en cuestión de segundos."
   ]
  },
  {
   "cell_type": "markdown",
   "metadata": {},
   "source": [
    "## Fuente de la información\n",
    "### Bolsa de Valores de Guayaquil\n",
    "\n",
    "La Bolsa de Valores de Guayaquil a través de su [sitio web](https://www.bolsadevaloresguayaquil.com/valoracion/index.asp), en el apartado de valoración, publica información referente a títulos de renta fija y renta variable. No es la mejor forma de presentar la información(a través de hojas de cálculo), que en sí denota la falta de técnica en la publicación de la información, hay que decir que esta forma anticuada la viene realizando desde el año 2006 sin que en todos estos años, hayan inovado o mejorado la forma de proporcionar la información a sus usuarios/clientes. Aún así, \"es lo que hay\" y se le puede sacar provecho de alguna manera.\n",
    "\n",
    "La información viene presentada en dos vertientes:\n",
    "1. **Diaria:** Que regoge la información diaria de los títulos, la cual solo está disponible en su último día, actualizándose cada dia laborable.\n",
    "2. **Histórica:** Que recoge la información de forma trimestral, para lo cual existe un directorio de todo su historial desde el año 2006."
   ]
  },
  {
   "cell_type": "markdown",
   "metadata": {},
   "source": [
    "## Echando mano al código\n",
    "### Descargando los archivos desde el directorio web\n",
    "Nos vamos a centrar ahora en descargar todo a esa información `Histórica` y lo haremos no de la forma ortodoxa que casi todo el mundo haría, sino que diseñaremos una función para que haga el trabajo por nosotros.\n",
    "Además de descargarlos, la diseñaremos para que le dé un nombre más adecuado al archivo `(aa-mm-dd)`, de tal forma que estén mejor ordenados y tengan un formato de fecha conforme lo exigen los estándares."
   ]
  },
  {
   "cell_type": "code",
   "execution_count": 1,
   "metadata": {},
   "outputs": [],
   "source": [
    "from bs4 import BeautifulSoup\n",
    "import requests\n",
    "import re"
   ]
  },
  {
   "cell_type": "code",
   "execution_count": 2,
   "metadata": {},
   "outputs": [],
   "source": [
    "def descargar_archivos():\n",
    "    url = \"https://www.bolsadevaloresguayaquil.com/valoracion/Historico/\"\n",
    "    codigo_html = requests.get(url).text\n",
    "    web = BeautifulSoup(codigo_html, \"lxml\")\n",
    "    links = web.find_all('a')\n",
    "    url_links = [url[:39] + links[href].get('href') for href in range(1,len(links))]\n",
    "    meses = {'Enero':'01', 'Febrero':'02', 'Marzo':'03', 'Abril':'04', 'Mayo':'05', 'Junio':'06',\n",
    "             'Julio':'07', 'Agosto':'08', 'Septiembre':'09', 'Octubre':'10', 'Noviembre':'11', 'Diciembre':'12'}   \n",
    "    for url in url_links:\n",
    "        idx = url.rfind('/')\n",
    "        nombre_ini = url[idx+1:]\n",
    "        lista = re.findall('\\d+|\\D+', nombre_ini)\n",
    "        if len(lista) == 4:\n",
    "            nombre_fin = f'{lista[2]}-{meses[lista[1]]}-{lista[0]}{lista[3]}'\n",
    "            resp = requests.get(url)\n",
    "            with open(nombre_fin, 'wb') as output:\n",
    "                output.write(resp.content)"
   ]
  },
  {
   "cell_type": "markdown",
   "metadata": {},
   "source": [
    "## Operaciones con los datos extraídos\n",
    "Ya con la data disponible, se podría hacer un modelado dinámico, ya que tenemos información a través del tiempo, con lo cual armar sin problemas un panel de datos donde la librería `pandas` es una herramienta muy poderosa, de hecho su nombre deriva de '*panel data*'. Pero dejaremos ese trabajo para otra ocasión, en un posterior análisis.\n",
    "\n",
    "Por esta vez nos vamos a concentrar en analizar la información contenida en un solo fichero de datos, para lo cual necesitamos extraer la información relevante que vamos a utilizar.\n",
    "\n",
    "Uno de los problemas(de los tantos) de las hojas de cálculo, es que la información puede venir 'desorganizada y sucia'. No hay problema, diseñaremos una función que nos permita extraer la data relevante para nuestro análisis, descartando la información que no vayamos a utilizar."
   ]
  },
  {
   "cell_type": "markdown",
   "metadata": {},
   "source": [
    "Lo primero será importar la librerias que vamos a necesitar:"
   ]
  },
  {
   "cell_type": "code",
   "execution_count": 1,
   "metadata": {},
   "outputs": [],
   "source": [
    "import numpy as np\n",
    "import pandas as pd\n",
    "import sympy as sym\n",
    "import matplotlib.pyplot as plt\n",
    "from scipy import stats\n",
    "from scipy.optimize import minimize\n",
    "import warnings\n",
    "%matplotlib inline\n",
    "warnings.filterwarnings('ignore')"
   ]
  },
  {
   "cell_type": "markdown",
   "metadata": {},
   "source": [
    "### Extrayendo los datos de un archivo\n",
    "Dentro del proceso de valoración descrito en el [Manual Operativo](https://www.bolsadevaloresguayaquil.com/valoracion/vectores/res_cnv_003_2005.pdf) para la valoración a precios de mercado, publicado por el Consejo Nacional de Valores, se indica que estos instrumentos tienen que ser categorizados de acuerdo a sus características intrínsecas:\n",
    "- Clase;\n",
    "- Calificación;\n",
    "- Tipo de tasa;\n",
    "- Moneda; y,\n",
    "- Días a vencimiento\n",
    "\n",
    "Considerando que el tipo de tasa es fija, que la moneda también es fija y que los días al vencimiento es la variable explicativa que vamos a trabajar, entonces la categorización ha de hacerse bajo los parámetros de clase y calificación de riesgo."
   ]
  },
  {
   "cell_type": "markdown",
   "metadata": {},
   "source": [
    "#### Clase de título \n",
    "Los parámetros asignados a la agrupación por clase de título son los siguientes:"
   ]
  },
  {
   "cell_type": "markdown",
   "metadata": {},
   "source": [
    "<style type=\"text/css\">\n",
    ".tg  {border-collapse:collapse;border-spacing:0;}\n",
    ".tg td{border-color:black;border-style:solid;border-width:1px;font-family:Arial, sans-serif;font-size:14px;\n",
    "  overflow:hidden;padding:10px 5px;word-break:normal;}\n",
    ".tg th{border-color:black;border-style:solid;border-width:1px;font-family:Arial, sans-serif;font-size:14px;\n",
    "  font-weight:normal;overflow:hidden;padding:10px 5px;word-break:normal;}\n",
    ".tg .tg-c3ow{border-color:inherit;text-align:center;vertical-align:top}\n",
    ".tg .tg-kq0l{background-color:#38fff8;border-color:inherit;font-weight:bold;text-align:center;vertical-align:top}\n",
    "</style>\n",
    "<table class=\"tg\">\n",
    "<thead>\n",
    "  <tr> \n",
    "    <th class=\"tg-kq0l\">Código</th>\n",
    "    <th class=\"tg-kq0l\">Clase</th>\n",
    "  </tr>\n",
    "</thead>\n",
    "<tbody>\n",
    "  <tr>\n",
    "    <td class=\"tg-c3ow\">00001</td>\n",
    "    <td class=\"tg-c3ow\">Min. Fin. / Bco. Central</td>\n",
    "  </tr>\n",
    "  <tr>\n",
    "    <td class=\"tg-c3ow\">00002</td>\n",
    "    <td class=\"tg-c3ow\">Otros sector público</td>\n",
    "  </tr>\n",
    "  <tr>\n",
    "    <td class=\"tg-c3ow\">00003</td>\n",
    "    <td class=\"tg-c3ow\">Sector privado financiero</td>\n",
    "  </tr>\n",
    "  <tr>\n",
    "    <td class=\"tg-c3ow\">00004</td>\n",
    "    <td class=\"tg-c3ow\">Sector privado no financiero</td>\n",
    "  </tr>\n",
    "  <tr>\n",
    "    <td class=\"tg-c3ow\">00005</td>\n",
    "    <td class=\"tg-c3ow\">Multilaterales y supranacionales</td>\n",
    "  </tr>\n",
    "</tbody>\n",
    "</table>"
   ]
  },
  {
   "cell_type": "markdown",
   "metadata": {},
   "source": [
    "#### Calificación de Riesgo\n",
    "Los parámetros asignados a la agrupación por calificación de riesgo son los siguientes:"
   ]
  },
  {
   "cell_type": "markdown",
   "metadata": {},
   "source": [
    "<style type=\"text/css\">\n",
    ".tg  {border-collapse:collapse;border-spacing:0;}\n",
    ".tg td{border-style:solid;border-width:0px;font-family:Arial, sans-serif;font-size:14px;overflow:hidden;\n",
    "  padding:10px 5px;word-break:normal;}\n",
    ".tg th{border-style:solid;border-width:0px;font-family:Arial, sans-serif;font-size:14px;font-weight:normal;\n",
    "  overflow:hidden;padding:10px 5px;word-break:normal;}\n",
    ".tg .tg-c3ow{border-color:inherit;text-align:center;vertical-align:top}\n",
    ".tg .tg-kq0l{background-color:#38fff8;border-color:inherit;font-weight:bold;text-align:center;vertical-align:top}\n",
    "</style>\n",
    "<table class=\"tg\">\n",
    "<thead>\n",
    "  <tr>\n",
    "    <th class=\"tg-kq0l\">Código</th>\n",
    "    <th class=\"tg-kq0l\">Calificación</th>\n",
    "  </tr>\n",
    "</thead>\n",
    "<tbody>\n",
    "  <tr>\n",
    "    <td class=\"tg-c3ow\">01000</td>\n",
    "    <td class=\"tg-c3ow\">AAA+, AAA, AAA-</td>\n",
    "  </tr>\n",
    "  <tr>\n",
    "    <td class=\"tg-c3ow\">02000</td>\n",
    "    <td class=\"tg-c3ow\">AA+, AA, AA-</td>\n",
    "  </tr>\n",
    "  <tr>\n",
    "    <td class=\"tg-c3ow\">03000</td>\n",
    "    <td class=\"tg-c3ow\">A+, A, A-</td>\n",
    "  </tr>\n",
    "  <tr>\n",
    "    <td class=\"tg-c3ow\">04000</td>\n",
    "    <td class=\"tg-c3ow\">BBB+, BBB, BBB-</td>\n",
    "  </tr>\n",
    "  <tr>\n",
    "    <td class=\"tg-c3ow\">05000</td>\n",
    "    <td class=\"tg-c3ow\">Menor a BBB-</td>\n",
    "  </tr>\n",
    "  <tr>\n",
    "    <td class=\"tg-c3ow\">06000</td>\n",
    "    <td class=\"tg-c3ow\">Sin Calificación</td>\n",
    "  </tr>\n",
    "</tbody>\n",
    "</table>"
   ]
  },
  {
   "cell_type": "markdown",
   "metadata": {},
   "source": [
    "Dado lo anterior, se necesitará crear una función que permita extraer los datos considerando los filtros indicados.\n",
    "Por defecto seleccionaremos los que sean del sector privado financiero(Obligaciones y que pertenezcan a la categoría más alta de calificación de riesgo. Aunque esto es perfectamente parametrizable."
   ]
  },
  {
   "cell_type": "code",
   "execution_count": 2,
   "metadata": {},
   "outputs": [],
   "source": [
    "def extraer_datos(archivo, calificacion, titulo):\n",
    "    \"\"\"\n",
    "    Extrae los datos de Plazo al vencimiento y Tasa nominal equibvalente desde un fichero excel\n",
    "\n",
    "    Parameters\n",
    "    ----------\n",
    "    archivo : str\n",
    "        Nombre o ruta donde se encuentra alojado el archivo\n",
    "    calificacion : list-like\n",
    "        Calificación o categoría de calificaciones de riesgo\n",
    "    titulo : str\n",
    "        Clase de titulo dada la naturaleza de su emisor\n",
    "        \n",
    "    Returns\n",
    "    -------\n",
    "    plazo_rend: DataFrame\n",
    "        Compuesto de tiempo para ek vencimiento y su tasa nominal\n",
    "\n",
    "    \"\"\"\n",
    "    df = pd.read_excel(archivo, header = 6, index_col=0)\n",
    "    df.dropna(how='all', inplace=True)\n",
    "    df = df.loc[df.index.dropna()]\n",
    "    df.index=df.index.astype(int)\n",
    "    homogeneos = df[(df['CALIFICACION'].isin(calificacion)) & (df['TITULO'].str.contains(titulo))]\n",
    "    plazo_rend = homogeneos[['PLAZO POR VENCER', 'TASA NOMINAL EQUIVALENTE %']]\n",
    "    plazo_rend.sort_values('PLAZO POR VENCER', inplace=True)\n",
    "    return plazo_rend"
   ]
  },
  {
   "cell_type": "markdown",
   "metadata": {},
   "source": [
    "#### Tabla de Calificaciones\n",
    "Generamos una tabla de datos con las calificaciones categorizadas según lo visto anteriormente, para luego hacer uso de ella seleccionando las categorías que vayamos a analizar."
   ]
  },
  {
   "cell_type": "code",
   "execution_count": 3,
   "metadata": {},
   "outputs": [
    {
     "data": {
      "text/html": [
       "<div>\n",
       "<style scoped>\n",
       "    .dataframe tbody tr th:only-of-type {\n",
       "        vertical-align: middle;\n",
       "    }\n",
       "\n",
       "    .dataframe tbody tr th {\n",
       "        vertical-align: top;\n",
       "    }\n",
       "\n",
       "    .dataframe thead th {\n",
       "        text-align: right;\n",
       "    }\n",
       "</style>\n",
       "<table border=\"1\" class=\"dataframe\">\n",
       "  <thead>\n",
       "    <tr style=\"text-align: right;\">\n",
       "      <th></th>\n",
       "      <th>Calificacion</th>\n",
       "    </tr>\n",
       "    <tr>\n",
       "      <th>Codigo</th>\n",
       "      <th></th>\n",
       "    </tr>\n",
       "  </thead>\n",
       "  <tbody>\n",
       "    <tr>\n",
       "      <th>01000</th>\n",
       "      <td>[AAA+, AAA, AAA-]</td>\n",
       "    </tr>\n",
       "    <tr>\n",
       "      <th>02000</th>\n",
       "      <td>[AA+, AA, AA-]</td>\n",
       "    </tr>\n",
       "    <tr>\n",
       "      <th>03000</th>\n",
       "      <td>[A+, A,  A-]</td>\n",
       "    </tr>\n",
       "    <tr>\n",
       "      <th>04000</th>\n",
       "      <td>[BBB+, BBB, BBB-]</td>\n",
       "    </tr>\n",
       "    <tr>\n",
       "      <th>05000</th>\n",
       "      <td>[C, D, E]</td>\n",
       "    </tr>\n",
       "  </tbody>\n",
       "</table>\n",
       "</div>"
      ],
      "text/plain": [
       "             Calificacion\n",
       "Codigo                   \n",
       "01000   [AAA+, AAA, AAA-]\n",
       "02000      [AA+, AA, AA-]\n",
       "03000        [A+, A,  A-]\n",
       "04000   [BBB+, BBB, BBB-]\n",
       "05000           [C, D, E]"
      ]
     },
     "execution_count": 3,
     "metadata": {},
     "output_type": "execute_result"
    }
   ],
   "source": [
    "cal = {'Codigo':['01000','02000', '03000','04000', '05000'], 'Calificacion': [[\"AAA+\", \"AAA\", \"AAA-\"],\\\n",
    "                                                                        [\"AA+\", \"AA\", \"AA-\"],\\\n",
    "                                                                        [\"A+\", \"A\",\" A-\"],\\\n",
    "                                                                        [\"BBB+\", \"BBB\", \"BBB-\"],\\\n",
    "                                                                        [\"C\", \"D\", \"E\"]]}\n",
    "tabla_calificaciones = pd.DataFrame(cal).set_index('Codigo')\n",
    "tabla_calificaciones"
   ]
  },
  {
   "cell_type": "code",
   "execution_count": 4,
   "metadata": {},
   "outputs": [],
   "source": [
    "# Extrayendo las calificaciones según categoría escogida\n",
    "from pandas.core.common import flatten\n",
    "categorias_seleccionadas = ['01000']\n",
    "calificaciones_seleccionadas = tabla_calificaciones.loc[categorias_seleccionadas].values\n",
    "\n",
    "# Parámetros\n",
    "archivo = 'archivos/20-04-30.xls'\n",
    "calificaciones = list(flatten(calificaciones_seleccionadas))\n",
    "tipo = \"OBLIGACIONES\""
   ]
  },
  {
   "cell_type": "markdown",
   "metadata": {},
   "source": [
    "#### Demostración de la función"
   ]
  },
  {
   "cell_type": "code",
   "execution_count": 5,
   "metadata": {},
   "outputs": [
    {
     "data": {
      "text/html": [
       "<div>\n",
       "<style scoped>\n",
       "    .dataframe tbody tr th:only-of-type {\n",
       "        vertical-align: middle;\n",
       "    }\n",
       "\n",
       "    .dataframe tbody tr th {\n",
       "        vertical-align: top;\n",
       "    }\n",
       "\n",
       "    .dataframe thead th {\n",
       "        text-align: right;\n",
       "    }\n",
       "</style>\n",
       "<table border=\"1\" class=\"dataframe\">\n",
       "  <thead>\n",
       "    <tr style=\"text-align: right;\">\n",
       "      <th></th>\n",
       "      <th>PLAZO POR VENCER</th>\n",
       "      <th>TASA NOMINAL EQUIVALENTE %</th>\n",
       "    </tr>\n",
       "  </thead>\n",
       "  <tbody>\n",
       "    <tr>\n",
       "      <th>278</th>\n",
       "      <td>371.0</td>\n",
       "      <td>6.685069</td>\n",
       "    </tr>\n",
       "    <tr>\n",
       "      <th>90</th>\n",
       "      <td>397.0</td>\n",
       "      <td>6.290200</td>\n",
       "    </tr>\n",
       "    <tr>\n",
       "      <th>834</th>\n",
       "      <td>405.0</td>\n",
       "      <td>6.336718</td>\n",
       "    </tr>\n",
       "    <tr>\n",
       "      <th>778</th>\n",
       "      <td>408.0</td>\n",
       "      <td>6.353914</td>\n",
       "    </tr>\n",
       "    <tr>\n",
       "      <th>56</th>\n",
       "      <td>412.0</td>\n",
       "      <td>6.376635</td>\n",
       "    </tr>\n",
       "    <tr>\n",
       "      <th>...</th>\n",
       "      <td>...</td>\n",
       "      <td>...</td>\n",
       "    </tr>\n",
       "    <tr>\n",
       "      <th>267</th>\n",
       "      <td>2127.0</td>\n",
       "      <td>7.543234</td>\n",
       "    </tr>\n",
       "    <tr>\n",
       "      <th>113</th>\n",
       "      <td>2133.0</td>\n",
       "      <td>7.548182</td>\n",
       "    </tr>\n",
       "    <tr>\n",
       "      <th>880</th>\n",
       "      <td>2160.0</td>\n",
       "      <td>7.570212</td>\n",
       "    </tr>\n",
       "    <tr>\n",
       "      <th>284</th>\n",
       "      <td>2364.0</td>\n",
       "      <td>7.675633</td>\n",
       "    </tr>\n",
       "    <tr>\n",
       "      <th>881</th>\n",
       "      <td>2693.0</td>\n",
       "      <td>6.961877</td>\n",
       "    </tr>\n",
       "  </tbody>\n",
       "</table>\n",
       "<p>138 rows × 2 columns</p>\n",
       "</div>"
      ],
      "text/plain": [
       "     PLAZO POR VENCER  TASA NOMINAL EQUIVALENTE %\n",
       "278             371.0                    6.685069\n",
       "90              397.0                    6.290200\n",
       "834             405.0                    6.336718\n",
       "778             408.0                    6.353914\n",
       "56              412.0                    6.376635\n",
       "..                ...                         ...\n",
       "267            2127.0                    7.543234\n",
       "113            2133.0                    7.548182\n",
       "880            2160.0                    7.570212\n",
       "284            2364.0                    7.675633\n",
       "881            2693.0                    6.961877\n",
       "\n",
       "[138 rows x 2 columns]"
      ]
     },
     "execution_count": 5,
     "metadata": {},
     "output_type": "execute_result"
    }
   ],
   "source": [
    "datos = extraer_datos(archivo, calificacion=calificaciones, titulo=tipo)\n",
    "datos"
   ]
  },
  {
   "cell_type": "markdown",
   "metadata": {},
   "source": [
    "La tabla anterior contiene los datos de plazo al vencimiento y tasa nominal equivalente de los títulos, filtrados según lo especificado en la función"
   ]
  },
  {
   "cell_type": "markdown",
   "metadata": {},
   "source": [
    "## Valoración\n",
    "### Modelos de regresión \n",
    "\n",
    "Es común trabajar con modelos matemáticos para estimar variables en función de otra/s, los modelos de regresión más comunes son:"
   ]
  },
  {
   "cell_type": "markdown",
   "metadata": {},
   "source": [
    "\\begin{aligned}\n",
    "Modelo\\:lineal :\\: &\\large r = \\beta_0 + \\beta_1 t + \\epsilon \\\\\n",
    "Modelo\\:lin-log :\\:  &\\large r = \\beta_0 + \\beta_1 \\ln(t) + \\epsilon\n",
    "\\end{aligned}\n",
    "\n",
    "donde:\n",
    "- r = Rendimiento esperado del título\n",
    "- t = Tiempo al vencimiento del título"
   ]
  },
  {
   "cell_type": "markdown",
   "metadata": {},
   "source": [
    "Ahora una función que me permita correr estas dos regresiones:"
   ]
  },
  {
   "cell_type": "code",
   "execution_count": 6,
   "metadata": {},
   "outputs": [],
   "source": [
    "def regresiones(datos):\n",
    "    r = datos['TASA NOMINAL EQUIVALENTE %']\n",
    "    t = datos['PLAZO POR VENCER']\n",
    "    # Elimino valores extremos que se salen de los limites de control(outliers)\n",
    "    datos = datos[r.isin(r[r.between(r.quantile(.025), r.quantile(0.975))])]\n",
    "    datos = datos[t.isin(t[t.between(t.quantile(.025), t.quantile(0.95))])]\n",
    "    # Actualizar los datos\n",
    "    r = datos['TASA NOMINAL EQUIVALENTE %']\n",
    "    t = datos['PLAZO POR VENCER']\n",
    "    # Correr las regresiones\n",
    "    reg_lin = stats.linregress(t, r)\n",
    "    reg_log = stats.linregress(np.log(t), r)  \n",
    "    # Generar las gráficas\n",
    "    plt.figure(figsize=(12,6))\n",
    "    plt.plot(t, r, 'o', label='Datos')\n",
    "    plt.plot(t, reg_lin[0]*t + reg_lin[1], 'r',\n",
    "             label=f'${round(reg_lin[0],3)}t+{round(reg_lin[1], 3)};\\\n",
    "             ;R^{2}={round(reg_lin[2]**2,4)}$')\n",
    "    plt.plot(t, reg_log[0]*np.log(t) + reg_log[1], 'g',\n",
    "             label=f'${round(reg_log[0],3)}\\cdot ln(t){round(reg_log[1], 3)};\\\n",
    "             ;R^{2}={round(reg_log[2]**2,4)}$')\n",
    "    plt.legend()\n",
    "    plt.show()"
   ]
  },
  {
   "cell_type": "code",
   "execution_count": 7,
   "metadata": {},
   "outputs": [
    {
     "data": {
      "image/png": "[encoded data removed]",
      "text/plain": [
       "<Figure size 864x432 with 1 Axes>"
      ]
     },
     "metadata": {
      "needs_background": "light"
     },
     "output_type": "display_data"
    }
   ],
   "source": [
    "regresiones(datos)"
   ]
  },
  {
   "cell_type": "markdown",
   "metadata": {},
   "source": [
    "### Modelo de regresión log-lin-log\n",
    "Este es el modelo que utiliza la BVG para ajustar la curva de rendimientos en sus informes:"
   ]
  },
  {
   "cell_type": "markdown",
   "metadata": {},
   "source": [
    "$$\\large \\ln(1+r)=\\beta_{0}+\\beta_{1}t+\\beta_{2}\\ln(t)$$"
   ]
  },
  {
   "cell_type": "markdown",
   "metadata": {},
   "source": [
    "A decir verdad no conocía este modelo econométrico, vamos que noy economista, provengo de Administración de Empresas, me he puesto a investigar, no encontré nada por cierto. Aún asi, pude programar la función ya que no deja de ser un modelo matemático.\n",
    "\n",
    "PD: Lo de log-lin-log se lo puse intuitivamente dado la forma que presenta, pues contiene el término lineal $\\normalsize\\beta_{1}t$, pero no sé a ciencia cierta como se llama."
   ]
  },
  {
   "cell_type": "code",
   "execution_count": 8,
   "metadata": {
    "scrolled": true
   },
   "outputs": [],
   "source": [
    "def loglinlog(datos):\n",
    "\n",
    "    # cargar datos\n",
    "    xm = datos['PLAZO POR VENCER']\n",
    "    ym = datos['TASA NOMINAL EQUIVALENTE %']\n",
    "    # Elimino valores extremos que se salen de los limites de control(outliers)\n",
    "    datos = datos[ym.isin(ym[ym.between(ym.quantile(.025), ym.quantile(0.975))])]\n",
    "    datos = datos[xm.isin(xm[xm.between(xm.quantile(.025), xm.quantile(0.95))])]\n",
    "    # Actualizar los datos  \n",
    "    xm = datos['PLAZO POR VENCER']\n",
    "    ym = datos['TASA NOMINAL EQUIVALENTE %']\n",
    "\n",
    "    # calcular y\n",
    "    def calc_y(x):\n",
    "        a,b,c = x\n",
    "        y = xm**c*np.exp(a+b*xm)-1\n",
    "        return y\n",
    "\n",
    "    # definir objetibo\n",
    "    def objetivo(x):\n",
    "        return np.sum(((calc_y(x)-ym)/ym)**2)\n",
    "\n",
    "    # valores iniciales\n",
    "    x0 = np.zeros(3)\n",
    "\n",
    "    # optimización\n",
    "    # limites de las variables\n",
    "    bnds100 = (-100.0, 100.0)\n",
    "    no_bnds = (-1.0e10, 1.0e10)\n",
    "    bnds = (no_bnds, no_bnds, bnds100)\n",
    "    solucion = minimize(objetivo,x0,method='SLSQP',bounds=bnds)\n",
    "    x = solucion.x\n",
    "    y = calc_y(x)\n",
    "\n",
    "    # imprimir solución\n",
    "    #print('Solución')\n",
    "    #print('a = ' + str(x[0]))\n",
    "    #print('b = ' + str(x[1]))\n",
    "    #print('c = ' + str(x[2]))\n",
    "    r_cuad = calc_y(x).var()/ym.var()\n",
    "    b0 = x[0]\n",
    "    b1 = x[1]\n",
    "    b2 = x[2]\n",
    "\n",
    "    # graficar solucion\n",
    "\n",
    "    fmt = lambda x: \"{:.2f}%\".format(x)  # formatea numeros\n",
    "    eje_x = np.arange(xm.min(),xm.max(),180) # valores para etiquetas\n",
    "    eje_y = np.arange(ym.min(),ym.max(),0.5)\n",
    "\n",
    "    font = {'family': 'sans-serif',\n",
    "            'color':  'darkred',\n",
    "            'weight': 'normal',\n",
    "            'size': 12,\n",
    "            }\n",
    "\n",
    "    fig = plt.figure(1, figsize=(12,8))\n",
    "    ax = fig.add_subplot()\n",
    "    fig.subplots_adjust(top=0.85)\n",
    "    plt.plot(xm,ym,'ro')\n",
    "    plt.plot(xm,y,lw=5);\n",
    "    plt.title('Curva de rendimiento')\n",
    "    plt.xlabel('Plazo al vencimiento')\n",
    "    plt.ylabel('Rendimiento')\n",
    "    plt.xticks(eje_x, rotation=90)\n",
    "    plt.yticks(eje_y, [fmt(i) for i in eje_y])\n",
    "    plt.legend(['Muestra','Predicción'],loc='best')\n",
    "    ax.text(xm.quantile(.70), ym.min(), f'$\\ln(1+r)=\n",
    "            {round(b0,4)}+{round(b1,4)}t+{round(b2,4)}\\ln(t)$\\n$R^{2}={round(r_cuad,4)}$', font,\n",
    "            bbox={'facecolor': 'w', 'alpha': 0.7, 'pad': 10})\n",
    "    plt.savefig('resultados.png')\n",
    "    plt.show()"
   ]
  },
  {
   "cell_type": "code",
   "execution_count": 9,
   "metadata": {},
   "outputs": [
    {
     "data": {
      "image/png": "[encoded data removed]",
      "text/plain": [
       "<Figure size 864x576 with 1 Axes>"
      ]
     },
     "metadata": {
      "needs_background": "light"
     },
     "output_type": "display_data"
    }
   ],
   "source": [
    "loglinlog(datos)"
   ]
  },
  {
   "cell_type": "markdown",
   "metadata": {},
   "source": [
    "## Conclusiones"
   ]
  },
  {
   "cell_type": "markdown",
   "metadata": {},
   "source": [
    "Si bien es cierto hemos demostrado, tan solo con una pequeña muestra, lo capaz y poderosa que puede ser esta herramienta para el análisis de datos financieros, sin embargo todo esto se ve un poco apañado dado los pobres resultados de ajuste en los modelos descritos. No es objeto de estudio de este trabajo responder los porques de esta situación, pero me atrevería a decir que el pobre desarrollo de nuestro mercado de valores hacen que existan estas inconsistencias de datos (tiempo vs rendimiento). Pues se debería encontrar consistencia dadas la relaciones existentes entre riesgo, tiempo y rendimiento, donde las calificaciones de riesgos emitidas por los entes destinados para este efecto, deberian servir para homogeneizar este tipo de análisis, pero según por lo que se ve existen hasta 3 patrones/tendencias distintas o por lo menos traslapadas para instrumentos con \"supuestamente\" el mismo nivel de riesgo."
   ]
  }
 ],
 "metadata": {
  "kernelspec": {
   "display_name": "Python 3",
   "language": "python",
   "name": "python3"
  },
  "language_info": {
   "codemirror_mode": {
    "name": "ipython",
    "version": 3
   },
   "file_extension": ".py",
   "mimetype": "text/x-python",
   "name": "python",
   "nbconvert_exporter": "python",
   "pygments_lexer": "ipython3",
   "version": "3.7.6"
  }
 },
 "nbformat": 4,
 "nbformat_minor": 4
}
