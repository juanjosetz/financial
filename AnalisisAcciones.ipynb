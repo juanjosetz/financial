{
 "cells": [
  {
   "cell_type": "markdown",
   "metadata": {},
   "source": [
    "# Análisis de acciones de empresas ecuatorianas \n",
    "### Un repaso a la década 2010-2019"
   ]
  },
  {
   "cell_type": "markdown",
   "metadata": {},
   "source": [
    "**Autor:   Juan José Triviño Zambrano**  \n",
    "**Fecha:   Mayo 30, 2021**"
   ]
  },
  {
   "cell_type": "markdown",
   "metadata": {},
   "source": [
    "Hace exactamente un año ya, de la publicación de mi estudio [Valoración de títulos de renta fija](https://nbviewer.jupyter.org/github/juanjosetz/financial/blob/master/valoracion_titulos.ipynb). Para esta ocasión he creido conveniente hacer en cambio un estudio de renta variable, más especificamente de acciones. Esta vez, no desde la perspectiva de valoración de títulos como se lo hizo en el estudio antes mencionado, sino desde la perspectiva del análisis de los rendimientos históricos que arrojaron las acciones más populares de la década pasada. Para esto haremos uso de ciertos conceptos estadísticos, financieros y bursátiles; todo esto apoyado nuevamente, como no, de nuestra querida \"navaja suiza\" **Python** con sus estupendas librerías para el manejo, análisis y visualización de datos."
   ]
  },
  {
   "cell_type": "markdown",
   "metadata": {},
   "source": [
    "## Fuente de la información\n",
    "### Bolsa de Valores de Guayaquil\n",
    "\n",
    "La Bolsa de Valores de Guayaquil a través de su [sitio web](https://www.bolsadevaloresguayaquil.com/valoracion/index.asp), en el apartado de valoración, publica información referente a títulos de renta fija y renta variable. No es la mejor forma de presentar la información (a través de hojas de cálculo), algo que denota la falta de técnica en la publicación de la información. Hay que decir que esto lo viene realizando desde el año 2007 sin que en todos estos años, hayan innovado o mejorado la forma de proporcionar la información a sus usuarios/clientes, cuando hoy en día existen fabulosas herramientas basadas en web, para trabajar con tablas de datos e inclusive bases de datos relacionales. Aún así, \"es lo que hay\" y se le puede sacar provecho de alguna manera.\n",
    "\n",
    "La información viene presentada en dos vertientes:\n",
    "1. **Diaria:** Que regoge la información diaria de los títulos, la cual solo está disponible en su último día, actualizándose cada dia laborable.\n",
    "2. **Histórica:** Que recoge la información con periodicidad mensual, para lo cual existe un directorio para todo su historial desde el año 2007."
   ]
  },
  {
   "cell_type": "markdown",
   "metadata": {},
   "source": [
    "## Metodología del análisis\n",
    "\n",
    "El rendimiento de una acción es determinado por dos factores:\n",
    "\n",
    "1. Revalorización del precio de la acción\n",
    "2. Dividendos recibidos\n",
    "\n",
    "En este sentido, seleccionaremos las 10 compañias más representativas en bolsa la década pasada y evaluaremos todas las ganancias de capital y dividendos recibidos a través del período de análisis. Esto no supone mayor difcultad, lo retador es, estructurar todos los datos desde la fuente, dada la rusticidad y desorganización de la información que se presenta."
   ]
  },
  {
   "cell_type": "markdown",
   "metadata": {},
   "source": [
    "## Obtención y preparación de datos"
   ]
  },
  {
   "cell_type": "markdown",
   "metadata": {},
   "source": [
    "### Descarga de los archivos desde el directorio web\n",
    "Lo que necesitamos ahora es toda la data histórica para después agrupar y consolidar la información a través del tiempo y poder construir una suerte de datos de panel. Para esto tenemos que descargar todos estos reportes mensuales contenidos en los archivos *xls*. Aparentemente estos ficheros solo están disponibles para el año actual y el anterior, pues así se muestra en su pestaña `Histórico`. Los demás ficheros de años anteriores si se encuentran disponibles pero permanecen ocultos de la interfaz web. Para tener acceso a ellos debemos primero ingresar al [directorio](https://www.bolsadevaloresguayaquil.com/valoracion/Historico/) donde están alojados todos estos ficheros. Una vez dentro, ya podemos descargar todos los ficheros y así lo haremos, pero no de la forma ortodoxa de ir descargando uno por uno los archivos, sino que diseñaremos una función para que haga el trabajo por nosotros.\n",
    "Además de descargarlos, la diseñaremos para que le dé un nombre más adecuado a los archivos `(aa-mm-dd)`, esto para que estén mejor ordenados con un formato estándar de patrón de fecha, algo que nos servirá para asociar cada reporte de precios a una fecha en concreto."
   ]
  },
  {
   "cell_type": "code",
   "execution_count": 1,
   "metadata": {},
   "outputs": [],
   "source": [
    "from bs4 import BeautifulSoup\n",
    "import requests\n",
    "import re"
   ]
  },
  {
   "cell_type": "code",
   "execution_count": 2,
   "metadata": {},
   "outputs": [],
   "source": [
    "def descargar_archivos():\n",
    "    url = \"https://www.bolsadevaloresguayaquil.com/valoracion/Historico/\"\n",
    "    codigo_html = requests.get(url).text\n",
    "    web = BeautifulSoup(codigo_html, \"lxml\")\n",
    "    links = web.find_all('a')\n",
    "    url_links = [url[:39] + links[href].get('href') for href in range(1,len(links))]\n",
    "    meses = {'Enero':'01', 'Febrero':'02', 'Marzo':'03', 'Abril':'04', 'Mayo':'05', 'Junio':'06',\n",
    "             'Julio':'07', 'Agosto':'08', 'Septiembre':'09', 'Octubre':'10', 'Noviembre':'11', 'Diciembre':'12'}\n",
    "    \n",
    "    for url in url_links:\n",
    "        idx = url.rfind('/')\n",
    "        nombre_ini = url[idx+1:]\n",
    "        lista = re.findall('\\d+|\\D+', nombre_ini)\n",
    "        \n",
    "        if len(lista) == 4:\n",
    "            nombre_fin = f'{lista[2]}-{meses[lista[1]]}-{lista[0]}{lista[3]}'\n",
    "            resp = requests.get(url)\n",
    "            \n",
    "            with open(nombre_fin, 'wb') as output:\n",
    "                output.write(resp.content)"
   ]
  },
  {
   "cell_type": "markdown",
   "metadata": {},
   "source": [
    "## Operaciones con los ficheros descargados"
   ]
  },
  {
   "cell_type": "markdown",
   "metadata": {},
   "source": [
    "### Extrayendo la data de los archivos\n",
    "\n",
    ">Uno de los problemas (de los tantos) de las hojas de cálculo, es que la información suele venir 'desorganizada y sucia'. No hay problema, diseñaremos un programa que nos permita extraer la data relevante para nuestro análisis, descartando la información que no vayamos a utilizar.\n",
    "\n",
    "El algoritmo siguiente extrae los datos relevantes para este análisis de cada uno de los ficheros descargados y los guarda en el objeto `data`:"
   ]
  },
  {
   "cell_type": "code",
   "execution_count": 3,
   "metadata": {},
   "outputs": [],
   "source": [
    "import os\n",
    "import numpy as np\n",
    "import pandas as pd\n",
    "from datetime import datetime"
   ]
  },
  {
   "cell_type": "code",
   "execution_count": 4,
   "metadata": {},
   "outputs": [],
   "source": [
    "directorio = \"archivos/\"\n",
    "data = []\n",
    "\n",
    "for filename in os.listdir(directorio):\n",
    "    fecha = filename[:8]\n",
    "    campos = ['Unnamed: 0', '# RUEDAS', \"PRESENCIA\", \"# RUEDAS.1\", \"PRESENCIA.1\", \"CIERRE NACIONAL\"]\n",
    "    df = pd.read_excel(directorio + filename, 'Precios-Renta Variable', skiprows=8, index_col=0, usecols=campos)\n",
    "    df.dropna(inplace=True)\n",
    "    df['CIERRE NACIONAL'].replace('*', np.nan, inplace=True)\n",
    "    df['FECHA'] = pd.to_datetime(fecha, format='%y-%m-%d', errors='ignore')\n",
    "    data.append(df)\n",
    "    \n",
    "cias = df.index"
   ]
  },
  {
   "cell_type": "markdown",
   "metadata": {},
   "source": [
    "### Consolidando toda la información en un `DataFrame`\n",
    "\n",
    "Una vez con todos los datos agrupados, necesitamos consolidar la información que hay en ella (contiene datos de la Bolsa de Valores de Guayaquil y de la Bolsa de Valores de Quito). Para ello se implementa el siguiente algoritmo:"
   ]
  },
  {
   "cell_type": "code",
   "execution_count": 5,
   "metadata": {},
   "outputs": [],
   "source": [
    "consolidado = pd.concat(data)\n",
    "consolidado = consolidado.astype({'# RUEDAS': int, \"PRESENCIA\": float, \"# RUEDAS.1\": int })\n",
    "nombre_columnas = ['RUEDAS.UIO', 'PRESENCIA.UIO', 'RUEDAS.GYE', 'PRESENCIA.GYE', 'PRECIO', 'FECHA']\n",
    "consolidado.columns = nombre_columnas\n",
    "consolidado['PRESENCIA'] = (consolidado['PRESENCIA.UIO']+consolidado['PRESENCIA.GYE'])/2"
   ]
  },
  {
   "cell_type": "markdown",
   "metadata": {},
   "source": [
    "La información consolidada se presenta en la siguiente tabla, donde los datos que utilizaremos posteriormente son:\n",
    "* **Precios** (Cierre Nacional) y;\n",
    "* **Presencia Bursátil**, que en este caso se ha recogido el promedio entre las dos bolsas Quito y Guayaquil"
   ]
  },
  {
   "cell_type": "code",
   "execution_count": 6,
   "metadata": {
    "tags": []
   },
   "outputs": [
    {
     "data": {
      "text/html": [
       "<div>\n",
       "<style scoped>\n",
       "    .dataframe tbody tr th:only-of-type {\n",
       "        vertical-align: middle;\n",
       "    }\n",
       "\n",
       "    .dataframe tbody tr th {\n",
       "        vertical-align: top;\n",
       "    }\n",
       "\n",
       "    .dataframe thead th {\n",
       "        text-align: right;\n",
       "    }\n",
       "</style>\n",
       "<table border=\"1\" class=\"dataframe\">\n",
       "  <thead>\n",
       "    <tr style=\"text-align: right;\">\n",
       "      <th></th>\n",
       "      <th>RUEDAS.UIO</th>\n",
       "      <th>PRESENCIA.UIO</th>\n",
       "      <th>RUEDAS.GYE</th>\n",
       "      <th>PRESENCIA.GYE</th>\n",
       "      <th>PRECIO</th>\n",
       "      <th>FECHA</th>\n",
       "      <th>PRESENCIA</th>\n",
       "    </tr>\n",
       "  </thead>\n",
       "  <tbody>\n",
       "    <tr>\n",
       "      <th>AGRICOLA INDUSTRIAL TROPICAL</th>\n",
       "      <td>0</td>\n",
       "      <td>0.000000</td>\n",
       "      <td>0</td>\n",
       "      <td>0.000000</td>\n",
       "      <td>NaN</td>\n",
       "      <td>2007-01-31</td>\n",
       "      <td>0.000000</td>\n",
       "    </tr>\n",
       "    <tr>\n",
       "      <th>BANCO AMAZONAS</th>\n",
       "      <td>0</td>\n",
       "      <td>0.000000</td>\n",
       "      <td>0</td>\n",
       "      <td>0.000000</td>\n",
       "      <td>NaN</td>\n",
       "      <td>2007-01-31</td>\n",
       "      <td>0.000000</td>\n",
       "    </tr>\n",
       "    <tr>\n",
       "      <th>BANCO BOLIVARIANO</th>\n",
       "      <td>1</td>\n",
       "      <td>0.016667</td>\n",
       "      <td>7</td>\n",
       "      <td>0.114754</td>\n",
       "      <td>1.10</td>\n",
       "      <td>2007-01-31</td>\n",
       "      <td>0.065710</td>\n",
       "    </tr>\n",
       "    <tr>\n",
       "      <th>BANCO DE GUAYAQUIL</th>\n",
       "      <td>59</td>\n",
       "      <td>0.983333</td>\n",
       "      <td>60</td>\n",
       "      <td>0.983607</td>\n",
       "      <td>3.20</td>\n",
       "      <td>2007-01-31</td>\n",
       "      <td>0.983470</td>\n",
       "    </tr>\n",
       "    <tr>\n",
       "      <th>BANCO SOLIDARIO</th>\n",
       "      <td>10</td>\n",
       "      <td>0.166667</td>\n",
       "      <td>2</td>\n",
       "      <td>0.032787</td>\n",
       "      <td>0.95</td>\n",
       "      <td>2007-01-31</td>\n",
       "      <td>0.099727</td>\n",
       "    </tr>\n",
       "    <tr>\n",
       "      <th>...</th>\n",
       "      <td>...</td>\n",
       "      <td>...</td>\n",
       "      <td>...</td>\n",
       "      <td>...</td>\n",
       "      <td>...</td>\n",
       "      <td>...</td>\n",
       "      <td>...</td>\n",
       "    </tr>\n",
       "    <tr>\n",
       "      <th>SOCIEDAD AGRICOLA E IND. SAN CARLOS</th>\n",
       "      <td>0</td>\n",
       "      <td>0.000000</td>\n",
       "      <td>5</td>\n",
       "      <td>0.081967</td>\n",
       "      <td>0.60</td>\n",
       "      <td>2021-03-31</td>\n",
       "      <td>0.040984</td>\n",
       "    </tr>\n",
       "    <tr>\n",
       "      <th>SUPERDEPORTE</th>\n",
       "      <td>0</td>\n",
       "      <td>0.000000</td>\n",
       "      <td>1</td>\n",
       "      <td>0.016393</td>\n",
       "      <td>6.05</td>\n",
       "      <td>2021-03-31</td>\n",
       "      <td>0.008197</td>\n",
       "    </tr>\n",
       "    <tr>\n",
       "      <th>SURPAPELCORP</th>\n",
       "      <td>0</td>\n",
       "      <td>0.000000</td>\n",
       "      <td>0</td>\n",
       "      <td>0.000000</td>\n",
       "      <td>NaN</td>\n",
       "      <td>2021-03-31</td>\n",
       "      <td>0.000000</td>\n",
       "    </tr>\n",
       "    <tr>\n",
       "      <th>TECATEAK S.A.</th>\n",
       "      <td>0</td>\n",
       "      <td>0.000000</td>\n",
       "      <td>0</td>\n",
       "      <td>0.000000</td>\n",
       "      <td>NaN</td>\n",
       "      <td>2021-03-31</td>\n",
       "      <td>0.000000</td>\n",
       "    </tr>\n",
       "    <tr>\n",
       "      <th>VALLE GRANDE FORESTAL</th>\n",
       "      <td>0</td>\n",
       "      <td>0.000000</td>\n",
       "      <td>2</td>\n",
       "      <td>0.032787</td>\n",
       "      <td>NaN</td>\n",
       "      <td>2021-03-31</td>\n",
       "      <td>0.016393</td>\n",
       "    </tr>\n",
       "  </tbody>\n",
       "</table>\n",
       "<p>7862 rows × 7 columns</p>\n",
       "</div>"
      ],
      "text/plain": [
       "                                     RUEDAS.UIO  PRESENCIA.UIO  RUEDAS.GYE  \\\n",
       "AGRICOLA INDUSTRIAL TROPICAL                  0       0.000000           0   \n",
       "BANCO AMAZONAS                                0       0.000000           0   \n",
       "BANCO BOLIVARIANO                             1       0.016667           7   \n",
       "BANCO DE GUAYAQUIL                           59       0.983333          60   \n",
       "BANCO SOLIDARIO                              10       0.166667           2   \n",
       "...                                         ...            ...         ...   \n",
       "SOCIEDAD AGRICOLA E IND. SAN CARLOS           0       0.000000           5   \n",
       "SUPERDEPORTE                                  0       0.000000           1   \n",
       "SURPAPELCORP                                  0       0.000000           0   \n",
       "TECATEAK S.A.                                 0       0.000000           0   \n",
       "VALLE GRANDE FORESTAL                         0       0.000000           2   \n",
       "\n",
       "                                     PRESENCIA.GYE  PRECIO      FECHA  \\\n",
       "AGRICOLA INDUSTRIAL TROPICAL              0.000000     NaN 2007-01-31   \n",
       "BANCO AMAZONAS                            0.000000     NaN 2007-01-31   \n",
       "BANCO BOLIVARIANO                         0.114754    1.10 2007-01-31   \n",
       "BANCO DE GUAYAQUIL                        0.983607    3.20 2007-01-31   \n",
       "BANCO SOLIDARIO                           0.032787    0.95 2007-01-31   \n",
       "...                                            ...     ...        ...   \n",
       "SOCIEDAD AGRICOLA E IND. SAN CARLOS       0.081967    0.60 2021-03-31   \n",
       "SUPERDEPORTE                              0.016393    6.05 2021-03-31   \n",
       "SURPAPELCORP                              0.000000     NaN 2021-03-31   \n",
       "TECATEAK S.A.                             0.000000     NaN 2021-03-31   \n",
       "VALLE GRANDE FORESTAL                     0.032787     NaN 2021-03-31   \n",
       "\n",
       "                                     PRESENCIA  \n",
       "AGRICOLA INDUSTRIAL TROPICAL          0.000000  \n",
       "BANCO AMAZONAS                        0.000000  \n",
       "BANCO BOLIVARIANO                     0.065710  \n",
       "BANCO DE GUAYAQUIL                    0.983470  \n",
       "BANCO SOLIDARIO                       0.099727  \n",
       "...                                        ...  \n",
       "SOCIEDAD AGRICOLA E IND. SAN CARLOS   0.040984  \n",
       "SUPERDEPORTE                          0.008197  \n",
       "SURPAPELCORP                          0.000000  \n",
       "TECATEAK S.A.                         0.000000  \n",
       "VALLE GRANDE FORESTAL                 0.016393  \n",
       "\n",
       "[7862 rows x 7 columns]"
      ]
     },
     "execution_count": 6,
     "metadata": {},
     "output_type": "execute_result"
    }
   ],
   "source": [
    "consolidado"
   ]
  },
  {
   "cell_type": "markdown",
   "metadata": {},
   "source": [
    "## Precios"
   ]
  },
  {
   "cell_type": "markdown",
   "metadata": {},
   "source": [
    "Del consolidado anterior pivoteamos la tabla para crear una nueva tabla solamente de precios. Esta tabla nos servirá de base para ubicar los precios a través del tiempo.\n",
    "\n",
    ">**Observación:** La periodicidad de los datos es mensual, de tal manera que puede existir alguna imprecisión de los valores para una determinada fecha que no coincida con el corte de fin de mes."
   ]
  },
  {
   "cell_type": "code",
   "execution_count": 7,
   "metadata": {},
   "outputs": [
    {
     "data": {
      "text/html": [
       "<div>\n",
       "<style scoped>\n",
       "    .dataframe tbody tr th:only-of-type {\n",
       "        vertical-align: middle;\n",
       "    }\n",
       "\n",
       "    .dataframe tbody tr th {\n",
       "        vertical-align: top;\n",
       "    }\n",
       "\n",
       "    .dataframe thead th {\n",
       "        text-align: right;\n",
       "    }\n",
       "</style>\n",
       "<table border=\"1\" class=\"dataframe\">\n",
       "  <thead>\n",
       "    <tr style=\"text-align: right;\">\n",
       "      <th></th>\n",
       "      <th>CORPORACION MULTI BG</th>\n",
       "      <th>BANCO BOLIVARIANO</th>\n",
       "      <th>VALLE GRANDE FORESTAL</th>\n",
       "      <th>NATLUK S.A.</th>\n",
       "      <th>INGENIO AZUCARERO DEL NORTE COMPAÑIA DE ECONOMIA MIXTA IANCEM</th>\n",
       "      <th>ALICOSTA BK HOLDING</th>\n",
       "      <th>EL SENDERO FORESTAL PATHFOREST</th>\n",
       "      <th>BANCO PICHINCHA</th>\n",
       "      <th>CERRO VERDE FORESTAL BIGFOREST</th>\n",
       "      <th>LA CAMPIÑA FORESTAL STRONGFOREST S.A.</th>\n",
       "      <th>...</th>\n",
       "      <th>CEPSA</th>\n",
       "      <th>RIO CONGO FORESTAL</th>\n",
       "      <th>BOLSA DE VALORES DE QUITO BVQ SOCIEDAD ANÓNIMA</th>\n",
       "      <th>SIEMPREVERDE S.A.</th>\n",
       "      <th>CERRO ALTO FORESTAL</th>\n",
       "      <th>CERVECERIA NACIONAL CN S.A.</th>\n",
       "      <th>BEVERAGE BRAND &amp; PATENTS COMPANY BBPC S.A</th>\n",
       "      <th>HOTEL COLON</th>\n",
       "      <th>CIALCO</th>\n",
       "      <th>EL REFUGIO FORESTAL HOMEFOREST</th>\n",
       "    </tr>\n",
       "    <tr>\n",
       "      <th>FECHA</th>\n",
       "      <th></th>\n",
       "      <th></th>\n",
       "      <th></th>\n",
       "      <th></th>\n",
       "      <th></th>\n",
       "      <th></th>\n",
       "      <th></th>\n",
       "      <th></th>\n",
       "      <th></th>\n",
       "      <th></th>\n",
       "      <th></th>\n",
       "      <th></th>\n",
       "      <th></th>\n",
       "      <th></th>\n",
       "      <th></th>\n",
       "      <th></th>\n",
       "      <th></th>\n",
       "      <th></th>\n",
       "      <th></th>\n",
       "      <th></th>\n",
       "      <th></th>\n",
       "    </tr>\n",
       "  </thead>\n",
       "  <tbody>\n",
       "    <tr>\n",
       "      <th>2007-01-31</th>\n",
       "      <td>NaN</td>\n",
       "      <td>1.10</td>\n",
       "      <td>NaN</td>\n",
       "      <td>NaN</td>\n",
       "      <td>NaN</td>\n",
       "      <td>NaN</td>\n",
       "      <td>NaN</td>\n",
       "      <td>NaN</td>\n",
       "      <td>13.00</td>\n",
       "      <td>NaN</td>\n",
       "      <td>...</td>\n",
       "      <td>NaN</td>\n",
       "      <td>20.0</td>\n",
       "      <td>NaN</td>\n",
       "      <td>NaN</td>\n",
       "      <td>NaN</td>\n",
       "      <td>NaN</td>\n",
       "      <td>NaN</td>\n",
       "      <td>0.56</td>\n",
       "      <td>4.17</td>\n",
       "      <td>NaN</td>\n",
       "    </tr>\n",
       "    <tr>\n",
       "      <th>2007-02-28</th>\n",
       "      <td>NaN</td>\n",
       "      <td>1.50</td>\n",
       "      <td>NaN</td>\n",
       "      <td>NaN</td>\n",
       "      <td>NaN</td>\n",
       "      <td>NaN</td>\n",
       "      <td>NaN</td>\n",
       "      <td>NaN</td>\n",
       "      <td>13.00</td>\n",
       "      <td>NaN</td>\n",
       "      <td>...</td>\n",
       "      <td>NaN</td>\n",
       "      <td>20.0</td>\n",
       "      <td>NaN</td>\n",
       "      <td>NaN</td>\n",
       "      <td>NaN</td>\n",
       "      <td>NaN</td>\n",
       "      <td>NaN</td>\n",
       "      <td>0.70</td>\n",
       "      <td>4.17</td>\n",
       "      <td>NaN</td>\n",
       "    </tr>\n",
       "    <tr>\n",
       "      <th>2007-03-30</th>\n",
       "      <td>NaN</td>\n",
       "      <td>1.50</td>\n",
       "      <td>NaN</td>\n",
       "      <td>NaN</td>\n",
       "      <td>NaN</td>\n",
       "      <td>NaN</td>\n",
       "      <td>NaN</td>\n",
       "      <td>NaN</td>\n",
       "      <td>13.00</td>\n",
       "      <td>NaN</td>\n",
       "      <td>...</td>\n",
       "      <td>NaN</td>\n",
       "      <td>20.0</td>\n",
       "      <td>NaN</td>\n",
       "      <td>NaN</td>\n",
       "      <td>NaN</td>\n",
       "      <td>NaN</td>\n",
       "      <td>NaN</td>\n",
       "      <td>0.70</td>\n",
       "      <td>4.17</td>\n",
       "      <td>NaN</td>\n",
       "    </tr>\n",
       "    <tr>\n",
       "      <th>2007-04-30</th>\n",
       "      <td>NaN</td>\n",
       "      <td>1.55</td>\n",
       "      <td>NaN</td>\n",
       "      <td>NaN</td>\n",
       "      <td>NaN</td>\n",
       "      <td>NaN</td>\n",
       "      <td>NaN</td>\n",
       "      <td>NaN</td>\n",
       "      <td>12.75</td>\n",
       "      <td>NaN</td>\n",
       "      <td>...</td>\n",
       "      <td>NaN</td>\n",
       "      <td>20.0</td>\n",
       "      <td>NaN</td>\n",
       "      <td>NaN</td>\n",
       "      <td>NaN</td>\n",
       "      <td>NaN</td>\n",
       "      <td>NaN</td>\n",
       "      <td>0.70</td>\n",
       "      <td>4.17</td>\n",
       "      <td>NaN</td>\n",
       "    </tr>\n",
       "    <tr>\n",
       "      <th>2007-05-31</th>\n",
       "      <td>NaN</td>\n",
       "      <td>1.55</td>\n",
       "      <td>NaN</td>\n",
       "      <td>NaN</td>\n",
       "      <td>NaN</td>\n",
       "      <td>NaN</td>\n",
       "      <td>NaN</td>\n",
       "      <td>NaN</td>\n",
       "      <td>13.75</td>\n",
       "      <td>NaN</td>\n",
       "      <td>...</td>\n",
       "      <td>NaN</td>\n",
       "      <td>20.0</td>\n",
       "      <td>NaN</td>\n",
       "      <td>NaN</td>\n",
       "      <td>NaN</td>\n",
       "      <td>NaN</td>\n",
       "      <td>NaN</td>\n",
       "      <td>0.70</td>\n",
       "      <td>4.17</td>\n",
       "      <td>NaN</td>\n",
       "    </tr>\n",
       "    <tr>\n",
       "      <th>...</th>\n",
       "      <td>...</td>\n",
       "      <td>...</td>\n",
       "      <td>...</td>\n",
       "      <td>...</td>\n",
       "      <td>...</td>\n",
       "      <td>...</td>\n",
       "      <td>...</td>\n",
       "      <td>...</td>\n",
       "      <td>...</td>\n",
       "      <td>...</td>\n",
       "      <td>...</td>\n",
       "      <td>...</td>\n",
       "      <td>...</td>\n",
       "      <td>...</td>\n",
       "      <td>...</td>\n",
       "      <td>...</td>\n",
       "      <td>...</td>\n",
       "      <td>...</td>\n",
       "      <td>...</td>\n",
       "      <td>...</td>\n",
       "      <td>...</td>\n",
       "    </tr>\n",
       "    <tr>\n",
       "      <th>2020-11-30</th>\n",
       "      <td>8.62</td>\n",
       "      <td>0.90</td>\n",
       "      <td>2.82</td>\n",
       "      <td>7.00</td>\n",
       "      <td>2.2</td>\n",
       "      <td>10.0</td>\n",
       "      <td>23.0</td>\n",
       "      <td>86.0</td>\n",
       "      <td>33.50</td>\n",
       "      <td>31.5</td>\n",
       "      <td>...</td>\n",
       "      <td>1.0</td>\n",
       "      <td>40.0</td>\n",
       "      <td>1.08</td>\n",
       "      <td>NaN</td>\n",
       "      <td>15.75</td>\n",
       "      <td>85.00</td>\n",
       "      <td>87.0</td>\n",
       "      <td>0.65</td>\n",
       "      <td>1.80</td>\n",
       "      <td>27.00</td>\n",
       "    </tr>\n",
       "    <tr>\n",
       "      <th>2020-12-30</th>\n",
       "      <td>8.62</td>\n",
       "      <td>0.90</td>\n",
       "      <td>2.82</td>\n",
       "      <td>6.75</td>\n",
       "      <td>2.2</td>\n",
       "      <td>10.0</td>\n",
       "      <td>23.0</td>\n",
       "      <td>100.0</td>\n",
       "      <td>31.91</td>\n",
       "      <td>31.5</td>\n",
       "      <td>...</td>\n",
       "      <td>1.0</td>\n",
       "      <td>40.0</td>\n",
       "      <td>1.16</td>\n",
       "      <td>NaN</td>\n",
       "      <td>15.75</td>\n",
       "      <td>84.00</td>\n",
       "      <td>87.0</td>\n",
       "      <td>0.65</td>\n",
       "      <td>1.80</td>\n",
       "      <td>27.00</td>\n",
       "    </tr>\n",
       "    <tr>\n",
       "      <th>2021-01-29</th>\n",
       "      <td>8.62</td>\n",
       "      <td>0.90</td>\n",
       "      <td>2.82</td>\n",
       "      <td>6.75</td>\n",
       "      <td>2.2</td>\n",
       "      <td>10.0</td>\n",
       "      <td>23.0</td>\n",
       "      <td>100.0</td>\n",
       "      <td>31.91</td>\n",
       "      <td>31.5</td>\n",
       "      <td>...</td>\n",
       "      <td>1.0</td>\n",
       "      <td>40.0</td>\n",
       "      <td>1.10</td>\n",
       "      <td>1.7</td>\n",
       "      <td>15.05</td>\n",
       "      <td>85.00</td>\n",
       "      <td>87.0</td>\n",
       "      <td>0.65</td>\n",
       "      <td>1.80</td>\n",
       "      <td>25.68</td>\n",
       "    </tr>\n",
       "    <tr>\n",
       "      <th>2021-02-26</th>\n",
       "      <td>8.62</td>\n",
       "      <td>0.90</td>\n",
       "      <td>2.82</td>\n",
       "      <td>6.75</td>\n",
       "      <td>2.2</td>\n",
       "      <td>10.0</td>\n",
       "      <td>23.0</td>\n",
       "      <td>98.0</td>\n",
       "      <td>31.91</td>\n",
       "      <td>31.5</td>\n",
       "      <td>...</td>\n",
       "      <td>1.0</td>\n",
       "      <td>40.0</td>\n",
       "      <td>1.12</td>\n",
       "      <td>1.7</td>\n",
       "      <td>15.05</td>\n",
       "      <td>85.00</td>\n",
       "      <td>87.0</td>\n",
       "      <td>0.65</td>\n",
       "      <td>1.80</td>\n",
       "      <td>25.68</td>\n",
       "    </tr>\n",
       "    <tr>\n",
       "      <th>2021-03-31</th>\n",
       "      <td>8.62</td>\n",
       "      <td>0.90</td>\n",
       "      <td>2.82</td>\n",
       "      <td>7.00</td>\n",
       "      <td>2.2</td>\n",
       "      <td>10.0</td>\n",
       "      <td>23.0</td>\n",
       "      <td>94.0</td>\n",
       "      <td>31.91</td>\n",
       "      <td>31.5</td>\n",
       "      <td>...</td>\n",
       "      <td>1.0</td>\n",
       "      <td>40.0</td>\n",
       "      <td>1.00</td>\n",
       "      <td>1.7</td>\n",
       "      <td>15.05</td>\n",
       "      <td>84.95</td>\n",
       "      <td>87.0</td>\n",
       "      <td>0.65</td>\n",
       "      <td>1.80</td>\n",
       "      <td>25.68</td>\n",
       "    </tr>\n",
       "  </tbody>\n",
       "</table>\n",
       "<p>140 rows × 61 columns</p>\n",
       "</div>"
      ],
      "text/plain": [
       "            CORPORACION MULTI BG  BANCO BOLIVARIANO  VALLE GRANDE FORESTAL  \\\n",
       "FECHA                                                                        \n",
       "2007-01-31                   NaN               1.10                    NaN   \n",
       "2007-02-28                   NaN               1.50                    NaN   \n",
       "2007-03-30                   NaN               1.50                    NaN   \n",
       "2007-04-30                   NaN               1.55                    NaN   \n",
       "2007-05-31                   NaN               1.55                    NaN   \n",
       "...                          ...                ...                    ...   \n",
       "2020-11-30                  8.62               0.90                   2.82   \n",
       "2020-12-30                  8.62               0.90                   2.82   \n",
       "2021-01-29                  8.62               0.90                   2.82   \n",
       "2021-02-26                  8.62               0.90                   2.82   \n",
       "2021-03-31                  8.62               0.90                   2.82   \n",
       "\n",
       "            NATLUK S.A.  \\\n",
       "FECHA                     \n",
       "2007-01-31          NaN   \n",
       "2007-02-28          NaN   \n",
       "2007-03-30          NaN   \n",
       "2007-04-30          NaN   \n",
       "2007-05-31          NaN   \n",
       "...                 ...   \n",
       "2020-11-30         7.00   \n",
       "2020-12-30         6.75   \n",
       "2021-01-29         6.75   \n",
       "2021-02-26         6.75   \n",
       "2021-03-31         7.00   \n",
       "\n",
       "            INGENIO AZUCARERO DEL NORTE COMPAÑIA DE ECONOMIA MIXTA IANCEM  \\\n",
       "FECHA                                                                       \n",
       "2007-01-31                                                NaN               \n",
       "2007-02-28                                                NaN               \n",
       "2007-03-30                                                NaN               \n",
       "2007-04-30                                                NaN               \n",
       "2007-05-31                                                NaN               \n",
       "...                                                       ...               \n",
       "2020-11-30                                                2.2               \n",
       "2020-12-30                                                2.2               \n",
       "2021-01-29                                                2.2               \n",
       "2021-02-26                                                2.2               \n",
       "2021-03-31                                                2.2               \n",
       "\n",
       "            ALICOSTA BK HOLDING  EL SENDERO FORESTAL PATHFOREST   \\\n",
       "FECHA                                                              \n",
       "2007-01-31                  NaN                              NaN   \n",
       "2007-02-28                  NaN                              NaN   \n",
       "2007-03-30                  NaN                              NaN   \n",
       "2007-04-30                  NaN                              NaN   \n",
       "2007-05-31                  NaN                              NaN   \n",
       "...                         ...                              ...   \n",
       "2020-11-30                 10.0                             23.0   \n",
       "2020-12-30                 10.0                             23.0   \n",
       "2021-01-29                 10.0                             23.0   \n",
       "2021-02-26                 10.0                             23.0   \n",
       "2021-03-31                 10.0                             23.0   \n",
       "\n",
       "            BANCO PICHINCHA  CERRO VERDE FORESTAL BIGFOREST  \\\n",
       "FECHA                                                         \n",
       "2007-01-31              NaN                           13.00   \n",
       "2007-02-28              NaN                           13.00   \n",
       "2007-03-30              NaN                           13.00   \n",
       "2007-04-30              NaN                           12.75   \n",
       "2007-05-31              NaN                           13.75   \n",
       "...                     ...                             ...   \n",
       "2020-11-30             86.0                           33.50   \n",
       "2020-12-30            100.0                           31.91   \n",
       "2021-01-29            100.0                           31.91   \n",
       "2021-02-26             98.0                           31.91   \n",
       "2021-03-31             94.0                           31.91   \n",
       "\n",
       "            LA CAMPIÑA FORESTAL STRONGFOREST S.A.  ...  CEPSA  \\\n",
       "FECHA                                              ...          \n",
       "2007-01-31                                    NaN  ...    NaN   \n",
       "2007-02-28                                    NaN  ...    NaN   \n",
       "2007-03-30                                    NaN  ...    NaN   \n",
       "2007-04-30                                    NaN  ...    NaN   \n",
       "2007-05-31                                    NaN  ...    NaN   \n",
       "...                                           ...  ...    ...   \n",
       "2020-11-30                                   31.5  ...    1.0   \n",
       "2020-12-30                                   31.5  ...    1.0   \n",
       "2021-01-29                                   31.5  ...    1.0   \n",
       "2021-02-26                                   31.5  ...    1.0   \n",
       "2021-03-31                                   31.5  ...    1.0   \n",
       "\n",
       "            RIO CONGO FORESTAL  \\\n",
       "FECHA                            \n",
       "2007-01-31                20.0   \n",
       "2007-02-28                20.0   \n",
       "2007-03-30                20.0   \n",
       "2007-04-30                20.0   \n",
       "2007-05-31                20.0   \n",
       "...                        ...   \n",
       "2020-11-30                40.0   \n",
       "2020-12-30                40.0   \n",
       "2021-01-29                40.0   \n",
       "2021-02-26                40.0   \n",
       "2021-03-31                40.0   \n",
       "\n",
       "            BOLSA DE VALORES DE QUITO BVQ SOCIEDAD ANÓNIMA  SIEMPREVERDE S.A.  \\\n",
       "FECHA                                                                           \n",
       "2007-01-31                                             NaN                NaN   \n",
       "2007-02-28                                             NaN                NaN   \n",
       "2007-03-30                                             NaN                NaN   \n",
       "2007-04-30                                             NaN                NaN   \n",
       "2007-05-31                                             NaN                NaN   \n",
       "...                                                    ...                ...   \n",
       "2020-11-30                                            1.08                NaN   \n",
       "2020-12-30                                            1.16                NaN   \n",
       "2021-01-29                                            1.10                1.7   \n",
       "2021-02-26                                            1.12                1.7   \n",
       "2021-03-31                                            1.00                1.7   \n",
       "\n",
       "            CERRO ALTO FORESTAL  CERVECERIA NACIONAL CN S.A.  \\\n",
       "FECHA                                                          \n",
       "2007-01-31                  NaN                          NaN   \n",
       "2007-02-28                  NaN                          NaN   \n",
       "2007-03-30                  NaN                          NaN   \n",
       "2007-04-30                  NaN                          NaN   \n",
       "2007-05-31                  NaN                          NaN   \n",
       "...                         ...                          ...   \n",
       "2020-11-30                15.75                        85.00   \n",
       "2020-12-30                15.75                        84.00   \n",
       "2021-01-29                15.05                        85.00   \n",
       "2021-02-26                15.05                        85.00   \n",
       "2021-03-31                15.05                        84.95   \n",
       "\n",
       "            BEVERAGE BRAND & PATENTS COMPANY BBPC S.A  HOTEL COLON  CIALCO  \\\n",
       "FECHA                                                                        \n",
       "2007-01-31                                        NaN         0.56    4.17   \n",
       "2007-02-28                                        NaN         0.70    4.17   \n",
       "2007-03-30                                        NaN         0.70    4.17   \n",
       "2007-04-30                                        NaN         0.70    4.17   \n",
       "2007-05-31                                        NaN         0.70    4.17   \n",
       "...                                               ...          ...     ...   \n",
       "2020-11-30                                       87.0         0.65    1.80   \n",
       "2020-12-30                                       87.0         0.65    1.80   \n",
       "2021-01-29                                       87.0         0.65    1.80   \n",
       "2021-02-26                                       87.0         0.65    1.80   \n",
       "2021-03-31                                       87.0         0.65    1.80   \n",
       "\n",
       "            EL REFUGIO FORESTAL HOMEFOREST   \n",
       "FECHA                                        \n",
       "2007-01-31                              NaN  \n",
       "2007-02-28                              NaN  \n",
       "2007-03-30                              NaN  \n",
       "2007-04-30                              NaN  \n",
       "2007-05-31                              NaN  \n",
       "...                                     ...  \n",
       "2020-11-30                            27.00  \n",
       "2020-12-30                            27.00  \n",
       "2021-01-29                            25.68  \n",
       "2021-02-26                            25.68  \n",
       "2021-03-31                            25.68  \n",
       "\n",
       "[140 rows x 61 columns]"
      ]
     },
     "execution_count": 7,
     "metadata": {},
     "output_type": "execute_result"
    }
   ],
   "source": [
    "precios = pd.pivot_table(consolidado, index='FECHA', columns = consolidado.index, values='PRECIO')\n",
    "precios.ffill(inplace=True)\n",
    "precios = precios[set(cias) & set(precios.columns)]\n",
    "precios"
   ]
  },
  {
   "cell_type": "markdown",
   "metadata": {},
   "source": [
    "## Presencia bursátil\n",
    "\n",
    "Indica el grado de liquidez de la acción. Se lo calcula dividiendo el número de ruedas (sesiones de negociación) en que la acción ha sido transada en el último semestre móvil para el número de ruedas realizadas en total durante el mismo semestre móvil.\n",
    "\n",
    "> Este indicador nos será util para conocer cuales son las acciones que más se tranzan en la bolsa de valores y poder conformar nuestro portafolio de análisis posteriormente.\n",
    "\n",
    "El siguiente programa generará la tabla de presencia bursátil que necesitamos, en el cual aplicaremos algunos filtros necesarios:"
   ]
  },
  {
   "cell_type": "code",
   "execution_count": 8,
   "metadata": {},
   "outputs": [
    {
     "data": {
      "text/html": [
       "<style  type=\"text/css\" >\n",
       "    #T_5dcd1_ th {\n",
       "          text-align: left;\n",
       "    }</style><table id=\"T_5dcd1_\" ><thead>    <tr>        <th class=\"blank level0\" ></th>        <th class=\"col_heading level0 col0\" >PRESENCIA BURSATIL</th>    </tr></thead><tbody>\n",
       "                <tr>\n",
       "                        <th id=\"T_5dcd1_level0_row0\" class=\"row_heading level0 row0\" >CORPORACION FAVORITA</th>\n",
       "                        <td id=\"T_5dcd1_row0_col0\" class=\"data row0 col0\" >79%</td>\n",
       "            </tr>\n",
       "            <tr>\n",
       "                        <th id=\"T_5dcd1_level0_row1\" class=\"row_heading level0 row1\" >BANCO GUAYAQUIL</th>\n",
       "                        <td id=\"T_5dcd1_row1_col0\" class=\"data row1 col0\" >28%</td>\n",
       "            </tr>\n",
       "            <tr>\n",
       "                        <th id=\"T_5dcd1_level0_row2\" class=\"row_heading level0 row2\" >BRIKAPITAL</th>\n",
       "                        <td id=\"T_5dcd1_row2_col0\" class=\"data row2 col0\" >22%</td>\n",
       "            </tr>\n",
       "            <tr>\n",
       "                        <th id=\"T_5dcd1_level0_row3\" class=\"row_heading level0 row3\" >MUTUALISTA PICHINCHA - CERT. DE APORTACION</th>\n",
       "                        <td id=\"T_5dcd1_row3_col0\" class=\"data row3 col0\" >19%</td>\n",
       "            </tr>\n",
       "            <tr>\n",
       "                        <th id=\"T_5dcd1_level0_row4\" class=\"row_heading level0 row4\" >BANCO PICHINCHA</th>\n",
       "                        <td id=\"T_5dcd1_row4_col0\" class=\"data row4 col0\" >15%</td>\n",
       "            </tr>\n",
       "            <tr>\n",
       "                        <th id=\"T_5dcd1_level0_row5\" class=\"row_heading level0 row5\" >FIDEICOMISO HOTEL CIUDAD DEL RIO</th>\n",
       "                        <td id=\"T_5dcd1_row5_col0\" class=\"data row5 col0\" >14%</td>\n",
       "            </tr>\n",
       "            <tr>\n",
       "                        <th id=\"T_5dcd1_level0_row6\" class=\"row_heading level0 row6\" >NATLUK S.A.</th>\n",
       "                        <td id=\"T_5dcd1_row6_col0\" class=\"data row6 col0\" >14%</td>\n",
       "            </tr>\n",
       "            <tr>\n",
       "                        <th id=\"T_5dcd1_level0_row7\" class=\"row_heading level0 row7\" >HOLCIM ECUADOR VN 3.00</th>\n",
       "                        <td id=\"T_5dcd1_row7_col0\" class=\"data row7 col0\" >12%</td>\n",
       "            </tr>\n",
       "            <tr>\n",
       "                        <th id=\"T_5dcd1_level0_row8\" class=\"row_heading level0 row8\" >SOCIEDAD AGRICOLA E IND. SAN CARLOS</th>\n",
       "                        <td id=\"T_5dcd1_row8_col0\" class=\"data row8 col0\" >12%</td>\n",
       "            </tr>\n",
       "            <tr>\n",
       "                        <th id=\"T_5dcd1_level0_row9\" class=\"row_heading level0 row9\" >LA ENSENADA FORESTAL S.A. </th>\n",
       "                        <td id=\"T_5dcd1_row9_col0\" class=\"data row9 col0\" >11%</td>\n",
       "            </tr>\n",
       "            <tr>\n",
       "                        <th id=\"T_5dcd1_level0_row10\" class=\"row_heading level0 row10\" >BOLSA DE VALORES DE QUITO BVQ SOCIEDAD ANÓNIMA</th>\n",
       "                        <td id=\"T_5dcd1_row10_col0\" class=\"data row10 col0\" >11%</td>\n",
       "            </tr>\n",
       "            <tr>\n",
       "                        <th id=\"T_5dcd1_level0_row11\" class=\"row_heading level0 row11\" >BANCO PRODUBANCO</th>\n",
       "                        <td id=\"T_5dcd1_row11_col0\" class=\"data row11 col0\" >10%</td>\n",
       "            </tr>\n",
       "            <tr>\n",
       "                        <th id=\"T_5dcd1_level0_row12\" class=\"row_heading level0 row12\" >HOLDING TONICORP</th>\n",
       "                        <td id=\"T_5dcd1_row12_col0\" class=\"data row12 col0\" >9%</td>\n",
       "            </tr>\n",
       "            <tr>\n",
       "                        <th id=\"T_5dcd1_level0_row13\" class=\"row_heading level0 row13\" >FIDEICOMISO MERCANTIL  “GM HOTEL”</th>\n",
       "                        <td id=\"T_5dcd1_row13_col0\" class=\"data row13 col0\" >8%</td>\n",
       "            </tr>\n",
       "            <tr>\n",
       "                        <th id=\"T_5dcd1_level0_row14\" class=\"row_heading level0 row14\" >CERVECERIA NACIONAL CN S.A.</th>\n",
       "                        <td id=\"T_5dcd1_row14_col0\" class=\"data row14 col0\" >8%</td>\n",
       "            </tr>\n",
       "            <tr>\n",
       "                        <th id=\"T_5dcd1_level0_row15\" class=\"row_heading level0 row15\" >VALLE GRANDE FORESTAL</th>\n",
       "                        <td id=\"T_5dcd1_row15_col0\" class=\"data row15 col0\" >8%</td>\n",
       "            </tr>\n",
       "            <tr>\n",
       "                        <th id=\"T_5dcd1_level0_row16\" class=\"row_heading level0 row16\" >SURPAPELCORP</th>\n",
       "                        <td id=\"T_5dcd1_row16_col0\" class=\"data row16 col0\" >7%</td>\n",
       "            </tr>\n",
       "            <tr>\n",
       "                        <th id=\"T_5dcd1_level0_row17\" class=\"row_heading level0 row17\" >FIDEICOMISO TITULARIZACION \"OMNI HOSPITAL\"</th>\n",
       "                        <td id=\"T_5dcd1_row17_col0\" class=\"data row17 col0\" >7%</td>\n",
       "            </tr>\n",
       "            <tr>\n",
       "                        <th id=\"T_5dcd1_level0_row18\" class=\"row_heading level0 row18\" >INVERSANCARLOS</th>\n",
       "                        <td id=\"T_5dcd1_row18_col0\" class=\"data row18 col0\" >6%</td>\n",
       "            </tr>\n",
       "            <tr>\n",
       "                        <th id=\"T_5dcd1_level0_row19\" class=\"row_heading level0 row19\" >LA VANGUARDIA FORESTAR (VANGUARFOREST)</th>\n",
       "                        <td id=\"T_5dcd1_row19_col0\" class=\"data row19 col0\" >6%</td>\n",
       "            </tr>\n",
       "    </tbody></table>"
      ],
      "text/plain": [
       "<pandas.io.formats.style.Styler at 0x20a39e5b5e0>"
      ]
     },
     "execution_count": 8,
     "metadata": {},
     "output_type": "execute_result"
    }
   ],
   "source": [
    "presencia = pd.pivot_table(consolidado, index='FECHA', columns = consolidado.index, values='PRESENCIA')\n",
    "presencia = presencia[precios.columns]\n",
    "ranking_presencia = presencia.mean().sort_values(ascending=False)\n",
    "\n",
    "pd.DataFrame(ranking_presencia, columns=[\"PRESENCIA BURSATIL\"]).head(20).style.format(\"{:.0%}\").set_table_styles(\n",
    "        [dict(selector='th', props=[('text-align', 'left')])] )"
   ]
  },
  {
   "cell_type": "markdown",
   "metadata": {},
   "source": [
    "## Dividendos\n",
    "\n",
    "Habíamos dicho que además de la revalorización del precio de la acción, la otra forma de obtener ganancias con las acciones es mediante los dividendos. El *precio* ya lo tenemos en un `DataFrame` de precios, proveniente de los archivos en excel que descargamos inicialmente, de donde también se obtuvo la tabla de *Presencia Bursátil*.\n",
    "\n",
    "Para obtener la información referente al reparto de dividendos, es necesario extraer los datos desde otro apartado web, que es el de [Dividendos Entregados](https://www.bolsadevaloresguayaquil.com/dividendos/). En esta página obtendremos además información referente al aumento de capital (capitalización de acciones) y de aumento/disminución de acciones, con lo cual saber si se ha ejecutado un split en algún momento.\n",
    "\n",
    "Con el siguiente código se extrae la información contenida en esa página web, además de limpiar y formatear los datos para poder utilizarlos posteriormente."
   ]
  },
  {
   "cell_type": "code",
   "execution_count": 9,
   "metadata": {},
   "outputs": [
    {
     "data": {
      "text/html": [
       "<div>\n",
       "<style scoped>\n",
       "    .dataframe tbody tr th:only-of-type {\n",
       "        vertical-align: middle;\n",
       "    }\n",
       "\n",
       "    .dataframe tbody tr th {\n",
       "        vertical-align: top;\n",
       "    }\n",
       "\n",
       "    .dataframe thead th {\n",
       "        text-align: right;\n",
       "    }\n",
       "</style>\n",
       "<table border=\"1\" class=\"dataframe\">\n",
       "  <thead>\n",
       "    <tr style=\"text-align: right;\">\n",
       "      <th></th>\n",
       "      <th></th>\n",
       "      <th>#ACCIONES ANTESDEL EVENTO</th>\n",
       "      <th>#ACCIONES DESPUÉSDEL EVENTO</th>\n",
       "      <th>% DIVIDENDO ACCIÓN</th>\n",
       "      <th>BPA</th>\n",
       "      <th>CAPITAL ANTERIORAL EVENTO</th>\n",
       "      <th>CAPITAL LUEGODEL EVENTO</th>\n",
       "      <th>DIVIDENDO EFECTIVOPOR ACCIÓN</th>\n",
       "      <th>DIVIDENDO EFECTIVOTOTAL</th>\n",
       "      <th>DIVIDENDO PORACCIÓN</th>\n",
       "      <th>SUSCRIPCIÓNNUEVAS ACCIONES</th>\n",
       "      <th>VALOR NOMINALUNITARIO</th>\n",
       "    </tr>\n",
       "    <tr>\n",
       "      <th>EMISOR</th>\n",
       "      <th>FECHA</th>\n",
       "      <th></th>\n",
       "      <th></th>\n",
       "      <th></th>\n",
       "      <th></th>\n",
       "      <th></th>\n",
       "      <th></th>\n",
       "      <th></th>\n",
       "      <th></th>\n",
       "      <th></th>\n",
       "      <th></th>\n",
       "      <th></th>\n",
       "    </tr>\n",
       "  </thead>\n",
       "  <tbody>\n",
       "    <tr>\n",
       "      <th rowspan=\"5\" valign=\"top\">ALICOSTA  BK HOLDING S.A.</th>\n",
       "      <th>2014-03-25</th>\n",
       "      <td>235000</td>\n",
       "      <td>235000</td>\n",
       "      <td>NaN</td>\n",
       "      <td>0.262830</td>\n",
       "      <td>235000.0</td>\n",
       "      <td>235000.0</td>\n",
       "      <td>0.26</td>\n",
       "      <td>61765.00</td>\n",
       "      <td>NaN</td>\n",
       "      <td>NaN</td>\n",
       "      <td>1.0</td>\n",
       "    </tr>\n",
       "    <tr>\n",
       "      <th>2015-03-31</th>\n",
       "      <td>235000</td>\n",
       "      <td>235000</td>\n",
       "      <td>NaN</td>\n",
       "      <td>0.554404</td>\n",
       "      <td>235000.0</td>\n",
       "      <td>235000.0</td>\n",
       "      <td>0.55</td>\n",
       "      <td>130285.00</td>\n",
       "      <td>NaN</td>\n",
       "      <td>NaN</td>\n",
       "      <td>1.0</td>\n",
       "    </tr>\n",
       "    <tr>\n",
       "      <th>2016-03-29</th>\n",
       "      <td>235000</td>\n",
       "      <td>235000</td>\n",
       "      <td>NaN</td>\n",
       "      <td>0.253498</td>\n",
       "      <td>235000.0</td>\n",
       "      <td>235000.0</td>\n",
       "      <td>0.25</td>\n",
       "      <td>59572.00</td>\n",
       "      <td>NaN</td>\n",
       "      <td>NaN</td>\n",
       "      <td>1.0</td>\n",
       "    </tr>\n",
       "    <tr>\n",
       "      <th>2017-03-28</th>\n",
       "      <td>235000</td>\n",
       "      <td>235000</td>\n",
       "      <td>NaN</td>\n",
       "      <td>0.154761</td>\n",
       "      <td>235000.0</td>\n",
       "      <td>235000.0</td>\n",
       "      <td>0.15</td>\n",
       "      <td>36368.78</td>\n",
       "      <td>NaN</td>\n",
       "      <td>NaN</td>\n",
       "      <td>1.0</td>\n",
       "    </tr>\n",
       "    <tr>\n",
       "      <th>2018-03-28</th>\n",
       "      <td>235000</td>\n",
       "      <td>235000</td>\n",
       "      <td>NaN</td>\n",
       "      <td>0.253292</td>\n",
       "      <td>235000.0</td>\n",
       "      <td>235000.0</td>\n",
       "      <td>0.25</td>\n",
       "      <td>59523.57</td>\n",
       "      <td>NaN</td>\n",
       "      <td>NaN</td>\n",
       "      <td>1.0</td>\n",
       "    </tr>\n",
       "    <tr>\n",
       "      <th>...</th>\n",
       "      <th>...</th>\n",
       "      <td>...</td>\n",
       "      <td>...</td>\n",
       "      <td>...</td>\n",
       "      <td>...</td>\n",
       "      <td>...</td>\n",
       "      <td>...</td>\n",
       "      <td>...</td>\n",
       "      <td>...</td>\n",
       "      <td>...</td>\n",
       "      <td>...</td>\n",
       "      <td>...</td>\n",
       "    </tr>\n",
       "    <tr>\n",
       "      <th rowspan=\"3\" valign=\"top\">SURPAPELCORP  S.A.</th>\n",
       "      <th>2017-04-05</th>\n",
       "      <td>25677000</td>\n",
       "      <td>25677000</td>\n",
       "      <td>NaN</td>\n",
       "      <td>0.000000</td>\n",
       "      <td>25677000.0</td>\n",
       "      <td>50128485.0</td>\n",
       "      <td>NaN</td>\n",
       "      <td>NaN</td>\n",
       "      <td>NaN</td>\n",
       "      <td>24451485.0</td>\n",
       "      <td>1.0</td>\n",
       "    </tr>\n",
       "    <tr>\n",
       "      <th>2017-06-08</th>\n",
       "      <td>50128485</td>\n",
       "      <td>50128485</td>\n",
       "      <td>NaN</td>\n",
       "      <td>0.025482</td>\n",
       "      <td>50128485.0</td>\n",
       "      <td>50128485.0</td>\n",
       "      <td>0.03</td>\n",
       "      <td>1277388.61</td>\n",
       "      <td>NaN</td>\n",
       "      <td>NaN</td>\n",
       "      <td>1.0</td>\n",
       "    </tr>\n",
       "    <tr>\n",
       "      <th>2018-06-08</th>\n",
       "      <td>50128485</td>\n",
       "      <td>50128485</td>\n",
       "      <td>NaN</td>\n",
       "      <td>0.022317</td>\n",
       "      <td>50128485.0</td>\n",
       "      <td>50128485.0</td>\n",
       "      <td>0.02</td>\n",
       "      <td>1118700.64</td>\n",
       "      <td>NaN</td>\n",
       "      <td>NaN</td>\n",
       "      <td>1.0</td>\n",
       "    </tr>\n",
       "    <tr>\n",
       "      <th rowspan=\"2\" valign=\"top\">VALLE  GRANDE FORESTAL (VALLEYFOREST) S.A.</th>\n",
       "      <th>2019-03-26</th>\n",
       "      <td>1700000</td>\n",
       "      <td>1700000</td>\n",
       "      <td>NaN</td>\n",
       "      <td>0.001064</td>\n",
       "      <td>1700000.0</td>\n",
       "      <td>1700000.0</td>\n",
       "      <td>0.00</td>\n",
       "      <td>1808.63</td>\n",
       "      <td>NaN</td>\n",
       "      <td>NaN</td>\n",
       "      <td>1.0</td>\n",
       "    </tr>\n",
       "    <tr>\n",
       "      <th>2020-07-17</th>\n",
       "      <td>1700000</td>\n",
       "      <td>1700000</td>\n",
       "      <td>NaN</td>\n",
       "      <td>0.000000</td>\n",
       "      <td>1700000.0</td>\n",
       "      <td>1700000.0</td>\n",
       "      <td>NaN</td>\n",
       "      <td>NaN</td>\n",
       "      <td>NaN</td>\n",
       "      <td>NaN</td>\n",
       "      <td>1.0</td>\n",
       "    </tr>\n",
       "  </tbody>\n",
       "</table>\n",
       "<p>701 rows × 11 columns</p>\n",
       "</div>"
      ],
      "text/plain": [
       "                                                       #ACCIONES ANTESDEL EVENTO  \\\n",
       "EMISOR                                     FECHA                                   \n",
       "ALICOSTA  BK HOLDING S.A.                  2014-03-25                     235000   \n",
       "                                           2015-03-31                     235000   \n",
       "                                           2016-03-29                     235000   \n",
       "                                           2017-03-28                     235000   \n",
       "                                           2018-03-28                     235000   \n",
       "...                                                                          ...   \n",
       "SURPAPELCORP  S.A.                         2017-04-05                   25677000   \n",
       "                                           2017-06-08                   50128485   \n",
       "                                           2018-06-08                   50128485   \n",
       "VALLE  GRANDE FORESTAL (VALLEYFOREST) S.A. 2019-03-26                    1700000   \n",
       "                                           2020-07-17                    1700000   \n",
       "\n",
       "                                                       #ACCIONES DESPUÉSDEL EVENTO  \\\n",
       "EMISOR                                     FECHA                                     \n",
       "ALICOSTA  BK HOLDING S.A.                  2014-03-25                       235000   \n",
       "                                           2015-03-31                       235000   \n",
       "                                           2016-03-29                       235000   \n",
       "                                           2017-03-28                       235000   \n",
       "                                           2018-03-28                       235000   \n",
       "...                                                                            ...   \n",
       "SURPAPELCORP  S.A.                         2017-04-05                     25677000   \n",
       "                                           2017-06-08                     50128485   \n",
       "                                           2018-06-08                     50128485   \n",
       "VALLE  GRANDE FORESTAL (VALLEYFOREST) S.A. 2019-03-26                      1700000   \n",
       "                                           2020-07-17                      1700000   \n",
       "\n",
       "                                                       % DIVIDENDO ACCIÓN  \\\n",
       "EMISOR                                     FECHA                            \n",
       "ALICOSTA  BK HOLDING S.A.                  2014-03-25                 NaN   \n",
       "                                           2015-03-31                 NaN   \n",
       "                                           2016-03-29                 NaN   \n",
       "                                           2017-03-28                 NaN   \n",
       "                                           2018-03-28                 NaN   \n",
       "...                                                                   ...   \n",
       "SURPAPELCORP  S.A.                         2017-04-05                 NaN   \n",
       "                                           2017-06-08                 NaN   \n",
       "                                           2018-06-08                 NaN   \n",
       "VALLE  GRANDE FORESTAL (VALLEYFOREST) S.A. 2019-03-26                 NaN   \n",
       "                                           2020-07-17                 NaN   \n",
       "\n",
       "                                                            BPA  \\\n",
       "EMISOR                                     FECHA                  \n",
       "ALICOSTA  BK HOLDING S.A.                  2014-03-25  0.262830   \n",
       "                                           2015-03-31  0.554404   \n",
       "                                           2016-03-29  0.253498   \n",
       "                                           2017-03-28  0.154761   \n",
       "                                           2018-03-28  0.253292   \n",
       "...                                                         ...   \n",
       "SURPAPELCORP  S.A.                         2017-04-05  0.000000   \n",
       "                                           2017-06-08  0.025482   \n",
       "                                           2018-06-08  0.022317   \n",
       "VALLE  GRANDE FORESTAL (VALLEYFOREST) S.A. 2019-03-26  0.001064   \n",
       "                                           2020-07-17  0.000000   \n",
       "\n",
       "                                                       CAPITAL ANTERIORAL EVENTO  \\\n",
       "EMISOR                                     FECHA                                   \n",
       "ALICOSTA  BK HOLDING S.A.                  2014-03-25                   235000.0   \n",
       "                                           2015-03-31                   235000.0   \n",
       "                                           2016-03-29                   235000.0   \n",
       "                                           2017-03-28                   235000.0   \n",
       "                                           2018-03-28                   235000.0   \n",
       "...                                                                          ...   \n",
       "SURPAPELCORP  S.A.                         2017-04-05                 25677000.0   \n",
       "                                           2017-06-08                 50128485.0   \n",
       "                                           2018-06-08                 50128485.0   \n",
       "VALLE  GRANDE FORESTAL (VALLEYFOREST) S.A. 2019-03-26                  1700000.0   \n",
       "                                           2020-07-17                  1700000.0   \n",
       "\n",
       "                                                       CAPITAL LUEGODEL EVENTO  \\\n",
       "EMISOR                                     FECHA                                 \n",
       "ALICOSTA  BK HOLDING S.A.                  2014-03-25                 235000.0   \n",
       "                                           2015-03-31                 235000.0   \n",
       "                                           2016-03-29                 235000.0   \n",
       "                                           2017-03-28                 235000.0   \n",
       "                                           2018-03-28                 235000.0   \n",
       "...                                                                        ...   \n",
       "SURPAPELCORP  S.A.                         2017-04-05               50128485.0   \n",
       "                                           2017-06-08               50128485.0   \n",
       "                                           2018-06-08               50128485.0   \n",
       "VALLE  GRANDE FORESTAL (VALLEYFOREST) S.A. 2019-03-26                1700000.0   \n",
       "                                           2020-07-17                1700000.0   \n",
       "\n",
       "                                                       DIVIDENDO EFECTIVOPOR ACCIÓN  \\\n",
       "EMISOR                                     FECHA                                      \n",
       "ALICOSTA  BK HOLDING S.A.                  2014-03-25                          0.26   \n",
       "                                           2015-03-31                          0.55   \n",
       "                                           2016-03-29                          0.25   \n",
       "                                           2017-03-28                          0.15   \n",
       "                                           2018-03-28                          0.25   \n",
       "...                                                                             ...   \n",
       "SURPAPELCORP  S.A.                         2017-04-05                           NaN   \n",
       "                                           2017-06-08                          0.03   \n",
       "                                           2018-06-08                          0.02   \n",
       "VALLE  GRANDE FORESTAL (VALLEYFOREST) S.A. 2019-03-26                          0.00   \n",
       "                                           2020-07-17                           NaN   \n",
       "\n",
       "                                                       DIVIDENDO EFECTIVOTOTAL  \\\n",
       "EMISOR                                     FECHA                                 \n",
       "ALICOSTA  BK HOLDING S.A.                  2014-03-25                 61765.00   \n",
       "                                           2015-03-31                130285.00   \n",
       "                                           2016-03-29                 59572.00   \n",
       "                                           2017-03-28                 36368.78   \n",
       "                                           2018-03-28                 59523.57   \n",
       "...                                                                        ...   \n",
       "SURPAPELCORP  S.A.                         2017-04-05                      NaN   \n",
       "                                           2017-06-08               1277388.61   \n",
       "                                           2018-06-08               1118700.64   \n",
       "VALLE  GRANDE FORESTAL (VALLEYFOREST) S.A. 2019-03-26                  1808.63   \n",
       "                                           2020-07-17                      NaN   \n",
       "\n",
       "                                                       DIVIDENDO PORACCIÓN  \\\n",
       "EMISOR                                     FECHA                             \n",
       "ALICOSTA  BK HOLDING S.A.                  2014-03-25                  NaN   \n",
       "                                           2015-03-31                  NaN   \n",
       "                                           2016-03-29                  NaN   \n",
       "                                           2017-03-28                  NaN   \n",
       "                                           2018-03-28                  NaN   \n",
       "...                                                                    ...   \n",
       "SURPAPELCORP  S.A.                         2017-04-05                  NaN   \n",
       "                                           2017-06-08                  NaN   \n",
       "                                           2018-06-08                  NaN   \n",
       "VALLE  GRANDE FORESTAL (VALLEYFOREST) S.A. 2019-03-26                  NaN   \n",
       "                                           2020-07-17                  NaN   \n",
       "\n",
       "                                                       SUSCRIPCIÓNNUEVAS ACCIONES  \\\n",
       "EMISOR                                     FECHA                                    \n",
       "ALICOSTA  BK HOLDING S.A.                  2014-03-25                         NaN   \n",
       "                                           2015-03-31                         NaN   \n",
       "                                           2016-03-29                         NaN   \n",
       "                                           2017-03-28                         NaN   \n",
       "                                           2018-03-28                         NaN   \n",
       "...                                                                           ...   \n",
       "SURPAPELCORP  S.A.                         2017-04-05                  24451485.0   \n",
       "                                           2017-06-08                         NaN   \n",
       "                                           2018-06-08                         NaN   \n",
       "VALLE  GRANDE FORESTAL (VALLEYFOREST) S.A. 2019-03-26                         NaN   \n",
       "                                           2020-07-17                         NaN   \n",
       "\n",
       "                                                       VALOR NOMINALUNITARIO  \n",
       "EMISOR                                     FECHA                              \n",
       "ALICOSTA  BK HOLDING S.A.                  2014-03-25                    1.0  \n",
       "                                           2015-03-31                    1.0  \n",
       "                                           2016-03-29                    1.0  \n",
       "                                           2017-03-28                    1.0  \n",
       "                                           2018-03-28                    1.0  \n",
       "...                                                                      ...  \n",
       "SURPAPELCORP  S.A.                         2017-04-05                    1.0  \n",
       "                                           2017-06-08                    1.0  \n",
       "                                           2018-06-08                    1.0  \n",
       "VALLE  GRANDE FORESTAL (VALLEYFOREST) S.A. 2019-03-26                    1.0  \n",
       "                                           2020-07-17                    1.0  \n",
       "\n",
       "[701 rows x 11 columns]"
      ]
     },
     "execution_count": 9,
     "metadata": {},
     "output_type": "execute_result"
    }
   ],
   "source": [
    "url = \"https://www.bolsadevaloresguayaquil.com/dividendos/\"\n",
    "\n",
    "list_div = pd.read_html(url)\n",
    "div = pd.concat(list_div)\n",
    "\n",
    "meses = {'Ene':'01', 'Feb':'02', 'Mar':'03', 'Abr':'04', 'May':'05', 'Jun':'06',\n",
    "             'Jul':'07', 'Ago':'08', 'Sep':'09', 'Oct':'10', 'Nov':'11', 'Dic':'12'}\n",
    "\n",
    "div['#ACCIONES ANTESDEL EVENTO'].fillna(method='ffill', inplace=True) #Hay un valor perdido en este campo\n",
    "div['FECHA'] = div['FECHA'].apply(lambda x: x.replace(x[3:6], meses[x[3:6]]))\n",
    "div['FECHA'] = pd.to_datetime(div['FECHA'], format='%d/%m/%Y')\n",
    "div['EMISOR'].ffill(inplace=True)\n",
    "div['BPA'] = div['DIVIDENDO EFECTIVOTOTAL'] / div['#ACCIONES ANTESDEL EVENTO']\n",
    "div['BPA'].fillna(0, inplace=True)\n",
    "\n",
    "pivot_div = pd.pivot_table(div, index=['EMISOR', 'FECHA'])\n",
    "pivot_div = pivot_div.astype({'#ACCIONES ANTESDEL EVENTO': 'int', '#ACCIONES DESPUÉSDEL EVENTO': 'int'})\n",
    "pivot_div "
   ]
  },
  {
   "cell_type": "markdown",
   "metadata": {},
   "source": [
    "> Llegado a este punto, tenemos ya toda nuestra información disponible para realizar nuestro análisis, pues tenemos listas nuestras 3 tablas:\n",
    "    > * **Precios** : precios\n",
    "    > * **Presencia Bursátil** : ranking_presencia\n",
    "    > * **Dividendos** : pivot_div\n",
    "\n",
    "Necesitamos cruzar información desde una tabla a otra, en este caso llevar los precios hacia la tabla de dividendos. Habíamos comentado antes de la rusticidad de la información y de lo \"sucia\" y no estandarizada. Pues aquí se presenta un problema, pues para cruzar información desde una tabla a otra se necesita un campo en común (un ID) para poder referenciar bien el cruze de datos. En otras bolsas del mundo esto se consigue a través del `Ticker` que es una abreviatura única para poder identicar a cada acción. En el caso ecuatoriano, no solo que no hay tickers, además los nombres de las compañias difieren entre tablas. Para ejemplificar, se muestran estos 3 casos, aunque casi todos acusan de este problema.\n",
    "\n",
    "| NOMBRE EN TABLA DE PRECIOS | NOMBRE EN TABLA DE DIVIDENDOS         |\n",
    "|----------------------------|---------------------------------------|\n",
    "| BANCO PRODUBANCO           | BANCO DE LA PRODUCCION S.A PRODUBANCO |\n",
    "| CORPORACION FAVORITA       | CORPORACION FAVORITA C.A.             |\n",
    "| CRIDESA                    | CRISTALERIA DEL ECUADOR S.A. CRIDESA  |\n",
    "\n",
    "Para solucionar este inconveniente he creado el siguiente programa que crea un diccionario que hace *match* entre nombres prácticamente iguales, para esto se implementan algunos artificios como la eliminación de ciertas palabras \"vacías\" para luego evaluar coincidencias."
   ]
  },
  {
   "cell_type": "code",
   "execution_count": 10,
   "metadata": {},
   "outputs": [],
   "source": [
    "# creando un diccionario que haga match entre nombres de cias de tablas\n",
    "\n",
    "cias_div = np.unique(div.EMISOR.values)\n",
    "cias_pre = ranking_presencia.index\n",
    "\n",
    "d = {i:{} for i in cias_div}\n",
    "\n",
    "for i in d:\n",
    "    for j in cias_pre:\n",
    "        pal_div = [pal for pal in i.split() if pal != 'S.A.' and len(pal) > 3 and '.' not in pal]\n",
    "        pal_pre = [pal for pal in j.split() if pal != 'S.A.' and len(pal) > 3 and '.' not in pal]\n",
    "        \n",
    "        if len(pal_pre) != 0:\n",
    "            d[i][j]=len(set(pal_div) & set(pal_pre))/len(pal_pre)\n",
    "        else:\n",
    "            d[i][j]='ERROR'\n",
    "\n",
    "dicc_nombres = {i:j for i in d for j in d[i] if d[i][j] == 1}"
   ]
  },
  {
   "cell_type": "markdown",
   "metadata": {},
   "source": [
    "Extraemos una muestra de 10 pares de nombres para comprobar que el programa cumpla perfectamente con su cometido:"
   ]
  },
  {
   "cell_type": "code",
   "execution_count": 11,
   "metadata": {},
   "outputs": [
    {
     "data": {
      "text/html": [
       "<div>\n",
       "<style scoped>\n",
       "    .dataframe tbody tr th:only-of-type {\n",
       "        vertical-align: middle;\n",
       "    }\n",
       "\n",
       "    .dataframe tbody tr th {\n",
       "        vertical-align: top;\n",
       "    }\n",
       "\n",
       "    .dataframe thead th {\n",
       "        text-align: right;\n",
       "    }\n",
       "</style>\n",
       "<table border=\"1\" class=\"dataframe\">\n",
       "  <thead>\n",
       "    <tr style=\"text-align: right;\">\n",
       "      <th></th>\n",
       "      <th></th>\n",
       "    </tr>\n",
       "  </thead>\n",
       "  <tbody>\n",
       "    <tr>\n",
       "      <th>SURPAPELCORP</th>\n",
       "      <td>SURPAPELCORP  S.A.</td>\n",
       "    </tr>\n",
       "    <tr>\n",
       "      <th>CORPORACION FAVORITA</th>\n",
       "      <td>CORPORACION  FAVORITA C.A.</td>\n",
       "    </tr>\n",
       "    <tr>\n",
       "      <th>SOCIEDAD AGRICOLA E IND. SAN CARLOS</th>\n",
       "      <td>SOCIEDAD  AGRICOLA E INDUSTRIAL SAN CARLOS S.A.</td>\n",
       "    </tr>\n",
       "    <tr>\n",
       "      <th>HOTEL COLON</th>\n",
       "      <td>HOTEL  COLON INTERNACIONAL C.A.</td>\n",
       "    </tr>\n",
       "    <tr>\n",
       "      <th>LA ENSENADA FORESTAL S.A.</th>\n",
       "      <td>LA  ENSENADA FORESTAL (COVEFOREST) S.A.</td>\n",
       "    </tr>\n",
       "    <tr>\n",
       "      <th>MERIZA</th>\n",
       "      <td>MERIZA  S.A</td>\n",
       "    </tr>\n",
       "    <tr>\n",
       "      <th>INDUSTRIAS ALES</th>\n",
       "      <td>INDUSTRIAS  ALES C.A.</td>\n",
       "    </tr>\n",
       "    <tr>\n",
       "      <th>BANCO PICHINCHA</th>\n",
       "      <td>BANCO  PICHINCHA C.A.</td>\n",
       "    </tr>\n",
       "    <tr>\n",
       "      <th>BANCO BOLIVARIANO</th>\n",
       "      <td>BANCO  BOLIVARIANO C.A.</td>\n",
       "    </tr>\n",
       "    <tr>\n",
       "      <th>HOLDING TONICORP</th>\n",
       "      <td>HOLDING  TONICORP S.A.</td>\n",
       "    </tr>\n",
       "  </tbody>\n",
       "</table>\n",
       "</div>"
      ],
      "text/plain": [
       "                                                                                    \n",
       "SURPAPELCORP                                                      SURPAPELCORP  S.A.\n",
       "CORPORACION FAVORITA                                      CORPORACION  FAVORITA C.A.\n",
       "SOCIEDAD AGRICOLA E IND. SAN CARLOS  SOCIEDAD  AGRICOLA E INDUSTRIAL SAN CARLOS S.A.\n",
       "HOTEL COLON                                          HOTEL  COLON INTERNACIONAL C.A.\n",
       "LA ENSENADA FORESTAL S.A.                    LA  ENSENADA FORESTAL (COVEFOREST) S.A.\n",
       "MERIZA                                                                   MERIZA  S.A\n",
       "INDUSTRIAS ALES                                                INDUSTRIAS  ALES C.A.\n",
       "BANCO PICHINCHA                                                BANCO  PICHINCHA C.A.\n",
       "BANCO BOLIVARIANO                                            BANCO  BOLIVARIANO C.A.\n",
       "HOLDING TONICORP                                              HOLDING  TONICORP S.A."
      ]
     },
     "execution_count": 11,
     "metadata": {},
     "output_type": "execute_result"
    }
   ],
   "source": [
    "pd.DataFrame(dicc_nombres.keys(), dicc_nombres.values(), columns=[\"\"]).sample(10)"
   ]
  },
  {
   "cell_type": "markdown",
   "metadata": {},
   "source": [
    "Una vez resuelto el problema de los nombres, procedemos a \"conectar\" las dos tablas a través de ellos y extraer el precio de determinado activo en determinada fecha.\n",
    "\n",
    "> Como ya habíamos comentado anteriormente, al no ser fechas continuas, sino que en la tabla de precios la periodicidad es mensual, las fechas contenidas en la tabla de dividendos dificilmente van a coincidir con las fechas en la tabla de precios, así que lo más conveniente es coger el precio de la fecha más cercana. Esto se puede observar en la implementación del algoritmo que se muestra a continuación donde se usa `method='nearest'`."
   ]
  },
  {
   "cell_type": "code",
   "execution_count": 12,
   "metadata": {},
   "outputs": [],
   "source": [
    "# obtener precio de acciones \n",
    "\n",
    "precios_data = []\n",
    "for emisor, fecha in pivot_div.index:\n",
    "    if emisor in dicc_nombres:\n",
    "        emisor = dicc_nombres[emisor]\n",
    "        precios_data.append([emisor, fecha, precios.iloc[precios[emisor].index.get_loc(fecha, method='nearest')][emisor]])\n",
    "    else:\n",
    "        precios_data.append([emisor, fecha, 0])"
   ]
  },
  {
   "cell_type": "markdown",
   "metadata": {},
   "source": [
    "Se procede a pivotear los precios obtenidos con la función anterior para crear una nueva tabla que pueda unirse con la de dividendos en base a sus indices de: nombre del emisor y fecha. La tabla resultante contendrá todos los datos a utilizar para realizar los cálculos pertinentes."
   ]
  },
  {
   "cell_type": "code",
   "execution_count": 13,
   "metadata": {},
   "outputs": [
    {
     "data": {
      "text/html": [
       "<div>\n",
       "<style scoped>\n",
       "    .dataframe tbody tr th:only-of-type {\n",
       "        vertical-align: middle;\n",
       "    }\n",
       "\n",
       "    .dataframe tbody tr th {\n",
       "        vertical-align: top;\n",
       "    }\n",
       "\n",
       "    .dataframe thead th {\n",
       "        text-align: right;\n",
       "    }\n",
       "</style>\n",
       "<table border=\"1\" class=\"dataframe\">\n",
       "  <thead>\n",
       "    <tr style=\"text-align: right;\">\n",
       "      <th></th>\n",
       "      <th></th>\n",
       "      <th>PRECIO</th>\n",
       "      <th>BPA</th>\n",
       "      <th>AUM.ACC</th>\n",
       "      <th>AUM.CAP</th>\n",
       "      <th>SPLIT</th>\n",
       "    </tr>\n",
       "    <tr>\n",
       "      <th>EMISOR</th>\n",
       "      <th>FECHA</th>\n",
       "      <th></th>\n",
       "      <th></th>\n",
       "      <th></th>\n",
       "      <th></th>\n",
       "      <th></th>\n",
       "    </tr>\n",
       "  </thead>\n",
       "  <tbody>\n",
       "    <tr>\n",
       "      <th rowspan=\"5\" valign=\"top\">ALICOSTA BK HOLDING</th>\n",
       "      <th>2014-03-25</th>\n",
       "      <td>12.00</td>\n",
       "      <td>0.262830</td>\n",
       "      <td>1.0</td>\n",
       "      <td>1.0</td>\n",
       "      <td>1.0</td>\n",
       "    </tr>\n",
       "    <tr>\n",
       "      <th>2015-03-31</th>\n",
       "      <td>12.00</td>\n",
       "      <td>0.554404</td>\n",
       "      <td>1.0</td>\n",
       "      <td>1.0</td>\n",
       "      <td>1.0</td>\n",
       "    </tr>\n",
       "    <tr>\n",
       "      <th>2016-03-29</th>\n",
       "      <td>12.25</td>\n",
       "      <td>0.253498</td>\n",
       "      <td>1.0</td>\n",
       "      <td>1.0</td>\n",
       "      <td>1.0</td>\n",
       "    </tr>\n",
       "    <tr>\n",
       "      <th>2017-03-28</th>\n",
       "      <td>12.00</td>\n",
       "      <td>0.154761</td>\n",
       "      <td>1.0</td>\n",
       "      <td>1.0</td>\n",
       "      <td>1.0</td>\n",
       "    </tr>\n",
       "    <tr>\n",
       "      <th>2018-03-28</th>\n",
       "      <td>10.00</td>\n",
       "      <td>0.253292</td>\n",
       "      <td>1.0</td>\n",
       "      <td>1.0</td>\n",
       "      <td>1.0</td>\n",
       "    </tr>\n",
       "    <tr>\n",
       "      <th>...</th>\n",
       "      <th>...</th>\n",
       "      <td>...</td>\n",
       "      <td>...</td>\n",
       "      <td>...</td>\n",
       "      <td>...</td>\n",
       "      <td>...</td>\n",
       "    </tr>\n",
       "    <tr>\n",
       "      <th>SURPAPELCORP</th>\n",
       "      <th>2018-06-08</th>\n",
       "      <td>4.25</td>\n",
       "      <td>0.022317</td>\n",
       "      <td>1.0</td>\n",
       "      <td>1.0</td>\n",
       "      <td>1.0</td>\n",
       "    </tr>\n",
       "    <tr>\n",
       "      <th rowspan=\"4\" valign=\"top\">RIO GRANDE FORESTAL</th>\n",
       "      <th>2019-03-26</th>\n",
       "      <td>2.62</td>\n",
       "      <td>0.001064</td>\n",
       "      <td>1.0</td>\n",
       "      <td>1.0</td>\n",
       "      <td>1.0</td>\n",
       "    </tr>\n",
       "    <tr>\n",
       "      <th>2019-03-26</th>\n",
       "      <td>2.62</td>\n",
       "      <td>0.001064</td>\n",
       "      <td>1.0</td>\n",
       "      <td>1.0</td>\n",
       "      <td>1.0</td>\n",
       "    </tr>\n",
       "    <tr>\n",
       "      <th>2020-07-17</th>\n",
       "      <td>2.62</td>\n",
       "      <td>0.000000</td>\n",
       "      <td>1.0</td>\n",
       "      <td>1.0</td>\n",
       "      <td>1.0</td>\n",
       "    </tr>\n",
       "    <tr>\n",
       "      <th>2020-07-17</th>\n",
       "      <td>2.62</td>\n",
       "      <td>0.000000</td>\n",
       "      <td>1.0</td>\n",
       "      <td>1.0</td>\n",
       "      <td>1.0</td>\n",
       "    </tr>\n",
       "  </tbody>\n",
       "</table>\n",
       "<p>705 rows × 5 columns</p>\n",
       "</div>"
      ],
      "text/plain": [
       "                                 PRECIO       BPA  AUM.ACC  AUM.CAP  SPLIT\n",
       "EMISOR               FECHA                                                \n",
       "ALICOSTA BK HOLDING  2014-03-25   12.00  0.262830      1.0      1.0    1.0\n",
       "                     2015-03-31   12.00  0.554404      1.0      1.0    1.0\n",
       "                     2016-03-29   12.25  0.253498      1.0      1.0    1.0\n",
       "                     2017-03-28   12.00  0.154761      1.0      1.0    1.0\n",
       "                     2018-03-28   10.00  0.253292      1.0      1.0    1.0\n",
       "...                                 ...       ...      ...      ...    ...\n",
       "SURPAPELCORP         2018-06-08    4.25  0.022317      1.0      1.0    1.0\n",
       "RIO GRANDE FORESTAL  2019-03-26    2.62  0.001064      1.0      1.0    1.0\n",
       "                     2019-03-26    2.62  0.001064      1.0      1.0    1.0\n",
       "                     2020-07-17    2.62  0.000000      1.0      1.0    1.0\n",
       "                     2020-07-17    2.62  0.000000      1.0      1.0    1.0\n",
       "\n",
       "[705 rows x 5 columns]"
      ]
     },
     "execution_count": 13,
     "metadata": {},
     "output_type": "execute_result"
    }
   ],
   "source": [
    "pivot_price = pd.DataFrame(precios_data, columns=['EMISOR', 'FECHA', 'PRECIO']).set_index(['EMISOR', 'FECHA'])\n",
    "pivot_div.rename(index=dicc_nombres, inplace=True)\n",
    "\n",
    "pivot = pd.merge(pivot_div, pivot_price, how='left', on=['EMISOR', 'FECHA'])\n",
    "pivot['AUM.ACC'] = pivot['#ACCIONES DESPUÉSDEL EVENTO'] / pivot['#ACCIONES ANTESDEL EVENTO']\n",
    "pivot['AUM.CAP'] = pivot['CAPITAL LUEGODEL EVENTO'] / pivot['CAPITAL ANTERIORAL EVENTO']\n",
    "pivot['SPLIT'] = pivot['AUM.ACC'] / pivot['AUM.CAP']\n",
    "pivot = pivot[['PRECIO', 'BPA', 'AUM.ACC', 'AUM.CAP', 'SPLIT']]\n",
    "pivot"
   ]
  },
  {
   "cell_type": "markdown",
   "metadata": {},
   "source": [
    "## Creación del reporte"
   ]
  },
  {
   "cell_type": "code",
   "execution_count": 14,
   "metadata": {},
   "outputs": [],
   "source": [
    "class Reporte(object):\n",
    "    \n",
    "    def __init__(self, seleccion, monto, inicio, fin):\n",
    "        \n",
    "        self.seleccion = seleccion\n",
    "        self.monto = monto / len(seleccion)\n",
    "        self.inicio = datetime.strptime(inicio, '%Y-%m-%d')\n",
    "        self.fin    = datetime.strptime(fin   , '%Y-%m-%d')\n",
    "        \n",
    "    \n",
    "    def balance(self, emisor):\n",
    "        \n",
    "        final = pivot.loc[emisor].loc[inicio:fin]\n",
    "\n",
    "        precio_inicial = precios.iloc[precios[emisor].index.get_loc(inicio, method='nearest')][emisor]\n",
    "        precio_final   = precios.iloc[precios[emisor].index.get_loc(fin   , method='nearest')][emisor]\n",
    "\n",
    "        final.loc[self.inicio] = [precio_inicial, 0, 1, 1, 1]\n",
    "        final.loc[self.fin] = [precio_final, 0, 1, 1, 1]\n",
    "\n",
    "        final.sort_index(inplace=True)\n",
    "\n",
    "        final['ACC.POS'] = self.monto / precio_inicial * final['AUM.ACC'].cumprod()\n",
    "        final['DIVIDENDO'] = final['BPA'] * final['ACC.POS']\n",
    "        final['BALANCE'] = (final['PRECIO'] * final['ACC.POS'])\n",
    "        final['REV.PRECIO'] = (final['BALANCE'] -  self.monto).diff()\n",
    "\n",
    "        return final\n",
    "    \n",
    "    def resultados(self):\n",
    "        \n",
    "        pd.options.display.float_format = '{:,.2f}'.format\n",
    "        plazo = (self.fin-self.inicio).days / 365\n",
    "        lista_df = []\n",
    "\n",
    "        for cia in self.seleccion:\n",
    "            \n",
    "            final = self.balance(cia)\n",
    "            dividendos = final['DIVIDENDO'].sum()\n",
    "            acciones = final['BALANCE'][-1]\n",
    "            total = dividendos + acciones\n",
    "            rendimiento = 100 * (total / self.monto)**(1/plazo)-100\n",
    "            \n",
    "            df = pd.DataFrame({cia:[dividendos, acciones, total, rendimiento]},\n",
    "                              index=['DIVIDENDOS', 'REV. ACCIONES', 'TOTAL', 'RENDIMIENTO']).T\n",
    "            \n",
    "            lista_df.append(df)\n",
    "        \n",
    "        resultados = pd.concat(lista_df)\n",
    "        \n",
    "        return resultados"
   ]
  },
  {
   "cell_type": "markdown",
   "metadata": {},
   "source": [
    "## Datos de la inversión\n",
    "\n",
    "Para nuestro análisis asumiremos el siguiente escenario, aunque no es necesario fijar un monto en concreto ya que podemos trabajar con los precios y sacar rentabilidades relativas (porcentuales), pero creo que con un ejemplo se podrá ver mejor el análisis."
   ]
  },
  {
   "cell_type": "code",
   "execution_count": 15,
   "metadata": {},
   "outputs": [],
   "source": [
    "monto_invertido = 100_000\n",
    "inicio = '2010-01-01'\n",
    "fin    = '2019-12-31'"
   ]
  },
  {
   "cell_type": "markdown",
   "metadata": {},
   "source": [
    "### Selección del portafolio\n",
    "\n",
    "El BVG index selecciona a sus componentes basado en 3 indicadores bursátiles, de acuerdo a la siguientre fórmula: $W = 0.7P_b + 0.2P_m + 0.1P_c$, donde $P_b$ es la presencia bursátil. Las otras 2 variables corresponden a la participación de la acción en el total negociado y en la capitalización bursátil. Como no tenemos datos de estos dos últimos indicadores para todo el período de análisis, utilizaremos de base solo a la presencia bursátil (que es el 70% del peso en la fórmula) como determinante para seleccionar a las compañias, que para efectos prácticos serán 10.\n",
    "\n",
    "Dentro del ranking de presencia bursátil, aparecerán compañias que empezaron a cotizar en bolsa después después del inicio del período de análisis. Sería injusto seleccionarlas porque estariamos evaluando su rentabilidad de una fracción de la década, asi pues seguiremos los siguientes pasos:\n",
    "\n",
    "* A través del método `first_valid_index()` obtendremos la fecha en donde empezaron a marcar precio las acciones de cada compañía.\n",
    "* Se crea una tabla de datos donde se incluya los campos de presencia bursátil y la fecha de inicio en bolsa, obtenida en el paso anterior.\n",
    "* Se seleccionan solo las empresas que aparecen en la tabla de dividendos y que empezaron a cotizar antes de la fecha de inicio del análisis.\n",
    "* Removemos del listado a empresas que no se tenga información suficiente en la tabla de dividendos.\n",
    "* Las 10 primeras de las empresas, luego de aplicar todos los filtros anteriores, serian las seleccionadas.\n",
    "* Asumiremos que el monto a invertir será repartido en partes iguales para cada acción seleccionada.\n"
   ]
  },
  {
   "cell_type": "code",
   "execution_count": 16,
   "metadata": {},
   "outputs": [
    {
     "data": {
      "text/html": [
       "<style  type=\"text/css\" >\n",
       "</style><table id=\"T_58681_\" ><thead>    <tr>        <th class=\"blank level0\" ></th>        <th class=\"col_heading level0 col0\" >PORTAFOLIO</th>        <th class=\"col_heading level0 col1\" >PONDERADORES</th>    </tr></thead><tbody>\n",
       "                <tr>\n",
       "                        <th id=\"T_58681_level0_row0\" class=\"row_heading level0 row0\" >1</th>\n",
       "                        <td id=\"T_58681_row0_col0\" class=\"data row0 col0\" >CORPORACION FAVORITA</td>\n",
       "                        <td id=\"T_58681_row0_col1\" class=\"data row0 col1\" >10%</td>\n",
       "            </tr>\n",
       "            <tr>\n",
       "                        <th id=\"T_58681_level0_row1\" class=\"row_heading level0 row1\" >2</th>\n",
       "                        <td id=\"T_58681_row1_col0\" class=\"data row1 col0\" >BANCO PICHINCHA</td>\n",
       "                        <td id=\"T_58681_row1_col1\" class=\"data row1 col1\" >10%</td>\n",
       "            </tr>\n",
       "            <tr>\n",
       "                        <th id=\"T_58681_level0_row2\" class=\"row_heading level0 row2\" >3</th>\n",
       "                        <td id=\"T_58681_row2_col0\" class=\"data row2 col0\" >SOCIEDAD AGRICOLA E IND. SAN CARLOS</td>\n",
       "                        <td id=\"T_58681_row2_col1\" class=\"data row2 col1\" >10%</td>\n",
       "            </tr>\n",
       "            <tr>\n",
       "                        <th id=\"T_58681_level0_row3\" class=\"row_heading level0 row3\" >4</th>\n",
       "                        <td id=\"T_58681_row3_col0\" class=\"data row3 col0\" >BANCO PRODUBANCO</td>\n",
       "                        <td id=\"T_58681_row3_col1\" class=\"data row3 col1\" >10%</td>\n",
       "            </tr>\n",
       "            <tr>\n",
       "                        <th id=\"T_58681_level0_row4\" class=\"row_heading level0 row4\" >5</th>\n",
       "                        <td id=\"T_58681_row4_col0\" class=\"data row4 col0\" >CERVECERIA NACIONAL CN S.A.</td>\n",
       "                        <td id=\"T_58681_row4_col1\" class=\"data row4 col1\" >10%</td>\n",
       "            </tr>\n",
       "            <tr>\n",
       "                        <th id=\"T_58681_level0_row5\" class=\"row_heading level0 row5\" >6</th>\n",
       "                        <td id=\"T_58681_row5_col0\" class=\"data row5 col0\" >INVERSANCARLOS</td>\n",
       "                        <td id=\"T_58681_row5_col1\" class=\"data row5 col1\" >10%</td>\n",
       "            </tr>\n",
       "            <tr>\n",
       "                        <th id=\"T_58681_level0_row6\" class=\"row_heading level0 row6\" >7</th>\n",
       "                        <td id=\"T_58681_row6_col0\" class=\"data row6 col0\" >INDUSTRIAS ALES</td>\n",
       "                        <td id=\"T_58681_row6_col1\" class=\"data row6 col1\" >10%</td>\n",
       "            </tr>\n",
       "            <tr>\n",
       "                        <th id=\"T_58681_level0_row7\" class=\"row_heading level0 row7\" >8</th>\n",
       "                        <td id=\"T_58681_row7_col0\" class=\"data row7 col0\" >BANCO BOLIVARIANO</td>\n",
       "                        <td id=\"T_58681_row7_col1\" class=\"data row7 col1\" >10%</td>\n",
       "            </tr>\n",
       "            <tr>\n",
       "                        <th id=\"T_58681_level0_row8\" class=\"row_heading level0 row8\" >9</th>\n",
       "                        <td id=\"T_58681_row8_col0\" class=\"data row8 col0\" >HOTEL COLON</td>\n",
       "                        <td id=\"T_58681_row8_col1\" class=\"data row8 col1\" >10%</td>\n",
       "            </tr>\n",
       "            <tr>\n",
       "                        <th id=\"T_58681_level0_row9\" class=\"row_heading level0 row9\" >10</th>\n",
       "                        <td id=\"T_58681_row9_col0\" class=\"data row9 col0\" >CRIDESA</td>\n",
       "                        <td id=\"T_58681_row9_col1\" class=\"data row9 col1\" >10%</td>\n",
       "            </tr>\n",
       "    </tbody></table>"
      ],
      "text/plain": [
       "<pandas.io.formats.style.Styler at 0x20a394ff3a0>"
      ]
     },
     "execution_count": 16,
     "metadata": {},
     "output_type": "execute_result"
    }
   ],
   "source": [
    "num_activos = 10\n",
    "\n",
    "#Hay que buscar cuando empezaron a cotizar las acciones en bolsa\n",
    "firstTrade = pd.Series({cia:precios[cia].first_valid_index() for cia in precios})\n",
    "#Construendo un DataFrame de presencia bursátil y fecha inicial de cotización\n",
    "df_pre = pd.DataFrame({'Presencia':ranking_presencia, 'FirstTradeDate':firstTrade})\n",
    "#Filtrando el DataFrame anterior por las empresas que estan en la tabla de dividendos\n",
    "df_pre = df_pre.loc[dicc_nombres.values()]\n",
    "#Filtrando las compañias que empezaron a cotizar antes de la fecha inicial del analisis\n",
    "df_pre = df_pre[df_pre['FirstTradeDate'] < inicio ].sort_values('Presencia', ascending=False)\n",
    "\n",
    "#Esta compañia no dispone información completa en la tabla de dividendos\n",
    "lista_empresas = list(df_pre.index)\n",
    "lista_empresas.remove('CONCLINA CONJUNTO CLINICO NACIONAL ')\n",
    "\n",
    "seleccionadas = lista_empresas[:num_activos]\n",
    "ponderadores = np.ones(num_activos) / num_activos\n",
    "\n",
    "formato = {\"PORTAFOLIO\":\"{:}\",\"PONDERADORES\": \"{:.0%}\"}\n",
    "pd.DataFrame({'PORTAFOLIO':seleccionadas, 'PONDERADORES':ponderadores}, index=range(1,num_activos+1)).style.format(formato)"
   ]
  },
  {
   "cell_type": "markdown",
   "metadata": {},
   "source": [
    "## Presentación de Resultados"
   ]
  },
  {
   "cell_type": "code",
   "execution_count": 17,
   "metadata": {},
   "outputs": [],
   "source": [
    "reporte = Reporte(seleccion=seleccionadas, monto=monto_invertido, inicio=inicio, fin=fin)"
   ]
  },
  {
   "cell_type": "code",
   "execution_count": 18,
   "metadata": {},
   "outputs": [
    {
     "data": {
      "text/html": [
       "<div>\n",
       "<style scoped>\n",
       "    .dataframe tbody tr th:only-of-type {\n",
       "        vertical-align: middle;\n",
       "    }\n",
       "\n",
       "    .dataframe tbody tr th {\n",
       "        vertical-align: top;\n",
       "    }\n",
       "\n",
       "    .dataframe thead th {\n",
       "        text-align: right;\n",
       "    }\n",
       "</style>\n",
       "<table border=\"1\" class=\"dataframe\">\n",
       "  <thead>\n",
       "    <tr style=\"text-align: right;\">\n",
       "      <th></th>\n",
       "      <th>DIVIDENDOS</th>\n",
       "      <th>REV. ACCIONES</th>\n",
       "      <th>TOTAL</th>\n",
       "      <th>RENDIMIENTO</th>\n",
       "    </tr>\n",
       "  </thead>\n",
       "  <tbody>\n",
       "    <tr>\n",
       "      <th>CORPORACION FAVORITA</th>\n",
       "      <td>4,346.42</td>\n",
       "      <td>13,882.04</td>\n",
       "      <td>18,228.46</td>\n",
       "      <td>6.19</td>\n",
       "    </tr>\n",
       "    <tr>\n",
       "      <th>BANCO PICHINCHA</th>\n",
       "      <td>4,807.61</td>\n",
       "      <td>19,546.23</td>\n",
       "      <td>24,353.84</td>\n",
       "      <td>9.31</td>\n",
       "    </tr>\n",
       "    <tr>\n",
       "      <th>SOCIEDAD AGRICOLA E IND. SAN CARLOS</th>\n",
       "      <td>9,411.24</td>\n",
       "      <td>13,191.18</td>\n",
       "      <td>22,602.42</td>\n",
       "      <td>8.49</td>\n",
       "    </tr>\n",
       "    <tr>\n",
       "      <th>BANCO PRODUBANCO</th>\n",
       "      <td>6,257.48</td>\n",
       "      <td>16,336.02</td>\n",
       "      <td>22,593.50</td>\n",
       "      <td>8.49</td>\n",
       "    </tr>\n",
       "    <tr>\n",
       "      <th>CERVECERIA NACIONAL CN S.A.</th>\n",
       "      <td>17,822.68</td>\n",
       "      <td>28,666.67</td>\n",
       "      <td>46,489.35</td>\n",
       "      <td>16.60</td>\n",
       "    </tr>\n",
       "    <tr>\n",
       "      <th>INVERSANCARLOS</th>\n",
       "      <td>11,652.63</td>\n",
       "      <td>13,778.95</td>\n",
       "      <td>25,431.58</td>\n",
       "      <td>9.78</td>\n",
       "    </tr>\n",
       "    <tr>\n",
       "      <th>INDUSTRIAS ALES</th>\n",
       "      <td>907.94</td>\n",
       "      <td>3,144.35</td>\n",
       "      <td>4,052.29</td>\n",
       "      <td>-8.63</td>\n",
       "    </tr>\n",
       "    <tr>\n",
       "      <th>BANCO BOLIVARIANO</th>\n",
       "      <td>7,068.72</td>\n",
       "      <td>23,768.73</td>\n",
       "      <td>30,837.45</td>\n",
       "      <td>11.92</td>\n",
       "    </tr>\n",
       "    <tr>\n",
       "      <th>HOTEL COLON</th>\n",
       "      <td>8,166.67</td>\n",
       "      <td>10,333.33</td>\n",
       "      <td>18,500.00</td>\n",
       "      <td>6.34</td>\n",
       "    </tr>\n",
       "    <tr>\n",
       "      <th>CRIDESA</th>\n",
       "      <td>25,271.17</td>\n",
       "      <td>26,432.75</td>\n",
       "      <td>51,703.92</td>\n",
       "      <td>17.85</td>\n",
       "    </tr>\n",
       "  </tbody>\n",
       "</table>\n",
       "</div>"
      ],
      "text/plain": [
       "                                     DIVIDENDOS  REV. ACCIONES     TOTAL  \\\n",
       "CORPORACION FAVORITA                   4,346.42      13,882.04 18,228.46   \n",
       "BANCO PICHINCHA                        4,807.61      19,546.23 24,353.84   \n",
       "SOCIEDAD AGRICOLA E IND. SAN CARLOS    9,411.24      13,191.18 22,602.42   \n",
       "BANCO PRODUBANCO                       6,257.48      16,336.02 22,593.50   \n",
       "CERVECERIA NACIONAL CN S.A.           17,822.68      28,666.67 46,489.35   \n",
       "INVERSANCARLOS                        11,652.63      13,778.95 25,431.58   \n",
       "INDUSTRIAS ALES                          907.94       3,144.35  4,052.29   \n",
       "BANCO BOLIVARIANO                      7,068.72      23,768.73 30,837.45   \n",
       "HOTEL COLON                            8,166.67      10,333.33 18,500.00   \n",
       "CRIDESA                               25,271.17      26,432.75 51,703.92   \n",
       "\n",
       "                                     RENDIMIENTO  \n",
       "CORPORACION FAVORITA                        6.19  \n",
       "BANCO PICHINCHA                             9.31  \n",
       "SOCIEDAD AGRICOLA E IND. SAN CARLOS         8.49  \n",
       "BANCO PRODUBANCO                            8.49  \n",
       "CERVECERIA NACIONAL CN S.A.                16.60  \n",
       "INVERSANCARLOS                              9.78  \n",
       "INDUSTRIAS ALES                            -8.63  \n",
       "BANCO BOLIVARIANO                          11.92  \n",
       "HOTEL COLON                                 6.34  \n",
       "CRIDESA                                    17.85  "
      ]
     },
     "execution_count": 18,
     "metadata": {},
     "output_type": "execute_result"
    }
   ],
   "source": [
    "reporte.resultados()"
   ]
  },
  {
   "cell_type": "code",
   "execution_count": 19,
   "metadata": {},
   "outputs": [
    {
     "data": {
      "text/html": [
       "<style  type=\"text/css\" >\n",
       "</style><table id=\"T_f82ea_\" ><thead>    <tr>        <th class=\"blank level0\" ></th>        <th class=\"col_heading level0 col0\" >TOTAL</th>        <th class=\"col_heading level0 col1\" >TEA</th>    </tr></thead><tbody>\n",
       "                <tr>\n",
       "                        <th id=\"T_f82ea_level0_row0\" class=\"row_heading level0 row0\" >RESULTADOS</th>\n",
       "                        <td id=\"T_f82ea_row0_col0\" class=\"data row0 col0\" >$264,792.81</td>\n",
       "                        <td id=\"T_f82ea_row0_col1\" class=\"data row0 col1\" >10.23%</td>\n",
       "            </tr>\n",
       "    </tbody></table>"
      ],
      "text/plain": [
       "<pandas.io.formats.style.Styler at 0x20a3af78ee0>"
      ]
     },
     "execution_count": 19,
     "metadata": {},
     "output_type": "execute_result"
    }
   ],
   "source": [
    "beneficio = reporte.resultados()['TOTAL'].sum()\n",
    "rend = (beneficio / monto_invertido) ** (1/10) - 1\n",
    "pd.DataFrame({'TOTAL': beneficio, 'TEA': rend}, index=['RESULTADOS']).style.format({\"TOTAL\":\"${:,.2f}\",\"TEA\": \"{:.2%}\"})"
   ]
  },
  {
   "cell_type": "markdown",
   "metadata": {},
   "source": [
    "## Ajuste de rentabilidad por concepto de dividendos pagados\n",
    "\n",
    "La rentabilidad obtenida en los resultados corresponde a la suma de la revalorización total de las acciones y de los dividendos recibidos. Está es la forma como hace el cálculo la bolsa de valores de Quito, en su [Calculadora de Rendimientos](http://www.bolsadequito.com/index.php/mercados-bursatiles/mercado-en-linea/calculadora-de-rendimientos). Sería algo injusto, evaluar la rentabilidad de esta forma, ya que los dividendos son entregados no al final del período de inversión sino en diferentes momentos dentro de este y como sabemos del valor del dinero en el tiempo, no podemos pasar por alto algo tan obvio.\n",
    "\n",
    "Corresponde entonces evaluar esos dividendos en el momento que se recibieron y a rasgos generales pueden existir 2 enfoques:\n",
    "\n",
    "1. Reinvertir todas los dividendos recibidos en la compra de más activos que generen más rendimientos.\n",
    "2. Evaluar los dividendos recibidos como un flujo de caja y sacar el rendimiento de estos (TIR)"
   ]
  },
  {
   "cell_type": "markdown",
   "metadata": {},
   "source": [
    "### Reinversión en acciones\n",
    "\n",
    "En este caso asumimos que los dividendos recibidos fueron reinvertidos en la compra de más de la mismas acciones."
   ]
  },
  {
   "cell_type": "code",
   "execution_count": 20,
   "metadata": {},
   "outputs": [],
   "source": [
    "def balance_ajustado(emisor):\n",
    "    \n",
    "    df = reporte.balance(emisor)\n",
    "    df['REINVERSION'] = df['DIVIDENDO'] / df['PRECIO']\n",
    "    df['TOTAL.ACCIONES'] = df['ACC.POS'] + df['REINVERSION'].cumsum() * df['SPLIT'].cumprod()\n",
    "    df['BALANCE.AJUST'] = df['PRECIO'] * df['TOTAL.ACCIONES']\n",
    "    return df\n",
    "\n",
    "def resultados_ajustados(seleccion):\n",
    "        \n",
    "    pd.options.display.float_format = '{:,.2f}'.format\n",
    "    plazo = 10\n",
    "    lista_df = []\n",
    "\n",
    "    for cia in seleccion:\n",
    "            \n",
    "        final = balance_ajustado(cia)\n",
    "        acciones = final['BALANCE.AJUST'][-1]\n",
    "        rendimiento = 100 * (acciones / monto_invertido*len(seleccion))**(1/plazo) - 100\n",
    "            \n",
    "        df = pd.DataFrame({cia:[acciones, rendimiento]}, index=['REV. ACCIONES', 'RENDIMIENTO']).T          \n",
    "        lista_df.append(df)\n",
    "        \n",
    "    resultados = pd.concat(lista_df)\n",
    "        \n",
    "    return resultados"
   ]
  },
  {
   "cell_type": "code",
   "execution_count": 21,
   "metadata": {},
   "outputs": [
    {
     "data": {
      "text/html": [
       "<div>\n",
       "<style scoped>\n",
       "    .dataframe tbody tr th:only-of-type {\n",
       "        vertical-align: middle;\n",
       "    }\n",
       "\n",
       "    .dataframe tbody tr th {\n",
       "        vertical-align: top;\n",
       "    }\n",
       "\n",
       "    .dataframe thead th {\n",
       "        text-align: right;\n",
       "    }\n",
       "</style>\n",
       "<table border=\"1\" class=\"dataframe\">\n",
       "  <thead>\n",
       "    <tr style=\"text-align: right;\">\n",
       "      <th></th>\n",
       "      <th>REV. ACCIONES</th>\n",
       "      <th>RENDIMIENTO</th>\n",
       "    </tr>\n",
       "  </thead>\n",
       "  <tbody>\n",
       "    <tr>\n",
       "      <th>CORPORACION FAVORITA</th>\n",
       "      <td>17,542.29</td>\n",
       "      <td>5.78</td>\n",
       "    </tr>\n",
       "    <tr>\n",
       "      <th>BANCO PICHINCHA</th>\n",
       "      <td>23,855.23</td>\n",
       "      <td>9.08</td>\n",
       "    </tr>\n",
       "    <tr>\n",
       "      <th>SOCIEDAD AGRICOLA E IND. SAN CARLOS</th>\n",
       "      <td>18,736.80</td>\n",
       "      <td>6.48</td>\n",
       "    </tr>\n",
       "    <tr>\n",
       "      <th>BANCO PRODUBANCO</th>\n",
       "      <td>21,985.90</td>\n",
       "      <td>8.20</td>\n",
       "    </tr>\n",
       "    <tr>\n",
       "      <th>CERVECERIA NACIONAL CN S.A.</th>\n",
       "      <td>56,785.92</td>\n",
       "      <td>18.97</td>\n",
       "    </tr>\n",
       "    <tr>\n",
       "      <th>INVERSANCARLOS</th>\n",
       "      <td>26,442.88</td>\n",
       "      <td>10.21</td>\n",
       "    </tr>\n",
       "    <tr>\n",
       "      <th>INDUSTRIAS ALES</th>\n",
       "      <td>3,328.79</td>\n",
       "      <td>-10.42</td>\n",
       "    </tr>\n",
       "    <tr>\n",
       "      <th>BANCO BOLIVARIANO</th>\n",
       "      <td>31,304.99</td>\n",
       "      <td>12.09</td>\n",
       "    </tr>\n",
       "    <tr>\n",
       "      <th>HOTEL COLON</th>\n",
       "      <td>18,619.79</td>\n",
       "      <td>6.41</td>\n",
       "    </tr>\n",
       "    <tr>\n",
       "      <th>CRIDESA</th>\n",
       "      <td>55,622.84</td>\n",
       "      <td>18.72</td>\n",
       "    </tr>\n",
       "  </tbody>\n",
       "</table>\n",
       "</div>"
      ],
      "text/plain": [
       "                                     REV. ACCIONES  RENDIMIENTO\n",
       "CORPORACION FAVORITA                     17,542.29         5.78\n",
       "BANCO PICHINCHA                          23,855.23         9.08\n",
       "SOCIEDAD AGRICOLA E IND. SAN CARLOS      18,736.80         6.48\n",
       "BANCO PRODUBANCO                         21,985.90         8.20\n",
       "CERVECERIA NACIONAL CN S.A.              56,785.92        18.97\n",
       "INVERSANCARLOS                           26,442.88        10.21\n",
       "INDUSTRIAS ALES                           3,328.79       -10.42\n",
       "BANCO BOLIVARIANO                        31,304.99        12.09\n",
       "HOTEL COLON                              18,619.79         6.41\n",
       "CRIDESA                                  55,622.84        18.72"
      ]
     },
     "execution_count": 21,
     "metadata": {},
     "output_type": "execute_result"
    }
   ],
   "source": [
    "resultados_ajustados(seleccionadas)"
   ]
  },
  {
   "cell_type": "code",
   "execution_count": 22,
   "metadata": {},
   "outputs": [
    {
     "data": {
      "text/html": [
       "<style  type=\"text/css\" >\n",
       "</style><table id=\"T_21dd0_\" ><thead>    <tr>        <th class=\"blank level0\" ></th>        <th class=\"col_heading level0 col0\" >TOTAL</th>        <th class=\"col_heading level0 col1\" >TEA</th>    </tr></thead><tbody>\n",
       "                <tr>\n",
       "                        <th id=\"T_21dd0_level0_row0\" class=\"row_heading level0 row0\" >RESULTADOS</th>\n",
       "                        <td id=\"T_21dd0_row0_col0\" class=\"data row0 col0\" >$274,225.45</td>\n",
       "                        <td id=\"T_21dd0_row0_col1\" class=\"data row0 col1\" >10.61%</td>\n",
       "            </tr>\n",
       "    </tbody></table>"
      ],
      "text/plain": [
       "<pandas.io.formats.style.Styler at 0x20a3871daf0>"
      ]
     },
     "execution_count": 22,
     "metadata": {},
     "output_type": "execute_result"
    }
   ],
   "source": [
    "total = resultados_ajustados(seleccionadas)['REV. ACCIONES'].sum()\n",
    "rend = (total / monto_invertido) ** (1/10) - 1\n",
    "pd.DataFrame({'TOTAL': total, 'TEA': rend}, index=['RESULTADOS']).style.format({\"TOTAL\":\"${:,.2f}\",\"TEA\": \"{:.2%}\"})"
   ]
  },
  {
   "cell_type": "markdown",
   "metadata": {},
   "source": [
    "### Evaluación del flujo de caja resultante"
   ]
  },
  {
   "cell_type": "markdown",
   "metadata": {},
   "source": [
    "Lo más común es que los dividendos recibidos sean destinados al consumo, así que el enfoque de la **Tasa Interna de Retorno**, sirve como indicador del rendimiento de la inversión, independientemente de lo que se haga con los dividendos recibidos en el plazo de la inversión, lo que se evalua es cuanto y cuando se ingresaron los flujos por concepto de dividendos.\n",
    "\n",
    "> La fórmula de la TIR cuando los pagos son periódicos, es decir los intervalos entre fechas son iguales, por ejemplo mensual, semestral, etc es:  $$\\large\\sum\\limits_{t=0}^{n}{{{C_{t}}\\over{{\\left({1+r}\\right)}^{t}}}}=0$$\n",
    ">\n",
    "> Sin embargo en este caso los flujos de caja generados por el reparto de dividendos son en fechas completamente irregulares. Para este caso la fórmula que aplica es: $$\\large\\sum\\limits_{t=0}^{n}{{{C_{t}}\\over{{\\left({1+r}\\right)}^{\\left({{{d_{t}-d_{1}}\\over{365}}}\\right)}}}}=0$$\n",
    ">> * $d_t$: *Fecha del t-ésimo flujo*\n",
    ">> * $d_1$: *Fecha del 1er flujo*"
   ]
  },
  {
   "cell_type": "markdown",
   "metadata": {},
   "source": [
    "Esta función en específico no viene disponible en el paquete de numpy financial, solamente está la de la TIR con flujos periódicos. Hay que programar la función entonces y para esto es necesario primero implementar la del valor presente neto para flujos no periódicos, ya que la necesitamos en las iteraciones para calcular la TIR de flujos irregulares."
   ]
  },
  {
   "cell_type": "code",
   "execution_count": 23,
   "metadata": {},
   "outputs": [],
   "source": [
    "import scipy.optimize\n",
    "\n",
    "def xvan(tasa, valores, fechas):\n",
    "    '''Equivalente a la función VNA.NO.PER de Excel'''\n",
    "    \n",
    "    if tasa <= -1.0:\n",
    "        return float('inf')\n",
    "    d0 = fechas[0]    # o min(fechas)\n",
    "    return sum([ vi / (1.0 + tasa)**((di - d0).days / 365.0) for vi, di in zip(valores, fechas)])\n",
    "\n",
    "def xtir(valores, fechas):\n",
    "    '''Equivalente a la función TIR.NO.PER de Excel'''\n",
    "    \n",
    "    try:                              \n",
    "        return scipy.optimize.newton(lambda r: xvan(r, valores, fechas), 0.0)\n",
    "    except RuntimeError:    # Por si no puede converger\n",
    "        return scipy.optimize.brentq(lambda r: xvan(r, valores, fechas), -1.0, 1e10)\n",
    "\n",
    "def balance_tir(seleccion):\n",
    "    \n",
    "    lista_df = []\n",
    "    \n",
    "    for emisor in seleccion:\n",
    "    \n",
    "        df = reporte.balance(emisor)\n",
    "        df['FLUJO DE CAJA'] = df['DIVIDENDO']\n",
    "        df['FLUJO DE CAJA'][ 0] = - df['BALANCE'][ 0]\n",
    "        df['FLUJO DE CAJA'][-1] =   df['BALANCE'][-1]\n",
    "        df['EMISOR'] = emisor\n",
    "        lista_df.append(df)\n",
    "    \n",
    "    return pd.concat(lista_df)"
   ]
  },
  {
   "cell_type": "code",
   "execution_count": 24,
   "metadata": {},
   "outputs": [
    {
     "data": {
      "text/html": [
       "<div>\n",
       "<style scoped>\n",
       "    .dataframe tbody tr th:only-of-type {\n",
       "        vertical-align: middle;\n",
       "    }\n",
       "\n",
       "    .dataframe tbody tr th {\n",
       "        vertical-align: top;\n",
       "    }\n",
       "\n",
       "    .dataframe thead th {\n",
       "        text-align: right;\n",
       "    }\n",
       "</style>\n",
       "<table border=\"1\" class=\"dataframe\">\n",
       "  <thead>\n",
       "    <tr style=\"text-align: right;\">\n",
       "      <th></th>\n",
       "      <th>PRECIO</th>\n",
       "      <th>BPA</th>\n",
       "      <th>AUM.ACC</th>\n",
       "      <th>AUM.CAP</th>\n",
       "      <th>SPLIT</th>\n",
       "      <th>ACC.POS</th>\n",
       "      <th>DIVIDENDO</th>\n",
       "      <th>BALANCE</th>\n",
       "      <th>REV.PRECIO</th>\n",
       "      <th>FLUJO DE CAJA</th>\n",
       "      <th>EMISOR</th>\n",
       "    </tr>\n",
       "    <tr>\n",
       "      <th>FECHA</th>\n",
       "      <th></th>\n",
       "      <th></th>\n",
       "      <th></th>\n",
       "      <th></th>\n",
       "      <th></th>\n",
       "      <th></th>\n",
       "      <th></th>\n",
       "      <th></th>\n",
       "      <th></th>\n",
       "      <th></th>\n",
       "      <th></th>\n",
       "    </tr>\n",
       "  </thead>\n",
       "  <tbody>\n",
       "    <tr>\n",
       "      <th>2010-01-01</th>\n",
       "      <td>4.97</td>\n",
       "      <td>0.00</td>\n",
       "      <td>1.00</td>\n",
       "      <td>1.00</td>\n",
       "      <td>1.00</td>\n",
       "      <td>2,012.07</td>\n",
       "      <td>0.00</td>\n",
       "      <td>10,000.00</td>\n",
       "      <td>NaN</td>\n",
       "      <td>-10,000.00</td>\n",
       "      <td>CORPORACION FAVORITA</td>\n",
       "    </tr>\n",
       "    <tr>\n",
       "      <th>2010-03-25</th>\n",
       "      <td>4.89</td>\n",
       "      <td>0.12</td>\n",
       "      <td>1.05</td>\n",
       "      <td>1.05</td>\n",
       "      <td>1.00</td>\n",
       "      <td>2,112.68</td>\n",
       "      <td>246.48</td>\n",
       "      <td>10,330.99</td>\n",
       "      <td>330.99</td>\n",
       "      <td>246.48</td>\n",
       "      <td>CORPORACION FAVORITA</td>\n",
       "    </tr>\n",
       "    <tr>\n",
       "      <th>2011-03-24</th>\n",
       "      <td>5.17</td>\n",
       "      <td>0.12</td>\n",
       "      <td>1.06</td>\n",
       "      <td>1.06</td>\n",
       "      <td>1.00</td>\n",
       "      <td>2,238.43</td>\n",
       "      <td>266.48</td>\n",
       "      <td>11,572.69</td>\n",
       "      <td>1,241.70</td>\n",
       "      <td>266.48</td>\n",
       "      <td>CORPORACION FAVORITA</td>\n",
       "    </tr>\n",
       "    <tr>\n",
       "      <th>2012-03-29</th>\n",
       "      <td>4.25</td>\n",
       "      <td>0.11</td>\n",
       "      <td>1.12</td>\n",
       "      <td>1.12</td>\n",
       "      <td>1.00</td>\n",
       "      <td>2,515.09</td>\n",
       "      <td>282.59</td>\n",
       "      <td>10,689.13</td>\n",
       "      <td>-883.55</td>\n",
       "      <td>282.59</td>\n",
       "      <td>CORPORACION FAVORITA</td>\n",
       "    </tr>\n",
       "    <tr>\n",
       "      <th>2013-03-28</th>\n",
       "      <td>4.90</td>\n",
       "      <td>0.11</td>\n",
       "      <td>1.12</td>\n",
       "      <td>1.12</td>\n",
       "      <td>1.00</td>\n",
       "      <td>2,808.52</td>\n",
       "      <td>308.94</td>\n",
       "      <td>13,761.74</td>\n",
       "      <td>3,072.60</td>\n",
       "      <td>308.94</td>\n",
       "      <td>CORPORACION FAVORITA</td>\n",
       "    </tr>\n",
       "    <tr>\n",
       "      <th>...</th>\n",
       "      <td>...</td>\n",
       "      <td>...</td>\n",
       "      <td>...</td>\n",
       "      <td>...</td>\n",
       "      <td>...</td>\n",
       "      <td>...</td>\n",
       "      <td>...</td>\n",
       "      <td>...</td>\n",
       "      <td>...</td>\n",
       "      <td>...</td>\n",
       "      <td>...</td>\n",
       "    </tr>\n",
       "    <tr>\n",
       "      <th>2016-04-14</th>\n",
       "      <td>5.10</td>\n",
       "      <td>0.60</td>\n",
       "      <td>1.00</td>\n",
       "      <td>1.00</td>\n",
       "      <td>1.00</td>\n",
       "      <td>5,847.95</td>\n",
       "      <td>3,509.90</td>\n",
       "      <td>29,824.56</td>\n",
       "      <td>0.00</td>\n",
       "      <td>3,509.90</td>\n",
       "      <td>CRIDESA</td>\n",
       "    </tr>\n",
       "    <tr>\n",
       "      <th>2017-03-29</th>\n",
       "      <td>3.50</td>\n",
       "      <td>0.34</td>\n",
       "      <td>1.00</td>\n",
       "      <td>1.00</td>\n",
       "      <td>1.00</td>\n",
       "      <td>5,847.95</td>\n",
       "      <td>1,992.12</td>\n",
       "      <td>20,467.84</td>\n",
       "      <td>-9,356.73</td>\n",
       "      <td>1,992.12</td>\n",
       "      <td>CRIDESA</td>\n",
       "    </tr>\n",
       "    <tr>\n",
       "      <th>2018-03-21</th>\n",
       "      <td>3.15</td>\n",
       "      <td>0.42</td>\n",
       "      <td>1.00</td>\n",
       "      <td>1.00</td>\n",
       "      <td>1.00</td>\n",
       "      <td>5,847.95</td>\n",
       "      <td>2,467.82</td>\n",
       "      <td>18,421.05</td>\n",
       "      <td>-2,046.78</td>\n",
       "      <td>2,467.82</td>\n",
       "      <td>CRIDESA</td>\n",
       "    </tr>\n",
       "    <tr>\n",
       "      <th>2019-03-20</th>\n",
       "      <td>4.00</td>\n",
       "      <td>0.48</td>\n",
       "      <td>1.00</td>\n",
       "      <td>1.00</td>\n",
       "      <td>1.00</td>\n",
       "      <td>5,847.95</td>\n",
       "      <td>2,790.79</td>\n",
       "      <td>23,391.81</td>\n",
       "      <td>4,970.76</td>\n",
       "      <td>2,790.79</td>\n",
       "      <td>CRIDESA</td>\n",
       "    </tr>\n",
       "    <tr>\n",
       "      <th>2019-12-31</th>\n",
       "      <td>4.52</td>\n",
       "      <td>0.00</td>\n",
       "      <td>1.00</td>\n",
       "      <td>1.00</td>\n",
       "      <td>1.00</td>\n",
       "      <td>5,847.95</td>\n",
       "      <td>0.00</td>\n",
       "      <td>26,432.75</td>\n",
       "      <td>3,040.94</td>\n",
       "      <td>26,432.75</td>\n",
       "      <td>CRIDESA</td>\n",
       "    </tr>\n",
       "  </tbody>\n",
       "</table>\n",
       "<p>147 rows × 11 columns</p>\n",
       "</div>"
      ],
      "text/plain": [
       "            PRECIO  BPA  AUM.ACC  AUM.CAP  SPLIT  ACC.POS  DIVIDENDO  \\\n",
       "FECHA                                                                  \n",
       "2010-01-01    4.97 0.00     1.00     1.00   1.00 2,012.07       0.00   \n",
       "2010-03-25    4.89 0.12     1.05     1.05   1.00 2,112.68     246.48   \n",
       "2011-03-24    5.17 0.12     1.06     1.06   1.00 2,238.43     266.48   \n",
       "2012-03-29    4.25 0.11     1.12     1.12   1.00 2,515.09     282.59   \n",
       "2013-03-28    4.90 0.11     1.12     1.12   1.00 2,808.52     308.94   \n",
       "...            ...  ...      ...      ...    ...      ...        ...   \n",
       "2016-04-14    5.10 0.60     1.00     1.00   1.00 5,847.95   3,509.90   \n",
       "2017-03-29    3.50 0.34     1.00     1.00   1.00 5,847.95   1,992.12   \n",
       "2018-03-21    3.15 0.42     1.00     1.00   1.00 5,847.95   2,467.82   \n",
       "2019-03-20    4.00 0.48     1.00     1.00   1.00 5,847.95   2,790.79   \n",
       "2019-12-31    4.52 0.00     1.00     1.00   1.00 5,847.95       0.00   \n",
       "\n",
       "             BALANCE  REV.PRECIO  FLUJO DE CAJA                EMISOR  \n",
       "FECHA                                                                  \n",
       "2010-01-01 10,000.00         NaN     -10,000.00  CORPORACION FAVORITA  \n",
       "2010-03-25 10,330.99      330.99         246.48  CORPORACION FAVORITA  \n",
       "2011-03-24 11,572.69    1,241.70         266.48  CORPORACION FAVORITA  \n",
       "2012-03-29 10,689.13     -883.55         282.59  CORPORACION FAVORITA  \n",
       "2013-03-28 13,761.74    3,072.60         308.94  CORPORACION FAVORITA  \n",
       "...              ...         ...            ...                   ...  \n",
       "2016-04-14 29,824.56        0.00       3,509.90               CRIDESA  \n",
       "2017-03-29 20,467.84   -9,356.73       1,992.12               CRIDESA  \n",
       "2018-03-21 18,421.05   -2,046.78       2,467.82               CRIDESA  \n",
       "2019-03-20 23,391.81    4,970.76       2,790.79               CRIDESA  \n",
       "2019-12-31 26,432.75    3,040.94      26,432.75               CRIDESA  \n",
       "\n",
       "[147 rows x 11 columns]"
      ]
     },
     "execution_count": 24,
     "metadata": {},
     "output_type": "execute_result"
    }
   ],
   "source": [
    "balance_tir(seleccionadas)"
   ]
  },
  {
   "cell_type": "code",
   "execution_count": 25,
   "metadata": {},
   "outputs": [
    {
     "data": {
      "text/plain": [
       "'La TIR es 13.72%'"
      ]
     },
     "execution_count": 25,
     "metadata": {},
     "output_type": "execute_result"
    }
   ],
   "source": [
    "flujo_final = balance_tir(seleccionadas).groupby('FECHA').sum()['FLUJO DE CAJA']\n",
    "tir = xtir(valores = flujo_final.values, fechas = flujo_final.index)\n",
    "f'La TIR es {tir:.2%}'"
   ]
  },
  {
   "cell_type": "markdown",
   "metadata": {},
   "source": [
    "## Resumen de beneficios"
   ]
  },
  {
   "cell_type": "code",
   "execution_count": 26,
   "metadata": {},
   "outputs": [
    {
     "data": {
      "text/html": [
       "        <script type=\"text/javascript\">\n",
       "        window.PlotlyConfig = {MathJaxConfig: 'local'};\n",
       "        if (window.MathJax) {MathJax.Hub.Config({SVG: {font: \"STIX-Web\"}});}\n",
       "        if (typeof require !== 'undefined') {\n",
       "        require.undef(\"plotly\");\n",
       "        requirejs.config({\n",
       "            paths: {\n",
       "                'plotly': ['https://cdn.plot.ly/plotly-latest.min']\n",
       "            }\n",
       "        });\n",
       "        require(['plotly'], function(Plotly) {\n",
       "            window._Plotly = Plotly;\n",
       "        });\n",
       "        }\n",
       "        </script>\n",
       "        "
      ]
     },
     "metadata": {},
     "output_type": "display_data"
    },
    {
     "data": {
      "application/vnd.plotly.v1+json": {
       "config": {
        "linkText": "Export to plotly.com",
        "plotlyServerURL": "https://plotly.com",
        "showLink": false
       },
       "data": [
        {
         "hovertemplate": "%{y:$.0f}<extra></extra>",
         "marker": {
          "color": "rgba(255, 0, 0, 0.5)",
          "line": {
           "color": "rgb (255, 0, 0)",
           "width": 1.5
          }
         },
         "name": "Rojo",
         "type": "bar",
         "uid": "8fb2a731-cd60-445e-b5ec-49a75993ea49",
         "width": 0.5,
         "x": [
          "INDUSTRIAS ALES"
         ],
         "y": [
          -5947.709326848704
         ]
        },
        {
         "hovertemplate": "%{y:$.0f}<extra></extra>",
         "marker": {
          "color": "rgba(0, 255, 0, 0.5)",
          "line": {
           "color": "rgb (0, 255, 0)",
           "width": 1.5
          }
         },
         "name": "Verde",
         "type": "bar",
         "uid": "6093a604-cb8b-4cbe-b1f6-8d3716299331",
         "width": 0.5,
         "x": [
          "CORPORACION FAVORITA",
          "HOTEL COLON",
          "BANCO PRODUBANCO",
          "SOCIEDAD AGRICOLA E IND. SAN CARLOS",
          "BANCO PICHINCHA",
          "INVERSANCARLOS",
          "BANCO BOLIVARIANO",
          "CERVECERIA NACIONAL CN S.A.",
          "CRIDESA"
         ],
         "y": [
          8228.45728915917,
          8500.000387596901,
          12593.504194924211,
          12602.420340596967,
          14353.8437436998,
          15431.578947368427,
          20837.451133672243,
          36489.348484830734,
          41703.916847674736
         ]
        }
       ],
       "layout": {
        "height": 600,
        "plot_bgcolor": "rgb(0, 0, 0)",
        "showlegend": false,
        "template": {
         "data": {
          "bar": [
           {
            "error_x": {
             "color": "#2a3f5f"
            },
            "error_y": {
             "color": "#2a3f5f"
            },
            "marker": {
             "line": {
              "color": "#E5ECF6",
              "width": 0.5
             }
            },
            "type": "bar"
           }
          ],
          "barpolar": [
           {
            "marker": {
             "line": {
              "color": "#E5ECF6",
              "width": 0.5
             }
            },
            "type": "barpolar"
           }
          ],
          "carpet": [
           {
            "aaxis": {
             "endlinecolor": "#2a3f5f",
             "gridcolor": "white",
             "linecolor": "white",
             "minorgridcolor": "white",
             "startlinecolor": "#2a3f5f"
            },
            "baxis": {
             "endlinecolor": "#2a3f5f",
             "gridcolor": "white",
             "linecolor": "white",
             "minorgridcolor": "white",
             "startlinecolor": "#2a3f5f"
            },
            "type": "carpet"
           }
          ],
          "choropleth": [
           {
            "colorbar": {
             "outlinewidth": 0,
             "ticks": ""
            },
            "type": "choropleth"
           }
          ],
          "contour": [
           {
            "colorbar": {
             "outlinewidth": 0,
             "ticks": ""
            },
            "colorscale": [
             [
              0,
              "#0d0887"
             ],
             [
              0.1111111111111111,
              "#46039f"
             ],
             [
              0.2222222222222222,
              "#7201a8"
             ],
             [
              0.3333333333333333,
              "#9c179e"
             ],
             [
              0.4444444444444444,
              "#bd3786"
             ],
             [
              0.5555555555555556,
              "#d8576b"
             ],
             [
              0.6666666666666666,
              "#ed7953"
             ],
             [
              0.7777777777777778,
              "#fb9f3a"
             ],
             [
              0.8888888888888888,
              "#fdca26"
             ],
             [
              1,
              "#f0f921"
             ]
            ],
            "type": "contour"
           }
          ],
          "contourcarpet": [
           {
            "colorbar": {
             "outlinewidth": 0,
             "ticks": ""
            },
            "type": "contourcarpet"
           }
          ],
          "heatmap": [
           {
            "colorbar": {
             "outlinewidth": 0,
             "ticks": ""
            },
            "colorscale": [
             [
              0,
              "#0d0887"
             ],
             [
              0.1111111111111111,
              "#46039f"
             ],
             [
              0.2222222222222222,
              "#7201a8"
             ],
             [
              0.3333333333333333,
              "#9c179e"
             ],
             [
              0.4444444444444444,
              "#bd3786"
             ],
             [
              0.5555555555555556,
              "#d8576b"
             ],
             [
              0.6666666666666666,
              "#ed7953"
             ],
             [
              0.7777777777777778,
              "#fb9f3a"
             ],
             [
              0.8888888888888888,
              "#fdca26"
             ],
             [
              1,
              "#f0f921"
             ]
            ],
            "type": "heatmap"
           }
          ],
          "heatmapgl": [
           {
            "colorbar": {
             "outlinewidth": 0,
             "ticks": ""
            },
            "colorscale": [
             [
              0,
              "#0d0887"
             ],
             [
              0.1111111111111111,
              "#46039f"
             ],
             [
              0.2222222222222222,
              "#7201a8"
             ],
             [
              0.3333333333333333,
              "#9c179e"
             ],
             [
              0.4444444444444444,
              "#bd3786"
             ],
             [
              0.5555555555555556,
              "#d8576b"
             ],
             [
              0.6666666666666666,
              "#ed7953"
             ],
             [
              0.7777777777777778,
              "#fb9f3a"
             ],
             [
              0.8888888888888888,
              "#fdca26"
             ],
             [
              1,
              "#f0f921"
             ]
            ],
            "type": "heatmapgl"
           }
          ],
          "histogram": [
           {
            "marker": {
             "colorbar": {
              "outlinewidth": 0,
              "ticks": ""
             }
            },
            "type": "histogram"
           }
          ],
          "histogram2d": [
           {
            "colorbar": {
             "outlinewidth": 0,
             "ticks": ""
            },
            "colorscale": [
             [
              0,
              "#0d0887"
             ],
             [
              0.1111111111111111,
              "#46039f"
             ],
             [
              0.2222222222222222,
              "#7201a8"
             ],
             [
              0.3333333333333333,
              "#9c179e"
             ],
             [
              0.4444444444444444,
              "#bd3786"
             ],
             [
              0.5555555555555556,
              "#d8576b"
             ],
             [
              0.6666666666666666,
              "#ed7953"
             ],
             [
              0.7777777777777778,
              "#fb9f3a"
             ],
             [
              0.8888888888888888,
              "#fdca26"
             ],
             [
              1,
              "#f0f921"
             ]
            ],
            "type": "histogram2d"
           }
          ],
          "histogram2dcontour": [
           {
            "colorbar": {
             "outlinewidth": 0,
             "ticks": ""
            },
            "colorscale": [
             [
              0,
              "#0d0887"
             ],
             [
              0.1111111111111111,
              "#46039f"
             ],
             [
              0.2222222222222222,
              "#7201a8"
             ],
             [
              0.3333333333333333,
              "#9c179e"
             ],
             [
              0.4444444444444444,
              "#bd3786"
             ],
             [
              0.5555555555555556,
              "#d8576b"
             ],
             [
              0.6666666666666666,
              "#ed7953"
             ],
             [
              0.7777777777777778,
              "#fb9f3a"
             ],
             [
              0.8888888888888888,
              "#fdca26"
             ],
             [
              1,
              "#f0f921"
             ]
            ],
            "type": "histogram2dcontour"
           }
          ],
          "mesh3d": [
           {
            "colorbar": {
             "outlinewidth": 0,
             "ticks": ""
            },
            "type": "mesh3d"
           }
          ],
          "parcoords": [
           {
            "line": {
             "colorbar": {
              "outlinewidth": 0,
              "ticks": ""
             }
            },
            "type": "parcoords"
           }
          ],
          "pie": [
           {
            "automargin": true,
            "type": "pie"
           }
          ],
          "scatter": [
           {
            "marker": {
             "colorbar": {
              "outlinewidth": 0,
              "ticks": ""
             }
            },
            "type": "scatter"
           }
          ],
          "scatter3d": [
           {
            "line": {
             "colorbar": {
              "outlinewidth": 0,
              "ticks": ""
             }
            },
            "marker": {
             "colorbar": {
              "outlinewidth": 0,
              "ticks": ""
             }
            },
            "type": "scatter3d"
           }
          ],
          "scattercarpet": [
           {
            "marker": {
             "colorbar": {
              "outlinewidth": 0,
              "ticks": ""
             }
            },
            "type": "scattercarpet"
           }
          ],
          "scattergeo": [
           {
            "marker": {
             "colorbar": {
              "outlinewidth": 0,
              "ticks": ""
             }
            },
            "type": "scattergeo"
           }
          ],
          "scattergl": [
           {
            "marker": {
             "colorbar": {
              "outlinewidth": 0,
              "ticks": ""
             }
            },
            "type": "scattergl"
           }
          ],
          "scattermapbox": [
           {
            "marker": {
             "colorbar": {
              "outlinewidth": 0,
              "ticks": ""
             }
            },
            "type": "scattermapbox"
           }
          ],
          "scatterpolar": [
           {
            "marker": {
             "colorbar": {
              "outlinewidth": 0,
              "ticks": ""
             }
            },
            "type": "scatterpolar"
           }
          ],
          "scatterpolargl": [
           {
            "marker": {
             "colorbar": {
              "outlinewidth": 0,
              "ticks": ""
             }
            },
            "type": "scatterpolargl"
           }
          ],
          "scatterternary": [
           {
            "marker": {
             "colorbar": {
              "outlinewidth": 0,
              "ticks": ""
             }
            },
            "type": "scatterternary"
           }
          ],
          "surface": [
           {
            "colorbar": {
             "outlinewidth": 0,
             "ticks": ""
            },
            "colorscale": [
             [
              0,
              "#0d0887"
             ],
             [
              0.1111111111111111,
              "#46039f"
             ],
             [
              0.2222222222222222,
              "#7201a8"
             ],
             [
              0.3333333333333333,
              "#9c179e"
             ],
             [
              0.4444444444444444,
              "#bd3786"
             ],
             [
              0.5555555555555556,
              "#d8576b"
             ],
             [
              0.6666666666666666,
              "#ed7953"
             ],
             [
              0.7777777777777778,
              "#fb9f3a"
             ],
             [
              0.8888888888888888,
              "#fdca26"
             ],
             [
              1,
              "#f0f921"
             ]
            ],
            "type": "surface"
           }
          ],
          "table": [
           {
            "cells": {
             "fill": {
              "color": "#EBF0F8"
             },
             "line": {
              "color": "white"
             }
            },
            "header": {
             "fill": {
              "color": "#C8D4E3"
             },
             "line": {
              "color": "white"
             }
            },
            "type": "table"
           }
          ]
         },
         "layout": {
          "annotationdefaults": {
           "arrowcolor": "#2a3f5f",
           "arrowhead": 0,
           "arrowwidth": 1
          },
          "autotypenumbers": "strict",
          "coloraxis": {
           "colorbar": {
            "outlinewidth": 0,
            "ticks": ""
           }
          },
          "colorscale": {
           "diverging": [
            [
             0,
             "#8e0152"
            ],
            [
             0.1,
             "#c51b7d"
            ],
            [
             0.2,
             "#de77ae"
            ],
            [
             0.3,
             "#f1b6da"
            ],
            [
             0.4,
             "#fde0ef"
            ],
            [
             0.5,
             "#f7f7f7"
            ],
            [
             0.6,
             "#e6f5d0"
            ],
            [
             0.7,
             "#b8e186"
            ],
            [
             0.8,
             "#7fbc41"
            ],
            [
             0.9,
             "#4d9221"
            ],
            [
             1,
             "#276419"
            ]
           ],
           "sequential": [
            [
             0,
             "#0d0887"
            ],
            [
             0.1111111111111111,
             "#46039f"
            ],
            [
             0.2222222222222222,
             "#7201a8"
            ],
            [
             0.3333333333333333,
             "#9c179e"
            ],
            [
             0.4444444444444444,
             "#bd3786"
            ],
            [
             0.5555555555555556,
             "#d8576b"
            ],
            [
             0.6666666666666666,
             "#ed7953"
            ],
            [
             0.7777777777777778,
             "#fb9f3a"
            ],
            [
             0.8888888888888888,
             "#fdca26"
            ],
            [
             1,
             "#f0f921"
            ]
           ],
           "sequentialminus": [
            [
             0,
             "#0d0887"
            ],
            [
             0.1111111111111111,
             "#46039f"
            ],
            [
             0.2222222222222222,
             "#7201a8"
            ],
            [
             0.3333333333333333,
             "#9c179e"
            ],
            [
             0.4444444444444444,
             "#bd3786"
            ],
            [
             0.5555555555555556,
             "#d8576b"
            ],
            [
             0.6666666666666666,
             "#ed7953"
            ],
            [
             0.7777777777777778,
             "#fb9f3a"
            ],
            [
             0.8888888888888888,
             "#fdca26"
            ],
            [
             1,
             "#f0f921"
            ]
           ]
          },
          "colorway": [
           "#636efa",
           "#EF553B",
           "#00cc96",
           "#ab63fa",
           "#FFA15A",
           "#19d3f3",
           "#FF6692",
           "#B6E880",
           "#FF97FF",
           "#FECB52"
          ],
          "font": {
           "color": "#2a3f5f"
          },
          "geo": {
           "bgcolor": "white",
           "lakecolor": "white",
           "landcolor": "#E5ECF6",
           "showlakes": true,
           "showland": true,
           "subunitcolor": "white"
          },
          "hoverlabel": {
           "align": "left"
          },
          "hovermode": "closest",
          "mapbox": {
           "style": "light"
          },
          "paper_bgcolor": "white",
          "plot_bgcolor": "#E5ECF6",
          "polar": {
           "angularaxis": {
            "gridcolor": "white",
            "linecolor": "white",
            "ticks": ""
           },
           "bgcolor": "#E5ECF6",
           "radialaxis": {
            "gridcolor": "white",
            "linecolor": "white",
            "ticks": ""
           }
          },
          "scene": {
           "xaxis": {
            "backgroundcolor": "#E5ECF6",
            "gridcolor": "white",
            "gridwidth": 2,
            "linecolor": "white",
            "showbackground": true,
            "ticks": "",
            "zerolinecolor": "white"
           },
           "yaxis": {
            "backgroundcolor": "#E5ECF6",
            "gridcolor": "white",
            "gridwidth": 2,
            "linecolor": "white",
            "showbackground": true,
            "ticks": "",
            "zerolinecolor": "white"
           },
           "zaxis": {
            "backgroundcolor": "#E5ECF6",
            "gridcolor": "white",
            "gridwidth": 2,
            "linecolor": "white",
            "showbackground": true,
            "ticks": "",
            "zerolinecolor": "white"
           }
          },
          "shapedefaults": {
           "line": {
            "color": "#2a3f5f"
           }
          },
          "ternary": {
           "aaxis": {
            "gridcolor": "white",
            "linecolor": "white",
            "ticks": ""
           },
           "baxis": {
            "gridcolor": "white",
            "linecolor": "white",
            "ticks": ""
           },
           "bgcolor": "#E5ECF6",
           "caxis": {
            "gridcolor": "white",
            "linecolor": "white",
            "ticks": ""
           }
          },
          "title": {
           "x": 0.05
          },
          "xaxis": {
           "automargin": true,
           "gridcolor": "white",
           "linecolor": "white",
           "ticks": "",
           "title": {
            "standoff": 15
           },
           "zerolinecolor": "white",
           "zerolinewidth": 2
          },
          "yaxis": {
           "automargin": true,
           "gridcolor": "white",
           "linecolor": "white",
           "ticks": "",
           "title": {
            "standoff": 15
           },
           "zerolinecolor": "white",
           "zerolinewidth": 2
          }
         }
        },
        "title": {
         "text": "BENEFICIOS TOTALES POR COMPAÑIA"
        },
        "width": 900,
        "xaxis": {
         "autorange": true,
         "range": [
          -0.5,
          9.5
         ],
         "type": "category"
        },
        "yaxis": {
         "autorange": true,
         "range": [
          -8595.021892100007,
          44351.22941292604
         ],
         "type": "linear"
        }
       }
      },
      "image/png": "[encoded data removed]",
      "text/html": [
       "<div>                            <div id=\"c95d9be6-a621-478d-93df-4c47f9f2b07a\" class=\"plotly-graph-div\" style=\"height:600px; width:900px;\"></div>            <script type=\"text/javascript\">                require([\"plotly\"], function(Plotly) {                    window.PLOTLYENV=window.PLOTLYENV || {};                                    if (document.getElementById(\"c95d9be6-a621-478d-93df-4c47f9f2b07a\")) {                    Plotly.newPlot(                        \"c95d9be6-a621-478d-93df-4c47f9f2b07a\",                        [{\"hovertemplate\": \"%{y:$.0f}<extra></extra>\", \"marker\": {\"color\": \"rgba(255, 0, 0, 0.5)\", \"line\": {\"color\": \"rgb (255, 0, 0)\", \"width\": 1.5}}, \"name\": \"Rojo\", \"type\": \"bar\", \"uid\": \"8fb2a731-cd60-445e-b5ec-49a75993ea49\", \"width\": 0.5, \"x\": [\"INDUSTRIAS ALES\"], \"y\": [-5947.709326848704]}, {\"hovertemplate\": \"%{y:$.0f}<extra></extra>\", \"marker\": {\"color\": \"rgba(0, 255, 0, 0.5)\", \"line\": {\"color\": \"rgb (0, 255, 0)\", \"width\": 1.5}}, \"name\": \"Verde\", \"type\": \"bar\", \"uid\": \"6093a604-cb8b-4cbe-b1f6-8d3716299331\", \"width\": 0.5, \"x\": [\"CORPORACION FAVORITA\", \"HOTEL COLON\", \"BANCO PRODUBANCO\", \"SOCIEDAD AGRICOLA E IND. SAN CARLOS\", \"BANCO PICHINCHA\", \"INVERSANCARLOS\", \"BANCO BOLIVARIANO\", \"CERVECERIA NACIONAL CN S.A.\", \"CRIDESA\"], \"y\": [8228.45728915917, 8500.000387596901, 12593.504194924211, 12602.420340596967, 14353.8437436998, 15431.578947368427, 20837.451133672243, 36489.348484830734, 41703.916847674736]}],                        {\"height\": 600, \"plot_bgcolor\": \"rgb (0, 0, 0)\", \"showlegend\": false, \"template\": {\"data\": {\"bar\": [{\"error_x\": {\"color\": \"#2a3f5f\"}, \"error_y\": {\"color\": \"#2a3f5f\"}, \"marker\": {\"line\": {\"color\": \"#E5ECF6\", \"width\": 0.5}}, \"type\": \"bar\"}], \"barpolar\": [{\"marker\": {\"line\": {\"color\": \"#E5ECF6\", \"width\": 0.5}}, \"type\": \"barpolar\"}], \"carpet\": [{\"aaxis\": {\"endlinecolor\": \"#2a3f5f\", \"gridcolor\": \"white\", \"linecolor\": \"white\", \"minorgridcolor\": \"white\", \"startlinecolor\": \"#2a3f5f\"}, \"baxis\": {\"endlinecolor\": \"#2a3f5f\", \"gridcolor\": \"white\", \"linecolor\": \"white\", \"minorgridcolor\": \"white\", \"startlinecolor\": \"#2a3f5f\"}, \"type\": \"carpet\"}], \"choropleth\": [{\"colorbar\": {\"outlinewidth\": 0, \"ticks\": \"\"}, \"type\": \"choropleth\"}], \"contour\": [{\"colorbar\": {\"outlinewidth\": 0, \"ticks\": \"\"}, \"colorscale\": [[0.0, \"#0d0887\"], [0.1111111111111111, \"#46039f\"], [0.2222222222222222, \"#7201a8\"], [0.3333333333333333, \"#9c179e\"], [0.4444444444444444, \"#bd3786\"], [0.5555555555555556, \"#d8576b\"], [0.6666666666666666, \"#ed7953\"], [0.7777777777777778, \"#fb9f3a\"], [0.8888888888888888, \"#fdca26\"], [1.0, \"#f0f921\"]], \"type\": \"contour\"}], \"contourcarpet\": [{\"colorbar\": {\"outlinewidth\": 0, \"ticks\": \"\"}, \"type\": \"contourcarpet\"}], \"heatmap\": [{\"colorbar\": {\"outlinewidth\": 0, \"ticks\": \"\"}, \"colorscale\": [[0.0, \"#0d0887\"], [0.1111111111111111, \"#46039f\"], [0.2222222222222222, \"#7201a8\"], [0.3333333333333333, \"#9c179e\"], [0.4444444444444444, \"#bd3786\"], [0.5555555555555556, \"#d8576b\"], [0.6666666666666666, \"#ed7953\"], [0.7777777777777778, \"#fb9f3a\"], [0.8888888888888888, \"#fdca26\"], [1.0, \"#f0f921\"]], \"type\": \"heatmap\"}], \"heatmapgl\": [{\"colorbar\": {\"outlinewidth\": 0, \"ticks\": \"\"}, \"colorscale\": [[0.0, \"#0d0887\"], [0.1111111111111111, \"#46039f\"], [0.2222222222222222, \"#7201a8\"], [0.3333333333333333, \"#9c179e\"], [0.4444444444444444, \"#bd3786\"], [0.5555555555555556, \"#d8576b\"], [0.6666666666666666, \"#ed7953\"], [0.7777777777777778, \"#fb9f3a\"], [0.8888888888888888, \"#fdca26\"], [1.0, \"#f0f921\"]], \"type\": \"heatmapgl\"}], \"histogram\": [{\"marker\": {\"colorbar\": {\"outlinewidth\": 0, \"ticks\": \"\"}}, \"type\": \"histogram\"}], \"histogram2d\": [{\"colorbar\": {\"outlinewidth\": 0, \"ticks\": \"\"}, \"colorscale\": [[0.0, \"#0d0887\"], [0.1111111111111111, \"#46039f\"], [0.2222222222222222, \"#7201a8\"], [0.3333333333333333, \"#9c179e\"], [0.4444444444444444, \"#bd3786\"], [0.5555555555555556, \"#d8576b\"], [0.6666666666666666, \"#ed7953\"], [0.7777777777777778, \"#fb9f3a\"], [0.8888888888888888, \"#fdca26\"], [1.0, \"#f0f921\"]], \"type\": \"histogram2d\"}], \"histogram2dcontour\": [{\"colorbar\": {\"outlinewidth\": 0, \"ticks\": \"\"}, \"colorscale\": [[0.0, \"#0d0887\"], [0.1111111111111111, \"#46039f\"], [0.2222222222222222, \"#7201a8\"], [0.3333333333333333, \"#9c179e\"], [0.4444444444444444, \"#bd3786\"], [0.5555555555555556, \"#d8576b\"], [0.6666666666666666, \"#ed7953\"], [0.7777777777777778, \"#fb9f3a\"], [0.8888888888888888, \"#fdca26\"], [1.0, \"#f0f921\"]], \"type\": \"histogram2dcontour\"}], \"mesh3d\": [{\"colorbar\": {\"outlinewidth\": 0, \"ticks\": \"\"}, \"type\": \"mesh3d\"}], \"parcoords\": [{\"line\": {\"colorbar\": {\"outlinewidth\": 0, \"ticks\": \"\"}}, \"type\": \"parcoords\"}], \"pie\": [{\"automargin\": true, \"type\": \"pie\"}], \"scatter\": [{\"marker\": {\"colorbar\": {\"outlinewidth\": 0, \"ticks\": \"\"}}, \"type\": \"scatter\"}], \"scatter3d\": [{\"line\": {\"colorbar\": {\"outlinewidth\": 0, \"ticks\": \"\"}}, \"marker\": {\"colorbar\": {\"outlinewidth\": 0, \"ticks\": \"\"}}, \"type\": \"scatter3d\"}], \"scattercarpet\": [{\"marker\": {\"colorbar\": {\"outlinewidth\": 0, \"ticks\": \"\"}}, \"type\": \"scattercarpet\"}], \"scattergeo\": [{\"marker\": {\"colorbar\": {\"outlinewidth\": 0, \"ticks\": \"\"}}, \"type\": \"scattergeo\"}], \"scattergl\": [{\"marker\": {\"colorbar\": {\"outlinewidth\": 0, \"ticks\": \"\"}}, \"type\": \"scattergl\"}], \"scattermapbox\": [{\"marker\": {\"colorbar\": {\"outlinewidth\": 0, \"ticks\": \"\"}}, \"type\": \"scattermapbox\"}], \"scatterpolar\": [{\"marker\": {\"colorbar\": {\"outlinewidth\": 0, \"ticks\": \"\"}}, \"type\": \"scatterpolar\"}], \"scatterpolargl\": [{\"marker\": {\"colorbar\": {\"outlinewidth\": 0, \"ticks\": \"\"}}, \"type\": \"scatterpolargl\"}], \"scatterternary\": [{\"marker\": {\"colorbar\": {\"outlinewidth\": 0, \"ticks\": \"\"}}, \"type\": \"scatterternary\"}], \"surface\": [{\"colorbar\": {\"outlinewidth\": 0, \"ticks\": \"\"}, \"colorscale\": [[0.0, \"#0d0887\"], [0.1111111111111111, \"#46039f\"], [0.2222222222222222, \"#7201a8\"], [0.3333333333333333, \"#9c179e\"], [0.4444444444444444, \"#bd3786\"], [0.5555555555555556, \"#d8576b\"], [0.6666666666666666, \"#ed7953\"], [0.7777777777777778, \"#fb9f3a\"], [0.8888888888888888, \"#fdca26\"], [1.0, \"#f0f921\"]], \"type\": \"surface\"}], \"table\": [{\"cells\": {\"fill\": {\"color\": \"#EBF0F8\"}, \"line\": {\"color\": \"white\"}}, \"header\": {\"fill\": {\"color\": \"#C8D4E3\"}, \"line\": {\"color\": \"white\"}}, \"type\": \"table\"}]}, \"layout\": {\"annotationdefaults\": {\"arrowcolor\": \"#2a3f5f\", \"arrowhead\": 0, \"arrowwidth\": 1}, \"autotypenumbers\": \"strict\", \"coloraxis\": {\"colorbar\": {\"outlinewidth\": 0, \"ticks\": \"\"}}, \"colorscale\": {\"diverging\": [[0, \"#8e0152\"], [0.1, \"#c51b7d\"], [0.2, \"#de77ae\"], [0.3, \"#f1b6da\"], [0.4, \"#fde0ef\"], [0.5, \"#f7f7f7\"], [0.6, \"#e6f5d0\"], [0.7, \"#b8e186\"], [0.8, \"#7fbc41\"], [0.9, \"#4d9221\"], [1, \"#276419\"]], \"sequential\": [[0.0, \"#0d0887\"], [0.1111111111111111, \"#46039f\"], [0.2222222222222222, \"#7201a8\"], [0.3333333333333333, \"#9c179e\"], [0.4444444444444444, \"#bd3786\"], [0.5555555555555556, \"#d8576b\"], [0.6666666666666666, \"#ed7953\"], [0.7777777777777778, \"#fb9f3a\"], [0.8888888888888888, \"#fdca26\"], [1.0, \"#f0f921\"]], \"sequentialminus\": [[0.0, \"#0d0887\"], [0.1111111111111111, \"#46039f\"], [0.2222222222222222, \"#7201a8\"], [0.3333333333333333, \"#9c179e\"], [0.4444444444444444, \"#bd3786\"], [0.5555555555555556, \"#d8576b\"], [0.6666666666666666, \"#ed7953\"], [0.7777777777777778, \"#fb9f3a\"], [0.8888888888888888, \"#fdca26\"], [1.0, \"#f0f921\"]]}, \"colorway\": [\"#636efa\", \"#EF553B\", \"#00cc96\", \"#ab63fa\", \"#FFA15A\", \"#19d3f3\", \"#FF6692\", \"#B6E880\", \"#FF97FF\", \"#FECB52\"], \"font\": {\"color\": \"#2a3f5f\"}, \"geo\": {\"bgcolor\": \"white\", \"lakecolor\": \"white\", \"landcolor\": \"#E5ECF6\", \"showlakes\": true, \"showland\": true, \"subunitcolor\": \"white\"}, \"hoverlabel\": {\"align\": \"left\"}, \"hovermode\": \"closest\", \"mapbox\": {\"style\": \"light\"}, \"paper_bgcolor\": \"white\", \"plot_bgcolor\": \"#E5ECF6\", \"polar\": {\"angularaxis\": {\"gridcolor\": \"white\", \"linecolor\": \"white\", \"ticks\": \"\"}, \"bgcolor\": \"#E5ECF6\", \"radialaxis\": {\"gridcolor\": \"white\", \"linecolor\": \"white\", \"ticks\": \"\"}}, \"scene\": {\"xaxis\": {\"backgroundcolor\": \"#E5ECF6\", \"gridcolor\": \"white\", \"gridwidth\": 2, \"linecolor\": \"white\", \"showbackground\": true, \"ticks\": \"\", \"zerolinecolor\": \"white\"}, \"yaxis\": {\"backgroundcolor\": \"#E5ECF6\", \"gridcolor\": \"white\", \"gridwidth\": 2, \"linecolor\": \"white\", \"showbackground\": true, \"ticks\": \"\", \"zerolinecolor\": \"white\"}, \"zaxis\": {\"backgroundcolor\": \"#E5ECF6\", \"gridcolor\": \"white\", \"gridwidth\": 2, \"linecolor\": \"white\", \"showbackground\": true, \"ticks\": \"\", \"zerolinecolor\": \"white\"}}, \"shapedefaults\": {\"line\": {\"color\": \"#2a3f5f\"}}, \"ternary\": {\"aaxis\": {\"gridcolor\": \"white\", \"linecolor\": \"white\", \"ticks\": \"\"}, \"baxis\": {\"gridcolor\": \"white\", \"linecolor\": \"white\", \"ticks\": \"\"}, \"bgcolor\": \"#E5ECF6\", \"caxis\": {\"gridcolor\": \"white\", \"linecolor\": \"white\", \"ticks\": \"\"}}, \"title\": {\"x\": 0.05}, \"xaxis\": {\"automargin\": true, \"gridcolor\": \"white\", \"linecolor\": \"white\", \"ticks\": \"\", \"title\": {\"standoff\": 15}, \"zerolinecolor\": \"white\", \"zerolinewidth\": 2}, \"yaxis\": {\"automargin\": true, \"gridcolor\": \"white\", \"linecolor\": \"white\", \"ticks\": \"\", \"title\": {\"standoff\": 15}, \"zerolinecolor\": \"white\", \"zerolinewidth\": 2}}}, \"title\": {\"text\": \"BENEFICIOS TOTALES POR COMPA\\u00d1IA\"}, \"width\": 900},                        {\"responsive\": true}                    ).then(function(){\n",
       "                            \n",
       "var gd = document.getElementById('c95d9be6-a621-478d-93df-4c47f9f2b07a');\n",
       "var x = new MutationObserver(function (mutations, observer) {{\n",
       "        var display = window.getComputedStyle(gd).display;\n",
       "        if (!display || display === 'none') {{\n",
       "            console.log([gd, 'removed!']);\n",
       "            Plotly.purge(gd);\n",
       "            observer.disconnect();\n",
       "        }}\n",
       "}});\n",
       "\n",
       "// Listen for the removal of the full notebook cells\n",
       "var notebookContainer = gd.closest('#notebook-container');\n",
       "if (notebookContainer) {{\n",
       "    x.observe(notebookContainer, {childList: true});\n",
       "}}\n",
       "\n",
       "// Listen for the clearing of the current output cell\n",
       "var outputEl = gd.closest('.output');\n",
       "if (outputEl) {{\n",
       "    x.observe(outputEl, {childList: true});\n",
       "}}\n",
       "\n",
       "                        })                };                });            </script>        </div>"
      ]
     },
     "metadata": {},
     "output_type": "display_data"
    }
   ],
   "source": [
    "import chart_studio.plotly as py\n",
    "import plotly.graph_objects as go\n",
    "from plotly.offline import init_notebook_mode, iplot\n",
    "init_notebook_mode(connected=True)\n",
    "\n",
    "resultados_cias = (reporte.resultados()['TOTAL']-monto_invertido/num_activos).sort_values()\n",
    "\n",
    "x = resultados_cias.index\n",
    "y = resultados_cias.values\n",
    "\n",
    "bins = [-100_000, 0, 100_000]\n",
    "labels = ['Rojo', 'Verde']\n",
    "\n",
    "colors = {'Rojo': 'rgba(255, 0, 0, 0.5)',\n",
    "          'Verde': 'rgba(0, 255, 0, 0.5)'}\n",
    "\n",
    "df = pd.DataFrame({'y': y,\n",
    "                   'x': x,\n",
    "                   'label': pd.cut(y, bins=bins, labels=labels)})\n",
    "\n",
    "bars = []\n",
    "for label, label_df in df.groupby('label'):\n",
    "    bars.append(go.Bar(x=label_df.x,\n",
    "                       y=label_df.y,\n",
    "                       name=label,\n",
    "                       marker={'color': colors[label],}))\n",
    "    \n",
    "layout = { \"title\": \"BENEFICIOS TOTALES POR COMPAÑIA\", \n",
    "          \"width\": 900, \n",
    "          \"height\": 600,\n",
    "          \"plot_bgcolor\": 'rgb (0, 0, 0)'}#None}\n",
    "\n",
    "fig = go.FigureWidget(data=bars, layout=layout)   \n",
    "fig.update_layout(showlegend=False)\n",
    "\n",
    "fig.update_traces( marker_line_color='rgb (0, 255, 0)',\n",
    "                  marker_line_width=1.5, width=0.5, hovertemplate = '%{y:$.0f}<extra></extra>',\n",
    "                  selector={'marker_color': 'rgba(0, 255, 0, 0.5)'})\n",
    "\n",
    "fig.update_traces( marker_line_color='rgb (255, 0, 0)',\n",
    "                  marker_line_width=1.5, width=0.5, hovertemplate = '%{y:$.0f}<extra></extra>',\n",
    "                  selector={'marker_color': 'rgba(255, 0, 0, 0.5)'})\n",
    "\n",
    "iplot(fig)"
   ]
  },
  {
   "cell_type": "markdown",
   "metadata": {},
   "source": [
    "### Revalorización del precio de la acción VS ingresos por dividendos recibidos"
   ]
  },
  {
   "cell_type": "code",
   "execution_count": 27,
   "metadata": {},
   "outputs": [
    {
     "data": {
      "application/vnd.plotly.v1+json": {
       "config": {
        "plotlyServerURL": "https://plotly.com"
       },
       "data": [
        {
         "hovertemplate": "%{y:$.0f}<extra></extra>",
         "marker": {
          "color": "aqua"
         },
         "name": "Dividendos",
         "type": "bar",
         "x": [
          "CORPORACION FAVORITA",
          "BANCO PICHINCHA",
          "SOCIEDAD AGRICOLA E IND. SAN CARLOS",
          "BANCO PRODUBANCO",
          "CERVECERIA NACIONAL CN S.A.",
          "INVERSANCARLOS",
          "INDUSTRIAS ALES",
          "BANCO BOLIVARIANO",
          "HOTEL COLON",
          "CRIDESA"
         ],
         "y": [
          4346.415035638041,
          4807.610747066795,
          9411.243870008733,
          6257.482689547865,
          17822.68181816407,
          11652.63157894737,
          907.9439804175066,
          7068.717910522779,
          8166.6670542635675,
          25271.168309663044
         ]
        },
        {
         "hovertemplate": "%{y:$.0f}<extra></extra>",
         "marker": {
          "color": "deeppink"
         },
         "name": "Rev.Precio",
         "type": "bar",
         "x": [
          "CORPORACION FAVORITA",
          "BANCO PICHINCHA",
          "SOCIEDAD AGRICOLA E IND. SAN CARLOS",
          "BANCO PRODUBANCO",
          "CERVECERIA NACIONAL CN S.A.",
          "INVERSANCARLOS",
          "INDUSTRIAS ALES",
          "BANCO BOLIVARIANO",
          "HOTEL COLON",
          "CRIDESA"
         ],
         "y": [
          3882.042253521129,
          9546.232996633003,
          3191.176470588236,
          6336.021505376346,
          18666.666666666664,
          3778.947368421055,
          -6855.653307266211,
          13768.733223149462,
          333.33333333333394,
          16432.748538011692
         ]
        }
       ],
       "layout": {
        "barmode": "group",
        "height": 600,
        "legend": {
         "x": 0.01,
         "xanchor": "left",
         "y": 0.99,
         "yanchor": "top"
        },
        "template": {
         "data": {
          "bar": [
           {
            "error_x": {
             "color": "#2a3f5f"
            },
            "error_y": {
             "color": "#2a3f5f"
            },
            "marker": {
             "line": {
              "color": "#E5ECF6",
              "width": 0.5
             }
            },
            "type": "bar"
           }
          ],
          "barpolar": [
           {
            "marker": {
             "line": {
              "color": "#E5ECF6",
              "width": 0.5
             }
            },
            "type": "barpolar"
           }
          ],
          "carpet": [
           {
            "aaxis": {
             "endlinecolor": "#2a3f5f",
             "gridcolor": "white",
             "linecolor": "white",
             "minorgridcolor": "white",
             "startlinecolor": "#2a3f5f"
            },
            "baxis": {
             "endlinecolor": "#2a3f5f",
             "gridcolor": "white",
             "linecolor": "white",
             "minorgridcolor": "white",
             "startlinecolor": "#2a3f5f"
            },
            "type": "carpet"
           }
          ],
          "choropleth": [
           {
            "colorbar": {
             "outlinewidth": 0,
             "ticks": ""
            },
            "type": "choropleth"
           }
          ],
          "contour": [
           {
            "colorbar": {
             "outlinewidth": 0,
             "ticks": ""
            },
            "colorscale": [
             [
              0,
              "#0d0887"
             ],
             [
              0.1111111111111111,
              "#46039f"
             ],
             [
              0.2222222222222222,
              "#7201a8"
             ],
             [
              0.3333333333333333,
              "#9c179e"
             ],
             [
              0.4444444444444444,
              "#bd3786"
             ],
             [
              0.5555555555555556,
              "#d8576b"
             ],
             [
              0.6666666666666666,
              "#ed7953"
             ],
             [
              0.7777777777777778,
              "#fb9f3a"
             ],
             [
              0.8888888888888888,
              "#fdca26"
             ],
             [
              1,
              "#f0f921"
             ]
            ],
            "type": "contour"
           }
          ],
          "contourcarpet": [
           {
            "colorbar": {
             "outlinewidth": 0,
             "ticks": ""
            },
            "type": "contourcarpet"
           }
          ],
          "heatmap": [
           {
            "colorbar": {
             "outlinewidth": 0,
             "ticks": ""
            },
            "colorscale": [
             [
              0,
              "#0d0887"
             ],
             [
              0.1111111111111111,
              "#46039f"
             ],
             [
              0.2222222222222222,
              "#7201a8"
             ],
             [
              0.3333333333333333,
              "#9c179e"
             ],
             [
              0.4444444444444444,
              "#bd3786"
             ],
             [
              0.5555555555555556,
              "#d8576b"
             ],
             [
              0.6666666666666666,
              "#ed7953"
             ],
             [
              0.7777777777777778,
              "#fb9f3a"
             ],
             [
              0.8888888888888888,
              "#fdca26"
             ],
             [
              1,
              "#f0f921"
             ]
            ],
            "type": "heatmap"
           }
          ],
          "heatmapgl": [
           {
            "colorbar": {
             "outlinewidth": 0,
             "ticks": ""
            },
            "colorscale": [
             [
              0,
              "#0d0887"
             ],
             [
              0.1111111111111111,
              "#46039f"
             ],
             [
              0.2222222222222222,
              "#7201a8"
             ],
             [
              0.3333333333333333,
              "#9c179e"
             ],
             [
              0.4444444444444444,
              "#bd3786"
             ],
             [
              0.5555555555555556,
              "#d8576b"
             ],
             [
              0.6666666666666666,
              "#ed7953"
             ],
             [
              0.7777777777777778,
              "#fb9f3a"
             ],
             [
              0.8888888888888888,
              "#fdca26"
             ],
             [
              1,
              "#f0f921"
             ]
            ],
            "type": "heatmapgl"
           }
          ],
          "histogram": [
           {
            "marker": {
             "colorbar": {
              "outlinewidth": 0,
              "ticks": ""
             }
            },
            "type": "histogram"
           }
          ],
          "histogram2d": [
           {
            "colorbar": {
             "outlinewidth": 0,
             "ticks": ""
            },
            "colorscale": [
             [
              0,
              "#0d0887"
             ],
             [
              0.1111111111111111,
              "#46039f"
             ],
             [
              0.2222222222222222,
              "#7201a8"
             ],
             [
              0.3333333333333333,
              "#9c179e"
             ],
             [
              0.4444444444444444,
              "#bd3786"
             ],
             [
              0.5555555555555556,
              "#d8576b"
             ],
             [
              0.6666666666666666,
              "#ed7953"
             ],
             [
              0.7777777777777778,
              "#fb9f3a"
             ],
             [
              0.8888888888888888,
              "#fdca26"
             ],
             [
              1,
              "#f0f921"
             ]
            ],
            "type": "histogram2d"
           }
          ],
          "histogram2dcontour": [
           {
            "colorbar": {
             "outlinewidth": 0,
             "ticks": ""
            },
            "colorscale": [
             [
              0,
              "#0d0887"
             ],
             [
              0.1111111111111111,
              "#46039f"
             ],
             [
              0.2222222222222222,
              "#7201a8"
             ],
             [
              0.3333333333333333,
              "#9c179e"
             ],
             [
              0.4444444444444444,
              "#bd3786"
             ],
             [
              0.5555555555555556,
              "#d8576b"
             ],
             [
              0.6666666666666666,
              "#ed7953"
             ],
             [
              0.7777777777777778,
              "#fb9f3a"
             ],
             [
              0.8888888888888888,
              "#fdca26"
             ],
             [
              1,
              "#f0f921"
             ]
            ],
            "type": "histogram2dcontour"
           }
          ],
          "mesh3d": [
           {
            "colorbar": {
             "outlinewidth": 0,
             "ticks": ""
            },
            "type": "mesh3d"
           }
          ],
          "parcoords": [
           {
            "line": {
             "colorbar": {
              "outlinewidth": 0,
              "ticks": ""
             }
            },
            "type": "parcoords"
           }
          ],
          "pie": [
           {
            "automargin": true,
            "type": "pie"
           }
          ],
          "scatter": [
           {
            "marker": {
             "colorbar": {
              "outlinewidth": 0,
              "ticks": ""
             }
            },
            "type": "scatter"
           }
          ],
          "scatter3d": [
           {
            "line": {
             "colorbar": {
              "outlinewidth": 0,
              "ticks": ""
             }
            },
            "marker": {
             "colorbar": {
              "outlinewidth": 0,
              "ticks": ""
             }
            },
            "type": "scatter3d"
           }
          ],
          "scattercarpet": [
           {
            "marker": {
             "colorbar": {
              "outlinewidth": 0,
              "ticks": ""
             }
            },
            "type": "scattercarpet"
           }
          ],
          "scattergeo": [
           {
            "marker": {
             "colorbar": {
              "outlinewidth": 0,
              "ticks": ""
             }
            },
            "type": "scattergeo"
           }
          ],
          "scattergl": [
           {
            "marker": {
             "colorbar": {
              "outlinewidth": 0,
              "ticks": ""
             }
            },
            "type": "scattergl"
           }
          ],
          "scattermapbox": [
           {
            "marker": {
             "colorbar": {
              "outlinewidth": 0,
              "ticks": ""
             }
            },
            "type": "scattermapbox"
           }
          ],
          "scatterpolar": [
           {
            "marker": {
             "colorbar": {
              "outlinewidth": 0,
              "ticks": ""
             }
            },
            "type": "scatterpolar"
           }
          ],
          "scatterpolargl": [
           {
            "marker": {
             "colorbar": {
              "outlinewidth": 0,
              "ticks": ""
             }
            },
            "type": "scatterpolargl"
           }
          ],
          "scatterternary": [
           {
            "marker": {
             "colorbar": {
              "outlinewidth": 0,
              "ticks": ""
             }
            },
            "type": "scatterternary"
           }
          ],
          "surface": [
           {
            "colorbar": {
             "outlinewidth": 0,
             "ticks": ""
            },
            "colorscale": [
             [
              0,
              "#0d0887"
             ],
             [
              0.1111111111111111,
              "#46039f"
             ],
             [
              0.2222222222222222,
              "#7201a8"
             ],
             [
              0.3333333333333333,
              "#9c179e"
             ],
             [
              0.4444444444444444,
              "#bd3786"
             ],
             [
              0.5555555555555556,
              "#d8576b"
             ],
             [
              0.6666666666666666,
              "#ed7953"
             ],
             [
              0.7777777777777778,
              "#fb9f3a"
             ],
             [
              0.8888888888888888,
              "#fdca26"
             ],
             [
              1,
              "#f0f921"
             ]
            ],
            "type": "surface"
           }
          ],
          "table": [
           {
            "cells": {
             "fill": {
              "color": "#EBF0F8"
             },
             "line": {
              "color": "white"
             }
            },
            "header": {
             "fill": {
              "color": "#C8D4E3"
             },
             "line": {
              "color": "white"
             }
            },
            "type": "table"
           }
          ]
         },
         "layout": {
          "annotationdefaults": {
           "arrowcolor": "#2a3f5f",
           "arrowhead": 0,
           "arrowwidth": 1
          },
          "autotypenumbers": "strict",
          "coloraxis": {
           "colorbar": {
            "outlinewidth": 0,
            "ticks": ""
           }
          },
          "colorscale": {
           "diverging": [
            [
             0,
             "#8e0152"
            ],
            [
             0.1,
             "#c51b7d"
            ],
            [
             0.2,
             "#de77ae"
            ],
            [
             0.3,
             "#f1b6da"
            ],
            [
             0.4,
             "#fde0ef"
            ],
            [
             0.5,
             "#f7f7f7"
            ],
            [
             0.6,
             "#e6f5d0"
            ],
            [
             0.7,
             "#b8e186"
            ],
            [
             0.8,
             "#7fbc41"
            ],
            [
             0.9,
             "#4d9221"
            ],
            [
             1,
             "#276419"
            ]
           ],
           "sequential": [
            [
             0,
             "#0d0887"
            ],
            [
             0.1111111111111111,
             "#46039f"
            ],
            [
             0.2222222222222222,
             "#7201a8"
            ],
            [
             0.3333333333333333,
             "#9c179e"
            ],
            [
             0.4444444444444444,
             "#bd3786"
            ],
            [
             0.5555555555555556,
             "#d8576b"
            ],
            [
             0.6666666666666666,
             "#ed7953"
            ],
            [
             0.7777777777777778,
             "#fb9f3a"
            ],
            [
             0.8888888888888888,
             "#fdca26"
            ],
            [
             1,
             "#f0f921"
            ]
           ],
           "sequentialminus": [
            [
             0,
             "#0d0887"
            ],
            [
             0.1111111111111111,
             "#46039f"
            ],
            [
             0.2222222222222222,
             "#7201a8"
            ],
            [
             0.3333333333333333,
             "#9c179e"
            ],
            [
             0.4444444444444444,
             "#bd3786"
            ],
            [
             0.5555555555555556,
             "#d8576b"
            ],
            [
             0.6666666666666666,
             "#ed7953"
            ],
            [
             0.7777777777777778,
             "#fb9f3a"
            ],
            [
             0.8888888888888888,
             "#fdca26"
            ],
            [
             1,
             "#f0f921"
            ]
           ]
          },
          "colorway": [
           "#636efa",
           "#EF553B",
           "#00cc96",
           "#ab63fa",
           "#FFA15A",
           "#19d3f3",
           "#FF6692",
           "#B6E880",
           "#FF97FF",
           "#FECB52"
          ],
          "font": {
           "color": "#2a3f5f"
          },
          "geo": {
           "bgcolor": "white",
           "lakecolor": "white",
           "landcolor": "#E5ECF6",
           "showlakes": true,
           "showland": true,
           "subunitcolor": "white"
          },
          "hoverlabel": {
           "align": "left"
          },
          "hovermode": "closest",
          "mapbox": {
           "style": "light"
          },
          "paper_bgcolor": "white",
          "plot_bgcolor": "#E5ECF6",
          "polar": {
           "angularaxis": {
            "gridcolor": "white",
            "linecolor": "white",
            "ticks": ""
           },
           "bgcolor": "#E5ECF6",
           "radialaxis": {
            "gridcolor": "white",
            "linecolor": "white",
            "ticks": ""
           }
          },
          "scene": {
           "xaxis": {
            "backgroundcolor": "#E5ECF6",
            "gridcolor": "white",
            "gridwidth": 2,
            "linecolor": "white",
            "showbackground": true,
            "ticks": "",
            "zerolinecolor": "white"
           },
           "yaxis": {
            "backgroundcolor": "#E5ECF6",
            "gridcolor": "white",
            "gridwidth": 2,
            "linecolor": "white",
            "showbackground": true,
            "ticks": "",
            "zerolinecolor": "white"
           },
           "zaxis": {
            "backgroundcolor": "#E5ECF6",
            "gridcolor": "white",
            "gridwidth": 2,
            "linecolor": "white",
            "showbackground": true,
            "ticks": "",
            "zerolinecolor": "white"
           }
          },
          "shapedefaults": {
           "line": {
            "color": "#2a3f5f"
           }
          },
          "ternary": {
           "aaxis": {
            "gridcolor": "white",
            "linecolor": "white",
            "ticks": ""
           },
           "baxis": {
            "gridcolor": "white",
            "linecolor": "white",
            "ticks": ""
           },
           "bgcolor": "#E5ECF6",
           "caxis": {
            "gridcolor": "white",
            "linecolor": "white",
            "ticks": ""
           }
          },
          "title": {
           "x": 0.05
          },
          "xaxis": {
           "automargin": true,
           "gridcolor": "white",
           "linecolor": "white",
           "ticks": "",
           "title": {
            "standoff": 15
           },
           "zerolinecolor": "white",
           "zerolinewidth": 2
          },
          "yaxis": {
           "automargin": true,
           "gridcolor": "white",
           "linecolor": "white",
           "ticks": "",
           "title": {
            "standoff": 15
           },
           "zerolinecolor": "white",
           "zerolinewidth": 2
          }
         }
        },
        "width": 920,
        "xaxis": {
         "autorange": true,
         "range": [
          -0.5,
          9.5
         ],
         "tickangle": -45,
         "type": "category"
        },
        "yaxis": {
         "autorange": true,
         "range": [
          -8640.476730428949,
          27055.99173282578
         ],
         "type": "linear"
        }
       }
      },
      "image/png": "[encoded data removed]",
      "text/html": [
       "<div>                            <div id=\"243d8d0d-6f45-43ab-af3a-26f963968a23\" class=\"plotly-graph-div\" style=\"height:600px; width:920px;\"></div>            <script type=\"text/javascript\">                require([\"plotly\"], function(Plotly) {                    window.PLOTLYENV=window.PLOTLYENV || {};                                    if (document.getElementById(\"243d8d0d-6f45-43ab-af3a-26f963968a23\")) {                    Plotly.newPlot(                        \"243d8d0d-6f45-43ab-af3a-26f963968a23\",                        [{\"hovertemplate\": \"%{y:$.0f}<extra></extra>\", \"marker\": {\"color\": \"aqua\"}, \"name\": \"Dividendos\", \"type\": \"bar\", \"x\": [\"CORPORACION FAVORITA\", \"BANCO PICHINCHA\", \"SOCIEDAD AGRICOLA E IND. SAN CARLOS\", \"BANCO PRODUBANCO\", \"CERVECERIA NACIONAL CN S.A.\", \"INVERSANCARLOS\", \"INDUSTRIAS ALES\", \"BANCO BOLIVARIANO\", \"HOTEL COLON\", \"CRIDESA\"], \"y\": [4346.415035638041, 4807.610747066795, 9411.243870008733, 6257.482689547865, 17822.68181816407, 11652.63157894737, 907.9439804175066, 7068.717910522779, 8166.6670542635675, 25271.168309663044]}, {\"hovertemplate\": \"%{y:$.0f}<extra></extra>\", \"marker\": {\"color\": \"deeppink\"}, \"name\": \"Rev.Precio\", \"type\": \"bar\", \"x\": [\"CORPORACION FAVORITA\", \"BANCO PICHINCHA\", \"SOCIEDAD AGRICOLA E IND. SAN CARLOS\", \"BANCO PRODUBANCO\", \"CERVECERIA NACIONAL CN S.A.\", \"INVERSANCARLOS\", \"INDUSTRIAS ALES\", \"BANCO BOLIVARIANO\", \"HOTEL COLON\", \"CRIDESA\"], \"y\": [3882.042253521129, 9546.232996633003, 3191.176470588236, 6336.021505376346, 18666.666666666664, 3778.947368421055, -6855.653307266211, 13768.733223149462, 333.33333333333394, 16432.748538011692]}],                        {\"barmode\": \"group\", \"height\": 600, \"legend\": {\"x\": 0.01, \"xanchor\": \"left\", \"y\": 0.99, \"yanchor\": \"top\"}, \"template\": {\"data\": {\"bar\": [{\"error_x\": {\"color\": \"#2a3f5f\"}, \"error_y\": {\"color\": \"#2a3f5f\"}, \"marker\": {\"line\": {\"color\": \"#E5ECF6\", \"width\": 0.5}}, \"type\": \"bar\"}], \"barpolar\": [{\"marker\": {\"line\": {\"color\": \"#E5ECF6\", \"width\": 0.5}}, \"type\": \"barpolar\"}], \"carpet\": [{\"aaxis\": {\"endlinecolor\": \"#2a3f5f\", \"gridcolor\": \"white\", \"linecolor\": \"white\", \"minorgridcolor\": \"white\", \"startlinecolor\": \"#2a3f5f\"}, \"baxis\": {\"endlinecolor\": \"#2a3f5f\", \"gridcolor\": \"white\", \"linecolor\": \"white\", \"minorgridcolor\": \"white\", \"startlinecolor\": \"#2a3f5f\"}, \"type\": \"carpet\"}], \"choropleth\": [{\"colorbar\": {\"outlinewidth\": 0, \"ticks\": \"\"}, \"type\": \"choropleth\"}], \"contour\": [{\"colorbar\": {\"outlinewidth\": 0, \"ticks\": \"\"}, \"colorscale\": [[0.0, \"#0d0887\"], [0.1111111111111111, \"#46039f\"], [0.2222222222222222, \"#7201a8\"], [0.3333333333333333, \"#9c179e\"], [0.4444444444444444, \"#bd3786\"], [0.5555555555555556, \"#d8576b\"], [0.6666666666666666, \"#ed7953\"], [0.7777777777777778, \"#fb9f3a\"], [0.8888888888888888, \"#fdca26\"], [1.0, \"#f0f921\"]], \"type\": \"contour\"}], \"contourcarpet\": [{\"colorbar\": {\"outlinewidth\": 0, \"ticks\": \"\"}, \"type\": \"contourcarpet\"}], \"heatmap\": [{\"colorbar\": {\"outlinewidth\": 0, \"ticks\": \"\"}, \"colorscale\": [[0.0, \"#0d0887\"], [0.1111111111111111, \"#46039f\"], [0.2222222222222222, \"#7201a8\"], [0.3333333333333333, \"#9c179e\"], [0.4444444444444444, \"#bd3786\"], [0.5555555555555556, \"#d8576b\"], [0.6666666666666666, \"#ed7953\"], [0.7777777777777778, \"#fb9f3a\"], [0.8888888888888888, \"#fdca26\"], [1.0, \"#f0f921\"]], \"type\": \"heatmap\"}], \"heatmapgl\": [{\"colorbar\": {\"outlinewidth\": 0, \"ticks\": \"\"}, \"colorscale\": [[0.0, \"#0d0887\"], [0.1111111111111111, \"#46039f\"], [0.2222222222222222, \"#7201a8\"], [0.3333333333333333, \"#9c179e\"], [0.4444444444444444, \"#bd3786\"], [0.5555555555555556, \"#d8576b\"], [0.6666666666666666, \"#ed7953\"], [0.7777777777777778, \"#fb9f3a\"], [0.8888888888888888, \"#fdca26\"], [1.0, \"#f0f921\"]], \"type\": \"heatmapgl\"}], \"histogram\": [{\"marker\": {\"colorbar\": {\"outlinewidth\": 0, \"ticks\": \"\"}}, \"type\": \"histogram\"}], \"histogram2d\": [{\"colorbar\": {\"outlinewidth\": 0, \"ticks\": \"\"}, \"colorscale\": [[0.0, \"#0d0887\"], [0.1111111111111111, \"#46039f\"], [0.2222222222222222, \"#7201a8\"], [0.3333333333333333, \"#9c179e\"], [0.4444444444444444, \"#bd3786\"], [0.5555555555555556, \"#d8576b\"], [0.6666666666666666, \"#ed7953\"], [0.7777777777777778, \"#fb9f3a\"], [0.8888888888888888, \"#fdca26\"], [1.0, \"#f0f921\"]], \"type\": \"histogram2d\"}], \"histogram2dcontour\": [{\"colorbar\": {\"outlinewidth\": 0, \"ticks\": \"\"}, \"colorscale\": [[0.0, \"#0d0887\"], [0.1111111111111111, \"#46039f\"], [0.2222222222222222, \"#7201a8\"], [0.3333333333333333, \"#9c179e\"], [0.4444444444444444, \"#bd3786\"], [0.5555555555555556, \"#d8576b\"], [0.6666666666666666, \"#ed7953\"], [0.7777777777777778, \"#fb9f3a\"], [0.8888888888888888, \"#fdca26\"], [1.0, \"#f0f921\"]], \"type\": \"histogram2dcontour\"}], \"mesh3d\": [{\"colorbar\": {\"outlinewidth\": 0, \"ticks\": \"\"}, \"type\": \"mesh3d\"}], \"parcoords\": [{\"line\": {\"colorbar\": {\"outlinewidth\": 0, \"ticks\": \"\"}}, \"type\": \"parcoords\"}], \"pie\": [{\"automargin\": true, \"type\": \"pie\"}], \"scatter\": [{\"marker\": {\"colorbar\": {\"outlinewidth\": 0, \"ticks\": \"\"}}, \"type\": \"scatter\"}], \"scatter3d\": [{\"line\": {\"colorbar\": {\"outlinewidth\": 0, \"ticks\": \"\"}}, \"marker\": {\"colorbar\": {\"outlinewidth\": 0, \"ticks\": \"\"}}, \"type\": \"scatter3d\"}], \"scattercarpet\": [{\"marker\": {\"colorbar\": {\"outlinewidth\": 0, \"ticks\": \"\"}}, \"type\": \"scattercarpet\"}], \"scattergeo\": [{\"marker\": {\"colorbar\": {\"outlinewidth\": 0, \"ticks\": \"\"}}, \"type\": \"scattergeo\"}], \"scattergl\": [{\"marker\": {\"colorbar\": {\"outlinewidth\": 0, \"ticks\": \"\"}}, \"type\": \"scattergl\"}], \"scattermapbox\": [{\"marker\": {\"colorbar\": {\"outlinewidth\": 0, \"ticks\": \"\"}}, \"type\": \"scattermapbox\"}], \"scatterpolar\": [{\"marker\": {\"colorbar\": {\"outlinewidth\": 0, \"ticks\": \"\"}}, \"type\": \"scatterpolar\"}], \"scatterpolargl\": [{\"marker\": {\"colorbar\": {\"outlinewidth\": 0, \"ticks\": \"\"}}, \"type\": \"scatterpolargl\"}], \"scatterternary\": [{\"marker\": {\"colorbar\": {\"outlinewidth\": 0, \"ticks\": \"\"}}, \"type\": \"scatterternary\"}], \"surface\": [{\"colorbar\": {\"outlinewidth\": 0, \"ticks\": \"\"}, \"colorscale\": [[0.0, \"#0d0887\"], [0.1111111111111111, \"#46039f\"], [0.2222222222222222, \"#7201a8\"], [0.3333333333333333, \"#9c179e\"], [0.4444444444444444, \"#bd3786\"], [0.5555555555555556, \"#d8576b\"], [0.6666666666666666, \"#ed7953\"], [0.7777777777777778, \"#fb9f3a\"], [0.8888888888888888, \"#fdca26\"], [1.0, \"#f0f921\"]], \"type\": \"surface\"}], \"table\": [{\"cells\": {\"fill\": {\"color\": \"#EBF0F8\"}, \"line\": {\"color\": \"white\"}}, \"header\": {\"fill\": {\"color\": \"#C8D4E3\"}, \"line\": {\"color\": \"white\"}}, \"type\": \"table\"}]}, \"layout\": {\"annotationdefaults\": {\"arrowcolor\": \"#2a3f5f\", \"arrowhead\": 0, \"arrowwidth\": 1}, \"autotypenumbers\": \"strict\", \"coloraxis\": {\"colorbar\": {\"outlinewidth\": 0, \"ticks\": \"\"}}, \"colorscale\": {\"diverging\": [[0, \"#8e0152\"], [0.1, \"#c51b7d\"], [0.2, \"#de77ae\"], [0.3, \"#f1b6da\"], [0.4, \"#fde0ef\"], [0.5, \"#f7f7f7\"], [0.6, \"#e6f5d0\"], [0.7, \"#b8e186\"], [0.8, \"#7fbc41\"], [0.9, \"#4d9221\"], [1, \"#276419\"]], \"sequential\": [[0.0, \"#0d0887\"], [0.1111111111111111, \"#46039f\"], [0.2222222222222222, \"#7201a8\"], [0.3333333333333333, \"#9c179e\"], [0.4444444444444444, \"#bd3786\"], [0.5555555555555556, \"#d8576b\"], [0.6666666666666666, \"#ed7953\"], [0.7777777777777778, \"#fb9f3a\"], [0.8888888888888888, \"#fdca26\"], [1.0, \"#f0f921\"]], \"sequentialminus\": [[0.0, \"#0d0887\"], [0.1111111111111111, \"#46039f\"], [0.2222222222222222, \"#7201a8\"], [0.3333333333333333, \"#9c179e\"], [0.4444444444444444, \"#bd3786\"], [0.5555555555555556, \"#d8576b\"], [0.6666666666666666, \"#ed7953\"], [0.7777777777777778, \"#fb9f3a\"], [0.8888888888888888, \"#fdca26\"], [1.0, \"#f0f921\"]]}, \"colorway\": [\"#636efa\", \"#EF553B\", \"#00cc96\", \"#ab63fa\", \"#FFA15A\", \"#19d3f3\", \"#FF6692\", \"#B6E880\", \"#FF97FF\", \"#FECB52\"], \"font\": {\"color\": \"#2a3f5f\"}, \"geo\": {\"bgcolor\": \"white\", \"lakecolor\": \"white\", \"landcolor\": \"#E5ECF6\", \"showlakes\": true, \"showland\": true, \"subunitcolor\": \"white\"}, \"hoverlabel\": {\"align\": \"left\"}, \"hovermode\": \"closest\", \"mapbox\": {\"style\": \"light\"}, \"paper_bgcolor\": \"white\", \"plot_bgcolor\": \"#E5ECF6\", \"polar\": {\"angularaxis\": {\"gridcolor\": \"white\", \"linecolor\": \"white\", \"ticks\": \"\"}, \"bgcolor\": \"#E5ECF6\", \"radialaxis\": {\"gridcolor\": \"white\", \"linecolor\": \"white\", \"ticks\": \"\"}}, \"scene\": {\"xaxis\": {\"backgroundcolor\": \"#E5ECF6\", \"gridcolor\": \"white\", \"gridwidth\": 2, \"linecolor\": \"white\", \"showbackground\": true, \"ticks\": \"\", \"zerolinecolor\": \"white\"}, \"yaxis\": {\"backgroundcolor\": \"#E5ECF6\", \"gridcolor\": \"white\", \"gridwidth\": 2, \"linecolor\": \"white\", \"showbackground\": true, \"ticks\": \"\", \"zerolinecolor\": \"white\"}, \"zaxis\": {\"backgroundcolor\": \"#E5ECF6\", \"gridcolor\": \"white\", \"gridwidth\": 2, \"linecolor\": \"white\", \"showbackground\": true, \"ticks\": \"\", \"zerolinecolor\": \"white\"}}, \"shapedefaults\": {\"line\": {\"color\": \"#2a3f5f\"}}, \"ternary\": {\"aaxis\": {\"gridcolor\": \"white\", \"linecolor\": \"white\", \"ticks\": \"\"}, \"baxis\": {\"gridcolor\": \"white\", \"linecolor\": \"white\", \"ticks\": \"\"}, \"bgcolor\": \"#E5ECF6\", \"caxis\": {\"gridcolor\": \"white\", \"linecolor\": \"white\", \"ticks\": \"\"}}, \"title\": {\"x\": 0.05}, \"xaxis\": {\"automargin\": true, \"gridcolor\": \"white\", \"linecolor\": \"white\", \"ticks\": \"\", \"title\": {\"standoff\": 15}, \"zerolinecolor\": \"white\", \"zerolinewidth\": 2}, \"yaxis\": {\"automargin\": true, \"gridcolor\": \"white\", \"linecolor\": \"white\", \"ticks\": \"\", \"title\": {\"standoff\": 15}, \"zerolinecolor\": \"white\", \"zerolinewidth\": 2}}}, \"width\": 920, \"xaxis\": {\"tickangle\": -45}},                        {\"responsive\": true}                    ).then(function(){\n",
       "                            \n",
       "var gd = document.getElementById('243d8d0d-6f45-43ab-af3a-26f963968a23');\n",
       "var x = new MutationObserver(function (mutations, observer) {{\n",
       "        var display = window.getComputedStyle(gd).display;\n",
       "        if (!display || display === 'none') {{\n",
       "            console.log([gd, 'removed!']);\n",
       "            Plotly.purge(gd);\n",
       "            observer.disconnect();\n",
       "        }}\n",
       "}});\n",
       "\n",
       "// Listen for the removal of the full notebook cells\n",
       "var notebookContainer = gd.closest('#notebook-container');\n",
       "if (notebookContainer) {{\n",
       "    x.observe(notebookContainer, {childList: true});\n",
       "}}\n",
       "\n",
       "// Listen for the clearing of the current output cell\n",
       "var outputEl = gd.closest('.output');\n",
       "if (outputEl) {{\n",
       "    x.observe(outputEl, {childList: true});\n",
       "}}\n",
       "\n",
       "                        })                };                });            </script>        </div>"
      ]
     },
     "metadata": {},
     "output_type": "display_data"
    }
   ],
   "source": [
    "div_vs_precio = reporte.resultados()[['DIVIDENDOS', 'REV. ACCIONES']]\n",
    "div_vs_precio[\"REV. ACCIONES\"] -= monto_invertido / num_activos\n",
    "\n",
    "cias = div_vs_precio.index\n",
    "\n",
    "fig2 = go.Figure()\n",
    "fig2.add_trace(go.Bar(\n",
    "    x=cias,\n",
    "    y=div_vs_precio['DIVIDENDOS'],\n",
    "    name='Dividendos',\n",
    "    marker_color='aqua'\n",
    "))\n",
    "fig2.add_trace(go.Bar(\n",
    "    x=cias,\n",
    "    y=div_vs_precio['REV. ACCIONES'],\n",
    "    name='Rev.Precio',\n",
    "    marker_color='deeppink'\n",
    "))\n",
    "\n",
    "\n",
    "fig2.update_layout(barmode='group', xaxis_tickangle=-45, height=600, width=920, legend=dict(yanchor=\"top\",\n",
    "    y=0.99, xanchor=\"left\",x=0.01))\n",
    "fig2.update_traces( hovertemplate = '%{y:$.0f}<extra></extra>')\n",
    "fig2.show()"
   ]
  },
  {
   "cell_type": "markdown",
   "metadata": {},
   "source": [
    "## Comparación con otras alternativas de inversión\n",
    "\n",
    "Para evaluar mejor el desempeño de las principales acciones de compañias ecuatorianas en la decada pasada, lo debemos hacer comparando con otra/s alternativa/s que hubiesen sido posibles. Como se trata de renta variable las compararemos con los principales indices bursátiles de la bolsa estadounidense."
   ]
  },
  {
   "cell_type": "markdown",
   "metadata": {},
   "source": [
    "|      INDICES ACCIONARIOS     | TICKER |\n",
    "|------------------------------|--------|\n",
    "| S&P 500                      | ^GSPC  |\n",
    "| Dow Jones Industrial Average | ^DJI   |\n",
    "| NASDAQ Composite             | ^IXIC  |\n",
    "| NASDAQ 100                   | ^NDX   |"
   ]
  },
  {
   "cell_type": "code",
   "execution_count": 28,
   "metadata": {},
   "outputs": [],
   "source": [
    "import pandas_datareader as pdr\n",
    "\n",
    "us_indices = ['^GSPC', '^DJI', '^IXIC', '^NDX']\n",
    "data = pdr.get_data_yahoo(us_indices, start=inicio, end=fin, interval = 'm')['Adj Close']"
   ]
  },
  {
   "cell_type": "code",
   "execution_count": 29,
   "metadata": {},
   "outputs": [],
   "source": [
    "def balance_cias(seleccion):\n",
    "\n",
    "    balances = pd.DataFrame()\n",
    "    lista_flujos = []\n",
    "    \n",
    "    for emisor in seleccion:\n",
    "\n",
    "        df = reporte.balance(emisor)\n",
    "        df['REINVERSION'] = df['DIVIDENDO'] / df['PRECIO']\n",
    "        df['TOTAL.ACCIONES'] = df['ACC.POS'] + df['REINVERSION'].cumsum() * df['SPLIT'].cumprod()\n",
    "        df['BALANCE.AJUST'] = df['PRECIO'] * df['TOTAL.ACCIONES']\n",
    "        lista_flujos.append(df['BALANCE.AJUST'].rename(emisor))\n",
    "\n",
    "    return balances.append(lista_flujos).T"
   ]
  },
  {
   "cell_type": "code",
   "execution_count": 30,
   "metadata": {},
   "outputs": [
    {
     "data": {
      "text/html": [
       "\n",
       "    <div class=\"bk-root\">\n",
       "        <a href=\"https://bokeh.org\" target=\"_blank\" class=\"bk-logo bk-logo-small bk-logo-notebook\"></a>\n",
       "        <span id=\"1002\">Loading BokehJS ...</span>\n",
       "    </div>"
      ]
     },
     "metadata": {},
     "output_type": "display_data"
    },
    {
     "data": {
      "application/javascript": [
       "\n",
       "(function(root) {\n",
       "  function now() {\n",
       "    return new Date();\n",
       "  }\n",
       "\n",
       "  var force = true;\n",
       "\n",
       "  if (typeof root._bokeh_onload_callbacks === \"undefined\" || force === true) {\n",
       "    root._bokeh_onload_callbacks = [];\n",
       "    root._bokeh_is_loading = undefined;\n",
       "  }\n",
       "\n",
       "  var JS_MIME_TYPE = 'application/javascript';\n",
       "  var HTML_MIME_TYPE = 'text/html';\n",
       "  var EXEC_MIME_TYPE = 'application/vnd.bokehjs_exec.v0+json';\n",
       "  var CLASS_NAME = 'output_bokeh rendered_html';\n",
       "\n",
       "  /**\n",
       "   * Render data to the DOM node\n",
       "   */\n",
       "  function render(props, node) {\n",
       "    var script = document.createElement(\"script\");\n",
       "    node.appendChild(script);\n",
       "  }\n",
       "\n",
       "  /**\n",
       "   * Handle when an output is cleared or removed\n",
       "   */\n",
       "  function handleClearOutput(event, handle) {\n",
       "    var cell = handle.cell;\n",
       "\n",
       "    var id = cell.output_area._bokeh_element_id;\n",
       "    var server_id = cell.output_area._bokeh_server_id;\n",
       "    // Clean up Bokeh references\n",
       "    if (id != null && id in Bokeh.index) {\n",
       "      Bokeh.index[id].model.document.clear();\n",
       "      delete Bokeh.index[id];\n",
       "    }\n",
       "\n",
       "    if (server_id !== undefined) {\n",
       "      // Clean up Bokeh references\n",
       "      var cmd = \"from bokeh.io.state import curstate; print(curstate().uuid_to_server['\" + server_id + \"'].get_sessions()[0].document.roots[0]._id)\";\n",
       "      cell.notebook.kernel.execute(cmd, {\n",
       "        iopub: {\n",
       "          output: function(msg) {\n",
       "            var id = msg.content.text.trim();\n",
       "            if (id in Bokeh.index) {\n",
       "              Bokeh.index[id].model.document.clear();\n",
       "              delete Bokeh.index[id];\n",
       "            }\n",
       "          }\n",
       "        }\n",
       "      });\n",
       "      // Destroy server and session\n",
       "      var cmd = \"import bokeh.io.notebook as ion; ion.destroy_server('\" + server_id + \"')\";\n",
       "      cell.notebook.kernel.execute(cmd);\n",
       "    }\n",
       "  }\n",
       "\n",
       "  /**\n",
       "   * Handle when a new output is added\n",
       "   */\n",
       "  function handleAddOutput(event, handle) {\n",
       "    var output_area = handle.output_area;\n",
       "    var output = handle.output;\n",
       "\n",
       "    // limit handleAddOutput to display_data with EXEC_MIME_TYPE content only\n",
       "    if ((output.output_type != \"display_data\") || (!Object.prototype.hasOwnProperty.call(output.data, EXEC_MIME_TYPE))) {\n",
       "      return\n",
       "    }\n",
       "\n",
       "    var toinsert = output_area.element.find(\".\" + CLASS_NAME.split(' ')[0]);\n",
       "\n",
       "    if (output.metadata[EXEC_MIME_TYPE][\"id\"] !== undefined) {\n",
       "      toinsert[toinsert.length - 1].firstChild.textContent = output.data[JS_MIME_TYPE];\n",
       "      // store reference to embed id on output_area\n",
       "      output_area._bokeh_element_id = output.metadata[EXEC_MIME_TYPE][\"id\"];\n",
       "    }\n",
       "    if (output.metadata[EXEC_MIME_TYPE][\"server_id\"] !== undefined) {\n",
       "      var bk_div = document.createElement(\"div\");\n",
       "      bk_div.innerHTML = output.data[HTML_MIME_TYPE];\n",
       "      var script_attrs = bk_div.children[0].attributes;\n",
       "      for (var i = 0; i < script_attrs.length; i++) {\n",
       "        toinsert[toinsert.length - 1].firstChild.setAttribute(script_attrs[i].name, script_attrs[i].value);\n",
       "        toinsert[toinsert.length - 1].firstChild.textContent = bk_div.children[0].textContent\n",
       "      }\n",
       "      // store reference to server id on output_area\n",
       "      output_area._bokeh_server_id = output.metadata[EXEC_MIME_TYPE][\"server_id\"];\n",
       "    }\n",
       "  }\n",
       "\n",
       "  function register_renderer(events, OutputArea) {\n",
       "\n",
       "    function append_mime(data, metadata, element) {\n",
       "      // create a DOM node to render to\n",
       "      var toinsert = this.create_output_subarea(\n",
       "        metadata,\n",
       "        CLASS_NAME,\n",
       "        EXEC_MIME_TYPE\n",
       "      );\n",
       "      this.keyboard_manager.register_events(toinsert);\n",
       "      // Render to node\n",
       "      var props = {data: data, metadata: metadata[EXEC_MIME_TYPE]};\n",
       "      render(props, toinsert[toinsert.length - 1]);\n",
       "      element.append(toinsert);\n",
       "      return toinsert\n",
       "    }\n",
       "\n",
       "    /* Handle when an output is cleared or removed */\n",
       "    events.on('clear_output.CodeCell', handleClearOutput);\n",
       "    events.on('delete.Cell', handleClearOutput);\n",
       "\n",
       "    /* Handle when a new output is added */\n",
       "    events.on('output_added.OutputArea', handleAddOutput);\n",
       "\n",
       "    /**\n",
       "     * Register the mime type and append_mime function with output_area\n",
       "     */\n",
       "    OutputArea.prototype.register_mime_type(EXEC_MIME_TYPE, append_mime, {\n",
       "      /* Is output safe? */\n",
       "      safe: true,\n",
       "      /* Index of renderer in `output_area.display_order` */\n",
       "      index: 0\n",
       "    });\n",
       "  }\n",
       "\n",
       "  // register the mime type if in Jupyter Notebook environment and previously unregistered\n",
       "  if (root.Jupyter !== undefined) {\n",
       "    var events = require('base/js/events');\n",
       "    var OutputArea = require('notebook/js/outputarea').OutputArea;\n",
       "\n",
       "    if (OutputArea.prototype.mime_types().indexOf(EXEC_MIME_TYPE) == -1) {\n",
       "      register_renderer(events, OutputArea);\n",
       "    }\n",
       "  }\n",
       "\n",
       "  \n",
       "  if (typeof (root._bokeh_timeout) === \"undefined\" || force === true) {\n",
       "    root._bokeh_timeout = Date.now() + 5000;\n",
       "    root._bokeh_failed_load = false;\n",
       "  }\n",
       "\n",
       "  var NB_LOAD_WARNING = {'data': {'text/html':\n",
       "     \"<div style='background-color: #fdd'>\\n\"+\n",
       "     \"<p>\\n\"+\n",
       "     \"BokehJS does not appear to have successfully loaded. If loading BokehJS from CDN, this \\n\"+\n",
       "     \"may be due to a slow or bad network connection. Possible fixes:\\n\"+\n",
       "     \"</p>\\n\"+\n",
       "     \"<ul>\\n\"+\n",
       "     \"<li>re-rerun `output_notebook()` to attempt to load from CDN again, or</li>\\n\"+\n",
       "     \"<li>use INLINE resources instead, as so:</li>\\n\"+\n",
       "     \"</ul>\\n\"+\n",
       "     \"<code>\\n\"+\n",
       "     \"from bokeh.resources import INLINE\\n\"+\n",
       "     \"output_notebook(resources=INLINE)\\n\"+\n",
       "     \"</code>\\n\"+\n",
       "     \"</div>\"}};\n",
       "\n",
       "  function display_loaded() {\n",
       "    var el = document.getElementById(\"1002\");\n",
       "    if (el != null) {\n",
       "      el.textContent = \"BokehJS is loading...\";\n",
       "    }\n",
       "    if (root.Bokeh !== undefined) {\n",
       "      if (el != null) {\n",
       "        el.textContent = \"BokehJS \" + root.Bokeh.version + \" successfully loaded.\";\n",
       "      }\n",
       "    } else if (Date.now() < root._bokeh_timeout) {\n",
       "      setTimeout(display_loaded, 100)\n",
       "    }\n",
       "  }\n",
       "\n",
       "\n",
       "  function run_callbacks() {\n",
       "    try {\n",
       "      root._bokeh_onload_callbacks.forEach(function(callback) {\n",
       "        if (callback != null)\n",
       "          callback();\n",
       "      });\n",
       "    } finally {\n",
       "      delete root._bokeh_onload_callbacks\n",
       "    }\n",
       "    console.debug(\"Bokeh: all callbacks have finished\");\n",
       "  }\n",
       "\n",
       "  function load_libs(css_urls, js_urls, callback) {\n",
       "    if (css_urls == null) css_urls = [];\n",
       "    if (js_urls == null) js_urls = [];\n",
       "\n",
       "    root._bokeh_onload_callbacks.push(callback);\n",
       "    if (root._bokeh_is_loading > 0) {\n",
       "      console.debug(\"Bokeh: BokehJS is being loaded, scheduling callback at\", now());\n",
       "      return null;\n",
       "    }\n",
       "    if (js_urls == null || js_urls.length === 0) {\n",
       "      run_callbacks();\n",
       "      return null;\n",
       "    }\n",
       "    console.debug(\"Bokeh: BokehJS not loaded, scheduling load and callback at\", now());\n",
       "    root._bokeh_is_loading = css_urls.length + js_urls.length;\n",
       "\n",
       "    function on_load() {\n",
       "      root._bokeh_is_loading--;\n",
       "      if (root._bokeh_is_loading === 0) {\n",
       "        console.debug(\"Bokeh: all BokehJS libraries/stylesheets loaded\");\n",
       "        run_callbacks()\n",
       "      }\n",
       "    }\n",
       "\n",
       "    function on_error(url) {\n",
       "      console.error(\"failed to load \" + url);\n",
       "    }\n",
       "\n",
       "    for (let i = 0; i < css_urls.length; i++) {\n",
       "      const url = css_urls[i];\n",
       "      const element = document.createElement(\"link\");\n",
       "      element.onload = on_load;\n",
       "      element.onerror = on_error.bind(null, url);\n",
       "      element.rel = \"stylesheet\";\n",
       "      element.type = \"text/css\";\n",
       "      element.href = url;\n",
       "      console.debug(\"Bokeh: injecting link tag for BokehJS stylesheet: \", url);\n",
       "      document.body.appendChild(element);\n",
       "    }\n",
       "\n",
       "    const hashes = {\"https://cdn.bokeh.org/bokeh/release/bokeh-2.3.2.min.js\": \"XypntL49z55iwGVUW4qsEu83zKL3XEcz0MjuGOQ9SlaaQ68X/g+k1FcioZi7oQAc\", \"https://cdn.bokeh.org/bokeh/release/bokeh-tables-2.3.2.min.js\": \"bEsM86IHGDTLCS0Zod8a8WM6Y4+lafAL/eSiyQcuPzinmWNgNO2/olUF0Z2Dkn5i\", \"https://cdn.bokeh.org/bokeh/release/bokeh-widgets-2.3.2.min.js\": \"TX0gSQTdXTTeScqxj6PVQxTiRW8DOoGVwinyi1D3kxv7wuxQ02XkOxv0xwiypcAH\"};\n",
       "\n",
       "    for (let i = 0; i < js_urls.length; i++) {\n",
       "      const url = js_urls[i];\n",
       "      const element = document.createElement('script');\n",
       "      element.onload = on_load;\n",
       "      element.onerror = on_error.bind(null, url);\n",
       "      element.async = false;\n",
       "      element.src = url;\n",
       "      if (url in hashes) {\n",
       "        element.crossOrigin = \"anonymous\";\n",
       "        element.integrity = \"sha384-\" + hashes[url];\n",
       "      }\n",
       "      console.debug(\"Bokeh: injecting script tag for BokehJS library: \", url);\n",
       "      document.head.appendChild(element);\n",
       "    }\n",
       "  };\n",
       "\n",
       "  function inject_raw_css(css) {\n",
       "    const element = document.createElement(\"style\");\n",
       "    element.appendChild(document.createTextNode(css));\n",
       "    document.body.appendChild(element);\n",
       "  }\n",
       "\n",
       "  \n",
       "  var js_urls = [\"https://cdn.bokeh.org/bokeh/release/bokeh-2.3.2.min.js\", \"https://cdn.bokeh.org/bokeh/release/bokeh-widgets-2.3.2.min.js\", \"https://cdn.bokeh.org/bokeh/release/bokeh-tables-2.3.2.min.js\"];\n",
       "  var css_urls = [];\n",
       "  \n",
       "\n",
       "  var inline_js = [\n",
       "    function(Bokeh) {\n",
       "      Bokeh.set_log_level(\"info\");\n",
       "    },\n",
       "    function(Bokeh) {\n",
       "    \n",
       "    \n",
       "    }\n",
       "  ];\n",
       "\n",
       "  function run_inline_js() {\n",
       "    \n",
       "    if (root.Bokeh !== undefined || force === true) {\n",
       "      \n",
       "    for (var i = 0; i < inline_js.length; i++) {\n",
       "      inline_js[i].call(root, root.Bokeh);\n",
       "    }\n",
       "    if (force === true) {\n",
       "        display_loaded();\n",
       "      }} else if (Date.now() < root._bokeh_timeout) {\n",
       "      setTimeout(run_inline_js, 100);\n",
       "    } else if (!root._bokeh_failed_load) {\n",
       "      console.log(\"Bokeh: BokehJS failed to load within specified timeout.\");\n",
       "      root._bokeh_failed_load = true;\n",
       "    } else if (force !== true) {\n",
       "      var cell = $(document.getElementById(\"1002\")).parents('.cell').data().cell;\n",
       "      cell.output_area.append_execute_result(NB_LOAD_WARNING)\n",
       "    }\n",
       "\n",
       "  }\n",
       "\n",
       "  if (root._bokeh_is_loading === 0) {\n",
       "    console.debug(\"Bokeh: BokehJS loaded, going straight to plotting\");\n",
       "    run_inline_js();\n",
       "  } else {\n",
       "    load_libs(css_urls, js_urls, function() {\n",
       "      console.debug(\"Bokeh: BokehJS plotting callback run at\", now());\n",
       "      run_inline_js();\n",
       "    });\n",
       "  }\n",
       "}(window));"
      ],
      "application/vnd.bokehjs_load.v0+json": "\n(function(root) {\n  function now() {\n    return new Date();\n  }\n\n  var force = true;\n\n  if (typeof root._bokeh_onload_callbacks === \"undefined\" || force === true) {\n    root._bokeh_onload_callbacks = [];\n    root._bokeh_is_loading = undefined;\n  }\n\n  \n\n  \n  if (typeof (root._bokeh_timeout) === \"undefined\" || force === true) {\n    root._bokeh_timeout = Date.now() + 5000;\n    root._bokeh_failed_load = false;\n  }\n\n  var NB_LOAD_WARNING = {'data': {'text/html':\n     \"<div style='background-color: #fdd'>\\n\"+\n     \"<p>\\n\"+\n     \"BokehJS does not appear to have successfully loaded. If loading BokehJS from CDN, this \\n\"+\n     \"may be due to a slow or bad network connection. Possible fixes:\\n\"+\n     \"</p>\\n\"+\n     \"<ul>\\n\"+\n     \"<li>re-rerun `output_notebook()` to attempt to load from CDN again, or</li>\\n\"+\n     \"<li>use INLINE resources instead, as so:</li>\\n\"+\n     \"</ul>\\n\"+\n     \"<code>\\n\"+\n     \"from bokeh.resources import INLINE\\n\"+\n     \"output_notebook(resources=INLINE)\\n\"+\n     \"</code>\\n\"+\n     \"</div>\"}};\n\n  function display_loaded() {\n    var el = document.getElementById(\"1002\");\n    if (el != null) {\n      el.textContent = \"BokehJS is loading...\";\n    }\n    if (root.Bokeh !== undefined) {\n      if (el != null) {\n        el.textContent = \"BokehJS \" + root.Bokeh.version + \" successfully loaded.\";\n      }\n    } else if (Date.now() < root._bokeh_timeout) {\n      setTimeout(display_loaded, 100)\n    }\n  }\n\n\n  function run_callbacks() {\n    try {\n      root._bokeh_onload_callbacks.forEach(function(callback) {\n        if (callback != null)\n          callback();\n      });\n    } finally {\n      delete root._bokeh_onload_callbacks\n    }\n    console.debug(\"Bokeh: all callbacks have finished\");\n  }\n\n  function load_libs(css_urls, js_urls, callback) {\n    if (css_urls == null) css_urls = [];\n    if (js_urls == null) js_urls = [];\n\n    root._bokeh_onload_callbacks.push(callback);\n    if (root._bokeh_is_loading > 0) {\n      console.debug(\"Bokeh: BokehJS is being loaded, scheduling callback at\", now());\n      return null;\n    }\n    if (js_urls == null || js_urls.length === 0) {\n      run_callbacks();\n      return null;\n    }\n    console.debug(\"Bokeh: BokehJS not loaded, scheduling load and callback at\", now());\n    root._bokeh_is_loading = css_urls.length + js_urls.length;\n\n    function on_load() {\n      root._bokeh_is_loading--;\n      if (root._bokeh_is_loading === 0) {\n        console.debug(\"Bokeh: all BokehJS libraries/stylesheets loaded\");\n        run_callbacks()\n      }\n    }\n\n    function on_error(url) {\n      console.error(\"failed to load \" + url);\n    }\n\n    for (let i = 0; i < css_urls.length; i++) {\n      const url = css_urls[i];\n      const element = document.createElement(\"link\");\n      element.onload = on_load;\n      element.onerror = on_error.bind(null, url);\n      element.rel = \"stylesheet\";\n      element.type = \"text/css\";\n      element.href = url;\n      console.debug(\"Bokeh: injecting link tag for BokehJS stylesheet: \", url);\n      document.body.appendChild(element);\n    }\n\n    const hashes = {\"https://cdn.bokeh.org/bokeh/release/bokeh-2.3.2.min.js\": \"XypntL49z55iwGVUW4qsEu83zKL3XEcz0MjuGOQ9SlaaQ68X/g+k1FcioZi7oQAc\", \"https://cdn.bokeh.org/bokeh/release/bokeh-tables-2.3.2.min.js\": \"bEsM86IHGDTLCS0Zod8a8WM6Y4+lafAL/eSiyQcuPzinmWNgNO2/olUF0Z2Dkn5i\", \"https://cdn.bokeh.org/bokeh/release/bokeh-widgets-2.3.2.min.js\": \"TX0gSQTdXTTeScqxj6PVQxTiRW8DOoGVwinyi1D3kxv7wuxQ02XkOxv0xwiypcAH\"};\n\n    for (let i = 0; i < js_urls.length; i++) {\n      const url = js_urls[i];\n      const element = document.createElement('script');\n      element.onload = on_load;\n      element.onerror = on_error.bind(null, url);\n      element.async = false;\n      element.src = url;\n      if (url in hashes) {\n        element.crossOrigin = \"anonymous\";\n        element.integrity = \"sha384-\" + hashes[url];\n      }\n      console.debug(\"Bokeh: injecting script tag for BokehJS library: \", url);\n      document.head.appendChild(element);\n    }\n  };\n\n  function inject_raw_css(css) {\n    const element = document.createElement(\"style\");\n    element.appendChild(document.createTextNode(css));\n    document.body.appendChild(element);\n  }\n\n  \n  var js_urls = [\"https://cdn.bokeh.org/bokeh/release/bokeh-2.3.2.min.js\", \"https://cdn.bokeh.org/bokeh/release/bokeh-widgets-2.3.2.min.js\", \"https://cdn.bokeh.org/bokeh/release/bokeh-tables-2.3.2.min.js\"];\n  var css_urls = [];\n  \n\n  var inline_js = [\n    function(Bokeh) {\n      Bokeh.set_log_level(\"info\");\n    },\n    function(Bokeh) {\n    \n    \n    }\n  ];\n\n  function run_inline_js() {\n    \n    if (root.Bokeh !== undefined || force === true) {\n      \n    for (var i = 0; i < inline_js.length; i++) {\n      inline_js[i].call(root, root.Bokeh);\n    }\n    if (force === true) {\n        display_loaded();\n      }} else if (Date.now() < root._bokeh_timeout) {\n      setTimeout(run_inline_js, 100);\n    } else if (!root._bokeh_failed_load) {\n      console.log(\"Bokeh: BokehJS failed to load within specified timeout.\");\n      root._bokeh_failed_load = true;\n    } else if (force !== true) {\n      var cell = $(document.getElementById(\"1002\")).parents('.cell').data().cell;\n      cell.output_area.append_execute_result(NB_LOAD_WARNING)\n    }\n\n  }\n\n  if (root._bokeh_is_loading === 0) {\n    console.debug(\"Bokeh: BokehJS loaded, going straight to plotting\");\n    run_inline_js();\n  } else {\n    load_libs(css_urls, js_urls, function() {\n      console.debug(\"Bokeh: BokehJS plotting callback run at\", now());\n      run_inline_js();\n    });\n  }\n}(window));"
     },
     "metadata": {},
     "output_type": "display_data"
    },
    {
     "data": {
      "text/html": [
       "\n",
       "\n",
       "\n",
       "\n",
       "\n",
       "\n",
       "  <div class=\"bk-root\" id=\"8bf067cd-5ff3-49f2-b526-75e6f8a0483a\" data-root-id=\"1003\"></div>\n"
      ]
     },
     "metadata": {},
     "output_type": "display_data"
    },
    {
     "data": {
      "application/javascript": [
       "(function(root) {\n",
       "  function embed_document(root) {\n",
       "    \n",
       "  var docs_json = {\"ec8b626d-c770-4cda-baed-a336a4f7608d\":{\"defs\":[],\"roots\":{\"references\":[{\"attributes\":{\"below\":[{\"id\":\"1014\"}],\"center\":[{\"id\":\"1017\"},{\"id\":\"1021\"},{\"id\":\"1064\"}],\"height\":480,\"left\":[{\"id\":\"1018\"}],\"output_backend\":\"webgl\",\"renderers\":[{\"id\":\"1040\"},{\"id\":\"1072\"},{\"id\":\"1105\"},{\"id\":\"1140\"},{\"id\":\"1177\"}],\"sizing_mode\":\"fixed\",\"title\":{\"id\":\"1004\"},\"toolbar\":{\"id\":\"1029\"},\"width\":800,\"x_range\":{\"id\":\"1006\"},\"x_scale\":{\"id\":\"1010\"},\"y_range\":{\"id\":\"1008\"},\"y_scale\":{\"id\":\"1012\"}},\"id\":\"1003\",\"subtype\":\"Figure\",\"type\":\"Plot\"},{\"attributes\":{\"axis_label\":\"Fecha\",\"formatter\":{\"id\":\"1214\"},\"major_label_policy\":{\"id\":\"1045\"},\"ticker\":{\"id\":\"1015\"}},\"id\":\"1014\",\"type\":\"DatetimeAxis\"},{\"attributes\":{},\"id\":\"1062\",\"type\":\"UnionRenderers\"},{\"attributes\":{},\"id\":\"1096\",\"type\":\"UnionRenderers\"},{\"attributes\":{},\"id\":\"1063\",\"type\":\"Selection\"},{\"attributes\":{},\"id\":\"1097\",\"type\":\"Selection\"},{\"attributes\":{\"callback\":null,\"formatters\":{\"@__x__values_original\":\"datetime\"},\"mode\":\"vline\",\"renderers\":[{\"id\":\"1040\"}],\"tooltips\":[[\"Fecha\",\"@__x__values_original{%F}\"],[\"EMP. EC\",\"@{EMP. EC}{1%}\"]]},\"id\":\"1066\",\"type\":\"HoverTool\"},{\"attributes\":{\"data\":{\"DOW JONES\":{\"__ndarray__\":\"AAAAAAAAAAAAnH9dQDyaP1BQHPEoErQ/EC3mjITvtz8AXu4jAzJ8P0DTA1KJ1Z2/oNmVILlFpD+AziRJs2d1vzBCriu4U7I/gPYmfc+6uj/gWhbypt63P3C4qgF2M8M/6Hi3kdwyxz8AhkoBVHPLPzhpq8pNo8w/4Kpkj2pw0T8oUeAOONHPPxinNRo/180/aNNmNtlkyj+o8wAdtKjDPyCLJ+CWg7U/WOCzEy4AyD9AchjWTCfJP2CYcNa/Vss/NArXdlVP0D9g1p2lv1bSP4BsAJrV/dM/lGV7+GsA1D+w1cDKQJPNPyii+MOa4dE/UELeiuCy0j9YK/CJljjTPwg/S7cnbNU/2ISHBbxB0z+4/AysYc7SP4zPyZI7TtM/kGdjw0sd2D9UPd2h31jZP8wlkAS8rdw/3J5wb+tW3j/Eo38y3AvgP/TTCMyDyN4/hM/M8E1E4T/MSwwP7SbeP7w+71JVF+A/7M0gD+hp4T+CKdtl2iHjP3blGarHsOQ/3IcrpHzm4T/oLqNRUuHjP95uKHbyT+Q/JlqdWC605D8Q04mfHSPlP5gaijUpfOU/AJLovOil5D88LITqXlnmP171xGQrLOY/hMXR2QhH5z/i5/qZN6voP8oMN6QCp+g/3Ei4tHuP5j+kmMlA9qLpP8LEkB7OgOg/1hG7iDW16D/GhC4LrD/pP/JEoGheAeg/dAntHp066D/KXQU+NYnkP9I7obc0w+M/xsNtRDIl6D9+CcQcE1PoP5CDvqsdY+c/AruxafpW5D+OkEuL03/kP9qTNJG7Nug/Xr4z0Ml+6D90wlY90onoPxAKWmkD/ug/cpH+bbSW6j/YjDTgL33qP6btsfK6Meo/TA7EMt+q6T/SHxdAQ8nsP3La0xY/0e4/gshoydQj7z+26m0+rhPxP+zbLesM1/A/9PZVU95H8T+s+haal2PxP2o69d5S7vE/ZOt1S6LK8j9QmZ8r0eHyP4jlzZa/m/M/aDftMEcn9T9uxSF8dpP2PzImYe5GSfc/6CHfKCiP+T+656cmZcf3P9LytwubTvY/6ptasghn9j90YB7m1832P17JiaIUk/Y/fg+peHBk+D/CSQD/D0T5PwJmyR7YDPo/+AuD+pzq9z/O6I/5l5b4P5YU7lwGE/U/jKj+fGG79z82OGENMzD5P+7/xrhbNfk/gksAhZtD+j+ojrMEQ3D3P1AzJud5Rvo/BkDfTwOy+j+S/J9EdPb5P8IuKtNlx/o/5AZTsQv8+j9IcCqBA5X8PzIlaK4qW/0/pFFS4UPo/D8=\",\"dtype\":\"float64\",\"order\":\"little\",\"shape\":[121]},\"EMP. EC\":{\"__ndarray__\":\"AAAAAAAAAAAAAAAAAAAAAADs8U1wT7w/sFHfJBQ6zT+wUd8kFDrNP7BR3yQUOs0/sFHfJBQ6zT9QrJ8hRMDSP+CXgKE8adQ/4JeAoTxp1D/gl4ChPGnUP0BeC+e+F9U/QF4L574X1T9AXgvnvhfVP2QzVqMAe9g/DIJG+oCW4T8Mgkb6gJbhPwyCRvqAluE/DIJG+oCW4T8wJoDgLO3iPzAmgOAs7eI/MCaA4Czt4j9Iv8v5OlviPwD643XTt+I/APrjddO34j8A+uN107fiP1qZGSDpQOU/mOGhSddB6T88AH24jxPqPzwAfbiPE+o/PAB9uI8T6j+sfPZoutDpP4CJjEDy7ek/VveX/ge/6T9W95f+B7/pP/SMT1rH8ek/9IxPWsfx6T/0jE9ax/HpP1qAvIDh0es/IhJb0J7M7T8iElvQnsztPyISW9CezO0/IhJb0J7M7T8iElvQnsztP+a/W5CNEO8/5r9bkI0Q7z/mv1uQjRDvPzg7nxiJce8/ODufGIlx7z84O58YiXHvP4AuTpFiRe8/arlvpqcb8j9quW+mpxvyP2q5b6anG/I/arlvpqcb8j+INgFD6aryPyhMiMVAMvM/KEyIxUAy8z8oTIjFQDLzP5zTpK2hSvM/nNOkraFK8z+c06StoUrzP1w1AIgMcPQ/OIqwglzV9T84irCCXNX1PziKsIJc1fU/mgD/US9z9T/OWqfe8Sn0P85ap97xKfQ/zlqn3vEp9D/OWqfe8Sn0P85ap97xKfQ/zlqn3vEp9D/OWqfe8Sn0P+pJbI3l2PQ/ZlnFKbv/8z9mWcUpu//zPwzqqO6N1/M/DOqo7o3X8z8M6qjujdfzPwzqqO6N1/M/DOqo7o3X8z94jAaADcTzP3iMBoANxPM/eIwGgA3E8z94jAaADcTzP2RTpnSLgPI/Sqa7I3SC8D9KprsjdILwP1ClIShWOe4/UKUhKFY57j9QpSEoVjnuP1ClIShWOe4/UKUhKFY57j9QpSEoVjnuP1ClIShWOe4/UKUhKFY57j9QpSEoVjnuP6Z07WMcwvA/1BMMzJ6N8z/UEwzMno3zP1KXc+lIxvM/Updz6UjG8z9Sl3PpSMbzP1KXc+lIxvM/Updz6UjG8z9Sl3PpSMbzP1KXc+lIxvM/Updz6UjG8z9kvjb3gw31PxIYlCpdC/k/vmxZoD6y+j++bFmgPrL6P75sWaA+svo/vmxZoD6y+j++bFmgPrL6P75sWaA+svo/vmxZoD6y+j++bFmgPrL6P8ZEjEBG4Ps/xkSMQEbg+z8=\",\"dtype\":\"float64\",\"order\":\"little\",\"shape\":[121]},\"NASDAQ 100\":{\"__ndarray__\":\"AAAAAAAAAACA9/PJB9WmP0BnGkOT878/mAEVxbkVwz+A0uDOa1+wPwAc3lxP4VG/cP2OUnEUsj8Ac2im9AqPP/gB/+b65MI/uF02+iEwzD8ISsBLIarLPzz2BH0Zh9E/PMuQkNbh0z9gI1b46WvWP9ie4AP9+tU/OKltN4Rf2D9MXqjAtTbXP6h3ztD+d9U/JEqRdCXb1j9kof5x82DSP9DJG15dRc0/oBgUt3TB1j9IB45T517UP5Txg+txu9M/eCC/0o+42j+yYatvTDbgP5rPrF0wpOI/uqgf2YwP4j/U/VwINdDcP+A7l8eSE+A/NCjcj7iR4D8qFe9eCfTiP9rIyKjXcuM/jqTq5hSr4D+yIvXdDDjhP+QQ9/lL6OA/AEllmnw04j+6u9yqqFXiP4hEaC+YzuM/gD2uSxQS5T90yB+S4M3mP8A/5hVZeuU/wq/ZvBDM6D82G2KE/n7oP8rhQ+NhJus/hoXMJwIV7j+asfcFgQ3wP9qSr3WZAvE/unSmVrpd8D8SXoPQgffxP0S0d/FlC/E/yttj0R7r8D8YURk6TlfyP0Q9eeZZYPM/NPMZkI/F8z/EwqYDs4T1P1BpGsvNNvU/grZFrKw29j/46vpYKN33P/a2F8dX7vY/QgJPmqof9j9m0b/NMc/4PzBJcfuC0/c/bAJS4QmR+D9Kew1AL275PzqQ3gnkZ/g/7rUYb/Ir+j/C7h7kckj3PxBATZlubPY/EDQjZuq4+j98F37Nzd36PzAFlT80Nvo/KhY/Nz9T9z+WLw8roJv2PwCyEYdVNPk/wOJ6LGrl9z/qzWzV+pL5P4pPNNQnmfg/WuYKHGt4+z9KCSepc9j7P75KwHCnzvw/0JjnYowf/D94uY0Q/jX8PxaCGvk7svw/krK2icwF/z89IyijFn4AQHpc0NOu+gBAB8A/8vOnAUCnYznsaZkCQJgyh+6E8gFAHyIF4xQFA0ArXf3FcIQDQKOWUiGAeQNAjd9uzTu2BEARGV6X3D8FQPNbF5MpZAVAF8L68FTvB0CNWV1h6X4HQMgV6jJwPQZAHkJa6y9aBkC2IrP/MgQIQLSuYOAmWghALkiZ6Ak7CUCoqkJzHCwLQBbeFvN3DAtAUoWwUXUDCEB/mRuwLe4HQOhn3T7/FQVARGrJ2ZK8B0Bwb5JB4pwIQPpb7IS15wlAKDuOiGXBC0BUlnPYrcAIQJaZEkuOPwtA4GeX4pUQDEDENrzg/FYLQOxbO0a+mwtADogevhMlDUBajUmjUZ0OQPoiSFVkEBBA60md6GSoEEA=\",\"dtype\":\"float64\",\"order\":\"little\",\"shape\":[121]},\"NASDAQ Composite\":{\"__ndarray__\":\"AAAAAAAAAAAg10+4C62lP7Cp91J74L0/OKZrIh21wj+AqHPtWyeqP4DK2+xmLJK/wHW9x4WYqT9AGjPKScePvxAG/4kLYbo/AMKvH2t2xT9YGh7JVerEP9h7YmMaIs4/wFM64kF50D8YGcEYW+zSP7Cg2ksz49I/eMqz8Luk1T8EGHTQ94DUP4jVqDCYqdI/ZBNNR9Em0j8osYch4sHJPxBWEVe99L8/fJbuL7IB0D/I1/EOtDHMPzBXrLTnScs/NHGnODvd0z+Ec1E2+2zYP7jnVFNGJNw/bED9IFTL2j9AG3UMPETUP3SAVSYMetc/JKuvGiec1z8c1VS4gGjbP3h1OTZt4Nw/9PPN89+72D/0Qi+jvLfZP9BAN0V3/tk/9DjLGgqm3T+wN7LZ1S/eP6I8LflfseA/ZNizsh2b4T/McHXrEYDjP0AkqQYtt+I/ChIXUV0K5j+AAZSRHn/lPyZEHvvyM+g/KKX00m9p6j/G8mvNNoDsP2SGsq9qPe4/4trycggo7T/YC5AamRnwP/gYpG3fku4/Bsfz9MZQ7T/WpbZiUTnvP2h4xJd12PA/oGKhdzGP8D/SDhYQtyDyP9yKUZv+evE/ZNFNQfyA8j8oAyOK4LPzP7i1SCTcSfM/kJ9JqJGJ8j8elU1Cxfv0P4QQdpVEhPQ/ZP+BwZjR9D98pD9y6sb1PzgFQp1KKPU/PpEXmQY29j/sRfE1CZfzP6qRSeHNbPI/3vSK1tyn9T8ObrvfnhD2P8Zf0o14T/U/pqLke/Vg8j/4nIoIJPbxPx49FmEUSfQ//MI1s9eU8z+kpmY0Pt70PxjTz/s7FfQ/3FF0/pd29j9YOST/C9j2P8KsNlB3lPc/Go8sah2q9j+kUP3gvqr3P6xvwhcgHPg/yAoHNQfW+T8YDHEA1mf7P0AT+W9zDPw/9PPaJ54P/T8ALJVWeS/+P1yUsmKmwP0/yCPNzdRM/z9GO9Bwdeb/P5RxzFtqMwBAzZYHsWcQAUDZ+ATC75sBQEttfs3+twFAh0m145OcA0BaiAmVgxgDQAwCUmWmUAJARXxL31ZTAkANd1rbzLkDQOZa11LT+gNAypY2GtiUBECxAsdOVzYGQEbd0B0T+gVAa6lt5uE3A0B/TcDuYU8DQLiiWxpKuABAWSFFLdcgA0DErAfnBhAEQIxfaFW2ywRAbBfhhtgoBkCYlszXUcQDQBF2cw/S0wVAm2OIQyx1BkAHCO9gd6oFQH/0Nko9zQVAtZTx8rPkBkDWyy7FjEgIQEKDsVB4bQlAapYvQ48XCkA=\",\"dtype\":\"float64\",\"order\":\"little\",\"shape\":[121]},\"S&P 500\":{\"__ndarray__\":\"AAAAAAAAAADA3cVHsTKdP/B3UbTTx7Y/gL/sQinluj8AfEoJAaONPxAJtxbuk6S/wKpf7DRxmj+gW5xhgWaXv4Dttf8ADbA/METf+dYTuj9gv+fjdG65P3jxieuL58U/IM8NNpVMyT8goUxytDLOP2Crz0BKCM4/TE19wI1E0T9A5aAjrCvQP1gr4qzsac0/iHf1u4wIyj84ZIGtIUnBPyAgz19QcKs/kOXi+x1jxT8wOYr1p6HEP2i1+CZT5sU/+M2DoMtuzD/w7Mb9ImTRP5Simif78NM/iKB0U95P0z+wP8z0Ui/MP4gqYI5uLtE/gLZfdj000j/whIkqJdTTP9QkoK1B3NU/eL+nvkcp1D+kJGESnWbUP1y+WYdV/9Q/PFZSq51I2T8wZvjFbEXaP2CWq5sUhd0/TD9GxRI23z9GSB3lEpjgP+QGsnj2ut8/1CyVZpA74j8AD0XOFangP1iDNXKtG+I/SB8iyrxX5D8uF5rPl8/lPxBduDcvFOc/eufsenUe5T+86s+4yGjnPwZ45YYdy+c/lH64kq4j6D9wZt4j7FHpPwC1MDmVaeo/Xp/73BWI6T8Q/gkCrbLrP8LMxjaVxeo/NnfUkKki7D8MBBhDWZztP3BgyOlIWu0//mCxw79y6z/8E1P5JLbuP5wFZ2Tdnu0/HhN6k0cl7j/+IiefMMzuP1qKEf1meu0/ssumPByx7j8MFqpsvsTqP1AAoBDrNuk/Wl9Qe1327T+8HwKjX/7tP+olFbop6Ow/YBEF7xbR6T925yZA/JPpP04MmIOxYO0/EAIVtRuL7T9w7HmLjHzuP1zFm98ei+4/Ttw5/6Ji8D+wfK5Fh1jwPwSivHZOTvA/rKJ95Exb7z/C+zopy8LwP+bG+ItwW/E/yqX/ein08T9QSG+VfjfzP/JFalT8M/M/9oeZXuqF8z/QKHdfMO/zP8wa3cZ4G/Q/0EHodVLO9D+8JwKFeNP0P+wQrPRyifU/sHtIMKpe9j/geHHTgnL3P4JaEb7L1fc/Kq0a4LES+j+ayKJeNG/4Pwi7bOnqWPc/7oMYuk109z+SWWjvjU74P1je7niFgPg/Breb+wL2+T9Q/ZRzGTv7PxxPB+6favs/8EwHgztn+D/0ctu49B/5P7wNg5u7WfU/3ALZkRdK+D+sLUX0t3z5PwQ6DkkWO/o/2IkU1Bvk+z/QHQbhBQH5Pyp/b6CV1Ps/apBV2ONn/D+qtML0OZr7P+CLzK8BWvw/ImEaMv1B/T9seaoodcz+P4u5rgZ9EQBA+P7v93QHAEA=\",\"dtype\":\"float64\",\"order\":\"little\",\"shape\":[121]},\"__x__values\":{\"__ndarray__\":\"AAAA1BpockIAAAD1HXFyQgAAQEcYe3JCAADAM8CEckIAAACGuo5yQgAAgHJimHJCAADAxFyickIAAAAXV6xyQgAAgAP/tXJCAADAVfm/ckIAAEBCoclyQgAAgJSb03JCAADA5pXdckIAAMAHmeZyQgAAAFqT8HJCAACARjv6ckIAAMCYNQRzQgAAQIXdDXNCAACA19cXc0IAAMAp0iFzQgAAQBZ6K3NCAACAaHQ1c0IAAABVHD9zQgAAQKcWSXNCAACA+RBTc0IAAECAZlxzQgAAgNJgZnNCAAAAvwhwc0IAAEARA3pzQgAAwP2qg3NCAAAAUKWNc0IAAECin5dzQgAAwI5HoXNCAAAA4UGrc0IAAIDN6bRzQgAAwB/kvnNCAAAAct7Ic0IAAACT4dFzQgAAQOXb23NCAADA0YPlc0IAAAAkfu9zQgAAgBAm+XNCAADAYiADdEIAAAC1Gg10QgAAgKHCFnRCAADA87wgdEIAAEDgZCp0QgAAgDJfNHRCAADAhFk+dEIAAMClXEd0QgAAAPhWUXRCAACA5P5adEIAAMA2+WR0QgAAQCOhbnRCAACAdZt4dEIAAMDHlYJ0QgAAQLQ9jHRCAACABjiWdEIAAADz3590QgAAQEXaqXRCAACAl9SzdEIAAIC417x0QgAAwArSxnRCAABA93nQdEIAAIBJdNp0QgAAADYc5HRCAABAiBbudEIAAIDaEPh0QgAAAMe4AXVCAABAGbMLdUIAAMAFWxV1QgAAAFhVH3VCAABAqk8pdUIAAAAxpTJ1QgAAQIOfPHVCAADAb0dGdUIAAADCQVB1QgAAgK7pWXVCAADAAORjdUIAAABT3m11QgAAgD+Gd3VCAADAkYCBdUIAAEB+KIt1QgAAgNAilXVCAADAIh2fdUIAAMBDIKh1QgAAAJYasnVCAACAgsK7dUIAAMDUvMV1QgAAQMFkz3VCAACAE1/ZdUIAAMBlWeN1QgAAQFIB7XVCAACApPv2dUIAAACRowB2QgAAQOOdCnZCAACANZgUdkIAAIBWmx12QgAAwKiVJ3ZCAABAlT0xdkIAAIDnNzt2QgAAANTfRHZCAABAJtpOdkIAAIB41Fh2QgAAAGV8YnZCAABAt3ZsdkIAAMCjHnZ2QgAAAPYYgHZCAABASBOKdkIAAEBpFpN2QgAAgLsQnXZCAAAAqLimdkIAAED6srB2QgAAwOZaunZCAAAAOVXEdkIAAECLT852QgAAwHf313ZCAAAAyvHhdkIAAIC2met2QgAAwAiU9XZCAAAAW47/dkI=\",\"dtype\":\"float64\",\"order\":\"little\",\"shape\":[121]},\"__x__values_original\":{\"__ndarray__\":\"AAAA1BpockIAAAD1HXFyQgAAQEcYe3JCAADAM8CEckIAAACGuo5yQgAAgHJimHJCAADAxFyickIAAAAXV6xyQgAAgAP/tXJCAADAVfm/ckIAAEBCoclyQgAAgJSb03JCAADA5pXdckIAAMAHmeZyQgAAAFqT8HJCAACARjv6ckIAAMCYNQRzQgAAQIXdDXNCAACA19cXc0IAAMAp0iFzQgAAQBZ6K3NCAACAaHQ1c0IAAABVHD9zQgAAQKcWSXNCAACA+RBTc0IAAECAZlxzQgAAgNJgZnNCAAAAvwhwc0IAAEARA3pzQgAAwP2qg3NCAAAAUKWNc0IAAECin5dzQgAAwI5HoXNCAAAA4UGrc0IAAIDN6bRzQgAAwB/kvnNCAAAAct7Ic0IAAACT4dFzQgAAQOXb23NCAADA0YPlc0IAAAAkfu9zQgAAgBAm+XNCAADAYiADdEIAAAC1Gg10QgAAgKHCFnRCAADA87wgdEIAAEDgZCp0QgAAgDJfNHRCAADAhFk+dEIAAMClXEd0QgAAAPhWUXRCAACA5P5adEIAAMA2+WR0QgAAQCOhbnRCAACAdZt4dEIAAMDHlYJ0QgAAQLQ9jHRCAACABjiWdEIAAADz3590QgAAQEXaqXRCAACAl9SzdEIAAIC417x0QgAAwArSxnRCAABA93nQdEIAAIBJdNp0QgAAADYc5HRCAABAiBbudEIAAIDaEPh0QgAAAMe4AXVCAABAGbMLdUIAAMAFWxV1QgAAAFhVH3VCAABAqk8pdUIAAAAxpTJ1QgAAQIOfPHVCAADAb0dGdUIAAADCQVB1QgAAgK7pWXVCAADAAORjdUIAAABT3m11QgAAgD+Gd3VCAADAkYCBdUIAAEB+KIt1QgAAgNAilXVCAADAIh2fdUIAAMBDIKh1QgAAAJYasnVCAACAgsK7dUIAAMDUvMV1QgAAQMFkz3VCAACAE1/ZdUIAAMBlWeN1QgAAQFIB7XVCAACApPv2dUIAAACRowB2QgAAQOOdCnZCAACANZgUdkIAAIBWmx12QgAAwKiVJ3ZCAABAlT0xdkIAAIDnNzt2QgAAANTfRHZCAABAJtpOdkIAAIB41Fh2QgAAAGV8YnZCAABAt3ZsdkIAAMCjHnZ2QgAAAPYYgHZCAABASBOKdkIAAEBpFpN2QgAAgLsQnXZCAAAAqLimdkIAAED6srB2QgAAwOZaunZCAAAAOVXEdkIAAECLT852QgAAwHf313ZCAAAAyvHhdkIAAIC2met2QgAAwAiU9XZCAAAAW47/dkI=\",\"dtype\":\"float64\",\"order\":\"little\",\"shape\":[121]}},\"selected\":{\"id\":\"1063\"},\"selection_policy\":{\"id\":\"1062\"}},\"id\":\"1036\",\"type\":\"ColumnDataSource\"},{\"attributes\":{\"num_minor_ticks\":5,\"tickers\":[{\"id\":\"1050\"},{\"id\":\"1051\"},{\"id\":\"1052\"},{\"id\":\"1053\"},{\"id\":\"1054\"},{\"id\":\"1055\"},{\"id\":\"1056\"},{\"id\":\"1057\"},{\"id\":\"1058\"},{\"id\":\"1059\"},{\"id\":\"1060\"},{\"id\":\"1061\"}]},\"id\":\"1015\",\"type\":\"DatetimeTicker\"},{\"attributes\":{\"data_source\":{\"id\":\"1036\"},\"glyph\":{\"id\":\"1038\"},\"hover_glyph\":null,\"muted_glyph\":null,\"nonselection_glyph\":{\"id\":\"1039\"},\"view\":{\"id\":\"1041\"}},\"id\":\"1040\",\"type\":\"GlyphRenderer\"},{\"attributes\":{\"axis\":{\"id\":\"1014\"},\"ticker\":null},\"id\":\"1017\",\"type\":\"Grid\"},{\"attributes\":{},\"id\":\"1012\",\"type\":\"LinearScale\"},{\"attributes\":{\"end\":5,\"start\":-0.5},\"id\":\"1008\",\"type\":\"Range1d\"},{\"attributes\":{},\"id\":\"1010\",\"type\":\"LinearScale\"},{\"attributes\":{\"line_color\":\"red\",\"line_width\":2,\"x\":{\"field\":\"__x__values\"},\"y\":{\"field\":\"EMP. EC\"}},\"id\":\"1038\",\"type\":\"Line\"},{\"attributes\":{\"line_alpha\":0.1,\"line_color\":\"red\",\"line_width\":2,\"x\":{\"field\":\"__x__values\"},\"y\":{\"field\":\"EMP. EC\"}},\"id\":\"1039\",\"type\":\"Line\"},{\"attributes\":{\"axis_label\":\"Rendimiento\",\"formatter\":{\"id\":\"1046\"},\"major_label_policy\":{\"id\":\"1048\"},\"ticker\":{\"id\":\"1212\"}},\"id\":\"1018\",\"type\":\"LinearAxis\"},{\"attributes\":{},\"id\":\"1045\",\"type\":\"AllLabels\"},{\"attributes\":{},\"id\":\"1027\",\"type\":\"HelpTool\"},{\"attributes\":{\"label\":{\"value\":\" DOW JONES\"},\"renderers\":[{\"id\":\"1105\"}]},\"id\":\"1133\",\"type\":\"LegendItem\"},{\"attributes\":{},\"id\":\"1022\",\"type\":\"PanTool\"},{\"attributes\":{},\"id\":\"1046\",\"type\":\"BasicTickFormatter\"},{\"attributes\":{\"data_source\":{\"id\":\"1101\"},\"glyph\":{\"id\":\"1103\"},\"hover_glyph\":null,\"muted_glyph\":null,\"nonselection_glyph\":{\"id\":\"1104\"},\"view\":{\"id\":\"1106\"}},\"id\":\"1105\",\"type\":\"GlyphRenderer\"},{\"attributes\":{\"axis\":{\"id\":\"1018\"},\"dimension\":1,\"ticker\":null},\"id\":\"1021\",\"type\":\"Grid\"},{\"attributes\":{\"data\":{\"DOW JONES\":{\"__ndarray__\":\"AAAAAAAAAAAAnH9dQDyaP1BQHPEoErQ/EC3mjITvtz8AXu4jAzJ8P0DTA1KJ1Z2/oNmVILlFpD+AziRJs2d1vzBCriu4U7I/gPYmfc+6uj/gWhbypt63P3C4qgF2M8M/6Hi3kdwyxz8AhkoBVHPLPzhpq8pNo8w/4Kpkj2pw0T8oUeAOONHPPxinNRo/180/aNNmNtlkyj+o8wAdtKjDPyCLJ+CWg7U/WOCzEy4AyD9AchjWTCfJP2CYcNa/Vss/NArXdlVP0D9g1p2lv1bSP4BsAJrV/dM/lGV7+GsA1D+w1cDKQJPNPyii+MOa4dE/UELeiuCy0j9YK/CJljjTPwg/S7cnbNU/2ISHBbxB0z+4/AysYc7SP4zPyZI7TtM/kGdjw0sd2D9UPd2h31jZP8wlkAS8rdw/3J5wb+tW3j/Eo38y3AvgP/TTCMyDyN4/hM/M8E1E4T/MSwwP7SbeP7w+71JVF+A/7M0gD+hp4T+CKdtl2iHjP3blGarHsOQ/3IcrpHzm4T/oLqNRUuHjP95uKHbyT+Q/JlqdWC605D8Q04mfHSPlP5gaijUpfOU/AJLovOil5D88LITqXlnmP171xGQrLOY/hMXR2QhH5z/i5/qZN6voP8oMN6QCp+g/3Ei4tHuP5j+kmMlA9qLpP8LEkB7OgOg/1hG7iDW16D/GhC4LrD/pP/JEoGheAeg/dAntHp066D/KXQU+NYnkP9I7obc0w+M/xsNtRDIl6D9+CcQcE1PoP5CDvqsdY+c/AruxafpW5D+OkEuL03/kP9qTNJG7Nug/Xr4z0Ml+6D90wlY90onoPxAKWmkD/ug/cpH+bbSW6j/YjDTgL33qP6btsfK6Meo/TA7EMt+q6T/SHxdAQ8nsP3La0xY/0e4/gshoydQj7z+26m0+rhPxP+zbLesM1/A/9PZVU95H8T+s+haal2PxP2o69d5S7vE/ZOt1S6LK8j9QmZ8r0eHyP4jlzZa/m/M/aDftMEcn9T9uxSF8dpP2PzImYe5GSfc/6CHfKCiP+T+656cmZcf3P9LytwubTvY/6ptasghn9j90YB7m1832P17JiaIUk/Y/fg+peHBk+D/CSQD/D0T5PwJmyR7YDPo/+AuD+pzq9z/O6I/5l5b4P5YU7lwGE/U/jKj+fGG79z82OGENMzD5P+7/xrhbNfk/gksAhZtD+j+ojrMEQ3D3P1AzJud5Rvo/BkDfTwOy+j+S/J9EdPb5P8IuKtNlx/o/5AZTsQv8+j9IcCqBA5X8PzIlaK4qW/0/pFFS4UPo/D8=\",\"dtype\":\"float64\",\"order\":\"little\",\"shape\":[121]},\"EMP. EC\":{\"__ndarray__\":\"AAAAAAAAAAAAAAAAAAAAAADs8U1wT7w/sFHfJBQ6zT+wUd8kFDrNP7BR3yQUOs0/sFHfJBQ6zT9QrJ8hRMDSP+CXgKE8adQ/4JeAoTxp1D/gl4ChPGnUP0BeC+e+F9U/QF4L574X1T9AXgvnvhfVP2QzVqMAe9g/DIJG+oCW4T8Mgkb6gJbhPwyCRvqAluE/DIJG+oCW4T8wJoDgLO3iPzAmgOAs7eI/MCaA4Czt4j9Iv8v5OlviPwD643XTt+I/APrjddO34j8A+uN107fiP1qZGSDpQOU/mOGhSddB6T88AH24jxPqPzwAfbiPE+o/PAB9uI8T6j+sfPZoutDpP4CJjEDy7ek/VveX/ge/6T9W95f+B7/pP/SMT1rH8ek/9IxPWsfx6T/0jE9ax/HpP1qAvIDh0es/IhJb0J7M7T8iElvQnsztPyISW9CezO0/IhJb0J7M7T8iElvQnsztP+a/W5CNEO8/5r9bkI0Q7z/mv1uQjRDvPzg7nxiJce8/ODufGIlx7z84O58YiXHvP4AuTpFiRe8/arlvpqcb8j9quW+mpxvyP2q5b6anG/I/arlvpqcb8j+INgFD6aryPyhMiMVAMvM/KEyIxUAy8z8oTIjFQDLzP5zTpK2hSvM/nNOkraFK8z+c06StoUrzP1w1AIgMcPQ/OIqwglzV9T84irCCXNX1PziKsIJc1fU/mgD/US9z9T/OWqfe8Sn0P85ap97xKfQ/zlqn3vEp9D/OWqfe8Sn0P85ap97xKfQ/zlqn3vEp9D/OWqfe8Sn0P+pJbI3l2PQ/ZlnFKbv/8z9mWcUpu//zPwzqqO6N1/M/DOqo7o3X8z8M6qjujdfzPwzqqO6N1/M/DOqo7o3X8z94jAaADcTzP3iMBoANxPM/eIwGgA3E8z94jAaADcTzP2RTpnSLgPI/Sqa7I3SC8D9KprsjdILwP1ClIShWOe4/UKUhKFY57j9QpSEoVjnuP1ClIShWOe4/UKUhKFY57j9QpSEoVjnuP1ClIShWOe4/UKUhKFY57j9QpSEoVjnuP6Z07WMcwvA/1BMMzJ6N8z/UEwzMno3zP1KXc+lIxvM/Updz6UjG8z9Sl3PpSMbzP1KXc+lIxvM/Updz6UjG8z9Sl3PpSMbzP1KXc+lIxvM/Updz6UjG8z9kvjb3gw31PxIYlCpdC/k/vmxZoD6y+j++bFmgPrL6P75sWaA+svo/vmxZoD6y+j++bFmgPrL6P75sWaA+svo/vmxZoD6y+j++bFmgPrL6P8ZEjEBG4Ps/xkSMQEbg+z8=\",\"dtype\":\"float64\",\"order\":\"little\",\"shape\":[121]},\"NASDAQ 100\":{\"__ndarray__\":\"AAAAAAAAAACA9/PJB9WmP0BnGkOT878/mAEVxbkVwz+A0uDOa1+wPwAc3lxP4VG/cP2OUnEUsj8Ac2im9AqPP/gB/+b65MI/uF02+iEwzD8ISsBLIarLPzz2BH0Zh9E/PMuQkNbh0z9gI1b46WvWP9ie4AP9+tU/OKltN4Rf2D9MXqjAtTbXP6h3ztD+d9U/JEqRdCXb1j9kof5x82DSP9DJG15dRc0/oBgUt3TB1j9IB45T517UP5Txg+txu9M/eCC/0o+42j+yYatvTDbgP5rPrF0wpOI/uqgf2YwP4j/U/VwINdDcP+A7l8eSE+A/NCjcj7iR4D8qFe9eCfTiP9rIyKjXcuM/jqTq5hSr4D+yIvXdDDjhP+QQ9/lL6OA/AEllmnw04j+6u9yqqFXiP4hEaC+YzuM/gD2uSxQS5T90yB+S4M3mP8A/5hVZeuU/wq/ZvBDM6D82G2KE/n7oP8rhQ+NhJus/hoXMJwIV7j+asfcFgQ3wP9qSr3WZAvE/unSmVrpd8D8SXoPQgffxP0S0d/FlC/E/yttj0R7r8D8YURk6TlfyP0Q9eeZZYPM/NPMZkI/F8z/EwqYDs4T1P1BpGsvNNvU/grZFrKw29j/46vpYKN33P/a2F8dX7vY/QgJPmqof9j9m0b/NMc/4PzBJcfuC0/c/bAJS4QmR+D9Kew1AL275PzqQ3gnkZ/g/7rUYb/Ir+j/C7h7kckj3PxBATZlubPY/EDQjZuq4+j98F37Nzd36PzAFlT80Nvo/KhY/Nz9T9z+WLw8roJv2PwCyEYdVNPk/wOJ6LGrl9z/qzWzV+pL5P4pPNNQnmfg/WuYKHGt4+z9KCSepc9j7P75KwHCnzvw/0JjnYowf/D94uY0Q/jX8PxaCGvk7svw/krK2icwF/z89IyijFn4AQHpc0NOu+gBAB8A/8vOnAUCnYznsaZkCQJgyh+6E8gFAHyIF4xQFA0ArXf3FcIQDQKOWUiGAeQNAjd9uzTu2BEARGV6X3D8FQPNbF5MpZAVAF8L68FTvB0CNWV1h6X4HQMgV6jJwPQZAHkJa6y9aBkC2IrP/MgQIQLSuYOAmWghALkiZ6Ak7CUCoqkJzHCwLQBbeFvN3DAtAUoWwUXUDCEB/mRuwLe4HQOhn3T7/FQVARGrJ2ZK8B0Bwb5JB4pwIQPpb7IS15wlAKDuOiGXBC0BUlnPYrcAIQJaZEkuOPwtA4GeX4pUQDEDENrzg/FYLQOxbO0a+mwtADogevhMlDUBajUmjUZ0OQPoiSFVkEBBA60md6GSoEEA=\",\"dtype\":\"float64\",\"order\":\"little\",\"shape\":[121]},\"NASDAQ Composite\":{\"__ndarray__\":\"AAAAAAAAAAAg10+4C62lP7Cp91J74L0/OKZrIh21wj+AqHPtWyeqP4DK2+xmLJK/wHW9x4WYqT9AGjPKScePvxAG/4kLYbo/AMKvH2t2xT9YGh7JVerEP9h7YmMaIs4/wFM64kF50D8YGcEYW+zSP7Cg2ksz49I/eMqz8Luk1T8EGHTQ94DUP4jVqDCYqdI/ZBNNR9Em0j8osYch4sHJPxBWEVe99L8/fJbuL7IB0D/I1/EOtDHMPzBXrLTnScs/NHGnODvd0z+Ec1E2+2zYP7jnVFNGJNw/bED9IFTL2j9AG3UMPETUP3SAVSYMetc/JKuvGiec1z8c1VS4gGjbP3h1OTZt4Nw/9PPN89+72D/0Qi+jvLfZP9BAN0V3/tk/9DjLGgqm3T+wN7LZ1S/eP6I8LflfseA/ZNizsh2b4T/McHXrEYDjP0AkqQYtt+I/ChIXUV0K5j+AAZSRHn/lPyZEHvvyM+g/KKX00m9p6j/G8mvNNoDsP2SGsq9qPe4/4trycggo7T/YC5AamRnwP/gYpG3fku4/Bsfz9MZQ7T/WpbZiUTnvP2h4xJd12PA/oGKhdzGP8D/SDhYQtyDyP9yKUZv+evE/ZNFNQfyA8j8oAyOK4LPzP7i1SCTcSfM/kJ9JqJGJ8j8elU1Cxfv0P4QQdpVEhPQ/ZP+BwZjR9D98pD9y6sb1PzgFQp1KKPU/PpEXmQY29j/sRfE1CZfzP6qRSeHNbPI/3vSK1tyn9T8ObrvfnhD2P8Zf0o14T/U/pqLke/Vg8j/4nIoIJPbxPx49FmEUSfQ//MI1s9eU8z+kpmY0Pt70PxjTz/s7FfQ/3FF0/pd29j9YOST/C9j2P8KsNlB3lPc/Go8sah2q9j+kUP3gvqr3P6xvwhcgHPg/yAoHNQfW+T8YDHEA1mf7P0AT+W9zDPw/9PPaJ54P/T8ALJVWeS/+P1yUsmKmwP0/yCPNzdRM/z9GO9Bwdeb/P5RxzFtqMwBAzZYHsWcQAUDZ+ATC75sBQEttfs3+twFAh0m145OcA0BaiAmVgxgDQAwCUmWmUAJARXxL31ZTAkANd1rbzLkDQOZa11LT+gNAypY2GtiUBECxAsdOVzYGQEbd0B0T+gVAa6lt5uE3A0B/TcDuYU8DQLiiWxpKuABAWSFFLdcgA0DErAfnBhAEQIxfaFW2ywRAbBfhhtgoBkCYlszXUcQDQBF2cw/S0wVAm2OIQyx1BkAHCO9gd6oFQH/0Nko9zQVAtZTx8rPkBkDWyy7FjEgIQEKDsVB4bQlAapYvQ48XCkA=\",\"dtype\":\"float64\",\"order\":\"little\",\"shape\":[121]},\"S&P 500\":{\"__ndarray__\":\"AAAAAAAAAADA3cVHsTKdP/B3UbTTx7Y/gL/sQinluj8AfEoJAaONPxAJtxbuk6S/wKpf7DRxmj+gW5xhgWaXv4Dttf8ADbA/METf+dYTuj9gv+fjdG65P3jxieuL58U/IM8NNpVMyT8goUxytDLOP2Crz0BKCM4/TE19wI1E0T9A5aAjrCvQP1gr4qzsac0/iHf1u4wIyj84ZIGtIUnBPyAgz19QcKs/kOXi+x1jxT8wOYr1p6HEP2i1+CZT5sU/+M2DoMtuzD/w7Mb9ImTRP5Simif78NM/iKB0U95P0z+wP8z0Ui/MP4gqYI5uLtE/gLZfdj000j/whIkqJdTTP9QkoK1B3NU/eL+nvkcp1D+kJGESnWbUP1y+WYdV/9Q/PFZSq51I2T8wZvjFbEXaP2CWq5sUhd0/TD9GxRI23z9GSB3lEpjgP+QGsnj2ut8/1CyVZpA74j8AD0XOFangP1iDNXKtG+I/SB8iyrxX5D8uF5rPl8/lPxBduDcvFOc/eufsenUe5T+86s+4yGjnPwZ45YYdy+c/lH64kq4j6D9wZt4j7FHpPwC1MDmVaeo/Xp/73BWI6T8Q/gkCrbLrP8LMxjaVxeo/NnfUkKki7D8MBBhDWZztP3BgyOlIWu0//mCxw79y6z/8E1P5JLbuP5wFZ2Tdnu0/HhN6k0cl7j/+IiefMMzuP1qKEf1meu0/ssumPByx7j8MFqpsvsTqP1AAoBDrNuk/Wl9Qe1327T+8HwKjX/7tP+olFbop6Ow/YBEF7xbR6T925yZA/JPpP04MmIOxYO0/EAIVtRuL7T9w7HmLjHzuP1zFm98ei+4/Ttw5/6Ji8D+wfK5Fh1jwPwSivHZOTvA/rKJ95Exb7z/C+zopy8LwP+bG+ItwW/E/yqX/ein08T9QSG+VfjfzP/JFalT8M/M/9oeZXuqF8z/QKHdfMO/zP8wa3cZ4G/Q/0EHodVLO9D+8JwKFeNP0P+wQrPRyifU/sHtIMKpe9j/geHHTgnL3P4JaEb7L1fc/Kq0a4LES+j+ayKJeNG/4Pwi7bOnqWPc/7oMYuk109z+SWWjvjU74P1je7niFgPg/Breb+wL2+T9Q/ZRzGTv7PxxPB+6favs/8EwHgztn+D/0ctu49B/5P7wNg5u7WfU/3ALZkRdK+D+sLUX0t3z5PwQ6DkkWO/o/2IkU1Bvk+z/QHQbhBQH5Pyp/b6CV1Ps/apBV2ONn/D+qtML0OZr7P+CLzK8BWvw/ImEaMv1B/T9seaoodcz+P4u5rgZ9EQBA+P7v93QHAEA=\",\"dtype\":\"float64\",\"order\":\"little\",\"shape\":[121]},\"__x__values\":{\"__ndarray__\":\"AAAA1BpockIAAAD1HXFyQgAAQEcYe3JCAADAM8CEckIAAACGuo5yQgAAgHJimHJCAADAxFyickIAAAAXV6xyQgAAgAP/tXJCAADAVfm/ckIAAEBCoclyQgAAgJSb03JCAADA5pXdckIAAMAHmeZyQgAAAFqT8HJCAACARjv6ckIAAMCYNQRzQgAAQIXdDXNCAACA19cXc0IAAMAp0iFzQgAAQBZ6K3NCAACAaHQ1c0IAAABVHD9zQgAAQKcWSXNCAACA+RBTc0IAAECAZlxzQgAAgNJgZnNCAAAAvwhwc0IAAEARA3pzQgAAwP2qg3NCAAAAUKWNc0IAAECin5dzQgAAwI5HoXNCAAAA4UGrc0IAAIDN6bRzQgAAwB/kvnNCAAAAct7Ic0IAAACT4dFzQgAAQOXb23NCAADA0YPlc0IAAAAkfu9zQgAAgBAm+XNCAADAYiADdEIAAAC1Gg10QgAAgKHCFnRCAADA87wgdEIAAEDgZCp0QgAAgDJfNHRCAADAhFk+dEIAAMClXEd0QgAAAPhWUXRCAACA5P5adEIAAMA2+WR0QgAAQCOhbnRCAACAdZt4dEIAAMDHlYJ0QgAAQLQ9jHRCAACABjiWdEIAAADz3590QgAAQEXaqXRCAACAl9SzdEIAAIC417x0QgAAwArSxnRCAABA93nQdEIAAIBJdNp0QgAAADYc5HRCAABAiBbudEIAAIDaEPh0QgAAAMe4AXVCAABAGbMLdUIAAMAFWxV1QgAAAFhVH3VCAABAqk8pdUIAAAAxpTJ1QgAAQIOfPHVCAADAb0dGdUIAAADCQVB1QgAAgK7pWXVCAADAAORjdUIAAABT3m11QgAAgD+Gd3VCAADAkYCBdUIAAEB+KIt1QgAAgNAilXVCAADAIh2fdUIAAMBDIKh1QgAAAJYasnVCAACAgsK7dUIAAMDUvMV1QgAAQMFkz3VCAACAE1/ZdUIAAMBlWeN1QgAAQFIB7XVCAACApPv2dUIAAACRowB2QgAAQOOdCnZCAACANZgUdkIAAIBWmx12QgAAwKiVJ3ZCAABAlT0xdkIAAIDnNzt2QgAAANTfRHZCAABAJtpOdkIAAIB41Fh2QgAAAGV8YnZCAABAt3ZsdkIAAMCjHnZ2QgAAAPYYgHZCAABASBOKdkIAAEBpFpN2QgAAgLsQnXZCAAAAqLimdkIAAED6srB2QgAAwOZaunZCAAAAOVXEdkIAAECLT852QgAAwHf313ZCAAAAyvHhdkIAAIC2met2QgAAwAiU9XZCAAAAW47/dkI=\",\"dtype\":\"float64\",\"order\":\"little\",\"shape\":[121]},\"__x__values_original\":{\"__ndarray__\":\"AAAA1BpockIAAAD1HXFyQgAAQEcYe3JCAADAM8CEckIAAACGuo5yQgAAgHJimHJCAADAxFyickIAAAAXV6xyQgAAgAP/tXJCAADAVfm/ckIAAEBCoclyQgAAgJSb03JCAADA5pXdckIAAMAHmeZyQgAAAFqT8HJCAACARjv6ckIAAMCYNQRzQgAAQIXdDXNCAACA19cXc0IAAMAp0iFzQgAAQBZ6K3NCAACAaHQ1c0IAAABVHD9zQgAAQKcWSXNCAACA+RBTc0IAAECAZlxzQgAAgNJgZnNCAAAAvwhwc0IAAEARA3pzQgAAwP2qg3NCAAAAUKWNc0IAAECin5dzQgAAwI5HoXNCAAAA4UGrc0IAAIDN6bRzQgAAwB/kvnNCAAAAct7Ic0IAAACT4dFzQgAAQOXb23NCAADA0YPlc0IAAAAkfu9zQgAAgBAm+XNCAADAYiADdEIAAAC1Gg10QgAAgKHCFnRCAADA87wgdEIAAEDgZCp0QgAAgDJfNHRCAADAhFk+dEIAAMClXEd0QgAAAPhWUXRCAACA5P5adEIAAMA2+WR0QgAAQCOhbnRCAACAdZt4dEIAAMDHlYJ0QgAAQLQ9jHRCAACABjiWdEIAAADz3590QgAAQEXaqXRCAACAl9SzdEIAAIC417x0QgAAwArSxnRCAABA93nQdEIAAIBJdNp0QgAAADYc5HRCAABAiBbudEIAAIDaEPh0QgAAAMe4AXVCAABAGbMLdUIAAMAFWxV1QgAAAFhVH3VCAABAqk8pdUIAAAAxpTJ1QgAAQIOfPHVCAADAb0dGdUIAAADCQVB1QgAAgK7pWXVCAADAAORjdUIAAABT3m11QgAAgD+Gd3VCAADAkYCBdUIAAEB+KIt1QgAAgNAilXVCAADAIh2fdUIAAMBDIKh1QgAAAJYasnVCAACAgsK7dUIAAMDUvMV1QgAAQMFkz3VCAACAE1/ZdUIAAMBlWeN1QgAAQFIB7XVCAACApPv2dUIAAACRowB2QgAAQOOdCnZCAACANZgUdkIAAIBWmx12QgAAwKiVJ3ZCAABAlT0xdkIAAIDnNzt2QgAAANTfRHZCAABAJtpOdkIAAIB41Fh2QgAAAGV8YnZCAABAt3ZsdkIAAMCjHnZ2QgAAAPYYgHZCAABASBOKdkIAAEBpFpN2QgAAgLsQnXZCAAAAqLimdkIAAED6srB2QgAAwOZaunZCAAAAOVXEdkIAAECLT852QgAAwHf313ZCAAAAyvHhdkIAAIC2met2QgAAwAiU9XZCAAAAW47/dkI=\",\"dtype\":\"float64\",\"order\":\"little\",\"shape\":[121]}},\"selected\":{\"id\":\"1132\"},\"selection_policy\":{\"id\":\"1131\"}},\"id\":\"1101\",\"type\":\"ColumnDataSource\"},{\"attributes\":{\"overlay\":{\"id\":\"1028\"}},\"id\":\"1024\",\"type\":\"BoxZoomTool\"},{\"attributes\":{},\"id\":\"1048\",\"type\":\"AllLabels\"},{\"attributes\":{\"line_color\":\"green\",\"line_width\":2,\"x\":{\"field\":\"__x__values\"},\"y\":{\"field\":\"DOW JONES\"}},\"id\":\"1103\",\"type\":\"Line\"},{\"attributes\":{\"text\":\"Empresas ecuatorianas VS Indices americanos\"},\"id\":\"1004\",\"type\":\"Title\"},{\"attributes\":{\"line_alpha\":0.1,\"line_color\":\"green\",\"line_width\":2,\"x\":{\"field\":\"__x__values\"},\"y\":{\"field\":\"DOW JONES\"}},\"id\":\"1104\",\"type\":\"Line\"},{\"attributes\":{},\"id\":\"1023\",\"type\":\"WheelZoomTool\"},{\"attributes\":{\"source\":{\"id\":\"1101\"}},\"id\":\"1106\",\"type\":\"CDSView\"},{\"attributes\":{},\"id\":\"1025\",\"type\":\"SaveTool\"},{\"attributes\":{},\"id\":\"1026\",\"type\":\"ResetTool\"},{\"attributes\":{\"click_policy\":\"hide\",\"items\":[{\"id\":\"1065\"},{\"id\":\"1098\"},{\"id\":\"1133\"},{\"id\":\"1170\"},{\"id\":\"1209\"}],\"location\":\"top_left\"},\"id\":\"1064\",\"type\":\"Legend\"},{\"attributes\":{},\"id\":\"1131\",\"type\":\"UnionRenderers\"},{\"attributes\":{\"label\":{\"value\":\" EMP. EC\"},\"renderers\":[{\"id\":\"1040\"}]},\"id\":\"1065\",\"type\":\"LegendItem\"},{\"attributes\":{},\"id\":\"1132\",\"type\":\"Selection\"},{\"attributes\":{\"source\":{\"id\":\"1036\"}},\"id\":\"1041\",\"type\":\"CDSView\"},{\"attributes\":{\"days\":[\"%d %B %Y\"],\"hours\":[\"%H:%M:%S\"],\"milliseconds\":[\"%H:%M:%S.%f\"],\"minutes\":[\"%H:%M:%S\"],\"months\":[\"%d %B %Y\"],\"seconds\":[\"%H:%M:%S\"],\"years\":[\"%d %B %Y\"]},\"id\":\"1214\",\"type\":\"DatetimeTickFormatter\"},{\"attributes\":{\"bottom_units\":\"screen\",\"fill_alpha\":0.5,\"fill_color\":\"lightgrey\",\"left_units\":\"screen\",\"level\":\"overlay\",\"line_alpha\":1.0,\"line_color\":\"black\",\"line_dash\":[4,4],\"line_width\":2,\"right_units\":\"screen\",\"syncable\":false,\"top_units\":\"screen\"},\"id\":\"1028\",\"type\":\"BoxAnnotation\"},{\"attributes\":{\"mantissas\":[1,2,5],\"max_interval\":500.0,\"num_minor_ticks\":0},\"id\":\"1050\",\"type\":\"AdaptiveTicker\"},{\"attributes\":{\"base\":60,\"mantissas\":[1,2,5,10,15,20,30],\"max_interval\":1800000.0,\"min_interval\":1000.0,\"num_minor_ticks\":0},\"id\":\"1051\",\"type\":\"AdaptiveTicker\"},{\"attributes\":{\"callback\":null,\"formatters\":{\"@__x__values_original\":\"datetime\"},\"mode\":\"vline\",\"renderers\":[{\"id\":\"1072\"}],\"tooltips\":[[\"Fecha\",\"@__x__values_original{%F}\"],[\"S&P 500\",\"@{S&P 500}{1%}\"]]},\"id\":\"1099\",\"type\":\"HoverTool\"},{\"attributes\":{\"days\":[1,2,3,4,5,6,7,8,9,10,11,12,13,14,15,16,17,18,19,20,21,22,23,24,25,26,27,28,29,30,31]},\"id\":\"1053\",\"type\":\"DaysTicker\"},{\"attributes\":{\"base\":24,\"mantissas\":[1,2,4,6,8,12],\"max_interval\":43200000.0,\"min_interval\":3600000.0,\"num_minor_ticks\":0},\"id\":\"1052\",\"type\":\"AdaptiveTicker\"},{\"attributes\":{\"data_source\":{\"id\":\"1068\"},\"glyph\":{\"id\":\"1070\"},\"hover_glyph\":null,\"muted_glyph\":null,\"nonselection_glyph\":{\"id\":\"1071\"},\"view\":{\"id\":\"1073\"}},\"id\":\"1072\",\"type\":\"GlyphRenderer\"},{\"attributes\":{\"months\":[0,1,2,3,4,5,6,7,8,9,10,11]},\"id\":\"1057\",\"type\":\"MonthsTicker\"},{\"attributes\":{\"callback\":null,\"formatters\":{\"@__x__values_original\":\"datetime\"},\"mode\":\"vline\",\"renderers\":[{\"id\":\"1140\"}],\"tooltips\":[[\"Fecha\",\"@__x__values_original{%F}\"],[\"NASDAQ Composite\",\"@{NASDAQ Composite}{1%}\"]]},\"id\":\"1171\",\"type\":\"HoverTool\"},{\"attributes\":{\"data\":{\"DOW JONES\":{\"__ndarray__\":\"AAAAAAAAAAAAnH9dQDyaP1BQHPEoErQ/EC3mjITvtz8AXu4jAzJ8P0DTA1KJ1Z2/oNmVILlFpD+AziRJs2d1vzBCriu4U7I/gPYmfc+6uj/gWhbypt63P3C4qgF2M8M/6Hi3kdwyxz8AhkoBVHPLPzhpq8pNo8w/4Kpkj2pw0T8oUeAOONHPPxinNRo/180/aNNmNtlkyj+o8wAdtKjDPyCLJ+CWg7U/WOCzEy4AyD9AchjWTCfJP2CYcNa/Vss/NArXdlVP0D9g1p2lv1bSP4BsAJrV/dM/lGV7+GsA1D+w1cDKQJPNPyii+MOa4dE/UELeiuCy0j9YK/CJljjTPwg/S7cnbNU/2ISHBbxB0z+4/AysYc7SP4zPyZI7TtM/kGdjw0sd2D9UPd2h31jZP8wlkAS8rdw/3J5wb+tW3j/Eo38y3AvgP/TTCMyDyN4/hM/M8E1E4T/MSwwP7SbeP7w+71JVF+A/7M0gD+hp4T+CKdtl2iHjP3blGarHsOQ/3IcrpHzm4T/oLqNRUuHjP95uKHbyT+Q/JlqdWC605D8Q04mfHSPlP5gaijUpfOU/AJLovOil5D88LITqXlnmP171xGQrLOY/hMXR2QhH5z/i5/qZN6voP8oMN6QCp+g/3Ei4tHuP5j+kmMlA9qLpP8LEkB7OgOg/1hG7iDW16D/GhC4LrD/pP/JEoGheAeg/dAntHp066D/KXQU+NYnkP9I7obc0w+M/xsNtRDIl6D9+CcQcE1PoP5CDvqsdY+c/AruxafpW5D+OkEuL03/kP9qTNJG7Nug/Xr4z0Ml+6D90wlY90onoPxAKWmkD/ug/cpH+bbSW6j/YjDTgL33qP6btsfK6Meo/TA7EMt+q6T/SHxdAQ8nsP3La0xY/0e4/gshoydQj7z+26m0+rhPxP+zbLesM1/A/9PZVU95H8T+s+haal2PxP2o69d5S7vE/ZOt1S6LK8j9QmZ8r0eHyP4jlzZa/m/M/aDftMEcn9T9uxSF8dpP2PzImYe5GSfc/6CHfKCiP+T+656cmZcf3P9LytwubTvY/6ptasghn9j90YB7m1832P17JiaIUk/Y/fg+peHBk+D/CSQD/D0T5PwJmyR7YDPo/+AuD+pzq9z/O6I/5l5b4P5YU7lwGE/U/jKj+fGG79z82OGENMzD5P+7/xrhbNfk/gksAhZtD+j+ojrMEQ3D3P1AzJud5Rvo/BkDfTwOy+j+S/J9EdPb5P8IuKtNlx/o/5AZTsQv8+j9IcCqBA5X8PzIlaK4qW/0/pFFS4UPo/D8=\",\"dtype\":\"float64\",\"order\":\"little\",\"shape\":[121]},\"EMP. EC\":{\"__ndarray__\":\"AAAAAAAAAAAAAAAAAAAAAADs8U1wT7w/sFHfJBQ6zT+wUd8kFDrNP7BR3yQUOs0/sFHfJBQ6zT9QrJ8hRMDSP+CXgKE8adQ/4JeAoTxp1D/gl4ChPGnUP0BeC+e+F9U/QF4L574X1T9AXgvnvhfVP2QzVqMAe9g/DIJG+oCW4T8Mgkb6gJbhPwyCRvqAluE/DIJG+oCW4T8wJoDgLO3iPzAmgOAs7eI/MCaA4Czt4j9Iv8v5OlviPwD643XTt+I/APrjddO34j8A+uN107fiP1qZGSDpQOU/mOGhSddB6T88AH24jxPqPzwAfbiPE+o/PAB9uI8T6j+sfPZoutDpP4CJjEDy7ek/VveX/ge/6T9W95f+B7/pP/SMT1rH8ek/9IxPWsfx6T/0jE9ax/HpP1qAvIDh0es/IhJb0J7M7T8iElvQnsztPyISW9CezO0/IhJb0J7M7T8iElvQnsztP+a/W5CNEO8/5r9bkI0Q7z/mv1uQjRDvPzg7nxiJce8/ODufGIlx7z84O58YiXHvP4AuTpFiRe8/arlvpqcb8j9quW+mpxvyP2q5b6anG/I/arlvpqcb8j+INgFD6aryPyhMiMVAMvM/KEyIxUAy8z8oTIjFQDLzP5zTpK2hSvM/nNOkraFK8z+c06StoUrzP1w1AIgMcPQ/OIqwglzV9T84irCCXNX1PziKsIJc1fU/mgD/US9z9T/OWqfe8Sn0P85ap97xKfQ/zlqn3vEp9D/OWqfe8Sn0P85ap97xKfQ/zlqn3vEp9D/OWqfe8Sn0P+pJbI3l2PQ/ZlnFKbv/8z9mWcUpu//zPwzqqO6N1/M/DOqo7o3X8z8M6qjujdfzPwzqqO6N1/M/DOqo7o3X8z94jAaADcTzP3iMBoANxPM/eIwGgA3E8z94jAaADcTzP2RTpnSLgPI/Sqa7I3SC8D9KprsjdILwP1ClIShWOe4/UKUhKFY57j9QpSEoVjnuP1ClIShWOe4/UKUhKFY57j9QpSEoVjnuP1ClIShWOe4/UKUhKFY57j9QpSEoVjnuP6Z07WMcwvA/1BMMzJ6N8z/UEwzMno3zP1KXc+lIxvM/Updz6UjG8z9Sl3PpSMbzP1KXc+lIxvM/Updz6UjG8z9Sl3PpSMbzP1KXc+lIxvM/Updz6UjG8z9kvjb3gw31PxIYlCpdC/k/vmxZoD6y+j++bFmgPrL6P75sWaA+svo/vmxZoD6y+j++bFmgPrL6P75sWaA+svo/vmxZoD6y+j++bFmgPrL6P8ZEjEBG4Ps/xkSMQEbg+z8=\",\"dtype\":\"float64\",\"order\":\"little\",\"shape\":[121]},\"NASDAQ 100\":{\"__ndarray__\":\"AAAAAAAAAACA9/PJB9WmP0BnGkOT878/mAEVxbkVwz+A0uDOa1+wPwAc3lxP4VG/cP2OUnEUsj8Ac2im9AqPP/gB/+b65MI/uF02+iEwzD8ISsBLIarLPzz2BH0Zh9E/PMuQkNbh0z9gI1b46WvWP9ie4AP9+tU/OKltN4Rf2D9MXqjAtTbXP6h3ztD+d9U/JEqRdCXb1j9kof5x82DSP9DJG15dRc0/oBgUt3TB1j9IB45T517UP5Txg+txu9M/eCC/0o+42j+yYatvTDbgP5rPrF0wpOI/uqgf2YwP4j/U/VwINdDcP+A7l8eSE+A/NCjcj7iR4D8qFe9eCfTiP9rIyKjXcuM/jqTq5hSr4D+yIvXdDDjhP+QQ9/lL6OA/AEllmnw04j+6u9yqqFXiP4hEaC+YzuM/gD2uSxQS5T90yB+S4M3mP8A/5hVZeuU/wq/ZvBDM6D82G2KE/n7oP8rhQ+NhJus/hoXMJwIV7j+asfcFgQ3wP9qSr3WZAvE/unSmVrpd8D8SXoPQgffxP0S0d/FlC/E/yttj0R7r8D8YURk6TlfyP0Q9eeZZYPM/NPMZkI/F8z/EwqYDs4T1P1BpGsvNNvU/grZFrKw29j/46vpYKN33P/a2F8dX7vY/QgJPmqof9j9m0b/NMc/4PzBJcfuC0/c/bAJS4QmR+D9Kew1AL275PzqQ3gnkZ/g/7rUYb/Ir+j/C7h7kckj3PxBATZlubPY/EDQjZuq4+j98F37Nzd36PzAFlT80Nvo/KhY/Nz9T9z+WLw8roJv2PwCyEYdVNPk/wOJ6LGrl9z/qzWzV+pL5P4pPNNQnmfg/WuYKHGt4+z9KCSepc9j7P75KwHCnzvw/0JjnYowf/D94uY0Q/jX8PxaCGvk7svw/krK2icwF/z89IyijFn4AQHpc0NOu+gBAB8A/8vOnAUCnYznsaZkCQJgyh+6E8gFAHyIF4xQFA0ArXf3FcIQDQKOWUiGAeQNAjd9uzTu2BEARGV6X3D8FQPNbF5MpZAVAF8L68FTvB0CNWV1h6X4HQMgV6jJwPQZAHkJa6y9aBkC2IrP/MgQIQLSuYOAmWghALkiZ6Ak7CUCoqkJzHCwLQBbeFvN3DAtAUoWwUXUDCEB/mRuwLe4HQOhn3T7/FQVARGrJ2ZK8B0Bwb5JB4pwIQPpb7IS15wlAKDuOiGXBC0BUlnPYrcAIQJaZEkuOPwtA4GeX4pUQDEDENrzg/FYLQOxbO0a+mwtADogevhMlDUBajUmjUZ0OQPoiSFVkEBBA60md6GSoEEA=\",\"dtype\":\"float64\",\"order\":\"little\",\"shape\":[121]},\"NASDAQ Composite\":{\"__ndarray__\":\"AAAAAAAAAAAg10+4C62lP7Cp91J74L0/OKZrIh21wj+AqHPtWyeqP4DK2+xmLJK/wHW9x4WYqT9AGjPKScePvxAG/4kLYbo/AMKvH2t2xT9YGh7JVerEP9h7YmMaIs4/wFM64kF50D8YGcEYW+zSP7Cg2ksz49I/eMqz8Luk1T8EGHTQ94DUP4jVqDCYqdI/ZBNNR9Em0j8osYch4sHJPxBWEVe99L8/fJbuL7IB0D/I1/EOtDHMPzBXrLTnScs/NHGnODvd0z+Ec1E2+2zYP7jnVFNGJNw/bED9IFTL2j9AG3UMPETUP3SAVSYMetc/JKuvGiec1z8c1VS4gGjbP3h1OTZt4Nw/9PPN89+72D/0Qi+jvLfZP9BAN0V3/tk/9DjLGgqm3T+wN7LZ1S/eP6I8LflfseA/ZNizsh2b4T/McHXrEYDjP0AkqQYtt+I/ChIXUV0K5j+AAZSRHn/lPyZEHvvyM+g/KKX00m9p6j/G8mvNNoDsP2SGsq9qPe4/4trycggo7T/YC5AamRnwP/gYpG3fku4/Bsfz9MZQ7T/WpbZiUTnvP2h4xJd12PA/oGKhdzGP8D/SDhYQtyDyP9yKUZv+evE/ZNFNQfyA8j8oAyOK4LPzP7i1SCTcSfM/kJ9JqJGJ8j8elU1Cxfv0P4QQdpVEhPQ/ZP+BwZjR9D98pD9y6sb1PzgFQp1KKPU/PpEXmQY29j/sRfE1CZfzP6qRSeHNbPI/3vSK1tyn9T8ObrvfnhD2P8Zf0o14T/U/pqLke/Vg8j/4nIoIJPbxPx49FmEUSfQ//MI1s9eU8z+kpmY0Pt70PxjTz/s7FfQ/3FF0/pd29j9YOST/C9j2P8KsNlB3lPc/Go8sah2q9j+kUP3gvqr3P6xvwhcgHPg/yAoHNQfW+T8YDHEA1mf7P0AT+W9zDPw/9PPaJ54P/T8ALJVWeS/+P1yUsmKmwP0/yCPNzdRM/z9GO9Bwdeb/P5RxzFtqMwBAzZYHsWcQAUDZ+ATC75sBQEttfs3+twFAh0m145OcA0BaiAmVgxgDQAwCUmWmUAJARXxL31ZTAkANd1rbzLkDQOZa11LT+gNAypY2GtiUBECxAsdOVzYGQEbd0B0T+gVAa6lt5uE3A0B/TcDuYU8DQLiiWxpKuABAWSFFLdcgA0DErAfnBhAEQIxfaFW2ywRAbBfhhtgoBkCYlszXUcQDQBF2cw/S0wVAm2OIQyx1BkAHCO9gd6oFQH/0Nko9zQVAtZTx8rPkBkDWyy7FjEgIQEKDsVB4bQlAapYvQ48XCkA=\",\"dtype\":\"float64\",\"order\":\"little\",\"shape\":[121]},\"S&P 500\":{\"__ndarray__\":\"AAAAAAAAAADA3cVHsTKdP/B3UbTTx7Y/gL/sQinluj8AfEoJAaONPxAJtxbuk6S/wKpf7DRxmj+gW5xhgWaXv4Dttf8ADbA/METf+dYTuj9gv+fjdG65P3jxieuL58U/IM8NNpVMyT8goUxytDLOP2Crz0BKCM4/TE19wI1E0T9A5aAjrCvQP1gr4qzsac0/iHf1u4wIyj84ZIGtIUnBPyAgz19QcKs/kOXi+x1jxT8wOYr1p6HEP2i1+CZT5sU/+M2DoMtuzD/w7Mb9ImTRP5Simif78NM/iKB0U95P0z+wP8z0Ui/MP4gqYI5uLtE/gLZfdj000j/whIkqJdTTP9QkoK1B3NU/eL+nvkcp1D+kJGESnWbUP1y+WYdV/9Q/PFZSq51I2T8wZvjFbEXaP2CWq5sUhd0/TD9GxRI23z9GSB3lEpjgP+QGsnj2ut8/1CyVZpA74j8AD0XOFangP1iDNXKtG+I/SB8iyrxX5D8uF5rPl8/lPxBduDcvFOc/eufsenUe5T+86s+4yGjnPwZ45YYdy+c/lH64kq4j6D9wZt4j7FHpPwC1MDmVaeo/Xp/73BWI6T8Q/gkCrbLrP8LMxjaVxeo/NnfUkKki7D8MBBhDWZztP3BgyOlIWu0//mCxw79y6z/8E1P5JLbuP5wFZ2Tdnu0/HhN6k0cl7j/+IiefMMzuP1qKEf1meu0/ssumPByx7j8MFqpsvsTqP1AAoBDrNuk/Wl9Qe1327T+8HwKjX/7tP+olFbop6Ow/YBEF7xbR6T925yZA/JPpP04MmIOxYO0/EAIVtRuL7T9w7HmLjHzuP1zFm98ei+4/Ttw5/6Ji8D+wfK5Fh1jwPwSivHZOTvA/rKJ95Exb7z/C+zopy8LwP+bG+ItwW/E/yqX/ein08T9QSG+VfjfzP/JFalT8M/M/9oeZXuqF8z/QKHdfMO/zP8wa3cZ4G/Q/0EHodVLO9D+8JwKFeNP0P+wQrPRyifU/sHtIMKpe9j/geHHTgnL3P4JaEb7L1fc/Kq0a4LES+j+ayKJeNG/4Pwi7bOnqWPc/7oMYuk109z+SWWjvjU74P1je7niFgPg/Breb+wL2+T9Q/ZRzGTv7PxxPB+6favs/8EwHgztn+D/0ctu49B/5P7wNg5u7WfU/3ALZkRdK+D+sLUX0t3z5PwQ6DkkWO/o/2IkU1Bvk+z/QHQbhBQH5Pyp/b6CV1Ps/apBV2ONn/D+qtML0OZr7P+CLzK8BWvw/ImEaMv1B/T9seaoodcz+P4u5rgZ9EQBA+P7v93QHAEA=\",\"dtype\":\"float64\",\"order\":\"little\",\"shape\":[121]},\"__x__values\":{\"__ndarray__\":\"AAAA1BpockIAAAD1HXFyQgAAQEcYe3JCAADAM8CEckIAAACGuo5yQgAAgHJimHJCAADAxFyickIAAAAXV6xyQgAAgAP/tXJCAADAVfm/ckIAAEBCoclyQgAAgJSb03JCAADA5pXdckIAAMAHmeZyQgAAAFqT8HJCAACARjv6ckIAAMCYNQRzQgAAQIXdDXNCAACA19cXc0IAAMAp0iFzQgAAQBZ6K3NCAACAaHQ1c0IAAABVHD9zQgAAQKcWSXNCAACA+RBTc0IAAECAZlxzQgAAgNJgZnNCAAAAvwhwc0IAAEARA3pzQgAAwP2qg3NCAAAAUKWNc0IAAECin5dzQgAAwI5HoXNCAAAA4UGrc0IAAIDN6bRzQgAAwB/kvnNCAAAAct7Ic0IAAACT4dFzQgAAQOXb23NCAADA0YPlc0IAAAAkfu9zQgAAgBAm+XNCAADAYiADdEIAAAC1Gg10QgAAgKHCFnRCAADA87wgdEIAAEDgZCp0QgAAgDJfNHRCAADAhFk+dEIAAMClXEd0QgAAAPhWUXRCAACA5P5adEIAAMA2+WR0QgAAQCOhbnRCAACAdZt4dEIAAMDHlYJ0QgAAQLQ9jHRCAACABjiWdEIAAADz3590QgAAQEXaqXRCAACAl9SzdEIAAIC417x0QgAAwArSxnRCAABA93nQdEIAAIBJdNp0QgAAADYc5HRCAABAiBbudEIAAIDaEPh0QgAAAMe4AXVCAABAGbMLdUIAAMAFWxV1QgAAAFhVH3VCAABAqk8pdUIAAAAxpTJ1QgAAQIOfPHVCAADAb0dGdUIAAADCQVB1QgAAgK7pWXVCAADAAORjdUIAAABT3m11QgAAgD+Gd3VCAADAkYCBdUIAAEB+KIt1QgAAgNAilXVCAADAIh2fdUIAAMBDIKh1QgAAAJYasnVCAACAgsK7dUIAAMDUvMV1QgAAQMFkz3VCAACAE1/ZdUIAAMBlWeN1QgAAQFIB7XVCAACApPv2dUIAAACRowB2QgAAQOOdCnZCAACANZgUdkIAAIBWmx12QgAAwKiVJ3ZCAABAlT0xdkIAAIDnNzt2QgAAANTfRHZCAABAJtpOdkIAAIB41Fh2QgAAAGV8YnZCAABAt3ZsdkIAAMCjHnZ2QgAAAPYYgHZCAABASBOKdkIAAEBpFpN2QgAAgLsQnXZCAAAAqLimdkIAAED6srB2QgAAwOZaunZCAAAAOVXEdkIAAECLT852QgAAwHf313ZCAAAAyvHhdkIAAIC2met2QgAAwAiU9XZCAAAAW47/dkI=\",\"dtype\":\"float64\",\"order\":\"little\",\"shape\":[121]},\"__x__values_original\":{\"__ndarray__\":\"AAAA1BpockIAAAD1HXFyQgAAQEcYe3JCAADAM8CEckIAAACGuo5yQgAAgHJimHJCAADAxFyickIAAAAXV6xyQgAAgAP/tXJCAADAVfm/ckIAAEBCoclyQgAAgJSb03JCAADA5pXdckIAAMAHmeZyQgAAAFqT8HJCAACARjv6ckIAAMCYNQRzQgAAQIXdDXNCAACA19cXc0IAAMAp0iFzQgAAQBZ6K3NCAACAaHQ1c0IAAABVHD9zQgAAQKcWSXNCAACA+RBTc0IAAECAZlxzQgAAgNJgZnNCAAAAvwhwc0IAAEARA3pzQgAAwP2qg3NCAAAAUKWNc0IAAECin5dzQgAAwI5HoXNCAAAA4UGrc0IAAIDN6bRzQgAAwB/kvnNCAAAAct7Ic0IAAACT4dFzQgAAQOXb23NCAADA0YPlc0IAAAAkfu9zQgAAgBAm+XNCAADAYiADdEIAAAC1Gg10QgAAgKHCFnRCAADA87wgdEIAAEDgZCp0QgAAgDJfNHRCAADAhFk+dEIAAMClXEd0QgAAAPhWUXRCAACA5P5adEIAAMA2+WR0QgAAQCOhbnRCAACAdZt4dEIAAMDHlYJ0QgAAQLQ9jHRCAACABjiWdEIAAADz3590QgAAQEXaqXRCAACAl9SzdEIAAIC417x0QgAAwArSxnRCAABA93nQdEIAAIBJdNp0QgAAADYc5HRCAABAiBbudEIAAIDaEPh0QgAAAMe4AXVCAABAGbMLdUIAAMAFWxV1QgAAAFhVH3VCAABAqk8pdUIAAAAxpTJ1QgAAQIOfPHVCAADAb0dGdUIAAADCQVB1QgAAgK7pWXVCAADAAORjdUIAAABT3m11QgAAgD+Gd3VCAADAkYCBdUIAAEB+KIt1QgAAgNAilXVCAADAIh2fdUIAAMBDIKh1QgAAAJYasnVCAACAgsK7dUIAAMDUvMV1QgAAQMFkz3VCAACAE1/ZdUIAAMBlWeN1QgAAQFIB7XVCAACApPv2dUIAAACRowB2QgAAQOOdCnZCAACANZgUdkIAAIBWmx12QgAAwKiVJ3ZCAABAlT0xdkIAAIDnNzt2QgAAANTfRHZCAABAJtpOdkIAAIB41Fh2QgAAAGV8YnZCAABAt3ZsdkIAAMCjHnZ2QgAAAPYYgHZCAABASBOKdkIAAEBpFpN2QgAAgLsQnXZCAAAAqLimdkIAAED6srB2QgAAwOZaunZCAAAAOVXEdkIAAECLT852QgAAwHf313ZCAAAAyvHhdkIAAIC2met2QgAAwAiU9XZCAAAAW47/dkI=\",\"dtype\":\"float64\",\"order\":\"little\",\"shape\":[121]}},\"selected\":{\"id\":\"1097\"},\"selection_policy\":{\"id\":\"1096\"}},\"id\":\"1068\",\"type\":\"ColumnDataSource\"},{\"attributes\":{\"months\":[0,2,4,6,8,10]},\"id\":\"1058\",\"type\":\"MonthsTicker\"},{\"attributes\":{\"days\":[1,4,7,10,13,16,19,22,25,28]},\"id\":\"1054\",\"type\":\"DaysTicker\"},{\"attributes\":{\"days\":[1,15]},\"id\":\"1056\",\"type\":\"DaysTicker\"},{\"attributes\":{\"months\":[0,6]},\"id\":\"1060\",\"type\":\"MonthsTicker\"},{\"attributes\":{\"days\":[1,8,15,22]},\"id\":\"1055\",\"type\":\"DaysTicker\"},{\"attributes\":{\"label\":{\"value\":\" NASDAQ Composite\"},\"renderers\":[{\"id\":\"1140\"}]},\"id\":\"1170\",\"type\":\"LegendItem\"},{\"attributes\":{},\"id\":\"1061\",\"type\":\"YearsTicker\"},{\"attributes\":{\"data_source\":{\"id\":\"1136\"},\"glyph\":{\"id\":\"1138\"},\"hover_glyph\":null,\"muted_glyph\":null,\"nonselection_glyph\":{\"id\":\"1139\"},\"view\":{\"id\":\"1141\"}},\"id\":\"1140\",\"type\":\"GlyphRenderer\"},{\"attributes\":{\"label\":{\"value\":\" S&P 500\"},\"renderers\":[{\"id\":\"1072\"}]},\"id\":\"1098\",\"type\":\"LegendItem\"},{\"attributes\":{\"line_color\":\"blue\",\"line_width\":2,\"x\":{\"field\":\"__x__values\"},\"y\":{\"field\":\"S&P 500\"}},\"id\":\"1070\",\"type\":\"Line\"},{\"attributes\":{\"months\":[0,4,8]},\"id\":\"1059\",\"type\":\"MonthsTicker\"},{\"attributes\":{\"active_multi\":null,\"active_scroll\":{\"id\":\"1023\"},\"tools\":[{\"id\":\"1022\"},{\"id\":\"1023\"},{\"id\":\"1024\"},{\"id\":\"1025\"},{\"id\":\"1026\"},{\"id\":\"1027\"},{\"id\":\"1066\"},{\"id\":\"1099\"},{\"id\":\"1134\"},{\"id\":\"1171\"},{\"id\":\"1210\"}]},\"id\":\"1029\",\"type\":\"Toolbar\"},{\"attributes\":{\"line_alpha\":0.1,\"line_color\":\"blue\",\"line_width\":2,\"x\":{\"field\":\"__x__values\"},\"y\":{\"field\":\"S&P 500\"}},\"id\":\"1071\",\"type\":\"Line\"},{\"attributes\":{\"data\":{\"DOW JONES\":{\"__ndarray__\":\"AAAAAAAAAAAAnH9dQDyaP1BQHPEoErQ/EC3mjITvtz8AXu4jAzJ8P0DTA1KJ1Z2/oNmVILlFpD+AziRJs2d1vzBCriu4U7I/gPYmfc+6uj/gWhbypt63P3C4qgF2M8M/6Hi3kdwyxz8AhkoBVHPLPzhpq8pNo8w/4Kpkj2pw0T8oUeAOONHPPxinNRo/180/aNNmNtlkyj+o8wAdtKjDPyCLJ+CWg7U/WOCzEy4AyD9AchjWTCfJP2CYcNa/Vss/NArXdlVP0D9g1p2lv1bSP4BsAJrV/dM/lGV7+GsA1D+w1cDKQJPNPyii+MOa4dE/UELeiuCy0j9YK/CJljjTPwg/S7cnbNU/2ISHBbxB0z+4/AysYc7SP4zPyZI7TtM/kGdjw0sd2D9UPd2h31jZP8wlkAS8rdw/3J5wb+tW3j/Eo38y3AvgP/TTCMyDyN4/hM/M8E1E4T/MSwwP7SbeP7w+71JVF+A/7M0gD+hp4T+CKdtl2iHjP3blGarHsOQ/3IcrpHzm4T/oLqNRUuHjP95uKHbyT+Q/JlqdWC605D8Q04mfHSPlP5gaijUpfOU/AJLovOil5D88LITqXlnmP171xGQrLOY/hMXR2QhH5z/i5/qZN6voP8oMN6QCp+g/3Ei4tHuP5j+kmMlA9qLpP8LEkB7OgOg/1hG7iDW16D/GhC4LrD/pP/JEoGheAeg/dAntHp066D/KXQU+NYnkP9I7obc0w+M/xsNtRDIl6D9+CcQcE1PoP5CDvqsdY+c/AruxafpW5D+OkEuL03/kP9qTNJG7Nug/Xr4z0Ml+6D90wlY90onoPxAKWmkD/ug/cpH+bbSW6j/YjDTgL33qP6btsfK6Meo/TA7EMt+q6T/SHxdAQ8nsP3La0xY/0e4/gshoydQj7z+26m0+rhPxP+zbLesM1/A/9PZVU95H8T+s+haal2PxP2o69d5S7vE/ZOt1S6LK8j9QmZ8r0eHyP4jlzZa/m/M/aDftMEcn9T9uxSF8dpP2PzImYe5GSfc/6CHfKCiP+T+656cmZcf3P9LytwubTvY/6ptasghn9j90YB7m1832P17JiaIUk/Y/fg+peHBk+D/CSQD/D0T5PwJmyR7YDPo/+AuD+pzq9z/O6I/5l5b4P5YU7lwGE/U/jKj+fGG79z82OGENMzD5P+7/xrhbNfk/gksAhZtD+j+ojrMEQ3D3P1AzJud5Rvo/BkDfTwOy+j+S/J9EdPb5P8IuKtNlx/o/5AZTsQv8+j9IcCqBA5X8PzIlaK4qW/0/pFFS4UPo/D8=\",\"dtype\":\"float64\",\"order\":\"little\",\"shape\":[121]},\"EMP. EC\":{\"__ndarray__\":\"AAAAAAAAAAAAAAAAAAAAAADs8U1wT7w/sFHfJBQ6zT+wUd8kFDrNP7BR3yQUOs0/sFHfJBQ6zT9QrJ8hRMDSP+CXgKE8adQ/4JeAoTxp1D/gl4ChPGnUP0BeC+e+F9U/QF4L574X1T9AXgvnvhfVP2QzVqMAe9g/DIJG+oCW4T8Mgkb6gJbhPwyCRvqAluE/DIJG+oCW4T8wJoDgLO3iPzAmgOAs7eI/MCaA4Czt4j9Iv8v5OlviPwD643XTt+I/APrjddO34j8A+uN107fiP1qZGSDpQOU/mOGhSddB6T88AH24jxPqPzwAfbiPE+o/PAB9uI8T6j+sfPZoutDpP4CJjEDy7ek/VveX/ge/6T9W95f+B7/pP/SMT1rH8ek/9IxPWsfx6T/0jE9ax/HpP1qAvIDh0es/IhJb0J7M7T8iElvQnsztPyISW9CezO0/IhJb0J7M7T8iElvQnsztP+a/W5CNEO8/5r9bkI0Q7z/mv1uQjRDvPzg7nxiJce8/ODufGIlx7z84O58YiXHvP4AuTpFiRe8/arlvpqcb8j9quW+mpxvyP2q5b6anG/I/arlvpqcb8j+INgFD6aryPyhMiMVAMvM/KEyIxUAy8z8oTIjFQDLzP5zTpK2hSvM/nNOkraFK8z+c06StoUrzP1w1AIgMcPQ/OIqwglzV9T84irCCXNX1PziKsIJc1fU/mgD/US9z9T/OWqfe8Sn0P85ap97xKfQ/zlqn3vEp9D/OWqfe8Sn0P85ap97xKfQ/zlqn3vEp9D/OWqfe8Sn0P+pJbI3l2PQ/ZlnFKbv/8z9mWcUpu//zPwzqqO6N1/M/DOqo7o3X8z8M6qjujdfzPwzqqO6N1/M/DOqo7o3X8z94jAaADcTzP3iMBoANxPM/eIwGgA3E8z94jAaADcTzP2RTpnSLgPI/Sqa7I3SC8D9KprsjdILwP1ClIShWOe4/UKUhKFY57j9QpSEoVjnuP1ClIShWOe4/UKUhKFY57j9QpSEoVjnuP1ClIShWOe4/UKUhKFY57j9QpSEoVjnuP6Z07WMcwvA/1BMMzJ6N8z/UEwzMno3zP1KXc+lIxvM/Updz6UjG8z9Sl3PpSMbzP1KXc+lIxvM/Updz6UjG8z9Sl3PpSMbzP1KXc+lIxvM/Updz6UjG8z9kvjb3gw31PxIYlCpdC/k/vmxZoD6y+j++bFmgPrL6P75sWaA+svo/vmxZoD6y+j++bFmgPrL6P75sWaA+svo/vmxZoD6y+j++bFmgPrL6P8ZEjEBG4Ps/xkSMQEbg+z8=\",\"dtype\":\"float64\",\"order\":\"little\",\"shape\":[121]},\"NASDAQ 100\":{\"__ndarray__\":\"AAAAAAAAAACA9/PJB9WmP0BnGkOT878/mAEVxbkVwz+A0uDOa1+wPwAc3lxP4VG/cP2OUnEUsj8Ac2im9AqPP/gB/+b65MI/uF02+iEwzD8ISsBLIarLPzz2BH0Zh9E/PMuQkNbh0z9gI1b46WvWP9ie4AP9+tU/OKltN4Rf2D9MXqjAtTbXP6h3ztD+d9U/JEqRdCXb1j9kof5x82DSP9DJG15dRc0/oBgUt3TB1j9IB45T517UP5Txg+txu9M/eCC/0o+42j+yYatvTDbgP5rPrF0wpOI/uqgf2YwP4j/U/VwINdDcP+A7l8eSE+A/NCjcj7iR4D8qFe9eCfTiP9rIyKjXcuM/jqTq5hSr4D+yIvXdDDjhP+QQ9/lL6OA/AEllmnw04j+6u9yqqFXiP4hEaC+YzuM/gD2uSxQS5T90yB+S4M3mP8A/5hVZeuU/wq/ZvBDM6D82G2KE/n7oP8rhQ+NhJus/hoXMJwIV7j+asfcFgQ3wP9qSr3WZAvE/unSmVrpd8D8SXoPQgffxP0S0d/FlC/E/yttj0R7r8D8YURk6TlfyP0Q9eeZZYPM/NPMZkI/F8z/EwqYDs4T1P1BpGsvNNvU/grZFrKw29j/46vpYKN33P/a2F8dX7vY/QgJPmqof9j9m0b/NMc/4PzBJcfuC0/c/bAJS4QmR+D9Kew1AL275PzqQ3gnkZ/g/7rUYb/Ir+j/C7h7kckj3PxBATZlubPY/EDQjZuq4+j98F37Nzd36PzAFlT80Nvo/KhY/Nz9T9z+WLw8roJv2PwCyEYdVNPk/wOJ6LGrl9z/qzWzV+pL5P4pPNNQnmfg/WuYKHGt4+z9KCSepc9j7P75KwHCnzvw/0JjnYowf/D94uY0Q/jX8PxaCGvk7svw/krK2icwF/z89IyijFn4AQHpc0NOu+gBAB8A/8vOnAUCnYznsaZkCQJgyh+6E8gFAHyIF4xQFA0ArXf3FcIQDQKOWUiGAeQNAjd9uzTu2BEARGV6X3D8FQPNbF5MpZAVAF8L68FTvB0CNWV1h6X4HQMgV6jJwPQZAHkJa6y9aBkC2IrP/MgQIQLSuYOAmWghALkiZ6Ak7CUCoqkJzHCwLQBbeFvN3DAtAUoWwUXUDCEB/mRuwLe4HQOhn3T7/FQVARGrJ2ZK8B0Bwb5JB4pwIQPpb7IS15wlAKDuOiGXBC0BUlnPYrcAIQJaZEkuOPwtA4GeX4pUQDEDENrzg/FYLQOxbO0a+mwtADogevhMlDUBajUmjUZ0OQPoiSFVkEBBA60md6GSoEEA=\",\"dtype\":\"float64\",\"order\":\"little\",\"shape\":[121]},\"NASDAQ Composite\":{\"__ndarray__\":\"AAAAAAAAAAAg10+4C62lP7Cp91J74L0/OKZrIh21wj+AqHPtWyeqP4DK2+xmLJK/wHW9x4WYqT9AGjPKScePvxAG/4kLYbo/AMKvH2t2xT9YGh7JVerEP9h7YmMaIs4/wFM64kF50D8YGcEYW+zSP7Cg2ksz49I/eMqz8Luk1T8EGHTQ94DUP4jVqDCYqdI/ZBNNR9Em0j8osYch4sHJPxBWEVe99L8/fJbuL7IB0D/I1/EOtDHMPzBXrLTnScs/NHGnODvd0z+Ec1E2+2zYP7jnVFNGJNw/bED9IFTL2j9AG3UMPETUP3SAVSYMetc/JKuvGiec1z8c1VS4gGjbP3h1OTZt4Nw/9PPN89+72D/0Qi+jvLfZP9BAN0V3/tk/9DjLGgqm3T+wN7LZ1S/eP6I8LflfseA/ZNizsh2b4T/McHXrEYDjP0AkqQYtt+I/ChIXUV0K5j+AAZSRHn/lPyZEHvvyM+g/KKX00m9p6j/G8mvNNoDsP2SGsq9qPe4/4trycggo7T/YC5AamRnwP/gYpG3fku4/Bsfz9MZQ7T/WpbZiUTnvP2h4xJd12PA/oGKhdzGP8D/SDhYQtyDyP9yKUZv+evE/ZNFNQfyA8j8oAyOK4LPzP7i1SCTcSfM/kJ9JqJGJ8j8elU1Cxfv0P4QQdpVEhPQ/ZP+BwZjR9D98pD9y6sb1PzgFQp1KKPU/PpEXmQY29j/sRfE1CZfzP6qRSeHNbPI/3vSK1tyn9T8ObrvfnhD2P8Zf0o14T/U/pqLke/Vg8j/4nIoIJPbxPx49FmEUSfQ//MI1s9eU8z+kpmY0Pt70PxjTz/s7FfQ/3FF0/pd29j9YOST/C9j2P8KsNlB3lPc/Go8sah2q9j+kUP3gvqr3P6xvwhcgHPg/yAoHNQfW+T8YDHEA1mf7P0AT+W9zDPw/9PPaJ54P/T8ALJVWeS/+P1yUsmKmwP0/yCPNzdRM/z9GO9Bwdeb/P5RxzFtqMwBAzZYHsWcQAUDZ+ATC75sBQEttfs3+twFAh0m145OcA0BaiAmVgxgDQAwCUmWmUAJARXxL31ZTAkANd1rbzLkDQOZa11LT+gNAypY2GtiUBECxAsdOVzYGQEbd0B0T+gVAa6lt5uE3A0B/TcDuYU8DQLiiWxpKuABAWSFFLdcgA0DErAfnBhAEQIxfaFW2ywRAbBfhhtgoBkCYlszXUcQDQBF2cw/S0wVAm2OIQyx1BkAHCO9gd6oFQH/0Nko9zQVAtZTx8rPkBkDWyy7FjEgIQEKDsVB4bQlAapYvQ48XCkA=\",\"dtype\":\"float64\",\"order\":\"little\",\"shape\":[121]},\"S&P 500\":{\"__ndarray__\":\"AAAAAAAAAADA3cVHsTKdP/B3UbTTx7Y/gL/sQinluj8AfEoJAaONPxAJtxbuk6S/wKpf7DRxmj+gW5xhgWaXv4Dttf8ADbA/METf+dYTuj9gv+fjdG65P3jxieuL58U/IM8NNpVMyT8goUxytDLOP2Crz0BKCM4/TE19wI1E0T9A5aAjrCvQP1gr4qzsac0/iHf1u4wIyj84ZIGtIUnBPyAgz19QcKs/kOXi+x1jxT8wOYr1p6HEP2i1+CZT5sU/+M2DoMtuzD/w7Mb9ImTRP5Simif78NM/iKB0U95P0z+wP8z0Ui/MP4gqYI5uLtE/gLZfdj000j/whIkqJdTTP9QkoK1B3NU/eL+nvkcp1D+kJGESnWbUP1y+WYdV/9Q/PFZSq51I2T8wZvjFbEXaP2CWq5sUhd0/TD9GxRI23z9GSB3lEpjgP+QGsnj2ut8/1CyVZpA74j8AD0XOFangP1iDNXKtG+I/SB8iyrxX5D8uF5rPl8/lPxBduDcvFOc/eufsenUe5T+86s+4yGjnPwZ45YYdy+c/lH64kq4j6D9wZt4j7FHpPwC1MDmVaeo/Xp/73BWI6T8Q/gkCrbLrP8LMxjaVxeo/NnfUkKki7D8MBBhDWZztP3BgyOlIWu0//mCxw79y6z/8E1P5JLbuP5wFZ2Tdnu0/HhN6k0cl7j/+IiefMMzuP1qKEf1meu0/ssumPByx7j8MFqpsvsTqP1AAoBDrNuk/Wl9Qe1327T+8HwKjX/7tP+olFbop6Ow/YBEF7xbR6T925yZA/JPpP04MmIOxYO0/EAIVtRuL7T9w7HmLjHzuP1zFm98ei+4/Ttw5/6Ji8D+wfK5Fh1jwPwSivHZOTvA/rKJ95Exb7z/C+zopy8LwP+bG+ItwW/E/yqX/ein08T9QSG+VfjfzP/JFalT8M/M/9oeZXuqF8z/QKHdfMO/zP8wa3cZ4G/Q/0EHodVLO9D+8JwKFeNP0P+wQrPRyifU/sHtIMKpe9j/geHHTgnL3P4JaEb7L1fc/Kq0a4LES+j+ayKJeNG/4Pwi7bOnqWPc/7oMYuk109z+SWWjvjU74P1je7niFgPg/Breb+wL2+T9Q/ZRzGTv7PxxPB+6favs/8EwHgztn+D/0ctu49B/5P7wNg5u7WfU/3ALZkRdK+D+sLUX0t3z5PwQ6DkkWO/o/2IkU1Bvk+z/QHQbhBQH5Pyp/b6CV1Ps/apBV2ONn/D+qtML0OZr7P+CLzK8BWvw/ImEaMv1B/T9seaoodcz+P4u5rgZ9EQBA+P7v93QHAEA=\",\"dtype\":\"float64\",\"order\":\"little\",\"shape\":[121]},\"__x__values\":{\"__ndarray__\":\"AAAA1BpockIAAAD1HXFyQgAAQEcYe3JCAADAM8CEckIAAACGuo5yQgAAgHJimHJCAADAxFyickIAAAAXV6xyQgAAgAP/tXJCAADAVfm/ckIAAEBCoclyQgAAgJSb03JCAADA5pXdckIAAMAHmeZyQgAAAFqT8HJCAACARjv6ckIAAMCYNQRzQgAAQIXdDXNCAACA19cXc0IAAMAp0iFzQgAAQBZ6K3NCAACAaHQ1c0IAAABVHD9zQgAAQKcWSXNCAACA+RBTc0IAAECAZlxzQgAAgNJgZnNCAAAAvwhwc0IAAEARA3pzQgAAwP2qg3NCAAAAUKWNc0IAAECin5dzQgAAwI5HoXNCAAAA4UGrc0IAAIDN6bRzQgAAwB/kvnNCAAAAct7Ic0IAAACT4dFzQgAAQOXb23NCAADA0YPlc0IAAAAkfu9zQgAAgBAm+XNCAADAYiADdEIAAAC1Gg10QgAAgKHCFnRCAADA87wgdEIAAEDgZCp0QgAAgDJfNHRCAADAhFk+dEIAAMClXEd0QgAAAPhWUXRCAACA5P5adEIAAMA2+WR0QgAAQCOhbnRCAACAdZt4dEIAAMDHlYJ0QgAAQLQ9jHRCAACABjiWdEIAAADz3590QgAAQEXaqXRCAACAl9SzdEIAAIC417x0QgAAwArSxnRCAABA93nQdEIAAIBJdNp0QgAAADYc5HRCAABAiBbudEIAAIDaEPh0QgAAAMe4AXVCAABAGbMLdUIAAMAFWxV1QgAAAFhVH3VCAABAqk8pdUIAAAAxpTJ1QgAAQIOfPHVCAADAb0dGdUIAAADCQVB1QgAAgK7pWXVCAADAAORjdUIAAABT3m11QgAAgD+Gd3VCAADAkYCBdUIAAEB+KIt1QgAAgNAilXVCAADAIh2fdUIAAMBDIKh1QgAAAJYasnVCAACAgsK7dUIAAMDUvMV1QgAAQMFkz3VCAACAE1/ZdUIAAMBlWeN1QgAAQFIB7XVCAACApPv2dUIAAACRowB2QgAAQOOdCnZCAACANZgUdkIAAIBWmx12QgAAwKiVJ3ZCAABAlT0xdkIAAIDnNzt2QgAAANTfRHZCAABAJtpOdkIAAIB41Fh2QgAAAGV8YnZCAABAt3ZsdkIAAMCjHnZ2QgAAAPYYgHZCAABASBOKdkIAAEBpFpN2QgAAgLsQnXZCAAAAqLimdkIAAED6srB2QgAAwOZaunZCAAAAOVXEdkIAAECLT852QgAAwHf313ZCAAAAyvHhdkIAAIC2met2QgAAwAiU9XZCAAAAW47/dkI=\",\"dtype\":\"float64\",\"order\":\"little\",\"shape\":[121]},\"__x__values_original\":{\"__ndarray__\":\"AAAA1BpockIAAAD1HXFyQgAAQEcYe3JCAADAM8CEckIAAACGuo5yQgAAgHJimHJCAADAxFyickIAAAAXV6xyQgAAgAP/tXJCAADAVfm/ckIAAEBCoclyQgAAgJSb03JCAADA5pXdckIAAMAHmeZyQgAAAFqT8HJCAACARjv6ckIAAMCYNQRzQgAAQIXdDXNCAACA19cXc0IAAMAp0iFzQgAAQBZ6K3NCAACAaHQ1c0IAAABVHD9zQgAAQKcWSXNCAACA+RBTc0IAAECAZlxzQgAAgNJgZnNCAAAAvwhwc0IAAEARA3pzQgAAwP2qg3NCAAAAUKWNc0IAAECin5dzQgAAwI5HoXNCAAAA4UGrc0IAAIDN6bRzQgAAwB/kvnNCAAAAct7Ic0IAAACT4dFzQgAAQOXb23NCAADA0YPlc0IAAAAkfu9zQgAAgBAm+XNCAADAYiADdEIAAAC1Gg10QgAAgKHCFnRCAADA87wgdEIAAEDgZCp0QgAAgDJfNHRCAADAhFk+dEIAAMClXEd0QgAAAPhWUXRCAACA5P5adEIAAMA2+WR0QgAAQCOhbnRCAACAdZt4dEIAAMDHlYJ0QgAAQLQ9jHRCAACABjiWdEIAAADz3590QgAAQEXaqXRCAACAl9SzdEIAAIC417x0QgAAwArSxnRCAABA93nQdEIAAIBJdNp0QgAAADYc5HRCAABAiBbudEIAAIDaEPh0QgAAAMe4AXVCAABAGbMLdUIAAMAFWxV1QgAAAFhVH3VCAABAqk8pdUIAAAAxpTJ1QgAAQIOfPHVCAADAb0dGdUIAAADCQVB1QgAAgK7pWXVCAADAAORjdUIAAABT3m11QgAAgD+Gd3VCAADAkYCBdUIAAEB+KIt1QgAAgNAilXVCAADAIh2fdUIAAMBDIKh1QgAAAJYasnVCAACAgsK7dUIAAMDUvMV1QgAAQMFkz3VCAACAE1/ZdUIAAMBlWeN1QgAAQFIB7XVCAACApPv2dUIAAACRowB2QgAAQOOdCnZCAACANZgUdkIAAIBWmx12QgAAwKiVJ3ZCAABAlT0xdkIAAIDnNzt2QgAAANTfRHZCAABAJtpOdkIAAIB41Fh2QgAAAGV8YnZCAABAt3ZsdkIAAMCjHnZ2QgAAAPYYgHZCAABASBOKdkIAAEBpFpN2QgAAgLsQnXZCAAAAqLimdkIAAED6srB2QgAAwOZaunZCAAAAOVXEdkIAAECLT852QgAAwHf313ZCAAAAyvHhdkIAAIC2met2QgAAwAiU9XZCAAAAW47/dkI=\",\"dtype\":\"float64\",\"order\":\"little\",\"shape\":[121]}},\"selected\":{\"id\":\"1169\"},\"selection_policy\":{\"id\":\"1168\"}},\"id\":\"1136\",\"type\":\"ColumnDataSource\"},{\"attributes\":{\"line_color\":\"orange\",\"line_width\":2,\"x\":{\"field\":\"__x__values\"},\"y\":{\"field\":\"NASDAQ Composite\"}},\"id\":\"1138\",\"type\":\"Line\"},{\"attributes\":{\"source\":{\"id\":\"1068\"}},\"id\":\"1073\",\"type\":\"CDSView\"},{\"attributes\":{\"line_alpha\":0.1,\"line_color\":\"orange\",\"line_width\":2,\"x\":{\"field\":\"__x__values\"},\"y\":{\"field\":\"NASDAQ Composite\"}},\"id\":\"1139\",\"type\":\"Line\"},{\"attributes\":{\"source\":{\"id\":\"1136\"}},\"id\":\"1141\",\"type\":\"CDSView\"},{\"attributes\":{\"callback\":null,\"formatters\":{\"@__x__values_original\":\"datetime\"},\"mode\":\"vline\",\"renderers\":[{\"id\":\"1105\"}],\"tooltips\":[[\"Fecha\",\"@__x__values_original{%F}\"],[\"DOW JONES\",\"@{DOW JONES}{1%}\"]]},\"id\":\"1134\",\"type\":\"HoverTool\"},{\"attributes\":{\"callback\":null,\"formatters\":{\"@__x__values_original\":\"datetime\"},\"mode\":\"vline\",\"renderers\":[{\"id\":\"1177\"}],\"tooltips\":[[\"Fecha\",\"@__x__values_original{%F}\"],[\"NASDAQ 100\",\"@{NASDAQ 100}{1%}\"]]},\"id\":\"1210\",\"type\":\"HoverTool\"},{\"attributes\":{},\"id\":\"1168\",\"type\":\"UnionRenderers\"},{\"attributes\":{},\"id\":\"1169\",\"type\":\"Selection\"},{\"attributes\":{\"label\":{\"value\":\" NASDAQ 100\"},\"renderers\":[{\"id\":\"1177\"}]},\"id\":\"1209\",\"type\":\"LegendItem\"},{\"attributes\":{\"data_source\":{\"id\":\"1173\"},\"glyph\":{\"id\":\"1175\"},\"hover_glyph\":null,\"muted_glyph\":null,\"nonselection_glyph\":{\"id\":\"1176\"},\"view\":{\"id\":\"1178\"}},\"id\":\"1177\",\"type\":\"GlyphRenderer\"},{\"attributes\":{\"data\":{\"DOW JONES\":{\"__ndarray__\":\"AAAAAAAAAAAAnH9dQDyaP1BQHPEoErQ/EC3mjITvtz8AXu4jAzJ8P0DTA1KJ1Z2/oNmVILlFpD+AziRJs2d1vzBCriu4U7I/gPYmfc+6uj/gWhbypt63P3C4qgF2M8M/6Hi3kdwyxz8AhkoBVHPLPzhpq8pNo8w/4Kpkj2pw0T8oUeAOONHPPxinNRo/180/aNNmNtlkyj+o8wAdtKjDPyCLJ+CWg7U/WOCzEy4AyD9AchjWTCfJP2CYcNa/Vss/NArXdlVP0D9g1p2lv1bSP4BsAJrV/dM/lGV7+GsA1D+w1cDKQJPNPyii+MOa4dE/UELeiuCy0j9YK/CJljjTPwg/S7cnbNU/2ISHBbxB0z+4/AysYc7SP4zPyZI7TtM/kGdjw0sd2D9UPd2h31jZP8wlkAS8rdw/3J5wb+tW3j/Eo38y3AvgP/TTCMyDyN4/hM/M8E1E4T/MSwwP7SbeP7w+71JVF+A/7M0gD+hp4T+CKdtl2iHjP3blGarHsOQ/3IcrpHzm4T/oLqNRUuHjP95uKHbyT+Q/JlqdWC605D8Q04mfHSPlP5gaijUpfOU/AJLovOil5D88LITqXlnmP171xGQrLOY/hMXR2QhH5z/i5/qZN6voP8oMN6QCp+g/3Ei4tHuP5j+kmMlA9qLpP8LEkB7OgOg/1hG7iDW16D/GhC4LrD/pP/JEoGheAeg/dAntHp066D/KXQU+NYnkP9I7obc0w+M/xsNtRDIl6D9+CcQcE1PoP5CDvqsdY+c/AruxafpW5D+OkEuL03/kP9qTNJG7Nug/Xr4z0Ml+6D90wlY90onoPxAKWmkD/ug/cpH+bbSW6j/YjDTgL33qP6btsfK6Meo/TA7EMt+q6T/SHxdAQ8nsP3La0xY/0e4/gshoydQj7z+26m0+rhPxP+zbLesM1/A/9PZVU95H8T+s+haal2PxP2o69d5S7vE/ZOt1S6LK8j9QmZ8r0eHyP4jlzZa/m/M/aDftMEcn9T9uxSF8dpP2PzImYe5GSfc/6CHfKCiP+T+656cmZcf3P9LytwubTvY/6ptasghn9j90YB7m1832P17JiaIUk/Y/fg+peHBk+D/CSQD/D0T5PwJmyR7YDPo/+AuD+pzq9z/O6I/5l5b4P5YU7lwGE/U/jKj+fGG79z82OGENMzD5P+7/xrhbNfk/gksAhZtD+j+ojrMEQ3D3P1AzJud5Rvo/BkDfTwOy+j+S/J9EdPb5P8IuKtNlx/o/5AZTsQv8+j9IcCqBA5X8PzIlaK4qW/0/pFFS4UPo/D8=\",\"dtype\":\"float64\",\"order\":\"little\",\"shape\":[121]},\"EMP. EC\":{\"__ndarray__\":\"AAAAAAAAAAAAAAAAAAAAAADs8U1wT7w/sFHfJBQ6zT+wUd8kFDrNP7BR3yQUOs0/sFHfJBQ6zT9QrJ8hRMDSP+CXgKE8adQ/4JeAoTxp1D/gl4ChPGnUP0BeC+e+F9U/QF4L574X1T9AXgvnvhfVP2QzVqMAe9g/DIJG+oCW4T8Mgkb6gJbhPwyCRvqAluE/DIJG+oCW4T8wJoDgLO3iPzAmgOAs7eI/MCaA4Czt4j9Iv8v5OlviPwD643XTt+I/APrjddO34j8A+uN107fiP1qZGSDpQOU/mOGhSddB6T88AH24jxPqPzwAfbiPE+o/PAB9uI8T6j+sfPZoutDpP4CJjEDy7ek/VveX/ge/6T9W95f+B7/pP/SMT1rH8ek/9IxPWsfx6T/0jE9ax/HpP1qAvIDh0es/IhJb0J7M7T8iElvQnsztPyISW9CezO0/IhJb0J7M7T8iElvQnsztP+a/W5CNEO8/5r9bkI0Q7z/mv1uQjRDvPzg7nxiJce8/ODufGIlx7z84O58YiXHvP4AuTpFiRe8/arlvpqcb8j9quW+mpxvyP2q5b6anG/I/arlvpqcb8j+INgFD6aryPyhMiMVAMvM/KEyIxUAy8z8oTIjFQDLzP5zTpK2hSvM/nNOkraFK8z+c06StoUrzP1w1AIgMcPQ/OIqwglzV9T84irCCXNX1PziKsIJc1fU/mgD/US9z9T/OWqfe8Sn0P85ap97xKfQ/zlqn3vEp9D/OWqfe8Sn0P85ap97xKfQ/zlqn3vEp9D/OWqfe8Sn0P+pJbI3l2PQ/ZlnFKbv/8z9mWcUpu//zPwzqqO6N1/M/DOqo7o3X8z8M6qjujdfzPwzqqO6N1/M/DOqo7o3X8z94jAaADcTzP3iMBoANxPM/eIwGgA3E8z94jAaADcTzP2RTpnSLgPI/Sqa7I3SC8D9KprsjdILwP1ClIShWOe4/UKUhKFY57j9QpSEoVjnuP1ClIShWOe4/UKUhKFY57j9QpSEoVjnuP1ClIShWOe4/UKUhKFY57j9QpSEoVjnuP6Z07WMcwvA/1BMMzJ6N8z/UEwzMno3zP1KXc+lIxvM/Updz6UjG8z9Sl3PpSMbzP1KXc+lIxvM/Updz6UjG8z9Sl3PpSMbzP1KXc+lIxvM/Updz6UjG8z9kvjb3gw31PxIYlCpdC/k/vmxZoD6y+j++bFmgPrL6P75sWaA+svo/vmxZoD6y+j++bFmgPrL6P75sWaA+svo/vmxZoD6y+j++bFmgPrL6P8ZEjEBG4Ps/xkSMQEbg+z8=\",\"dtype\":\"float64\",\"order\":\"little\",\"shape\":[121]},\"NASDAQ 100\":{\"__ndarray__\":\"AAAAAAAAAACA9/PJB9WmP0BnGkOT878/mAEVxbkVwz+A0uDOa1+wPwAc3lxP4VG/cP2OUnEUsj8Ac2im9AqPP/gB/+b65MI/uF02+iEwzD8ISsBLIarLPzz2BH0Zh9E/PMuQkNbh0z9gI1b46WvWP9ie4AP9+tU/OKltN4Rf2D9MXqjAtTbXP6h3ztD+d9U/JEqRdCXb1j9kof5x82DSP9DJG15dRc0/oBgUt3TB1j9IB45T517UP5Txg+txu9M/eCC/0o+42j+yYatvTDbgP5rPrF0wpOI/uqgf2YwP4j/U/VwINdDcP+A7l8eSE+A/NCjcj7iR4D8qFe9eCfTiP9rIyKjXcuM/jqTq5hSr4D+yIvXdDDjhP+QQ9/lL6OA/AEllmnw04j+6u9yqqFXiP4hEaC+YzuM/gD2uSxQS5T90yB+S4M3mP8A/5hVZeuU/wq/ZvBDM6D82G2KE/n7oP8rhQ+NhJus/hoXMJwIV7j+asfcFgQ3wP9qSr3WZAvE/unSmVrpd8D8SXoPQgffxP0S0d/FlC/E/yttj0R7r8D8YURk6TlfyP0Q9eeZZYPM/NPMZkI/F8z/EwqYDs4T1P1BpGsvNNvU/grZFrKw29j/46vpYKN33P/a2F8dX7vY/QgJPmqof9j9m0b/NMc/4PzBJcfuC0/c/bAJS4QmR+D9Kew1AL275PzqQ3gnkZ/g/7rUYb/Ir+j/C7h7kckj3PxBATZlubPY/EDQjZuq4+j98F37Nzd36PzAFlT80Nvo/KhY/Nz9T9z+WLw8roJv2PwCyEYdVNPk/wOJ6LGrl9z/qzWzV+pL5P4pPNNQnmfg/WuYKHGt4+z9KCSepc9j7P75KwHCnzvw/0JjnYowf/D94uY0Q/jX8PxaCGvk7svw/krK2icwF/z89IyijFn4AQHpc0NOu+gBAB8A/8vOnAUCnYznsaZkCQJgyh+6E8gFAHyIF4xQFA0ArXf3FcIQDQKOWUiGAeQNAjd9uzTu2BEARGV6X3D8FQPNbF5MpZAVAF8L68FTvB0CNWV1h6X4HQMgV6jJwPQZAHkJa6y9aBkC2IrP/MgQIQLSuYOAmWghALkiZ6Ak7CUCoqkJzHCwLQBbeFvN3DAtAUoWwUXUDCEB/mRuwLe4HQOhn3T7/FQVARGrJ2ZK8B0Bwb5JB4pwIQPpb7IS15wlAKDuOiGXBC0BUlnPYrcAIQJaZEkuOPwtA4GeX4pUQDEDENrzg/FYLQOxbO0a+mwtADogevhMlDUBajUmjUZ0OQPoiSFVkEBBA60md6GSoEEA=\",\"dtype\":\"float64\",\"order\":\"little\",\"shape\":[121]},\"NASDAQ Composite\":{\"__ndarray__\":\"AAAAAAAAAAAg10+4C62lP7Cp91J74L0/OKZrIh21wj+AqHPtWyeqP4DK2+xmLJK/wHW9x4WYqT9AGjPKScePvxAG/4kLYbo/AMKvH2t2xT9YGh7JVerEP9h7YmMaIs4/wFM64kF50D8YGcEYW+zSP7Cg2ksz49I/eMqz8Luk1T8EGHTQ94DUP4jVqDCYqdI/ZBNNR9Em0j8osYch4sHJPxBWEVe99L8/fJbuL7IB0D/I1/EOtDHMPzBXrLTnScs/NHGnODvd0z+Ec1E2+2zYP7jnVFNGJNw/bED9IFTL2j9AG3UMPETUP3SAVSYMetc/JKuvGiec1z8c1VS4gGjbP3h1OTZt4Nw/9PPN89+72D/0Qi+jvLfZP9BAN0V3/tk/9DjLGgqm3T+wN7LZ1S/eP6I8LflfseA/ZNizsh2b4T/McHXrEYDjP0AkqQYtt+I/ChIXUV0K5j+AAZSRHn/lPyZEHvvyM+g/KKX00m9p6j/G8mvNNoDsP2SGsq9qPe4/4trycggo7T/YC5AamRnwP/gYpG3fku4/Bsfz9MZQ7T/WpbZiUTnvP2h4xJd12PA/oGKhdzGP8D/SDhYQtyDyP9yKUZv+evE/ZNFNQfyA8j8oAyOK4LPzP7i1SCTcSfM/kJ9JqJGJ8j8elU1Cxfv0P4QQdpVEhPQ/ZP+BwZjR9D98pD9y6sb1PzgFQp1KKPU/PpEXmQY29j/sRfE1CZfzP6qRSeHNbPI/3vSK1tyn9T8ObrvfnhD2P8Zf0o14T/U/pqLke/Vg8j/4nIoIJPbxPx49FmEUSfQ//MI1s9eU8z+kpmY0Pt70PxjTz/s7FfQ/3FF0/pd29j9YOST/C9j2P8KsNlB3lPc/Go8sah2q9j+kUP3gvqr3P6xvwhcgHPg/yAoHNQfW+T8YDHEA1mf7P0AT+W9zDPw/9PPaJ54P/T8ALJVWeS/+P1yUsmKmwP0/yCPNzdRM/z9GO9Bwdeb/P5RxzFtqMwBAzZYHsWcQAUDZ+ATC75sBQEttfs3+twFAh0m145OcA0BaiAmVgxgDQAwCUmWmUAJARXxL31ZTAkANd1rbzLkDQOZa11LT+gNAypY2GtiUBECxAsdOVzYGQEbd0B0T+gVAa6lt5uE3A0B/TcDuYU8DQLiiWxpKuABAWSFFLdcgA0DErAfnBhAEQIxfaFW2ywRAbBfhhtgoBkCYlszXUcQDQBF2cw/S0wVAm2OIQyx1BkAHCO9gd6oFQH/0Nko9zQVAtZTx8rPkBkDWyy7FjEgIQEKDsVB4bQlAapYvQ48XCkA=\",\"dtype\":\"float64\",\"order\":\"little\",\"shape\":[121]},\"S&P 500\":{\"__ndarray__\":\"AAAAAAAAAADA3cVHsTKdP/B3UbTTx7Y/gL/sQinluj8AfEoJAaONPxAJtxbuk6S/wKpf7DRxmj+gW5xhgWaXv4Dttf8ADbA/METf+dYTuj9gv+fjdG65P3jxieuL58U/IM8NNpVMyT8goUxytDLOP2Crz0BKCM4/TE19wI1E0T9A5aAjrCvQP1gr4qzsac0/iHf1u4wIyj84ZIGtIUnBPyAgz19QcKs/kOXi+x1jxT8wOYr1p6HEP2i1+CZT5sU/+M2DoMtuzD/w7Mb9ImTRP5Simif78NM/iKB0U95P0z+wP8z0Ui/MP4gqYI5uLtE/gLZfdj000j/whIkqJdTTP9QkoK1B3NU/eL+nvkcp1D+kJGESnWbUP1y+WYdV/9Q/PFZSq51I2T8wZvjFbEXaP2CWq5sUhd0/TD9GxRI23z9GSB3lEpjgP+QGsnj2ut8/1CyVZpA74j8AD0XOFangP1iDNXKtG+I/SB8iyrxX5D8uF5rPl8/lPxBduDcvFOc/eufsenUe5T+86s+4yGjnPwZ45YYdy+c/lH64kq4j6D9wZt4j7FHpPwC1MDmVaeo/Xp/73BWI6T8Q/gkCrbLrP8LMxjaVxeo/NnfUkKki7D8MBBhDWZztP3BgyOlIWu0//mCxw79y6z/8E1P5JLbuP5wFZ2Tdnu0/HhN6k0cl7j/+IiefMMzuP1qKEf1meu0/ssumPByx7j8MFqpsvsTqP1AAoBDrNuk/Wl9Qe1327T+8HwKjX/7tP+olFbop6Ow/YBEF7xbR6T925yZA/JPpP04MmIOxYO0/EAIVtRuL7T9w7HmLjHzuP1zFm98ei+4/Ttw5/6Ji8D+wfK5Fh1jwPwSivHZOTvA/rKJ95Exb7z/C+zopy8LwP+bG+ItwW/E/yqX/ein08T9QSG+VfjfzP/JFalT8M/M/9oeZXuqF8z/QKHdfMO/zP8wa3cZ4G/Q/0EHodVLO9D+8JwKFeNP0P+wQrPRyifU/sHtIMKpe9j/geHHTgnL3P4JaEb7L1fc/Kq0a4LES+j+ayKJeNG/4Pwi7bOnqWPc/7oMYuk109z+SWWjvjU74P1je7niFgPg/Breb+wL2+T9Q/ZRzGTv7PxxPB+6favs/8EwHgztn+D/0ctu49B/5P7wNg5u7WfU/3ALZkRdK+D+sLUX0t3z5PwQ6DkkWO/o/2IkU1Bvk+z/QHQbhBQH5Pyp/b6CV1Ps/apBV2ONn/D+qtML0OZr7P+CLzK8BWvw/ImEaMv1B/T9seaoodcz+P4u5rgZ9EQBA+P7v93QHAEA=\",\"dtype\":\"float64\",\"order\":\"little\",\"shape\":[121]},\"__x__values\":{\"__ndarray__\":\"AAAA1BpockIAAAD1HXFyQgAAQEcYe3JCAADAM8CEckIAAACGuo5yQgAAgHJimHJCAADAxFyickIAAAAXV6xyQgAAgAP/tXJCAADAVfm/ckIAAEBCoclyQgAAgJSb03JCAADA5pXdckIAAMAHmeZyQgAAAFqT8HJCAACARjv6ckIAAMCYNQRzQgAAQIXdDXNCAACA19cXc0IAAMAp0iFzQgAAQBZ6K3NCAACAaHQ1c0IAAABVHD9zQgAAQKcWSXNCAACA+RBTc0IAAECAZlxzQgAAgNJgZnNCAAAAvwhwc0IAAEARA3pzQgAAwP2qg3NCAAAAUKWNc0IAAECin5dzQgAAwI5HoXNCAAAA4UGrc0IAAIDN6bRzQgAAwB/kvnNCAAAAct7Ic0IAAACT4dFzQgAAQOXb23NCAADA0YPlc0IAAAAkfu9zQgAAgBAm+XNCAADAYiADdEIAAAC1Gg10QgAAgKHCFnRCAADA87wgdEIAAEDgZCp0QgAAgDJfNHRCAADAhFk+dEIAAMClXEd0QgAAAPhWUXRCAACA5P5adEIAAMA2+WR0QgAAQCOhbnRCAACAdZt4dEIAAMDHlYJ0QgAAQLQ9jHRCAACABjiWdEIAAADz3590QgAAQEXaqXRCAACAl9SzdEIAAIC417x0QgAAwArSxnRCAABA93nQdEIAAIBJdNp0QgAAADYc5HRCAABAiBbudEIAAIDaEPh0QgAAAMe4AXVCAABAGbMLdUIAAMAFWxV1QgAAAFhVH3VCAABAqk8pdUIAAAAxpTJ1QgAAQIOfPHVCAADAb0dGdUIAAADCQVB1QgAAgK7pWXVCAADAAORjdUIAAABT3m11QgAAgD+Gd3VCAADAkYCBdUIAAEB+KIt1QgAAgNAilXVCAADAIh2fdUIAAMBDIKh1QgAAAJYasnVCAACAgsK7dUIAAMDUvMV1QgAAQMFkz3VCAACAE1/ZdUIAAMBlWeN1QgAAQFIB7XVCAACApPv2dUIAAACRowB2QgAAQOOdCnZCAACANZgUdkIAAIBWmx12QgAAwKiVJ3ZCAABAlT0xdkIAAIDnNzt2QgAAANTfRHZCAABAJtpOdkIAAIB41Fh2QgAAAGV8YnZCAABAt3ZsdkIAAMCjHnZ2QgAAAPYYgHZCAABASBOKdkIAAEBpFpN2QgAAgLsQnXZCAAAAqLimdkIAAED6srB2QgAAwOZaunZCAAAAOVXEdkIAAECLT852QgAAwHf313ZCAAAAyvHhdkIAAIC2met2QgAAwAiU9XZCAAAAW47/dkI=\",\"dtype\":\"float64\",\"order\":\"little\",\"shape\":[121]},\"__x__values_original\":{\"__ndarray__\":\"AAAA1BpockIAAAD1HXFyQgAAQEcYe3JCAADAM8CEckIAAACGuo5yQgAAgHJimHJCAADAxFyickIAAAAXV6xyQgAAgAP/tXJCAADAVfm/ckIAAEBCoclyQgAAgJSb03JCAADA5pXdckIAAMAHmeZyQgAAAFqT8HJCAACARjv6ckIAAMCYNQRzQgAAQIXdDXNCAACA19cXc0IAAMAp0iFzQgAAQBZ6K3NCAACAaHQ1c0IAAABVHD9zQgAAQKcWSXNCAACA+RBTc0IAAECAZlxzQgAAgNJgZnNCAAAAvwhwc0IAAEARA3pzQgAAwP2qg3NCAAAAUKWNc0IAAECin5dzQgAAwI5HoXNCAAAA4UGrc0IAAIDN6bRzQgAAwB/kvnNCAAAAct7Ic0IAAACT4dFzQgAAQOXb23NCAADA0YPlc0IAAAAkfu9zQgAAgBAm+XNCAADAYiADdEIAAAC1Gg10QgAAgKHCFnRCAADA87wgdEIAAEDgZCp0QgAAgDJfNHRCAADAhFk+dEIAAMClXEd0QgAAAPhWUXRCAACA5P5adEIAAMA2+WR0QgAAQCOhbnRCAACAdZt4dEIAAMDHlYJ0QgAAQLQ9jHRCAACABjiWdEIAAADz3590QgAAQEXaqXRCAACAl9SzdEIAAIC417x0QgAAwArSxnRCAABA93nQdEIAAIBJdNp0QgAAADYc5HRCAABAiBbudEIAAIDaEPh0QgAAAMe4AXVCAABAGbMLdUIAAMAFWxV1QgAAAFhVH3VCAABAqk8pdUIAAAAxpTJ1QgAAQIOfPHVCAADAb0dGdUIAAADCQVB1QgAAgK7pWXVCAADAAORjdUIAAABT3m11QgAAgD+Gd3VCAADAkYCBdUIAAEB+KIt1QgAAgNAilXVCAADAIh2fdUIAAMBDIKh1QgAAAJYasnVCAACAgsK7dUIAAMDUvMV1QgAAQMFkz3VCAACAE1/ZdUIAAMBlWeN1QgAAQFIB7XVCAACApPv2dUIAAACRowB2QgAAQOOdCnZCAACANZgUdkIAAIBWmx12QgAAwKiVJ3ZCAABAlT0xdkIAAIDnNzt2QgAAANTfRHZCAABAJtpOdkIAAIB41Fh2QgAAAGV8YnZCAABAt3ZsdkIAAMCjHnZ2QgAAAPYYgHZCAABASBOKdkIAAEBpFpN2QgAAgLsQnXZCAAAAqLimdkIAAED6srB2QgAAwOZaunZCAAAAOVXEdkIAAECLT852QgAAwHf313ZCAAAAyvHhdkIAAIC2met2QgAAwAiU9XZCAAAAW47/dkI=\",\"dtype\":\"float64\",\"order\":\"little\",\"shape\":[121]}},\"selected\":{\"id\":\"1208\"},\"selection_policy\":{\"id\":\"1207\"}},\"id\":\"1173\",\"type\":\"ColumnDataSource\"},{\"attributes\":{\"line_color\":\"cyan\",\"line_width\":2,\"x\":{\"field\":\"__x__values\"},\"y\":{\"field\":\"NASDAQ 100\"}},\"id\":\"1175\",\"type\":\"Line\"},{\"attributes\":{\"line_alpha\":0.1,\"line_color\":\"cyan\",\"line_width\":2,\"x\":{\"field\":\"__x__values\"},\"y\":{\"field\":\"NASDAQ 100\"}},\"id\":\"1176\",\"type\":\"Line\"},{\"attributes\":{\"source\":{\"id\":\"1173\"}},\"id\":\"1178\",\"type\":\"CDSView\"},{\"attributes\":{},\"id\":\"1207\",\"type\":\"UnionRenderers\"},{\"attributes\":{},\"id\":\"1208\",\"type\":\"Selection\"},{\"attributes\":{},\"id\":\"1006\",\"type\":\"DataRange1d\"},{\"attributes\":{\"ticks\":[0,1,2,3,4]},\"id\":\"1212\",\"type\":\"FixedTicker\"}],\"root_ids\":[\"1003\"]},\"title\":\"Bokeh Application\",\"version\":\"2.3.2\"}};\n",
       "  var render_items = [{\"docid\":\"ec8b626d-c770-4cda-baed-a336a4f7608d\",\"root_ids\":[\"1003\"],\"roots\":{\"1003\":\"8bf067cd-5ff3-49f2-b526-75e6f8a0483a\"}}];\n",
       "  root.Bokeh.embed.embed_items_notebook(docs_json, render_items);\n",
       "\n",
       "  }\n",
       "  if (root.Bokeh !== undefined) {\n",
       "    embed_document(root);\n",
       "  } else {\n",
       "    var attempts = 0;\n",
       "    var timer = setInterval(function(root) {\n",
       "      if (root.Bokeh !== undefined) {\n",
       "        clearInterval(timer);\n",
       "        embed_document(root);\n",
       "      } else {\n",
       "        attempts++;\n",
       "        if (attempts > 100) {\n",
       "          clearInterval(timer);\n",
       "          console.log(\"Bokeh: ERROR: Unable to run BokehJS code because BokehJS library is missing\");\n",
       "        }\n",
       "      }\n",
       "    }, 10, root)\n",
       "  }\n",
       "})(window);"
      ],
      "application/vnd.bokehjs_exec.v0+json": ""
     },
     "metadata": {
      "application/vnd.bokehjs_exec.v0+json": {
       "id": "1003"
      }
     },
     "output_type": "display_data"
    }
   ],
   "source": [
    "import pandas_bokeh\n",
    "pandas_bokeh.output_notebook()\n",
    "\n",
    "balances = balance_cias(seleccionadas)\n",
    "balances_consolidados = pd.DataFrame(balances.ffill().sum(axis=1), columns=['EMP. EC'])\n",
    "balances_consolidados.index.rename(\"Date\", inplace=True)\n",
    "indices = pd.merge(balances_consolidados, data, on=\"Date\", how='outer').groupby(pd.Grouper(freq='m')).mean().ffill()\n",
    "indices.rename(columns={'^GSPC': 'S&P 500','^DJI': 'DOW JONES','^IXIC': 'NASDAQ Composite','^NDX': 'NASDAQ 100'}, inplace=True)\n",
    "\n",
    "plot=(indices/indices.iloc[0]-1).plot_bokeh(\n",
    "    kind=\"line\",\n",
    "    title=\"Empresas ecuatorianas VS Indices americanos\",\n",
    "    xlabel=\"Fecha\",\n",
    "    ylabel=\"Rendimiento\",\n",
    "    yticks=[0, 1, 2, 3, 4],\n",
    "    ylim=(-0.5, 5),\n",
    "    colormap=[\"red\", \"blue\", \"green\", 'orange', 'cyan'],\n",
    "    number_format=\"1%\",\n",
    "    legend = \"top_left\",\n",
    "    figsize=(800,480))"
   ]
  },
  {
   "cell_type": "markdown",
   "metadata": {},
   "source": [
    "## Conclusiones"
   ]
  },
  {
   "cell_type": "markdown",
   "metadata": {},
   "source": [
    "La cartera conformada por las 10 acciones más populares de la década pasada, mostró un desempeño aceptable con un rendimiento final solo un poco por debajo de indices como el Dow Jones y el S&P 500 en el mismo período. También es cierto, que buena parte de la rentabilidad obtenida fue gracias a las dos empresas más rentables que fueron Cervecería Nacional y Cridesa. Aún así considero, una opción atractiva versus la alternativa más utilizada del inversor local, que son los bonos y otros instrumentos de renta fija.\n",
    "\n",
    ">Las acciones ecuatorianas son particularmente interesantes en cuanto a dividendos incluso por encima de la revalorización de la acción en sí, al contrario de lo que ocurre en acciones de crecimiento en mercados internacionales.\n",
    ">>La acción más popular **CORPORACION FAVORITA** no es ni de cerca la de mejor desempeño, de hecho se ubicó penúltima con alrededor de un 6% apenas (casi lo mismo que paga un instrumento de renta fija bancario, como los certificados de depósito), lo que demuestra el \"mucho ruido y pocas nueces\" de esta acción.\n",
    "\n",
    "Resulta dificil decir el porque de la tan baja participación de los inversores locales en el mercado de renta variable, que es de tan solo 0.3% actualmente y que el resto se lo lleven los títulos de renta fija. Podrian ser muchos los factores que incidan en esta realidad, pero me atrevería a decir que una cultura paupérrima en temas de inversiones bursátiles y un miedo a lo desconocido que crea un sentimiento de que las acciones son algo muy riesgoso en donde se puede perder mucho dinero, todo esto influye de sobremanera. Además de que el propio sistema local se presta y confabula para que la renta fija se venda mucho más que la variable, pues las casas de valores que son las llamadas a asesorar al potencial inversor, que no tiene mucho conocimiento, recomiendan en su gran mayoria y primero a la renta fija antes que la variable. La otra cuestión es que veo a muchas empresas bastantes exitosas financiandose a través de bonos y/o obligaciones en vez de emitir acciones para aquello. De esto se puede hablar muchisimo, pero esta vez solo diré una reflexión final: \n",
    "> Si usted quiere rentabilidades importantes en su vida, debe estar consistentemente invertido en renta variable asumiendo el riesgo que con ello conlleva, de lo contrario tendrá que conformarse con rentabilidades que oscilan entre 6% y 8% que ofrece el mercado de renta fija local."
   ]
  }
 ],
 "metadata": {
  "kernelspec": {
   "display_name": "Python 3",
   "language": "python",
   "name": "python3"
  },
  "language_info": {
   "codemirror_mode": {
    "name": "ipython",
    "version": 3
   },
   "file_extension": ".py",
   "mimetype": "text/x-python",
   "name": "python",
   "nbconvert_exporter": "python",
   "pygments_lexer": "ipython3",
   "version": "3.8.8"
  },
  "toc-autonumbering": true,
  "toc-showmarkdowntxt": true,
  "widgets": {
   "application/vnd.jupyter.widget-state+json": {
    "state": {
     "2cff28a452664a149c446428b1ee9000": {
      "buffers": [
       {
        "data": "XMFxlrU7t8A=",
        "encoding": "base64",
        "path": [
         "_data",
         0,
         "y",
         "value"
        ]
       },
       {
        "data": "un9ziDoSwEACZrMMAJrAQCaTdYnAmMhAlH64zTWdyEBsJsv/6wjMQMCG8hrKI85AGsRf31xZ1EDlqMkmK9HhQE3v0Fb9XORA",
        "encoding": "base64",
        "path": [
         "_data",
         1,
         "y",
         "value"
        ]
       }
      ],
      "model_module": "plotlywidget",
      "model_module_version": "^4.14.3",
      "model_name": "FigureModel",
      "state": {
       "_config": {
        "plotlyServerURL": "https://plotly.com"
       },
       "_data": [
        {
         "hovertemplate": "%{y:$.0f}<extra></extra>",
         "marker": {
          "color": "rgba(255, 0, 0, 0.5)",
          "line": {
           "color": "rgb (255, 0, 0)",
           "width": 1.5
          }
         },
         "name": "Rojo",
         "type": "bar",
         "uid": "e2450a0e-ac9c-4127-bea8-f2bae6cb4725",
         "width": 0.5,
         "x": [
          "INDUSTRIAS ALES"
         ],
         "y": {
          "dtype": "float64",
          "shape": [
           1
          ],
          "value": {}
         }
        },
        {
         "hovertemplate": "%{y:$.0f}<extra></extra>",
         "marker": {
          "color": "rgba(0, 255, 0, 0.5)",
          "line": {
           "color": "rgb (0, 255, 0)",
           "width": 1.5
          }
         },
         "name": "Verde",
         "type": "bar",
         "uid": "01e3dd2d-4a27-4108-9c51-6ea3f0414887",
         "width": 0.5,
         "x": [
          "CORPORACION FAVORITA",
          "HOTEL COLON",
          "BANCO PRODUBANCO",
          "SOCIEDAD AGRICOLA E IND. SAN CARLOS",
          "BANCO PICHINCHA",
          "INVERSANCARLOS",
          "BANCO BOLIVARIANO",
          "CERVECERIA NACIONAL CN S.A.",
          "CRIDESA"
         ],
         "y": {
          "dtype": "float64",
          "shape": [
           9
          ],
          "value": {}
         }
        }
       ],
       "_js2py_relayout": {},
       "_js2py_restyle": {},
       "_js2py_update": {},
       "_last_layout_edit_id": 3,
       "_last_trace_edit_id": 3,
       "_layout": {
        "height": 600,
        "showlegend": false,
        "template": {
         "data": {
          "bar": [
           {
            "error_x": {
             "color": "#2a3f5f"
            },
            "error_y": {
             "color": "#2a3f5f"
            },
            "marker": {
             "line": {
              "color": "#E5ECF6",
              "width": 0.5
             }
            },
            "type": "bar"
           }
          ],
          "barpolar": [
           {
            "marker": {
             "line": {
              "color": "#E5ECF6",
              "width": 0.5
             }
            },
            "type": "barpolar"
           }
          ],
          "carpet": [
           {
            "aaxis": {
             "endlinecolor": "#2a3f5f",
             "gridcolor": "white",
             "linecolor": "white",
             "minorgridcolor": "white",
             "startlinecolor": "#2a3f5f"
            },
            "baxis": {
             "endlinecolor": "#2a3f5f",
             "gridcolor": "white",
             "linecolor": "white",
             "minorgridcolor": "white",
             "startlinecolor": "#2a3f5f"
            },
            "type": "carpet"
           }
          ],
          "choropleth": [
           {
            "colorbar": {
             "outlinewidth": 0,
             "ticks": ""
            },
            "type": "choropleth"
           }
          ],
          "contour": [
           {
            "colorbar": {
             "outlinewidth": 0,
             "ticks": ""
            },
            "colorscale": [
             [
              0,
              "#0d0887"
             ],
             [
              0.1111111111111111,
              "#46039f"
             ],
             [
              0.2222222222222222,
              "#7201a8"
             ],
             [
              0.3333333333333333,
              "#9c179e"
             ],
             [
              0.4444444444444444,
              "#bd3786"
             ],
             [
              0.5555555555555556,
              "#d8576b"
             ],
             [
              0.6666666666666666,
              "#ed7953"
             ],
             [
              0.7777777777777778,
              "#fb9f3a"
             ],
             [
              0.8888888888888888,
              "#fdca26"
             ],
             [
              1,
              "#f0f921"
             ]
            ],
            "type": "contour"
           }
          ],
          "contourcarpet": [
           {
            "colorbar": {
             "outlinewidth": 0,
             "ticks": ""
            },
            "type": "contourcarpet"
           }
          ],
          "heatmap": [
           {
            "colorbar": {
             "outlinewidth": 0,
             "ticks": ""
            },
            "colorscale": [
             [
              0,
              "#0d0887"
             ],
             [
              0.1111111111111111,
              "#46039f"
             ],
             [
              0.2222222222222222,
              "#7201a8"
             ],
             [
              0.3333333333333333,
              "#9c179e"
             ],
             [
              0.4444444444444444,
              "#bd3786"
             ],
             [
              0.5555555555555556,
              "#d8576b"
             ],
             [
              0.6666666666666666,
              "#ed7953"
             ],
             [
              0.7777777777777778,
              "#fb9f3a"
             ],
             [
              0.8888888888888888,
              "#fdca26"
             ],
             [
              1,
              "#f0f921"
             ]
            ],
            "type": "heatmap"
           }
          ],
          "heatmapgl": [
           {
            "colorbar": {
             "outlinewidth": 0,
             "ticks": ""
            },
            "colorscale": [
             [
              0,
              "#0d0887"
             ],
             [
              0.1111111111111111,
              "#46039f"
             ],
             [
              0.2222222222222222,
              "#7201a8"
             ],
             [
              0.3333333333333333,
              "#9c179e"
             ],
             [
              0.4444444444444444,
              "#bd3786"
             ],
             [
              0.5555555555555556,
              "#d8576b"
             ],
             [
              0.6666666666666666,
              "#ed7953"
             ],
             [
              0.7777777777777778,
              "#fb9f3a"
             ],
             [
              0.8888888888888888,
              "#fdca26"
             ],
             [
              1,
              "#f0f921"
             ]
            ],
            "type": "heatmapgl"
           }
          ],
          "histogram": [
           {
            "marker": {
             "colorbar": {
              "outlinewidth": 0,
              "ticks": ""
             }
            },
            "type": "histogram"
           }
          ],
          "histogram2d": [
           {
            "colorbar": {
             "outlinewidth": 0,
             "ticks": ""
            },
            "colorscale": [
             [
              0,
              "#0d0887"
             ],
             [
              0.1111111111111111,
              "#46039f"
             ],
             [
              0.2222222222222222,
              "#7201a8"
             ],
             [
              0.3333333333333333,
              "#9c179e"
             ],
             [
              0.4444444444444444,
              "#bd3786"
             ],
             [
              0.5555555555555556,
              "#d8576b"
             ],
             [
              0.6666666666666666,
              "#ed7953"
             ],
             [
              0.7777777777777778,
              "#fb9f3a"
             ],
             [
              0.8888888888888888,
              "#fdca26"
             ],
             [
              1,
              "#f0f921"
             ]
            ],
            "type": "histogram2d"
           }
          ],
          "histogram2dcontour": [
           {
            "colorbar": {
             "outlinewidth": 0,
             "ticks": ""
            },
            "colorscale": [
             [
              0,
              "#0d0887"
             ],
             [
              0.1111111111111111,
              "#46039f"
             ],
             [
              0.2222222222222222,
              "#7201a8"
             ],
             [
              0.3333333333333333,
              "#9c179e"
             ],
             [
              0.4444444444444444,
              "#bd3786"
             ],
             [
              0.5555555555555556,
              "#d8576b"
             ],
             [
              0.6666666666666666,
              "#ed7953"
             ],
             [
              0.7777777777777778,
              "#fb9f3a"
             ],
             [
              0.8888888888888888,
              "#fdca26"
             ],
             [
              1,
              "#f0f921"
             ]
            ],
            "type": "histogram2dcontour"
           }
          ],
          "mesh3d": [
           {
            "colorbar": {
             "outlinewidth": 0,
             "ticks": ""
            },
            "type": "mesh3d"
           }
          ],
          "parcoords": [
           {
            "line": {
             "colorbar": {
              "outlinewidth": 0,
              "ticks": ""
             }
            },
            "type": "parcoords"
           }
          ],
          "pie": [
           {
            "automargin": true,
            "type": "pie"
           }
          ],
          "scatter": [
           {
            "marker": {
             "colorbar": {
              "outlinewidth": 0,
              "ticks": ""
             }
            },
            "type": "scatter"
           }
          ],
          "scatter3d": [
           {
            "line": {
             "colorbar": {
              "outlinewidth": 0,
              "ticks": ""
             }
            },
            "marker": {
             "colorbar": {
              "outlinewidth": 0,
              "ticks": ""
             }
            },
            "type": "scatter3d"
           }
          ],
          "scattercarpet": [
           {
            "marker": {
             "colorbar": {
              "outlinewidth": 0,
              "ticks": ""
             }
            },
            "type": "scattercarpet"
           }
          ],
          "scattergeo": [
           {
            "marker": {
             "colorbar": {
              "outlinewidth": 0,
              "ticks": ""
             }
            },
            "type": "scattergeo"
           }
          ],
          "scattergl": [
           {
            "marker": {
             "colorbar": {
              "outlinewidth": 0,
              "ticks": ""
             }
            },
            "type": "scattergl"
           }
          ],
          "scattermapbox": [
           {
            "marker": {
             "colorbar": {
              "outlinewidth": 0,
              "ticks": ""
             }
            },
            "type": "scattermapbox"
           }
          ],
          "scatterpolar": [
           {
            "marker": {
             "colorbar": {
              "outlinewidth": 0,
              "ticks": ""
             }
            },
            "type": "scatterpolar"
           }
          ],
          "scatterpolargl": [
           {
            "marker": {
             "colorbar": {
              "outlinewidth": 0,
              "ticks": ""
             }
            },
            "type": "scatterpolargl"
           }
          ],
          "scatterternary": [
           {
            "marker": {
             "colorbar": {
              "outlinewidth": 0,
              "ticks": ""
             }
            },
            "type": "scatterternary"
           }
          ],
          "surface": [
           {
            "colorbar": {
             "outlinewidth": 0,
             "ticks": ""
            },
            "colorscale": [
             [
              0,
              "#0d0887"
             ],
             [
              0.1111111111111111,
              "#46039f"
             ],
             [
              0.2222222222222222,
              "#7201a8"
             ],
             [
              0.3333333333333333,
              "#9c179e"
             ],
             [
              0.4444444444444444,
              "#bd3786"
             ],
             [
              0.5555555555555556,
              "#d8576b"
             ],
             [
              0.6666666666666666,
              "#ed7953"
             ],
             [
              0.7777777777777778,
              "#fb9f3a"
             ],
             [
              0.8888888888888888,
              "#fdca26"
             ],
             [
              1,
              "#f0f921"
             ]
            ],
            "type": "surface"
           }
          ],
          "table": [
           {
            "cells": {
             "fill": {
              "color": "#EBF0F8"
             },
             "line": {
              "color": "white"
             }
            },
            "header": {
             "fill": {
              "color": "#C8D4E3"
             },
             "line": {
              "color": "white"
             }
            },
            "type": "table"
           }
          ]
         },
         "layout": {
          "annotationdefaults": {
           "arrowcolor": "#2a3f5f",
           "arrowhead": 0,
           "arrowwidth": 1
          },
          "autotypenumbers": "strict",
          "coloraxis": {
           "colorbar": {
            "outlinewidth": 0,
            "ticks": ""
           }
          },
          "colorscale": {
           "diverging": [
            [
             0,
             "#8e0152"
            ],
            [
             0.1,
             "#c51b7d"
            ],
            [
             0.2,
             "#de77ae"
            ],
            [
             0.3,
             "#f1b6da"
            ],
            [
             0.4,
             "#fde0ef"
            ],
            [
             0.5,
             "#f7f7f7"
            ],
            [
             0.6,
             "#e6f5d0"
            ],
            [
             0.7,
             "#b8e186"
            ],
            [
             0.8,
             "#7fbc41"
            ],
            [
             0.9,
             "#4d9221"
            ],
            [
             1,
             "#276419"
            ]
           ],
           "sequential": [
            [
             0,
             "#0d0887"
            ],
            [
             0.1111111111111111,
             "#46039f"
            ],
            [
             0.2222222222222222,
             "#7201a8"
            ],
            [
             0.3333333333333333,
             "#9c179e"
            ],
            [
             0.4444444444444444,
             "#bd3786"
            ],
            [
             0.5555555555555556,
             "#d8576b"
            ],
            [
             0.6666666666666666,
             "#ed7953"
            ],
            [
             0.7777777777777778,
             "#fb9f3a"
            ],
            [
             0.8888888888888888,
             "#fdca26"
            ],
            [
             1,
             "#f0f921"
            ]
           ],
           "sequentialminus": [
            [
             0,
             "#0d0887"
            ],
            [
             0.1111111111111111,
             "#46039f"
            ],
            [
             0.2222222222222222,
             "#7201a8"
            ],
            [
             0.3333333333333333,
             "#9c179e"
            ],
            [
             0.4444444444444444,
             "#bd3786"
            ],
            [
             0.5555555555555556,
             "#d8576b"
            ],
            [
             0.6666666666666666,
             "#ed7953"
            ],
            [
             0.7777777777777778,
             "#fb9f3a"
            ],
            [
             0.8888888888888888,
             "#fdca26"
            ],
            [
             1,
             "#f0f921"
            ]
           ]
          },
          "colorway": [
           "#636efa",
           "#EF553B",
           "#00cc96",
           "#ab63fa",
           "#FFA15A",
           "#19d3f3",
           "#FF6692",
           "#B6E880",
           "#FF97FF",
           "#FECB52"
          ],
          "font": {
           "color": "#2a3f5f"
          },
          "geo": {
           "bgcolor": "white",
           "lakecolor": "white",
           "landcolor": "#E5ECF6",
           "showlakes": true,
           "showland": true,
           "subunitcolor": "white"
          },
          "hoverlabel": {
           "align": "left"
          },
          "hovermode": "closest",
          "mapbox": {
           "style": "light"
          },
          "paper_bgcolor": "white",
          "plot_bgcolor": "#E5ECF6",
          "polar": {
           "angularaxis": {
            "gridcolor": "white",
            "linecolor": "white",
            "ticks": ""
           },
           "bgcolor": "#E5ECF6",
           "radialaxis": {
            "gridcolor": "white",
            "linecolor": "white",
            "ticks": ""
           }
          },
          "scene": {
           "xaxis": {
            "backgroundcolor": "#E5ECF6",
            "gridcolor": "white",
            "gridwidth": 2,
            "linecolor": "white",
            "showbackground": true,
            "ticks": "",
            "zerolinecolor": "white"
           },
           "yaxis": {
            "backgroundcolor": "#E5ECF6",
            "gridcolor": "white",
            "gridwidth": 2,
            "linecolor": "white",
            "showbackground": true,
            "ticks": "",
            "zerolinecolor": "white"
           },
           "zaxis": {
            "backgroundcolor": "#E5ECF6",
            "gridcolor": "white",
            "gridwidth": 2,
            "linecolor": "white",
            "showbackground": true,
            "ticks": "",
            "zerolinecolor": "white"
           }
          },
          "shapedefaults": {
           "line": {
            "color": "#2a3f5f"
           }
          },
          "ternary": {
           "aaxis": {
            "gridcolor": "white",
            "linecolor": "white",
            "ticks": ""
           },
           "baxis": {
            "gridcolor": "white",
            "linecolor": "white",
            "ticks": ""
           },
           "bgcolor": "#E5ECF6",
           "caxis": {
            "gridcolor": "white",
            "linecolor": "white",
            "ticks": ""
           }
          },
          "title": {
           "x": 0.05
          },
          "xaxis": {
           "automargin": true,
           "gridcolor": "white",
           "linecolor": "white",
           "ticks": "",
           "title": {
            "standoff": 15
           },
           "zerolinecolor": "white",
           "zerolinewidth": 2
          },
          "yaxis": {
           "automargin": true,
           "gridcolor": "white",
           "linecolor": "white",
           "ticks": "",
           "title": {
            "standoff": 15
           },
           "zerolinecolor": "white",
           "zerolinewidth": 2
          }
         }
        },
        "title": {
         "text": "BENEFICIOS TOTALES POR COMPAÑIA"
        },
        "width": 900
       },
       "_py2js_addTraces": {},
       "_py2js_animate": {},
       "_py2js_deleteTraces": {},
       "_py2js_moveTraces": {},
       "_py2js_removeTraceProps": {},
       "_py2js_restyle": {},
       "_view_count": 0
      }
     },
     "e475acb0b36c46289d63f2ebe6f92a7f": {
      "buffers": [
       {
        "data": "XMFxlrU7t8A=",
        "encoding": "base64",
        "path": [
         "_data",
         0,
         "y",
         "value"
        ]
       },
       {
        "data": "un9ziDoSwEACZrMMAJrAQCaTdYnAmMhAlH64zTWdyEBsJsv/6wjMQMCG8hrKI85AGsRf31xZ1EDlqMkmK9HhQE3v0Fb9XORA",
        "encoding": "base64",
        "path": [
         "_data",
         1,
         "y",
         "value"
        ]
       }
      ],
      "model_module": "plotlywidget",
      "model_module_version": "^4.14.3",
      "model_name": "FigureModel",
      "state": {
       "_config": {
        "plotlyServerURL": "https://plotly.com"
       },
       "_data": [
        {
         "hovertemplate": "%{y:$.0f}<extra></extra>",
         "marker": {
          "color": "rgba(255, 0, 0, 0.5)",
          "line": {
           "color": "rgb (255, 0, 0)",
           "width": 1.5
          }
         },
         "name": "Rojo",
         "type": "bar",
         "uid": "b7dc3685-b052-4f7a-a16c-1e6166feca78",
         "width": 0.5,
         "x": [
          "INDUSTRIAS ALES"
         ],
         "y": {
          "dtype": "float64",
          "shape": [
           1
          ],
          "value": {}
         }
        },
        {
         "hovertemplate": "%{y:$.0f}<extra></extra>",
         "marker": {
          "color": "rgba(0, 255, 0, 0.5)",
          "line": {
           "color": "rgb (0, 255, 0)",
           "width": 1.5
          }
         },
         "name": "Verde",
         "type": "bar",
         "uid": "2e1608bd-98aa-45b1-ab6d-c2915f0e47a7",
         "width": 0.5,
         "x": [
          "CORPORACION FAVORITA",
          "HOTEL COLON",
          "BANCO PRODUBANCO",
          "SOCIEDAD AGRICOLA E IND. SAN CARLOS",
          "BANCO PICHINCHA",
          "INVERSANCARLOS",
          "BANCO BOLIVARIANO",
          "CERVECERIA NACIONAL CN S.A.",
          "CRIDESA"
         ],
         "y": {
          "dtype": "float64",
          "shape": [
           9
          ],
          "value": {}
         }
        }
       ],
       "_js2py_relayout": {},
       "_js2py_restyle": {},
       "_js2py_update": {},
       "_last_layout_edit_id": 3,
       "_last_trace_edit_id": 3,
       "_layout": {
        "height": 600,
        "showlegend": false,
        "template": {
         "data": {
          "bar": [
           {
            "error_x": {
             "color": "#2a3f5f"
            },
            "error_y": {
             "color": "#2a3f5f"
            },
            "marker": {
             "line": {
              "color": "#E5ECF6",
              "width": 0.5
             }
            },
            "type": "bar"
           }
          ],
          "barpolar": [
           {
            "marker": {
             "line": {
              "color": "#E5ECF6",
              "width": 0.5
             }
            },
            "type": "barpolar"
           }
          ],
          "carpet": [
           {
            "aaxis": {
             "endlinecolor": "#2a3f5f",
             "gridcolor": "white",
             "linecolor": "white",
             "minorgridcolor": "white",
             "startlinecolor": "#2a3f5f"
            },
            "baxis": {
             "endlinecolor": "#2a3f5f",
             "gridcolor": "white",
             "linecolor": "white",
             "minorgridcolor": "white",
             "startlinecolor": "#2a3f5f"
            },
            "type": "carpet"
           }
          ],
          "choropleth": [
           {
            "colorbar": {
             "outlinewidth": 0,
             "ticks": ""
            },
            "type": "choropleth"
           }
          ],
          "contour": [
           {
            "colorbar": {
             "outlinewidth": 0,
             "ticks": ""
            },
            "colorscale": [
             [
              0,
              "#0d0887"
             ],
             [
              0.1111111111111111,
              "#46039f"
             ],
             [
              0.2222222222222222,
              "#7201a8"
             ],
             [
              0.3333333333333333,
              "#9c179e"
             ],
             [
              0.4444444444444444,
              "#bd3786"
             ],
             [
              0.5555555555555556,
              "#d8576b"
             ],
             [
              0.6666666666666666,
              "#ed7953"
             ],
             [
              0.7777777777777778,
              "#fb9f3a"
             ],
             [
              0.8888888888888888,
              "#fdca26"
             ],
             [
              1,
              "#f0f921"
             ]
            ],
            "type": "contour"
           }
          ],
          "contourcarpet": [
           {
            "colorbar": {
             "outlinewidth": 0,
             "ticks": ""
            },
            "type": "contourcarpet"
           }
          ],
          "heatmap": [
           {
            "colorbar": {
             "outlinewidth": 0,
             "ticks": ""
            },
            "colorscale": [
             [
              0,
              "#0d0887"
             ],
             [
              0.1111111111111111,
              "#46039f"
             ],
             [
              0.2222222222222222,
              "#7201a8"
             ],
             [
              0.3333333333333333,
              "#9c179e"
             ],
             [
              0.4444444444444444,
              "#bd3786"
             ],
             [
              0.5555555555555556,
              "#d8576b"
             ],
             [
              0.6666666666666666,
              "#ed7953"
             ],
             [
              0.7777777777777778,
              "#fb9f3a"
             ],
             [
              0.8888888888888888,
              "#fdca26"
             ],
             [
              1,
              "#f0f921"
             ]
            ],
            "type": "heatmap"
           }
          ],
          "heatmapgl": [
           {
            "colorbar": {
             "outlinewidth": 0,
             "ticks": ""
            },
            "colorscale": [
             [
              0,
              "#0d0887"
             ],
             [
              0.1111111111111111,
              "#46039f"
             ],
             [
              0.2222222222222222,
              "#7201a8"
             ],
             [
              0.3333333333333333,
              "#9c179e"
             ],
             [
              0.4444444444444444,
              "#bd3786"
             ],
             [
              0.5555555555555556,
              "#d8576b"
             ],
             [
              0.6666666666666666,
              "#ed7953"
             ],
             [
              0.7777777777777778,
              "#fb9f3a"
             ],
             [
              0.8888888888888888,
              "#fdca26"
             ],
             [
              1,
              "#f0f921"
             ]
            ],
            "type": "heatmapgl"
           }
          ],
          "histogram": [
           {
            "marker": {
             "colorbar": {
              "outlinewidth": 0,
              "ticks": ""
             }
            },
            "type": "histogram"
           }
          ],
          "histogram2d": [
           {
            "colorbar": {
             "outlinewidth": 0,
             "ticks": ""
            },
            "colorscale": [
             [
              0,
              "#0d0887"
             ],
             [
              0.1111111111111111,
              "#46039f"
             ],
             [
              0.2222222222222222,
              "#7201a8"
             ],
             [
              0.3333333333333333,
              "#9c179e"
             ],
             [
              0.4444444444444444,
              "#bd3786"
             ],
             [
              0.5555555555555556,
              "#d8576b"
             ],
             [
              0.6666666666666666,
              "#ed7953"
             ],
             [
              0.7777777777777778,
              "#fb9f3a"
             ],
             [
              0.8888888888888888,
              "#fdca26"
             ],
             [
              1,
              "#f0f921"
             ]
            ],
            "type": "histogram2d"
           }
          ],
          "histogram2dcontour": [
           {
            "colorbar": {
             "outlinewidth": 0,
             "ticks": ""
            },
            "colorscale": [
             [
              0,
              "#0d0887"
             ],
             [
              0.1111111111111111,
              "#46039f"
             ],
             [
              0.2222222222222222,
              "#7201a8"
             ],
             [
              0.3333333333333333,
              "#9c179e"
             ],
             [
              0.4444444444444444,
              "#bd3786"
             ],
             [
              0.5555555555555556,
              "#d8576b"
             ],
             [
              0.6666666666666666,
              "#ed7953"
             ],
             [
              0.7777777777777778,
              "#fb9f3a"
             ],
             [
              0.8888888888888888,
              "#fdca26"
             ],
             [
              1,
              "#f0f921"
             ]
            ],
            "type": "histogram2dcontour"
           }
          ],
          "mesh3d": [
           {
            "colorbar": {
             "outlinewidth": 0,
             "ticks": ""
            },
            "type": "mesh3d"
           }
          ],
          "parcoords": [
           {
            "line": {
             "colorbar": {
              "outlinewidth": 0,
              "ticks": ""
             }
            },
            "type": "parcoords"
           }
          ],
          "pie": [
           {
            "automargin": true,
            "type": "pie"
           }
          ],
          "scatter": [
           {
            "marker": {
             "colorbar": {
              "outlinewidth": 0,
              "ticks": ""
             }
            },
            "type": "scatter"
           }
          ],
          "scatter3d": [
           {
            "line": {
             "colorbar": {
              "outlinewidth": 0,
              "ticks": ""
             }
            },
            "marker": {
             "colorbar": {
              "outlinewidth": 0,
              "ticks": ""
             }
            },
            "type": "scatter3d"
           }
          ],
          "scattercarpet": [
           {
            "marker": {
             "colorbar": {
              "outlinewidth": 0,
              "ticks": ""
             }
            },
            "type": "scattercarpet"
           }
          ],
          "scattergeo": [
           {
            "marker": {
             "colorbar": {
              "outlinewidth": 0,
              "ticks": ""
             }
            },
            "type": "scattergeo"
           }
          ],
          "scattergl": [
           {
            "marker": {
             "colorbar": {
              "outlinewidth": 0,
              "ticks": ""
             }
            },
            "type": "scattergl"
           }
          ],
          "scattermapbox": [
           {
            "marker": {
             "colorbar": {
              "outlinewidth": 0,
              "ticks": ""
             }
            },
            "type": "scattermapbox"
           }
          ],
          "scatterpolar": [
           {
            "marker": {
             "colorbar": {
              "outlinewidth": 0,
              "ticks": ""
             }
            },
            "type": "scatterpolar"
           }
          ],
          "scatterpolargl": [
           {
            "marker": {
             "colorbar": {
              "outlinewidth": 0,
              "ticks": ""
             }
            },
            "type": "scatterpolargl"
           }
          ],
          "scatterternary": [
           {
            "marker": {
             "colorbar": {
              "outlinewidth": 0,
              "ticks": ""
             }
            },
            "type": "scatterternary"
           }
          ],
          "surface": [
           {
            "colorbar": {
             "outlinewidth": 0,
             "ticks": ""
            },
            "colorscale": [
             [
              0,
              "#0d0887"
             ],
             [
              0.1111111111111111,
              "#46039f"
             ],
             [
              0.2222222222222222,
              "#7201a8"
             ],
             [
              0.3333333333333333,
              "#9c179e"
             ],
             [
              0.4444444444444444,
              "#bd3786"
             ],
             [
              0.5555555555555556,
              "#d8576b"
             ],
             [
              0.6666666666666666,
              "#ed7953"
             ],
             [
              0.7777777777777778,
              "#fb9f3a"
             ],
             [
              0.8888888888888888,
              "#fdca26"
             ],
             [
              1,
              "#f0f921"
             ]
            ],
            "type": "surface"
           }
          ],
          "table": [
           {
            "cells": {
             "fill": {
              "color": "#EBF0F8"
             },
             "line": {
              "color": "white"
             }
            },
            "header": {
             "fill": {
              "color": "#C8D4E3"
             },
             "line": {
              "color": "white"
             }
            },
            "type": "table"
           }
          ]
         },
         "layout": {
          "annotationdefaults": {
           "arrowcolor": "#2a3f5f",
           "arrowhead": 0,
           "arrowwidth": 1
          },
          "autotypenumbers": "strict",
          "coloraxis": {
           "colorbar": {
            "outlinewidth": 0,
            "ticks": ""
           }
          },
          "colorscale": {
           "diverging": [
            [
             0,
             "#8e0152"
            ],
            [
             0.1,
             "#c51b7d"
            ],
            [
             0.2,
             "#de77ae"
            ],
            [
             0.3,
             "#f1b6da"
            ],
            [
             0.4,
             "#fde0ef"
            ],
            [
             0.5,
             "#f7f7f7"
            ],
            [
             0.6,
             "#e6f5d0"
            ],
            [
             0.7,
             "#b8e186"
            ],
            [
             0.8,
             "#7fbc41"
            ],
            [
             0.9,
             "#4d9221"
            ],
            [
             1,
             "#276419"
            ]
           ],
           "sequential": [
            [
             0,
             "#0d0887"
            ],
            [
             0.1111111111111111,
             "#46039f"
            ],
            [
             0.2222222222222222,
             "#7201a8"
            ],
            [
             0.3333333333333333,
             "#9c179e"
            ],
            [
             0.4444444444444444,
             "#bd3786"
            ],
            [
             0.5555555555555556,
             "#d8576b"
            ],
            [
             0.6666666666666666,
             "#ed7953"
            ],
            [
             0.7777777777777778,
             "#fb9f3a"
            ],
            [
             0.8888888888888888,
             "#fdca26"
            ],
            [
             1,
             "#f0f921"
            ]
           ],
           "sequentialminus": [
            [
             0,
             "#0d0887"
            ],
            [
             0.1111111111111111,
             "#46039f"
            ],
            [
             0.2222222222222222,
             "#7201a8"
            ],
            [
             0.3333333333333333,
             "#9c179e"
            ],
            [
             0.4444444444444444,
             "#bd3786"
            ],
            [
             0.5555555555555556,
             "#d8576b"
            ],
            [
             0.6666666666666666,
             "#ed7953"
            ],
            [
             0.7777777777777778,
             "#fb9f3a"
            ],
            [
             0.8888888888888888,
             "#fdca26"
            ],
            [
             1,
             "#f0f921"
            ]
           ]
          },
          "colorway": [
           "#636efa",
           "#EF553B",
           "#00cc96",
           "#ab63fa",
           "#FFA15A",
           "#19d3f3",
           "#FF6692",
           "#B6E880",
           "#FF97FF",
           "#FECB52"
          ],
          "font": {
           "color": "#2a3f5f"
          },
          "geo": {
           "bgcolor": "white",
           "lakecolor": "white",
           "landcolor": "#E5ECF6",
           "showlakes": true,
           "showland": true,
           "subunitcolor": "white"
          },
          "hoverlabel": {
           "align": "left"
          },
          "hovermode": "closest",
          "mapbox": {
           "style": "light"
          },
          "paper_bgcolor": "white",
          "plot_bgcolor": "#E5ECF6",
          "polar": {
           "angularaxis": {
            "gridcolor": "white",
            "linecolor": "white",
            "ticks": ""
           },
           "bgcolor": "#E5ECF6",
           "radialaxis": {
            "gridcolor": "white",
            "linecolor": "white",
            "ticks": ""
           }
          },
          "scene": {
           "xaxis": {
            "backgroundcolor": "#E5ECF6",
            "gridcolor": "white",
            "gridwidth": 2,
            "linecolor": "white",
            "showbackground": true,
            "ticks": "",
            "zerolinecolor": "white"
           },
           "yaxis": {
            "backgroundcolor": "#E5ECF6",
            "gridcolor": "white",
            "gridwidth": 2,
            "linecolor": "white",
            "showbackground": true,
            "ticks": "",
            "zerolinecolor": "white"
           },
           "zaxis": {
            "backgroundcolor": "#E5ECF6",
            "gridcolor": "white",
            "gridwidth": 2,
            "linecolor": "white",
            "showbackground": true,
            "ticks": "",
            "zerolinecolor": "white"
           }
          },
          "shapedefaults": {
           "line": {
            "color": "#2a3f5f"
           }
          },
          "ternary": {
           "aaxis": {
            "gridcolor": "white",
            "linecolor": "white",
            "ticks": ""
           },
           "baxis": {
            "gridcolor": "white",
            "linecolor": "white",
            "ticks": ""
           },
           "bgcolor": "#E5ECF6",
           "caxis": {
            "gridcolor": "white",
            "linecolor": "white",
            "ticks": ""
           }
          },
          "title": {
           "x": 0.05
          },
          "xaxis": {
           "automargin": true,
           "gridcolor": "white",
           "linecolor": "white",
           "ticks": "",
           "title": {
            "standoff": 15
           },
           "zerolinecolor": "white",
           "zerolinewidth": 2
          },
          "yaxis": {
           "automargin": true,
           "gridcolor": "white",
           "linecolor": "white",
           "ticks": "",
           "title": {
            "standoff": 15
           },
           "zerolinecolor": "white",
           "zerolinewidth": 2
          }
         }
        },
        "title": {
         "text": "BENEFICIOS TOTALES POR COMPAÑIA"
        },
        "width": 900
       },
       "_py2js_addTraces": {},
       "_py2js_animate": {},
       "_py2js_deleteTraces": {},
       "_py2js_moveTraces": {},
       "_py2js_removeTraceProps": {},
       "_py2js_restyle": {},
       "_view_count": 0
      }
     },
     "f142778185694f1f937c97f748956c25": {
      "buffers": [
       {
        "data": "XMFxlrU7t8A=",
        "encoding": "base64",
        "path": [
         "_data",
         0,
         "y",
         "value"
        ]
       },
       {
        "data": "un9ziDoSwEACZrMMAJrAQCaTdYnAmMhAlH64zTWdyEBsJsv/6wjMQMCG8hrKI85AGsRf31xZ1EDlqMkmK9HhQE3v0Fb9XORA",
        "encoding": "base64",
        "path": [
         "_data",
         1,
         "y",
         "value"
        ]
       }
      ],
      "model_module": "plotlywidget",
      "model_module_version": "^4.14.3",
      "model_name": "FigureModel",
      "state": {
       "_config": {
        "plotlyServerURL": "https://plotly.com"
       },
       "_data": [
        {
         "hovertemplate": "%{y:$.0f}<extra></extra>",
         "marker": {
          "color": "rgba(255, 0, 0, 0.5)",
          "line": {
           "color": "rgb (255, 0, 0)",
           "width": 1.5
          }
         },
         "name": "Rojo",
         "type": "bar",
         "uid": "12f96a50-e760-4b49-9f74-dd7f7739128e",
         "width": 0.5,
         "x": [
          "INDUSTRIAS ALES"
         ],
         "y": {
          "dtype": "float64",
          "shape": [
           1
          ],
          "value": {}
         }
        },
        {
         "hovertemplate": "%{y:$.0f}<extra></extra>",
         "marker": {
          "color": "rgba(0, 255, 0, 0.5)",
          "line": {
           "color": "rgb (0, 255, 0)",
           "width": 1.5
          }
         },
         "name": "Verde",
         "type": "bar",
         "uid": "922745fb-0226-4994-a3a8-7f0b783b9673",
         "width": 0.5,
         "x": [
          "CORPORACION FAVORITA",
          "HOTEL COLON",
          "BANCO PRODUBANCO",
          "SOCIEDAD AGRICOLA E IND. SAN CARLOS",
          "BANCO PICHINCHA",
          "INVERSANCARLOS",
          "BANCO BOLIVARIANO",
          "CERVECERIA NACIONAL CN S.A.",
          "CRIDESA"
         ],
         "y": {
          "dtype": "float64",
          "shape": [
           9
          ],
          "value": {}
         }
        }
       ],
       "_js2py_relayout": {},
       "_js2py_restyle": {},
       "_js2py_update": {},
       "_last_layout_edit_id": 3,
       "_last_trace_edit_id": 3,
       "_layout": {
        "height": 600,
        "showlegend": false,
        "template": {
         "data": {
          "bar": [
           {
            "error_x": {
             "color": "#2a3f5f"
            },
            "error_y": {
             "color": "#2a3f5f"
            },
            "marker": {
             "line": {
              "color": "#E5ECF6",
              "width": 0.5
             }
            },
            "type": "bar"
           }
          ],
          "barpolar": [
           {
            "marker": {
             "line": {
              "color": "#E5ECF6",
              "width": 0.5
             }
            },
            "type": "barpolar"
           }
          ],
          "carpet": [
           {
            "aaxis": {
             "endlinecolor": "#2a3f5f",
             "gridcolor": "white",
             "linecolor": "white",
             "minorgridcolor": "white",
             "startlinecolor": "#2a3f5f"
            },
            "baxis": {
             "endlinecolor": "#2a3f5f",
             "gridcolor": "white",
             "linecolor": "white",
             "minorgridcolor": "white",
             "startlinecolor": "#2a3f5f"
            },
            "type": "carpet"
           }
          ],
          "choropleth": [
           {
            "colorbar": {
             "outlinewidth": 0,
             "ticks": ""
            },
            "type": "choropleth"
           }
          ],
          "contour": [
           {
            "colorbar": {
             "outlinewidth": 0,
             "ticks": ""
            },
            "colorscale": [
             [
              0,
              "#0d0887"
             ],
             [
              0.1111111111111111,
              "#46039f"
             ],
             [
              0.2222222222222222,
              "#7201a8"
             ],
             [
              0.3333333333333333,
              "#9c179e"
             ],
             [
              0.4444444444444444,
              "#bd3786"
             ],
             [
              0.5555555555555556,
              "#d8576b"
             ],
             [
              0.6666666666666666,
              "#ed7953"
             ],
             [
              0.7777777777777778,
              "#fb9f3a"
             ],
             [
              0.8888888888888888,
              "#fdca26"
             ],
             [
              1,
              "#f0f921"
             ]
            ],
            "type": "contour"
           }
          ],
          "contourcarpet": [
           {
            "colorbar": {
             "outlinewidth": 0,
             "ticks": ""
            },
            "type": "contourcarpet"
           }
          ],
          "heatmap": [
           {
            "colorbar": {
             "outlinewidth": 0,
             "ticks": ""
            },
            "colorscale": [
             [
              0,
              "#0d0887"
             ],
             [
              0.1111111111111111,
              "#46039f"
             ],
             [
              0.2222222222222222,
              "#7201a8"
             ],
             [
              0.3333333333333333,
              "#9c179e"
             ],
             [
              0.4444444444444444,
              "#bd3786"
             ],
             [
              0.5555555555555556,
              "#d8576b"
             ],
             [
              0.6666666666666666,
              "#ed7953"
             ],
             [
              0.7777777777777778,
              "#fb9f3a"
             ],
             [
              0.8888888888888888,
              "#fdca26"
             ],
             [
              1,
              "#f0f921"
             ]
            ],
            "type": "heatmap"
           }
          ],
          "heatmapgl": [
           {
            "colorbar": {
             "outlinewidth": 0,
             "ticks": ""
            },
            "colorscale": [
             [
              0,
              "#0d0887"
             ],
             [
              0.1111111111111111,
              "#46039f"
             ],
             [
              0.2222222222222222,
              "#7201a8"
             ],
             [
              0.3333333333333333,
              "#9c179e"
             ],
             [
              0.4444444444444444,
              "#bd3786"
             ],
             [
              0.5555555555555556,
              "#d8576b"
             ],
             [
              0.6666666666666666,
              "#ed7953"
             ],
             [
              0.7777777777777778,
              "#fb9f3a"
             ],
             [
              0.8888888888888888,
              "#fdca26"
             ],
             [
              1,
              "#f0f921"
             ]
            ],
            "type": "heatmapgl"
           }
          ],
          "histogram": [
           {
            "marker": {
             "colorbar": {
              "outlinewidth": 0,
              "ticks": ""
             }
            },
            "type": "histogram"
           }
          ],
          "histogram2d": [
           {
            "colorbar": {
             "outlinewidth": 0,
             "ticks": ""
            },
            "colorscale": [
             [
              0,
              "#0d0887"
             ],
             [
              0.1111111111111111,
              "#46039f"
             ],
             [
              0.2222222222222222,
              "#7201a8"
             ],
             [
              0.3333333333333333,
              "#9c179e"
             ],
             [
              0.4444444444444444,
              "#bd3786"
             ],
             [
              0.5555555555555556,
              "#d8576b"
             ],
             [
              0.6666666666666666,
              "#ed7953"
             ],
             [
              0.7777777777777778,
              "#fb9f3a"
             ],
             [
              0.8888888888888888,
              "#fdca26"
             ],
             [
              1,
              "#f0f921"
             ]
            ],
            "type": "histogram2d"
           }
          ],
          "histogram2dcontour": [
           {
            "colorbar": {
             "outlinewidth": 0,
             "ticks": ""
            },
            "colorscale": [
             [
              0,
              "#0d0887"
             ],
             [
              0.1111111111111111,
              "#46039f"
             ],
             [
              0.2222222222222222,
              "#7201a8"
             ],
             [
              0.3333333333333333,
              "#9c179e"
             ],
             [
              0.4444444444444444,
              "#bd3786"
             ],
             [
              0.5555555555555556,
              "#d8576b"
             ],
             [
              0.6666666666666666,
              "#ed7953"
             ],
             [
              0.7777777777777778,
              "#fb9f3a"
             ],
             [
              0.8888888888888888,
              "#fdca26"
             ],
             [
              1,
              "#f0f921"
             ]
            ],
            "type": "histogram2dcontour"
           }
          ],
          "mesh3d": [
           {
            "colorbar": {
             "outlinewidth": 0,
             "ticks": ""
            },
            "type": "mesh3d"
           }
          ],
          "parcoords": [
           {
            "line": {
             "colorbar": {
              "outlinewidth": 0,
              "ticks": ""
             }
            },
            "type": "parcoords"
           }
          ],
          "pie": [
           {
            "automargin": true,
            "type": "pie"
           }
          ],
          "scatter": [
           {
            "marker": {
             "colorbar": {
              "outlinewidth": 0,
              "ticks": ""
             }
            },
            "type": "scatter"
           }
          ],
          "scatter3d": [
           {
            "line": {
             "colorbar": {
              "outlinewidth": 0,
              "ticks": ""
             }
            },
            "marker": {
             "colorbar": {
              "outlinewidth": 0,
              "ticks": ""
             }
            },
            "type": "scatter3d"
           }
          ],
          "scattercarpet": [
           {
            "marker": {
             "colorbar": {
              "outlinewidth": 0,
              "ticks": ""
             }
            },
            "type": "scattercarpet"
           }
          ],
          "scattergeo": [
           {
            "marker": {
             "colorbar": {
              "outlinewidth": 0,
              "ticks": ""
             }
            },
            "type": "scattergeo"
           }
          ],
          "scattergl": [
           {
            "marker": {
             "colorbar": {
              "outlinewidth": 0,
              "ticks": ""
             }
            },
            "type": "scattergl"
           }
          ],
          "scattermapbox": [
           {
            "marker": {
             "colorbar": {
              "outlinewidth": 0,
              "ticks": ""
             }
            },
            "type": "scattermapbox"
           }
          ],
          "scatterpolar": [
           {
            "marker": {
             "colorbar": {
              "outlinewidth": 0,
              "ticks": ""
             }
            },
            "type": "scatterpolar"
           }
          ],
          "scatterpolargl": [
           {
            "marker": {
             "colorbar": {
              "outlinewidth": 0,
              "ticks": ""
             }
            },
            "type": "scatterpolargl"
           }
          ],
          "scatterternary": [
           {
            "marker": {
             "colorbar": {
              "outlinewidth": 0,
              "ticks": ""
             }
            },
            "type": "scatterternary"
           }
          ],
          "surface": [
           {
            "colorbar": {
             "outlinewidth": 0,
             "ticks": ""
            },
            "colorscale": [
             [
              0,
              "#0d0887"
             ],
             [
              0.1111111111111111,
              "#46039f"
             ],
             [
              0.2222222222222222,
              "#7201a8"
             ],
             [
              0.3333333333333333,
              "#9c179e"
             ],
             [
              0.4444444444444444,
              "#bd3786"
             ],
             [
              0.5555555555555556,
              "#d8576b"
             ],
             [
              0.6666666666666666,
              "#ed7953"
             ],
             [
              0.7777777777777778,
              "#fb9f3a"
             ],
             [
              0.8888888888888888,
              "#fdca26"
             ],
             [
              1,
              "#f0f921"
             ]
            ],
            "type": "surface"
           }
          ],
          "table": [
           {
            "cells": {
             "fill": {
              "color": "#EBF0F8"
             },
             "line": {
              "color": "white"
             }
            },
            "header": {
             "fill": {
              "color": "#C8D4E3"
             },
             "line": {
              "color": "white"
             }
            },
            "type": "table"
           }
          ]
         },
         "layout": {
          "annotationdefaults": {
           "arrowcolor": "#2a3f5f",
           "arrowhead": 0,
           "arrowwidth": 1
          },
          "autotypenumbers": "strict",
          "coloraxis": {
           "colorbar": {
            "outlinewidth": 0,
            "ticks": ""
           }
          },
          "colorscale": {
           "diverging": [
            [
             0,
             "#8e0152"
            ],
            [
             0.1,
             "#c51b7d"
            ],
            [
             0.2,
             "#de77ae"
            ],
            [
             0.3,
             "#f1b6da"
            ],
            [
             0.4,
             "#fde0ef"
            ],
            [
             0.5,
             "#f7f7f7"
            ],
            [
             0.6,
             "#e6f5d0"
            ],
            [
             0.7,
             "#b8e186"
            ],
            [
             0.8,
             "#7fbc41"
            ],
            [
             0.9,
             "#4d9221"
            ],
            [
             1,
             "#276419"
            ]
           ],
           "sequential": [
            [
             0,
             "#0d0887"
            ],
            [
             0.1111111111111111,
             "#46039f"
            ],
            [
             0.2222222222222222,
             "#7201a8"
            ],
            [
             0.3333333333333333,
             "#9c179e"
            ],
            [
             0.4444444444444444,
             "#bd3786"
            ],
            [
             0.5555555555555556,
             "#d8576b"
            ],
            [
             0.6666666666666666,
             "#ed7953"
            ],
            [
             0.7777777777777778,
             "#fb9f3a"
            ],
            [
             0.8888888888888888,
             "#fdca26"
            ],
            [
             1,
             "#f0f921"
            ]
           ],
           "sequentialminus": [
            [
             0,
             "#0d0887"
            ],
            [
             0.1111111111111111,
             "#46039f"
            ],
            [
             0.2222222222222222,
             "#7201a8"
            ],
            [
             0.3333333333333333,
             "#9c179e"
            ],
            [
             0.4444444444444444,
             "#bd3786"
            ],
            [
             0.5555555555555556,
             "#d8576b"
            ],
            [
             0.6666666666666666,
             "#ed7953"
            ],
            [
             0.7777777777777778,
             "#fb9f3a"
            ],
            [
             0.8888888888888888,
             "#fdca26"
            ],
            [
             1,
             "#f0f921"
            ]
           ]
          },
          "colorway": [
           "#636efa",
           "#EF553B",
           "#00cc96",
           "#ab63fa",
           "#FFA15A",
           "#19d3f3",
           "#FF6692",
           "#B6E880",
           "#FF97FF",
           "#FECB52"
          ],
          "font": {
           "color": "#2a3f5f"
          },
          "geo": {
           "bgcolor": "white",
           "lakecolor": "white",
           "landcolor": "#E5ECF6",
           "showlakes": true,
           "showland": true,
           "subunitcolor": "white"
          },
          "hoverlabel": {
           "align": "left"
          },
          "hovermode": "closest",
          "mapbox": {
           "style": "light"
          },
          "paper_bgcolor": "white",
          "plot_bgcolor": "#E5ECF6",
          "polar": {
           "angularaxis": {
            "gridcolor": "white",
            "linecolor": "white",
            "ticks": ""
           },
           "bgcolor": "#E5ECF6",
           "radialaxis": {
            "gridcolor": "white",
            "linecolor": "white",
            "ticks": ""
           }
          },
          "scene": {
           "xaxis": {
            "backgroundcolor": "#E5ECF6",
            "gridcolor": "white",
            "gridwidth": 2,
            "linecolor": "white",
            "showbackground": true,
            "ticks": "",
            "zerolinecolor": "white"
           },
           "yaxis": {
            "backgroundcolor": "#E5ECF6",
            "gridcolor": "white",
            "gridwidth": 2,
            "linecolor": "white",
            "showbackground": true,
            "ticks": "",
            "zerolinecolor": "white"
           },
           "zaxis": {
            "backgroundcolor": "#E5ECF6",
            "gridcolor": "white",
            "gridwidth": 2,
            "linecolor": "white",
            "showbackground": true,
            "ticks": "",
            "zerolinecolor": "white"
           }
          },
          "shapedefaults": {
           "line": {
            "color": "#2a3f5f"
           }
          },
          "ternary": {
           "aaxis": {
            "gridcolor": "white",
            "linecolor": "white",
            "ticks": ""
           },
           "baxis": {
            "gridcolor": "white",
            "linecolor": "white",
            "ticks": ""
           },
           "bgcolor": "#E5ECF6",
           "caxis": {
            "gridcolor": "white",
            "linecolor": "white",
            "ticks": ""
           }
          },
          "title": {
           "x": 0.05
          },
          "xaxis": {
           "automargin": true,
           "gridcolor": "white",
           "linecolor": "white",
           "ticks": "",
           "title": {
            "standoff": 15
           },
           "zerolinecolor": "white",
           "zerolinewidth": 2
          },
          "yaxis": {
           "automargin": true,
           "gridcolor": "white",
           "linecolor": "white",
           "ticks": "",
           "title": {
            "standoff": 15
           },
           "zerolinecolor": "white",
           "zerolinewidth": 2
          }
         }
        },
        "title": {
         "text": "BENEFICIOS TOTALES POR COMPAÑIA"
        },
        "width": 900
       },
       "_py2js_addTraces": {},
       "_py2js_animate": {},
       "_py2js_deleteTraces": {},
       "_py2js_moveTraces": {},
       "_py2js_removeTraceProps": {},
       "_py2js_restyle": {},
       "_view_count": 1
      }
     }
    },
    "version_major": 2,
    "version_minor": 0
   }
  }
 },
 "nbformat": 4,
 "nbformat_minor": 4
}
